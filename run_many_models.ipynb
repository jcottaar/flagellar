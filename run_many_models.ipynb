{
 "cells": [
  {
   "cell_type": "code",
   "execution_count": 1,
   "id": "2a837d78-5dff-48d9-9753-37e382d9f7b6",
   "metadata": {},
   "outputs": [
    {
     "name": "stdout",
     "output_type": "stream",
     "text": [
      "MainProcess\n"
     ]
    }
   ],
   "source": [
    "import sys\n",
    "sys.path.append('d:/flagellar/code/core')\n",
    "sys.path.append('/flagellar/code/core/')\n",
    "sys.path.append('/kaggle/input/my-flagellar-library/')\n",
    "import flg_support as fls\n",
    "import flg_runner\n",
    "import importlib\n",
    "import flg_model\n",
    "import numpy as np\n",
    "import matplotlib.pyplot as plt\n",
    "import time\n",
    "import copy\n",
    "import os\n",
    "import itertools\n",
    "import glob\n",
    "\n",
    "fast_mode = (fls.env=='local')\n",
    "clear_data = False\n",
    "local_mode = False\n",
    "which_set = 0"
   ]
  },
  {
   "cell_type": "code",
   "execution_count": 2,
   "id": "ee156f6e-b2e1-423b-becd-381c3151b98a",
   "metadata": {},
   "outputs": [],
   "source": [
    "# # Prepare datasets\n",
    "if which_set == 0:\n",
    "    dataset_str = ''\n",
    "else:\n",
    "    dataset_str = '-'+str(which_set+1)\n",
    "fls.download_kaggle_dataset('jeroencottaar/byu-many-models' +dataset_str+ '/', fls.result_dir + '/many_full/', skip_download=clear_data)\n",
    "fls.download_kaggle_dataset('jeroencottaar/byu-many-models-abbreviated' +dataset_str+ '/', fls.result_dir + '/many_abbr/', skip_download=clear_data)"
   ]
  },
  {
   "cell_type": "code",
   "execution_count": null,
   "id": "8e81947e-e1cc-441f-b2a8-1559d632d8d5",
   "metadata": {},
   "outputs": [
    {
     "name": "stdout",
     "output_type": "stream",
     "text": [
      "Starting seed  0\n",
      "Skipping\n",
      "Starting seed  1\n",
      "Skipping\n",
      "Starting seed  2\n",
      "Skipping\n",
      "Starting seed  3\n",
      "Skipping\n",
      "Starting seed  4\n",
      "Skipping\n",
      "Starting seed  5\n",
      "Skipping\n",
      "Starting seed  6\n",
      "1910 21\n",
      "40 21\n",
      "range:  4\n",
      "{'seed': 6, 'concentration': 1, 'extra_data': True, 'trust_neg': 1, 'trust_extra': 2, 'negative_label_threshold': 0.6171635434906669, 'target_voxel_spacing': 21.84533619897689, 'blur_xy': 26.234902967636472, 'blur_z': 15.0, 'scale_moving_std': True, 'scale_moving_average_size': 2853, 'scale_moving_std_size_fac': 1.1649817276927292, 'blur_xy_moving_std': 40.795059669841336, 'clip_value': 2.62297237488719, 'scale_percentile_value': 2.1034584639675504, 'img_size': 608, 'box_size': 28, 'use_best_epoch': False, 'lr0': 0.0006361482286307327, 'cos_lr': True, 'lrf': 0.09522863564785684, 'dropout': 0.08270030258190536, 'weight_decay': 2.8850092201527896e-05, 'momentum': 0.925297570648279, 'warmup_epochs': 5, 'box': 6.974529708833241, 'model_name': 'yolov10s', 'use_pretrained_weights': False, 'mosaic_mode': 0.6274679337030739, 'translate': 0.0, 'scale': 0.3152177115372403, 'mixup': 0.09945358254829473, 'erasing': 0.3037866307289341, 'hsv_h': 0.00809785806516654, 'hsv_s': 0.07481605499832972, 'hsv_v': 0.3464744314059504, 'fliplr': 0.0, 'flipud': 0.0, 'degrees': 10.0, 'absolute_threshold': False, 'distance_threshold': 14.180541658838901, 'z_range': 4, 'adjust_voxel_scale': 0.9816542806344508, 'adjust_clip_value': 1.0235482675031227, 'adjust_blur_xy': 1.2822934912844863, 'adjust_blur_z': 0.0}\n",
      "ratio:  0.9523809523809523\n",
      "0.83\n",
      "Starting seed  7\n",
      "1910 21\n",
      "40 21\n",
      "{'seed': 7, 'concentration': 1, 'extra_data': True, 'trust_neg': 2, 'trust_extra': 3, 'negative_label_threshold': 0.6448606900484788, 'target_voxel_spacing': 23.878428451225968, 'blur_xy': 21.756215699717757, 'blur_z': 0.0, 'scale_moving_std': True, 'scale_moving_average_size': 3825, 'scale_moving_std_size_fac': 1.4106142091913831, 'blur_xy_moving_std': 47.824165725122775, 'clip_value': 2.967934952843721, 'scale_percentile_value': 2.6060648536386273, 'img_size': 480, 'box_size': 19, 'use_best_epoch': False, 'lr0': 0.0007978988425232656, 'cos_lr': True, 'lrf': 0.02786610735321622, 'dropout': 0.050454825895795335, 'weight_decay': 0.0005973001700606355, 'momentum': 0.9487064767685501, 'warmup_epochs': 3, 'box': 6.177627303044069, 'model_name': 'yolov8m', 'use_pretrained_weights': False, 'mosaic_mode': 0.21530869823559895, 'translate': 0.0, 'scale': 0.4643888614955608, 'mixup': 0.008788401592276673, 'erasing': 0.014272111509438457, 'hsv_h': 0.007723332304070554, 'hsv_s': 0.32634421772770233, 'hsv_v': 0.36686710927714095, 'fliplr': 0.5, 'flipud': 0.5, 'degrees': 0.0, 'absolute_threshold': False, 'distance_threshold': 10.117940255425058, 'z_range': -1, 'adjust_voxel_scale': 1.0768128483527357, 'adjust_clip_value': 0.8203640343921971, 'adjust_blur_xy': 0.9217217863613241, 'adjust_blur_z': 0.0}\n"
     ]
    }
   ],
   "source": [
    "#fls.profiling=True\n",
    "import git \n",
    "repo = git.Repo(search_parent_directories=True)\n",
    "git_commit_id = repo.head.object.hexsha\n",
    "for i in itertools.count(start=0+1000*which_set):\n",
    "    print('Starting seed ', i)\n",
    "    r = flg_runner.baseline_runner(fast_mode=fast_mode, local_mode = local_mode)\n",
    "    # if single_settings:\n",
    "    #     r.use_missing_value = True\n",
    "    #     r.modifier_dict['n_ensemble'].missing_value = 1\n",
    "    #     r.modifier_dict['scale_percentile_value'].missing_value = 3.\n",
    "    #     r.modifier_dict['scale_std_clip_value'].missing_value = 2.\n",
    "    #     r.modifier_dict['n_epochs'].missing_value = 50\n",
    "    #     r.modifier_dict['use_best_epoch'].missing_value = False\n",
    "    #     r.modifier_dict['model_name'].missing_value = 'yolov9s'\n",
    "    #     r.modifier_dict['fix_norm_bug'].missing_value = True\n",
    "    #     r.modifier_dict['alternative_slice_selection'].missing_value = True\n",
    "    #     r.modifier_dict['negative_slice_ratio'].missing_value = 0.1\n",
    "    #     r.modifier_dict['ratio_of_motors_allowed'].missing_value = 0.5\n",
    "    #r.use_missing_value = True\n",
    "    # r.label = 'Test ensemble'\n",
    "    # r.modifier_dict = dict()\n",
    "    # r.modifier_dict['n_ensemble'] = flg_runner.pm(1, lambda r:(r.integers(4,5)).item(), flg_runner.yolo)    \n",
    "    # r.base_model = flg_model.ThreeStepModelLabelBased()\n",
    "    # r.base_model.train_data_selector.datasets = ['tom']\n",
    "    # r.base_model.run_in_parallel = False\n",
    "    # if fast_mode: r.base_model.step1Labels.n_epochs = 1\n",
    "    r.git_commit_id = git_commit_id\n",
    "    r.env = fls.env\n",
    "    r.seed = i\n",
    "    #r.base_model.train_data_selector.datasets = 'tom'\n",
    "    #r.base_model.run_in_parallel = False\n",
    "    if local_mode:\n",
    "        assert not r.use_missing_value\n",
    "        base_filename = r.label + '_' + str(r.seed) + 'L_' + git_commit_id[:8]   \n",
    "    elif r.use_missing_value:\n",
    "        base_filename = r.label + '_' + str(r.seed) + 'M_' + git_commit_id[:8]   \n",
    "    else:\n",
    "        base_filename = r.label + '_' + str(r.seed) + '_' + git_commit_id[:8]   \n",
    "    if len(glob.glob(fls.result_dir + '/many_full/' + base_filename + '*'))>=1:\n",
    "         print('Skipping')\n",
    "         continue\n",
    "    r.run()\n",
    "\n",
    "    score_str = str(r.cv_score[2])[2:5]\n",
    "    print(str(r.cv_score)[1:5])\n",
    "    output_file_full = fls.result_dir + '/many_full/' + base_filename + '_' + score_str +' _f.pickle'\n",
    "    output_file_abbr = fls.result_dir + '/many_abbr/' + base_filename + '_' + score_str +' _a.pickle'\n",
    "    \n",
    "    fls.dill_save(output_file_full, r)\n",
    "    r.trained_model = 0\n",
    "    fls.dill_save(output_file_abbr, r)\n",
    "    if not fast_mode and fls.env=='vast':\n",
    "       fls.upload_kaggle_dataset(fls.result_dir + '/many_full/')\n",
    "       fls.upload_kaggle_dataset(fls.result_dir + '/many_abbr/')"
   ]
  },
  {
   "cell_type": "code",
   "execution_count": null,
   "id": "045b13f8-4f88-4d49-8267-8b4c25b32559",
   "metadata": {},
   "outputs": [],
   "source": []
  },
  {
   "cell_type": "code",
   "execution_count": null,
   "id": "9f1c0ca1-77c9-416f-a638-0f6f835d46fa",
   "metadata": {},
   "outputs": [],
   "source": []
  }
 ],
 "metadata": {
  "kaggle": {
   "accelerator": "nvidiaTeslaT4",
   "dataSources": [
    {
     "databundleVersionId": 11294684,
     "isSourceIdPinned": false,
     "sourceId": 91249,
     "sourceType": "competition"
    },
    {
     "datasetId": 6925042,
     "sourceId": 11204341,
     "sourceType": "datasetVersion"
    },
    {
     "datasetId": 6949538,
     "sourceId": 11204343,
     "sourceType": "datasetVersion"
    },
    {
     "sourceId": 211097053,
     "sourceType": "kernelVersion"
    },
    {
     "sourceId": 229283084,
     "sourceType": "kernelVersion"
    }
   ],
   "dockerImageVersionId": 30919,
   "isGpuEnabled": true,
   "isInternetEnabled": false,
   "language": "python",
   "sourceType": "notebook"
  },
  "kernelspec": {
   "display_name": "Python 3 (ipykernel)",
   "language": "python",
   "name": "python3"
  },
  "language_info": {
   "codemirror_mode": {
    "name": "ipython",
    "version": 3
   },
   "file_extension": ".py",
   "mimetype": "text/x-python",
   "name": "python",
   "nbconvert_exporter": "python",
   "pygments_lexer": "ipython3",
   "version": "3.10.14"
  }
 },
 "nbformat": 4,
 "nbformat_minor": 5
}
