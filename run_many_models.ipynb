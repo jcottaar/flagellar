{
 "cells": [
  {
   "cell_type": "code",
   "execution_count": 1,
   "id": "2a837d78-5dff-48d9-9753-37e382d9f7b6",
   "metadata": {},
   "outputs": [
    {
     "name": "stdout",
     "output_type": "stream",
     "text": [
      "MainProcess\n"
     ]
    }
   ],
   "source": [
    "import sys\n",
    "sys.path.append('d:/flagellar/code/core')\n",
    "sys.path.append('/flagellar/code/core/')\n",
    "sys.path.append('/kaggle/input/my-flagellar-library/')\n",
    "import flg_support as fls\n",
    "import flg_runner\n",
    "import importlib\n",
    "import flg_model\n",
    "import numpy as np\n",
    "import matplotlib.pyplot as plt\n",
    "import time\n",
    "import copy\n",
    "import os\n",
    "import itertools\n",
    "import glob\n",
    "\n",
    "fast_mode = (fls.env=='local')\n",
    "clear_data = False"
   ]
  },
  {
   "cell_type": "code",
   "execution_count": 2,
   "id": "ee156f6e-b2e1-423b-becd-381c3151b98a",
   "metadata": {},
   "outputs": [],
   "source": [
    "# Prepare datasets\n",
    "if fls.env=='vast':\n",
    "    if not fast_mode:\n",
    "        fls.download_kaggle_dataset('jeroencottaar/byu-many-models/', fls.result_dir + '/many_full/', skip_download=clear_data)\n",
    "        fls.download_kaggle_dataset('jeroencottaar/byu-many-models-abbreviated/', fls.result_dir + '/many_abbr/', skip_download=clear_data)\n",
    "    else:\n",
    "        if clear_data:\n",
    "            fls.remove_and_make_dir(fls.result_dir + '/many_full/')\n",
    "            fls.remove_and_make_dir(fls.result_dir + '/many_abbr/')"
   ]
  },
  {
   "cell_type": "code",
   "execution_count": null,
   "id": "8e81947e-e1cc-441f-b2a8-1559d632d8d5",
   "metadata": {},
   "outputs": [
    {
     "name": "stdout",
     "output_type": "stream",
     "text": [
      "Starting seed  0\n",
      "1919 13\n",
      "30 13\n",
      "{'seed': 0, 'n_ensemble': 3, 'scale_approach': 2, 'scale_percentile_value': 3.5395734275277406, 'moving_ratio': 0.10819470478723894, 'scale_std_clip_value': 2.0165276355285293, 'blur_z': 1, 'img_size': 768, 'lr0': 0.0013833894890430641, 'use_best_epoch': False, 'model_name': 'yolov8m', 'use_pretrained_weights': True, 'box_size': 25, 'trust': 3, 'multi_scale_training': False, 'fix_norm_bug': True, 'weight_decay': 0.0005144425659525416, 'hsv_h': 0.0, 'hsv_s': 0.7, 'hsv_v': 0.0, 'translate': 0.1, 'scale': 0.0, 'fliplr': 0.5, 'flipud': 0.5, 'degrees': 0.0, 'shear': 0.0, 'mosaic': 1.0, 'mixup': 0.2, 'erasing': 0.4, 'use_albumentations': False, 'include_multi_motor': True, 'alternative_slice_selection': True, 'tom': True, 'mba': False, 'aba': False, 'ycw': False}\n",
      "0.25\n",
      "Starting seed  1\n",
      "1919 13\n",
      "30 13\n",
      "{'seed': 1, 'n_ensemble': 2, 'scale_approach': 2, 'scale_percentile_value': 4.90092739265187, 'moving_ratio': 0.12883192254392675, 'scale_std_clip_value': 2.9486494471372438, 'blur_z': 1, 'img_size': 576, 'lr0': 0.00033818789709258375, 'use_best_epoch': False, 'model_name': 'yolov9s', 'use_pretrained_weights': True, 'box_size': 23, 'trust': 1, 'multi_scale_training': False, 'fix_norm_bug': True, 'weight_decay': 0.00019783902989945528, 'hsv_h': 0.015, 'hsv_s': 0.7, 'hsv_v': 0.4, 'translate': 0.0, 'scale': 0.0, 'fliplr': 0.5, 'flipud': 0.5, 'degrees': 0.0, 'shear': 0.0, 'mosaic': 1.0, 'mixup': 0.2, 'erasing': 0.4, 'use_albumentations': True, 'include_multi_motor': True, 'alternative_slice_selection': False, 'tom': True, 'mba': True, 'aba': False, 'ycw': False}\n",
      "0.4,\n",
      "Starting seed  2\n",
      "1919 13\n",
      "30 13\n",
      "{'seed': 2, 'n_ensemble': 3, 'scale_approach': 1, 'scale_percentile_value': 3.5969822868282466, 'moving_ratio': 0.26284514811885606, 'scale_std_clip_value': 2.091915942135097, 'blur_z': 3, 'img_size': 704, 'lr0': 0.0008141429350435619, 'use_best_epoch': False, 'model_name': 'yolov8m', 'use_pretrained_weights': True, 'box_size': 20, 'trust': 2, 'multi_scale_training': False, 'fix_norm_bug': True, 'weight_decay': 0.00025957847448287226, 'hsv_h': 0.015, 'hsv_s': 0.7, 'hsv_v': 0.4, 'translate': 0.1, 'scale': 0.0, 'fliplr': 0.5, 'flipud': 0.0, 'degrees': 0.0, 'shear': 0.0, 'mosaic': 1.0, 'mixup': 0.2, 'erasing': 0.4, 'use_albumentations': True, 'include_multi_motor': True, 'alternative_slice_selection': True, 'tom': True, 'mba': False, 'aba': False, 'ycw': True}\n",
      "0.4,\n",
      "Starting seed  3\n",
      "1919 13\n",
      "30 13\n",
      "{'seed': 3, 'n_ensemble': 3, 'scale_approach': 0, 'scale_percentile_value': 3.4736210131921994, 'moving_ratio': 0.26025489304127936, 'scale_std_clip_value': 2.582162036064368, 'blur_z': 1, 'img_size': 512, 'lr0': 0.0003478633502423548, 'use_best_epoch': False, 'model_name': 'yolov9s', 'use_pretrained_weights': True, 'box_size': 21, 'trust': 1, 'multi_scale_training': False, 'fix_norm_bug': True, 'weight_decay': 0.0002583768122485067, 'hsv_h': 0.015, 'hsv_s': 0.7, 'hsv_v': 0.4, 'translate': 0.0, 'scale': 0.0, 'fliplr': 0.5, 'flipud': 0.5, 'degrees': 0.0, 'shear': 0.0, 'mosaic': 1.0, 'mixup': 0.2, 'erasing': 0.4, 'use_albumentations': True, 'include_multi_motor': True, 'alternative_slice_selection': True, 'tom': True, 'mba': False, 'aba': False, 'ycw': False}\n",
      "0.5,\n",
      "Starting seed  4\n",
      "1919 13\n",
      "30 13\n",
      "{'seed': 4, 'n_ensemble': 3, 'scale_approach': 3, 'scale_percentile_value': 4.022655105628723, 'moving_ratio': 0.2952487411415408, 'scale_std_clip_value': 2.080836023895602, 'blur_z': 3, 'img_size': 704, 'lr0': 0.00029553452979342334, 'use_best_epoch': False, 'model_name': 'yolov8m', 'use_pretrained_weights': True, 'box_size': 21, 'trust': 2, 'multi_scale_training': False, 'fix_norm_bug': True, 'weight_decay': 0.00025829776663764784, 'hsv_h': 0.015, 'hsv_s': 0.7, 'hsv_v': 0.4, 'translate': 0.1, 'scale': 0.5, 'fliplr': 0.0, 'flipud': 0.5, 'degrees': 0.0, 'shear': 0.0, 'mosaic': 1.0, 'mixup': 0.0, 'erasing': 0.4, 'use_albumentations': False, 'include_multi_motor': True, 'alternative_slice_selection': True, 'tom': True, 'mba': False, 'aba': False, 'ycw': False}\n",
      "0.0,\n",
      "Starting seed  5\n",
      "1919 13\n",
      "30 13\n",
      "{'seed': 5, 'n_ensemble': 3, 'scale_approach': 3, 'scale_percentile_value': 4.615881579472988, 'moving_ratio': 0.20306511220842838, 'scale_std_clip_value': 2.2858013800881416, 'blur_z': 7, 'img_size': 512, 'lr0': 0.00030144709360519634, 'use_best_epoch': False, 'model_name': 'yolov8m', 'use_pretrained_weights': False, 'box_size': 20, 'trust': 1, 'multi_scale_training': False, 'fix_norm_bug': True, 'weight_decay': 0.0002609685313350852, 'hsv_h': 0.015, 'hsv_s': 0.7, 'hsv_v': 0.4, 'translate': 0.0, 'scale': 0.0, 'fliplr': 0.5, 'flipud': 0.0, 'degrees': 0.0, 'shear': 0.0, 'mosaic': 1.0, 'mixup': 0.0, 'erasing': 0.4, 'use_albumentations': True, 'include_multi_motor': True, 'alternative_slice_selection': True, 'tom': True, 'mba': False, 'aba': False, 'ycw': False}\n"
     ]
    }
   ],
   "source": [
    "#fls.profiling=True\n",
    "import git \n",
    "repo = git.Repo(search_parent_directories=True)\n",
    "git_commit_id = repo.head.object.hexsha\n",
    "for i in itertools.count(start=0):\n",
    "    print('Starting seed ', i)\n",
    "    r = flg_runner.baseline_runner(fast_mode=fast_mode)\n",
    "    #r.use_missing_value = True\n",
    "    # r.label = 'Test ensemble'\n",
    "    # r.modifier_dict = dict()\n",
    "    # r.modifier_dict['n_ensemble'] = flg_runner.pm(1, lambda r:(r.integers(4,5)).item(), flg_runner.yolo)    \n",
    "    # r.base_model = flg_model.ThreeStepModelLabelBased()\n",
    "    # r.base_model.train_data_selector.datasets = ['tom']\n",
    "    # r.base_model.run_in_parallel = False\n",
    "    # if fast_mode: r.base_model.step1Labels.n_epochs = 1\n",
    "    r.git_commit_id = git_commit_id\n",
    "    r.env = fls.env\n",
    "    r.seed = i\n",
    "    #r.base_model.train_data_selector.datasets = 'tom'\n",
    "    #r.base_model.run_in_parallel = False\n",
    "    if r.use_missing_value:\n",
    "        base_filename = r.label + '_' + str(r.seed) + 'M_' + git_commit_id[:8]   \n",
    "    else:\n",
    "        base_filename = r.label + '_' + str(r.seed) + '_' + git_commit_id[:8]   \n",
    "        if len(glob.glob(fls.result_dir + '/many_full/' + r.label + '_' + str(r.seed) + '_' + '*'))>=1:\n",
    "            print('Skipping')\n",
    "            continue\n",
    "    r.run()\n",
    "\n",
    "    score_str = str(r.cv_score[2])[2:5]\n",
    "    print(str(r.cv_score)[1:5])\n",
    "    output_file_full = fls.result_dir + '/many_full/' + base_filename + '_' + score_str +' _f.pickle'\n",
    "    output_file_abbr = fls.result_dir + '/many_abbr/' + base_filename + '_' + score_str +' _a.pickle'\n",
    "    \n",
    "    fls.dill_save(output_file_full, r)\n",
    "    r.trained_model = 0\n",
    "    fls.dill_save(output_file_abbr, r)\n",
    "    if not fast_mode and fls.env=='vast':\n",
    "       fls.upload_kaggle_dataset(fls.result_dir + '/many_full/')\n",
    "       fls.upload_kaggle_dataset(fls.result_dir + '/many_abbr/')"
   ]
  }
 ],
 "metadata": {
  "kaggle": {
   "accelerator": "nvidiaTeslaT4",
   "dataSources": [
    {
     "databundleVersionId": 11294684,
     "isSourceIdPinned": false,
     "sourceId": 91249,
     "sourceType": "competition"
    },
    {
     "datasetId": 6925042,
     "sourceId": 11204341,
     "sourceType": "datasetVersion"
    },
    {
     "datasetId": 6949538,
     "sourceId": 11204343,
     "sourceType": "datasetVersion"
    },
    {
     "sourceId": 211097053,
     "sourceType": "kernelVersion"
    },
    {
     "sourceId": 229283084,
     "sourceType": "kernelVersion"
    }
   ],
   "dockerImageVersionId": 30919,
   "isGpuEnabled": true,
   "isInternetEnabled": false,
   "language": "python",
   "sourceType": "notebook"
  },
  "kernelspec": {
   "display_name": "Python 3 (ipykernel)",
   "language": "python",
   "name": "python3"
  },
  "language_info": {
   "codemirror_mode": {
    "name": "ipython",
    "version": 3
   },
   "file_extension": ".py",
   "mimetype": "text/x-python",
   "name": "python",
   "nbconvert_exporter": "python",
   "pygments_lexer": "ipython3",
   "version": "3.10.14"
  }
 },
 "nbformat": 4,
 "nbformat_minor": 5
}
