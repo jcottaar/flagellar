{
 "cells": [
  {
   "cell_type": "code",
   "execution_count": 1,
   "id": "2a837d78-5dff-48d9-9753-37e382d9f7b6",
   "metadata": {},
   "outputs": [
    {
     "name": "stdout",
     "output_type": "stream",
     "text": [
      "MainProcess\n"
     ]
    }
   ],
   "source": [
    "import sys\n",
    "sys.path.append('d:/flagellar/code/core')\n",
    "sys.path.append('/flagellar/code/core/')\n",
    "sys.path.append('/kaggle/input/my-flagellar-library/')\n",
    "import flg_support as fls\n",
    "import flg_runner\n",
    "import importlib\n",
    "import flg_model\n",
    "import numpy as np\n",
    "import matplotlib.pyplot as plt\n",
    "import time\n",
    "import copy\n",
    "import os\n",
    "import itertools\n",
    "import glob\n",
    "\n",
    "fast_mode = True#(fls.env=='local')\n",
    "clear_data = False"
   ]
  },
  {
   "cell_type": "code",
   "execution_count": 2,
   "id": "ee156f6e-b2e1-423b-becd-381c3151b98a",
   "metadata": {},
   "outputs": [],
   "source": [
    "# Prepare datasets\n",
    "if fls.env=='vast':\n",
    "    if not fast_mode:\n",
    "        fls.download_kaggle_dataset('jeroencottaar/byu-many-models/', fls.result_dir + '/many_full/', skip_download=clear_data)\n",
    "        fls.download_kaggle_dataset('jeroencottaar/byu-many-models-abbreviated/', fls.result_dir + '/many_abbr/', skip_download=clear_data)\n",
    "    else:\n",
    "        if clear_data:\n",
    "            fls.remove_and_make_dir(fls.result_dir + '/many_full/')\n",
    "            fls.remove_and_make_dir(fls.result_dir + '/many_abbr/')"
   ]
  },
  {
   "cell_type": "code",
   "execution_count": null,
   "id": "8e81947e-e1cc-441f-b2a8-1559d632d8d5",
   "metadata": {},
   "outputs": [
    {
     "name": "stdout",
     "output_type": "stream",
     "text": [
      "Starting seed  0\n",
      "1918 13\n",
      "30 13\n",
      "{'seed': 0, 'n_ensemble': 3, 'scale_approach': 2, 'scale_percentile_value': 3.5395734275277406, 'moving_ratio': 0.10819470478723894, 'scale_std_clip_value': 2.0165276355285293, 'blur_z': 1, 'img_size': 768, 'lr0': 0.0013833894890430641, 'use_best_epoch': False, 'model_name': 'yolov8m', 'use_pretrained_weights': True, 'box_size': 25, 'trust': 3, 'multi_scale_training': False, 'fix_norm_bug': True, 'weight_decay': 0.0005144425659525416, 'hsv_h': 0.0, 'hsv_s': 0.7, 'hsv_v': 0.0, 'translate': 0.1, 'scale': 0.0, 'fliplr': 0.5, 'flipud': 0.5, 'degrees': 0.0, 'shear': 0.0, 'mosaic': 1.0, 'mixup': 0.2, 'erasing': 0.4, 'use_albumentations': False, 'include_multi_motor': True, 'alternative_slice_selection': True, 'negative_slice_ratio': 0.6504592762678163, 'ratio_of_motors_allowed': 0.553267009585641, 'relative_confidence_threshold': 0.18889214239791038, 'distance_threshold': 3.3860616605100557, 'tom': True, 'mba': False, 'aba': False, 'ycw': False}\n"
     ]
    },
    {
     "name": "stderr",
     "output_type": "stream",
     "text": [
      "\u001b[33mWARNING: Skipping albumentations as it is not installed.\u001b[0m\u001b[33m\n",
      "\u001b[0m\u001b[33mWARNING: Running pip as the 'root' user can result in broken permissions and conflicting behaviour with the system package manager, possibly rendering your system unusable.It is recommended to use a virtual environment instead: https://pip.pypa.io/warnings/venv. Use the --root-user-action option if you know what you are doing and want to suppress this warning.\u001b[0m\u001b[33m\n",
      "\u001b[0m/opt/conda/lib/python3.11/site-packages/cupyx/jit/_interface.py:173: FutureWarning: cupyx.jit.rawkernel is experimental. The interface can change in the future.\n",
      "  cupy._util.experimental('cupyx.jit.rawkernel')\n"
     ]
    },
    {
     "name": "stdout",
     "output_type": "stream",
     "text": [
      "SpawnPoolWorker-1\n",
      "CUDA_VISIBLE_DEVICES= 0\n",
      "CompletedProcess(args=['pip', 'uninstall', '-y', 'albumentations'], returncode=0)\n",
      "  0%|          | 0/11 [00:00<?, ?it/s]\n",
      "Clearing pytorch\n",
      "  0%|          | 0/5 [00:00<?, ?it/s]\n",
      "\n",
      "Preprocessing Complete:\n",
      "- Training data: 11 tomograms, 0 motors, 0 slices\n",
      "- Validation data: 5 tomograms, 0 motors, 0 slices\n",
      "- Dataset directory: /flagellar/temp//yolo_dataset/\n",
      "- YAML configuration: /flagellar/temp//yolo_dataset/dataset.yaml\n",
      "\n",
      "Ready for YOLO training!\n",
      "Starting YOLO training process...\n",
      "Created new YAML at /flagellar/temp/training.yaml\n",
      "Using YAML file: /flagellar/temp/training.yaml\n",
      "YAML contents:\n",
      "names:\n",
      "  0: motor\n",
      "path: /flagellar/temp//yolo_dataset/\n",
      "train: images/train\n",
      "val: images/val\n",
      "\n",
      "\n",
      "Starting YOLO training...\n",
      "WARNING ⚠️ 'crop_fraction' is deprecated and will be removed in in the future.\n",
      "Ultralytics 8.3.118 🚀 Python-3.11.10 torch-2.5.1+cu124 CUDA:0 (NVIDIA GeForce RTX 4090, 24210MiB)\n",
      "\u001b[34m\u001b[1mengine/trainer: \u001b[0mtask=detect, mode=train, model=yolov8m.pt, data=/flagellar/temp/training.yaml, epochs=2, time=None, patience=10, batch=12, imgsz=768, save=True, save_period=5, cache=False, device=None, workers=4, project=/flagellar/temp//yolo_weights/, name=motor_detector, exist_ok=True, pretrained=True, optimizer=AdamW, verbose=True, seed=0, deterministic=True, single_cls=False, rect=False, cos_lr=True, close_mosaic=10, resume=False, amp=True, fraction=1.0, profile=False, freeze=None, multi_scale=False, overlap_mask=True, mask_ratio=4, dropout=0.0, val=True, split=val, save_json=False, conf=None, iou=0.7, max_det=300, half=False, dnn=False, plots=True, source=None, vid_stride=1, stream_buffer=False, visualize=False, augment=True, agnostic_nms=False, classes=None, retina_masks=False, embed=None, show=False, save_frames=False, save_txt=False, save_conf=False, save_crop=False, show_labels=True, show_conf=True, show_boxes=True, line_width=None, format=torchscript, keras=False, optimize=False, int8=False, dynamic=False, simplify=True, opset=None, workspace=None, nms=False, lr0=0.0013833894890430641, lrf=0.01, momentum=0.937, weight_decay=0.0005144425659525416, warmup_epochs=3.0, warmup_momentum=0.8, warmup_bias_lr=0.1, box=7.5, cls=0.5, dfl=1.5, pose=12.0, kobj=1.0, nbs=64, hsv_h=0.0, hsv_s=0.7, hsv_v=0.0, degrees=0.0, translate=0.1, scale=0.0, shear=0.0, perspective=0.0, flipud=0.5, fliplr=0.5, bgr=0.0, mosaic=1.0, mixup=0.2, copy_paste=0.0, copy_paste_mode=flip, auto_augment=None, erasing=0.4, cfg=None, tracker=botsort.yaml, save_dir=/flagellar/temp/yolo_weights/motor_detector\n",
      "Overriding model.yaml nc=80 with nc=1\n",
      "\n",
      "                   from  n    params  module                                       arguments                     \n",
      "  0                  -1  1      1392  ultralytics.nn.modules.conv.Conv             [3, 48, 3, 2]                 \n",
      "  1                  -1  1     41664  ultralytics.nn.modules.conv.Conv             [48, 96, 3, 2]                \n",
      "  2                  -1  2    111360  ultralytics.nn.modules.block.C2f             [96, 96, 2, True]             \n",
      "  3                  -1  1    166272  ultralytics.nn.modules.conv.Conv             [96, 192, 3, 2]               \n",
      "  4                  -1  4    813312  ultralytics.nn.modules.block.C2f             [192, 192, 4, True]           \n",
      "  5                  -1  1    664320  ultralytics.nn.modules.conv.Conv             [192, 384, 3, 2]              \n",
      "  6                  -1  4   3248640  ultralytics.nn.modules.block.C2f             [384, 384, 4, True]           \n",
      "  7                  -1  1   1991808  ultralytics.nn.modules.conv.Conv             [384, 576, 3, 2]              \n",
      "  8                  -1  2   3985920  ultralytics.nn.modules.block.C2f             [576, 576, 2, True]           \n",
      "  9                  -1  1    831168  ultralytics.nn.modules.block.SPPF            [576, 576, 5]                 \n",
      " 10                  -1  1         0  torch.nn.modules.upsampling.Upsample         [None, 2, 'nearest']          \n",
      " 11             [-1, 6]  1         0  ultralytics.nn.modules.conv.Concat           [1]                           \n",
      " 12                  -1  2   1993728  ultralytics.nn.modules.block.C2f             [960, 384, 2]                 \n",
      " 13                  -1  1         0  torch.nn.modules.upsampling.Upsample         [None, 2, 'nearest']          \n",
      " 14             [-1, 4]  1         0  ultralytics.nn.modules.conv.Concat           [1]                           \n",
      " 15                  -1  2    517632  ultralytics.nn.modules.block.C2f             [576, 192, 2]                 \n",
      " 16                  -1  1    332160  ultralytics.nn.modules.conv.Conv             [192, 192, 3, 2]              \n",
      " 17            [-1, 12]  1         0  ultralytics.nn.modules.conv.Concat           [1]                           \n",
      " 18                  -1  2   1846272  ultralytics.nn.modules.block.C2f             [576, 384, 2]                 \n",
      " 19                  -1  1   1327872  ultralytics.nn.modules.conv.Conv             [384, 384, 3, 2]              \n",
      " 20             [-1, 9]  1         0  ultralytics.nn.modules.conv.Concat           [1]                           \n",
      " 21                  -1  2   4207104  ultralytics.nn.modules.block.C2f             [960, 576, 2]                 \n",
      " 22        [15, 18, 21]  1   3776275  ultralytics.nn.modules.head.Detect           [1, [192, 384, 576]]          \n"
     ]
    }
   ],
   "source": [
    "#fls.profiling=True\n",
    "import git \n",
    "repo = git.Repo(search_parent_directories=True)\n",
    "git_commit_id = repo.head.object.hexsha\n",
    "for i in itertools.count(start=0):\n",
    "    print('Starting seed ', i)\n",
    "    r = flg_runner.baseline_runner(fast_mode=fast_mode)\n",
    "    #r.use_missing_value = True\n",
    "    # r.label = 'Test ensemble'\n",
    "    # r.modifier_dict = dict()\n",
    "    # r.modifier_dict['n_ensemble'] = flg_runner.pm(1, lambda r:(r.integers(4,5)).item(), flg_runner.yolo)    \n",
    "    # r.base_model = flg_model.ThreeStepModelLabelBased()\n",
    "    # r.base_model.train_data_selector.datasets = ['tom']\n",
    "    # r.base_model.run_in_parallel = False\n",
    "    # if fast_mode: r.base_model.step1Labels.n_epochs = 1\n",
    "    r.git_commit_id = git_commit_id\n",
    "    r.env = fls.env\n",
    "    r.seed = i\n",
    "    #r.base_model.train_data_selector.datasets = 'tom'\n",
    "    #r.base_model.run_in_parallel = False\n",
    "    if r.use_missing_value:\n",
    "        base_filename = r.label + '_' + str(r.seed) + 'M_' + git_commit_id[:8]   \n",
    "    else:\n",
    "        base_filename = r.label + '_' + str(r.seed) + '_' + git_commit_id[:8]   \n",
    "        # if len(glob.glob(fls.result_dir + '/many_full/' + r.label + '_' + str(r.seed) + '_' + '*'))>=1:\n",
    "        #     print('Skipping')\n",
    "        #     continue\n",
    "    r.run()\n",
    "\n",
    "    score_str = str(r.cv_score[2])[2:5]\n",
    "    print(str(r.cv_score)[1:5])\n",
    "    output_file_full = fls.result_dir + '/many_full/' + base_filename + '_' + score_str +' _f.pickle'\n",
    "    output_file_abbr = fls.result_dir + '/many_abbr/' + base_filename + '_' + score_str +' _a.pickle'\n",
    "    \n",
    "    fls.dill_save(output_file_full, r)\n",
    "    r.trained_model = 0\n",
    "    fls.dill_save(output_file_abbr, r)\n",
    "    if not fast_mode and fls.env=='vast':\n",
    "       fls.upload_kaggle_dataset(fls.result_dir + '/many_full/')\n",
    "       fls.upload_kaggle_dataset(fls.result_dir + '/many_abbr/')"
   ]
  }
 ],
 "metadata": {
  "kaggle": {
   "accelerator": "nvidiaTeslaT4",
   "dataSources": [
    {
     "databundleVersionId": 11294684,
     "isSourceIdPinned": false,
     "sourceId": 91249,
     "sourceType": "competition"
    },
    {
     "datasetId": 6925042,
     "sourceId": 11204341,
     "sourceType": "datasetVersion"
    },
    {
     "datasetId": 6949538,
     "sourceId": 11204343,
     "sourceType": "datasetVersion"
    },
    {
     "sourceId": 211097053,
     "sourceType": "kernelVersion"
    },
    {
     "sourceId": 229283084,
     "sourceType": "kernelVersion"
    }
   ],
   "dockerImageVersionId": 30919,
   "isGpuEnabled": true,
   "isInternetEnabled": false,
   "language": "python",
   "sourceType": "notebook"
  },
  "kernelspec": {
   "display_name": "Python 3 (ipykernel)",
   "language": "python",
   "name": "python3"
  },
  "language_info": {
   "codemirror_mode": {
    "name": "ipython",
    "version": 3
   },
   "file_extension": ".py",
   "mimetype": "text/x-python",
   "name": "python",
   "nbconvert_exporter": "python",
   "pygments_lexer": "ipython3",
   "version": "3.11.10"
  }
 },
 "nbformat": 4,
 "nbformat_minor": 5
}
