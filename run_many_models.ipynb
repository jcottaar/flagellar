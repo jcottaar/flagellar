{
 "cells": [
  {
   "cell_type": "code",
   "execution_count": 2,
   "id": "2a837d78-5dff-48d9-9753-37e382d9f7b6",
   "metadata": {},
   "outputs": [
    {
     "name": "stdout",
     "output_type": "stream",
     "text": [
      "MainProcess\n",
      "MainProcess\n"
     ]
    },
    {
     "data": {
      "text/plain": [
       "<module 'flg_support' from 'd:\\\\flagellar/code/core\\\\flg_support.py'>"
      ]
     },
     "execution_count": 2,
     "metadata": {},
     "output_type": "execute_result"
    }
   ],
   "source": [
    "import sys\n",
    "sys.path.append('d:/flagellar/code/core')\n",
    "sys.path.append('/flagellar/code/core/')\n",
    "sys.path.append('/kaggle/input/my-flagellar-library/')\n",
    "import flg_support as fls\n",
    "import flg_runner\n",
    "import importlib\n",
    "import numpy as np\n",
    "import matplotlib.pyplot as plt\n",
    "import time\n",
    "import copy\n",
    "import os\n",
    "import itertools\n",
    "\n",
    "fast_mode = False\n",
    "importlib.reload(fls)"
   ]
  },
  {
   "cell_type": "code",
   "execution_count": 3,
   "id": "ee156f6e-b2e1-423b-becd-381c3151b98a",
   "metadata": {},
   "outputs": [],
   "source": [
    "# Prepare datasets\n",
    "fls.download_kaggle_dataset('jeroencottaar/byu-many-models/', fls.result_dir + '/many_full/')\n",
    "fls.download_kaggle_dataset('jeroencottaar/byu-many-models-abbreviated/', fls.result_dir + '/many_abbr/')"
   ]
  },
  {
   "cell_type": "code",
   "execution_count": null,
   "id": "e9c70ac9-1bc6-4ffe-a3aa-cf2d6cbeba1c",
   "metadata": {},
   "outputs": [
    {
     "name": "stdout",
     "output_type": "stream",
     "text": [
      "hi\n",
      "hi\n",
      "(400,) (327,)\n",
      "{'seed': 2, 'scale_percentile_value': 2.0464485369972656, 'img_size': 320, 'model_name': 'yolov8m', 'box_size': 22, 'trust': 4, 'fix_norm_bug': False, 'weight_decay': 0.000600100525965654, 'hsv_h': 0.0, 'hsv_s': 0.0, 'hsv_v': 0.0, 'translate': 0.1, 'scale': 0.4602031104129148, 'fliplr': 0.0, 'flipud': 0.5, 'degrees': 0, 'shear': 0.0, 'mosaic': 1.0, 'mixup': 0.2, 'erasing': 0.4, 'use_albumentations': False}\n"
     ]
    }
   ],
   "source": [
    "importlib.reload(flg_runner)\n",
    "import git \n",
    "repo = git.Repo(search_parent_directories=True)\n",
    "git_commit_id = repo.head.object.hexsha\n",
    "for i in itertools.count():\n",
    "    r = flg_runner.baseline_runner(fast_mode=fast_mode)\n",
    "    r.git_commit_id = git_commit_id\n",
    "    r.seed = i\n",
    "    base_filename = r.label + '_' + str(r.seed) + '_' + git_commit_id[:8]\n",
    "    output_file_full = fls.result_dir + '/many_full/' + base_filename + '_f.pickle'\n",
    "    output_file_abbr = fls.result_dir + '/many_abbr/' + base_filename + '_a.pickle'\n",
    "    if os.path.isfile(output_file_full):\n",
    "        continue\n",
    "    r.run()\n",
    "    fls.dill_save(output_file_full, r)\n",
    "    r.trained_model = 0\n",
    "    fls.dill_save(output_file_abbr, r)\n",
    "    fls.upload_kaggle_dataset(fls.result_dir + '/many_full/')\n",
    "    fls.upload_kaggle_dataset(fls.result_dir + '/many_abbr/')"
   ]
  },
  {
   "cell_type": "code",
   "execution_count": null,
   "id": "1132e155-7926-4b92-b859-11f63079b829",
   "metadata": {},
   "outputs": [],
   "source": []
  }
 ],
 "metadata": {
  "kaggle": {
   "accelerator": "nvidiaTeslaT4",
   "dataSources": [
    {
     "databundleVersionId": 11294684,
     "isSourceIdPinned": false,
     "sourceId": 91249,
     "sourceType": "competition"
    },
    {
     "datasetId": 6925042,
     "sourceId": 11204341,
     "sourceType": "datasetVersion"
    },
    {
     "datasetId": 6949538,
     "sourceId": 11204343,
     "sourceType": "datasetVersion"
    },
    {
     "sourceId": 211097053,
     "sourceType": "kernelVersion"
    },
    {
     "sourceId": 229283084,
     "sourceType": "kernelVersion"
    }
   ],
   "dockerImageVersionId": 30919,
   "isGpuEnabled": true,
   "isInternetEnabled": false,
   "language": "python",
   "sourceType": "notebook"
  },
  "kernelspec": {
   "display_name": "Python 3 (ipykernel)",
   "language": "python",
   "name": "python3"
  },
  "language_info": {
   "codemirror_mode": {
    "name": "ipython",
    "version": 3
   },
   "file_extension": ".py",
   "mimetype": "text/x-python",
   "name": "python",
   "nbconvert_exporter": "python",
   "pygments_lexer": "ipython3",
   "version": "3.10.14"
  }
 },
 "nbformat": 4,
 "nbformat_minor": 5
}
