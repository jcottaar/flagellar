{
 "cells": [
  {
   "cell_type": "code",
   "execution_count": 1,
   "id": "2a837d78-5dff-48d9-9753-37e382d9f7b6",
   "metadata": {},
   "outputs": [
    {
     "name": "stdout",
     "output_type": "stream",
     "text": [
      "MainProcess\n"
     ]
    }
   ],
   "source": [
    "import sys\n",
    "sys.path.append('d:/flagellar/code/core')\n",
    "sys.path.append('/flagellar/code/core/')\n",
    "sys.path.append('/kaggle/input/my-flagellar-library/')\n",
    "import flg_support as fls\n",
    "import flg_runner\n",
    "import importlib\n",
    "import flg_model\n",
    "import numpy as np\n",
    "import matplotlib.pyplot as plt\n",
    "import time\n",
    "import copy\n",
    "import os\n",
    "import itertools\n",
    "import glob\n",
    "\n",
    "fast_mode = False#(fls.env=='local')\n",
    "clear_data = False"
   ]
  },
  {
   "cell_type": "code",
   "execution_count": 2,
   "id": "ee156f6e-b2e1-423b-becd-381c3151b98a",
   "metadata": {},
   "outputs": [],
   "source": [
    "# Prepare datasets\n",
    "# if not fast_mode:\n",
    "#     fls.download_kaggle_dataset('jeroencottaar/byu-many-models/', fls.result_dir + '/many_full/', skip_download=clear_data)\n",
    "#     fls.download_kaggle_dataset('jeroencottaar/byu-many-models-abbreviated/', fls.result_dir + '/many_abbr/', skip_download=clear_data)\n",
    "# else:\n",
    "#     if clear_data:\n",
    "#         fls.remove_and_make_dir(fls.result_dir + '/many_full/')\n",
    "#         fls.remove_and_make_dir(fls.result_dir + '/many_abbr/')"
   ]
  },
  {
   "cell_type": "code",
   "execution_count": null,
   "id": "e9c70ac9-1bc6-4ffe-a3aa-cf2d6cbeba1c",
   "metadata": {},
   "outputs": [
    {
     "name": "stdout",
     "output_type": "stream",
     "text": [
      "Starting seed  0\n",
      "1582 350\n",
      "1582 350\n",
      "{'seed': 0, 'n_ensemble': 4}\n",
      ".397\n",
      "Starting seed  1\n",
      "1582 350\n",
      "1582 350\n",
      "{'seed': 1, 'n_ensemble': 2}\n",
      ".176\n",
      "Starting seed  2\n",
      "1582 350\n",
      "1582 350\n",
      "{'seed': 2, 'n_ensemble': 4}\n"
     ]
    }
   ],
   "source": [
    "#fls.profiling=True\n",
    "import git \n",
    "repo = git.Repo(search_parent_directories=True)\n",
    "git_commit_id = repo.head.object.hexsha\n",
    "for i in itertools.count(start=0):\n",
    "    print('Starting seed ', i)\n",
    "    r = flg_runner.baseline_runner(fast_mode=fast_mode)\n",
    "    r.label = 'Test ensemble'\n",
    "    r.modifier_dict = dict()\n",
    "    r.modifier_dict['n_ensemble'] = flg_runner.pm(1, lambda r:(r.integers(1,2)).item(), flg_runner.yolo)    \n",
    "    r.base_model = flg_model.TwoStepModel()\n",
    "    r.base_model.data_selector.datasets = ['tom']\n",
    "    if fast_mode: r.base_model.step1Labels.n_epochs = 1\n",
    "    r.git_commit_id = git_commit_id\n",
    "    r.env = fls.env\n",
    "    r.seed = i\n",
    "    #r.base_model.train_data_selector.datasets = 'tom'\n",
    "    #r.base_model.run_in_parallel = False\n",
    "    if r.use_missing_value:\n",
    "        base_filename = r.label + '_' + str(r.seed) + 'M_' + git_commit_id[:8]   \n",
    "    else:\n",
    "        base_filename = r.label + '_' + str(r.seed) + '_' + git_commit_id[:8]   \n",
    "        if len(glob.glob(fls.result_dir + '/many_full/' + r.label + '_' + str(r.seed) + '_' + '*'))>=1:\n",
    "            print('Skipping')\n",
    "            continue\n",
    "    r.run()\n",
    "\n",
    "    score_str = str(r.cv_score)[2:5]\n",
    "    print(str(r.cv_score)[1:5])\n",
    "    output_file_full = fls.result_dir + '/many_full/' + base_filename + '_' + score_str +' _f.pickle'\n",
    "    output_file_abbr = fls.result_dir + '/many_abbr/' + base_filename + '_' + score_str +' _a.pickle'\n",
    "    \n",
    "    fls.dill_save(output_file_full, r)\n",
    "    r.trained_model = 0\n",
    "    fls.dill_save(output_file_abbr, r)\n",
    "    if not fast_mode:\n",
    "        fls.upload_kaggle_dataset(fls.result_dir + '/many_full/')\n",
    "        fls.upload_kaggle_dataset(fls.result_dir + '/many_abbr/')"
   ]
  },
  {
   "cell_type": "code",
   "execution_count": null,
   "id": "92474e53-f4c3-49a3-911d-87c174920df2",
   "metadata": {},
   "outputs": [],
   "source": []
  }
 ],
 "metadata": {
  "kaggle": {
   "accelerator": "nvidiaTeslaT4",
   "dataSources": [
    {
     "databundleVersionId": 11294684,
     "isSourceIdPinned": false,
     "sourceId": 91249,
     "sourceType": "competition"
    },
    {
     "datasetId": 6925042,
     "sourceId": 11204341,
     "sourceType": "datasetVersion"
    },
    {
     "datasetId": 6949538,
     "sourceId": 11204343,
     "sourceType": "datasetVersion"
    },
    {
     "sourceId": 211097053,
     "sourceType": "kernelVersion"
    },
    {
     "sourceId": 229283084,
     "sourceType": "kernelVersion"
    }
   ],
   "dockerImageVersionId": 30919,
   "isGpuEnabled": true,
   "isInternetEnabled": false,
   "language": "python",
   "sourceType": "notebook"
  },
  "kernelspec": {
   "display_name": "Python 3 (ipykernel)",
   "language": "python",
   "name": "python3"
  },
  "language_info": {
   "codemirror_mode": {
    "name": "ipython",
    "version": 3
   },
   "file_extension": ".py",
   "mimetype": "text/x-python",
   "name": "python",
   "nbconvert_exporter": "python",
   "pygments_lexer": "ipython3",
   "version": "3.10.14"
  }
 },
 "nbformat": 4,
 "nbformat_minor": 5
}
