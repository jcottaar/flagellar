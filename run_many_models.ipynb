{
 "cells": [
  {
   "cell_type": "code",
   "execution_count": 1,
   "id": "2a837d78-5dff-48d9-9753-37e382d9f7b6",
   "metadata": {},
   "outputs": [
    {
     "name": "stdout",
     "output_type": "stream",
     "text": [
      "MainProcess\n"
     ]
    }
   ],
   "source": [
    "import sys\n",
    "sys.path.append('d:/flagellar/code/core')\n",
    "sys.path.append('/flagellar/code/core/')\n",
    "sys.path.append('/kaggle/input/my-flagellar-library/')\n",
    "import flg_support as fls\n",
    "import flg_runner\n",
    "import importlib\n",
    "import numpy as np\n",
    "import matplotlib.pyplot as plt\n",
    "import time\n",
    "import copy\n",
    "import os\n",
    "import itertools\n",
    "import glob\n",
    "\n",
    "fast_mode = False#(fls.env=='local')\n",
    "clear_data = False"
   ]
  },
  {
   "cell_type": "code",
   "execution_count": 2,
   "id": "ee156f6e-b2e1-423b-becd-381c3151b98a",
   "metadata": {},
   "outputs": [],
   "source": [
    "# Prepare datasets\n",
    "# if not fast_mode:\n",
    "#     fls.download_kaggle_dataset('jeroencottaar/byu-many-models/', fls.result_dir + '/many_full/', skip_download=clear_data)\n",
    "#     fls.download_kaggle_dataset('jeroencottaar/byu-many-models-abbreviated/', fls.result_dir + '/many_abbr/', skip_download=clear_data)\n",
    "# else:\n",
    "#     if clear_data:\n",
    "#         fls.remove_and_make_dir(fls.result_dir + '/many_full/')\n",
    "#         fls.remove_and_make_dir(fls.result_dir + '/many_abbr/')"
   ]
  },
  {
   "cell_type": "code",
   "execution_count": null,
   "id": "e9c70ac9-1bc6-4ffe-a3aa-cf2d6cbeba1c",
   "metadata": {},
   "outputs": [
    {
     "name": "stdout",
     "output_type": "stream",
     "text": [
      "Starting seed  0\n",
      "1582 350\n",
      "1582 350\n",
      "{'seed': 0, 'scale_percentile_value': 3.5478467492858172, 'img_size': 768, 'n_epochs': 28, 'model_name': 'yolov8m', 'use_pretrained_weights': False, 'box_size': 20, 'trust': 1, 'fix_norm_bug': True, 'weight_decay': 0.000763981465460308, 'hsv_h': 0.015, 'hsv_s': 0.7, 'hsv_v': 0.4, 'translate': 0.1, 'scale': 0.0, 'fliplr': 0.5, 'flipud': 0.0, 'degrees': 0.0, 'shear': 0.0, 'mosaic': 1.0, 'mixup': 0.2, 'erasing': 0.4, 'use_albumentations': False, 'confidence_threshold': 0.45, 'include_multi_motor': False, 'tom': False, 'mba': False, 'aba': False, 'ycw': False}\n",
      "{'seed': 0, 'scale_percentile_value': 2.5347102170475337, 'img_size': 832, 'n_epochs': 33, 'model_name': 'yolo11m', 'use_pretrained_weights': True, 'box_size': 23, 'trust': 4, 'fix_norm_bug': True, 'weight_decay': 0.0008130680383425641, 'hsv_h': 0.015, 'hsv_s': 0.0, 'hsv_v': 0.4, 'translate': 0.1, 'scale': 0.5, 'fliplr': 0.5, 'flipud': 0.5, 'degrees': 0.0, 'shear': 0.0, 'mosaic': 1.0, 'mixup': 0.2, 'erasing': 0.4, 'use_albumentations': False, 'confidence_threshold': 0.45, 'include_multi_motor': True, 'tom': True, 'mba': False, 'aba': False, 'ycw': False}\n",
      "ERROR!\n",
      "multiprocess.pool.RemoteTraceback: \n",
      "\"\"\"\n",
      "Traceback (most recent call last):\n",
      "  File \"C:\\Users\\jeroe\\anaconda3\\envs\\jupyterlab-debugger2\\lib\\site-packages\\multiprocess\\pool.py\", line 125, in worker\n",
      "    result = (True, func(*args, **kwds))\n",
      "  File \"C:\\Users\\jeroe\\anaconda3\\envs\\jupyterlab-debugger2\\lib\\site-packages\\multiprocess\\pool.py\", line 51, in starmapstar\n",
      "    return list(itertools.starmap(args[0], args[1]))\n",
      "  File \"d:\\flagellar/code/core\\flg_support.py\", line 433, in train_parallel\n",
      "    model.train(train_data, validation_data)\n",
      "  File \"d:\\flagellar/code/core\\flg_support.py\", line 498, in train\n",
      "    self._train(train_data, validation_data)\n",
      "  File \"d:\\flagellar/code/core\\flg_yolo.py\", line 396, in _train\n",
      "    model, results = train_yolo_model(\n",
      "  File \"d:\\flagellar/code/core\\flg_yolo.py\", line 336, in train_yolo_model\n",
      "    results = model.train(\n",
      "  File \"C:\\Users\\jeroe\\anaconda3\\envs\\jupyterlab-debugger2\\lib\\site-packages\\ultralytics\\engine\\model.py\", line 791, in train\n",
      "    self.trainer.train()\n",
      "  File \"C:\\Users\\jeroe\\anaconda3\\envs\\jupyterlab-debugger2\\lib\\site-packages\\ultralytics\\engine\\trainer.py\", line 211, in train\n",
      "    self._do_train(world_size)\n",
      "  File \"C:\\Users\\jeroe\\anaconda3\\envs\\jupyterlab-debugger2\\lib\\site-packages\\ultralytics\\engine\\trainer.py\", line 384, in _do_train\n",
      "    self.loss, self.loss_items = self.model(batch)\n",
      "  File \"C:\\Users\\jeroe\\anaconda3\\envs\\jupyterlab-debugger2\\lib\\site-packages\\torch\\nn\\modules\\module.py\", line 1736, in _wrapped_call_impl\n",
      "    return self._call_impl(*args, **kwargs)\n",
      "  File \"C:\\Users\\jeroe\\anaconda3\\envs\\jupyterlab-debugger2\\lib\\site-packages\\torch\\nn\\modules\\module.py\", line 1747, in _call_impl\n",
      "    return forward_call(*args, **kwargs)\n",
      "  File \"C:\\Users\\jeroe\\anaconda3\\envs\\jupyterlab-debugger2\\lib\\site-packages\\ultralytics\\nn\\tasks.py\", line 113, in forward\n",
      "    return self.loss(x, *args, **kwargs)\n",
      "  File \"C:\\Users\\jeroe\\anaconda3\\envs\\jupyterlab-debugger2\\lib\\site-packages\\ultralytics\\nn\\tasks.py\", line 290, in loss\n",
      "    preds = self.forward(batch[\"img\"]) if preds is None else preds\n",
      "  File \"C:\\Users\\jeroe\\anaconda3\\envs\\jupyterlab-debugger2\\lib\\site-packages\\ultralytics\\nn\\tasks.py\", line 114, in forward\n",
      "    return self.predict(x, *args, **kwargs)\n",
      "  File \"C:\\Users\\jeroe\\anaconda3\\envs\\jupyterlab-debugger2\\lib\\site-packages\\ultralytics\\nn\\tasks.py\", line 132, in predict\n",
      "    return self._predict_once(x, profile, visualize, embed)\n",
      "  File \"C:\\Users\\jeroe\\anaconda3\\envs\\jupyterlab-debugger2\\lib\\site-packages\\ultralytics\\nn\\tasks.py\", line 153, in _predict_once\n",
      "    x = m(x)  # run\n",
      "  File \"C:\\Users\\jeroe\\anaconda3\\envs\\jupyterlab-debugger2\\lib\\site-packages\\torch\\nn\\modules\\module.py\", line 1736, in _wrapped_call_impl\n",
      "    return self._call_impl(*args, **kwargs)\n",
      "  File \"C:\\Users\\jeroe\\anaconda3\\envs\\jupyterlab-debugger2\\lib\\site-packages\\torch\\nn\\modules\\module.py\", line 1747, in _call_impl\n",
      "    return forward_call(*args, **kwargs)\n",
      "  File \"C:\\Users\\jeroe\\anaconda3\\envs\\jupyterlab-debugger2\\lib\\site-packages\\ultralytics\\nn\\modules\\head.py\", line 70, in forward\n",
      "    x[i] = torch.cat((self.cv2[i](x[i]), self.cv3[i](x[i])), 1)\n",
      "  File \"C:\\Users\\jeroe\\anaconda3\\envs\\jupyterlab-debugger2\\lib\\site-packages\\torch\\nn\\modules\\module.py\", line 1736, in _wrapped_call_impl\n",
      "    return self._call_impl(*args, **kwargs)\n",
      "  File \"C:\\Users\\jeroe\\anaconda3\\envs\\jupyterlab-debugger2\\lib\\site-packages\\torch\\nn\\modules\\module.py\", line 1747, in _call_impl\n",
      "    return forward_call(*args, **kwargs)\n",
      "  File \"C:\\Users\\jeroe\\anaconda3\\envs\\jupyterlab-debugger2\\lib\\site-packages\\torch\\nn\\modules\\container.py\", line 250, in forward\n",
      "    input = module(input)\n",
      "  File \"C:\\Users\\jeroe\\anaconda3\\envs\\jupyterlab-debugger2\\lib\\site-packages\\torch\\nn\\modules\\module.py\", line 1736, in _wrapped_call_impl\n",
      "    return self._call_impl(*args, **kwargs)\n",
      "  File \"C:\\Users\\jeroe\\anaconda3\\envs\\jupyterlab-debugger2\\lib\\site-packages\\torch\\nn\\modules\\module.py\", line 1747, in _call_impl\n",
      "    return forward_call(*args, **kwargs)\n",
      "  File \"C:\\Users\\jeroe\\anaconda3\\envs\\jupyterlab-debugger2\\lib\\site-packages\\torch\\nn\\modules\\container.py\", line 250, in forward\n",
      "    input = module(input)\n",
      "  File \"C:\\Users\\jeroe\\anaconda3\\envs\\jupyterlab-debugger2\\lib\\site-packages\\torch\\nn\\modules\\module.py\", line 1736, in _wrapped_call_impl\n",
      "    return self._call_impl(*args, **kwargs)\n",
      "  File \"C:\\Users\\jeroe\\anaconda3\\envs\\jupyterlab-debugger2\\lib\\site-packages\\torch\\nn\\modules\\module.py\", line 1747, in _call_impl\n",
      "    return forward_call(*args, **kwargs)\n",
      "  File \"C:\\Users\\jeroe\\anaconda3\\envs\\jupyterlab-debugger2\\lib\\site-packages\\ultralytics\\nn\\modules\\conv.py\", line 79, in forward\n",
      "    return self.act(self.bn(self.conv(x)))\n",
      "  File \"C:\\Users\\jeroe\\anaconda3\\envs\\jupyterlab-debugger2\\lib\\site-packages\\torch\\nn\\modules\\module.py\", line 1736, in _wrapped_call_impl\n",
      "    return self._call_impl(*args, **kwargs)\n",
      "  File \"C:\\Users\\jeroe\\anaconda3\\envs\\jupyterlab-debugger2\\lib\\site-packages\\torch\\nn\\modules\\module.py\", line 1747, in _call_impl\n",
      "    return forward_call(*args, **kwargs)\n",
      "  File \"C:\\Users\\jeroe\\anaconda3\\envs\\jupyterlab-debugger2\\lib\\site-packages\\torch\\nn\\modules\\conv.py\", line 554, in forward\n",
      "    return self._conv_forward(input, self.weight, self.bias)\n",
      "  File \"C:\\Users\\jeroe\\anaconda3\\envs\\jupyterlab-debugger2\\lib\\site-packages\\torch\\nn\\modules\\conv.py\", line 549, in _conv_forward\n",
      "    return F.conv2d(\n",
      "torch.OutOfMemoryError: CUDA out of memory. Tried to allocate 86.00 MiB. GPU 0 has a total capacity of 11.99 GiB of which 0 bytes is free. Of the allocated memory 10.90 GiB is allocated by PyTorch, and 144.44 MiB is reserved by PyTorch but unallocated. If reserved but unallocated memory is large try setting PYTORCH_CUDA_ALLOC_CONF=expandable_segments:True to avoid fragmentation.  See documentation for Memory Management  (https://pytorch.org/docs/stable/notes/cuda.html#environment-variables)\n",
      "\"\"\"\n",
      "\n",
      "The above exception was the direct cause of the following exception:\n",
      "\n",
      "Traceback (most recent call last):\n",
      "  File \"d:\\flagellar/code/core\\flg_runner.py\", line 134, in run\n",
      "    model = model.train_subprocess(self.train_data, self.test_data)\n",
      "  File \"d:\\flagellar/code/core\\flg_support.py\", line 481, in train_subprocess\n",
      "    trained_model = p.starmap(train_parallel, zip([self], [train_data], [validation_data]))[0]\n",
      "  File \"C:\\Users\\jeroe\\anaconda3\\envs\\jupyterlab-debugger2\\lib\\site-packages\\multiprocess\\pool.py\", line 375, in starmap\n",
      "    return self._map_async(func, iterable, starmapstar, chunksize).get()\n",
      "  File \"C:\\Users\\jeroe\\anaconda3\\envs\\jupyterlab-debugger2\\lib\\site-packages\\multiprocess\\pool.py\", line 774, in get\n",
      "    raise self._value\n",
      "torch.OutOfMemoryError: CUDA out of memory. Tried to allocate 86.00 MiB. GPU 0 has a total capacity of 11.99 GiB of which 0 bytes is free. Of the allocated memory 10.90 GiB is allocated by PyTorch, and 144.44 MiB is reserved by PyTorch but unallocated. If reserved but unallocated memory is large try setting PYTORCH_CUDA_ALLOC_CONF=expandable_segments:True to avoid fragmentation.  See documentation for Memory Management  (https://pytorch.org/docs/stable/notes/cuda.html#environment-variables)\n",
      "\n",
      "an\n",
      "Starting seed  1\n",
      "1582 350\n",
      "1582 350\n",
      "{'seed': 1, 'scale_percentile_value': 3.047286498801027, 'img_size': 832, 'n_epochs': 48, 'model_name': 'yolov8m', 'use_pretrained_weights': True, 'box_size': 21, 'trust': 2, 'fix_norm_bug': False, 'weight_decay': 0.0008966215562922651, 'hsv_h': 0.015, 'hsv_s': 0.7, 'hsv_v': 0.0, 'translate': 0.1, 'scale': 0.5, 'fliplr': 0.5, 'flipud': 0.5, 'degrees': 0.0, 'shear': 0.0, 'mosaic': 0.0, 'mixup': 0.2, 'erasing': 0.4, 'use_albumentations': False, 'confidence_threshold': 0.45, 'include_multi_motor': True, 'tom': True, 'mba': False, 'aba': True, 'ycw': True}\n"
     ]
    }
   ],
   "source": [
    "#fls.profiling=True\n",
    "import git \n",
    "repo = git.Repo(search_parent_directories=True)\n",
    "git_commit_id = repo.head.object.hexsha\n",
    "for i in itertools.count(start=0):\n",
    "    print('Starting seed ', i)\n",
    "    r = flg_runner.baseline_runner(fast_mode=fast_mode)\n",
    "    r.git_commit_id = git_commit_id\n",
    "    r.seed = i\n",
    "    #r.base_model.train_data_selector.datasets = 'tom'\n",
    "    #r.base_model.run_in_parallel = False\n",
    "    if r.use_missing_value:\n",
    "        base_filename = r.label + '_' + str(r.seed) + 'M_' + git_commit_id[:8]   \n",
    "    else:\n",
    "        base_filename = r.label + '_' + str(r.seed) + '_' + git_commit_id[:8]   \n",
    "        if len(glob.glob(fls.result_dir + '/many_full/' + r.label + '_' + str(r.seed) + '_' + '*'))>=1:\n",
    "            print('Skipping')\n",
    "            continue\n",
    "    r.run()\n",
    "\n",
    "    score_str = str(r.cv_score)[2:5]\n",
    "    print(str(r.cv_score)[1:5])\n",
    "    output_file_full = fls.result_dir + '/many_full/' + base_filename + '_' + score_str +' _f.pickle'\n",
    "    output_file_abbr = fls.result_dir + '/many_abbr/' + base_filename + '_' + score_str +' _a.pickle'\n",
    "    \n",
    "    fls.dill_save(output_file_full, r)\n",
    "    r.trained_model = 0\n",
    "    fls.dill_save(output_file_abbr, r)\n",
    "    if not fast_mode:\n",
    "        fls.upload_kaggle_dataset(fls.result_dir + '/many_full/')\n",
    "        fls.upload_kaggle_dataset(fls.result_dir + '/many_abbr/')"
   ]
  },
  {
   "cell_type": "code",
   "execution_count": null,
   "id": "92474e53-f4c3-49a3-911d-87c174920df2",
   "metadata": {},
   "outputs": [],
   "source": []
  }
 ],
 "metadata": {
  "kaggle": {
   "accelerator": "nvidiaTeslaT4",
   "dataSources": [
    {
     "databundleVersionId": 11294684,
     "isSourceIdPinned": false,
     "sourceId": 91249,
     "sourceType": "competition"
    },
    {
     "datasetId": 6925042,
     "sourceId": 11204341,
     "sourceType": "datasetVersion"
    },
    {
     "datasetId": 6949538,
     "sourceId": 11204343,
     "sourceType": "datasetVersion"
    },
    {
     "sourceId": 211097053,
     "sourceType": "kernelVersion"
    },
    {
     "sourceId": 229283084,
     "sourceType": "kernelVersion"
    }
   ],
   "dockerImageVersionId": 30919,
   "isGpuEnabled": true,
   "isInternetEnabled": false,
   "language": "python",
   "sourceType": "notebook"
  },
  "kernelspec": {
   "display_name": "Python 3 (ipykernel)",
   "language": "python",
   "name": "python3"
  },
  "language_info": {
   "codemirror_mode": {
    "name": "ipython",
    "version": 3
   },
   "file_extension": ".py",
   "mimetype": "text/x-python",
   "name": "python",
   "nbconvert_exporter": "python",
   "pygments_lexer": "ipython3",
   "version": "3.10.14"
  }
 },
 "nbformat": 4,
 "nbformat_minor": 5
}
