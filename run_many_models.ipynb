{
 "cells": [
  {
   "cell_type": "code",
   "execution_count": 1,
   "id": "2a837d78-5dff-48d9-9753-37e382d9f7b6",
   "metadata": {},
   "outputs": [
    {
     "name": "stdout",
     "output_type": "stream",
     "text": [
      "MainProcess\n"
     ]
    }
   ],
   "source": [
    "import sys\n",
    "sys.path.append('d:/flagellar/code/core')\n",
    "sys.path.append('/flagellar/code/core/')\n",
    "sys.path.append('/kaggle/input/my-flagellar-library/')\n",
    "import flg_support as fls\n",
    "import flg_runner\n",
    "import importlib\n",
    "import flg_model\n",
    "import numpy as np\n",
    "import matplotlib.pyplot as plt\n",
    "import time\n",
    "import copy\n",
    "import os\n",
    "import itertools\n",
    "import glob\n",
    "\n",
    "fast_mode = (fls.env=='local')\n",
    "clear_data = False\n",
    "local_mode = False\n",
    "which_set = 0"
   ]
  },
  {
   "cell_type": "code",
   "execution_count": 2,
   "id": "ee156f6e-b2e1-423b-becd-381c3151b98a",
   "metadata": {},
   "outputs": [],
   "source": [
    "# # Prepare datasets\n",
    "if which_set == 0:\n",
    "    dataset_str = ''\n",
    "else:\n",
    "    dataset_str = '-'+str(which_set+1)\n",
    "fls.download_kaggle_dataset('jeroencottaar/byu-many-models' +dataset_str+ '/', fls.result_dir + '/many_full/', skip_download=clear_data)\n",
    "fls.download_kaggle_dataset('jeroencottaar/byu-many-models-abbreviated' +dataset_str+ '/', fls.result_dir + '/many_abbr/', skip_download=clear_data)"
   ]
  },
  {
   "cell_type": "code",
   "execution_count": null,
   "id": "8e81947e-e1cc-441f-b2a8-1559d632d8d5",
   "metadata": {},
   "outputs": [
    {
     "name": "stdout",
     "output_type": "stream",
     "text": [
      "Starting seed  2\n",
      "1910 21\n",
      "40 21\n",
      "range:  5\n",
      "{'seed': 2, 'concentration': 2, 'extra_data': True, 'trust_neg': 0, 'trust_extra': 0, 'negative_label_threshold': 0.640711287029714, 'target_voxel_spacing': 20.459579710675484, 'blur_xy': 33.00301577896962, 'blur_z': 15.0, 'scale_moving_std': False, 'scale_moving_average_size': 2596, 'scale_moving_std_size_fac': 1.0275733136665341, 'blur_xy_moving_std': 16.498162074362284, 'clip_value': 3.1574330148755925, 'scale_percentile_value': 3.1245313255608558, 'img_size': 512, 'box_size': 16, 'use_best_epoch': False, 'lr0': 0.0009398365190684111, 'cos_lr': True, 'dropout': 0.0, 'weight_decay': 0.00041659219963705816, 'box': 7.386025833727868, 'model_name': 'yolov10m', 'use_pretrained_weights': False, 'mosaic_mode': 0.39162483308002616, 'translate': 0.0, 'scale': 0.37108623295010656, 'mixup': 0.10221319471391542, 'erasing': 0.35648376380023167, 'hsv_h': 0.011633459137090341, 'hsv_s': 0.22270262043076203, 'hsv_v': 0.3696867586027297, 'fliplr': 0.0, 'flipud': 0.5, 'degrees': 0.0, 'absolute_threshold': False, 'distance_threshold': 12.019074475294502, 'z_range': 5}\n",
      "XXX 0.9523809523809523\n",
      "ratio:  0.9523809523809523\n",
      "0.66\n",
      "Starting seed  3\n",
      "1910 21\n",
      "40 21\n",
      "{'seed': 3, 'concentration': 2, 'extra_data': True, 'trust_neg': 0, 'trust_extra': 0, 'negative_label_threshold': 0.6400637232603199, 'target_voxel_spacing': 22.91081018032184, 'blur_xy': 17.823859267211976, 'blur_z': 0.0, 'scale_moving_std': False, 'scale_moving_average_size': 2473, 'scale_moving_std_size_fac': 1.0798694573185392, 'blur_xy_moving_std': 44.074629084552875, 'clip_value': 2.6136720199214034, 'scale_percentile_value': 2.782456380991324, 'img_size': 640, 'box_size': 22, 'use_best_epoch': False, 'lr0': 0.0009381044760834493, 'cos_lr': True, 'dropout': 0.058679857143814074, 'weight_decay': 0.0005781336274180491, 'box': 4.99470407312077, 'model_name': 'yolov8m', 'use_pretrained_weights': False, 'mosaic_mode': 0.6962159966701554, 'translate': 0.0, 'scale': 0.2505215292280927, 'mixup': 0.19469205495328257, 'erasing': 0.11936048920675027, 'hsv_h': 0.004709790030515052, 'hsv_s': 0.62419774931161, 'hsv_v': 0.23406517595636323, 'fliplr': 0.0, 'flipud': 0.5, 'degrees': 0.0, 'absolute_threshold': True, 'distance_threshold': 13.742438334784708, 'z_range': -1}\n",
      "XXX 0.9523809523809523\n"
     ]
    }
   ],
   "source": [
    "#fls.profiling=True\n",
    "import git \n",
    "repo = git.Repo(search_parent_directories=True)\n",
    "git_commit_id = repo.head.object.hexsha\n",
    "for i in itertools.count(start=2+1000*which_set):\n",
    "    print('Starting seed ', i)\n",
    "    r = flg_runner.baseline_runner(fast_mode=fast_mode, local_mode = local_mode)\n",
    "    # if single_settings:\n",
    "    #     r.use_missing_value = True\n",
    "    #     r.modifier_dict['n_ensemble'].missing_value = 1\n",
    "    #     r.modifier_dict['scale_percentile_value'].missing_value = 3.\n",
    "    #     r.modifier_dict['scale_std_clip_value'].missing_value = 2.\n",
    "    #     r.modifier_dict['n_epochs'].missing_value = 50\n",
    "    #     r.modifier_dict['use_best_epoch'].missing_value = False\n",
    "    #     r.modifier_dict['model_name'].missing_value = 'yolov9s'\n",
    "    #     r.modifier_dict['fix_norm_bug'].missing_value = True\n",
    "    #     r.modifier_dict['alternative_slice_selection'].missing_value = True\n",
    "    #     r.modifier_dict['negative_slice_ratio'].missing_value = 0.1\n",
    "    #     r.modifier_dict['ratio_of_motors_allowed'].missing_value = 0.5\n",
    "    #r.use_missing_value = True\n",
    "    # r.label = 'Test ensemble'\n",
    "    # r.modifier_dict = dict()\n",
    "    # r.modifier_dict['n_ensemble'] = flg_runner.pm(1, lambda r:(r.integers(4,5)).item(), flg_runner.yolo)    \n",
    "    # r.base_model = flg_model.ThreeStepModelLabelBased()\n",
    "    # r.base_model.train_data_selector.datasets = ['tom']\n",
    "    # r.base_model.run_in_parallel = False\n",
    "    # if fast_mode: r.base_model.step1Labels.n_epochs = 1\n",
    "    r.git_commit_id = git_commit_id\n",
    "    r.env = fls.env\n",
    "    r.seed = i\n",
    "    #r.base_model.train_data_selector.datasets = 'tom'\n",
    "    #r.base_model.run_in_parallel = False\n",
    "    if local_mode:\n",
    "        assert not r.use_missing_value\n",
    "        base_filename = r.label + '_' + str(r.seed) + 'L_' + git_commit_id[:8]   \n",
    "    elif r.use_missing_value:\n",
    "        base_filename = r.label + '_' + str(r.seed) + 'M_' + git_commit_id[:8]   \n",
    "    else:\n",
    "        base_filename = r.label + '_' + str(r.seed) + '_' + git_commit_id[:8]   \n",
    "    if len(glob.glob(fls.result_dir + '/many_full/' + base_filename + '*'))>=1:\n",
    "         print('Skipping')\n",
    "         continue\n",
    "    r.run()\n",
    "\n",
    "    score_str = str(r.cv_score[2])[2:5]\n",
    "    print(str(r.cv_score)[1:5])\n",
    "    output_file_full = fls.result_dir + '/many_full/' + base_filename + '_' + score_str +' _f.pickle'\n",
    "    output_file_abbr = fls.result_dir + '/many_abbr/' + base_filename + '_' + score_str +' _a.pickle'\n",
    "    \n",
    "    fls.dill_save(output_file_full, r)\n",
    "    r.trained_model = 0\n",
    "    fls.dill_save(output_file_abbr, r)\n",
    "    if not fast_mode and fls.env=='vast':\n",
    "       fls.upload_kaggle_dataset(fls.result_dir + '/many_full/')\n",
    "       fls.upload_kaggle_dataset(fls.result_dir + '/many_abbr/')"
   ]
  },
  {
   "cell_type": "code",
   "execution_count": null,
   "id": "045b13f8-4f88-4d49-8267-8b4c25b32559",
   "metadata": {},
   "outputs": [],
   "source": []
  },
  {
   "cell_type": "code",
   "execution_count": null,
   "id": "9f1c0ca1-77c9-416f-a638-0f6f835d46fa",
   "metadata": {},
   "outputs": [],
   "source": []
  }
 ],
 "metadata": {
  "kaggle": {
   "accelerator": "nvidiaTeslaT4",
   "dataSources": [
    {
     "databundleVersionId": 11294684,
     "isSourceIdPinned": false,
     "sourceId": 91249,
     "sourceType": "competition"
    },
    {
     "datasetId": 6925042,
     "sourceId": 11204341,
     "sourceType": "datasetVersion"
    },
    {
     "datasetId": 6949538,
     "sourceId": 11204343,
     "sourceType": "datasetVersion"
    },
    {
     "sourceId": 211097053,
     "sourceType": "kernelVersion"
    },
    {
     "sourceId": 229283084,
     "sourceType": "kernelVersion"
    }
   ],
   "dockerImageVersionId": 30919,
   "isGpuEnabled": true,
   "isInternetEnabled": false,
   "language": "python",
   "sourceType": "notebook"
  },
  "kernelspec": {
   "display_name": "Python 3 (ipykernel)",
   "language": "python",
   "name": "python3"
  },
  "language_info": {
   "codemirror_mode": {
    "name": "ipython",
    "version": 3
   },
   "file_extension": ".py",
   "mimetype": "text/x-python",
   "name": "python",
   "nbconvert_exporter": "python",
   "pygments_lexer": "ipython3",
   "version": "3.10.14"
  }
 },
 "nbformat": 4,
 "nbformat_minor": 5
}
