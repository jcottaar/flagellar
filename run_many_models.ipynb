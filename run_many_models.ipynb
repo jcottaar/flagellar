{
 "cells": [
  {
   "cell_type": "code",
   "execution_count": 1,
   "id": "2a837d78-5dff-48d9-9753-37e382d9f7b6",
   "metadata": {},
   "outputs": [
    {
     "name": "stdout",
     "output_type": "stream",
     "text": [
      "MainProcess\n"
     ]
    }
   ],
   "source": [
    "import sys\n",
    "sys.path.append('d:/flagellar/code/core')\n",
    "sys.path.append('/flagellar/code/core/')\n",
    "sys.path.append('/kaggle/input/my-flagellar-library/')\n",
    "import flg_support as fls\n",
    "import flg_runner\n",
    "import importlib\n",
    "import flg_model\n",
    "import numpy as np\n",
    "import matplotlib.pyplot as plt\n",
    "import time\n",
    "import copy\n",
    "import os\n",
    "import itertools\n",
    "import glob\n",
    "\n",
    "fast_mode = (fls.env=='local')\n",
    "clear_data = True\n",
    "local_mode = False\n",
    "which_set = 0"
   ]
  },
  {
   "cell_type": "code",
   "execution_count": 2,
   "id": "ee156f6e-b2e1-423b-becd-381c3151b98a",
   "metadata": {},
   "outputs": [],
   "source": [
    "# # # Prepare datasets\n",
    "if which_set == 0:\n",
    "    dataset_str = ''\n",
    "else:\n",
    "    dataset_str = '-'+str(which_set+1)\n",
    "fls.download_kaggle_dataset('jeroencottaar/byu-many-models' +dataset_str+ '/', fls.result_dir + '/many_full/', skip_download=clear_data)\n",
    "fls.download_kaggle_dataset('jeroencottaar/byu-many-models-abbreviated' +dataset_str+ '/', fls.result_dir + '/many_abbr/', skip_download=clear_data)"
   ]
  },
  {
   "cell_type": "code",
   "execution_count": null,
   "id": "8e81947e-e1cc-441f-b2a8-1559d632d8d5",
   "metadata": {},
   "outputs": [
    {
     "name": "stdout",
     "output_type": "stream",
     "text": [
      "Starting seed  0\n",
      "1910 21\n",
      "40 21\n",
      "range:  4\n",
      "{'seed': 0, 'concentration': 1, 'extra_data': True, 'trust_neg': 2, 'trust_extra': 2, 'negative_label_threshold': 0.6134893356881935, 'remove_suspect_positive_labels': False, 'include_multi_motor': False, 'target_voxel_spacing': 19.626540478400546, 'blur_xy': 43.69133365916583, 'blur_z': 0.0, 'scale_moving_std': True, 'scale_moving_average_size': 2956, 'scale_moving_std_size_fac': 2.043624991465423, 'blur_xy_moving_std': 0.0, 'clip_value': 3.4350724237877683, 'scale_percentile_value': 3.6317071082430643, 'img_size': 640, 'min_img_size_factor': 0.0013692500850740474, 'box_size': 20, 'rgb_offset': 100.0, 'pad_with_noise': False, 'use_best_epoch': False, 'lr0': 0.0012355552732355613, 'cos_lr': True, 'lrf': 0.014984961124846884, 'dropout': 0.08631789223498866, 'weight_decay': 0.000324876732149455, 'momentum': 0.9159913567161215, 'warmup_epochs': 3, 'box': 1.1132786845818519, 'model_name': 'yolov8m', 'use_pretrained_weights': False, 'mosaic_mode': 1.0, 'translate': 0.0, 'scale': 0.3372849829498692, 'mixup': 0.7364995317549043, 'erasing': 0.25887580462970006, 'hsv_h': 0.0, 'hsv_s': 0.0, 'hsv_v': 0.0, 'fliplr': 0.5, 'flipud': 0.5, 'degrees': 10.0, 'absolute_threshold': False, 'relative_confidence_threshold': 0.1615385111481254, 'distance_threshold': 10.0, 'z_range': 4, 'adjust_voxel_scale': 1.192334135510492, 'adjust_clip_value': 1.1742167937922778, 'adjust_blur_xy': 1.2601837105071265, 'adjust_blur_z': 0.0}\n",
      "ratio:  0.9523809523809523\n",
      "0.85\n",
      "Starting seed  1\n",
      "1910 21\n",
      "40 21\n",
      "range:  4\n",
      "{'seed': 1, 'concentration': 1, 'extra_data': True, 'trust_neg': 1, 'trust_extra': 2, 'negative_label_threshold': 0.6475231848162968, 'remove_suspect_positive_labels': False, 'include_multi_motor': True, 'target_voxel_spacing': 18.62366290402097, 'blur_xy': 36.34989673458863, 'blur_z': 0.0, 'scale_moving_std': True, 'scale_moving_average_size': 1885, 'scale_moving_std_size_fac': 2.0495936876730596, 'blur_xy_moving_std': 0.0, 'clip_value': 2.5275591132430684, 'scale_percentile_value': 3.507026217349613, 'img_size': 608, 'min_img_size_factor': 0.2690716566096391, 'box_size': 27, 'rgb_offset': 15.0, 'pad_with_noise': True, 'use_best_epoch': False, 'lr0': 0.0008342148791744958, 'cos_lr': True, 'lrf': 0.028411743778355203, 'dropout': 0.013404169724716475, 'weight_decay': 0.0002418677918682775, 'momentum': 0.9131036572202845, 'warmup_epochs': 4, 'box': 4.00145869052021, 'model_name': 'yolov8m', 'use_pretrained_weights': False, 'mosaic_mode': 1.0, 'translate': 0.0, 'scale': 0.38412262739581193, 'mixup': 0.5881527795453081, 'erasing': 0.3922948799204955, 'hsv_h': 0.0, 'hsv_s': 0.0, 'hsv_v': 0.0, 'fliplr': 0.5, 'flipud': 0.5, 'degrees': 10.0, 'absolute_threshold': False, 'relative_confidence_threshold': 0.1961657193663787, 'distance_threshold': 10.0, 'z_range': 4, 'adjust_voxel_scale': 0.9107564816181484, 'adjust_clip_value': 0.9642608035100507, 'adjust_blur_xy': 1.387970165286453, 'adjust_blur_z': 0.0}\n",
      "ratio:  0.9523809523809523\n",
      "0.85\n",
      "Starting seed  2\n",
      "1910 21\n",
      "40 21\n",
      "range:  3\n",
      "{'seed': 2, 'concentration': 1, 'extra_data': True, 'trust_neg': 2, 'trust_extra': 1, 'negative_label_threshold': 0.6149245571707062, 'remove_suspect_positive_labels': True, 'include_multi_motor': False, 'target_voxel_spacing': 19.20020105193131, 'blur_xy': 40.92840790217692, 'blur_z': 0.0, 'scale_moving_std': False, 'scale_moving_average_size': 2820, 'scale_moving_std_size_fac': 1.774969367906038, 'blur_xy_moving_std': 0.0, 'clip_value': 3.1574330148755925, 'scale_percentile_value': 3.1245313255608558, 'img_size': 576, 'min_img_size_factor': 0.07503113165266806, 'box_size': 25, 'rgb_offset': 30.0, 'pad_with_noise': True, 'use_best_epoch': False, 'lr0': 0.0009313520381607262, 'cos_lr': True, 'lrf': 0.04297188445165822, 'dropout': 0.09674359524936767, 'weight_decay': 0.0004098388933857751, 'momentum': 0.9187487449924008, 'warmup_epochs': 2, 'box': 2.3838426622869324, 'model_name': 'yolov8m', 'use_pretrained_weights': False, 'mosaic_mode': 1.0, 'translate': 0.0, 'scale': 0.45331979207087314, 'mixup': 0.9129675276004634, 'erasing': 0.3102255769890758, 'hsv_h': 0.0, 'hsv_s': 0.0, 'hsv_v': 0.0, 'fliplr': 0.5, 'flipud': 0.5, 'degrees': 10.0, 'absolute_threshold': False, 'relative_confidence_threshold': 0.13181466006153744, 'distance_threshold': 10.0, 'z_range': 3, 'adjust_voxel_scale': 1.077503536880892, 'adjust_clip_value': 0.9428829233814352, 'adjust_blur_xy': 1.0418174233731765, 'adjust_blur_z': 0.0}\n",
      "ratio:  0.9523809523809523\n"
     ]
    }
   ],
   "source": [
    "#fls.profiling=True\n",
    "import git \n",
    "repo = git.Repo(search_parent_directories=True)\n",
    "git_commit_id = repo.head.object.hexsha\n",
    "for i in itertools.count(start=0+1000*which_set):\n",
    "    print('Starting seed ', i)\n",
    "    r = flg_runner.baseline_runner(fast_mode=fast_mode, local_mode = local_mode)\n",
    "    # if single_settings:\n",
    "    #     r.use_missing_value = True\n",
    "    #     r.modifier_dict['n_ensemble'].missing_value = 1\n",
    "    #     r.modifier_dict['scale_percentile_value'].missing_value = 3.\n",
    "    #     r.modifier_dict['scale_std_clip_value'].missing_value = 2.\n",
    "    #     r.modifier_dict['n_epochs'].missing_value = 50\n",
    "    #     r.modifier_dict['use_best_epoch'].missing_value = False\n",
    "    #     r.modifier_dict['model_name'].missing_value = 'yolov9s'\n",
    "    #     r.modifier_dict['fix_norm_bug'].missing_value = True\n",
    "    #     r.modifier_dict['alternative_slice_selection'].missing_value = True\n",
    "    #     r.modifier_dict['negative_slice_ratio'].missing_value = 0.1\n",
    "    #     r.modifier_dict['ratio_of_motors_allowed'].missing_value = 0.5\n",
    "    #r.use_missing_value = True\n",
    "    # r.label = 'Test ensemble'\n",
    "    # r.modifier_dict = dict()\n",
    "    # r.modifier_dict['n_ensemble'] = flg_runner.pm(1, lambda r:(r.integers(4,5)).item(), flg_runner.yolo)    \n",
    "    # r.base_model = flg_model.ThreeStepModelLabelBased()\n",
    "    # r.base_model.train_data_selector.datasets = ['tom']\n",
    "    # r.base_model.run_in_parallel = False\n",
    "    # if fast_mode: r.base_model.step1Labels.n_epochs = 1\n",
    "    r.git_commit_id = git_commit_id\n",
    "    r.env = fls.env\n",
    "    r.seed = i\n",
    "    #r.base_model.train_data_selector.datasets = 'tom'\n",
    "    #r.base_model.run_in_parallel = False\n",
    "    if local_mode:\n",
    "        assert not r.use_missing_value\n",
    "        base_filename = r.label + '_' + str(r.seed) + 'L_' + git_commit_id[:8]   \n",
    "    elif r.use_missing_value:\n",
    "        base_filename = r.label + '_' + str(r.seed) + 'M_' + git_commit_id[:8]   \n",
    "    else:\n",
    "        base_filename = r.label + '_' + str(r.seed) + '_' + git_commit_id[:8]   \n",
    "    if len(glob.glob(fls.result_dir + '/many_full/' + base_filename + '*'))>=1:\n",
    "         print('Skipping')\n",
    "         continue\n",
    "    r.run()\n",
    "\n",
    "    score_str = str(r.cv_score[2])[2:5]\n",
    "    print(str(r.cv_score)[1:5])\n",
    "    output_file_full = fls.result_dir + '/many_full/' + base_filename + '_' + score_str +' _f.pickle'\n",
    "    output_file_abbr = fls.result_dir + '/many_abbr/' + base_filename + '_' + score_str +' _a.pickle'\n",
    "    \n",
    "    fls.dill_save(output_file_full, r)\n",
    "    r.trained_model = 0\n",
    "    fls.dill_save(output_file_abbr, r)\n",
    "    if not fast_mode and fls.env=='vast':\n",
    "       fls.upload_kaggle_dataset(fls.result_dir + '/many_full/')\n",
    "       fls.upload_kaggle_dataset(fls.result_dir + '/many_abbr/')"
   ]
  },
  {
   "cell_type": "code",
   "execution_count": null,
   "id": "045b13f8-4f88-4d49-8267-8b4c25b32559",
   "metadata": {},
   "outputs": [],
   "source": []
  },
  {
   "cell_type": "code",
   "execution_count": null,
   "id": "9f1c0ca1-77c9-416f-a638-0f6f835d46fa",
   "metadata": {},
   "outputs": [],
   "source": []
  }
 ],
 "metadata": {
  "kaggle": {
   "accelerator": "nvidiaTeslaT4",
   "dataSources": [
    {
     "databundleVersionId": 11294684,
     "isSourceIdPinned": false,
     "sourceId": 91249,
     "sourceType": "competition"
    },
    {
     "datasetId": 6925042,
     "sourceId": 11204341,
     "sourceType": "datasetVersion"
    },
    {
     "datasetId": 6949538,
     "sourceId": 11204343,
     "sourceType": "datasetVersion"
    },
    {
     "sourceId": 211097053,
     "sourceType": "kernelVersion"
    },
    {
     "sourceId": 229283084,
     "sourceType": "kernelVersion"
    }
   ],
   "dockerImageVersionId": 30919,
   "isGpuEnabled": true,
   "isInternetEnabled": false,
   "language": "python",
   "sourceType": "notebook"
  },
  "kernelspec": {
   "display_name": "Python 3 (ipykernel)",
   "language": "python",
   "name": "python3"
  },
  "language_info": {
   "codemirror_mode": {
    "name": "ipython",
    "version": 3
   },
   "file_extension": ".py",
   "mimetype": "text/x-python",
   "name": "python",
   "nbconvert_exporter": "python",
   "pygments_lexer": "ipython3",
   "version": "3.10.14"
  }
 },
 "nbformat": 4,
 "nbformat_minor": 5
}
