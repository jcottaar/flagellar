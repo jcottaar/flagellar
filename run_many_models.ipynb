{
 "cells": [
  {
   "cell_type": "code",
   "execution_count": 1,
   "id": "2a837d78-5dff-48d9-9753-37e382d9f7b6",
   "metadata": {},
   "outputs": [
    {
     "name": "stdout",
     "output_type": "stream",
     "text": [
      "MainProcess\n"
     ]
    }
   ],
   "source": [
    "import sys\n",
    "sys.path.append('d:/flagellar/code/core')\n",
    "sys.path.append('/flagellar/code/core/')\n",
    "sys.path.append('/kaggle/input/my-flagellar-library/')\n",
    "import flg_support as fls\n",
    "import flg_runner\n",
    "import importlib\n",
    "import flg_model\n",
    "import numpy as np\n",
    "import matplotlib.pyplot as plt\n",
    "import time\n",
    "import copy\n",
    "import os\n",
    "import itertools\n",
    "import glob\n",
    "\n",
    "fast_mode = (fls.env=='local')\n",
    "clear_data = True\n",
    "local_mode = True\n",
    "which_set = 0"
   ]
  },
  {
   "cell_type": "code",
   "execution_count": 2,
   "id": "ee156f6e-b2e1-423b-becd-381c3151b98a",
   "metadata": {},
   "outputs": [],
   "source": [
    "# # Prepare datasets\n",
    "if which_set == 0:\n",
    "    dataset_str = ''\n",
    "else:\n",
    "    dataset_str = '-'+str(which_set+1)\n",
    "fls.download_kaggle_dataset('jeroencottaar/byu-many-models' +dataset_str+ '/', fls.result_dir + '/many_full/', skip_download=clear_data)\n",
    "fls.download_kaggle_dataset('jeroencottaar/byu-many-models-abbreviated' +dataset_str+ '/', fls.result_dir + '/many_abbr/', skip_download=clear_data)"
   ]
  },
  {
   "cell_type": "code",
   "execution_count": null,
   "id": "8e81947e-e1cc-441f-b2a8-1559d632d8d5",
   "metadata": {},
   "outputs": [
    {
     "name": "stdout",
     "output_type": "stream",
     "text": [
      "Starting seed  0\n",
      "1910 21\n",
      "400 21\n",
      "{'seed': 0, 'use_best_epoch': False, 'lr0': 0.001370760834773867, 'cos_lr': False, 'dropout': 0.004097352393619469, 'mosaic': 0.0, 'concentration': 1, 'box': 6.932911252305191, 'extra_data': True, 'trust_neg': 1, 'trust_extra': 2, 'model_name': 'yolov8m', 'use_pretrained_weights': True, 'blur_xy': 31.308749743962686, 'blur_z': 14.026086356816524, 'scale_moving_std': True, 'erasing': 0.0}\n",
      "XXX 0.9523809523809523\n",
      "ratio:  0.9523809523809523\n",
      "0.1,\n",
      "Starting seed  1\n",
      "1910 21\n",
      "400 21\n",
      "{'seed': 1, 'use_best_epoch': False, 'lr0': 0.0010275941535441723, 'cos_lr': True, 'dropout': 0.014415961271963373, 'mosaic': 1.0, 'concentration': 1, 'box': 3.751621918321742, 'extra_data': True, 'trust_neg': -1, 'trust_extra': 1, 'model_name': 'yolov8m', 'use_pretrained_weights': False, 'blur_xy': 31.487810630191785, 'blur_z': 0.4133866986460255, 'scale_moving_std': True, 'erasing': 0.4}\n",
      "XXX 0.9523809523809523\n",
      "ratio:  0.9523809523809523\n",
      "0.1,\n",
      "Starting seed  2\n",
      "1910 21\n",
      "400 21\n",
      "{'seed': 2, 'use_best_epoch': False, 'lr0': 0.0005775799838356195, 'cos_lr': False, 'dropout': 0.08142257405942804, 'mosaic': 0.0, 'concentration': 1, 'box': 5.735643424276665, 'extra_data': True, 'trust_neg': 0, 'trust_extra': 4, 'model_name': 'yolov8s', 'use_pretrained_weights': False, 'blur_xy': 23.249081037181142, 'blur_z': 9.861495223133888, 'scale_moving_std': True, 'erasing': 0.0}\n",
      "XXX 0.9523809523809523\n",
      "ratio:  0.9523809523809523\n",
      "0.1,\n",
      "Starting seed  3\n",
      "1910 21\n",
      "400 21\n",
      "{'seed': 3, 'use_best_epoch': False, 'lr0': 0.0003851670853165049, 'cos_lr': False, 'dropout': 0.08012744652063969, 'mosaic': 1.0, 'concentration': 1, 'box': 3.8153251115370796, 'extra_data': True, 'trust_neg': -1, 'trust_extra': 3, 'model_name': 'yolov8s', 'use_pretrained_weights': False, 'blur_xy': 37.037314542276434, 'blur_z': 1.7050802988210512, 'scale_moving_std': False, 'erasing': 0.4}\n",
      "XXX 0.9523809523809523\n",
      "ratio:  0.9523809523809523\n",
      "0.1,\n",
      "Starting seed  4\n",
      "1910 21\n",
      "400 21\n",
      "{'seed': 4, 'use_best_epoch': False, 'lr0': 0.0027736784070698517, 'cos_lr': True, 'dropout': 0.09762437057077042, 'mosaic': 0.0, 'concentration': 1, 'box': 3.4471627984522715, 'extra_data': True, 'trust_neg': 0, 'trust_extra': 3, 'model_name': 'yolov8m', 'use_pretrained_weights': False, 'blur_xy': 41.14905822562969, 'blur_z': 8.159121011452473, 'scale_moving_std': True, 'erasing': 0.0}\n",
      "XXX 0.9523809523809523\n",
      "ratio:  0.9523809523809523\n",
      "0.1,\n",
      "Starting seed  5\n",
      "1910 21\n",
      "400 21\n",
      "{'seed': 5, 'use_best_epoch': False, 'lr0': 0.002018379951717885, 'cos_lr': True, 'dropout': 0.0515325561042142, 'mosaic': 0.0, 'concentration': 2, 'box': 3.4918977251058685, 'extra_data': True, 'trust_neg': -1, 'trust_extra': 2, 'model_name': 'yolov8s', 'use_pretrained_weights': False, 'blur_xy': 16.462731321815042, 'blur_z': 14.987641725976072, 'scale_moving_std': True, 'erasing': 0.0}\n",
      "XXX 0.9523809523809523\n",
      "ratio:  0.9523809523809523\n",
      "0.1,\n",
      "Starting seed  6\n",
      "1910 21\n",
      "400 21\n",
      "{'seed': 6, 'use_best_epoch': False, 'lr0': 0.0010918534519250905, 'cos_lr': False, 'dropout': 0.03690672397953783, 'mosaic': 0.0, 'concentration': 1, 'box': 5.112915771946449, 'extra_data': True, 'trust_neg': 1, 'trust_extra': 2, 'model_name': 'yolov8m', 'use_pretrained_weights': False, 'blur_xy': 35.39752983492067, 'blur_z': 1.8445856233078506, 'scale_moving_std': False, 'erasing': 0.4}\n",
      "XXX 0.9523809523809523\n",
      "ratio:  0.9523809523809523\n",
      "0.1,\n",
      "Starting seed  7\n",
      "1910 21\n",
      "400 21\n",
      "{'seed': 7, 'use_best_epoch': False, 'lr0': 0.001333814599039706, 'cos_lr': True, 'dropout': 0.07756856902451936, 'mosaic': 0.0, 'concentration': 1, 'box': 6.678097395075702, 'extra_data': True, 'trust_neg': -1, 'trust_extra': 4, 'model_name': 'yolov8s', 'use_pretrained_weights': True, 'blur_xy': 38.91208286256139, 'blur_z': 7.0190242926558115, 'scale_moving_std': False, 'erasing': 0.0}\n",
      "XXX 0.9523809523809523\n",
      "ratio:  0.9523809523809523\n",
      "0.1,\n",
      "Starting seed  8\n",
      "1910 21\n",
      "400 21\n",
      "{'seed': 8, 'use_best_epoch': False, 'lr0': 0.0006713859933143526, 'cos_lr': True, 'dropout': 0.031871083848551675, 'mosaic': 1.0, 'concentration': 2, 'box': 3.542051242504761, 'extra_data': True, 'trust_neg': 1, 'trust_extra': 2, 'model_name': 'yolov8s', 'use_pretrained_weights': False, 'blur_xy': 18.20860789418323, 'blur_z': 7.184481812440755, 'scale_moving_std': False, 'erasing': 0.0}\n",
      "XXX 0.9523809523809523\n",
      "ratio:  0.9523809523809523\n",
      "0.1,\n",
      "Starting seed  9\n",
      "1910 21\n",
      "400 21\n",
      "{'seed': 9, 'use_best_epoch': False, 'lr0': 0.002345574351107989, 'cos_lr': False, 'dropout': 0.06031481500515619, 'mosaic': 1.0, 'concentration': 2, 'box': 6.949970783188299, 'extra_data': True, 'trust_neg': 1, 'trust_extra': 4, 'model_name': 'yolov8m', 'use_pretrained_weights': True, 'blur_xy': 15.797632034027917, 'blur_z': 6.55872000194263, 'scale_moving_std': False, 'erasing': 0.0}\n",
      "XXX 0.9523809523809523\n"
     ]
    }
   ],
   "source": [
    "#fls.profiling=True\n",
    "import git \n",
    "repo = git.Repo(search_parent_directories=True)\n",
    "git_commit_id = repo.head.object.hexsha\n",
    "for i in itertools.count(start=1000*which_set):\n",
    "    print('Starting seed ', i)\n",
    "    r = flg_runner.baseline_runner(fast_mode=fast_mode, local_mode = local_mode)\n",
    "    # if single_settings:\n",
    "    #     r.use_missing_value = True\n",
    "    #     r.modifier_dict['n_ensemble'].missing_value = 1\n",
    "    #     r.modifier_dict['scale_percentile_value'].missing_value = 3.\n",
    "    #     r.modifier_dict['scale_std_clip_value'].missing_value = 2.\n",
    "    #     r.modifier_dict['n_epochs'].missing_value = 50\n",
    "    #     r.modifier_dict['use_best_epoch'].missing_value = False\n",
    "    #     r.modifier_dict['model_name'].missing_value = 'yolov9s'\n",
    "    #     r.modifier_dict['fix_norm_bug'].missing_value = True\n",
    "    #     r.modifier_dict['alternative_slice_selection'].missing_value = True\n",
    "    #     r.modifier_dict['negative_slice_ratio'].missing_value = 0.1\n",
    "    #     r.modifier_dict['ratio_of_motors_allowed'].missing_value = 0.5\n",
    "    #r.use_missing_value = True\n",
    "    # r.label = 'Test ensemble'\n",
    "    # r.modifier_dict = dict()\n",
    "    # r.modifier_dict['n_ensemble'] = flg_runner.pm(1, lambda r:(r.integers(4,5)).item(), flg_runner.yolo)    \n",
    "    # r.base_model = flg_model.ThreeStepModelLabelBased()\n",
    "    # r.base_model.train_data_selector.datasets = ['tom']\n",
    "    # r.base_model.run_in_parallel = False\n",
    "    # if fast_mode: r.base_model.step1Labels.n_epochs = 1\n",
    "    r.git_commit_id = git_commit_id\n",
    "    r.env = fls.env\n",
    "    r.seed = i\n",
    "    #r.base_model.train_data_selector.datasets = 'tom'\n",
    "    #r.base_model.run_in_parallel = False\n",
    "    if local_mode:\n",
    "        assert not r.use_missing_value\n",
    "        base_filename = r.label + '_' + str(r.seed) + 'L_' + git_commit_id[:8]   \n",
    "    elif r.use_missing_value:\n",
    "        base_filename = r.label + '_' + str(r.seed) + 'M_' + git_commit_id[:8]   \n",
    "    else:\n",
    "        base_filename = r.label + '_' + str(r.seed) + '_' + git_commit_id[:8]   \n",
    "    if len(glob.glob(fls.result_dir + '/many_full/' + base_filename + '*'))>=1:\n",
    "         print('Skipping')\n",
    "         continue\n",
    "    r.run()\n",
    "\n",
    "    score_str = str(r.cv_score[2])[2:5]\n",
    "    print(str(r.cv_score)[1:5])\n",
    "    output_file_full = fls.result_dir + '/many_full/' + base_filename + '_' + score_str +' _f.pickle'\n",
    "    output_file_abbr = fls.result_dir + '/many_abbr/' + base_filename + '_' + score_str +' _a.pickle'\n",
    "    \n",
    "    fls.dill_save(output_file_full, r)\n",
    "    r.trained_model = 0\n",
    "    fls.dill_save(output_file_abbr, r)\n",
    "    if not fast_mode and fls.env=='vast':\n",
    "       fls.upload_kaggle_dataset(fls.result_dir + '/many_full/')\n",
    "       fls.upload_kaggle_dataset(fls.result_dir + '/many_abbr/')"
   ]
  },
  {
   "cell_type": "code",
   "execution_count": null,
   "id": "045b13f8-4f88-4d49-8267-8b4c25b32559",
   "metadata": {},
   "outputs": [],
   "source": []
  }
 ],
 "metadata": {
  "kaggle": {
   "accelerator": "nvidiaTeslaT4",
   "dataSources": [
    {
     "databundleVersionId": 11294684,
     "isSourceIdPinned": false,
     "sourceId": 91249,
     "sourceType": "competition"
    },
    {
     "datasetId": 6925042,
     "sourceId": 11204341,
     "sourceType": "datasetVersion"
    },
    {
     "datasetId": 6949538,
     "sourceId": 11204343,
     "sourceType": "datasetVersion"
    },
    {
     "sourceId": 211097053,
     "sourceType": "kernelVersion"
    },
    {
     "sourceId": 229283084,
     "sourceType": "kernelVersion"
    }
   ],
   "dockerImageVersionId": 30919,
   "isGpuEnabled": true,
   "isInternetEnabled": false,
   "language": "python",
   "sourceType": "notebook"
  },
  "kernelspec": {
   "display_name": "Python 3 (ipykernel)",
   "language": "python",
   "name": "python3"
  },
  "language_info": {
   "codemirror_mode": {
    "name": "ipython",
    "version": 3
   },
   "file_extension": ".py",
   "mimetype": "text/x-python",
   "name": "python",
   "nbconvert_exporter": "python",
   "pygments_lexer": "ipython3",
   "version": "3.10.14"
  }
 },
 "nbformat": 4,
 "nbformat_minor": 5
}
