{
 "cells": [
  {
   "cell_type": "code",
   "execution_count": 1,
   "id": "2a837d78-5dff-48d9-9753-37e382d9f7b6",
   "metadata": {},
   "outputs": [
    {
     "name": "stdout",
     "output_type": "stream",
     "text": [
      "MainProcess\n",
      "MainProcess\n"
     ]
    },
    {
     "data": {
      "text/plain": [
       "<module 'flg_support' from 'd:\\\\flagellar/code/core\\\\flg_support.py'>"
      ]
     },
     "execution_count": 1,
     "metadata": {},
     "output_type": "execute_result"
    }
   ],
   "source": [
    "import sys\n",
    "sys.path.append('d:/flagellar/code/core')\n",
    "sys.path.append('/flagellar/code/core/')\n",
    "sys.path.append('/kaggle/input/my-flagellar-library/')\n",
    "import flg_support as fls\n",
    "import flg_runner\n",
    "import importlib\n",
    "import numpy as np\n",
    "import matplotlib.pyplot as plt\n",
    "import time\n",
    "import copy\n",
    "import os\n",
    "import itertools\n",
    "import glob\n",
    "\n",
    "fast_mode = (fls.env=='local')\n",
    "clear_data = True"
   ]
  },
  {
   "cell_type": "code",
   "execution_count": 2,
   "id": "ee156f6e-b2e1-423b-becd-381c3151b98a",
   "metadata": {},
   "outputs": [],
   "source": [
    "# Prepare datasets\n",
    "if not fast_mode:\n",
    "    fls.download_kaggle_dataset('jeroencottaar/byu-many-models/', fls.result_dir + '/many_full/', skip_download=clear_data)\n",
    "    fls.download_kaggle_dataset('jeroencottaar/byu-many-models-abbreviated/', fls.result_dir + '/many_abbr/', skip_download=clear_data)\n",
    "else:\n",
    "    if clear_data:\n",
    "        fls.remove_and_make_dir(fls.result_dir + '/many_full/')\n",
    "        fls.remove_and_make_dir(fls.result_dir + '/many_abbr/')"
   ]
  },
  {
   "cell_type": "code",
   "execution_count": null,
   "id": "e9c70ac9-1bc6-4ffe-a3aa-cf2d6cbeba1c",
   "metadata": {},
   "outputs": [
    {
     "name": "stdout",
     "output_type": "stream",
     "text": [
      "Starting seed  0\n",
      "1919 13\n",
      "30 13\n",
      "{'seed': 0, 'scale_percentile_value': 3.5478467492858172, 'img_size': 512, 'model_name': 'yolov8m', 'use_pretrained_weights': False, 'box_size': 17, 'trust': 0, 'fix_norm_bug': True, 'weight_decay': 0.0009127555772777217, 'hsv_h': 0.0, 'hsv_s': 0.0, 'hsv_v': 0.0, 'translate': 0.1, 'scale': 0.0, 'fliplr': 0.5, 'flipud': 0.0, 'degrees': 0, 'shear': 0.0, 'mosaic': 1.0, 'mixup': 0.2, 'erasing': 0.0, 'use_albumentations': False, 'confidence_threshold': 0.3556639342290926, 'include_multi_motor': False, 'tom': True, 'mba': True, 'aba': True, 'ycw': False}\n",
      ".0\n",
      "Starting seed  1\n",
      "1919 13\n",
      "30 13\n",
      "{'seed': 1, 'scale_percentile_value': 3.047286498801027, 'img_size': 576, 'model_name': 'yolo11m', 'use_pretrained_weights': False, 'box_size': 29, 'trust': 5, 'fix_norm_bug': False, 'weight_decay': 0.00042332644897257566, 'hsv_h': 0.015, 'hsv_s': 0.0, 'hsv_v': 0.0, 'translate': 0.0, 'scale': 0.5274591760723646, 'fliplr': 0.5, 'flipud': 0.5, 'degrees': 0, 'shear': 0.0, 'mosaic': 0.0, 'mixup': 0.0, 'erasing': 0.0, 'use_albumentations': False, 'confidence_threshold': 0.5000729345260105, 'include_multi_motor': False, 'tom': False, 'mba': True, 'aba': True, 'ycw': True}\n"
     ]
    }
   ],
   "source": [
    "#fls.profiling=True\n",
    "import git \n",
    "repo = git.Repo(search_parent_directories=True)\n",
    "git_commit_id = repo.head.object.hexsha\n",
    "for i in itertools.count(start=0):\n",
    "    print('Starting seed ', i)\n",
    "    r = flg_runner.baseline_runner(fast_mode=fast_mode)\n",
    "    r.git_commit_id = git_commit_id\n",
    "    r.seed = i\n",
    "    #r.base_model.train_data_selector.datasets = 'tom'\n",
    "    #r.base_model.run_in_parallel = False\n",
    "    base_filename = r.label + '_' + str(r.seed) + '_' + git_commit_id[:8]   \n",
    "    if len(glob.glob(fls.result_dir + '/many_full/' + base_filename + '*'))>=1:\n",
    "        print('Skipping')\n",
    "        continue\n",
    "    r.run()\n",
    "\n",
    "    score_str = str(r.cv_score)[2:5]\n",
    "    print(str(r.cv_score)[1:5])\n",
    "    output_file_full = fls.result_dir + '/many_full/' + base_filename + '_' + score_str +' _f.pickle'\n",
    "    output_file_abbr = fls.result_dir + '/many_abbr/' + base_filename + '_' + score_str +' _a.pickle'\n",
    "    \n",
    "    fls.dill_save(output_file_full, r)\n",
    "    r.trained_model = 0\n",
    "    fls.dill_save(output_file_abbr, r)\n",
    "    if not fast_mode:\n",
    "        fls.upload_kaggle_dataset(fls.result_dir + '/many_full/')\n",
    "        fls.upload_kaggle_dataset(fls.result_dir + '/many_abbr/')"
   ]
  }
 ],
 "metadata": {
  "kaggle": {
   "accelerator": "nvidiaTeslaT4",
   "dataSources": [
    {
     "databundleVersionId": 11294684,
     "isSourceIdPinned": false,
     "sourceId": 91249,
     "sourceType": "competition"
    },
    {
     "datasetId": 6925042,
     "sourceId": 11204341,
     "sourceType": "datasetVersion"
    },
    {
     "datasetId": 6949538,
     "sourceId": 11204343,
     "sourceType": "datasetVersion"
    },
    {
     "sourceId": 211097053,
     "sourceType": "kernelVersion"
    },
    {
     "sourceId": 229283084,
     "sourceType": "kernelVersion"
    }
   ],
   "dockerImageVersionId": 30919,
   "isGpuEnabled": true,
   "isInternetEnabled": false,
   "language": "python",
   "sourceType": "notebook"
  },
  "kernelspec": {
   "display_name": "Python 3 (ipykernel)",
   "language": "python",
   "name": "python3"
  },
  "language_info": {
   "codemirror_mode": {
    "name": "ipython",
    "version": 3
   },
   "file_extension": ".py",
   "mimetype": "text/x-python",
   "name": "python",
   "nbconvert_exporter": "python",
   "pygments_lexer": "ipython3",
   "version": "3.10.14"
  }
 },
 "nbformat": 4,
 "nbformat_minor": 5
}
