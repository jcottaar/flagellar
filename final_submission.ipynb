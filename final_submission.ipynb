{
 "cells": [
  {
   "cell_type": "code",
   "execution_count": 1,
   "id": "6dcaf915-43d1-4fe1-86fe-98839bcf6fa1",
   "metadata": {},
   "outputs": [],
   "source": [
    "import os\n",
    "#if not os.getenv('KAGGLE_IS_COMPETITION_RERUN'):\n",
    "#    raise 'stop'\n",
    "if not os.path.isdir('d:/flagellar/'):\n",
    "    deps_path = '/kaggle/usr/lib/flg-packages'\n",
    "    !pip install --no-index --find-links {deps_path} --requirement {deps_path}/requirements.txt\n",
    "    !tar xfvz /kaggle/usr/lib/ultralytics_for_offline_install_mine/archive.tar.gz\n",
    "    !pip install --no-index --find-links=./packages ultralytics\n",
    "    !rm -rf ./packages"
   ]
  },
  {
   "cell_type": "code",
   "execution_count": null,
   "id": "9897478a-4e1e-4a3a-a821-c97f58c0b855",
   "metadata": {},
   "outputs": [],
   "source": [
    "import sys\n",
    "sys.path.append('d:/flagellar/code/core')\n",
    "sys.path.append('/flagellar/code/core/')\n",
    "sys.path.append('/kaggle/input/my-flagellar-library/')\n",
    "import flg_support as fls\n",
    "import flg_model\n",
    "import glob"
   ]
  },
  {
   "cell_type": "code",
   "execution_count": null,
   "id": "b07a3754-b65e-4a94-8a30-68f7c9b935c5",
   "metadata": {},
   "outputs": [],
   "source": [
    "# Construct model\n",
    "model = flg_model.FinalModel()\n",
    "model.ratio_of_motors_allowed = 0.45\n",
    "model.estimate_voxel_spacing = True\n",
    "model.run_in_parallel = True\n",
    "model.state = 1\n",
    "if not fls.env=='kaggle':    \n",
    "    res_dir = fls.model_dir + '/many_full_res/'\n",
    "    #fls.download_kaggle_dataset('jeroencottaar/byu-many-models/', res_dir)\n",
    "else:\n",
    "    res_dir = '/kaggle/input/byu-many-models/'\n",
    "files = glob.glob(res_dir+'/*.pickle')\n",
    "files.sort()\n",
    "for f in files:\n",
    "    data = fls.dill_load(f)\n",
    "    this_model = data.trained_model\n",
    "    this_model.step1Labels.preprocessor.voxel_scale = 1.\n",
    "    model.step1_list.append(this_model.step1Labels)"
   ]
  },
  {
   "cell_type": "code",
   "execution_count": null,
   "id": "6e734882-cdd9-4d97-aa2d-83dcaebb13b3",
   "metadata": {},
   "outputs": [],
   "source": [
    "# Infer\n",
    "inferred_test_data = model.infer(fls.load_all_test_data())\n",
    "for d in inferred_test_data:\n",
    "    print(d.name)\n",
    "    print(d.labels)\n",
    "fls.write_submission_file(inferred_test_data)"
   ]
  },
  {
   "cell_type": "code",
   "execution_count": null,
   "id": "83dabcd3-75ed-41d0-92f3-e4f72660976c",
   "metadata": {},
   "outputs": [],
   "source": [
    "%%time\n",
    "if not fls.is_submission:\n",
    "    data = model.infer(fls.load_all_train_data()[::10])\n",
    "    for d in data:\n",
    "        print(d.labels)"
   ]
  },
  {
   "cell_type": "code",
   "execution_count": null,
   "id": "aa975b29-c19c-4010-8c86-c027a61865d7",
   "metadata": {},
   "outputs": [],
   "source": []
  }
 ],
 "metadata": {
  "kernelspec": {
   "display_name": "Python 3 (ipykernel)",
   "language": "python",
   "name": "python3"
  },
  "language_info": {
   "codemirror_mode": {
    "name": "ipython",
    "version": 3
   },
   "file_extension": ".py",
   "mimetype": "text/x-python",
   "name": "python",
   "nbconvert_exporter": "python",
   "pygments_lexer": "ipython3",
   "version": "3.10.14"
  }
 },
 "nbformat": 4,
 "nbformat_minor": 5
}
