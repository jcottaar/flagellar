{
 "cells": [
  {
   "cell_type": "code",
   "execution_count": 1,
   "id": "6dcaf915-43d1-4fe1-86fe-98839bcf6fa1",
   "metadata": {},
   "outputs": [],
   "source": [
    "import os\n",
    "#if not os.getenv('KAGGLE_IS_COMPETITION_RERUN'):\n",
    "#    raise 'stop'\n",
    "if not os.path.isdir('d:/flagellar/'):\n",
    "    deps_path = '/kaggle/usr/lib/flg-packages'\n",
    "    !pip install --no-index --find-links {deps_path} --requirement {deps_path}/requirements.txt\n",
    "    !tar xfvz /kaggle/usr/lib/ultralytics_for_offline_install_mine/archive.tar.gz\n",
    "    !pip install --no-index --find-links=./packages ultralytics\n",
    "    !rm -rf ./packages"
   ]
  },
  {
   "cell_type": "code",
   "execution_count": 2,
   "id": "9897478a-4e1e-4a3a-a821-c97f58c0b855",
   "metadata": {},
   "outputs": [
    {
     "name": "stdout",
     "output_type": "stream",
     "text": [
      "MainProcess\n"
     ]
    }
   ],
   "source": [
    "import sys\n",
    "sys.path.append('d:/flagellar/code/core')\n",
    "sys.path.append('/flagellar/code/core/')\n",
    "sys.path.append('/kaggle/input/my-flagellar-library/')\n",
    "import flg_support as fls\n",
    "import flg_model\n",
    "import glob"
   ]
  },
  {
   "cell_type": "code",
   "execution_count": 3,
   "id": "b07a3754-b65e-4a94-8a30-68f7c9b935c5",
   "metadata": {},
   "outputs": [],
   "source": [
    "# Construct model\n",
    "model = flg_model.FinalModel()\n",
    "model.ratio_of_motors_allowed = 0.45\n",
    "model.estimate_voxel_spacing = True\n",
    "model.run_in_parallel = False\n",
    "model.state = 1\n",
    "if not fls.env=='kaggle':    \n",
    "    res_dir = fls.model_dir + '/many_full_res/'\n",
    "    #fls.download_kaggle_dataset('jeroencottaar/byu-many-models/', res_dir)\n",
    "else:\n",
    "    res_dir = '/kaggle/input/byu-many-models/'\n",
    "files = glob.glob(res_dir+'/*.pickle')\n",
    "files.sort()\n",
    "for f in files[:10]:\n",
    "    data = fls.dill_load(f)\n",
    "    this_model = data.trained_model\n",
    "    this_model.step1Labels.preprocessor.voxel_scale = 1.\n",
    "    model.step1_list.append(this_model.step1Labels)"
   ]
  },
  {
   "cell_type": "code",
   "execution_count": 4,
   "id": "6e734882-cdd9-4d97-aa2d-83dcaebb13b3",
   "metadata": {},
   "outputs": [
    {
     "name": "stdout",
     "output_type": "stream",
     "text": [
      "Clearing pytorch\n"
     ]
    },
    {
     "name": "stderr",
     "output_type": "stream",
     "text": [
      "C:\\Users\\jeroe\\anaconda3\\envs\\jupyterlab-debugger2\\lib\\site-packages\\cupyx\\jit\\_interface.py:173: FutureWarning: cupyx.jit.rawkernel is experimental. The interface can change in the future.\n",
      "  cupy._util.experimental('cupyx.jit.rawkernel')\n"
     ]
    },
    {
     "name": "stdout",
     "output_type": "stream",
     "text": [
      "Clearing cupy\n",
      "Prepping\n",
      "YOLOv8m summary (fused): 92 layers, 25,840,339 parameters, 0 gradients, 78.7 GFLOPs\n",
      "Processing tomogram tomo_003acc (1/1)\n",
      "Processing 500 out of 500 slices (CONCENTRATION=1)\n",
      "Clearing pytorch\n",
      "Clearing cupy\n",
      "Prepping\n",
      "YOLOv8m summary (fused): 92 layers, 25,840,339 parameters, 0 gradients, 78.7 GFLOPs\n",
      "Processing tomogram tomo_003acc (1/1)\n",
      "Processing 500 out of 500 slices (CONCENTRATION=1)\n",
      "500\n",
      "[179 180 181 182 183 184 185 186 187 188 189 190 191 192 193 194 195 223 224 225 226 227 228 229 234 235 236 237 238 239 240 241 242 243 244 245 246 247 248 249 250 251 252 253 254 255 256 257 258 259 260 261 262 263 266 267 268 269 270 271 272 273 274 275 276 277 278 279 280 281 282 283 284 285 286 287 288 289 290\n",
      " 291 292 293 294 295 296 297 298 299 300 301 302 303 304 305 306 307 308 309 310 311 312 313 314 315 316 317 318 319 320 321 322 323 324 325 326 327 328 329 330 331 332 333 334 335 336 337 338 339 340 341 342 343 344 345 346 347 348 349 350 351 352 353 354 355 358 359 360 361 362 363 364 365 366 367 368 369 370 371\n",
      " 372 373 374 375 376 377 378 379 380 381 382 383 384 385 386 387 388 389 390 391 398 399 400 401 402 403 404 405 406 407 408 409 410 411 412 413 414 415 416 417 418 419 420 421 422 423 424 425]\n",
      "Clearing pytorch\n",
      "Prepping\n",
      "YOLOv8l summary (fused): 112 layers, 43,607,379 parameters, 0 gradients, 164.8 GFLOPs\n",
      "Processing tomogram tomo_003acc (1/1)\n",
      "Processing 500 out of 206 slices (CONCENTRATION=1)\n",
      "Prepping\n",
      "YOLOv8l summary (fused): 112 layers, 43,607,379 parameters, 0 gradients, 164.8 GFLOPs\n",
      "Processing tomogram tomo_003acc (1/1)\n",
      "Processing 500 out of 206 slices (CONCENTRATION=1)\n",
      "Prepping\n",
      "YOLOv8l summary (fused): 112 layers, 43,607,379 parameters, 0 gradients, 164.8 GFLOPs\n",
      "Processing tomogram tomo_003acc (1/1)\n",
      "Processing 500 out of 206 slices (CONCENTRATION=1)\n",
      "Prepping\n",
      "YOLOv8l summary (fused): 112 layers, 43,607,379 parameters, 0 gradients, 164.8 GFLOPs\n",
      "Processing tomogram tomo_003acc (1/1)\n",
      "Processing 500 out of 206 slices (CONCENTRATION=1)\n",
      "Prepping\n",
      "YOLOv8l summary (fused): 112 layers, 43,607,379 parameters, 0 gradients, 164.8 GFLOPs\n",
      "Processing tomogram tomo_003acc (1/1)\n",
      "Processing 500 out of 206 slices (CONCENTRATION=1)\n",
      "Prepping\n",
      "YOLOv8l summary (fused): 112 layers, 43,607,379 parameters, 0 gradients, 164.8 GFLOPs\n",
      "Processing tomogram tomo_003acc (1/1)\n",
      "Processing 500 out of 206 slices (CONCENTRATION=1)\n",
      "Prepping\n",
      "YOLOv8l summary (fused): 112 layers, 43,607,379 parameters, 0 gradients, 164.8 GFLOPs\n",
      "Processing tomogram tomo_003acc (1/1)\n",
      "Processing 500 out of 206 slices (CONCENTRATION=1)\n",
      "Prepping\n",
      "YOLOv8m summary (fused): 92 layers, 25,840,339 parameters, 0 gradients, 78.7 GFLOPs\n",
      "Processing tomogram tomo_003acc (1/1)\n",
      "Processing 500 out of 206 slices (CONCENTRATION=1)\n",
      "Clearing cupy\n",
      "Clearing pytorch\n",
      "tomo_003acc total infer time: 75.76036524772644\n",
      "Clearing cupy\n",
      "Processing tomogram tomo_00e047 (1/1)\n",
      "Processing 300 out of 300 slices (CONCENTRATION=1)\n",
      "Clearing pytorch\n",
      "Clearing cupy\n",
      "Processing tomogram tomo_00e047 (1/1)\n",
      "Processing 300 out of 300 slices (CONCENTRATION=1)\n",
      "300\n",
      "[ 41  42  43 119 120 121 122 123 141 142 143 144 145 146 147 153 154 155 156 158 159 160 161 162 163 164 165 166 167 168 169 170 171 172 173 174 175 176 177 178 179 180 181 182 183 184 185 186 187 188 189 261 262 263 272 273 274]\n",
      "Clearing pytorch\n",
      "Processing tomogram tomo_00e047 (1/1)\n",
      "Processing 300 out of 57 slices (CONCENTRATION=1)\n",
      "Processing tomogram tomo_00e047 (1/1)\n",
      "Processing 300 out of 57 slices (CONCENTRATION=1)\n",
      "Processing tomogram tomo_00e047 (1/1)\n",
      "Processing 300 out of 57 slices (CONCENTRATION=1)\n",
      "Processing tomogram tomo_00e047 (1/1)\n",
      "Processing 300 out of 57 slices (CONCENTRATION=1)\n",
      "Processing tomogram tomo_00e047 (1/1)\n",
      "Processing 300 out of 57 slices (CONCENTRATION=1)\n",
      "Processing tomogram tomo_00e047 (1/1)\n",
      "Processing 300 out of 57 slices (CONCENTRATION=1)\n",
      "Processing tomogram tomo_00e047 (1/1)\n",
      "Processing 300 out of 57 slices (CONCENTRATION=1)\n",
      "Processing tomogram tomo_00e047 (1/1)\n",
      "Processing 300 out of 57 slices (CONCENTRATION=1)\n",
      "Clearing cupy\n",
      "Clearing pytorch\n",
      "tomo_00e047 total infer time: 29.23125410079956\n",
      "Clearing cupy\n",
      "Processing tomogram tomo_01a877 (1/1)\n",
      "Processing 300 out of 300 slices (CONCENTRATION=1)\n",
      "Clearing pytorch\n",
      "Clearing cupy\n",
      "Processing tomogram tomo_01a877 (1/1)\n",
      "Processing 300 out of 300 slices (CONCENTRATION=1)\n",
      "300\n",
      "[ 21  22  23  24  25  26  27  28  30  31  32  33  34  35  36  37  38  39  40  41  63  64  65  66  67  87  88  89  90  91  92  93  94  95  96  97  98  99 100 101 102 103 114 115 116 117 118 119 120 121 122 123 125 126 127 128 129 130 131 132 133 134 135 136 137 138 139 140 141 142 143 144 145 146 147 148 149 150 151\n",
      " 152 153 154 155 156 157 158 159 160 161 162 163 164 165]\n",
      "Clearing pytorch\n",
      "Processing tomogram tomo_01a877 (1/1)\n",
      "Processing 300 out of 93 slices (CONCENTRATION=1)\n",
      "Processing tomogram tomo_01a877 (1/1)\n",
      "Processing 300 out of 93 slices (CONCENTRATION=1)\n",
      "Processing tomogram tomo_01a877 (1/1)\n",
      "Processing 300 out of 93 slices (CONCENTRATION=1)\n",
      "Processing tomogram tomo_01a877 (1/1)\n",
      "Processing 300 out of 93 slices (CONCENTRATION=1)\n",
      "Processing tomogram tomo_01a877 (1/1)\n",
      "Processing 300 out of 93 slices (CONCENTRATION=1)\n",
      "Processing tomogram tomo_01a877 (1/1)\n",
      "Processing 300 out of 93 slices (CONCENTRATION=1)\n",
      "Processing tomogram tomo_01a877 (1/1)\n",
      "Processing 300 out of 93 slices (CONCENTRATION=1)\n",
      "Processing tomogram tomo_01a877 (1/1)\n",
      "Processing 300 out of 93 slices (CONCENTRATION=1)\n",
      "Clearing cupy\n",
      "Clearing pytorch\n",
      "tomo_01a877 total infer time: 30.839366912841797\n",
      "tomo_003acc\n",
      "Empty DataFrame\n",
      "Columns: [z, y, x, value]\n",
      "Index: []\n",
      "tomo_00e047\n",
      "     z    y    x   value\n",
      "0  167  546  604  0.8459\n",
      "tomo_01a877\n",
      "Empty DataFrame\n",
      "Columns: [z, y, x, value]\n",
      "Index: []\n",
      "       tomo_id  Motor axis 0  Motor axis 1  Motor axis 2\n",
      "0  tomo_003acc            -1            -1            -1\n",
      "1  tomo_00e047           167           546           604\n",
      "2  tomo_01a877            -1            -1            -1\n"
     ]
    }
   ],
   "source": [
    "# Infer\n",
    "inferred_test_data = model.infer(fls.load_all_test_data())\n",
    "for d in inferred_test_data:\n",
    "    print(d.name)\n",
    "    print(d.labels)\n",
    "fls.write_submission_file(inferred_test_data)"
   ]
  },
  {
   "cell_type": "code",
   "execution_count": null,
   "id": "83dabcd3-75ed-41d0-92f3-e4f72660976c",
   "metadata": {},
   "outputs": [],
   "source": [
    "%%time\n",
    "if not fls.is_submission:\n",
    "    data = model.infer(fls.load_all_train_data()[::10])\n",
    "    for d in data:\n",
    "        print(d.labels)"
   ]
  },
  {
   "cell_type": "code",
   "execution_count": null,
   "id": "aa975b29-c19c-4010-8c86-c027a61865d7",
   "metadata": {},
   "outputs": [],
   "source": []
  }
 ],
 "metadata": {
  "kernelspec": {
   "display_name": "Python 3 (ipykernel)",
   "language": "python",
   "name": "python3"
  },
  "language_info": {
   "codemirror_mode": {
    "name": "ipython",
    "version": 3
   },
   "file_extension": ".py",
   "mimetype": "text/x-python",
   "name": "python",
   "nbconvert_exporter": "python",
   "pygments_lexer": "ipython3",
   "version": "3.10.14"
  }
 },
 "nbformat": 4,
 "nbformat_minor": 5
}
