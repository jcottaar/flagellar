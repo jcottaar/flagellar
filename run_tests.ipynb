{
 "cells": [
  {
   "cell_type": "code",
   "execution_count": 1,
   "id": "bcddf786-c0f5-4eb6-b5f2-97278c1def1d",
   "metadata": {},
   "outputs": [
    {
     "name": "stdout",
     "output_type": "stream",
     "text": [
      "MainProcess\n"
     ]
    }
   ],
   "source": [
    "import sys\n",
    "sys.path.append('d:/flagellar/code/core')\n",
    "sys.path.append('/flagellar/code/core')\n",
    "sys.path.append('/kaggle/input/my-flagellar-library/')\n",
    "import flg_test"
   ]
  },
  {
   "cell_type": "code",
   "execution_count": 2,
   "id": "f665bda1-916a-495e-aa3b-0d73dd1d7ef1",
   "metadata": {},
   "outputs": [
    {
     "name": "stdout",
     "output_type": "stream",
     "text": [
      "CompletedProcess(args=['pip', 'uninstall', '-y', 'albumentations'], returncode=0)\n",
      "Will process approximately 981 slices for training\n"
     ]
    },
    {
     "data": {
      "application/vnd.jupyter.widget-view+json": {
       "model_id": "304fa022e82e4c168cf74df6862279e7",
       "version_major": 2,
       "version_minor": 0
      },
      "text/plain": [
       "Processing training motors:   0%|          | 0/109 [00:00<?, ?it/s]"
      ]
     },
     "metadata": {},
     "output_type": "display_data"
    },
    {
     "name": "stdout",
     "output_type": "stream",
     "text": [
      "Clearing pytorch\n",
      "Will process approximately 99 slices for validation\n"
     ]
    },
    {
     "data": {
      "application/vnd.jupyter.widget-view+json": {
       "model_id": "b3c0f51e83094564965f2d2c9a0a1257",
       "version_major": 2,
       "version_minor": 0
      },
      "text/plain": [
       "Processing validation motors:   0%|          | 0/11 [00:00<?, ?it/s]"
      ]
     },
     "metadata": {},
     "output_type": "display_data"
    },
    {
     "name": "stdout",
     "output_type": "stream",
     "text": [
      "\n",
      "Preprocessing Complete:\n",
      "- Training data: 83 tomograms, 109 motors, 981 slices\n",
      "- Validation data: 10 tomograms, 11 motors, 99 slices\n",
      "- Dataset directory: d:/flagellar/temp//yolo_dataset/\n",
      "- YAML configuration: d:/flagellar/temp//yolo_dataset/dataset.yaml\n",
      "\n",
      "Ready for YOLO training!\n",
      "Starting YOLO training process...\n",
      "Created new YAML at d:/flagellar/temp/training.yaml\n",
      "Using YAML file: d:/flagellar/temp/training.yaml\n",
      "YAML contents:\n",
      "names:\n",
      "  0: motor\n",
      "path: d:/flagellar/temp//yolo_dataset/\n",
      "train: images/train\n",
      "val: images/val\n",
      "\n",
      "\n",
      "Starting YOLO training...\n",
      "New https://pypi.org/project/ultralytics/8.3.107 available  Update with 'pip install -U ultralytics'\n",
      "Ultralytics 8.3.98  Python-3.10.14 torch-2.5.1 CUDA:0 (NVIDIA GeForce RTX 4070 Ti, 12282MiB)\n",
      "\u001b[34m\u001b[1mengine\\trainer: \u001b[0mtask=detect, mode=train, model=yolov8m.pt, data=d:/flagellar/temp/training.yaml, epochs=5, time=None, patience=10, batch=16, imgsz=640, save=True, save_period=5, cache=False, device=None, workers=4, project=d:/flagellar/temp//yolo_weights/, name=motor_detector, exist_ok=True, pretrained=True, optimizer=AdamW, verbose=True, seed=0, deterministic=True, single_cls=False, rect=False, cos_lr=True, close_mosaic=10, resume=False, amp=True, fraction=1.0, profile=False, freeze=None, multi_scale=False, overlap_mask=True, mask_ratio=4, dropout=0.0, val=True, split=val, save_json=False, save_hybrid=False, conf=None, iou=0.7, max_det=300, half=False, dnn=False, plots=True, source=None, vid_stride=1, stream_buffer=False, visualize=False, augment=True, agnostic_nms=False, classes=None, retina_masks=False, embed=None, show=False, save_frames=False, save_txt=False, save_conf=False, save_crop=False, show_labels=True, show_conf=True, show_boxes=True, line_width=None, format=torchscript, keras=False, optimize=False, int8=False, dynamic=False, simplify=True, opset=None, workspace=None, nms=False, lr0=0.001, lrf=0.01, momentum=0.937, weight_decay=0.0005, warmup_epochs=3.0, warmup_momentum=0.8, warmup_bias_lr=0.1, box=7.5, cls=0.5, dfl=1.5, pose=12.0, kobj=1.0, nbs=64, hsv_h=0.015, hsv_s=0.7, hsv_v=0.4, degrees=0.0, translate=0.1, scale=0.5, shear=0.0, perspective=0.0, flipud=0.0, fliplr=0.5, bgr=0.0, mosaic=1.0, mixup=0.2, copy_paste=0.0, copy_paste_mode=flip, auto_augment=None, erasing=0.4, crop_fraction=1.0, cfg=None, tracker=botsort.yaml, save_dir=d:\\flagellar\\temp\\yolo_weights\\motor_detector\n",
      "Overriding model.yaml nc=80 with nc=1\n",
      "\n",
      "                   from  n    params  module                                       arguments                     \n",
      "  0                  -1  1      1392  ultralytics.nn.modules.conv.Conv             [3, 48, 3, 2]                 \n",
      "  1                  -1  1     41664  ultralytics.nn.modules.conv.Conv             [48, 96, 3, 2]                \n",
      "  2                  -1  2    111360  ultralytics.nn.modules.block.C2f             [96, 96, 2, True]             \n",
      "  3                  -1  1    166272  ultralytics.nn.modules.conv.Conv             [96, 192, 3, 2]               \n",
      "  4                  -1  4    813312  ultralytics.nn.modules.block.C2f             [192, 192, 4, True]           \n",
      "  5                  -1  1    664320  ultralytics.nn.modules.conv.Conv             [192, 384, 3, 2]              \n",
      "  6                  -1  4   3248640  ultralytics.nn.modules.block.C2f             [384, 384, 4, True]           \n",
      "  7                  -1  1   1991808  ultralytics.nn.modules.conv.Conv             [384, 576, 3, 2]              \n",
      "  8                  -1  2   3985920  ultralytics.nn.modules.block.C2f             [576, 576, 2, True]           \n",
      "  9                  -1  1    831168  ultralytics.nn.modules.block.SPPF            [576, 576, 5]                 \n",
      " 10                  -1  1         0  torch.nn.modules.upsampling.Upsample         [None, 2, 'nearest']          \n",
      " 11             [-1, 6]  1         0  ultralytics.nn.modules.conv.Concat           [1]                           \n",
      " 12                  -1  2   1993728  ultralytics.nn.modules.block.C2f             [960, 384, 2]                 \n",
      " 13                  -1  1         0  torch.nn.modules.upsampling.Upsample         [None, 2, 'nearest']          \n",
      " 14             [-1, 4]  1         0  ultralytics.nn.modules.conv.Concat           [1]                           \n",
      " 15                  -1  2    517632  ultralytics.nn.modules.block.C2f             [576, 192, 2]                 \n",
      " 16                  -1  1    332160  ultralytics.nn.modules.conv.Conv             [192, 192, 3, 2]              \n",
      " 17            [-1, 12]  1         0  ultralytics.nn.modules.conv.Concat           [1]                           \n",
      " 18                  -1  2   1846272  ultralytics.nn.modules.block.C2f             [576, 384, 2]                 \n",
      " 19                  -1  1   1327872  ultralytics.nn.modules.conv.Conv             [384, 384, 3, 2]              \n",
      " 20             [-1, 9]  1         0  ultralytics.nn.modules.conv.Concat           [1]                           \n",
      " 21                  -1  2   4207104  ultralytics.nn.modules.block.C2f             [960, 576, 2]                 \n",
      " 22        [15, 18, 21]  1   3776275  ultralytics.nn.modules.head.Detect           [1, [192, 384, 576]]          \n",
      "Model summary: 169 layers, 25,856,899 parameters, 25,856,883 gradients, 79.1 GFLOPs\n",
      "\n",
      "Transferred 469/475 items from pretrained weights\n",
      "Freezing layer 'model.22.dfl.conv.weight'\n",
      "\u001b[34m\u001b[1mAMP: \u001b[0mrunning Automatic Mixed Precision (AMP) checks...\n",
      "\u001b[34m\u001b[1mAMP: \u001b[0mchecks passed \n"
     ]
    },
    {
     "name": "stderr",
     "output_type": "stream",
     "text": [
      "\n",
      "\n",
      "[34m\u001b[1mval: \u001b[0mScanning D:\\flagellar\\temp\\yolo_dataset\\labels\\val.cache... 99 images, 0 backgrounds, 0 corrupt: 100%|██████████| \u001b[0m"
     ]
    },
    {
     "name": "stdout",
     "output_type": "stream",
     "text": [
      "Plotting labels to d:\\flagellar\\temp\\yolo_weights\\motor_detector\\labels.jpg... \n",
      "\u001b[34m\u001b[1moptimizer:\u001b[0m AdamW(lr=0.001, momentum=0.937) with parameter groups 77 weight(decay=0.0), 84 weight(decay=0.0005), 83 bias(decay=0.0)\n",
      "Image sizes 640 train, 640 val\n",
      "Using 4 dataloader workers\n",
      "Logging results to \u001b[1md:\\flagellar\\temp\\yolo_weights\\motor_detector\u001b[0m\n",
      "Starting training for 5 epochs...\n",
      "\n",
      "      Epoch    GPU_mem   box_loss   cls_loss   dfl_loss  Instances       Size\n"
     ]
    },
    {
     "name": "stderr",
     "output_type": "stream",
     "text": [
      "\n",
      "                 Class     Images  Instances      Box(P          R      mAP50  mAP50-95): 100%|██████████| 4/4 [00:00<0"
     ]
    },
    {
     "name": "stdout",
     "output_type": "stream",
     "text": [
      "                   all         99         99          0          0          0          0\n"
     ]
    },
    {
     "name": "stderr",
     "output_type": "stream",
     "text": [
      "\n"
     ]
    },
    {
     "name": "stdout",
     "output_type": "stream",
     "text": [
      "\n",
      "      Epoch    GPU_mem   box_loss   cls_loss   dfl_loss  Instances       Size\n"
     ]
    },
    {
     "name": "stderr",
     "output_type": "stream",
     "text": [
      "\n",
      "                 Class     Images  Instances      Box(P          R      mAP50  mAP50-95): 100%|██████████| 4/4 [00:00<0"
     ]
    },
    {
     "name": "stdout",
     "output_type": "stream",
     "text": [
      "                   all         99         99      0.332      0.364      0.276     0.0868\n"
     ]
    },
    {
     "name": "stderr",
     "output_type": "stream",
     "text": [
      "\n"
     ]
    },
    {
     "name": "stdout",
     "output_type": "stream",
     "text": [
      "\n",
      "      Epoch    GPU_mem   box_loss   cls_loss   dfl_loss  Instances       Size\n"
     ]
    },
    {
     "name": "stderr",
     "output_type": "stream",
     "text": [
      "\n",
      "                 Class     Images  Instances      Box(P          R      mAP50  mAP50-95): 100%|██████████| 4/4 [00:00<0"
     ]
    },
    {
     "name": "stdout",
     "output_type": "stream",
     "text": [
      "                   all         99         99      0.643      0.465      0.412      0.156\n"
     ]
    },
    {
     "name": "stderr",
     "output_type": "stream",
     "text": [
      "\n"
     ]
    },
    {
     "name": "stdout",
     "output_type": "stream",
     "text": [
      "\n",
      "      Epoch    GPU_mem   box_loss   cls_loss   dfl_loss  Instances       Size\n"
     ]
    },
    {
     "name": "stderr",
     "output_type": "stream",
     "text": [
      "\n",
      "                 Class     Images  Instances      Box(P          R      mAP50  mAP50-95): 100%|██████████| 4/4 [00:00<0"
     ]
    },
    {
     "name": "stdout",
     "output_type": "stream",
     "text": [
      "                   all         99         99      0.203      0.333      0.123     0.0292\n"
     ]
    },
    {
     "name": "stderr",
     "output_type": "stream",
     "text": [
      "\n"
     ]
    },
    {
     "name": "stdout",
     "output_type": "stream",
     "text": [
      "\n",
      "      Epoch    GPU_mem   box_loss   cls_loss   dfl_loss  Instances       Size\n"
     ]
    },
    {
     "name": "stderr",
     "output_type": "stream",
     "text": [
      "\n",
      "                 Class     Images  Instances      Box(P          R      mAP50  mAP50-95): 100%|██████████| 4/4 [00:00<0"
     ]
    },
    {
     "name": "stdout",
     "output_type": "stream",
     "text": [
      "                   all         99         99      0.353      0.364      0.287     0.0808\n"
     ]
    },
    {
     "name": "stderr",
     "output_type": "stream",
     "text": [
      "\n"
     ]
    },
    {
     "name": "stdout",
     "output_type": "stream",
     "text": [
      "\n",
      "5 epochs completed in 0.022 hours.\n",
      "Optimizer stripped from d:\\flagellar\\temp\\yolo_weights\\motor_detector\\weights\\last.pt, 52.0MB\n",
      "Optimizer stripped from d:\\flagellar\\temp\\yolo_weights\\motor_detector\\weights\\best.pt, 52.0MB\n",
      "\n",
      "Validating d:\\flagellar\\temp\\yolo_weights\\motor_detector\\weights\\best.pt...\n",
      "Ultralytics 8.3.98  Python-3.10.14 torch-2.5.1 CUDA:0 (NVIDIA GeForce RTX 4070 Ti, 12282MiB)\n",
      "Model summary (fused): 92 layers, 25,840,339 parameters, 0 gradients, 78.7 GFLOPs\n"
     ]
    },
    {
     "name": "stderr",
     "output_type": "stream",
     "text": [
      "\n",
      "                Class     Images  Instances      Box(P          R      mAP50  mAP50-95): 100%|██████████| 4/4 [00:01<0"
     ]
    },
    {
     "name": "stdout",
     "output_type": "stream",
     "text": [
      "                   all         99         99      0.456      0.525      0.483      0.156\n",
      "Speed: 0.2ms preprocess, 12.6ms inference, 0.0ms loss, 1.7ms postprocess per image\n",
      "Results saved to \u001b[1md:\\flagellar\\temp\\yolo_weights\\motor_detector\u001b[0m\n",
      "Loss curve saved to d:/flagellar/temp//yolo_weights/motor_detector\\dfl_loss_curve.png\n",
      "\n",
      "Best model found at epoch 4 with validation DFL loss: 1.0389\n",
      "New https://pypi.org/project/ultralytics/8.3.107 available  Update with 'pip install -U ultralytics'\n",
      "Ultralytics 8.3.98  Python-3.10.14 torch-2.5.1 CUDA:0 (NVIDIA GeForce RTX 4070 Ti, 12282MiB)\n",
      "\u001b[34m\u001b[1mengine\\trainer: \u001b[0mtask=detect, mode=train, model=yolov8m.pt, data=d:/flagellar/temp/training.yaml, epochs=5, time=None, patience=10, batch=16, imgsz=640, save=True, save_period=5, cache=False, device=None, workers=4, project=d:/flagellar/temp//yolo_weights/, name=motor_detector, exist_ok=True, pretrained=True, optimizer=AdamW, verbose=True, seed=100000, deterministic=True, single_cls=False, rect=False, cos_lr=True, close_mosaic=10, resume=False, amp=True, fraction=1.0, profile=False, freeze=None, multi_scale=False, overlap_mask=True, mask_ratio=4, dropout=0.0, val=True, split=val, save_json=False, save_hybrid=False, conf=None, iou=0.7, max_det=300, half=False, dnn=False, plots=True, source=None, vid_stride=1, stream_buffer=False, visualize=False, augment=True, agnostic_nms=False, classes=None, retina_masks=False, embed=None, show=False, save_frames=False, save_txt=False, save_conf=False, save_crop=False, show_labels=True, show_conf=True, show_boxes=True, line_width=None, format=torchscript, keras=False, optimize=False, int8=False, dynamic=False, simplify=True, opset=None, workspace=None, nms=False, lr0=0.001, lrf=0.01, momentum=0.937, weight_decay=0.0005, warmup_epochs=3.0, warmup_momentum=0.8, warmup_bias_lr=0.1, box=7.5, cls=0.5, dfl=1.5, pose=12.0, kobj=1.0, nbs=64, hsv_h=0.015, hsv_s=0.7, hsv_v=0.4, degrees=0.0, translate=0.1, scale=0.5, shear=0.0, perspective=0.0, flipud=0.0, fliplr=0.5, bgr=0.0, mosaic=1.0, mixup=0.2, copy_paste=0.0, copy_paste_mode=flip, auto_augment=None, erasing=0.4, crop_fraction=1.0, cfg=None, tracker=botsort.yaml, save_dir=d:\\flagellar\\temp\\yolo_weights\\motor_detector\n",
      "Overriding model.yaml nc=80 with nc=1\n",
      "\n",
      "                   from  n    params  module                                       arguments                     \n",
      "  0                  -1  1      1392  ultralytics.nn.modules.conv.Conv             [3, 48, 3, 2]                 \n",
      "  1                  -1  1     41664  ultralytics.nn.modules.conv.Conv             [48, 96, 3, 2]                \n",
      "  2                  -1  2    111360  ultralytics.nn.modules.block.C2f             [96, 96, 2, True]             \n",
      "  3                  -1  1    166272  ultralytics.nn.modules.conv.Conv             [96, 192, 3, 2]               \n",
      "  4                  -1  4    813312  ultralytics.nn.modules.block.C2f             [192, 192, 4, True]           \n",
      "  5                  -1  1    664320  ultralytics.nn.modules.conv.Conv             [192, 384, 3, 2]              \n",
      "  6                  -1  4   3248640  ultralytics.nn.modules.block.C2f             [384, 384, 4, True]           \n",
      "  7                  -1  1   1991808  ultralytics.nn.modules.conv.Conv             [384, 576, 3, 2]              \n",
      "  8                  -1  2   3985920  ultralytics.nn.modules.block.C2f             [576, 576, 2, True]           \n",
      "  9                  -1  1    831168  ultralytics.nn.modules.block.SPPF            [576, 576, 5]                 \n",
      " 10                  -1  1         0  torch.nn.modules.upsampling.Upsample         [None, 2, 'nearest']          \n",
      " 11             [-1, 6]  1         0  ultralytics.nn.modules.conv.Concat           [1]                           \n",
      " 12                  -1  2   1993728  ultralytics.nn.modules.block.C2f             [960, 384, 2]                 \n",
      " 13                  -1  1         0  torch.nn.modules.upsampling.Upsample         [None, 2, 'nearest']          \n",
      " 14             [-1, 4]  1         0  ultralytics.nn.modules.conv.Concat           [1]                           \n",
      " 15                  -1  2    517632  ultralytics.nn.modules.block.C2f             [576, 192, 2]                 \n",
      " 16                  -1  1    332160  ultralytics.nn.modules.conv.Conv             [192, 192, 3, 2]              \n",
      " 17            [-1, 12]  1         0  ultralytics.nn.modules.conv.Concat           [1]                           \n",
      " 18                  -1  2   1846272  ultralytics.nn.modules.block.C2f             [576, 384, 2]                 \n",
      " 19                  -1  1   1327872  ultralytics.nn.modules.conv.Conv             [384, 384, 3, 2]              \n",
      " 20             [-1, 9]  1         0  ultralytics.nn.modules.conv.Concat           [1]                           \n",
      " 21                  -1  2   4207104  ultralytics.nn.modules.block.C2f             [960, 576, 2]                 \n",
      " 22        [15, 18, 21]  1   3776275  ultralytics.nn.modules.head.Detect           [1, [192, 384, 576]]          \n",
      "Model summary: 169 layers, 25,856,899 parameters, 25,856,883 gradients, 79.1 GFLOPs\n",
      "\n",
      "Transferred 469/475 items from pretrained weights\n",
      "Freezing layer 'model.22.dfl.conv.weight'\n",
      "\u001b[34m\u001b[1mAMP: \u001b[0mrunning Automatic Mixed Precision (AMP) checks...\n",
      "\u001b[34m\u001b[1mAMP: \u001b[0mchecks passed \n"
     ]
    },
    {
     "name": "stderr",
     "output_type": "stream",
     "text": [
      "\n",
      "\n",
      "[34m\u001b[1mval: \u001b[0mScanning D:\\flagellar\\temp\\yolo_dataset\\labels\\val.cache... 99 images, 0 backgrounds, 0 corrupt: 100%|██████████| \u001b[0m"
     ]
    },
    {
     "name": "stdout",
     "output_type": "stream",
     "text": [
      "Plotting labels to d:\\flagellar\\temp\\yolo_weights\\motor_detector\\labels.jpg... \n",
      "\u001b[34m\u001b[1moptimizer:\u001b[0m AdamW(lr=0.001, momentum=0.937) with parameter groups 77 weight(decay=0.0), 84 weight(decay=0.0005), 83 bias(decay=0.0)\n",
      "Image sizes 640 train, 640 val\n",
      "Using 4 dataloader workers\n",
      "Logging results to \u001b[1md:\\flagellar\\temp\\yolo_weights\\motor_detector\u001b[0m\n",
      "Starting training for 5 epochs...\n",
      "\n",
      "      Epoch    GPU_mem   box_loss   cls_loss   dfl_loss  Instances       Size\n"
     ]
    },
    {
     "name": "stderr",
     "output_type": "stream",
     "text": [
      "\n",
      "                 Class     Images  Instances      Box(P          R      mAP50  mAP50-95): 100%|██████████| 4/4 [00:00<0"
     ]
    },
    {
     "name": "stdout",
     "output_type": "stream",
     "text": [
      "                   all         99         99     0.0504      0.273     0.0661     0.0204\n"
     ]
    },
    {
     "name": "stderr",
     "output_type": "stream",
     "text": [
      "\n"
     ]
    },
    {
     "name": "stdout",
     "output_type": "stream",
     "text": [
      "\n",
      "      Epoch    GPU_mem   box_loss   cls_loss   dfl_loss  Instances       Size\n"
     ]
    },
    {
     "name": "stderr",
     "output_type": "stream",
     "text": [
      "\n",
      "                 Class     Images  Instances      Box(P          R      mAP50  mAP50-95): 100%|██████████| 4/4 [00:00<0"
     ]
    },
    {
     "name": "stdout",
     "output_type": "stream",
     "text": [
      "                   all         99         99      0.405      0.232      0.218     0.0654\n"
     ]
    },
    {
     "name": "stderr",
     "output_type": "stream",
     "text": [
      "\n"
     ]
    },
    {
     "name": "stdout",
     "output_type": "stream",
     "text": [
      "\n",
      "      Epoch    GPU_mem   box_loss   cls_loss   dfl_loss  Instances       Size\n"
     ]
    },
    {
     "name": "stderr",
     "output_type": "stream",
     "text": [
      "\n",
      "                 Class     Images  Instances      Box(P          R      mAP50  mAP50-95): 100%|██████████| 4/4 [00:00<0"
     ]
    },
    {
     "name": "stdout",
     "output_type": "stream",
     "text": [
      "                   all         99         99      0.433      0.239       0.19     0.0418\n"
     ]
    },
    {
     "name": "stderr",
     "output_type": "stream",
     "text": [
      "\n"
     ]
    },
    {
     "name": "stdout",
     "output_type": "stream",
     "text": [
      "\n",
      "      Epoch    GPU_mem   box_loss   cls_loss   dfl_loss  Instances       Size\n"
     ]
    },
    {
     "name": "stderr",
     "output_type": "stream",
     "text": [
      "\n",
      "                 Class     Images  Instances      Box(P          R      mAP50  mAP50-95): 100%|██████████| 4/4 [00:00<0"
     ]
    },
    {
     "name": "stdout",
     "output_type": "stream",
     "text": [
      "                   all         99         99      0.315      0.131     0.0959     0.0218\n"
     ]
    },
    {
     "name": "stderr",
     "output_type": "stream",
     "text": [
      "\n"
     ]
    },
    {
     "name": "stdout",
     "output_type": "stream",
     "text": [
      "\n",
      "      Epoch    GPU_mem   box_loss   cls_loss   dfl_loss  Instances       Size\n"
     ]
    },
    {
     "name": "stderr",
     "output_type": "stream",
     "text": [
      "\n",
      "                 Class     Images  Instances      Box(P          R      mAP50  mAP50-95): 100%|██████████| 4/4 [00:00<0"
     ]
    },
    {
     "name": "stdout",
     "output_type": "stream",
     "text": [
      "                   all         99         99      0.606      0.273      0.321     0.0775\n"
     ]
    },
    {
     "name": "stderr",
     "output_type": "stream",
     "text": [
      "\n"
     ]
    },
    {
     "name": "stdout",
     "output_type": "stream",
     "text": [
      "\n",
      "5 epochs completed in 0.022 hours.\n",
      "Optimizer stripped from d:\\flagellar\\temp\\yolo_weights\\motor_detector\\weights\\last.pt, 52.0MB\n",
      "Optimizer stripped from d:\\flagellar\\temp\\yolo_weights\\motor_detector\\weights\\best.pt, 52.0MB\n",
      "\n",
      "Validating d:\\flagellar\\temp\\yolo_weights\\motor_detector\\weights\\best.pt...\n",
      "Ultralytics 8.3.98  Python-3.10.14 torch-2.5.1 CUDA:0 (NVIDIA GeForce RTX 4070 Ti, 12282MiB)\n",
      "Model summary (fused): 92 layers, 25,840,339 parameters, 0 gradients, 78.7 GFLOPs\n"
     ]
    },
    {
     "name": "stderr",
     "output_type": "stream",
     "text": [
      "\n",
      "                Class     Images  Instances      Box(P          R      mAP50  mAP50-95): 100%|██████████| 4/4 [00:01<0"
     ]
    },
    {
     "name": "stdout",
     "output_type": "stream",
     "text": [
      "                   all         99         99      0.408      0.453      0.312      0.105\n",
      "Speed: 0.3ms preprocess, 9.7ms inference, 0.0ms loss, 1.6ms postprocess per image\n",
      "Results saved to \u001b[1md:\\flagellar\\temp\\yolo_weights\\motor_detector\u001b[0m\n",
      "Loss curve saved to d:/flagellar/temp//yolo_weights/motor_detector\\dfl_loss_curve.png\n",
      "\n",
      "Best model found at epoch 1 with validation DFL loss: 1.1048\n",
      "\n",
      "Training complete!\n",
      "Clearing cupy\n",
      "Model summary (fused): 92 layers, 25,840,339 parameters, 0 gradients, 78.7 GFLOPs\n",
      "Model summary (fused): 92 layers, 25,840,339 parameters, 0 gradients, 78.7 GFLOPs\n",
      "Processing tomogram tomo_081a2d (1/1)\n",
      "Processing 300 out of 300 slices (CONCENTRATION=1)\n",
      "Processing 300 out of 300 slices (CONCENTRATION=1)\n",
      "------------------\n",
      "     index    z    y    x  confidence  i_model\n",
      "0        0  164  309  657    0.508789        0\n",
      "1        1  163  309  657    0.503906        0\n",
      "2        2  162  309  656    0.500977        0\n",
      "3        3  161  310  656    0.477539        0\n",
      "4        4  160  310  656    0.460938        0\n",
      "5        5  159  309  655    0.456055        0\n",
      "6        6  165  309  657    0.446533        0\n",
      "9        9  157  310  656    0.418701        0\n",
      "13      13  157  313  652    0.403564        0\n",
      "15      15  166  309  657    0.399902        0\n",
      "16      17  158  309  655    0.389648        0\n",
      "20      21  158  313  652    0.375732        0\n",
      "21      22  160  312  653    0.373779        0\n",
      "22      23  159  312  652    0.373047        0\n",
      "23      24  164  313  654    0.370117        0\n",
      "25      26  161  313  654    0.366699        0\n",
      "27      28  149  311  654    0.360352        0\n",
      "30      31  162  312  653    0.349609        0\n",
      "31      32  167  309  657    0.349609        0\n",
      "33      34  151  310  656    0.342529        0\n",
      "37      38  148  314  651    0.332031        0\n",
      "40      41  151  313  651    0.329346        0\n",
      "43      44  155  310  656    0.319092        0\n",
      "44      45  163  312  654    0.317383        0\n",
      "45      46  156  314  651    0.313965        0\n",
      "46      47  156  310  656    0.312256        0\n",
      "47      48  149  312  651    0.311523        0\n",
      "49      50  155  314  652    0.307373        0\n",
      "51      52  150  313  650    0.303955        0\n",
      "52      53  148  310  655    0.301514        0\n",
      "59      60  150  311  653    0.276611        0\n",
      "61      62  147  310  656    0.263672        0\n",
      "65      66  168  309  657    0.254639        0\n",
      "70      71  154  314  650    0.237183        0\n",
      "73      74  146  310  656    0.232300        0\n",
      "75      76  153  311  654    0.230957        0\n",
      "78      79  154  311  654    0.220703        0\n",
      "80      81  165  313  655    0.219971        0\n",
      "81      82  152  309  656    0.219360        0\n",
      "82      83  145  316  651    0.215332        0\n",
      "85      86  123  308  635    0.210815        0\n",
      "87      88  153  312  651    0.201782        0\n",
      "88      89  166  313  654    0.200562        0\n",
      "89      90  144  315  650    0.199951        0\n",
      "90      91  152  313  651    0.198120        0\n",
      "94      95  167  312  653    0.182373        0\n",
      "95      96  146  311  654    0.178955        0\n",
      "100    101  145  311  656    0.164551        0\n",
      "102    103  144  312  652    0.160278        0\n",
      "103    104  146  314  652    0.159790        0\n",
      "111    112  147  313  654    0.128540        0\n",
      "114    115  124  309  635    0.121277        0\n",
      "119    120  125  308  635    0.113159        0\n",
      "120    121  168  314  653    0.113159        0\n",
      "124    126  143  315  650    0.107422        0\n",
      "128    131  169  310  657    0.102295        0\n",
      "------------------\n",
      "------------------\n",
      "     index    z    y    x  confidence  i_model\n",
      "7        7  149  315  650    0.433105        1\n",
      "8        8  166  309  659    0.428223        1\n",
      "10      10  151  316  650    0.418701        1\n",
      "11      11  148  315  651    0.410156        1\n",
      "12      12  165  310  660    0.406494        1\n",
      "..     ...  ...  ...  ...         ...      ...\n",
      "123    125  165  314  656    0.107788        1\n",
      "125    127  148  311  656    0.107422        1\n",
      "126    129  150  320  645    0.106323        1\n",
      "127    130  120  308  635    0.103027        1\n",
      "129    133  170  307  655    0.101929        1\n",
      "\n",
      "[74 rows x 6 columns]\n",
      "------------------\n",
      "------------------\n",
      "Empty DataFrame\n",
      "Columns: [index, z, y, x, confidence, i_model]\n",
      "Index: []\n",
      "------------------\n",
      "------------------\n",
      "   index    z    y    x  confidence  i_model\n",
      "0     16  160  702  505    0.398926        1\n",
      "1    132  159  702  504    0.102295        1\n",
      "------------------\n",
      "------------------\n",
      "Empty DataFrame\n",
      "Columns: [index, z, y, x, confidence, i_model]\n",
      "Index: []\n",
      "------------------\n",
      "------------------\n",
      "   index    z    y    x  confidence  i_model\n",
      "0    123  278  947  410    0.109314        1\n",
      "1    128  279  947  410    0.107422        1\n",
      "------------------\n",
      "FINAL\n",
      "     z    y    x  confidence\n",
      "0  164  309  657    0.470947\n",
      "1  160  702  505    0.204463\n",
      "2  278  947  410    0.059657\n",
      "\n",
      "Clearing pytorch\n",
      "Clearing cupy\n",
      "Processing tomogram tomo_08446f (1/1)\n",
      "Processing 500 out of 500 slices (CONCENTRATION=1)\n",
      "Processing 500 out of 500 slices (CONCENTRATION=1)\n",
      "------------------\n",
      "    index    z    y   x  confidence  i_model\n",
      "1       1  271  755  46    0.358398        0\n",
      "2       2  269  754  44    0.353027        0\n",
      "3       3  269  720  65    0.335449        0\n",
      "4       4  270  719  67    0.335449        0\n",
      "5       5  270  754  46    0.332764        0\n",
      "8       8  272  754  44    0.325195        0\n",
      "11     13  268  753  42    0.197388        0\n",
      "12     15  232  740  51    0.182373        0\n",
      "17     24  268  720  66    0.150513        0\n",
      "19     26  230  739  51    0.142700        0\n",
      "21     28  241  774  40    0.142212        0\n",
      "22     29  244  774  43    0.141235        0\n",
      "24     34  271  718  65    0.135742        0\n",
      "25     36  239  775  39    0.129395        0\n",
      "28     40  243  775  44    0.112793        0\n",
      "32     44  269  754  47    0.108215        0\n",
      "33     45  231  739  50    0.107056        0\n",
      "35     48  245  775  43    0.102295        0\n",
      "37     50  235  739  52    0.101257        0\n",
      "39     54  238  775  40    0.093994        0\n",
      "43     62  236  738  51    0.083618        0\n",
      "44     64  242  775  41    0.080383        0\n",
      "46     66  233  740  51    0.078064        0\n",
      "52     76  273  754  45    0.072388        0\n",
      "------------------\n",
      "------------------\n",
      "    index    z    y   x  confidence  i_model\n",
      "0       0  231  742  52    0.359375        1\n",
      "6       6  244  777  42    0.332764        1\n",
      "7       7  269  754  45    0.331055        1\n",
      "9       9  272  754  43    0.262207        1\n",
      "10     11  232  742  52    0.219360        1\n",
      "13     16  270  756  45    0.179565        1\n",
      "14     19  241  774  39    0.165649        1\n",
      "15     22  239  775  39    0.155029        1\n",
      "16     23  268  753  43    0.153076        1\n",
      "18     25  271  754  44    0.149048        1\n",
      "20     27  238  775  39    0.142700        1\n",
      "23     31  243  776  42    0.140869        1\n",
      "26     37  269  720  65    0.121277        1\n",
      "27     38  240  775  41    0.117188        1\n",
      "29     41  269  755  48    0.112427        1\n",
      "30     42  242  775  41    0.110107        1\n",
      "31     43  268  721  67    0.108948        1\n",
      "34     46  245  776  43    0.106689        1\n",
      "36     49  273  754  45    0.101929        1\n",
      "38     53  274  754  44    0.098755        1\n",
      "40     56  239  775  36    0.090088        1\n",
      "41     57  238  775  36    0.089478        1\n",
      "42     58  230  742  53    0.088806        1\n",
      "45     65  246  777  44    0.080383        1\n",
      "47     69  277  755  46    0.076660        1\n",
      "48     70  252  775  42    0.075012        1\n",
      "49     72  270  721  65    0.073975        1\n",
      "50     74  244  774  43    0.073181        1\n",
      "51     75  241  775  37    0.072876        1\n",
      "------------------\n",
      "------------------\n",
      "    index    z    y    x  confidence  i_model\n",
      "0      10  215  845  887    0.233032        0\n",
      "1      12  214  843  886    0.206299        0\n",
      "4      18  216  848  886    0.165649        0\n",
      "9      35  217  851  884    0.135254        0\n",
      "10     47  212  845  887    0.102295        0\n",
      "11     52  213  846  887    0.099792        0\n",
      "12     63  210  854  889    0.082397        0\n",
      "13     68  209  853  887    0.076965        0\n",
      "------------------\n",
      "------------------\n",
      "    index    z    y    x  confidence  i_model\n",
      "2      14  217  848  886    0.193726        1\n",
      "3      17  214  842  887    0.174438        1\n",
      "5      20  215  842  887    0.161865        1\n",
      "6      21  216  847  886    0.160278        1\n",
      "7      30  210  857  890    0.140869        1\n",
      "8      33  217  883  903    0.136597        1\n",
      "14     71  214  885  898    0.074524        1\n",
      "------------------\n",
      "------------------\n",
      "Empty DataFrame\n",
      "Columns: [index, z, y, x, confidence, i_model]\n",
      "Index: []\n",
      "------------------\n",
      "------------------\n",
      "   index    z    y    x  confidence  i_model\n",
      "0     32  212  225  277    0.137085        1\n",
      "------------------\n",
      "------------------\n",
      "Empty DataFrame\n",
      "Columns: [index, z, y, x, confidence, i_model]\n",
      "Index: []\n",
      "------------------\n",
      "------------------\n",
      "   index    z    y    x  confidence  i_model\n",
      "0     39  217  630  358    0.115967        1\n",
      "1     51  214  628  360    0.100891        1\n",
      "2     59  216  630  359    0.087280        1\n",
      "3     67  234  621  361    0.077820        1\n",
      "4     73  233  619  360    0.073669        1\n",
      "------------------\n",
      "------------------\n",
      "   index    z    y    x  confidence  i_model\n",
      "0     55  229  835  711    0.091064        0\n",
      "------------------\n",
      "------------------\n",
      "Empty DataFrame\n",
      "Columns: [index, z, y, x, confidence, i_model]\n",
      "Index: []\n",
      "------------------\n",
      "------------------\n",
      "Empty DataFrame\n",
      "Columns: [index, z, y, x, confidence, i_model]\n",
      "Index: []\n",
      "------------------\n",
      "------------------\n",
      "   index   z    y   x  confidence  i_model\n",
      "0     60  40  822  27    0.085693        1\n",
      "------------------\n",
      "------------------\n",
      "   index   z    y    x  confidence  i_model\n",
      "0     61  18  169  902    0.085083        0\n",
      "------------------\n",
      "------------------\n",
      "Empty DataFrame\n",
      "Columns: [index, z, y, x, confidence, i_model]\n",
      "Index: []\n",
      "------------------\n",
      "FINAL\n",
      "     z    y    x  confidence\n",
      "0  231  742   52    0.358887\n",
      "1  215  845  887    0.213379\n",
      "2  212  225  277    0.073542\n",
      "3  217  630  358    0.062983\n",
      "4  229  835  711    0.050532\n",
      "5   40  822   27    0.047847\n",
      "6   18  169  902    0.047542\n",
      "\n",
      "       z    y    x  confidence  i_model\n",
      "8    123  308  635    0.210815        0\n",
      "11   124  309  635    0.121277        0\n",
      "14   125  308  635    0.113159        0\n",
      "25   143  315  650    0.107422        0\n",
      "30   144  315  650    0.199951        0\n",
      "..   ...  ...  ...         ...      ...\n",
      "338  168  307  658    0.213989        1\n",
      "339  168  306  656    0.134277        1\n",
      "345  170  307  655    0.101929        1\n",
      "380  278  947  410    0.109314        1\n",
      "382  279  947  410    0.107422        1\n",
      "\n",
      "[134 rows x 5 columns]\n",
      "       z    y    x  confidence  i_model\n",
      "17    18  169  902    0.085083        0\n",
      "135  209  853  887    0.076965        0\n",
      "137  210  854  889    0.082397        0\n",
      "140  212  845  887    0.102295        0\n",
      "143  213  846  887    0.099792        0\n",
      "..   ...  ...  ...         ...      ...\n",
      "658  271  754   44    0.149048        1\n",
      "661  272  754   43    0.262207        1\n",
      "665  273  754   45    0.101929        1\n",
      "668  274  754   44    0.098755        1\n",
      "672  277  755   46    0.076660        1\n",
      "\n",
      "[77 rows x 5 columns]\n",
      "[     z    y    x  confidence\n",
      "0  164  309  657    0.470947,      z    y   x  confidence\n",
      "0  231  742  52    0.358887]\n"
     ]
    },
    {
     "ename": "AssertionError",
     "evalue": "",
     "output_type": "error",
     "traceback": [
      "\u001b[1;31m---------------------------------------------------------------------------\u001b[0m",
      "\u001b[1;31mAssertionError\u001b[0m                            Traceback (most recent call last)",
      "Cell \u001b[1;32mIn[2], line 4\u001b[0m\n\u001b[0;32m      2\u001b[0m importlib\u001b[38;5;241m.\u001b[39mreload(flg_test)\n\u001b[0;32m      3\u001b[0m \u001b[38;5;66;03m#flg_test.test_yolo_infer(update_reference=False)\u001b[39;00m\n\u001b[1;32m----> 4\u001b[0m \u001b[43mflg_test\u001b[49m\u001b[38;5;241;43m.\u001b[39;49m\u001b[43mrun_all_tests\u001b[49m\u001b[43m(\u001b[49m\u001b[43mupdate_reference\u001b[49m\u001b[38;5;241;43m=\u001b[39;49m\u001b[38;5;28;43;01mFalse\u001b[39;49;00m\u001b[43m)\u001b[49m\n",
      "File \u001b[1;32md:\\flagellar/code/core\\flg_test.py:114\u001b[0m, in \u001b[0;36mrun_all_tests\u001b[1;34m(update_reference)\u001b[0m\n\u001b[0;32m    113\u001b[0m \u001b[38;5;28;01mdef\u001b[39;00m \u001b[38;5;21mrun_all_tests\u001b[39m(update_reference\u001b[38;5;241m=\u001b[39m\u001b[38;5;28;01mFalse\u001b[39;00m):\n\u001b[1;32m--> 114\u001b[0m     \u001b[43mtest_yolo\u001b[49m\u001b[43m(\u001b[49m\u001b[43mupdate_reference\u001b[49m\u001b[38;5;241;43m=\u001b[39;49m\u001b[43mupdate_reference\u001b[49m\u001b[43m)\u001b[49m\n\u001b[0;32m    115\u001b[0m     test_unet(update_reference\u001b[38;5;241m=\u001b[39mupdate_reference)\n\u001b[0;32m    116\u001b[0m     test_unet_alt(update_reference\u001b[38;5;241m=\u001b[39mupdate_reference)    \n",
      "File \u001b[1;32md:\\flagellar/code/core\\flg_test.py:109\u001b[0m, in \u001b[0;36mtest_yolo\u001b[1;34m(update_reference)\u001b[0m\n\u001b[0;32m    107\u001b[0m model\u001b[38;5;241m.\u001b[39mtrain(train_data[\u001b[38;5;241m1\u001b[39m:\u001b[38;5;241m150\u001b[39m], train_data[\u001b[38;5;241m216\u001b[39m:\u001b[38;5;241m230\u001b[39m])\n\u001b[0;32m    108\u001b[0m fls\u001b[38;5;241m.\u001b[39mdill_save(fls\u001b[38;5;241m.\u001b[39mtemp_dir \u001b[38;5;241m+\u001b[39m \u001b[38;5;124m'\u001b[39m\u001b[38;5;124myolo_test.pickle\u001b[39m\u001b[38;5;124m'\u001b[39m, model)\n\u001b[1;32m--> 109\u001b[0m \u001b[43mtest_yolo_infer\u001b[49m\u001b[43m(\u001b[49m\u001b[43mupdate_reference\u001b[49m\u001b[43m \u001b[49m\u001b[38;5;241;43m=\u001b[39;49m\u001b[43m \u001b[49m\u001b[43mupdate_reference\u001b[49m\u001b[43m)\u001b[49m\n",
      "File \u001b[1;32md:\\flagellar/code/core\\flg_test.py:96\u001b[0m, in \u001b[0;36mtest_yolo_infer\u001b[1;34m(update_reference)\u001b[0m\n\u001b[0;32m     94\u001b[0m     fls\u001b[38;5;241m.\u001b[39mdill_save(ref_name, res)\n\u001b[0;32m     95\u001b[0m \u001b[38;5;28;01melse\u001b[39;00m:\n\u001b[1;32m---> 96\u001b[0m     \u001b[38;5;28;01massert\u001b[39;00m \u001b[38;5;28mstr\u001b[39m(res) \u001b[38;5;241m==\u001b[39m \u001b[38;5;28mstr\u001b[39m(fls\u001b[38;5;241m.\u001b[39mdill_load(ref_name))\n",
      "\u001b[1;31mAssertionError\u001b[0m: "
     ]
    }
   ],
   "source": [
    "import importlib\n",
    "importlib.reload(flg_test)\n",
    "#flg_test.test_yolo_infer(update_reference=False)\n",
    "flg_test.run_all_tests(update_reference=False)"
   ]
  },
  {
   "cell_type": "code",
   "execution_count": null,
   "id": "272fae9a-5bb0-45c0-b50f-5cfcfa205221",
   "metadata": {},
   "outputs": [],
   "source": [
    "%debug"
   ]
  },
  {
   "cell_type": "code",
   "execution_count": null,
   "id": "c2a2c3ba-6c07-4761-ad4f-c3078a3a57fe",
   "metadata": {},
   "outputs": [],
   "source": [
    "import flg_support as fls\n",
    "ref_name = fls.code_dir + 'ref_yolo.pickle';\n",
    "str(fls.dill_load(ref_name))"
   ]
  },
  {
   "cell_type": "code",
   "execution_count": null,
   "id": "b84b4516-35a7-4a48-a757-26033301e074",
   "metadata": {},
   "outputs": [],
   "source": []
  }
 ],
 "metadata": {
  "kernelspec": {
   "display_name": "Python 3 (ipykernel)",
   "language": "python",
   "name": "python3"
  },
  "language_info": {
   "codemirror_mode": {
    "name": "ipython",
    "version": 3
   },
   "file_extension": ".py",
   "mimetype": "text/x-python",
   "name": "python",
   "nbconvert_exporter": "python",
   "pygments_lexer": "ipython3",
   "version": "3.10.14"
  }
 },
 "nbformat": 4,
 "nbformat_minor": 5
}
