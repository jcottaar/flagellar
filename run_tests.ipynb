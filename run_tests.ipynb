{
 "cells": [
  {
   "cell_type": "code",
   "execution_count": 1,
   "id": "bcddf786-c0f5-4eb6-b5f2-97278c1def1d",
   "metadata": {},
   "outputs": [
    {
     "name": "stdout",
     "output_type": "stream",
     "text": [
      "MainProcess\n"
     ]
    }
   ],
   "source": [
    "import sys\n",
    "sys.path.append('d:/flagellar/code/core')\n",
    "sys.path.append('/flagellar/code/core')\n",
    "sys.path.append('/kaggle/input/my-flagellar-library/')\n",
    "import flg_test"
   ]
  },
  {
   "cell_type": "code",
   "execution_count": null,
   "id": "f665bda1-916a-495e-aa3b-0d73dd1d7ef1",
   "metadata": {},
   "outputs": [
    {
     "name": "stdout",
     "output_type": "stream",
     "text": [
      "CompletedProcess(args=['pip', 'uninstall', '-y', 'albumentations'], returncode=0)\n"
     ]
    },
    {
     "data": {
      "application/vnd.jupyter.widget-view+json": {
       "model_id": "c702e094c5c443fab8c537b18c0812cf",
       "version_major": 2,
       "version_minor": 0
      },
      "text/plain": [
       "  0%|          | 0/149 [00:00<?, ?it/s]"
      ]
     },
     "metadata": {},
     "output_type": "display_data"
    },
    {
     "name": "stdout",
     "output_type": "stream",
     "text": [
      "Clearing pytorch\n",
      "    z       y      x\n",
      "0  85  137.28  308.1\n"
     ]
    },
    {
     "name": "stderr",
     "output_type": "stream",
     "text": [
      "C:\\Users\\jeroe\\anaconda3\\envs\\jupyterlab-debugger2\\lib\\site-packages\\cupyx\\jit\\_interface.py:173: FutureWarning: cupyx.jit.rawkernel is experimental. The interface can change in the future.\n",
      "  cupy._util.experimental('cupyx.jit.rawkernel')\n"
     ]
    },
    {
     "name": "stdout",
     "output_type": "stream",
     "text": [
      "     z       y      x\n",
      "0  138  673.92  483.6\n",
      "     z        y        x\n",
      "0  135  220.735  444.745\n",
      "Empty DataFrame\n",
      "Columns: [z, y, x]\n",
      "Index: []\n",
      "Empty DataFrame\n",
      "Columns: [z, y, x]\n",
      "Index: []\n",
      "     z       y       x\n",
      "0  153  599.04  513.24\n",
      "     z        y       x\n",
      "0  183  248.245  492.56\n",
      "     z       y        x\n",
      "0  197  237.11  173.575\n",
      "     z        y       x\n",
      "0  131  248.245  195.19\n",
      "Empty DataFrame\n",
      "Columns: [z, y, x]\n",
      "Index: []\n",
      "    z       y       x\n",
      "0  55  196.56  134.94\n",
      "    z        y        x\n",
      "0  16  298.025  174.885\n",
      "    z       y       x\n",
      "0  50  375.97  256.76\n",
      "     z       y       x\n",
      "0  132  535.08  277.68\n",
      "     z       y       x\n",
      "0  175  489.72  393.12\n",
      "     z       y       x\n",
      "0  147  518.76  430.99\n",
      "     z      y       x\n",
      "0  145  483.6  376.74\n",
      "Empty DataFrame\n",
      "Columns: [z, y, x]\n",
      "Index: []\n",
      "    z       y       x\n",
      "0  95  264.62  138.86\n",
      "     z      y       x\n",
      "0  179  569.4  316.68\n",
      "     z      y       x\n",
      "0  125  503.1  177.06\n",
      "     z       y       x\n",
      "0  143  520.26  149.76\n",
      "     z       y       x\n",
      "0  152  244.92  507.78\n",
      "     z        y       x\n",
      "0  204  377.935  149.34\n",
      "    z       y      x\n",
      "0  67  391.69  196.5\n",
      "     z       y       x\n",
      "0  147  417.89  187.33\n",
      "Empty DataFrame\n",
      "Columns: [z, y, x]\n",
      "Index: []\n",
      "     z        y        x\n",
      "0  185  587.060  847.100\n",
      "1  210  596.910  836.265\n",
      "2  263  160.555  740.720\n",
      "3  193  557.510  844.145\n",
      "Empty DataFrame\n",
      "Columns: [z, y, x]\n",
      "Index: []\n",
      "    z      y       x\n",
      "0  73  67.08  260.52\n",
      "     z       y      x\n",
      "0  263  455.52  464.1\n",
      "Empty DataFrame\n",
      "Columns: [z, y, x]\n",
      "Index: []\n",
      "    z        y       x\n",
      "0  95  236.455  175.54\n",
      "    z       y      x\n",
      "0  65  533.52  319.8\n",
      "     z       y       x\n",
      "0  144  547.56  548.34\n",
      "Empty DataFrame\n",
      "Columns: [z, y, x]\n",
      "Index: []\n",
      "     z        y        x\n",
      "0  149  191.915  393.655\n",
      "     z        y      x\n",
      "0  195  159.165  248.9\n",
      "     z        y      x\n",
      "0  149  273.135  327.5\n",
      "    z       y       x\n",
      "0  28  233.18  416.58\n",
      "    z      y       x\n",
      "0  68  452.4  454.74\n",
      "     z       y       x\n",
      "0  175  550.68  177.84\n",
      "     z        y        x\n",
      "0  137  256.105  400.205\n",
      "     z       y        x\n",
      "0  142  256.76  376.625\n",
      "     z        y       x\n",
      "0  234  217.685  795.88\n",
      "     z       y       x\n",
      "0  130  200.46  594.36\n",
      "     z        y        x\n",
      "0  108  228.595  345.185\n",
      "Empty DataFrame\n",
      "Columns: [z, y, x]\n",
      "Index: []\n",
      "     z       y       x\n",
      "0  141  475.44  372.12\n",
      "     z       y     x\n",
      "0  101  273.78  93.6\n",
      "    z        y       x\n",
      "0  88  465.705  201.74\n",
      "     z      y       x\n",
      "0  172  600.6  400.92\n",
      "Empty DataFrame\n",
      "Columns: [z, y, x]\n",
      "Index: []\n",
      "    z        y       x\n",
      "0  97  267.895  496.49\n",
      "Empty DataFrame\n",
      "Columns: [z, y, x]\n",
      "Index: []\n",
      "     z       y        x\n",
      "0  185  322.26  415.925\n",
      "     z       y      x\n",
      "0  168  106.08  370.5\n",
      "    z        y        x\n",
      "0  97  464.395  400.205\n",
      "Empty DataFrame\n",
      "Columns: [z, y, x]\n",
      "Index: []\n",
      "     z       y      x\n",
      "0  127  630.24  109.2\n",
      "     z       y        x\n",
      "0  125  271.17  339.945\n",
      "     z       y        x\n",
      "0  207  168.99  404.135\n",
      "     z       y        x\n",
      "0  156  344.53  419.855\n",
      "     z        y        x\n",
      "0  161  193.225  383.175\n",
      "     z      y      x\n",
      "0  186  113.1  288.6\n",
      "     z        y      x\n",
      "0  251  449.985  131.0\n",
      "    z       y        x\n",
      "0  32  345.84  227.285\n",
      "     z       y       x\n",
      "0  169  425.88  470.34\n",
      "     z      y      x\n",
      "0  161  651.3  491.4\n",
      "     z       y       x\n",
      "0  112  621.66  205.92\n",
      "    z       y       x\n",
      "0  94  135.72  467.22\n",
      "Empty DataFrame\n",
      "Columns: [z, y, x]\n",
      "Index: []\n",
      "     z       y      x\n",
      "0  123  496.08  136.5\n",
      "     z        y        x\n",
      "0  131   91.045  213.530\n",
      "1  203  420.510  524.655\n",
      "Empty DataFrame\n",
      "Columns: [z, y, x]\n",
      "Index: []\n",
      "Empty DataFrame\n",
      "Columns: [z, y, x]\n",
      "Index: []\n",
      "     z        y       x\n",
      "0  166  499.765  344.53\n",
      "     z       y      x\n",
      "0  121  367.38  659.1\n",
      "Empty DataFrame\n",
      "Columns: [z, y, x]\n",
      "Index: []\n",
      "     z        y        x\n",
      "0  106  362.215  211.565\n",
      "     z       y       x\n",
      "0  153  476.58  134.16\n",
      "     z        y        x\n",
      "0  365  345.840  397.585\n",
      "1  312   89.080   64.845\n",
      "2  299  148.685   45.850\n",
      "3  332  361.560   37.990\n",
      "4  355  429.680  108.075\n",
      "5  366  453.915  176.195\n",
      "6  386  453.915  208.945\n",
      "7  388  439.505  283.615\n",
      "8  411  208.290  484.700\n",
      "9  354  181.435  495.180\n",
      "    z       y        x\n",
      "0  24  200.43  405.445\n",
      "Empty DataFrame\n",
      "Columns: [z, y, x]\n",
      "Index: []\n",
      "     z       y        x\n",
      "0  166  212.22  368.765\n",
      "     z        y       x\n",
      "0  126  333.395  239.73\n",
      "     z        y      x\n",
      "0  185  208.945  366.8\n",
      "    z        y        x\n",
      "0  52  384.485  376.625\n",
      "    z        y        x\n",
      "0  61  316.365  325.535\n",
      "     z        y        x\n",
      "0  200  316.185  592.970\n",
      "1  162   98.500  652.070\n",
      "2  184  298.455  584.105\n",
      "Empty DataFrame\n",
      "Columns: [z, y, x]\n",
      "Index: []\n",
      "    z        y        x\n",
      "0  34  379.245  274.445\n",
      "1  37  427.060  316.365\n",
      "     z       y       x\n",
      "0  152  193.44  414.96\n",
      "     z       y       x\n",
      "0  159  402.48  531.18\n",
      "Empty DataFrame\n",
      "Columns: [z, y, x]\n",
      "Index: []\n",
      "Empty DataFrame\n",
      "Columns: [z, y, x]\n",
      "Index: []\n",
      "     z       y       x\n",
      "0  103  521.04  219.18\n",
      "     z       y        x\n",
      "0  143  299.99  455.225\n",
      "     z       y      x\n",
      "0  144  181.74  354.9\n"
     ]
    },
    {
     "data": {
      "application/vnd.jupyter.widget-view+json": {
       "model_id": "f3c52dd321b946e5967c44fc417d63f9",
       "version_major": 2,
       "version_minor": 0
      },
      "text/plain": [
       "  0%|          | 0/14 [00:00<?, ?it/s]"
      ]
     },
     "metadata": {},
     "output_type": "display_data"
    },
    {
     "name": "stdout",
     "output_type": "stream",
     "text": [
      "     z      y       x\n",
      "0  123  163.8  338.52\n",
      "     z        y       x\n",
      "0  215  347.805  252.83\n",
      "Empty DataFrame\n",
      "Columns: [z, y, x]\n",
      "Index: []\n",
      "    z        y       x\n",
      "0  60  195.845  326.19\n",
      "     z       y      x\n",
      "0  174  705.12  436.8\n",
      "    z        y      x\n",
      "0  92  444.745  379.9\n",
      "     z        y       x\n",
      "0  168  235.145  263.31\n",
      "     z       y       x\n",
      "0  139  118.56  492.18\n",
      "     z       y       x\n",
      "0  159  196.56  290.94\n",
      "     z        y        x\n",
      "0  112  401.515  152.615\n",
      "Empty DataFrame\n",
      "Columns: [z, y, x]\n",
      "Index: []\n",
      "     z        y        x\n",
      "0  217  617.595  310.275\n",
      "1  221  643.205  328.005\n",
      "\n",
      "Preprocessing Complete:\n",
      "- Training data: 149 tomograms, 0 motors, 0 slices\n",
      "- Validation data: 14 tomograms, 0 motors, 0 slices\n",
      "- Dataset directory: d:/flagellar/temp//yolo_dataset/\n",
      "- YAML configuration: d:/flagellar/temp//yolo_dataset/dataset.yaml\n",
      "\n",
      "Ready for YOLO training!\n",
      "Starting YOLO training process...\n",
      "Created new YAML at d:/flagellar/temp/training.yaml\n",
      "Using YAML file: d:/flagellar/temp/training.yaml\n",
      "YAML contents:\n",
      "names:\n",
      "  0: motor\n",
      "path: d:/flagellar/temp//yolo_dataset/\n",
      "train: images/train\n",
      "val: images/val\n",
      "\n",
      "\n",
      "Starting YOLO training...\n",
      "New https://pypi.org/project/ultralytics/8.3.129 available  Update with 'pip install -U ultralytics'\n",
      "WARNING  'crop_fraction' is deprecated and will be removed in in the future.\n",
      "Ultralytics 8.3.110  Python-3.10.14 torch-2.5.1 CUDA:0 (NVIDIA GeForce RTX 4070 Ti, 12282MiB)\n",
      "\u001b[34m\u001b[1mengine\\trainer: \u001b[0mtask=detect, mode=train, model=yolov9s.pt, data=d:/flagellar/temp/training.yaml, epochs=3, time=None, patience=10, batch=12, imgsz=320, save=True, save_period=5, cache=False, device=None, workers=4, project=d:/flagellar/temp//yolo_weights/, name=motor_detector, exist_ok=True, pretrained=True, optimizer=AdamW, verbose=True, seed=0, deterministic=True, single_cls=False, rect=False, cos_lr=True, close_mosaic=10, resume=False, amp=True, fraction=1.0, profile=False, freeze=None, multi_scale=False, overlap_mask=True, mask_ratio=4, dropout=0.0, val=True, split=val, save_json=False, conf=None, iou=0.7, max_det=300, half=False, dnn=False, plots=True, source=None, vid_stride=1, stream_buffer=False, visualize=False, augment=True, agnostic_nms=False, classes=None, retina_masks=False, embed=None, show=False, save_frames=False, save_txt=False, save_conf=False, save_crop=False, show_labels=True, show_conf=True, show_boxes=True, line_width=None, format=torchscript, keras=False, optimize=False, int8=False, dynamic=False, simplify=True, opset=None, workspace=None, nms=False, lr0=0.001, lrf=0.01, momentum=0.937, weight_decay=0.0005, warmup_epochs=3.0, warmup_momentum=0.8, warmup_bias_lr=0.1, box=7.5, cls=0.5, dfl=1.5, pose=12.0, kobj=1.0, nbs=64, hsv_h=0.015, hsv_s=0.7, hsv_v=0.4, degrees=0.0, translate=0.1, scale=0.5, shear=0.0, perspective=0.0, flipud=0.5, fliplr=0.5, bgr=0.0, mosaic=1.0, mixup=0.2, copy_paste=0.0, copy_paste_mode=flip, auto_augment=None, erasing=0.4, cfg=None, tracker=botsort.yaml, save_dir=d:\\flagellar\\temp\\yolo_weights\\motor_detector\n",
      "Overriding model.yaml nc=80 with nc=1\n",
      "\n",
      "                   from  n    params  module                                       arguments                     \n",
      "  0                  -1  1       928  ultralytics.nn.modules.conv.Conv             [3, 32, 3, 2]                 \n",
      "  1                  -1  1     18560  ultralytics.nn.modules.conv.Conv             [32, 64, 3, 2]                \n",
      "  2                  -1  1     31104  ultralytics.nn.modules.block.ELAN1           [64, 64, 64, 32]              \n",
      "  3                  -1  1     73984  ultralytics.nn.modules.block.AConv           [64, 128]                     \n",
      "  4                  -1  1    258432  ultralytics.nn.modules.block.RepNCSPELAN4    [128, 128, 128, 64, 3]        \n",
      "  5                  -1  1    221568  ultralytics.nn.modules.block.AConv           [128, 192]                    \n",
      "  6                  -1  1    579648  ultralytics.nn.modules.block.RepNCSPELAN4    [192, 192, 192, 96, 3]        \n",
      "  7                  -1  1    442880  ultralytics.nn.modules.block.AConv           [192, 256]                    \n",
      "  8                  -1  1   1028864  ultralytics.nn.modules.block.RepNCSPELAN4    [256, 256, 256, 128, 3]       \n",
      "  9                  -1  1    164608  ultralytics.nn.modules.block.SPPELAN         [256, 256, 128]               \n",
      " 10                  -1  1         0  torch.nn.modules.upsampling.Upsample         [None, 2, 'nearest']          \n",
      " 11             [-1, 6]  1         0  ultralytics.nn.modules.conv.Concat           [1]                           \n",
      " 12                  -1  1    628800  ultralytics.nn.modules.block.RepNCSPELAN4    [448, 192, 192, 96, 3]        \n",
      " 13                  -1  1         0  torch.nn.modules.upsampling.Upsample         [None, 2, 'nearest']          \n",
      " 14             [-1, 4]  1         0  ultralytics.nn.modules.conv.Concat           [1]                           \n",
      " 15                  -1  1    283008  ultralytics.nn.modules.block.RepNCSPELAN4    [320, 128, 128, 64, 3]        \n",
      " 16                  -1  1    110784  ultralytics.nn.modules.block.AConv           [128, 96]                     \n",
      " 17            [-1, 12]  1         0  ultralytics.nn.modules.conv.Concat           [1]                           \n",
      " 18                  -1  1    598080  ultralytics.nn.modules.block.RepNCSPELAN4    [288, 192, 192, 96, 3]        \n",
      " 19                  -1  1    221440  ultralytics.nn.modules.block.AConv           [192, 128]                    \n",
      " 20             [-1, 9]  1         0  ultralytics.nn.modules.conv.Concat           [1]                           \n",
      " 21                  -1  1   1061632  ultralytics.nn.modules.block.RepNCSPELAN4    [384, 256, 256, 128, 3]       \n",
      " 22        [15, 18, 21]  1   1563475  ultralytics.nn.modules.head.Detect           [1, [128, 192, 256]]          \n",
      "YOLOv9s summary: 544 layers, 7,287,795 parameters, 7,287,779 gradients, 27.4 GFLOPs\n",
      "\n",
      "Transferred 1333/1339 items from pretrained weights\n",
      "Freezing layer 'model.22.dfl.conv.weight'\n",
      "\u001b[34m\u001b[1mAMP: \u001b[0mrunning Automatic Mixed Precision (AMP) checks...\n",
      "\u001b[34m\u001b[1mAMP: \u001b[0mchecks passed \n",
      "\u001b[34m\u001b[1mtrain: \u001b[0mFast image access  (ping: 0.00.0 ms, read: 7.11.1 MB/s, size: 25.5 KB)\n"
     ]
    },
    {
     "name": "stderr",
     "output_type": "stream",
     "text": [
      "\u001b[34m\u001b[1mtrain: \u001b[0mScanning D:\\flagellar\\temp\\yolo_dataset\\labels\\train... 448 images, 216 backgrounds, 0 corrupt: 100%|██████████|\u001b[0m"
     ]
    },
    {
     "name": "stdout",
     "output_type": "stream",
     "text": [
      "\u001b[34m\u001b[1mtrain: \u001b[0mNew cache created: D:\\flagellar\\temp\\yolo_dataset\\labels\\train.cache\n"
     ]
    },
    {
     "name": "stderr",
     "output_type": "stream",
     "text": [
      "\n"
     ]
    },
    {
     "name": "stdout",
     "output_type": "stream",
     "text": [
      "\u001b[34m\u001b[1mval: \u001b[0mFast image access  (ping: 0.00.0 ms, read: 5.81.9 MB/s, size: 31.3 KB)\n"
     ]
    },
    {
     "name": "stderr",
     "output_type": "stream",
     "text": [
      "\u001b[34m\u001b[1mval: \u001b[0mScanning D:\\flagellar\\temp\\yolo_dataset\\labels\\val... 68 images, 35 backgrounds, 0 corrupt: 100%|██████████| 68/68\u001b[0m"
     ]
    },
    {
     "name": "stdout",
     "output_type": "stream",
     "text": [
      "\u001b[34m\u001b[1mval: \u001b[0mNew cache created: D:\\flagellar\\temp\\yolo_dataset\\labels\\val.cache\n"
     ]
    },
    {
     "name": "stderr",
     "output_type": "stream",
     "text": [
      "\n"
     ]
    },
    {
     "name": "stdout",
     "output_type": "stream",
     "text": [
      "Plotting labels to d:\\flagellar\\temp\\yolo_weights\\motor_detector\\labels.jpg... \n",
      "\u001b[34m\u001b[1moptimizer:\u001b[0m AdamW(lr=0.001, momentum=0.937) with parameter groups 221 weight(decay=0.0), 228 weight(decay=0.00046875), 227 bias(decay=0.0)\n",
      "Image sizes 320 train, 320 val\n",
      "Using 4 dataloader workers\n",
      "Logging results to \u001b[1md:\\flagellar\\temp\\yolo_weights\\motor_detector\u001b[0m\n",
      "Starting training for 3 epochs...\n",
      "\n",
      "      Epoch    GPU_mem   box_loss   cls_loss   dfl_loss  Instances       Size\n"
     ]
    },
    {
     "name": "stderr",
     "output_type": "stream",
     "text": [
      "\n",
      "                 Class     Images  Instances      Box(P          R      mAP50  mAP50-95): 100%|██████████| 3/3 [00:00<0"
     ]
    },
    {
     "name": "stdout",
     "output_type": "stream",
     "text": [
      "                   all         68         39          0          0          0          0\n"
     ]
    },
    {
     "name": "stderr",
     "output_type": "stream",
     "text": [
      "\n"
     ]
    },
    {
     "name": "stdout",
     "output_type": "stream",
     "text": [
      "\n",
      "      Epoch    GPU_mem   box_loss   cls_loss   dfl_loss  Instances       Size\n"
     ]
    },
    {
     "name": "stderr",
     "output_type": "stream",
     "text": [
      "\n",
      "                 Class     Images  Instances      Box(P          R      mAP50  mAP50-95): 100%|██████████| 3/3 [00:00<0"
     ]
    },
    {
     "name": "stdout",
     "output_type": "stream",
     "text": [
      "                   all         68         39    0.00829     0.0769    0.00447    0.00147\n"
     ]
    },
    {
     "name": "stderr",
     "output_type": "stream",
     "text": [
      "\n"
     ]
    },
    {
     "name": "stdout",
     "output_type": "stream",
     "text": [
      "\n",
      "      Epoch    GPU_mem   box_loss   cls_loss   dfl_loss  Instances       Size\n"
     ]
    },
    {
     "name": "stderr",
     "output_type": "stream",
     "text": [
      "\n",
      "                 Class     Images  Instances      Box(P          R      mAP50  mAP50-95): 100%|██████████| 3/3 [00:00<0"
     ]
    },
    {
     "name": "stdout",
     "output_type": "stream",
     "text": [
      "                   all         68         39     0.0183      0.333     0.0806     0.0354\n"
     ]
    },
    {
     "name": "stderr",
     "output_type": "stream",
     "text": [
      "\n"
     ]
    },
    {
     "name": "stdout",
     "output_type": "stream",
     "text": [
      "\n",
      "3 epochs completed in 0.009 hours.\n",
      "Optimizer stripped from d:\\flagellar\\temp\\yolo_weights\\motor_detector\\weights\\last.pt, 15.2MB\n",
      "Optimizer stripped from d:\\flagellar\\temp\\yolo_weights\\motor_detector\\weights\\best.pt, 15.2MB\n",
      "\n",
      "Validating d:\\flagellar\\temp\\yolo_weights\\motor_detector\\weights\\best.pt...\n",
      "Ultralytics 8.3.110  Python-3.10.14 torch-2.5.1 CUDA:0 (NVIDIA GeForce RTX 4070 Ti, 12282MiB)\n",
      "YOLOv9s summary (fused): 197 layers, 7,167,475 parameters, 0 gradients, 26.7 GFLOPs\n"
     ]
    },
    {
     "name": "stderr",
     "output_type": "stream",
     "text": [
      "\n",
      "                Class     Images  Instances      Box(P          R      mAP50  mAP50-95): 100%|██████████| 3/3 [00:00<0"
     ]
    },
    {
     "name": "stdout",
     "output_type": "stream",
     "text": [
      "                   all         68         39      0.014      0.436      0.071     0.0295\n",
      "Speed: 0.3ms preprocess, 10.7ms inference, 0.0ms loss, 0.9ms postprocess per image\n",
      "Results saved to \u001b[1md:\\flagellar\\temp\\yolo_weights\\motor_detector\u001b[0m\n",
      "\n",
      "Training complete!\n",
      "Clearing cupy\n",
      "YOLOv9s summary (fused): 197 layers, 7,167,475 parameters, 0 gradients, 26.7 GFLOPs\n",
      "Processing tomogram tomo_081a2d (1/1)\n",
      "Processing 300 out of 300 slices (CONCENTRATION=1)\n",
      "FINAL\n",
      "      z    y    x  confidence\n",
      "0    98  656  275    0.035828\n",
      "1   156  309  658    0.033325\n",
      "2   115  256  393    0.030441\n",
      "3   265  938  426    0.025558\n",
      "4   213  687  295    0.024139\n",
      "..  ...  ...  ...         ...\n",
      "58  111  286  764    0.007290\n",
      "59   37   76   10    0.007259\n",
      "60  115  276  426    0.007233\n",
      "61  177  742  342    0.007206\n",
      "62  139  338  531    0.007175\n",
      "\n",
      "[63 rows x 4 columns]\n",
      "\n",
      "tomo_081a2d total infer time: 9.938040018081665\n",
      "Clearing pytorch\n",
      "Clearing cupy\n",
      "Processing tomogram tomo_08446f (1/1)\n",
      "Processing 500 out of 500 slices (CONCENTRATION=1)\n",
      "FINAL\n",
      "      z    y    x  confidence\n",
      "0   221  741  932    0.029755\n",
      "1   234  763  907    0.021622\n",
      "2   266  723   69    0.017441\n",
      "3   205   63    8    0.014732\n",
      "4   135  252  769    0.013687\n",
      "5   387  159    8    0.010735\n",
      "6   433   79    7    0.010170\n",
      "7   458  209    7    0.009857\n",
      "8   154  235  789    0.009338\n",
      "9   239  789  850    0.009163\n",
      "10  247  830   71    0.008514\n",
      "11  442  193    7    0.008514\n",
      "12  424  175    8    0.007874\n",
      "13  428  185    7    0.007812\n",
      "14  205  160    8    0.007233\n",
      "15  413  167    7    0.006958\n",
      "16  185  143    8    0.006851\n",
      "17  207  338    8    0.006744\n",
      "18  197   89  621    0.006691\n",
      "19  258  732  858    0.006538\n",
      "20  136  244  825    0.006145\n",
      "21  378   94    8    0.006073\n",
      "22  225  889  589    0.006050\n",
      "23  215  768  887    0.006004\n",
      "\n",
      "tomo_08446f total infer time: 23.591013193130493\n",
      "        z    y    x  confidence  i_model\n",
      "1370   22  806    9    0.010094        0\n",
      "1869   36   86   10    0.007935        0\n",
      "1875   37  175  147    0.008850        0\n",
      "1876   37   76   10    0.007259        0\n",
      "2065   47  190   10    0.008743        0\n",
      "...   ...  ...  ...         ...      ...\n",
      "9086  266  938  427    0.013687        0\n",
      "9625  283  903  427    0.008781        0\n",
      "9631  284  903  424    0.010094        0\n",
      "9632  284  896  423    0.008186        0\n",
      "9640  285  903  423    0.007404        0\n",
      "\n",
      "[341 rows x 5 columns]\n",
      "         z    y    x  confidence  i_model\n",
      "9163   135  252  769    0.013687        0\n",
      "9164   135  252  773    0.011421        0\n",
      "9165   135  260  767    0.009857        0\n",
      "9166   135  260  773    0.006290        0\n",
      "9171   136  262  768    0.006241        0\n",
      "...    ...  ...  ...         ...      ...\n",
      "25046  433   79    7    0.010170        0\n",
      "25052  434  184    7    0.006851        0\n",
      "25526  442  193    7    0.008514        0\n",
      "26328  457  210    7    0.006096        0\n",
      "26333  458  209    7    0.009857        0\n",
      "\n",
      "[92 rows x 5 columns]\n",
      "[   index   z    y    x  confidence     value\n",
      "0      0  98  656  275    0.035828  0.035828, Empty DataFrame\n",
      "Columns: [index, z, y, x, confidence, value]\n",
      "Index: []]\n",
      "Clearing pytorch\n"
     ]
    }
   ],
   "source": [
    "import importlib\n",
    "importlib.reload(flg_test)\n",
    "#flg_test.test_yolo(update_reference=True)\n",
    "flg_test.run_all_tests(update_reference=False)"
   ]
  },
  {
   "cell_type": "code",
   "execution_count": null,
   "id": "c2a2c3ba-6c07-4761-ad4f-c3078a3a57fe",
   "metadata": {},
   "outputs": [],
   "source": [
    "import flg_support as fls\n",
    "ref_name = fls.code_dir + 'ref_yolo.pickle';\n",
    "str(fls.dill_load(ref_name))"
   ]
  },
  {
   "cell_type": "code",
   "execution_count": null,
   "id": "b84b4516-35a7-4a48-a757-26033301e074",
   "metadata": {},
   "outputs": [],
   "source": []
  }
 ],
 "metadata": {
  "kernelspec": {
   "display_name": "Python 3 (ipykernel)",
   "language": "python",
   "name": "python3"
  },
  "language_info": {
   "codemirror_mode": {
    "name": "ipython",
    "version": 3
   },
   "file_extension": ".py",
   "mimetype": "text/x-python",
   "name": "python",
   "nbconvert_exporter": "python",
   "pygments_lexer": "ipython3",
   "version": "3.10.14"
  }
 },
 "nbformat": 4,
 "nbformat_minor": 5
}
