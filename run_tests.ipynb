{
 "cells": [
  {
   "cell_type": "code",
   "execution_count": 1,
   "id": "bcddf786-c0f5-4eb6-b5f2-97278c1def1d",
   "metadata": {},
   "outputs": [
    {
     "name": "stdout",
     "output_type": "stream",
     "text": [
      "MainProcess\n"
     ]
    }
   ],
   "source": [
    "import sys\n",
    "sys.path.append('d:/flagellar/code/core')\n",
    "sys.path.append('/flagellar/code/core')\n",
    "sys.path.append('/kaggle/input/my-flagellar-library/')\n",
    "import flg_test"
   ]
  },
  {
   "cell_type": "code",
   "execution_count": null,
   "id": "f665bda1-916a-495e-aa3b-0d73dd1d7ef1",
   "metadata": {},
   "outputs": [
    {
     "name": "stdout",
     "output_type": "stream",
     "text": [
      "CompletedProcess(args=['pip', 'uninstall', '-y', 'albumentations'], returncode=0)\n"
     ]
    },
    {
     "data": {
      "application/vnd.jupyter.widget-view+json": {
       "model_id": "c051dcaa3c684ca394f153541e5becc4",
       "version_major": 2,
       "version_minor": 0
      },
      "text/plain": [
       "  0%|          | 0/149 [00:00<?, ?it/s]"
      ]
     },
     "metadata": {},
     "output_type": "display_data"
    },
    {
     "name": "stdout",
     "output_type": "stream",
     "text": [
      "Clearing pytorch\n"
     ]
    },
    {
     "name": "stderr",
     "output_type": "stream",
     "text": [
      "C:\\Users\\jeroe\\anaconda3\\envs\\jupyterlab-debugger2\\lib\\site-packages\\cupyx\\jit\\_interface.py:173: FutureWarning: cupyx.jit.rawkernel is experimental. The interface can change in the future.\n",
      "  cupy._util.experimental('cupyx.jit.rawkernel')\n"
     ]
    },
    {
     "data": {
      "application/vnd.jupyter.widget-view+json": {
       "model_id": "ab16cb01430644b4a60d1adfa49d257a",
       "version_major": 2,
       "version_minor": 0
      },
      "text/plain": [
       "  0%|          | 0/14 [00:00<?, ?it/s]"
      ]
     },
     "metadata": {},
     "output_type": "display_data"
    },
    {
     "name": "stdout",
     "output_type": "stream",
     "text": [
      "\n",
      "Preprocessing Complete:\n",
      "- Training data: 149 tomograms, 0 motors, 0 slices\n",
      "- Validation data: 14 tomograms, 0 motors, 0 slices\n",
      "- Dataset directory: d:/flagellar/temp//yolo_dataset/\n",
      "- YAML configuration: d:/flagellar/temp//yolo_dataset/dataset.yaml\n",
      "\n",
      "Ready for YOLO training!\n",
      "Starting YOLO training process...\n",
      "Created new YAML at d:/flagellar/temp/training.yaml\n",
      "Using YAML file: d:/flagellar/temp/training.yaml\n",
      "YAML contents:\n",
      "names:\n",
      "  0: motor\n",
      "path: d:/flagellar/temp//yolo_dataset/\n",
      "train: images/train\n",
      "val: images/val\n",
      "\n",
      "\n",
      "Starting YOLO training...\n",
      "New https://pypi.org/project/ultralytics/8.3.129 available  Update with 'pip install -U ultralytics'\n",
      "WARNING  'crop_fraction' is deprecated and will be removed in in the future.\n",
      "Ultralytics 8.3.110  Python-3.10.14 torch-2.5.1 CUDA:0 (NVIDIA GeForce RTX 4070 Ti, 12282MiB)\n",
      "\u001b[34m\u001b[1mengine\\trainer: \u001b[0mtask=detect, mode=train, model=yolov9s.pt, data=d:/flagellar/temp/training.yaml, epochs=3, time=None, patience=10, batch=12, imgsz=320, save=True, save_period=5, cache=False, device=None, workers=4, project=d:/flagellar/temp//yolo_weights/, name=motor_detector, exist_ok=True, pretrained=True, optimizer=AdamW, verbose=True, seed=0, deterministic=True, single_cls=False, rect=False, cos_lr=True, close_mosaic=10, resume=False, amp=True, fraction=1.0, profile=False, freeze=None, multi_scale=False, overlap_mask=True, mask_ratio=4, dropout=0.0, val=True, split=val, save_json=False, conf=None, iou=0.7, max_det=300, half=False, dnn=False, plots=True, source=None, vid_stride=1, stream_buffer=False, visualize=False, augment=True, agnostic_nms=False, classes=None, retina_masks=False, embed=None, show=False, save_frames=False, save_txt=False, save_conf=False, save_crop=False, show_labels=True, show_conf=True, show_boxes=True, line_width=None, format=torchscript, keras=False, optimize=False, int8=False, dynamic=False, simplify=True, opset=None, workspace=None, nms=False, lr0=0.001, lrf=0.01, momentum=0.937, weight_decay=0.0005, warmup_epochs=3.0, warmup_momentum=0.8, warmup_bias_lr=0.1, box=7.5, cls=0.5, dfl=1.5, pose=12.0, kobj=1.0, nbs=64, hsv_h=0.015, hsv_s=0.7, hsv_v=0.4, degrees=0.0, translate=0.1, scale=0.5, shear=0.0, perspective=0.0, flipud=0.5, fliplr=0.5, bgr=0.0, mosaic=1.0, mixup=0.2, copy_paste=0.0, copy_paste_mode=flip, auto_augment=None, erasing=0.4, cfg=None, tracker=botsort.yaml, save_dir=d:\\flagellar\\temp\\yolo_weights\\motor_detector\n",
      "Overriding model.yaml nc=80 with nc=1\n",
      "\n",
      "                   from  n    params  module                                       arguments                     \n",
      "  0                  -1  1       928  ultralytics.nn.modules.conv.Conv             [3, 32, 3, 2]                 \n",
      "  1                  -1  1     18560  ultralytics.nn.modules.conv.Conv             [32, 64, 3, 2]                \n",
      "  2                  -1  1     31104  ultralytics.nn.modules.block.ELAN1           [64, 64, 64, 32]              \n",
      "  3                  -1  1     73984  ultralytics.nn.modules.block.AConv           [64, 128]                     \n",
      "  4                  -1  1    258432  ultralytics.nn.modules.block.RepNCSPELAN4    [128, 128, 128, 64, 3]        \n",
      "  5                  -1  1    221568  ultralytics.nn.modules.block.AConv           [128, 192]                    \n",
      "  6                  -1  1    579648  ultralytics.nn.modules.block.RepNCSPELAN4    [192, 192, 192, 96, 3]        \n",
      "  7                  -1  1    442880  ultralytics.nn.modules.block.AConv           [192, 256]                    \n",
      "  8                  -1  1   1028864  ultralytics.nn.modules.block.RepNCSPELAN4    [256, 256, 256, 128, 3]       \n",
      "  9                  -1  1    164608  ultralytics.nn.modules.block.SPPELAN         [256, 256, 128]               \n",
      " 10                  -1  1         0  torch.nn.modules.upsampling.Upsample         [None, 2, 'nearest']          \n",
      " 11             [-1, 6]  1         0  ultralytics.nn.modules.conv.Concat           [1]                           \n",
      " 12                  -1  1    628800  ultralytics.nn.modules.block.RepNCSPELAN4    [448, 192, 192, 96, 3]        \n",
      " 13                  -1  1         0  torch.nn.modules.upsampling.Upsample         [None, 2, 'nearest']          \n",
      " 14             [-1, 4]  1         0  ultralytics.nn.modules.conv.Concat           [1]                           \n",
      " 15                  -1  1    283008  ultralytics.nn.modules.block.RepNCSPELAN4    [320, 128, 128, 64, 3]        \n",
      " 16                  -1  1    110784  ultralytics.nn.modules.block.AConv           [128, 96]                     \n",
      " 17            [-1, 12]  1         0  ultralytics.nn.modules.conv.Concat           [1]                           \n",
      " 18                  -1  1    598080  ultralytics.nn.modules.block.RepNCSPELAN4    [288, 192, 192, 96, 3]        \n",
      " 19                  -1  1    221440  ultralytics.nn.modules.block.AConv           [192, 128]                    \n",
      " 20             [-1, 9]  1         0  ultralytics.nn.modules.conv.Concat           [1]                           \n",
      " 21                  -1  1   1061632  ultralytics.nn.modules.block.RepNCSPELAN4    [384, 256, 256, 128, 3]       \n",
      " 22        [15, 18, 21]  1   1563475  ultralytics.nn.modules.head.Detect           [1, [128, 192, 256]]          \n",
      "YOLOv9s summary: 544 layers, 7,287,795 parameters, 7,287,779 gradients, 27.4 GFLOPs\n",
      "\n",
      "Transferred 1333/1339 items from pretrained weights\n",
      "Freezing layer 'model.22.dfl.conv.weight'\n",
      "\u001b[34m\u001b[1mAMP: \u001b[0mrunning Automatic Mixed Precision (AMP) checks...\n",
      "\u001b[34m\u001b[1mAMP: \u001b[0mchecks passed \n",
      "\u001b[34m\u001b[1mtrain: \u001b[0mFast image access  (ping: 0.00.0 ms, read: 6.31.5 MB/s, size: 25.2 KB)\n"
     ]
    },
    {
     "name": "stderr",
     "output_type": "stream",
     "text": [
      "\u001b[34m\u001b[1mtrain: \u001b[0mScanning D:\\flagellar\\temp\\yolo_dataset\\labels\\train.cache... 448 images, 216 backgrounds, 81 corrupt: 100%|████\u001b[0m"
     ]
    },
    {
     "name": "stdout",
     "output_type": "stream",
     "text": [
      "\u001b[34m\u001b[1mtrain: \u001b[0mWARNING  D:\\flagellar\\temp\\yolo_dataset\\images\\train\\tomo_01a877_z0146.jpg: ignoring corrupt image/label: non-normalized or out of bounds coordinates [     1.0312]\n",
      "\u001b[34m\u001b[1mtrain: \u001b[0mWARNING  D:\\flagellar\\temp\\yolo_dataset\\images\\train\\tomo_01a877_z0147.jpg: ignoring corrupt image/label: non-normalized or out of bounds coordinates [     1.0312]\n",
      "\u001b[34m\u001b[1mtrain: \u001b[0mWARNING  D:\\flagellar\\temp\\yolo_dataset\\images\\train\\tomo_01a877_z0148.jpg: ignoring corrupt image/label: non-normalized or out of bounds coordinates [     1.0312]\n",
      "\u001b[34m\u001b[1mtrain: \u001b[0mWARNING  D:\\flagellar\\temp\\yolo_dataset\\images\\train\\tomo_033ebe_z0087.jpg: ignoring corrupt image/label: non-normalized or out of bounds coordinates [     1.2594]\n",
      "\u001b[34m\u001b[1mtrain: \u001b[0mWARNING  D:\\flagellar\\temp\\yolo_dataset\\images\\train\\tomo_033ebe_z0088.jpg: ignoring corrupt image/label: non-normalized or out of bounds coordinates [     1.2594]\n",
      "\u001b[34m\u001b[1mtrain: \u001b[0mWARNING  D:\\flagellar\\temp\\yolo_dataset\\images\\train\\tomo_033ebe_z0089.jpg: ignoring corrupt image/label: non-normalized or out of bounds coordinates [     1.2594]\n",
      "\u001b[34m\u001b[1mtrain: \u001b[0mWARNING  D:\\flagellar\\temp\\yolo_dataset\\images\\train\\tomo_03437b_z0137.jpg: ignoring corrupt image/label: non-normalized or out of bounds coordinates [     1.3625]\n",
      "\u001b[34m\u001b[1mtrain: \u001b[0mWARNING  D:\\flagellar\\temp\\yolo_dataset\\images\\train\\tomo_03437b_z0138.jpg: ignoring corrupt image/label: non-normalized or out of bounds coordinates [     1.3625]\n",
      "\u001b[34m\u001b[1mtrain: \u001b[0mWARNING  D:\\flagellar\\temp\\yolo_dataset\\images\\train\\tomo_03437b_z0139.jpg: ignoring corrupt image/label: non-normalized or out of bounds coordinates [     1.3625]\n",
      "\u001b[34m\u001b[1mtrain: \u001b[0mWARNING  D:\\flagellar\\temp\\yolo_dataset\\images\\train\\tomo_05df8a_z0129.jpg: ignoring corrupt image/label: non-normalized or out of bounds coordinates [     1.1187]\n",
      "\u001b[34m\u001b[1mtrain: \u001b[0mWARNING  D:\\flagellar\\temp\\yolo_dataset\\images\\train\\tomo_05df8a_z0130.jpg: ignoring corrupt image/label: non-normalized or out of bounds coordinates [     1.1187]\n",
      "\u001b[34m\u001b[1mtrain: \u001b[0mWARNING  D:\\flagellar\\temp\\yolo_dataset\\images\\train\\tomo_05df8a_z0131.jpg: ignoring corrupt image/label: non-normalized or out of bounds coordinates [     1.1187]\n",
      "\u001b[34m\u001b[1mtrain: \u001b[0mWARNING  D:\\flagellar\\temp\\yolo_dataset\\images\\train\\tomo_05f919_z0120.jpg: ignoring corrupt image/label: non-normalized or out of bounds coordinates [     1.3781]\n",
      "\u001b[34m\u001b[1mtrain: \u001b[0mWARNING  D:\\flagellar\\temp\\yolo_dataset\\images\\train\\tomo_05f919_z0121.jpg: ignoring corrupt image/label: non-normalized or out of bounds coordinates [     1.3781]\n",
      "\u001b[34m\u001b[1mtrain: \u001b[0mWARNING  D:\\flagellar\\temp\\yolo_dataset\\images\\train\\tomo_05f919_z0122.jpg: ignoring corrupt image/label: non-normalized or out of bounds coordinates [     1.3781]\n",
      "\u001b[34m\u001b[1mtrain: \u001b[0mWARNING  D:\\flagellar\\temp\\yolo_dataset\\images\\train\\tomo_0da370_z0027.jpg: ignoring corrupt image/label: non-normalized or out of bounds coordinates [     1.0875]\n",
      "\u001b[34m\u001b[1mtrain: \u001b[0mWARNING  D:\\flagellar\\temp\\yolo_dataset\\images\\train\\tomo_0da370_z0028.jpg: ignoring corrupt image/label: non-normalized or out of bounds coordinates [     1.0875]\n",
      "\u001b[34m\u001b[1mtrain: \u001b[0mWARNING  D:\\flagellar\\temp\\yolo_dataset\\images\\train\\tomo_0da370_z0029.jpg: ignoring corrupt image/label: non-normalized or out of bounds coordinates [     1.0875]\n",
      "\u001b[34m\u001b[1mtrain: \u001b[0mWARNING  D:\\flagellar\\temp\\yolo_dataset\\images\\train\\tomo_0de3ee_z0202.jpg: ignoring corrupt image/label: non-normalized or out of bounds coordinates [     1.5406      1.1063]\n",
      "\u001b[34m\u001b[1mtrain: \u001b[0mWARNING  D:\\flagellar\\temp\\yolo_dataset\\images\\train\\tomo_0de3ee_z0203.jpg: ignoring corrupt image/label: non-normalized or out of bounds coordinates [     1.5406      1.1063]\n",
      "\u001b[34m\u001b[1mtrain: \u001b[0mWARNING  D:\\flagellar\\temp\\yolo_dataset\\images\\train\\tomo_0de3ee_z0204.jpg: ignoring corrupt image/label: non-normalized or out of bounds coordinates [     1.5406      1.1063]\n",
      "\u001b[34m\u001b[1mtrain: \u001b[0mWARNING  D:\\flagellar\\temp\\yolo_dataset\\images\\train\\tomo_0eb994_z0160.jpg: ignoring corrupt image/label: non-normalized or out of bounds coordinates [     1.2719]\n",
      "\u001b[34m\u001b[1mtrain: \u001b[0mWARNING  D:\\flagellar\\temp\\yolo_dataset\\images\\train\\tomo_0eb994_z0161.jpg: ignoring corrupt image/label: non-normalized or out of bounds coordinates [     1.2719]\n",
      "\u001b[34m\u001b[1mtrain: \u001b[0mWARNING  D:\\flagellar\\temp\\yolo_dataset\\images\\train\\tomo_0eb994_z0162.jpg: ignoring corrupt image/label: non-normalized or out of bounds coordinates [     1.2719]\n",
      "\u001b[34m\u001b[1mtrain: \u001b[0mWARNING  D:\\flagellar\\temp\\yolo_dataset\\images\\train\\tomo_122a02_z0126.jpg: ignoring corrupt image/label: non-normalized or out of bounds coordinates [     1.1875]\n",
      "\u001b[34m\u001b[1mtrain: \u001b[0mWARNING  D:\\flagellar\\temp\\yolo_dataset\\images\\train\\tomo_122a02_z0127.jpg: ignoring corrupt image/label: non-normalized or out of bounds coordinates [     1.1875]\n",
      "\u001b[34m\u001b[1mtrain: \u001b[0mWARNING  D:\\flagellar\\temp\\yolo_dataset\\images\\train\\tomo_122a02_z0128.jpg: ignoring corrupt image/label: non-normalized or out of bounds coordinates [     1.1875]\n",
      "\u001b[34m\u001b[1mtrain: \u001b[0mWARNING  D:\\flagellar\\temp\\yolo_dataset\\images\\train\\tomo_13484c_z0152.jpg: ignoring corrupt image/label: non-normalized or out of bounds coordinates [     1.1375]\n",
      "\u001b[34m\u001b[1mtrain: \u001b[0mWARNING  D:\\flagellar\\temp\\yolo_dataset\\images\\train\\tomo_13484c_z0153.jpg: ignoring corrupt image/label: non-normalized or out of bounds coordinates [     1.1375]\n",
      "\u001b[34m\u001b[1mtrain: \u001b[0mWARNING  D:\\flagellar\\temp\\yolo_dataset\\images\\train\\tomo_13484c_z0154.jpg: ignoring corrupt image/label: non-normalized or out of bounds coordinates [     1.1375]\n",
      "\u001b[34m\u001b[1mtrain: \u001b[0mWARNING  D:\\flagellar\\temp\\yolo_dataset\\images\\train\\tomo_16efa8_z0182.jpg: ignoring corrupt image/label: non-normalized or out of bounds coordinates [       1.45]\n",
      "\u001b[34m\u001b[1mtrain: \u001b[0mWARNING  D:\\flagellar\\temp\\yolo_dataset\\images\\train\\tomo_16efa8_z0183.jpg: ignoring corrupt image/label: non-normalized or out of bounds coordinates [       1.45]\n",
      "\u001b[34m\u001b[1mtrain: \u001b[0mWARNING  D:\\flagellar\\temp\\yolo_dataset\\images\\train\\tomo_16efa8_z0184.jpg: ignoring corrupt image/label: non-normalized or out of bounds coordinates [       1.45]\n",
      "\u001b[34m\u001b[1mtrain: \u001b[0mWARNING  D:\\flagellar\\temp\\yolo_dataset\\images\\train\\tomo_1af88d_z0023.jpg: ignoring corrupt image/label: non-normalized or out of bounds coordinates [     1.0344]\n",
      "\u001b[34m\u001b[1mtrain: \u001b[0mWARNING  D:\\flagellar\\temp\\yolo_dataset\\images\\train\\tomo_1af88d_z0024.jpg: ignoring corrupt image/label: non-normalized or out of bounds coordinates [     1.0344]\n",
      "\u001b[34m\u001b[1mtrain: \u001b[0mWARNING  D:\\flagellar\\temp\\yolo_dataset\\images\\train\\tomo_1af88d_z0025.jpg: ignoring corrupt image/label: non-normalized or out of bounds coordinates [     1.0344]\n",
      "\u001b[34m\u001b[1mtrain: \u001b[0mWARNING  D:\\flagellar\\temp\\yolo_dataset\\images\\train\\tomo_1da097_z0033.jpg: ignoring corrupt image/label: non-normalized or out of bounds coordinates [     1.1375]\n",
      "\u001b[34m\u001b[1mtrain: \u001b[0mWARNING  D:\\flagellar\\temp\\yolo_dataset\\images\\train\\tomo_1da097_z0034.jpg: ignoring corrupt image/label: non-normalized or out of bounds coordinates [     1.1375]\n",
      "\u001b[34m\u001b[1mtrain: \u001b[0mWARNING  D:\\flagellar\\temp\\yolo_dataset\\images\\train\\tomo_1da097_z0035.jpg: ignoring corrupt image/label: non-normalized or out of bounds coordinates [     1.1375]\n",
      "\u001b[34m\u001b[1mtrain: \u001b[0mWARNING  D:\\flagellar\\temp\\yolo_dataset\\images\\train\\tomo_1da097_z0036.jpg: ignoring corrupt image/label: non-normalized or out of bounds coordinates [     1.1375]\n",
      "\u001b[34m\u001b[1mtrain: \u001b[0mWARNING  D:\\flagellar\\temp\\yolo_dataset\\images\\train\\tomo_1da097_z0037.jpg: ignoring corrupt image/label: non-normalized or out of bounds coordinates [     1.1375]\n",
      "\u001b[34m\u001b[1mtrain: \u001b[0mWARNING  D:\\flagellar\\temp\\yolo_dataset\\images\\train\\tomo_1da097_z0038.jpg: ignoring corrupt image/label: non-normalized or out of bounds coordinates [     1.1375]\n",
      "\u001b[34m\u001b[1mtrain: \u001b[0mWARNING  D:\\flagellar\\temp\\yolo_dataset\\images\\train\\tomo_1f0e78_z0111.jpg: ignoring corrupt image/label: non-normalized or out of bounds coordinates [     1.1531]\n",
      "\u001b[34m\u001b[1mtrain: \u001b[0mWARNING  D:\\flagellar\\temp\\yolo_dataset\\images\\train\\tomo_1f0e78_z0112.jpg: ignoring corrupt image/label: non-normalized or out of bounds coordinates [     1.1531]\n",
      "\u001b[34m\u001b[1mtrain: \u001b[0mWARNING  D:\\flagellar\\temp\\yolo_dataset\\images\\train\\tomo_1f0e78_z0113.jpg: ignoring corrupt image/label: non-normalized or out of bounds coordinates [     1.1531]\n",
      "\u001b[34m\u001b[1mtrain: \u001b[0mWARNING  D:\\flagellar\\temp\\yolo_dataset\\images\\train\\tomo_256717_z0171.jpg: ignoring corrupt image/label: non-normalized or out of bounds coordinates [     1.1437]\n",
      "\u001b[34m\u001b[1mtrain: \u001b[0mWARNING  D:\\flagellar\\temp\\yolo_dataset\\images\\train\\tomo_256717_z0172.jpg: ignoring corrupt image/label: non-normalized or out of bounds coordinates [     1.1437]\n",
      "\u001b[34m\u001b[1mtrain: \u001b[0mWARNING  D:\\flagellar\\temp\\yolo_dataset\\images\\train\\tomo_256717_z0173.jpg: ignoring corrupt image/label: non-normalized or out of bounds coordinates [     1.1437]\n",
      "\u001b[34m\u001b[1mtrain: \u001b[0mWARNING  D:\\flagellar\\temp\\yolo_dataset\\images\\train\\tomo_25780f_z0146.jpg: ignoring corrupt image/label: non-normalized or out of bounds coordinates [     1.1562      1.5125]\n",
      "\u001b[34m\u001b[1mtrain: \u001b[0mWARNING  D:\\flagellar\\temp\\yolo_dataset\\images\\train\\tomo_25780f_z0147.jpg: ignoring corrupt image/label: non-normalized or out of bounds coordinates [     1.1562      1.5125]\n",
      "\u001b[34m\u001b[1mtrain: \u001b[0mWARNING  D:\\flagellar\\temp\\yolo_dataset\\images\\train\\tomo_25780f_z0148.jpg: ignoring corrupt image/label: non-normalized or out of bounds coordinates [     1.1562      1.5125]\n",
      "\u001b[34m\u001b[1mtrain: \u001b[0mWARNING  D:\\flagellar\\temp\\yolo_dataset\\images\\train\\tomo_285d15_z0136.jpg: ignoring corrupt image/label: non-normalized or out of bounds coordinates [     1.0094]\n",
      "\u001b[34m\u001b[1mtrain: \u001b[0mWARNING  D:\\flagellar\\temp\\yolo_dataset\\images\\train\\tomo_285d15_z0137.jpg: ignoring corrupt image/label: non-normalized or out of bounds coordinates [     1.0094]\n",
      "\u001b[34m\u001b[1mtrain: \u001b[0mWARNING  D:\\flagellar\\temp\\yolo_dataset\\images\\train\\tomo_285d15_z0138.jpg: ignoring corrupt image/label: non-normalized or out of bounds coordinates [     1.0094]\n",
      "\u001b[34m\u001b[1mtrain: \u001b[0mWARNING  D:\\flagellar\\temp\\yolo_dataset\\images\\train\\tomo_2a6091_z0184.jpg: ignoring corrupt image/label: non-normalized or out of bounds coordinates [     1.0844]\n",
      "\u001b[34m\u001b[1mtrain: \u001b[0mWARNING  D:\\flagellar\\temp\\yolo_dataset\\images\\train\\tomo_2a6091_z0185.jpg: ignoring corrupt image/label: non-normalized or out of bounds coordinates [     1.0844]\n",
      "\u001b[34m\u001b[1mtrain: \u001b[0mWARNING  D:\\flagellar\\temp\\yolo_dataset\\images\\train\\tomo_2a6091_z0186.jpg: ignoring corrupt image/label: non-normalized or out of bounds coordinates [     1.0844]\n",
      "\u001b[34m\u001b[1mtrain: \u001b[0mWARNING  D:\\flagellar\\temp\\yolo_dataset\\images\\train\\tomo_2acf68_z0134.jpg: ignoring corrupt image/label: non-normalized or out of bounds coordinates [     1.2219]\n",
      "\u001b[34m\u001b[1mtrain: \u001b[0mWARNING  D:\\flagellar\\temp\\yolo_dataset\\images\\train\\tomo_2acf68_z0135.jpg: ignoring corrupt image/label: non-normalized or out of bounds coordinates [     1.2219]\n",
      "\u001b[34m\u001b[1mtrain: \u001b[0mWARNING  D:\\flagellar\\temp\\yolo_dataset\\images\\train\\tomo_2acf68_z0136.jpg: ignoring corrupt image/label: non-normalized or out of bounds coordinates [     1.2219]\n",
      "\u001b[34m\u001b[1mtrain: \u001b[0mWARNING  D:\\flagellar\\temp\\yolo_dataset\\images\\train\\tomo_2bb588_z0096.jpg: ignoring corrupt image/label: non-normalized or out of bounds coordinates [     1.0094      1.2531]\n",
      "\u001b[34m\u001b[1mtrain: \u001b[0mWARNING  D:\\flagellar\\temp\\yolo_dataset\\images\\train\\tomo_2bb588_z0097.jpg: ignoring corrupt image/label: non-normalized or out of bounds coordinates [     1.0094      1.2531]\n",
      "\u001b[34m\u001b[1mtrain: \u001b[0mWARNING  D:\\flagellar\\temp\\yolo_dataset\\images\\train\\tomo_2bb588_z0098.jpg: ignoring corrupt image/label: non-normalized or out of bounds coordinates [     1.0094      1.2531]\n",
      "\u001b[34m\u001b[1mtrain: \u001b[0mWARNING  D:\\flagellar\\temp\\yolo_dataset\\images\\train\\tomo_2c9da1_z0206.jpg: ignoring corrupt image/label: non-normalized or out of bounds coordinates [     1.0281]\n",
      "\u001b[34m\u001b[1mtrain: \u001b[0mWARNING  D:\\flagellar\\temp\\yolo_dataset\\images\\train\\tomo_2c9da1_z0207.jpg: ignoring corrupt image/label: non-normalized or out of bounds coordinates [     1.0281]\n",
      "\u001b[34m\u001b[1mtrain: \u001b[0mWARNING  D:\\flagellar\\temp\\yolo_dataset\\images\\train\\tomo_2c9da1_z0208.jpg: ignoring corrupt image/label: non-normalized or out of bounds coordinates [     1.0281]\n",
      "\u001b[34m\u001b[1mtrain: \u001b[0mWARNING  D:\\flagellar\\temp\\yolo_dataset\\images\\train\\tomo_2f3261_z0142.jpg: ignoring corrupt image/label: non-normalized or out of bounds coordinates [     1.2719]\n",
      "\u001b[34m\u001b[1mtrain: \u001b[0mWARNING  D:\\flagellar\\temp\\yolo_dataset\\images\\train\\tomo_2f3261_z0143.jpg: ignoring corrupt image/label: non-normalized or out of bounds coordinates [     1.2719]\n",
      "\u001b[34m\u001b[1mtrain: \u001b[0mWARNING  D:\\flagellar\\temp\\yolo_dataset\\images\\train\\tomo_2f3261_z0144.jpg: ignoring corrupt image/label: non-normalized or out of bounds coordinates [     1.2719]\n",
      "\u001b[34m\u001b[1mtrain: \u001b[0mWARNING  D:\\flagellar\\temp\\yolo_dataset\\images\\train\\tomo_317656_z0096.jpg: ignoring corrupt image/label: non-normalized or out of bounds coordinates [     1.4688]\n",
      "\u001b[34m\u001b[1mtrain: \u001b[0mWARNING  D:\\flagellar\\temp\\yolo_dataset\\images\\train\\tomo_317656_z0097.jpg: ignoring corrupt image/label: non-normalized or out of bounds coordinates [     1.4688]\n",
      "\u001b[34m\u001b[1mtrain: \u001b[0mWARNING  D:\\flagellar\\temp\\yolo_dataset\\images\\train\\tomo_317656_z0098.jpg: ignoring corrupt image/label: non-normalized or out of bounds coordinates [     1.4688]\n",
      "\u001b[34m\u001b[1mtrain: \u001b[0mWARNING  D:\\flagellar\\temp\\yolo_dataset\\images\\train\\tomo_32aaa7_z0155.jpg: ignoring corrupt image/label: non-normalized or out of bounds coordinates [     1.1031]\n",
      "\u001b[34m\u001b[1mtrain: \u001b[0mWARNING  D:\\flagellar\\temp\\yolo_dataset\\images\\train\\tomo_32aaa7_z0156.jpg: ignoring corrupt image/label: non-normalized or out of bounds coordinates [     1.1031]\n",
      "\u001b[34m\u001b[1mtrain: \u001b[0mWARNING  D:\\flagellar\\temp\\yolo_dataset\\images\\train\\tomo_32aaa7_z0157.jpg: ignoring corrupt image/label: non-normalized or out of bounds coordinates [     1.1031]\n",
      "\u001b[34m\u001b[1mtrain: \u001b[0mWARNING  D:\\flagellar\\temp\\yolo_dataset\\images\\train\\tomo_378f43_z0165.jpg: ignoring corrupt image/label: non-normalized or out of bounds coordinates [     1.4219]\n",
      "\u001b[34m\u001b[1mtrain: \u001b[0mWARNING  D:\\flagellar\\temp\\yolo_dataset\\images\\train\\tomo_378f43_z0166.jpg: ignoring corrupt image/label: non-normalized or out of bounds coordinates [     1.4219]\n",
      "\u001b[34m\u001b[1mtrain: \u001b[0mWARNING  D:\\flagellar\\temp\\yolo_dataset\\images\\train\\tomo_378f43_z0167.jpg: ignoring corrupt image/label: non-normalized or out of bounds coordinates [     1.4219]\n",
      "\u001b[34m\u001b[1mtrain: \u001b[0mWARNING  D:\\flagellar\\temp\\yolo_dataset\\images\\train\\tomo_38c2a6_z0250.jpg: ignoring corrupt image/label: non-normalized or out of bounds coordinates [     1.1844]\n",
      "\u001b[34m\u001b[1mtrain: \u001b[0mWARNING  D:\\flagellar\\temp\\yolo_dataset\\images\\train\\tomo_38c2a6_z0251.jpg: ignoring corrupt image/label: non-normalized or out of bounds coordinates [     1.1844]\n",
      "\u001b[34m\u001b[1mtrain: \u001b[0mWARNING  D:\\flagellar\\temp\\yolo_dataset\\images\\train\\tomo_38c2a6_z0252.jpg: ignoring corrupt image/label: non-normalized or out of bounds coordinates [     1.1844]\n"
     ]
    },
    {
     "name": "stderr",
     "output_type": "stream",
     "text": [
      "\n"
     ]
    },
    {
     "name": "stdout",
     "output_type": "stream",
     "text": [
      "\u001b[34m\u001b[1mval: \u001b[0mFast image access  (ping: 0.00.0 ms, read: 8.72.7 MB/s, size: 31.0 KB)\n"
     ]
    },
    {
     "name": "stderr",
     "output_type": "stream",
     "text": [
      "\u001b[34m\u001b[1mval: \u001b[0mScanning D:\\flagellar\\temp\\yolo_dataset\\labels\\val.cache... 68 images, 35 backgrounds, 6 corrupt: 100%|██████████|\u001b[0m"
     ]
    },
    {
     "name": "stdout",
     "output_type": "stream",
     "text": [
      "\u001b[34m\u001b[1mval: \u001b[0mWARNING  D:\\flagellar\\temp\\yolo_dataset\\images\\val\\tomo_57592d_z0173.jpg: ignoring corrupt image/label: non-normalized or out of bounds coordinates [     1.5625]\n",
      "\u001b[34m\u001b[1mval: \u001b[0mWARNING  D:\\flagellar\\temp\\yolo_dataset\\images\\val\\tomo_57592d_z0174.jpg: ignoring corrupt image/label: non-normalized or out of bounds coordinates [     1.5625]\n",
      "\u001b[34m\u001b[1mval: \u001b[0mWARNING  D:\\flagellar\\temp\\yolo_dataset\\images\\val\\tomo_57592d_z0175.jpg: ignoring corrupt image/label: non-normalized or out of bounds coordinates [     1.5625]\n",
      "\u001b[34m\u001b[1mval: \u001b[0mWARNING  D:\\flagellar\\temp\\yolo_dataset\\images\\val\\tomo_5764d6_z0091.jpg: ignoring corrupt image/label: non-normalized or out of bounds coordinates [     1.2219]\n",
      "\u001b[34m\u001b[1mval: \u001b[0mWARNING  D:\\flagellar\\temp\\yolo_dataset\\images\\val\\tomo_5764d6_z0092.jpg: ignoring corrupt image/label: non-normalized or out of bounds coordinates [     1.2219]\n",
      "\u001b[34m\u001b[1mval: \u001b[0mWARNING  D:\\flagellar\\temp\\yolo_dataset\\images\\val\\tomo_5764d6_z0093.jpg: ignoring corrupt image/label: non-normalized or out of bounds coordinates [     1.2219]\n"
     ]
    },
    {
     "name": "stderr",
     "output_type": "stream",
     "text": [
      "\n"
     ]
    },
    {
     "name": "stdout",
     "output_type": "stream",
     "text": [
      "Plotting labels to d:\\flagellar\\temp\\yolo_weights\\motor_detector\\labels.jpg... \n",
      "\u001b[34m\u001b[1moptimizer:\u001b[0m AdamW(lr=0.001, momentum=0.937) with parameter groups 221 weight(decay=0.0), 228 weight(decay=0.00046875), 227 bias(decay=0.0)\n",
      "Image sizes 320 train, 320 val\n",
      "Using 4 dataloader workers\n",
      "Logging results to \u001b[1md:\\flagellar\\temp\\yolo_weights\\motor_detector\u001b[0m\n",
      "Starting training for 3 epochs...\n",
      "\n",
      "      Epoch    GPU_mem   box_loss   cls_loss   dfl_loss  Instances       Size\n"
     ]
    },
    {
     "name": "stderr",
     "output_type": "stream",
     "text": [
      "\n",
      "                 Class     Images  Instances      Box(P          R      mAP50  mAP50-95): 100%|██████████| 3/3 [00:00<0"
     ]
    },
    {
     "name": "stdout",
     "output_type": "stream",
     "text": [
      "                   all         62         33          0          0          0          0\n"
     ]
    },
    {
     "name": "stderr",
     "output_type": "stream",
     "text": [
      "\n"
     ]
    },
    {
     "name": "stdout",
     "output_type": "stream",
     "text": [
      "\n",
      "      Epoch    GPU_mem   box_loss   cls_loss   dfl_loss  Instances       Size\n"
     ]
    },
    {
     "name": "stderr",
     "output_type": "stream",
     "text": [
      "\n",
      "                 Class     Images  Instances      Box(P          R      mAP50  mAP50-95): 100%|██████████| 3/3 [00:00<0"
     ]
    },
    {
     "name": "stdout",
     "output_type": "stream",
     "text": [
      "                   all         62         33          0          0          0          0\n"
     ]
    },
    {
     "name": "stderr",
     "output_type": "stream",
     "text": [
      "\n"
     ]
    },
    {
     "name": "stdout",
     "output_type": "stream",
     "text": [
      "\n",
      "      Epoch    GPU_mem   box_loss   cls_loss   dfl_loss  Instances       Size\n"
     ]
    },
    {
     "name": "stderr",
     "output_type": "stream",
     "text": [
      "\n",
      "                 Class     Images  Instances      Box(P          R      mAP50  mAP50-95): 100%|██████████| 3/3 [00:00<0"
     ]
    },
    {
     "name": "stdout",
     "output_type": "stream",
     "text": [
      "                   all         62         33          0          0          0          0\n"
     ]
    },
    {
     "name": "stderr",
     "output_type": "stream",
     "text": [
      "\n"
     ]
    },
    {
     "name": "stdout",
     "output_type": "stream",
     "text": [
      "\n",
      "3 epochs completed in 0.009 hours.\n",
      "Optimizer stripped from d:\\flagellar\\temp\\yolo_weights\\motor_detector\\weights\\last.pt, 15.2MB\n",
      "Optimizer stripped from d:\\flagellar\\temp\\yolo_weights\\motor_detector\\weights\\best.pt, 15.2MB\n",
      "\n",
      "Validating d:\\flagellar\\temp\\yolo_weights\\motor_detector\\weights\\best.pt...\n",
      "Ultralytics 8.3.110  Python-3.10.14 torch-2.5.1 CUDA:0 (NVIDIA GeForce RTX 4070 Ti, 12282MiB)\n",
      "YOLOv9s summary (fused): 197 layers, 7,167,475 parameters, 0 gradients, 26.7 GFLOPs\n"
     ]
    },
    {
     "name": "stderr",
     "output_type": "stream",
     "text": [
      "\n",
      "                Class     Images  Instances      Box(P          R      mAP50  mAP50-95): 100%|██████████| 3/3 [00:00<0"
     ]
    },
    {
     "name": "stdout",
     "output_type": "stream",
     "text": [
      "                   all         62         33          0          0          0          0\n",
      "Speed: 0.4ms preprocess, 13.6ms inference, 0.0ms loss, 0.1ms postprocess per image\n",
      "Results saved to \u001b[1md:\\flagellar\\temp\\yolo_weights\\motor_detector\u001b[0m\n",
      "\n",
      "Training complete!\n",
      "Clearing cupy\n",
      "YOLOv9s summary (fused): 197 layers, 7,167,475 parameters, 0 gradients, 26.7 GFLOPs\n",
      "Processing tomogram tomo_081a2d (1/1)\n",
      "Processing 300 out of 300 slices (CONCENTRATION=1)\n",
      "FINAL\n",
      "        z    y    x  confidence\n",
      "0     143  356  211    0.001623\n",
      "1     147  754  149    0.001567\n",
      "2     136  273  177    0.001536\n",
      "3     147  821  161    0.001421\n",
      "4     142  718  133    0.001410\n",
      "...   ...  ...  ...         ...\n",
      "2461  280   46  231    0.000325\n",
      "2462  290   26  251    0.000325\n",
      "2463  290  613  249    0.000325\n",
      "2464  291   45  324    0.000325\n",
      "2465  292  877  498    0.000325\n",
      "\n",
      "[2466 rows x 4 columns]\n",
      "\n",
      "tomo_081a2d total infer time: 15.440554141998291\n",
      "Clearing pytorch\n",
      "Clearing cupy\n",
      "Processing tomogram tomo_08446f (1/1)\n",
      "Processing 500 out of 500 slices (CONCENTRATION=1)\n",
      "FINAL\n",
      "        z    y    x  confidence\n",
      "0      70  637  599    0.002855\n",
      "1      70  663  561    0.002663\n",
      "2      70  619  624    0.002581\n",
      "3     113  622  673    0.002571\n",
      "4      86  749  606    0.002531\n",
      "...   ...  ...  ...         ...\n",
      "2170  341  710  551    0.000573\n",
      "2171  362  515  526    0.000573\n",
      "2172  406  640  679    0.000573\n",
      "2173  406  736  393    0.000573\n",
      "2174  435  755  605    0.000573\n",
      "\n",
      "[2175 rows x 4 columns]\n",
      "\n",
      "tomo_08446f total infer time: 20.6175754070282\n",
      "         z    y    x  confidence  i_model\n",
      "0        0   17  354    0.000607        0\n",
      "1        0   17  344    0.000596        0\n",
      "2        0    9  344    0.000582        0\n",
      "3        0   16  364    0.000573        0\n",
      "4        0   16  374    0.000555        0\n",
      "...    ...  ...  ...         ...      ...\n",
      "83156  299  365  118    0.000346        0\n",
      "83157  299  322  119    0.000341        0\n",
      "83158  299  867  713    0.000335        0\n",
      "83159  299  855  734    0.000333        0\n",
      "83160  299  897  723    0.000325        0\n",
      "\n",
      "[18237 rows x 5 columns]\n",
      "         z    y    x  confidence  i_model\n",
      "133      1  739  542    0.001151        0\n",
      "134      1  697  539    0.001107        0\n",
      "135      1  762  529    0.001086        0\n",
      "136      1  682  546    0.001024        0\n",
      "137      1  318  749    0.001017        0\n",
      "...    ...  ...  ...         ...      ...\n",
      "64215  498  683  670    0.000591        0\n",
      "64262  499  719  409    0.001249        0\n",
      "64263  499  744  403    0.001134        0\n",
      "64264  499  771  402    0.000926        0\n",
      "64265  499  681  411    0.000890        0\n",
      "\n",
      "[2935 rows x 5 columns]\n",
      "[Empty DataFrame\n",
      "Columns: [z, y, x, confidence]\n",
      "Index: [], Empty DataFrame\n",
      "Columns: [z, y, x, confidence]\n",
      "Index: []]\n",
      "Clearing pytorch\n"
     ]
    }
   ],
   "source": [
    "import importlib\n",
    "importlib.reload(flg_test)\n",
    "#flg_test.test_yolo(update_reference=True)\n",
    "flg_test.run_all_tests(update_reference=False)"
   ]
  },
  {
   "cell_type": "code",
   "execution_count": null,
   "id": "c2a2c3ba-6c07-4761-ad4f-c3078a3a57fe",
   "metadata": {},
   "outputs": [],
   "source": [
    "import flg_support as fls\n",
    "ref_name = fls.code_dir + 'ref_yolo.pickle';\n",
    "str(fls.dill_load(ref_name))"
   ]
  },
  {
   "cell_type": "code",
   "execution_count": null,
   "id": "b84b4516-35a7-4a48-a757-26033301e074",
   "metadata": {},
   "outputs": [],
   "source": []
  }
 ],
 "metadata": {
  "kernelspec": {
   "display_name": "Python 3 (ipykernel)",
   "language": "python",
   "name": "python3"
  },
  "language_info": {
   "codemirror_mode": {
    "name": "ipython",
    "version": 3
   },
   "file_extension": ".py",
   "mimetype": "text/x-python",
   "name": "python",
   "nbconvert_exporter": "python",
   "pygments_lexer": "ipython3",
   "version": "3.10.14"
  }
 },
 "nbformat": 4,
 "nbformat_minor": 5
}
