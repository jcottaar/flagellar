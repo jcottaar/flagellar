{
 "cells": [
  {
   "cell_type": "code",
   "execution_count": 1,
   "id": "bcddf786-c0f5-4eb6-b5f2-97278c1def1d",
   "metadata": {},
   "outputs": [
    {
     "name": "stdout",
     "output_type": "stream",
     "text": [
      "MainProcess\n"
     ]
    }
   ],
   "source": [
    "import sys\n",
    "sys.path.append('d:/flagellar/code/core')\n",
    "sys.path.append('/flagellar/code/core')\n",
    "sys.path.append('/kaggle/input/my-flagellar-library/')\n",
    "import flg_test"
   ]
  },
  {
   "cell_type": "code",
   "execution_count": 2,
   "id": "f665bda1-916a-495e-aa3b-0d73dd1d7ef1",
   "metadata": {},
   "outputs": [
    {
     "name": "stdout",
     "output_type": "stream",
     "text": [
      "CompletedProcess(args=['pip', 'uninstall', '-y', 'albumentations'], returncode=0)\n",
      "Will process approximately 981 slices for training\n"
     ]
    },
    {
     "data": {
      "application/vnd.jupyter.widget-view+json": {
       "model_id": "45a68604a330411ba639a5025acc787b",
       "version_major": 2,
       "version_minor": 0
      },
      "text/plain": [
       "Processing training motors:   0%|          | 0/109 [00:00<?, ?it/s]"
      ]
     },
     "metadata": {},
     "output_type": "display_data"
    },
    {
     "name": "stdout",
     "output_type": "stream",
     "text": [
      "Clearing pytorch\n",
      "Will process approximately 99 slices for validation\n"
     ]
    },
    {
     "data": {
      "application/vnd.jupyter.widget-view+json": {
       "model_id": "1a47a75f254a4cb5b67318537ffa717d",
       "version_major": 2,
       "version_minor": 0
      },
      "text/plain": [
       "Processing validation motors:   0%|          | 0/11 [00:00<?, ?it/s]"
      ]
     },
     "metadata": {},
     "output_type": "display_data"
    },
    {
     "name": "stdout",
     "output_type": "stream",
     "text": [
      "\n",
      "Preprocessing Complete:\n",
      "- Training data: 83 tomograms, 109 motors, 981 slices\n",
      "- Validation data: 10 tomograms, 11 motors, 99 slices\n",
      "- Dataset directory: d:/flagellar/temp//yolo_dataset/\n",
      "- YAML configuration: d:/flagellar/temp//yolo_dataset/dataset.yaml\n",
      "\n",
      "Ready for YOLO training!\n",
      "Starting YOLO training process...\n",
      "Created new YAML at d:/flagellar/temp/training.yaml\n",
      "Using YAML file: d:/flagellar/temp/training.yaml\n",
      "YAML contents:\n",
      "names:\n",
      "  0: motor\n",
      "path: d:/flagellar/temp//yolo_dataset/\n",
      "train: images/train\n",
      "val: images/val\n",
      "\n",
      "\n",
      "Starting YOLO training...\n",
      "New https://pypi.org/project/ultralytics/8.3.107 available  Update with 'pip install -U ultralytics'\n",
      "Ultralytics 8.3.98  Python-3.10.14 torch-2.5.1 CUDA:0 (NVIDIA GeForce RTX 4070 Ti, 12282MiB)\n",
      "\u001b[34m\u001b[1mengine\\trainer: \u001b[0mtask=detect, mode=train, model=yolov8m.pt, data=d:/flagellar/temp/training.yaml, epochs=5, time=None, patience=10, batch=16, imgsz=640, save=True, save_period=5, cache=False, device=None, workers=4, project=d:/flagellar/temp//yolo_weights/, name=motor_detector, exist_ok=True, pretrained=True, optimizer=AdamW, verbose=True, seed=0, deterministic=True, single_cls=False, rect=False, cos_lr=True, close_mosaic=10, resume=False, amp=True, fraction=1.0, profile=False, freeze=None, multi_scale=False, overlap_mask=True, mask_ratio=4, dropout=0.0, val=True, split=val, save_json=False, save_hybrid=False, conf=None, iou=0.7, max_det=300, half=False, dnn=False, plots=True, source=None, vid_stride=1, stream_buffer=False, visualize=False, augment=True, agnostic_nms=False, classes=None, retina_masks=False, embed=None, show=False, save_frames=False, save_txt=False, save_conf=False, save_crop=False, show_labels=True, show_conf=True, show_boxes=True, line_width=None, format=torchscript, keras=False, optimize=False, int8=False, dynamic=False, simplify=True, opset=None, workspace=None, nms=False, lr0=0.001, lrf=0.01, momentum=0.937, weight_decay=0.0005, warmup_epochs=3.0, warmup_momentum=0.8, warmup_bias_lr=0.1, box=7.5, cls=0.5, dfl=1.5, pose=12.0, kobj=1.0, nbs=64, hsv_h=0.015, hsv_s=0.7, hsv_v=0.4, degrees=0.0, translate=0.1, scale=0.5, shear=0.0, perspective=0.0, flipud=0.0, fliplr=0.5, bgr=0.0, mosaic=1.0, mixup=0.2, copy_paste=0.0, copy_paste_mode=flip, auto_augment=None, erasing=0.4, crop_fraction=1.0, cfg=None, tracker=botsort.yaml, save_dir=d:\\flagellar\\temp\\yolo_weights\\motor_detector\n",
      "Overriding model.yaml nc=80 with nc=1\n",
      "\n",
      "                   from  n    params  module                                       arguments                     \n",
      "  0                  -1  1      1392  ultralytics.nn.modules.conv.Conv             [3, 48, 3, 2]                 \n",
      "  1                  -1  1     41664  ultralytics.nn.modules.conv.Conv             [48, 96, 3, 2]                \n",
      "  2                  -1  2    111360  ultralytics.nn.modules.block.C2f             [96, 96, 2, True]             \n",
      "  3                  -1  1    166272  ultralytics.nn.modules.conv.Conv             [96, 192, 3, 2]               \n",
      "  4                  -1  4    813312  ultralytics.nn.modules.block.C2f             [192, 192, 4, True]           \n",
      "  5                  -1  1    664320  ultralytics.nn.modules.conv.Conv             [192, 384, 3, 2]              \n",
      "  6                  -1  4   3248640  ultralytics.nn.modules.block.C2f             [384, 384, 4, True]           \n",
      "  7                  -1  1   1991808  ultralytics.nn.modules.conv.Conv             [384, 576, 3, 2]              \n",
      "  8                  -1  2   3985920  ultralytics.nn.modules.block.C2f             [576, 576, 2, True]           \n",
      "  9                  -1  1    831168  ultralytics.nn.modules.block.SPPF            [576, 576, 5]                 \n",
      " 10                  -1  1         0  torch.nn.modules.upsampling.Upsample         [None, 2, 'nearest']          \n",
      " 11             [-1, 6]  1         0  ultralytics.nn.modules.conv.Concat           [1]                           \n",
      " 12                  -1  2   1993728  ultralytics.nn.modules.block.C2f             [960, 384, 2]                 \n",
      " 13                  -1  1         0  torch.nn.modules.upsampling.Upsample         [None, 2, 'nearest']          \n",
      " 14             [-1, 4]  1         0  ultralytics.nn.modules.conv.Concat           [1]                           \n",
      " 15                  -1  2    517632  ultralytics.nn.modules.block.C2f             [576, 192, 2]                 \n",
      " 16                  -1  1    332160  ultralytics.nn.modules.conv.Conv             [192, 192, 3, 2]              \n",
      " 17            [-1, 12]  1         0  ultralytics.nn.modules.conv.Concat           [1]                           \n",
      " 18                  -1  2   1846272  ultralytics.nn.modules.block.C2f             [576, 384, 2]                 \n",
      " 19                  -1  1   1327872  ultralytics.nn.modules.conv.Conv             [384, 384, 3, 2]              \n",
      " 20             [-1, 9]  1         0  ultralytics.nn.modules.conv.Concat           [1]                           \n",
      " 21                  -1  2   4207104  ultralytics.nn.modules.block.C2f             [960, 576, 2]                 \n",
      " 22        [15, 18, 21]  1   3776275  ultralytics.nn.modules.head.Detect           [1, [192, 384, 576]]          \n",
      "Model summary: 169 layers, 25,856,899 parameters, 25,856,883 gradients, 79.1 GFLOPs\n",
      "\n",
      "Transferred 469/475 items from pretrained weights\n",
      "Freezing layer 'model.22.dfl.conv.weight'\n",
      "\u001b[34m\u001b[1mAMP: \u001b[0mrunning Automatic Mixed Precision (AMP) checks...\n",
      "\u001b[34m\u001b[1mAMP: \u001b[0mchecks passed \n"
     ]
    },
    {
     "name": "stderr",
     "output_type": "stream",
     "text": [
      "\n",
      "\n",
      "[34m\u001b[1mval: \u001b[0mScanning D:\\flagellar\\temp\\yolo_dataset\\labels\\val.cache... 99 images, 0 backgrounds, 0 corrupt: 100%|██████████| \u001b[0m"
     ]
    },
    {
     "name": "stdout",
     "output_type": "stream",
     "text": [
      "Plotting labels to d:\\flagellar\\temp\\yolo_weights\\motor_detector\\labels.jpg... \n",
      "\u001b[34m\u001b[1moptimizer:\u001b[0m AdamW(lr=0.001, momentum=0.937) with parameter groups 77 weight(decay=0.0), 84 weight(decay=0.0005), 83 bias(decay=0.0)\n",
      "Image sizes 640 train, 640 val\n",
      "Using 4 dataloader workers\n",
      "Logging results to \u001b[1md:\\flagellar\\temp\\yolo_weights\\motor_detector\u001b[0m\n",
      "Starting training for 5 epochs...\n",
      "\n",
      "      Epoch    GPU_mem   box_loss   cls_loss   dfl_loss  Instances       Size\n"
     ]
    },
    {
     "name": "stderr",
     "output_type": "stream",
     "text": [
      "\n",
      "                 Class     Images  Instances      Box(P          R      mAP50  mAP50-95): 100%|██████████| 4/4 [00:00<0"
     ]
    },
    {
     "name": "stdout",
     "output_type": "stream",
     "text": [
      "                   all         99         99          0          0          0          0\n"
     ]
    },
    {
     "name": "stderr",
     "output_type": "stream",
     "text": [
      "\n"
     ]
    },
    {
     "name": "stdout",
     "output_type": "stream",
     "text": [
      "\n",
      "      Epoch    GPU_mem   box_loss   cls_loss   dfl_loss  Instances       Size\n"
     ]
    },
    {
     "name": "stderr",
     "output_type": "stream",
     "text": [
      "\n",
      "                 Class     Images  Instances      Box(P          R      mAP50  mAP50-95): 100%|██████████| 4/4 [00:00<0"
     ]
    },
    {
     "name": "stdout",
     "output_type": "stream",
     "text": [
      "                   all         99         99      0.332      0.364      0.276     0.0868\n"
     ]
    },
    {
     "name": "stderr",
     "output_type": "stream",
     "text": [
      "\n"
     ]
    },
    {
     "name": "stdout",
     "output_type": "stream",
     "text": [
      "\n",
      "      Epoch    GPU_mem   box_loss   cls_loss   dfl_loss  Instances       Size\n"
     ]
    },
    {
     "name": "stderr",
     "output_type": "stream",
     "text": [
      "\n",
      "                 Class     Images  Instances      Box(P          R      mAP50  mAP50-95): 100%|██████████| 4/4 [00:00<0"
     ]
    },
    {
     "name": "stdout",
     "output_type": "stream",
     "text": [
      "                   all         99         99      0.643      0.465      0.412      0.156\n"
     ]
    },
    {
     "name": "stderr",
     "output_type": "stream",
     "text": [
      "\n"
     ]
    },
    {
     "name": "stdout",
     "output_type": "stream",
     "text": [
      "\n",
      "      Epoch    GPU_mem   box_loss   cls_loss   dfl_loss  Instances       Size\n"
     ]
    },
    {
     "name": "stderr",
     "output_type": "stream",
     "text": [
      "\n",
      "                 Class     Images  Instances      Box(P          R      mAP50  mAP50-95): 100%|██████████| 4/4 [00:00<0"
     ]
    },
    {
     "name": "stdout",
     "output_type": "stream",
     "text": [
      "                   all         99         99      0.203      0.333      0.123     0.0292\n"
     ]
    },
    {
     "name": "stderr",
     "output_type": "stream",
     "text": [
      "\n"
     ]
    },
    {
     "name": "stdout",
     "output_type": "stream",
     "text": [
      "\n",
      "      Epoch    GPU_mem   box_loss   cls_loss   dfl_loss  Instances       Size\n"
     ]
    },
    {
     "name": "stderr",
     "output_type": "stream",
     "text": [
      "\n",
      "                 Class     Images  Instances      Box(P          R      mAP50  mAP50-95): 100%|██████████| 4/4 [00:00<0"
     ]
    },
    {
     "name": "stdout",
     "output_type": "stream",
     "text": [
      "                   all         99         99      0.353      0.364      0.287     0.0808\n"
     ]
    },
    {
     "name": "stderr",
     "output_type": "stream",
     "text": [
      "\n"
     ]
    },
    {
     "name": "stdout",
     "output_type": "stream",
     "text": [
      "\n",
      "5 epochs completed in 0.022 hours.\n",
      "Optimizer stripped from d:\\flagellar\\temp\\yolo_weights\\motor_detector\\weights\\last.pt, 52.0MB\n",
      "Optimizer stripped from d:\\flagellar\\temp\\yolo_weights\\motor_detector\\weights\\best.pt, 52.0MB\n",
      "\n",
      "Validating d:\\flagellar\\temp\\yolo_weights\\motor_detector\\weights\\best.pt...\n",
      "Ultralytics 8.3.98  Python-3.10.14 torch-2.5.1 CUDA:0 (NVIDIA GeForce RTX 4070 Ti, 12282MiB)\n",
      "Model summary (fused): 92 layers, 25,840,339 parameters, 0 gradients, 78.7 GFLOPs\n"
     ]
    },
    {
     "name": "stderr",
     "output_type": "stream",
     "text": [
      "\n",
      "                Class     Images  Instances      Box(P          R      mAP50  mAP50-95): 100%|██████████| 4/4 [00:01<0"
     ]
    },
    {
     "name": "stdout",
     "output_type": "stream",
     "text": [
      "                   all         99         99      0.456      0.525      0.483      0.156\n",
      "Speed: 0.2ms preprocess, 13.0ms inference, 0.0ms loss, 1.8ms postprocess per image\n",
      "Results saved to \u001b[1md:\\flagellar\\temp\\yolo_weights\\motor_detector\u001b[0m\n",
      "Loss curve saved to d:/flagellar/temp//yolo_weights/motor_detector\\dfl_loss_curve.png\n",
      "\n",
      "Best model found at epoch 4 with validation DFL loss: 1.0389\n",
      "New https://pypi.org/project/ultralytics/8.3.107 available  Update with 'pip install -U ultralytics'\n",
      "Ultralytics 8.3.98  Python-3.10.14 torch-2.5.1 CUDA:0 (NVIDIA GeForce RTX 4070 Ti, 12282MiB)\n",
      "\u001b[34m\u001b[1mengine\\trainer: \u001b[0mtask=detect, mode=train, model=yolov8m.pt, data=d:/flagellar/temp/training.yaml, epochs=5, time=None, patience=10, batch=16, imgsz=640, save=True, save_period=5, cache=False, device=None, workers=4, project=d:/flagellar/temp//yolo_weights/, name=motor_detector, exist_ok=True, pretrained=True, optimizer=AdamW, verbose=True, seed=100000, deterministic=True, single_cls=False, rect=False, cos_lr=True, close_mosaic=10, resume=False, amp=True, fraction=1.0, profile=False, freeze=None, multi_scale=False, overlap_mask=True, mask_ratio=4, dropout=0.0, val=True, split=val, save_json=False, save_hybrid=False, conf=None, iou=0.7, max_det=300, half=False, dnn=False, plots=True, source=None, vid_stride=1, stream_buffer=False, visualize=False, augment=True, agnostic_nms=False, classes=None, retina_masks=False, embed=None, show=False, save_frames=False, save_txt=False, save_conf=False, save_crop=False, show_labels=True, show_conf=True, show_boxes=True, line_width=None, format=torchscript, keras=False, optimize=False, int8=False, dynamic=False, simplify=True, opset=None, workspace=None, nms=False, lr0=0.001, lrf=0.01, momentum=0.937, weight_decay=0.0005, warmup_epochs=3.0, warmup_momentum=0.8, warmup_bias_lr=0.1, box=7.5, cls=0.5, dfl=1.5, pose=12.0, kobj=1.0, nbs=64, hsv_h=0.015, hsv_s=0.7, hsv_v=0.4, degrees=0.0, translate=0.1, scale=0.5, shear=0.0, perspective=0.0, flipud=0.0, fliplr=0.5, bgr=0.0, mosaic=1.0, mixup=0.2, copy_paste=0.0, copy_paste_mode=flip, auto_augment=None, erasing=0.4, crop_fraction=1.0, cfg=None, tracker=botsort.yaml, save_dir=d:\\flagellar\\temp\\yolo_weights\\motor_detector\n",
      "Overriding model.yaml nc=80 with nc=1\n",
      "\n",
      "                   from  n    params  module                                       arguments                     \n",
      "  0                  -1  1      1392  ultralytics.nn.modules.conv.Conv             [3, 48, 3, 2]                 \n",
      "  1                  -1  1     41664  ultralytics.nn.modules.conv.Conv             [48, 96, 3, 2]                \n",
      "  2                  -1  2    111360  ultralytics.nn.modules.block.C2f             [96, 96, 2, True]             \n",
      "  3                  -1  1    166272  ultralytics.nn.modules.conv.Conv             [96, 192, 3, 2]               \n",
      "  4                  -1  4    813312  ultralytics.nn.modules.block.C2f             [192, 192, 4, True]           \n",
      "  5                  -1  1    664320  ultralytics.nn.modules.conv.Conv             [192, 384, 3, 2]              \n",
      "  6                  -1  4   3248640  ultralytics.nn.modules.block.C2f             [384, 384, 4, True]           \n",
      "  7                  -1  1   1991808  ultralytics.nn.modules.conv.Conv             [384, 576, 3, 2]              \n",
      "  8                  -1  2   3985920  ultralytics.nn.modules.block.C2f             [576, 576, 2, True]           \n",
      "  9                  -1  1    831168  ultralytics.nn.modules.block.SPPF            [576, 576, 5]                 \n",
      " 10                  -1  1         0  torch.nn.modules.upsampling.Upsample         [None, 2, 'nearest']          \n",
      " 11             [-1, 6]  1         0  ultralytics.nn.modules.conv.Concat           [1]                           \n",
      " 12                  -1  2   1993728  ultralytics.nn.modules.block.C2f             [960, 384, 2]                 \n",
      " 13                  -1  1         0  torch.nn.modules.upsampling.Upsample         [None, 2, 'nearest']          \n",
      " 14             [-1, 4]  1         0  ultralytics.nn.modules.conv.Concat           [1]                           \n",
      " 15                  -1  2    517632  ultralytics.nn.modules.block.C2f             [576, 192, 2]                 \n",
      " 16                  -1  1    332160  ultralytics.nn.modules.conv.Conv             [192, 192, 3, 2]              \n",
      " 17            [-1, 12]  1         0  ultralytics.nn.modules.conv.Concat           [1]                           \n",
      " 18                  -1  2   1846272  ultralytics.nn.modules.block.C2f             [576, 384, 2]                 \n",
      " 19                  -1  1   1327872  ultralytics.nn.modules.conv.Conv             [384, 384, 3, 2]              \n",
      " 20             [-1, 9]  1         0  ultralytics.nn.modules.conv.Concat           [1]                           \n",
      " 21                  -1  2   4207104  ultralytics.nn.modules.block.C2f             [960, 576, 2]                 \n",
      " 22        [15, 18, 21]  1   3776275  ultralytics.nn.modules.head.Detect           [1, [192, 384, 576]]          \n",
      "Model summary: 169 layers, 25,856,899 parameters, 25,856,883 gradients, 79.1 GFLOPs\n",
      "\n",
      "Transferred 469/475 items from pretrained weights\n",
      "Freezing layer 'model.22.dfl.conv.weight'\n",
      "\u001b[34m\u001b[1mAMP: \u001b[0mrunning Automatic Mixed Precision (AMP) checks...\n",
      "\u001b[34m\u001b[1mAMP: \u001b[0mchecks passed \n"
     ]
    },
    {
     "name": "stderr",
     "output_type": "stream",
     "text": [
      "\n",
      "\n",
      "[34m\u001b[1mval: \u001b[0mScanning D:\\flagellar\\temp\\yolo_dataset\\labels\\val.cache... 99 images, 0 backgrounds, 0 corrupt: 100%|██████████| \u001b[0m"
     ]
    },
    {
     "name": "stdout",
     "output_type": "stream",
     "text": [
      "Plotting labels to d:\\flagellar\\temp\\yolo_weights\\motor_detector\\labels.jpg... \n",
      "\u001b[34m\u001b[1moptimizer:\u001b[0m AdamW(lr=0.001, momentum=0.937) with parameter groups 77 weight(decay=0.0), 84 weight(decay=0.0005), 83 bias(decay=0.0)\n",
      "Image sizes 640 train, 640 val\n",
      "Using 4 dataloader workers\n",
      "Logging results to \u001b[1md:\\flagellar\\temp\\yolo_weights\\motor_detector\u001b[0m\n",
      "Starting training for 5 epochs...\n",
      "\n",
      "      Epoch    GPU_mem   box_loss   cls_loss   dfl_loss  Instances       Size\n"
     ]
    },
    {
     "name": "stderr",
     "output_type": "stream",
     "text": [
      "\n",
      "                 Class     Images  Instances      Box(P          R      mAP50  mAP50-95): 100%|██████████| 4/4 [00:00<0"
     ]
    },
    {
     "name": "stdout",
     "output_type": "stream",
     "text": [
      "                   all         99         99     0.0504      0.273     0.0661     0.0204\n"
     ]
    },
    {
     "name": "stderr",
     "output_type": "stream",
     "text": [
      "\n"
     ]
    },
    {
     "name": "stdout",
     "output_type": "stream",
     "text": [
      "\n",
      "      Epoch    GPU_mem   box_loss   cls_loss   dfl_loss  Instances       Size\n"
     ]
    },
    {
     "name": "stderr",
     "output_type": "stream",
     "text": [
      "\n",
      "                 Class     Images  Instances      Box(P          R      mAP50  mAP50-95): 100%|██████████| 4/4 [00:00<0"
     ]
    },
    {
     "name": "stdout",
     "output_type": "stream",
     "text": [
      "                   all         99         99      0.405      0.232      0.218     0.0654\n"
     ]
    },
    {
     "name": "stderr",
     "output_type": "stream",
     "text": [
      "\n"
     ]
    },
    {
     "name": "stdout",
     "output_type": "stream",
     "text": [
      "\n",
      "      Epoch    GPU_mem   box_loss   cls_loss   dfl_loss  Instances       Size\n"
     ]
    },
    {
     "name": "stderr",
     "output_type": "stream",
     "text": [
      "\n",
      "                 Class     Images  Instances      Box(P          R      mAP50  mAP50-95): 100%|██████████| 4/4 [00:00<0"
     ]
    },
    {
     "name": "stdout",
     "output_type": "stream",
     "text": [
      "                   all         99         99      0.433      0.239       0.19     0.0418\n"
     ]
    },
    {
     "name": "stderr",
     "output_type": "stream",
     "text": [
      "\n"
     ]
    },
    {
     "name": "stdout",
     "output_type": "stream",
     "text": [
      "\n",
      "      Epoch    GPU_mem   box_loss   cls_loss   dfl_loss  Instances       Size\n"
     ]
    },
    {
     "name": "stderr",
     "output_type": "stream",
     "text": [
      "\n",
      "                 Class     Images  Instances      Box(P          R      mAP50  mAP50-95): 100%|██████████| 4/4 [00:00<0"
     ]
    },
    {
     "name": "stdout",
     "output_type": "stream",
     "text": [
      "                   all         99         99      0.315      0.131     0.0959     0.0218\n"
     ]
    },
    {
     "name": "stderr",
     "output_type": "stream",
     "text": [
      "\n"
     ]
    },
    {
     "name": "stdout",
     "output_type": "stream",
     "text": [
      "\n",
      "      Epoch    GPU_mem   box_loss   cls_loss   dfl_loss  Instances       Size\n"
     ]
    },
    {
     "name": "stderr",
     "output_type": "stream",
     "text": [
      "\n",
      "                 Class     Images  Instances      Box(P          R      mAP50  mAP50-95): 100%|██████████| 4/4 [00:00<0"
     ]
    },
    {
     "name": "stdout",
     "output_type": "stream",
     "text": [
      "                   all         99         99      0.606      0.273      0.321     0.0775\n"
     ]
    },
    {
     "name": "stderr",
     "output_type": "stream",
     "text": [
      "\n"
     ]
    },
    {
     "name": "stdout",
     "output_type": "stream",
     "text": [
      "\n",
      "5 epochs completed in 0.022 hours.\n",
      "Optimizer stripped from d:\\flagellar\\temp\\yolo_weights\\motor_detector\\weights\\last.pt, 52.0MB\n",
      "Optimizer stripped from d:\\flagellar\\temp\\yolo_weights\\motor_detector\\weights\\best.pt, 52.0MB\n",
      "\n",
      "Validating d:\\flagellar\\temp\\yolo_weights\\motor_detector\\weights\\best.pt...\n",
      "Ultralytics 8.3.98  Python-3.10.14 torch-2.5.1 CUDA:0 (NVIDIA GeForce RTX 4070 Ti, 12282MiB)\n",
      "Model summary (fused): 92 layers, 25,840,339 parameters, 0 gradients, 78.7 GFLOPs\n"
     ]
    },
    {
     "name": "stderr",
     "output_type": "stream",
     "text": [
      "\n",
      "                Class     Images  Instances      Box(P          R      mAP50  mAP50-95): 100%|██████████| 4/4 [00:01<0"
     ]
    },
    {
     "name": "stdout",
     "output_type": "stream",
     "text": [
      "                   all         99         99      0.408      0.453      0.312      0.105\n",
      "Speed: 0.5ms preprocess, 9.6ms inference, 0.0ms loss, 1.3ms postprocess per image\n",
      "Results saved to \u001b[1md:\\flagellar\\temp\\yolo_weights\\motor_detector\u001b[0m\n",
      "Loss curve saved to d:/flagellar/temp//yolo_weights/motor_detector\\dfl_loss_curve.png\n",
      "\n",
      "Best model found at epoch 1 with validation DFL loss: 1.1048\n",
      "\n",
      "Training complete!\n",
      "Clearing cupy\n",
      "Model summary (fused): 92 layers, 25,840,339 parameters, 0 gradients, 78.7 GFLOPs\n",
      "Model summary (fused): 92 layers, 25,840,339 parameters, 0 gradients, 78.7 GFLOPs\n",
      "Processing tomogram tomo_081a2d (1/1)\n",
      "Processing 300 out of 300 slices (CONCENTRATION=1)\n",
      "Processing 300 out of 300 slices (CONCENTRATION=1)\n",
      "------------------\n",
      "     index    z    y    x  confidence  i_model\n",
      "0        0  155  319  644    0.616211        0\n",
      "1        1  164  317  647    0.593750        0\n",
      "2        2  160  316  647    0.583984        0\n",
      "3        3  157  317  644    0.574707        0\n",
      "4        4  159  315  646    0.562988        0\n",
      "..     ...  ...  ...  ...         ...      ...\n",
      "137    149  145  320  645    0.128052        0\n",
      "138    150  158  310  654    0.128052        0\n",
      "140    152  204  309  626    0.127686        0\n",
      "141    154  154  314  650    0.124634        0\n",
      "142    155  152  313  651    0.123352        0\n",
      "\n",
      "[81 rows x 6 columns]\n",
      "------------------\n",
      "------------------\n",
      "     index    z    y    x  confidence  i_model\n",
      "19      19  149  315  650    0.433105        1\n",
      "21      21  166  309  659    0.428223        1\n",
      "22      22  151  316  650    0.418701        1\n",
      "24      24  148  315  651    0.410156        1\n",
      "25      25  165  310  660    0.406494        1\n",
      "..     ...  ...  ...  ...         ...      ...\n",
      "124    133  149  311  656    0.140381        1\n",
      "129    139  145  312  653    0.136108        1\n",
      "131    142  168  306  656    0.134277        1\n",
      "134    145  123  306  636    0.132568        1\n",
      "139    151  150  311  656    0.128052        1\n",
      "\n",
      "[62 rows x 6 columns]\n",
      "------------------\n",
      "------------------\n",
      "Empty DataFrame\n",
      "Columns: [index, z, y, x, confidence, i_model]\n",
      "Index: []\n",
      "------------------\n",
      "------------------\n",
      "   index    z    y    x  confidence  i_model\n",
      "0     27  160  702  505    0.398926        1\n",
      "------------------\n",
      "------------------\n",
      "   index    z    y    x  confidence  i_model\n",
      "0     94  274  949  411    0.199951        0\n",
      "1    107  280  950  411    0.174438        0\n",
      "2    113  267  951  421    0.167725        0\n",
      "3    121  276  949  410    0.150024        0\n",
      "4    123  278  949  411    0.149048        0\n",
      "5    136  266  950  423    0.137939        0\n",
      "6    140  273  949  412    0.135742        0\n",
      "7    146  281  950  411    0.132080        0\n",
      "8    153  277  949  411    0.127686        0\n",
      "------------------\n",
      "------------------\n",
      "Empty DataFrame\n",
      "Columns: [index, z, y, x, confidence, i_model]\n",
      "Index: []\n",
      "------------------\n",
      "------------------\n",
      "   index    z    y    x  confidence  i_model\n",
      "0    100  269  572  543    0.187744        0\n",
      "------------------\n",
      "------------------\n",
      "Empty DataFrame\n",
      "Columns: [index, z, y, x, confidence, i_model]\n",
      "Index: []\n",
      "------------------\n",
      "------------------\n",
      "   index   z    y    x  confidence  i_model\n",
      "0    102  82  938  106    0.186523        0\n",
      "------------------\n",
      "------------------\n",
      "Empty DataFrame\n",
      "Columns: [index, z, y, x, confidence, i_model]\n",
      "Index: []\n",
      "------------------\n",
      "------------------\n",
      "   index   z   y    x  confidence  i_model\n",
      "0    125  31  58  268    0.147583        0\n",
      "------------------\n",
      "------------------\n",
      "Empty DataFrame\n",
      "Columns: [index, z, y, x, confidence, i_model]\n",
      "Index: []\n",
      "------------------\n",
      "FINAL\n",
      "     z    y    x  confidence\n",
      "0  155  319  644    0.524658\n",
      "1  160  702  505    0.204463\n",
      "2  274  949  411    0.104976\n",
      "3  269  572  543    0.098872\n",
      "4   82  938  106    0.098262\n",
      "5   31   58  268    0.078792\n",
      "\n",
      "Clearing pytorch\n",
      "Clearing cupy\n",
      "Processing tomogram tomo_08446f (1/1)\n",
      "Processing 500 out of 500 slices (CONCENTRATION=1)\n",
      "Processing 500 out of 500 slices (CONCENTRATION=1)\n",
      "------------------\n",
      "    index    z    y   x  confidence  i_model\n",
      "0       0  269  721  66    0.529297        0\n",
      "1       1  270  720  65    0.509766        0\n",
      "2       2  268  721  65    0.470703        0\n",
      "3       3  271  720  63    0.420654        0\n",
      "4       4  262  721  64    0.362061        0\n",
      "8       9  265  721  65    0.327637        0\n",
      "9      11  272  722  64    0.304932        0\n",
      "10     12  263  721  64    0.286865        0\n",
      "11     13  271  754  43    0.274414        0\n",
      "12     14  266  721  66    0.273682        0\n",
      "14     16  273  723  68    0.237183        0\n",
      "15     17  244  776  41    0.233765        0\n",
      "16     18  269  757  43    0.233032        0\n",
      "18     21  245  776  41    0.211426        0\n",
      "19     22  243  777  42    0.201172        0\n",
      "20     24  255  719  60    0.194336        0\n",
      "22     27  261  724  64    0.176147        0\n",
      "23     29  246  777  42    0.172729        0\n",
      "24     30  267  724  66    0.171631        0\n",
      "25     31  230  739  45    0.168335        0\n",
      "27     34  265  724  65    0.160767        0\n",
      "28     36  256  720  59    0.156128        0\n",
      "31     40  270  755  43    0.151489        0\n",
      "32     42  241  775  37    0.150024        0\n",
      "36     51  254  718  57    0.136597        0\n",
      "37     53  239  775  38    0.134766        0\n",
      "38     54  272  754  41    0.134766        0\n",
      "39     55  260  726  64    0.132080        0\n",
      "40     57  272  725  64    0.125977        0\n",
      "42     59  232  742  48    0.120422        0\n",
      "44     63  238  775  39    0.116333        0\n",
      "46     68  247  775  41    0.110107        0\n",
      "------------------\n",
      "------------------\n",
      "    index    z    y   x  confidence  i_model\n",
      "5       5  231  742  52    0.359375        1\n",
      "6       7  244  777  42    0.332764        1\n",
      "7       8  269  754  45    0.331055        1\n",
      "13     15  272  754  43    0.262207        1\n",
      "17     19  232  742  52    0.219360        1\n",
      "21     26  270  756  45    0.179565        1\n",
      "26     32  241  774  39    0.165649        1\n",
      "29     37  239  775  39    0.155029        1\n",
      "30     39  268  753  43    0.153076        1\n",
      "33     43  271  754  44    0.149048        1\n",
      "34     46  238  775  39    0.142700        1\n",
      "35     48  243  776  42    0.140869        1\n",
      "41     58  269  720  65    0.121277        1\n",
      "43     61  240  775  41    0.117188        1\n",
      "45     66  269  755  48    0.112427        1\n",
      "47     69  242  775  41    0.110107        1\n",
      "48     70  268  721  67    0.108948        1\n",
      "49     71  245  776  43    0.106689        1\n",
      "------------------\n",
      "------------------\n",
      "   index    z    y    x  confidence  i_model\n",
      "0      6  146  251  816    0.349609        0\n",
      "1     10  145  252  816    0.305664        0\n",
      "2     38  127  253  761    0.154053        0\n",
      "3     45  124  255  761    0.148071        0\n",
      "4     62  123  255  760    0.116333        0\n",
      "5     65  126  253  762    0.114380        0\n",
      "------------------\n",
      "------------------\n",
      "Empty DataFrame\n",
      "Columns: [index, z, y, x, confidence, i_model]\n",
      "Index: []\n",
      "------------------\n",
      "------------------\n",
      "   index    z    y    x  confidence  i_model\n",
      "0     20  295  632  592    0.212036        0\n",
      "------------------\n",
      "------------------\n",
      "Empty DataFrame\n",
      "Columns: [index, z, y, x, confidence, i_model]\n",
      "Index: []\n",
      "------------------\n",
      "------------------\n",
      "   index    z    y    x  confidence  i_model\n",
      "0     23  212  828  720    0.198120        0\n",
      "1     49  211  826  721    0.137085        0\n",
      "2     67  214  827  719    0.111267        0\n",
      "------------------\n",
      "------------------\n",
      "Empty DataFrame\n",
      "Columns: [index, z, y, x, confidence, i_model]\n",
      "Index: []\n",
      "------------------\n",
      "------------------\n",
      "Empty DataFrame\n",
      "Columns: [index, z, y, x, confidence, i_model]\n",
      "Index: []\n",
      "------------------\n",
      "------------------\n",
      "   index    z    y    x  confidence  i_model\n",
      "0     25  217  848  886    0.193726        1\n",
      "1     28  214  842  887    0.174438        1\n",
      "2     33  215  842  887    0.161865        1\n",
      "3     35  216  847  886    0.160278        1\n",
      "4     47  210  857  890    0.140869        1\n",
      "5     52  217  883  903    0.136597        1\n",
      "------------------\n",
      "------------------\n",
      "   index    z    y    x  confidence  i_model\n",
      "0     41  221  181  364    0.150513        0\n",
      "2     56  188  198  317    0.128052        0\n",
      "------------------\n",
      "------------------\n",
      "   index    z    y    x  confidence  i_model\n",
      "1     50  212  225  277    0.137085        1\n",
      "------------------\n",
      "------------------\n",
      "   index    z    y    x  confidence  i_model\n",
      "0     44  472  170  127     0.14856        0\n",
      "------------------\n",
      "------------------\n",
      "Empty DataFrame\n",
      "Columns: [index, z, y, x, confidence, i_model]\n",
      "Index: []\n",
      "------------------\n",
      "------------------\n",
      "   index    z    y    x  confidence  i_model\n",
      "0     60  230  624  358    0.119629        0\n",
      "------------------\n",
      "------------------\n",
      "   index    z    y    x  confidence  i_model\n",
      "1     64  217  630  358    0.115967        1\n",
      "------------------\n",
      "FINAL\n",
      "     z    y    x  confidence\n",
      "0  269  721   66    0.444336\n",
      "1  146  251  816    0.179805\n",
      "2  295  632  592    0.111018\n",
      "3  212  828  720    0.104060\n",
      "4  217  848  886    0.101863\n",
      "5  221  181  364    0.143799\n",
      "6  472  170  127    0.079280\n",
      "7  230  624  358    0.117798\n",
      "\n",
      "       z    y    x  confidence  i_model\n",
      "11    31   58  268    0.147583        0\n",
      "53    82  938  106    0.186523        0\n",
      "98   119  316  630    0.159180        0\n",
      "99   119  310  633    0.141235        0\n",
      "102  120  315  630    0.222046        0\n",
      "..   ...  ...  ...         ...      ...\n",
      "711  166  309  659    0.428223        1\n",
      "712  166  309  656    0.190063        1\n",
      "716  167  308  658    0.345215        1\n",
      "718  168  307  658    0.213989        1\n",
      "719  168  306  656    0.134277        1\n",
      "\n",
      "[156 rows x 5 columns]\n",
      "       z    y    x  confidence  i_model\n",
      "49   123  255  760    0.116333        0\n",
      "51   124  255  761    0.148071        0\n",
      "54   126  253  762    0.114380        0\n",
      "56   127  253  761    0.154053        0\n",
      "74   145  252  816    0.305664        0\n",
      "..   ...  ...  ...         ...      ...\n",
      "891  269  720   65    0.121277        1\n",
      "892  269  755   48    0.112427        1\n",
      "897  270  756   45    0.179565        1\n",
      "902  271  754   44    0.149048        1\n",
      "905  272  754   43    0.262207        1\n",
      "\n",
      "[72 rows x 5 columns]\n",
      "[     z    y    x  confidence\n",
      "0  155  319  644    0.524658,      z    y   x  confidence\n",
      "0  269  721  66    0.444336]\n",
      "Clearing pytorch\n",
      "42\n",
      "0 1 "
     ]
    },
    {
     "data": {
      "text/plain": [
       "<Figure size 640x480 with 1 Axes>"
      ]
     },
     "metadata": {},
     "output_type": "display_data"
    },
    {
     "name": "stdout",
     "output_type": "stream",
     "text": [
      "Clearing cupy\n"
     ]
    },
    {
     "data": {
      "text/plain": [
       "<Figure size 640x480 with 2 Axes>"
      ]
     },
     "metadata": {},
     "output_type": "display_data"
    },
    {
     "name": "stdout",
     "output_type": "stream",
     "text": [
      "Clearing pytorch\n",
      "reconsider\n",
      "Clearing cupy\n"
     ]
    },
    {
     "data": {
      "text/plain": [
       "<Figure size 640x480 with 2 Axes>"
      ]
     },
     "metadata": {},
     "output_type": "display_data"
    },
    {
     "name": "stdout",
     "output_type": "stream",
     "text": [
      "All tests passed\n"
     ]
    }
   ],
   "source": [
    "import importlib\n",
    "importlib.reload(flg_test)\n",
    "#flg_test.test_yolo_infer(update_reference=False)\n",
    "flg_test.run_all_tests(update_reference=False)"
   ]
  },
  {
   "cell_type": "code",
   "execution_count": 3,
   "id": "272fae9a-5bb0-45c0-b50f-5cfcfa205221",
   "metadata": {},
   "outputs": [
    {
     "name": "stderr",
     "output_type": "stream",
     "text": [
      "ERROR:root:No traceback has been produced, nothing to debug.\n"
     ]
    }
   ],
   "source": [
    "%debug"
   ]
  },
  {
   "cell_type": "code",
   "execution_count": 4,
   "id": "c2a2c3ba-6c07-4761-ad4f-c3078a3a57fe",
   "metadata": {},
   "outputs": [
    {
     "data": {
      "text/plain": [
       "'[     z    y    x  confidence\\n0  155  319  644    0.524658,      z    y   x  confidence\\n0  269  721  66    0.444336]'"
      ]
     },
     "execution_count": 4,
     "metadata": {},
     "output_type": "execute_result"
    }
   ],
   "source": [
    "import flg_support as fls\n",
    "ref_name = fls.code_dir + 'ref_yolo.pickle';\n",
    "str(fls.dill_load(ref_name))"
   ]
  },
  {
   "cell_type": "code",
   "execution_count": null,
   "id": "b84b4516-35a7-4a48-a757-26033301e074",
   "metadata": {},
   "outputs": [],
   "source": []
  }
 ],
 "metadata": {
  "kernelspec": {
   "display_name": "Python 3 (ipykernel)",
   "language": "python",
   "name": "python3"
  },
  "language_info": {
   "codemirror_mode": {
    "name": "ipython",
    "version": 3
   },
   "file_extension": ".py",
   "mimetype": "text/x-python",
   "name": "python",
   "nbconvert_exporter": "python",
   "pygments_lexer": "ipython3",
   "version": "3.10.14"
  }
 },
 "nbformat": 4,
 "nbformat_minor": 5
}
