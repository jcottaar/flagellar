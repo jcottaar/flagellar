{
 "cells": [
  {
   "cell_type": "code",
   "execution_count": 1,
   "id": "bcddf786-c0f5-4eb6-b5f2-97278c1def1d",
   "metadata": {},
   "outputs": [
    {
     "name": "stdout",
     "output_type": "stream",
     "text": [
      "MainProcess\n"
     ]
    }
   ],
   "source": [
    "import sys\n",
    "sys.path.append('d:/flagellar/code/core')\n",
    "sys.path.append('/flagellar/code/core')\n",
    "sys.path.append('/kaggle/input/my-flagellar-library/')\n",
    "import flg_test"
   ]
  },
  {
   "cell_type": "code",
   "execution_count": null,
   "id": "88f341dd-ecc6-4479-b7c2-cf5af78d8e12",
   "metadata": {},
   "outputs": [
    {
     "name": "stdout",
     "output_type": "stream",
     "text": [
      "0\n",
      "['tomo_00e047', 'tomo_00e463', 'tomo_01a877', 'tomo_02862f', 'tomo_033ebe']\n",
      "['tomo_161683', 'tomo_25780f', 'tomo_1f0e78', 'tomo_2c607f', 'tomo_12f896']\n",
      "['tomo_556257', 'tomo_568537', 'tomo_56b9a3', 'tomo_57592d', 'tomo_5764d6', 'tomo_57c814', 'tomo_59b470', 'tomo_5b087f', 'tomo_5b34b2', 'tomo_5ba0cf']\n",
      "[1, 1, 1, 1, 1, 1, 1, 1, 1, 2]\n",
      "    index    z    y    x      tomo_id  a0shape\n",
      "37      0  186  145  370  tomo_161683      300\n",
      "    index    z    y    x      tomo_id  a0shape\n",
      "73      0  147  792  658  tomo_25780f      300\n",
      "    index    z    y    x      tomo_id  a0shape\n",
      "53      0  112  797  264  tomo_1f0e78      300\n",
      "    index    z    y    x      tomo_id  a0shape\n",
      "79      0  108  349  527  tomo_2c607f      300\n",
      "    index   z    y    x      tomo_id  a0shape\n",
      "29      0  95  404  212  tomo_12f896      300\n",
      "    index    z    y    x      tomo_id  a0shape\n",
      "48      0  103  668  281  tomo_1c38fd      300\n",
      "   index    z    y    x      tomo_id  a0shape\n",
      "7      0  147  638  286  tomo_01a877      300\n",
      "    index    z    y    x      tomo_id  a0shape\n",
      "75      0  185  492  635  tomo_2a6091      300\n",
      "    index    z    y    x      tomo_id  a0shape\n",
      "33      0  234  221  808  tomo_13973d      500\n",
      "    index    z    y    x      tomo_id  a0shape\n",
      "13      0  121  471  845  tomo_05f919      300\n",
      "    index    z    y    x      tomo_id  a0shape\n",
      "91      0  175  706  228  tomo_30d4e5      300\n",
      "    index   z    y    x      tomo_id  a0shape\n",
      "19      0  28  356  636  tomo_0da370      300\n",
      "    index    z    y    x      tomo_id  a0shape\n",
      "94      0  195  243  380  tomo_319f79      500\n",
      "    index    z    y    x      tomo_id  a0shape\n",
      "99      0  179  730  406  tomo_372a5c      300\n",
      "    index   z    y    x      tomo_id  a0shape\n",
      "23      0  94  174  599  tomo_0f9df0      300\n",
      "    index    z    y    x      tomo_id  a0shape\n",
      "34      0  153  611  172  tomo_139d9e      300\n",
      "    index    z    y    x      tomo_id  a0shape\n",
      "56      0  166  324  563  tomo_221a47      300\n",
      "    index    z    y    x      tomo_id  a0shape\n",
      "77      0  135  337  679  tomo_2acf68      300\n",
      "     index    z    y    x      tomo_id  a0shape\n",
      "105      0  219  625  862  tomo_381add      500\n",
      "106      1  209  596  871  tomo_381add      500\n",
      "    index    z    y    x      tomo_id  a0shape\n",
      "96      0  106  553  323  tomo_331130      300\n",
      "    index    z    y    x      tomo_id  a0shape\n",
      "54      0  185  319  560  tomo_20a9ed      300\n",
      "    index   z    y    x      tomo_id  a0shape\n",
      "80      0  85  176  395  tomo_2c8ea2      300\n",
      "    index   z    y    x      tomo_id  a0shape\n",
      "50      0  34  579  419  tomo_1da097      500\n",
      "51      1  37  652  483  tomo_1da097      500\n",
      "    index    z    y    x      tomo_id  a0shape\n",
      "82      0  185  596  860  tomo_2daaee      500\n",
      "83      1  210  606  849  tomo_2daaee      500\n",
      "84      2  263  163  752  tomo_2daaee      500\n",
      "85      3  193  566  857  tomo_2daaee      500\n",
      "    index    z    y    x      tomo_id  a0shape\n",
      "74      0  137  391  611  tomo_285d15      300\n",
      "     index    z    y    x      tomo_id  a0shape\n",
      "108      0  126  509  366  tomo_399bd9      300\n",
      "    index   z    y    x      tomo_id  a0shape\n",
      "92      0  97  409  758  tomo_317656      300\n",
      "    index   z    y    x      tomo_id  a0shape\n",
      "11      0  50  574  392  tomo_0363f2      300\n",
      "   index    z    y    x      tomo_id  a0shape\n",
      "8      0  101  351  120  tomo_02862f      300\n",
      "     index    z    y    x      tomo_id  a0shape\n",
      "101      0  166  763  526  tomo_378f43      300\n",
      "    index    z    y    x      tomo_id  a0shape\n",
      "70      0  144  702  703  tomo_24795a      300\n",
      "    index    z    y    x      tomo_id  a0shape\n",
      "12      0  130  257  762  tomo_05df8a      300\n",
      "    index   z    y    x      tomo_id  a0shape\n",
      "40      0  67  598  300  tomo_19a313      300\n",
      "    index    z    y    x      tomo_id  a0shape\n",
      "95      0  156  526  641  tomo_32aaa7      300\n",
      "    index    z    y    x      tomo_id  a0shape\n",
      "68      0  132  686  356  tomo_23a8e8      300\n",
      "   index   z    y    x      tomo_id  a0shape\n",
      "9      0  88  711  308  tomo_033ebe      300\n",
      "    index    z    y    x      tomo_id  a0shape\n",
      "22      0  161  835  630  tomo_0eb994      300\n",
      "    index    z    y    x      tomo_id  a0shape\n",
      "24      0  159  516  681  tomo_0fab19      300\n",
      "    index    z    y    x      tomo_id  a0shape\n",
      "10      0  138  864  620  tomo_03437b      300\n",
      "    index    z    y    x      tomo_id  a0shape\n",
      "98      0  131  379  298  tomo_37076e      300\n",
      "    index    z    y    x      tomo_id  a0shape\n",
      "52      0  123  636  175  tomo_1efc28      300\n",
      "    index    z    y    x      tomo_id  a0shape\n",
      "86      0  125  414  519  tomo_2dcd5c      300\n",
      "    index    z    y    x      tomo_id  a0shape\n",
      "41      0  175  583  468  tomo_19a4fd      300\n",
      "    index    z    y    x      tomo_id  a0shape\n",
      "35      0  149  293  601  tomo_1446aa      300\n",
      "    index   z    y    x      tomo_id  a0shape\n",
      "17      0  52  587  575  tomo_0a8f05      300\n",
      "    index    z    y    x      tomo_id  a0shape\n",
      "81      0  207  258  617  tomo_2c9da1      300\n",
      "    index    z    y    x      tomo_id  a0shape\n",
      "30      0  153  768  658  tomo_13484c      300\n",
      "    index    z    y   x      tomo_id  a0shape\n",
      "15      0  235  740  54  tomo_08446f      500\n",
      "16      1  246  778  45  tomo_08446f      500\n",
      "    index    z    y    x      tomo_id  a0shape\n",
      "38      0  183  379  752  tomo_16efa8      300\n",
      "    index    z    y    x      tomo_id  a0shape\n",
      "72      0  172  770  514  tomo_256717      300\n",
      "    index   z    y    x      tomo_id  a0shape\n",
      "89      0  65  684  410  tomo_305c97      300\n",
      "   index    z    y    x      tomo_id  a0shape\n",
      "1      0  235  403  137  tomo_00e463      500\n",
      "2      1  243  363  153  tomo_00e463      500\n",
      "3      2  222  379  144  tomo_00e463      500\n",
      "4      3  225  262  628  tomo_00e463      500\n",
      "5      4  225  241  643  tomo_00e463      500\n",
      "6      5  231  289  632  tomo_00e463      500\n",
      "    index    z    y    x      tomo_id  a0shape\n",
      "39      0  149  417  500  tomo_191bcb      300\n",
      "    index   z    y    x      tomo_id  a0shape\n",
      "97      0  95  361  268  tomo_369cce      300\n",
      "    index    z    y    x      tomo_id  a0shape\n",
      "20      0  131  139  326  tomo_0de3ee      500\n",
      "21      1  203  642  801  tomo_0de3ee      500\n",
      "    index   z    y    x      tomo_id  a0shape\n",
      "76      0  32  528  347  tomo_2a6ca2      300\n",
      "    index    z    y    x      tomo_id  a0shape\n",
      "26      0  161  295  585  tomo_101279      300\n",
      "    index    z    y    x      tomo_id  a0shape\n",
      "36      0  141  566  443  tomo_16136a      300\n",
      "    index    z    y    x      tomo_id  a0shape\n",
      "71      0  145  620  483  tomo_2483bb      300\n",
      "    index    z    y    x      tomo_id  a0shape\n",
      "69      0  152  248  532  tomo_23ce49      300\n",
      "    index   z    y    x      tomo_id  a0shape\n",
      "31      0  55  252  173  tomo_134bb0      300\n",
      "    index   z    y    x      tomo_id  a0shape\n",
      "42      0  68  580  583  tomo_1ab322      300\n",
      "    index    z    y    x      tomo_id  a0shape\n",
      "25      0  197  362  265  tomo_0fe63f      300\n",
      "   index    z    y    x      tomo_id  a0shape\n",
      "0      0  169  546  603  tomo_00e047      300\n",
      "     index    z    y    x      tomo_id  a0shape\n",
      "107      0  251  687  200  tomo_38c2a6      300\n",
      "    index   z    y    x      tomo_id  a0shape\n",
      "27      0  16  455  267  tomo_10c564      300\n",
      "     index    z    y    x      tomo_id  a0shape\n",
      "100      0  204  577  228  tomo_375513      300\n",
      "    index    z    y    x      tomo_id  a0shape\n",
      "32      0  144  233  455  tomo_138018      300\n",
      "    index    z    y    x      tomo_id  a0shape\n",
      "44      0  223  716  677  tomo_1b82d1      500\n",
      "45      1  210  738  667  tomo_1b82d1      500\n",
      "46      2  222  878  470  tomo_1b82d1      500\n",
      "47      3  208  697  680  tomo_1b82d1      500\n",
      "    index   z    y    x      tomo_id  a0shape\n",
      "57      0  61  483  497  tomo_225d8f      300\n",
      "    index    z    y    x      tomo_id  a0shape\n",
      "49      0  143  667  192  tomo_1cc887      300\n",
      "    index    z    y    x      tomo_id  a0shape\n",
      "88      0  143  458  695  tomo_2f3261      300\n",
      "    index   z    y    x      tomo_id  a0shape\n",
      "78      0  97  709  611  tomo_2bb588      300\n",
      "    index    z    y    x      tomo_id  a0shape\n",
      "18      0  125  645  227  tomo_0c3a99      300\n",
      "    index    z    y    x      tomo_id  a0shape\n",
      "93      0  168  136  475  tomo_3183d2      300\n",
      "    index   z    y    x      tomo_id  a0shape\n",
      "43      0  24  306  619  tomo_1af88d      300\n",
      "    index    z    y    x      tomo_id  a0shape\n",
      "28      0  127  808  140  tomo_122a02      300\n",
      "    index    z    y    x      tomo_id  a0shape\n",
      "14      0  152  314  651  tomo_081a2d      300\n",
      "     index    z    y    x      tomo_id  a0shape\n",
      "102      0  200  321  602  tomo_37dd38      500\n",
      "103      1  162  100  662  tomo_37dd38      500\n",
      "104      2  184  303  593  tomo_37dd38      500\n",
      "    index    z    y    x      tomo_id  a0shape\n",
      "90      0  142  392  575  tomo_30b580      300\n",
      "    index   z   y    x      tomo_id  a0shape\n",
      "87      0  73  86  334  tomo_2e1f4c      300\n",
      "    index    z    y    x      tomo_id  a0shape\n",
      "58      0  365  528  607  tomo_226cd8      500\n",
      "59      1  312  136   99  tomo_226cd8      500\n",
      "60      2  299  227   70  tomo_226cd8      500\n",
      "61      3  332  552   58  tomo_226cd8      500\n",
      "62      4  355  656  165  tomo_226cd8      500\n",
      "63      5  366  693  269  tomo_226cd8      500\n",
      "64      6  386  693  319  tomo_226cd8      500\n",
      "65      7  388  671  433  tomo_226cd8      500\n",
      "66      8  411  318  740  tomo_226cd8      500\n",
      "67      9  354  277  756  tomo_226cd8      500\n",
      "    index    z    y    x      tomo_id  a0shape\n",
      "55      0  263  584  595  tomo_210371      300\n",
      "Will process approximately 981 slices for training\n",
      "1\n"
     ]
    },
    {
     "data": {
      "application/vnd.jupyter.widget-view+json": {
       "model_id": "554bf71b214f449d9e0039681adbdee9",
       "version_major": 2,
       "version_minor": 0
      },
      "text/plain": [
       "Processing training motors:   0%|          | 0/109 [00:00<?, ?it/s]"
      ]
     },
     "metadata": {},
     "output_type": "display_data"
    },
    {
     "name": "stdout",
     "output_type": "stream",
     "text": [
      "     index    z    y    x      tomo_id  a0shape\n",
      "109      0  123  210  434  tomo_556257      300\n",
      "     index    z    y    x      tomo_id  a0shape\n",
      "110      0  215  531  386  tomo_568537      300\n",
      "     index   z    y    x      tomo_id  a0shape\n",
      "111      0  60  299  498  tomo_56b9a3      300\n",
      "     index    z    y    x      tomo_id  a0shape\n",
      "112      0  174  904  560  tomo_57592d      300\n",
      "     index   z    y    x      tomo_id  a0shape\n",
      "113      0  92  679  580  tomo_5764d6      500\n",
      "     index    z    y    x      tomo_id  a0shape\n",
      "114      0  168  359  402  tomo_57c814      300\n",
      "     index    z    y    x      tomo_id  a0shape\n",
      "115      0  139  152  631  tomo_59b470      300\n",
      "     index    z    y    x      tomo_id  a0shape\n",
      "116      0  159  252  373  tomo_5b087f      300\n",
      "     index    z    y    x      tomo_id  a0shape\n",
      "117      0  112  613  233  tomo_5b34b2      300\n",
      "     index    z    y    x      tomo_id  a0shape\n",
      "118      0  217  627  315  tomo_5ba0cf      500\n",
      "119      1  221  653  333  tomo_5ba0cf      500\n",
      "Will process approximately 99 slices for validation\n",
      "2\n"
     ]
    },
    {
     "data": {
      "application/vnd.jupyter.widget-view+json": {
       "model_id": "7deb27399aff4c7da18678c466ff7911",
       "version_major": 2,
       "version_minor": 0
      },
      "text/plain": [
       "Processing validation motors:   0%|          | 0/11 [00:00<?, ?it/s]"
      ]
     },
     "metadata": {},
     "output_type": "display_data"
    },
    {
     "name": "stdout",
     "output_type": "stream",
     "text": [
      "\n",
      "Processing Summary:\n",
      "- Train set: 83 tomograms, 109 motors, 981 slices\n",
      "- Validation set: 10 tomograms, 11 motors, 99 slices\n",
      "- Total: 93 tomograms, 120 motors, 1080 slices\n",
      "\n",
      "Preprocessing Complete:\n",
      "- Training data: 83 tomograms, 109 motors, 981 slices\n",
      "- Validation data: 10 tomograms, 11 motors, 99 slices\n",
      "- Dataset directory: d:/flagellar/temp//yolo_dataset/\n",
      "- YAML configuration: d:/flagellar/temp//yolo_dataset/dataset.yaml\n",
      "\n",
      "Ready for YOLO training!\n",
      "Starting YOLO training process...\n",
      "Directory status:\n",
      "- Train images exists: True\n",
      "- Val images exists: True\n",
      "- Train labels exists: True\n",
      "- Val labels exists: True\n",
      "Found original dataset.yaml at d:/flagellar/temp//yolo_dataset/dataset.yaml\n",
      "Fixing YAML paths in d:/flagellar/temp//yolo_dataset/dataset.yaml\n",
      "Created fixed YAML at d:/flagellar/temp/fixed_dataset.yaml with path: d:/flagellar/temp//yolo_dataset/\n",
      "Using YAML file: d:/flagellar/temp/fixed_dataset.yaml\n",
      "YAML contents:\n",
      "names:\n",
      "  0: motor\n",
      "path: d:/flagellar/temp//yolo_dataset/\n",
      "train: images/train\n",
      "val: images/val\n",
      "\n",
      "\n",
      "Starting YOLO training...\n",
      "Loading pre-trained weights from: d:/flagellar/models//yolov8m.pt\n",
      "New https://pypi.org/project/ultralytics/8.3.102 available  Update with 'pip install -U ultralytics'\n",
      "Ultralytics 8.3.98  Python-3.10.14 torch-2.5.1 CUDA:0 (NVIDIA GeForce RTX 4070 Ti, 12282MiB)\n",
      "\u001b[34m\u001b[1mengine\\trainer: \u001b[0mtask=detect, mode=train, model=d:/flagellar/models//yolov8m.pt, data=d:/flagellar/temp/fixed_dataset.yaml, epochs=5, time=None, patience=10, batch=16, imgsz=640, save=True, save_period=5, cache=False, device=None, workers=4, project=d:/flagellar/temp//yolo_weights/, name=motor_detector, exist_ok=True, pretrained=True, optimizer=AdamW, verbose=True, seed=0, deterministic=True, single_cls=False, rect=False, cos_lr=True, close_mosaic=10, resume=False, amp=True, fraction=1.0, profile=False, freeze=None, multi_scale=False, overlap_mask=True, mask_ratio=4, dropout=0.0, val=True, split=val, save_json=False, save_hybrid=False, conf=None, iou=0.7, max_det=300, half=False, dnn=False, plots=True, source=None, vid_stride=1, stream_buffer=False, visualize=False, augment=True, agnostic_nms=False, classes=None, retina_masks=False, embed=None, show=False, save_frames=False, save_txt=False, save_conf=False, save_crop=False, show_labels=True, show_conf=True, show_boxes=True, line_width=None, format=torchscript, keras=False, optimize=False, int8=False, dynamic=False, simplify=True, opset=None, workspace=None, nms=False, lr0=0.001, lrf=0.01, momentum=0.937, weight_decay=0.0005, warmup_epochs=3.0, warmup_momentum=0.8, warmup_bias_lr=0.1, box=7.5, cls=0.5, dfl=1.5, pose=12.0, kobj=1.0, nbs=64, hsv_h=0.015, hsv_s=0.7, hsv_v=0.4, degrees=0.0, translate=0.1, scale=0.5, shear=0.0, perspective=0.0, flipud=0.0, fliplr=0.5, bgr=0.0, mosaic=1.0, mixup=0.2, copy_paste=0.0, copy_paste_mode=flip, auto_augment=randaugment, erasing=0.4, crop_fraction=1.0, cfg=None, tracker=botsort.yaml, save_dir=d:\\flagellar\\temp\\yolo_weights\\motor_detector\n",
      "Overriding model.yaml nc=80 with nc=1\n",
      "\n",
      "                   from  n    params  module                                       arguments                     \n",
      "  0                  -1  1      1392  ultralytics.nn.modules.conv.Conv             [3, 48, 3, 2]                 \n",
      "  1                  -1  1     41664  ultralytics.nn.modules.conv.Conv             [48, 96, 3, 2]                \n",
      "  2                  -1  2    111360  ultralytics.nn.modules.block.C2f             [96, 96, 2, True]             \n",
      "  3                  -1  1    166272  ultralytics.nn.modules.conv.Conv             [96, 192, 3, 2]               \n",
      "  4                  -1  4    813312  ultralytics.nn.modules.block.C2f             [192, 192, 4, True]           \n",
      "  5                  -1  1    664320  ultralytics.nn.modules.conv.Conv             [192, 384, 3, 2]              \n",
      "  6                  -1  4   3248640  ultralytics.nn.modules.block.C2f             [384, 384, 4, True]           \n",
      "  7                  -1  1   1991808  ultralytics.nn.modules.conv.Conv             [384, 576, 3, 2]              \n",
      "  8                  -1  2   3985920  ultralytics.nn.modules.block.C2f             [576, 576, 2, True]           \n",
      "  9                  -1  1    831168  ultralytics.nn.modules.block.SPPF            [576, 576, 5]                 \n",
      " 10                  -1  1         0  torch.nn.modules.upsampling.Upsample         [None, 2, 'nearest']          \n",
      " 11             [-1, 6]  1         0  ultralytics.nn.modules.conv.Concat           [1]                           \n",
      " 12                  -1  2   1993728  ultralytics.nn.modules.block.C2f             [960, 384, 2]                 \n",
      " 13                  -1  1         0  torch.nn.modules.upsampling.Upsample         [None, 2, 'nearest']          \n",
      " 14             [-1, 4]  1         0  ultralytics.nn.modules.conv.Concat           [1]                           \n",
      " 15                  -1  2    517632  ultralytics.nn.modules.block.C2f             [576, 192, 2]                 \n",
      " 16                  -1  1    332160  ultralytics.nn.modules.conv.Conv             [192, 192, 3, 2]              \n",
      " 17            [-1, 12]  1         0  ultralytics.nn.modules.conv.Concat           [1]                           \n",
      " 18                  -1  2   1846272  ultralytics.nn.modules.block.C2f             [576, 384, 2]                 \n",
      " 19                  -1  1   1327872  ultralytics.nn.modules.conv.Conv             [384, 384, 3, 2]              \n",
      " 20             [-1, 9]  1         0  ultralytics.nn.modules.conv.Concat           [1]                           \n",
      " 21                  -1  2   4207104  ultralytics.nn.modules.block.C2f             [960, 576, 2]                 \n",
      " 22        [15, 18, 21]  1   3776275  ultralytics.nn.modules.head.Detect           [1, [192, 384, 576]]          \n",
      "Model summary: 169 layers, 25,856,899 parameters, 25,856,883 gradients, 79.1 GFLOPs\n",
      "\n",
      "Transferred 469/475 items from pretrained weights\n",
      "Freezing layer 'model.22.dfl.conv.weight'\n",
      "\u001b[34m\u001b[1mAMP: \u001b[0mrunning Automatic Mixed Precision (AMP) checks...\n",
      "\u001b[34m\u001b[1mAMP: \u001b[0mchecks passed \n"
     ]
    },
    {
     "name": "stderr",
     "output_type": "stream",
     "text": [
      "\n",
      "\u001b[34m\u001b[1mval: \u001b[0mScanning D:\\flagellar\\temp\\yolo_dataset\\labels\\val... 99 images, 0 backgrounds, 0 corrupt: 100%|██████████| 99/99 \u001b[0m"
     ]
    },
    {
     "name": "stdout",
     "output_type": "stream",
     "text": [
      "\u001b[34m\u001b[1mval: \u001b[0mNew cache created: D:\\flagellar\\temp\\yolo_dataset\\labels\\val.cache\n"
     ]
    },
    {
     "name": "stderr",
     "output_type": "stream",
     "text": [
      "\n"
     ]
    },
    {
     "name": "stdout",
     "output_type": "stream",
     "text": [
      "Plotting labels to d:\\flagellar\\temp\\yolo_weights\\motor_detector\\labels.jpg... \n",
      "\u001b[34m\u001b[1moptimizer:\u001b[0m AdamW(lr=0.001, momentum=0.937) with parameter groups 77 weight(decay=0.0), 84 weight(decay=0.0005), 83 bias(decay=0.0)\n",
      "Image sizes 640 train, 640 val\n",
      "Using 4 dataloader workers\n",
      "Logging results to \u001b[1md:\\flagellar\\temp\\yolo_weights\\motor_detector\u001b[0m\n",
      "Starting training for 5 epochs...\n",
      "\n",
      "      Epoch    GPU_mem   box_loss   cls_loss   dfl_loss  Instances       Size\n"
     ]
    },
    {
     "name": "stderr",
     "output_type": "stream",
     "text": [
      "\n",
      "                 Class     Images  Instances      Box(P          R      mAP50  mAP50-95): 100%|██████████| 4/4 [00:00<0"
     ]
    },
    {
     "name": "stdout",
     "output_type": "stream",
     "text": [
      "                   all         99         99       0.46     0.0909      0.111     0.0314\n"
     ]
    },
    {
     "name": "stderr",
     "output_type": "stream",
     "text": [
      "\n"
     ]
    },
    {
     "name": "stdout",
     "output_type": "stream",
     "text": [
      "\n",
      "      Epoch    GPU_mem   box_loss   cls_loss   dfl_loss  Instances       Size\n"
     ]
    },
    {
     "name": "stderr",
     "output_type": "stream",
     "text": [
      "\n",
      "                 Class     Images  Instances      Box(P          R      mAP50  mAP50-95): 100%|██████████| 4/4 [00:00<0"
     ]
    },
    {
     "name": "stdout",
     "output_type": "stream",
     "text": [
      "                   all         99         99      0.453      0.202      0.177     0.0376\n"
     ]
    },
    {
     "name": "stderr",
     "output_type": "stream",
     "text": [
      "\n"
     ]
    },
    {
     "name": "stdout",
     "output_type": "stream",
     "text": [
      "\n",
      "      Epoch    GPU_mem   box_loss   cls_loss   dfl_loss  Instances       Size\n"
     ]
    },
    {
     "name": "stderr",
     "output_type": "stream",
     "text": [
      "\n",
      "                 Class     Images  Instances      Box(P          R      mAP50  mAP50-95): 100%|██████████| 4/4 [00:00<0"
     ]
    },
    {
     "name": "stdout",
     "output_type": "stream",
     "text": [
      "                   all         99         99      0.173      0.293      0.125     0.0434\n"
     ]
    },
    {
     "name": "stderr",
     "output_type": "stream",
     "text": [
      "\n"
     ]
    },
    {
     "name": "stdout",
     "output_type": "stream",
     "text": [
      "\n",
      "      Epoch    GPU_mem   box_loss   cls_loss   dfl_loss  Instances       Size\n"
     ]
    },
    {
     "name": "stderr",
     "output_type": "stream",
     "text": [
      "\n",
      "                 Class     Images  Instances      Box(P          R      mAP50  mAP50-95): 100%|██████████| 4/4 [00:00<0"
     ]
    },
    {
     "name": "stdout",
     "output_type": "stream",
     "text": [
      "                   all         99         99      0.611      0.303       0.26     0.0792\n"
     ]
    },
    {
     "name": "stderr",
     "output_type": "stream",
     "text": [
      "\n"
     ]
    },
    {
     "name": "stdout",
     "output_type": "stream",
     "text": [
      "\n",
      "      Epoch    GPU_mem   box_loss   cls_loss   dfl_loss  Instances       Size\n"
     ]
    },
    {
     "name": "stderr",
     "output_type": "stream",
     "text": [
      "\n",
      "                 Class     Images  Instances      Box(P          R      mAP50  mAP50-95): 100%|██████████| 4/4 [00:00<0"
     ]
    },
    {
     "name": "stdout",
     "output_type": "stream",
     "text": [
      "                   all         99         99      0.497      0.455      0.382      0.121\n"
     ]
    },
    {
     "name": "stderr",
     "output_type": "stream",
     "text": [
      "\n"
     ]
    },
    {
     "name": "stdout",
     "output_type": "stream",
     "text": [
      "\n",
      "5 epochs completed in 0.022 hours.\n",
      "Optimizer stripped from d:\\flagellar\\temp\\yolo_weights\\motor_detector\\weights\\last.pt, 52.1MB\n",
      "Optimizer stripped from d:\\flagellar\\temp\\yolo_weights\\motor_detector\\weights\\best.pt, 52.1MB\n",
      "\n",
      "Validating d:\\flagellar\\temp\\yolo_weights\\motor_detector\\weights\\best.pt...\n",
      "Ultralytics 8.3.98  Python-3.10.14 torch-2.5.1 CUDA:0 (NVIDIA GeForce RTX 4070 Ti, 12282MiB)\n",
      "Model summary (fused): 92 layers, 25,840,339 parameters, 0 gradients, 78.7 GFLOPs\n"
     ]
    },
    {
     "name": "stderr",
     "output_type": "stream",
     "text": [
      "\n",
      "                Class     Images  Instances      Box(P          R      mAP50  mAP50-95): 100%|██████████| 4/4 [00:01<0"
     ]
    },
    {
     "name": "stdout",
     "output_type": "stream",
     "text": [
      "                   all         99         99      0.461      0.414      0.398      0.153\n",
      "Speed: 0.2ms preprocess, 13.0ms inference, 0.0ms loss, 1.3ms postprocess per image\n",
      "Results saved to \u001b[1md:\\flagellar\\temp\\yolo_weights\\motor_detector\u001b[0m\n",
      "\n",
      "Training complete!\n",
      "Model summary (fused): 92 layers, 25,840,339 parameters, 0 gradients, 78.7 GFLOPs\n",
      "Processing tomogram d:/flagellar/data//train/tomo_081a2d (1/1)\n",
      "Processing 300 out of 300 slices (CONCENTRATION=1)\n",
      "{'tomo_id': 'd:/flagellar/data//train/tomo_081a2d', 'Motor axis 0': 162, 'Motor axis 1': 311, 'Motor axis 2': 658}\n",
      "Motor found in d:/flagellar/data//train/tomo_081a2d at position: z=162, y=311, x=658\n",
      "Processing tomogram d:/flagellar/data//train/tomo_08446f (1/1)\n",
      "Processing 500 out of 500 slices (CONCENTRATION=1)\n",
      "{'tomo_id': 'd:/flagellar/data//train/tomo_08446f', 'Motor axis 0': -1, 'Motor axis 1': -1, 'Motor axis 2': -1}\n",
      "Motor found in d:/flagellar/data//train/tomo_08446f at position: z=-1, y=-1, x=-1\n",
      "[     z    y    x\n",
      "0  162  311  658, Empty DataFrame\n",
      "Columns: []\n",
      "Index: []]\n",
      "42\n",
      "0 "
     ]
    }
   ],
   "source": [
    "import importlib\n",
    "importlib.reload(flg_test)\n",
    "#flg_test.test_yolo(update_reference=False)\n",
    "flg_test.run_all_tests(update_reference=False)"
   ]
  },
  {
   "cell_type": "code",
   "execution_count": null,
   "id": "272fae9a-5bb0-45c0-b50f-5cfcfa205221",
   "metadata": {},
   "outputs": [],
   "source": [
    "%debug"
   ]
  },
  {
   "cell_type": "code",
   "execution_count": null,
   "id": "c2a2c3ba-6c07-4761-ad4f-c3078a3a57fe",
   "metadata": {},
   "outputs": [],
   "source": [
    "import flg_support as fls\n",
    "ref_name = fls.code_dir + 'ref_unet_alt.pickle';\n",
    "str(fls.dill_load(ref_name))"
   ]
  },
  {
   "cell_type": "code",
   "execution_count": null,
   "id": "89fbda70-5056-4f85-9f1e-79a07384aa9f",
   "metadata": {},
   "outputs": [],
   "source": []
  }
 ],
 "metadata": {
  "kernelspec": {
   "display_name": "Python 3 (ipykernel)",
   "language": "python",
   "name": "python3"
  },
  "language_info": {
   "codemirror_mode": {
    "name": "ipython",
    "version": 3
   },
   "file_extension": ".py",
   "mimetype": "text/x-python",
   "name": "python",
   "nbconvert_exporter": "python",
   "pygments_lexer": "ipython3",
   "version": "3.10.14"
  }
 },
 "nbformat": 4,
 "nbformat_minor": 5
}
