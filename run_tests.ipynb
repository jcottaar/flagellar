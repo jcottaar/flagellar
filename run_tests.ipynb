{
 "cells": [
  {
   "cell_type": "code",
   "execution_count": 1,
   "id": "bcddf786-c0f5-4eb6-b5f2-97278c1def1d",
   "metadata": {},
   "outputs": [
    {
     "name": "stdout",
     "output_type": "stream",
     "text": [
      "MainProcess\n"
     ]
    }
   ],
   "source": [
    "import sys\n",
    "sys.path.append('d:/flagellar/code/core')\n",
    "sys.path.append('/flagellar/code/core')\n",
    "sys.path.append('/kaggle/input/my-flagellar-library/')\n",
    "import flg_test"
   ]
  },
  {
   "cell_type": "code",
   "execution_count": null,
   "id": "f665bda1-916a-495e-aa3b-0d73dd1d7ef1",
   "metadata": {},
   "outputs": [
    {
     "name": "stdout",
     "output_type": "stream",
     "text": [
      "CompletedProcess(args=['pip', 'uninstall', '-y', 'albumentations'], returncode=0)\n"
     ]
    },
    {
     "data": {
      "application/vnd.jupyter.widget-view+json": {
       "model_id": "ea9590de5f44451f91cc876e1790981d",
       "version_major": 2,
       "version_minor": 0
      },
      "text/plain": [
       "  0%|          | 0/149 [00:00<?, ?it/s]"
      ]
     },
     "metadata": {},
     "output_type": "display_data"
    },
    {
     "name": "stdout",
     "output_type": "stream",
     "text": [
      "Clearing pytorch\n"
     ]
    },
    {
     "name": "stderr",
     "output_type": "stream",
     "text": [
      "C:\\Users\\jeroe\\anaconda3\\envs\\jupyterlab-debugger2\\lib\\site-packages\\cupyx\\jit\\_interface.py:173: FutureWarning: cupyx.jit.rawkernel is experimental. The interface can change in the future.\n",
      "  cupy._util.experimental('cupyx.jit.rawkernel')\n"
     ]
    },
    {
     "data": {
      "application/vnd.jupyter.widget-view+json": {
       "model_id": "49afdc9aaa0c4fcd96a312cb2735eb03",
       "version_major": 2,
       "version_minor": 0
      },
      "text/plain": [
       "  0%|          | 0/14 [00:00<?, ?it/s]"
      ]
     },
     "metadata": {},
     "output_type": "display_data"
    },
    {
     "name": "stdout",
     "output_type": "stream",
     "text": [
      "\n",
      "Preprocessing Complete:\n",
      "- Training data: 149 tomograms, 0 motors, 0 slices\n",
      "- Validation data: 14 tomograms, 0 motors, 0 slices\n",
      "- Dataset directory: d:/flagellar/temp//yolo_dataset/\n",
      "- YAML configuration: d:/flagellar/temp//yolo_dataset/dataset.yaml\n",
      "\n",
      "Ready for YOLO training!\n",
      "Starting YOLO training process...\n",
      "Created new YAML at d:/flagellar/temp/training.yaml\n",
      "Using YAML file: d:/flagellar/temp/training.yaml\n",
      "YAML contents:\n",
      "names:\n",
      "  0: motor\n",
      "path: d:/flagellar/temp//yolo_dataset/\n",
      "train: images/train\n",
      "val: images/val\n",
      "\n",
      "\n",
      "Starting YOLO training...\n",
      "New https://pypi.org/project/ultralytics/8.3.126 available  Update with 'pip install -U ultralytics'\n",
      "WARNING  'crop_fraction' is deprecated and will be removed in in the future.\n",
      "Ultralytics 8.3.110  Python-3.10.14 torch-2.5.1 CUDA:0 (NVIDIA GeForce RTX 4070 Ti, 12282MiB)\n",
      "\u001b[34m\u001b[1mengine\\trainer: \u001b[0mtask=detect, mode=train, model=yolov8m.pt, data=d:/flagellar/temp/training.yaml, epochs=3, time=None, patience=10, batch=12, imgsz=320, save=True, save_period=5, cache=False, device=None, workers=4, project=d:/flagellar/temp//yolo_weights/, name=motor_detector, exist_ok=True, pretrained=True, optimizer=AdamW, verbose=True, seed=0, deterministic=True, single_cls=False, rect=False, cos_lr=True, close_mosaic=10, resume=False, amp=True, fraction=1.0, profile=False, freeze=None, multi_scale=False, overlap_mask=True, mask_ratio=4, dropout=0.0, val=True, split=val, save_json=False, conf=None, iou=0.7, max_det=300, half=False, dnn=False, plots=True, source=None, vid_stride=1, stream_buffer=False, visualize=False, augment=True, agnostic_nms=False, classes=None, retina_masks=False, embed=None, show=False, save_frames=False, save_txt=False, save_conf=False, save_crop=False, show_labels=True, show_conf=True, show_boxes=True, line_width=None, format=torchscript, keras=False, optimize=False, int8=False, dynamic=False, simplify=True, opset=None, workspace=None, nms=False, lr0=0.001, lrf=0.01, momentum=0.937, weight_decay=0.0005, warmup_epochs=3.0, warmup_momentum=0.8, warmup_bias_lr=0.1, box=7.5, cls=0.5, dfl=1.5, pose=12.0, kobj=1.0, nbs=64, hsv_h=0.015, hsv_s=0.7, hsv_v=0.4, degrees=0.0, translate=0.1, scale=0.5, shear=0.0, perspective=0.0, flipud=0.0, fliplr=0.5, bgr=0.0, mosaic=1.0, mixup=0.2, copy_paste=0.0, copy_paste_mode=flip, auto_augment=None, erasing=0.4, cfg=None, tracker=botsort.yaml, save_dir=d:\\flagellar\\temp\\yolo_weights\\motor_detector\n",
      "Overriding model.yaml nc=80 with nc=1\n",
      "\n",
      "                   from  n    params  module                                       arguments                     \n",
      "  0                  -1  1      1392  ultralytics.nn.modules.conv.Conv             [3, 48, 3, 2]                 \n",
      "  1                  -1  1     41664  ultralytics.nn.modules.conv.Conv             [48, 96, 3, 2]                \n",
      "  2                  -1  2    111360  ultralytics.nn.modules.block.C2f             [96, 96, 2, True]             \n",
      "  3                  -1  1    166272  ultralytics.nn.modules.conv.Conv             [96, 192, 3, 2]               \n",
      "  4                  -1  4    813312  ultralytics.nn.modules.block.C2f             [192, 192, 4, True]           \n",
      "  5                  -1  1    664320  ultralytics.nn.modules.conv.Conv             [192, 384, 3, 2]              \n",
      "  6                  -1  4   3248640  ultralytics.nn.modules.block.C2f             [384, 384, 4, True]           \n",
      "  7                  -1  1   1991808  ultralytics.nn.modules.conv.Conv             [384, 576, 3, 2]              \n",
      "  8                  -1  2   3985920  ultralytics.nn.modules.block.C2f             [576, 576, 2, True]           \n",
      "  9                  -1  1    831168  ultralytics.nn.modules.block.SPPF            [576, 576, 5]                 \n",
      " 10                  -1  1         0  torch.nn.modules.upsampling.Upsample         [None, 2, 'nearest']          \n",
      " 11             [-1, 6]  1         0  ultralytics.nn.modules.conv.Concat           [1]                           \n",
      " 12                  -1  2   1993728  ultralytics.nn.modules.block.C2f             [960, 384, 2]                 \n",
      " 13                  -1  1         0  torch.nn.modules.upsampling.Upsample         [None, 2, 'nearest']          \n",
      " 14             [-1, 4]  1         0  ultralytics.nn.modules.conv.Concat           [1]                           \n",
      " 15                  -1  2    517632  ultralytics.nn.modules.block.C2f             [576, 192, 2]                 \n",
      " 16                  -1  1    332160  ultralytics.nn.modules.conv.Conv             [192, 192, 3, 2]              \n",
      " 17            [-1, 12]  1         0  ultralytics.nn.modules.conv.Concat           [1]                           \n",
      " 18                  -1  2   1846272  ultralytics.nn.modules.block.C2f             [576, 384, 2]                 \n",
      " 19                  -1  1   1327872  ultralytics.nn.modules.conv.Conv             [384, 384, 3, 2]              \n",
      " 20             [-1, 9]  1         0  ultralytics.nn.modules.conv.Concat           [1]                           \n",
      " 21                  -1  2   4207104  ultralytics.nn.modules.block.C2f             [960, 576, 2]                 \n",
      " 22        [15, 18, 21]  1   3776275  ultralytics.nn.modules.head.Detect           [1, [192, 384, 576]]          \n",
      "Model summary: 169 layers, 25,856,899 parameters, 25,856,883 gradients, 79.1 GFLOPs\n",
      "\n",
      "Transferred 469/475 items from pretrained weights\n",
      "Freezing layer 'model.22.dfl.conv.weight'\n",
      "\u001b[34m\u001b[1mAMP: \u001b[0mrunning Automatic Mixed Precision (AMP) checks...\n",
      "\u001b[34m\u001b[1mAMP: \u001b[0mchecks passed \n",
      "\u001b[34m\u001b[1mtrain: \u001b[0mFast image access  (ping: 0.00.0 ms, read: 86.324.0 MB/s, size: 367.7 KB)\n"
     ]
    },
    {
     "name": "stderr",
     "output_type": "stream",
     "text": [
      "\n",
      "[34m\u001b[1mtrain: \u001b[0mScanning D:\\flagellar\\temp\\yolo_dataset\\labels\\train.cache... 722 images, 0 backgrounds, 0 corrupt: 100%|██████████| 722/722 [00:00<?, ?it/s]\u001b[0m"
     ]
    },
    {
     "name": "stdout",
     "output_type": "stream",
     "text": [
      "\u001b[34m\u001b[1mval: \u001b[0mFast image access  (ping: 0.00.0 ms, read: 68.016.3 MB/s, size: 374.5 KB)\n"
     ]
    },
    {
     "name": "stderr",
     "output_type": "stream",
     "text": [
      "\n",
      "[34m\u001b[1mval: \u001b[0mScanning D:\\flagellar\\temp\\yolo_dataset\\labels\\val.cache... 88 images, 0 backgrounds, 0 corrupt: 100%|██████████| 88/88 [00:00<?, ?it/s]\u001b[0m"
     ]
    },
    {
     "name": "stdout",
     "output_type": "stream",
     "text": [
      "Plotting labels to d:\\flagellar\\temp\\yolo_weights\\motor_detector\\labels.jpg... \n",
      "\u001b[34m\u001b[1moptimizer:\u001b[0m AdamW(lr=0.001, momentum=0.937) with parameter groups 77 weight(decay=0.0), 84 weight(decay=0.00046875), 83 bias(decay=0.0)\n",
      "Image sizes 320 train, 320 val\n",
      "Using 4 dataloader workers\n",
      "Logging results to \u001b[1md:\\flagellar\\temp\\yolo_weights\\motor_detector\u001b[0m\n",
      "Starting training for 3 epochs...\n",
      "\n",
      "      Epoch    GPU_mem   box_loss   cls_loss   dfl_loss  Instances       Size\n"
     ]
    },
    {
     "name": "stderr",
     "output_type": "stream",
     "text": [
      "\n",
      "                 Class     Images  Instances      Box(P          R      mAP50  mAP50-95): 100%|██████████| 4/4 [00:00<00:00,  7.04it/s]"
     ]
    },
    {
     "name": "stdout",
     "output_type": "stream",
     "text": [
      "                   all         88         95    0.00906     0.0947     0.0126    0.00177\n"
     ]
    },
    {
     "name": "stderr",
     "output_type": "stream",
     "text": [
      "\n"
     ]
    },
    {
     "name": "stdout",
     "output_type": "stream",
     "text": [
      "\n",
      "      Epoch    GPU_mem   box_loss   cls_loss   dfl_loss  Instances       Size\n"
     ]
    },
    {
     "name": "stderr",
     "output_type": "stream",
     "text": [
      "\n",
      "                 Class     Images  Instances      Box(P          R      mAP50  mAP50-95): 100%|██████████| 4/4 [00:00<00:00,  8.93it/s]"
     ]
    },
    {
     "name": "stdout",
     "output_type": "stream",
     "text": [
      "                   all         88         95     0.0631     0.0211     0.0148    0.00252\n"
     ]
    },
    {
     "name": "stderr",
     "output_type": "stream",
     "text": [
      "\n"
     ]
    },
    {
     "name": "stdout",
     "output_type": "stream",
     "text": [
      "\n",
      "      Epoch    GPU_mem   box_loss   cls_loss   dfl_loss  Instances       Size\n"
     ]
    },
    {
     "name": "stderr",
     "output_type": "stream",
     "text": [
      "\n",
      "                 Class     Images  Instances      Box(P          R      mAP50  mAP50-95): 100%|██████████| 4/4 [00:00<00:00,  8.53it/s]"
     ]
    },
    {
     "name": "stdout",
     "output_type": "stream",
     "text": [
      "                   all         88         95      0.113     0.0526     0.0141    0.00259\n"
     ]
    },
    {
     "name": "stderr",
     "output_type": "stream",
     "text": [
      "\n"
     ]
    },
    {
     "name": "stdout",
     "output_type": "stream",
     "text": [
      "\n",
      "3 epochs completed in 0.007 hours.\n",
      "Optimizer stripped from d:\\flagellar\\temp\\yolo_weights\\motor_detector\\weights\\last.pt, 52.0MB\n",
      "Optimizer stripped from d:\\flagellar\\temp\\yolo_weights\\motor_detector\\weights\\best.pt, 52.0MB\n",
      "\n",
      "Validating d:\\flagellar\\temp\\yolo_weights\\motor_detector\\weights\\best.pt...\n",
      "Ultralytics 8.3.110  Python-3.10.14 torch-2.5.1 CUDA:0 (NVIDIA GeForce RTX 4070 Ti, 12282MiB)\n",
      "Model summary (fused): 92 layers, 25,840,339 parameters, 0 gradients, 78.7 GFLOPs\n"
     ]
    },
    {
     "name": "stderr",
     "output_type": "stream",
     "text": [
      "\n",
      "                Class     Images  Instances      Box(P          R      mAP50  mAP50-95): 100%|██████████| 4/4 [00:00<00:00,  4.04it/s]"
     ]
    },
    {
     "name": "stdout",
     "output_type": "stream",
     "text": [
      "                   all         88         95     0.0911     0.0526     0.0114    0.00218\n",
      "Speed: 0.1ms preprocess, 7.1ms inference, 0.0ms loss, 0.9ms postprocess per image\n",
      "Results saved to \u001b[1md:\\flagellar\\temp\\yolo_weights\\motor_detector\u001b[0m\n",
      "New https://pypi.org/project/ultralytics/8.3.126 available  Update with 'pip install -U ultralytics'\n",
      "WARNING  'crop_fraction' is deprecated and will be removed in in the future.\n",
      "Ultralytics 8.3.110  Python-3.10.14 torch-2.5.1 CUDA:0 (NVIDIA GeForce RTX 4070 Ti, 12282MiB)\n",
      "\u001b[34m\u001b[1mengine\\trainer: \u001b[0mtask=detect, mode=train, model=yolov8m.pt, data=d:/flagellar/temp/training.yaml, epochs=3, time=None, patience=10, batch=12, imgsz=320, save=True, save_period=5, cache=False, device=None, workers=4, project=d:/flagellar/temp//yolo_weights/, name=motor_detector, exist_ok=True, pretrained=True, optimizer=AdamW, verbose=True, seed=100000, deterministic=True, single_cls=False, rect=False, cos_lr=True, close_mosaic=10, resume=False, amp=True, fraction=1.0, profile=False, freeze=None, multi_scale=False, overlap_mask=True, mask_ratio=4, dropout=0.0, val=True, split=val, save_json=False, conf=None, iou=0.7, max_det=300, half=False, dnn=False, plots=True, source=None, vid_stride=1, stream_buffer=False, visualize=False, augment=True, agnostic_nms=False, classes=None, retina_masks=False, embed=None, show=False, save_frames=False, save_txt=False, save_conf=False, save_crop=False, show_labels=True, show_conf=True, show_boxes=True, line_width=None, format=torchscript, keras=False, optimize=False, int8=False, dynamic=False, simplify=True, opset=None, workspace=None, nms=False, lr0=0.001, lrf=0.01, momentum=0.937, weight_decay=0.0005, warmup_epochs=3.0, warmup_momentum=0.8, warmup_bias_lr=0.1, box=7.5, cls=0.5, dfl=1.5, pose=12.0, kobj=1.0, nbs=64, hsv_h=0.015, hsv_s=0.7, hsv_v=0.4, degrees=0.0, translate=0.1, scale=0.5, shear=0.0, perspective=0.0, flipud=0.0, fliplr=0.5, bgr=0.0, mosaic=1.0, mixup=0.2, copy_paste=0.0, copy_paste_mode=flip, auto_augment=None, erasing=0.4, cfg=None, tracker=botsort.yaml, save_dir=d:\\flagellar\\temp\\yolo_weights\\motor_detector\n",
      "Overriding model.yaml nc=80 with nc=1\n",
      "\n",
      "                   from  n    params  module                                       arguments                     \n",
      "  0                  -1  1      1392  ultralytics.nn.modules.conv.Conv             [3, 48, 3, 2]                 \n",
      "  1                  -1  1     41664  ultralytics.nn.modules.conv.Conv             [48, 96, 3, 2]                \n",
      "  2                  -1  2    111360  ultralytics.nn.modules.block.C2f             [96, 96, 2, True]             \n",
      "  3                  -1  1    166272  ultralytics.nn.modules.conv.Conv             [96, 192, 3, 2]               \n",
      "  4                  -1  4    813312  ultralytics.nn.modules.block.C2f             [192, 192, 4, True]           \n",
      "  5                  -1  1    664320  ultralytics.nn.modules.conv.Conv             [192, 384, 3, 2]              \n",
      "  6                  -1  4   3248640  ultralytics.nn.modules.block.C2f             [384, 384, 4, True]           \n",
      "  7                  -1  1   1991808  ultralytics.nn.modules.conv.Conv             [384, 576, 3, 2]              \n",
      "  8                  -1  2   3985920  ultralytics.nn.modules.block.C2f             [576, 576, 2, True]           \n",
      "  9                  -1  1    831168  ultralytics.nn.modules.block.SPPF            [576, 576, 5]                 \n",
      " 10                  -1  1         0  torch.nn.modules.upsampling.Upsample         [None, 2, 'nearest']          \n",
      " 11             [-1, 6]  1         0  ultralytics.nn.modules.conv.Concat           [1]                           \n",
      " 12                  -1  2   1993728  ultralytics.nn.modules.block.C2f             [960, 384, 2]                 \n",
      " 13                  -1  1         0  torch.nn.modules.upsampling.Upsample         [None, 2, 'nearest']          \n",
      " 14             [-1, 4]  1         0  ultralytics.nn.modules.conv.Concat           [1]                           \n",
      " 15                  -1  2    517632  ultralytics.nn.modules.block.C2f             [576, 192, 2]                 \n",
      " 16                  -1  1    332160  ultralytics.nn.modules.conv.Conv             [192, 192, 3, 2]              \n",
      " 17            [-1, 12]  1         0  ultralytics.nn.modules.conv.Concat           [1]                           \n",
      " 18                  -1  2   1846272  ultralytics.nn.modules.block.C2f             [576, 384, 2]                 \n",
      " 19                  -1  1   1327872  ultralytics.nn.modules.conv.Conv             [384, 384, 3, 2]              \n",
      " 20             [-1, 9]  1         0  ultralytics.nn.modules.conv.Concat           [1]                           \n",
      " 21                  -1  2   4207104  ultralytics.nn.modules.block.C2f             [960, 576, 2]                 \n",
      " 22        [15, 18, 21]  1   3776275  ultralytics.nn.modules.head.Detect           [1, [192, 384, 576]]          \n",
      "Model summary: 169 layers, 25,856,899 parameters, 25,856,883 gradients, 79.1 GFLOPs\n",
      "\n",
      "Transferred 469/475 items from pretrained weights\n",
      "Freezing layer 'model.22.dfl.conv.weight'\n",
      "\u001b[34m\u001b[1mAMP: \u001b[0mrunning Automatic Mixed Precision (AMP) checks...\n",
      "\u001b[34m\u001b[1mAMP: \u001b[0mchecks passed \n",
      "\u001b[34m\u001b[1mtrain: \u001b[0mFast image access  (ping: 0.00.0 ms, read: 1708.6510.1 MB/s, size: 348.6 KB)\n"
     ]
    },
    {
     "name": "stderr",
     "output_type": "stream",
     "text": [
      "\n",
      "[34m\u001b[1mtrain: \u001b[0mScanning D:\\flagellar\\temp\\yolo_dataset\\labels\\train.cache... 722 images, 0 backgrounds, 0 corrupt: 100%|██████████| 722/722 [00:00<?, ?it/s]\u001b[0m"
     ]
    },
    {
     "name": "stdout",
     "output_type": "stream",
     "text": [
      "\u001b[34m\u001b[1mval: \u001b[0mFast image access  (ping: 0.00.0 ms, read: 1912.0246.8 MB/s, size: 351.3 KB)\n"
     ]
    },
    {
     "name": "stderr",
     "output_type": "stream",
     "text": [
      "\n",
      "[34m\u001b[1mval: \u001b[0mScanning D:\\flagellar\\temp\\yolo_dataset\\labels\\val.cache... 88 images, 0 backgrounds, 0 corrupt: 100%|██████████| 88/88 [00:00<?, ?it/s]\u001b[0m"
     ]
    },
    {
     "name": "stdout",
     "output_type": "stream",
     "text": [
      "Plotting labels to d:\\flagellar\\temp\\yolo_weights\\motor_detector\\labels.jpg... \n",
      "\u001b[34m\u001b[1moptimizer:\u001b[0m AdamW(lr=0.001, momentum=0.937) with parameter groups 77 weight(decay=0.0), 84 weight(decay=0.00046875), 83 bias(decay=0.0)\n",
      "Image sizes 320 train, 320 val\n",
      "Using 4 dataloader workers\n",
      "Logging results to \u001b[1md:\\flagellar\\temp\\yolo_weights\\motor_detector\u001b[0m\n",
      "Starting training for 3 epochs...\n",
      "\n",
      "      Epoch    GPU_mem   box_loss   cls_loss   dfl_loss  Instances       Size\n"
     ]
    },
    {
     "name": "stderr",
     "output_type": "stream",
     "text": [
      "\n",
      "                 Class     Images  Instances      Box(P          R      mAP50  mAP50-95): 100%|██████████| 4/4 [00:00<00:00,  9.15it/s]"
     ]
    },
    {
     "name": "stdout",
     "output_type": "stream",
     "text": [
      "                   all         88         95    0.00281      0.189    0.00554    0.00106\n"
     ]
    },
    {
     "name": "stderr",
     "output_type": "stream",
     "text": [
      "\n"
     ]
    },
    {
     "name": "stdout",
     "output_type": "stream",
     "text": [
      "\n",
      "      Epoch    GPU_mem   box_loss   cls_loss   dfl_loss  Instances       Size\n"
     ]
    },
    {
     "name": "stderr",
     "output_type": "stream",
     "text": [
      "\n",
      "                 Class     Images  Instances      Box(P          R      mAP50  mAP50-95): 100%|██████████| 4/4 [00:00<00:00,  9.23it/s]"
     ]
    },
    {
     "name": "stdout",
     "output_type": "stream",
     "text": [
      "                   all         88         95    0.00398     0.0211    0.00207   0.000622\n"
     ]
    },
    {
     "name": "stderr",
     "output_type": "stream",
     "text": [
      "\n"
     ]
    },
    {
     "name": "stdout",
     "output_type": "stream",
     "text": [
      "\n",
      "      Epoch    GPU_mem   box_loss   cls_loss   dfl_loss  Instances       Size\n"
     ]
    },
    {
     "name": "stderr",
     "output_type": "stream",
     "text": [
      "\n",
      "                 Class     Images  Instances      Box(P          R      mAP50  mAP50-95): 100%|██████████| 4/4 [00:00<00:00,  9.34it/s]"
     ]
    },
    {
     "name": "stdout",
     "output_type": "stream",
     "text": [
      "                   all         88         95       0.14     0.0632     0.0306    0.00956\n"
     ]
    },
    {
     "name": "stderr",
     "output_type": "stream",
     "text": [
      "\n"
     ]
    },
    {
     "name": "stdout",
     "output_type": "stream",
     "text": [
      "\n",
      "3 epochs completed in 0.007 hours.\n",
      "Optimizer stripped from d:\\flagellar\\temp\\yolo_weights\\motor_detector\\weights\\last.pt, 52.0MB\n",
      "Optimizer stripped from d:\\flagellar\\temp\\yolo_weights\\motor_detector\\weights\\best.pt, 52.0MB\n",
      "\n",
      "Validating d:\\flagellar\\temp\\yolo_weights\\motor_detector\\weights\\best.pt...\n",
      "Ultralytics 8.3.110  Python-3.10.14 torch-2.5.1 CUDA:0 (NVIDIA GeForce RTX 4070 Ti, 12282MiB)\n",
      "Model summary (fused): 92 layers, 25,840,339 parameters, 0 gradients, 78.7 GFLOPs\n"
     ]
    },
    {
     "name": "stderr",
     "output_type": "stream",
     "text": [
      "\n",
      "                Class     Images  Instances      Box(P          R      mAP50  mAP50-95): 100%|██████████| 4/4 [00:00<00:00,  5.19it/s]"
     ]
    },
    {
     "name": "stdout",
     "output_type": "stream",
     "text": [
      "                   all         88         95      0.293        0.2      0.102     0.0255\n",
      "Speed: 0.1ms preprocess, 4.9ms inference, 0.0ms loss, 1.0ms postprocess per image\n",
      "Results saved to \u001b[1md:\\flagellar\\temp\\yolo_weights\\motor_detector\u001b[0m\n",
      "\n",
      "Training complete!\n",
      "Clearing cupy\n",
      "Model summary (fused): 92 layers, 25,840,339 parameters, 0 gradients, 78.7 GFLOPs\n",
      "Model summary (fused): 92 layers, 25,840,339 parameters, 0 gradients, 78.7 GFLOPs\n",
      "Processing tomogram tomo_081a2d (1/1)\n",
      "Processing 300 out of 300 slices (CONCENTRATION=1)\n",
      "Processing 300 out of 300 slices (CONCENTRATION=1)\n",
      "this\n",
      "    index    z    y    x  confidence  i_model\n",
      "0       0  164  323  651    0.791992        1\n",
      "1       1  158  318  651    0.764648        1\n",
      "2       2  161  320  652    0.763672        1\n",
      "3       3  163  321  651    0.741699        1\n",
      "4       4  157  319  652    0.730957        1\n",
      "5       5  166  321  649    0.718750        1\n",
      "6       6  162  320  651    0.715332        1\n",
      "7       7  165  321  650    0.658203        1\n",
      "8       8  160  321  651    0.644043        1\n",
      "9       9  170  321  651    0.613281        1\n",
      "10     10  156  320  650    0.607422        1\n",
      "11     11  151  319  651    0.594727        1\n",
      "12     12  159  318  651    0.579590        1\n",
      "13     13  155  320  652    0.486328        1\n",
      "14     14  169  320  650    0.480469        1\n",
      "15     15  150  319  650    0.447510        1\n",
      "16     16  168  321  652    0.436768        1\n",
      "17     17  167  321  649    0.403564        1\n",
      "18     18  172  322  646    0.352295        1\n",
      "19     19  152  318  651    0.333740        1\n",
      "20     20  146  320  649    0.303223        1\n",
      "21     21  149  317  649    0.275146        1\n",
      "22     22  154  318  649    0.268066        1\n",
      "23     23  153  318  651    0.247314        1\n",
      "24     24  167  302  571    0.244385        1\n",
      "25     25  145  320  648    0.208862        1\n",
      "26     26  148  318  651    0.206909        1\n",
      "27     27  170  321  649    0.202393        0\n",
      "28     28  147  318  652    0.200562        1\n",
      "29     29  167  318  649    0.198120        0\n",
      "30     30  166  303  569    0.193726        1\n",
      "31     31  168  302  572    0.183594        1\n",
      "32     32  139  301  623    0.179565        0\n",
      "33     33  161  319  651    0.178955        0\n",
      "34     34  158  315  651    0.178345        0\n",
      "35     35  151  315  650    0.176636        0\n",
      "36     36  163  319  649    0.172729        0\n",
      "37     37  160  318  651    0.162354        0\n",
      "38     38  140  303  624    0.158691        0\n",
      "------\n",
      "FINAL\n",
      "     z    y    x  confidence\n",
      "0  164  323  651    0.497192\n",
      "\n",
      "Clearing pytorch\n",
      "Clearing cupy\n",
      "Processing tomogram tomo_08446f (1/1)\n",
      "Processing 500 out of 500 slices (CONCENTRATION=1)\n",
      "Processing 500 out of 500 slices (CONCENTRATION=1)\n",
      "this\n",
      "    index    z    y    x  confidence  i_model\n",
      "0       0  234  761  916    0.086609        1\n",
      "1       2  233  760  919    0.059204        1\n",
      "2       3  235  759  914    0.055817        1\n",
      "3       4  194  738  919    0.055420        1\n",
      "4       5  236  758  916    0.051849        1\n",
      "5       8  247  758  920    0.036774        1\n",
      "6      35  216  736  940    0.021286        1\n",
      "7      36  242  760  922    0.021286        1\n",
      "8      38  181  810  925    0.020493        1\n",
      "9      41  215  738  940    0.020340        1\n",
      "10     48  229  759  923    0.018768        1\n",
      "11     49  176  715  919    0.018616        1\n",
      "12     50  180  807  939    0.018616        1\n",
      "13     54  234  763  904    0.017578        1\n",
      "------\n",
      "this\n",
      "    index    z    y    x  confidence  i_model\n",
      "0       1  209  204  300    0.069031        1\n",
      "1       6  211  189  323    0.046387        1\n",
      "2       7  213  237  251    0.041626        1\n",
      "3       9  205  205  302    0.034882        1\n",
      "4      10  235  206  301    0.034882        1\n",
      "5      13  207  203  300    0.032837        1\n",
      "6      16  206  205  304    0.030670        1\n",
      "7      17  238  207  301    0.030441        1\n",
      "8      20  224  204  301    0.027802        1\n",
      "9      22  222  198  313    0.026962        1\n",
      "10     23  225  205  300    0.026260        1\n",
      "11     24  207  199  312    0.026154        1\n",
      "12     26  208  198  312    0.025177        1\n",
      "13     27  209  198  312    0.025131        1\n",
      "14     29  212  238  254    0.022293        1\n",
      "15     30  225  198  312    0.022156        1\n",
      "16     31  212  189  320    0.021942        1\n",
      "17     33  208  203  301    0.021454        1\n",
      "18     34  211  198  312    0.021332        1\n",
      "19     37  227  198  313    0.020844        1\n",
      "20     40  224  198  312    0.020416        1\n",
      "21     42  212  198  313    0.019989        1\n",
      "22     43  213  246  264    0.019836        1\n",
      "23     44  206  198  312    0.019791        1\n",
      "24     46  235  199  312    0.019089        1\n",
      "25     47  228  198  360    0.018982        1\n",
      "26     52  213  198  313    0.018341        1\n",
      "27     55  210  198  313    0.017441        1\n",
      "------\n",
      "this\n",
      "   index    z    y    x  confidence  i_model\n",
      "0     11  197  357  707    0.033966        0\n",
      "------\n",
      "this\n",
      "   index    z    y    x  confidence  i_model\n",
      "0     12  497  141  922    0.033478        1\n",
      "------\n",
      "this\n",
      "   index    z    y    x  confidence  i_model\n",
      "0     14   58  549  922    0.031021        1\n",
      "1     15   59  525  922    0.030792        1\n",
      "2     32  125  569  919    0.021530        1\n",
      "------\n",
      "this\n",
      "   index    z    y    x  confidence  i_model\n",
      "0     18  382  474  940    0.030106        1\n",
      "1     19  422  427  940    0.029205        1\n",
      "------\n",
      "this\n",
      "   index    z    y    x  confidence  i_model\n",
      "0     21  237  430  920    0.027695        1\n",
      "------\n",
      "this\n",
      "   index    z    y    x  confidence  i_model\n",
      "0     25  213  641  396    0.025757        0\n",
      "1     28  227  691  443    0.023697        0\n",
      "------\n",
      "this\n",
      "   index    z    y   x  confidence  i_model\n",
      "0     39  253  786  34    0.020416        0\n",
      "------\n",
      "this\n",
      "   index    z    y    x  confidence  i_model\n",
      "0     45  328  163  921    0.019196        1\n",
      "1     53  342  114  924    0.018341        1\n",
      "------\n",
      "this\n",
      "   index    z    y    x  confidence  i_model\n",
      "0     51  201  308  922    0.018402        1\n",
      "------\n",
      "FINAL\n",
      "      z    y    x  confidence\n",
      "0   234  761  916    0.043304\n",
      "1   209  204  300    0.034515\n",
      "2   197  357  707    0.016983\n",
      "3   497  141  922    0.016739\n",
      "4    58  549  922    0.015511\n",
      "5   382  474  940    0.015053\n",
      "6   237  430  920    0.013847\n",
      "7   213  641  396    0.012878\n",
      "8   253  786   34    0.010208\n",
      "9   328  163  921    0.009598\n",
      "10  201  308  922    0.009201\n",
      "\n",
      "         z    y    x  confidence  i_model\n",
      "12822  139  301  623    0.179565        0\n",
      "12823  140  303  624    0.158691        0\n",
      "12869  151  315  650    0.176636        0\n",
      "12892  158  315  651    0.178345        0\n",
      "12898  160  318  651    0.162354        0\n",
      "12900  161  319  651    0.178955        0\n",
      "12906  163  319  649    0.172729        0\n",
      "12919  167  318  649    0.198120        0\n",
      "12926  170  321  649    0.202393        0\n",
      "21057  145  320  648    0.208862        1\n",
      "21058  146  320  649    0.303223        1\n",
      "21059  147  318  652    0.200562        1\n",
      "21061  148  318  651    0.206909        1\n",
      "21064  149  317  649    0.275146        1\n",
      "21065  150  319  650    0.447510        1\n",
      "21066  151  319  651    0.594727        1\n",
      "21068  152  318  651    0.333740        1\n",
      "21070  153  318  651    0.247314        1\n",
      "21073  154  318  649    0.268066        1\n",
      "21074  155  320  652    0.486328        1\n",
      "21076  156  320  650    0.607422        1\n",
      "21077  157  319  652    0.730957        1\n",
      "21078  158  318  651    0.764648        1\n",
      "21079  159  318  651    0.579590        1\n",
      "21081  160  321  651    0.644043        1\n",
      "21082  161  320  652    0.763672        1\n",
      "21083  162  320  651    0.715332        1\n",
      "21084  163  321  651    0.741699        1\n",
      "21085  164  323  651    0.791992        1\n",
      "21086  165  321  650    0.658203        1\n",
      "21087  166  321  649    0.718750        1\n",
      "21088  166  303  569    0.193726        1\n",
      "21089  167  321  649    0.403564        1\n",
      "21090  167  302  571    0.244385        1\n",
      "21091  168  321  652    0.436768        1\n",
      "21092  168  302  572    0.183594        1\n",
      "21093  169  320  650    0.480469        1\n",
      "21094  170  321  651    0.613281        1\n",
      "21097  172  322  646    0.352295        1\n",
      "         z    y    x  confidence  i_model\n",
      "21512  197  357  707    0.033966        0\n",
      "22671  213  641  396    0.025757        0\n",
      "23028  227  691  443    0.023697        0\n",
      "24072  253  786   34    0.020416        0\n",
      "52573   58  549  922    0.031021        1\n",
      "52574   59  525  922    0.030792        1\n",
      "53599  125  569  919    0.021530        1\n",
      "54616  176  715  919    0.018616        1\n",
      "54630  180  807  939    0.018616        1\n",
      "54633  181  810  925    0.020493        1\n",
      "54784  194  738  919    0.055420        1\n",
      "54863  201  308  922    0.018402        1\n",
      "54901  205  205  302    0.034882        1\n",
      "54906  206  205  304    0.030670        1\n",
      "54907  206  198  312    0.019791        1\n",
      "54913  207  203  300    0.032837        1\n",
      "54914  207  199  312    0.026154        1\n",
      "54920  208  198  312    0.025177        1\n",
      "54921  208  203  301    0.021454        1\n",
      "54927  209  204  300    0.069031        1\n",
      "54928  209  198  312    0.025131        1\n",
      "54929  210  198  313    0.017441        1\n",
      "54941  211  189  323    0.046387        1\n",
      "54942  211  198  312    0.021332        1\n",
      "54944  212  238  254    0.022293        1\n",
      "54945  212  189  320    0.021942        1\n",
      "54946  212  198  313    0.019989        1\n",
      "54958  213  237  251    0.041626        1\n",
      "54959  213  246  264    0.019836        1\n",
      "54960  213  198  313    0.018341        1\n",
      "54978  215  738  940    0.020340        1\n",
      "54983  216  736  940    0.021286        1\n",
      "55032  222  198  313    0.026962        1\n",
      "55049  224  204  301    0.027802        1\n",
      "55050  224  198  312    0.020416        1\n",
      "55053  225  205  300    0.026260        1\n",
      "55054  225  198  312    0.022156        1\n",
      "55068  227  198  313    0.020844        1\n",
      "55074  228  198  360    0.018982        1\n",
      "55088  229  759  923    0.018768        1\n",
      "55130  233  760  919    0.059204        1\n",
      "55131  234  761  916    0.086609        1\n",
      "55132  234  763  904    0.017578        1\n",
      "55133  235  759  914    0.055817        1\n",
      "55134  235  206  301    0.034882        1\n",
      "55135  235  199  312    0.019089        1\n",
      "55137  236  758  916    0.051849        1\n",
      "55138  237  430  920    0.027695        1\n",
      "55143  238  207  301    0.030441        1\n",
      "55173  242  760  922    0.021286        1\n",
      "55195  247  758  920    0.036774        1\n",
      "56548  328  163  921    0.019196        1\n",
      "56755  342  114  924    0.018341        1\n",
      "57313  382  474  940    0.030106        1\n",
      "57709  422  427  940    0.029205        1\n",
      "59016  497  141  922    0.033478        1\n",
      "[   index    z    y    x  confidence     value\n",
      "0      0  164  323  651    0.497192  0.497192, Empty DataFrame\n",
      "Columns: [z, y, x, confidence]\n",
      "Index: []]\n",
      "Clearing pytorch\n",
      "42\n",
      "0 1 "
     ]
    },
    {
     "data": {
      "text/plain": [
       "<Figure size 640x480 with 1 Axes>"
      ]
     },
     "metadata": {},
     "output_type": "display_data"
    },
    {
     "name": "stdout",
     "output_type": "stream",
     "text": [
      "Clearing cupy\n"
     ]
    }
   ],
   "source": [
    "import importlib\n",
    "importlib.reload(flg_test)\n",
    "#flg_test.test_yolo_infer(update_reference=False)\n",
    "flg_test.run_all_tests(update_reference=False)"
   ]
  },
  {
   "cell_type": "code",
   "execution_count": null,
   "id": "c2a2c3ba-6c07-4761-ad4f-c3078a3a57fe",
   "metadata": {},
   "outputs": [],
   "source": [
    "import flg_support as fls\n",
    "ref_name = fls.code_dir + 'ref_yolo.pickle';\n",
    "str(fls.dill_load(ref_name))"
   ]
  },
  {
   "cell_type": "code",
   "execution_count": null,
   "id": "b84b4516-35a7-4a48-a757-26033301e074",
   "metadata": {},
   "outputs": [],
   "source": []
  }
 ],
 "metadata": {
  "kernelspec": {
   "display_name": "Python 3 (ipykernel)",
   "language": "python",
   "name": "python3"
  },
  "language_info": {
   "codemirror_mode": {
    "name": "ipython",
    "version": 3
   },
   "file_extension": ".py",
   "mimetype": "text/x-python",
   "name": "python",
   "nbconvert_exporter": "python",
   "pygments_lexer": "ipython3",
   "version": "3.10.14"
  }
 },
 "nbformat": 4,
 "nbformat_minor": 5
}
