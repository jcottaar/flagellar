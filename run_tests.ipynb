{
 "cells": [
  {
   "cell_type": "code",
   "execution_count": 1,
   "id": "bcddf786-c0f5-4eb6-b5f2-97278c1def1d",
   "metadata": {},
   "outputs": [
    {
     "name": "stdout",
     "output_type": "stream",
     "text": [
      "MainProcess\n"
     ]
    }
   ],
   "source": [
    "import sys\n",
    "sys.path.append('d:/flagellar/code/core')\n",
    "sys.path.append('/flagellar/code/core')\n",
    "sys.path.append('/kaggle/input/my-flagellar-library/')\n",
    "import flg_test"
   ]
  },
  {
   "cell_type": "code",
   "execution_count": 2,
   "id": "f665bda1-916a-495e-aa3b-0d73dd1d7ef1",
   "metadata": {},
   "outputs": [
    {
     "name": "stdout",
     "output_type": "stream",
     "text": [
      "CompletedProcess(args=['pip', 'uninstall', '-y', 'albumentations'], returncode=0)\n"
     ]
    },
    {
     "data": {
      "application/vnd.jupyter.widget-view+json": {
       "model_id": "eac9c29f55c74fa5a74dde2d21bfc5af",
       "version_major": 2,
       "version_minor": 0
      },
      "text/plain": [
       "  0%|          | 0/115 [00:00<?, ?it/s]"
      ]
     },
     "metadata": {},
     "output_type": "display_data"
    },
    {
     "name": "stdout",
     "output_type": "stream",
     "text": [
      "Clearing pytorch\n"
     ]
    },
    {
     "name": "stderr",
     "output_type": "stream",
     "text": [
      "C:\\Users\\jeroe\\anaconda3\\envs\\jupyterlab-debugger2\\lib\\site-packages\\cupyx\\jit\\_interface.py:173: FutureWarning: cupyx.jit.rawkernel is experimental. The interface can change in the future.\n",
      "  cupy._util.experimental('cupyx.jit.rawkernel')\n"
     ]
    },
    {
     "ename": "TypeError",
     "evalue": "gaussian_filter() got an unexpected keyword argument 'axis'",
     "output_type": "error",
     "traceback": [
      "\u001b[1;31m---------------------------------------------------------------------------\u001b[0m",
      "\u001b[1;31mTypeError\u001b[0m                                 Traceback (most recent call last)",
      "Cell \u001b[1;32mIn[2], line 4\u001b[0m\n\u001b[0;32m      2\u001b[0m importlib\u001b[38;5;241m.\u001b[39mreload(flg_test)\n\u001b[0;32m      3\u001b[0m \u001b[38;5;66;03m#flg_test.test_yolo(update_reference=True)\u001b[39;00m\n\u001b[1;32m----> 4\u001b[0m \u001b[43mflg_test\u001b[49m\u001b[38;5;241;43m.\u001b[39;49m\u001b[43mrun_all_tests\u001b[49m\u001b[43m(\u001b[49m\u001b[43mupdate_reference\u001b[49m\u001b[38;5;241;43m=\u001b[39;49m\u001b[38;5;28;43;01mFalse\u001b[39;49;00m\u001b[43m)\u001b[49m\n",
      "File \u001b[1;32md:\\flagellar/code/core\\flg_test.py:125\u001b[0m, in \u001b[0;36mrun_all_tests\u001b[1;34m(update_reference)\u001b[0m\n\u001b[0;32m    124\u001b[0m \u001b[38;5;28;01mdef\u001b[39;00m \u001b[38;5;21mrun_all_tests\u001b[39m(update_reference\u001b[38;5;241m=\u001b[39m\u001b[38;5;28;01mFalse\u001b[39;00m):\n\u001b[1;32m--> 125\u001b[0m     \u001b[43mtest_yolo\u001b[49m\u001b[43m(\u001b[49m\u001b[43mupdate_reference\u001b[49m\u001b[38;5;241;43m=\u001b[39;49m\u001b[43mupdate_reference\u001b[49m\u001b[43m)\u001b[49m\n\u001b[0;32m    126\u001b[0m     test_unet(update_reference\u001b[38;5;241m=\u001b[39mupdate_reference)\n\u001b[0;32m    127\u001b[0m     test_unet_alt(update_reference\u001b[38;5;241m=\u001b[39mupdate_reference)    \n",
      "File \u001b[1;32md:\\flagellar/code/core\\flg_test.py:118\u001b[0m, in \u001b[0;36mtest_yolo\u001b[1;34m(update_reference)\u001b[0m\n\u001b[0;32m    116\u001b[0m model\u001b[38;5;241m.\u001b[39mstep1Labels\u001b[38;5;241m.\u001b[39mremove_suspect_areas \u001b[38;5;241m=\u001b[39m \u001b[38;5;28;01mTrue\u001b[39;00m\n\u001b[0;32m    117\u001b[0m model\u001b[38;5;241m.\u001b[39mtrain_data_selector\u001b[38;5;241m.\u001b[39mdatasets \u001b[38;5;241m=\u001b[39m [\u001b[38;5;124m'\u001b[39m\u001b[38;5;124mtom\u001b[39m\u001b[38;5;124m'\u001b[39m,\u001b[38;5;124m'\u001b[39m\u001b[38;5;124mmba\u001b[39m\u001b[38;5;124m'\u001b[39m]\n\u001b[1;32m--> 118\u001b[0m \u001b[43mmodel\u001b[49m\u001b[38;5;241;43m.\u001b[39;49m\u001b[43mtrain\u001b[49m\u001b[43m(\u001b[49m\u001b[43mtrain_data\u001b[49m\u001b[43m,\u001b[49m\u001b[43m \u001b[49m\u001b[43mfls\u001b[49m\u001b[38;5;241;43m.\u001b[39;49m\u001b[43mload_all_train_data\u001b[49m\u001b[43m(\u001b[49m\u001b[43m)\u001b[49m\u001b[43m[\u001b[49m\u001b[38;5;241;43m216\u001b[39;49m\u001b[43m:\u001b[49m\u001b[38;5;241;43m230\u001b[39;49m\u001b[43m]\u001b[49m\u001b[43m)\u001b[49m\n\u001b[0;32m    119\u001b[0m fls\u001b[38;5;241m.\u001b[39mdill_save(fls\u001b[38;5;241m.\u001b[39mtemp_dir \u001b[38;5;241m+\u001b[39m \u001b[38;5;124m'\u001b[39m\u001b[38;5;124myolo_test.pickle\u001b[39m\u001b[38;5;124m'\u001b[39m, model)\n\u001b[0;32m    120\u001b[0m test_yolo_infer(update_reference \u001b[38;5;241m=\u001b[39m update_reference)\n",
      "File \u001b[1;32md:\\flagellar/code/core\\flg_support.py:522\u001b[0m, in \u001b[0;36mModel.train\u001b[1;34m(self, train_data, validation_data)\u001b[0m\n\u001b[0;32m    520\u001b[0m \u001b[38;5;28;01mfor\u001b[39;00m d \u001b[38;5;129;01min\u001b[39;00m validation_data:\n\u001b[0;32m    521\u001b[0m     d\u001b[38;5;241m.\u001b[39munload()\n\u001b[1;32m--> 522\u001b[0m \u001b[38;5;28;43mself\u001b[39;49m\u001b[38;5;241;43m.\u001b[39;49m\u001b[43m_train\u001b[49m\u001b[43m(\u001b[49m\u001b[43mtrain_data\u001b[49m\u001b[43m,\u001b[49m\u001b[43m \u001b[49m\u001b[43mvalidation_data\u001b[49m\u001b[43m)\u001b[49m\n\u001b[0;32m    523\u001b[0m \u001b[38;5;28;01mfor\u001b[39;00m d \u001b[38;5;129;01min\u001b[39;00m train_data:\n\u001b[0;32m    524\u001b[0m     d\u001b[38;5;241m.\u001b[39munload()\n",
      "File \u001b[1;32md:\\flagellar/code/core\\flg_model.py:330\u001b[0m, in \u001b[0;36mThreeStepModelLabelBased._train\u001b[1;34m(self, train_data, validation_data)\u001b[0m\n\u001b[0;32m    328\u001b[0m \u001b[38;5;28mself\u001b[39m\u001b[38;5;241m.\u001b[39mstep1Labels\u001b[38;5;241m.\u001b[39mseed \u001b[38;5;241m=\u001b[39m \u001b[38;5;28mself\u001b[39m\u001b[38;5;241m.\u001b[39mseed\n\u001b[0;32m    329\u001b[0m \u001b[38;5;28;01mif\u001b[39;00m \u001b[38;5;28mself\u001b[39m\u001b[38;5;241m.\u001b[39mstep1Labels\u001b[38;5;241m.\u001b[39mtrained_model\u001b[38;5;241m==\u001b[39m\u001b[38;5;241m0\u001b[39m:\n\u001b[1;32m--> 330\u001b[0m     \u001b[38;5;28;43mself\u001b[39;49m\u001b[38;5;241;43m.\u001b[39;49m\u001b[43mstep1Labels\u001b[49m\u001b[38;5;241;43m.\u001b[39;49m\u001b[43mtrain\u001b[49m\u001b[43m(\u001b[49m\u001b[43mtrain_data\u001b[49m\u001b[43m,\u001b[49m\u001b[43m \u001b[49m\u001b[43mvalidation_data\u001b[49m\u001b[43m)\u001b[49m\n\u001b[0;32m    332\u001b[0m \u001b[38;5;28;01mif\u001b[39;00m \u001b[38;5;28mself\u001b[39m\u001b[38;5;241m.\u001b[39mcalibrate_step_3:\n\u001b[0;32m    333\u001b[0m     self_temp \u001b[38;5;241m=\u001b[39m copy\u001b[38;5;241m.\u001b[39mdeepcopy(\u001b[38;5;28mself\u001b[39m)\n",
      "File \u001b[1;32md:\\flagellar/code/core\\flg_yolo2.py:403\u001b[0m, in \u001b[0;36mYOLOModel.train\u001b[1;34m(self, train_data, validation_data)\u001b[0m\n\u001b[0;32m    400\u001b[0m fls\u001b[38;5;241m.\u001b[39mprep_pytorch(\u001b[38;5;28mself\u001b[39m\u001b[38;5;241m.\u001b[39mseed, \u001b[38;5;28;01mTrue\u001b[39;00m, \u001b[38;5;28;01mFalse\u001b[39;00m)\n\u001b[0;32m    402\u001b[0m \u001b[38;5;66;03m# Run the preprocessing\u001b[39;00m\n\u001b[1;32m--> 403\u001b[0m summary \u001b[38;5;241m=\u001b[39m \u001b[43mprepare_yolo_dataset\u001b[49m\u001b[43m(\u001b[49m\u001b[38;5;28;43mself\u001b[39;49m\u001b[38;5;241;43m.\u001b[39;49m\u001b[43mtrust\u001b[49m\u001b[43m)\u001b[49m\n\u001b[0;32m    404\u001b[0m \u001b[38;5;28mprint\u001b[39m(\u001b[38;5;124mf\u001b[39m\u001b[38;5;124m\"\u001b[39m\u001b[38;5;130;01m\\n\u001b[39;00m\u001b[38;5;124mPreprocessing Complete:\u001b[39m\u001b[38;5;124m\"\u001b[39m)\n\u001b[0;32m    405\u001b[0m \u001b[38;5;28mprint\u001b[39m(\u001b[38;5;124mf\u001b[39m\u001b[38;5;124m\"\u001b[39m\u001b[38;5;124m- Training data: \u001b[39m\u001b[38;5;132;01m{\u001b[39;00msummary[\u001b[38;5;124m'\u001b[39m\u001b[38;5;124mtrain_tomograms\u001b[39m\u001b[38;5;124m'\u001b[39m]\u001b[38;5;132;01m}\u001b[39;00m\u001b[38;5;124m tomograms, \u001b[39m\u001b[38;5;132;01m{\u001b[39;00msummary[\u001b[38;5;124m'\u001b[39m\u001b[38;5;124mtrain_motors\u001b[39m\u001b[38;5;124m'\u001b[39m]\u001b[38;5;132;01m}\u001b[39;00m\u001b[38;5;124m motors, \u001b[39m\u001b[38;5;132;01m{\u001b[39;00msummary[\u001b[38;5;124m'\u001b[39m\u001b[38;5;124mtrain_slices\u001b[39m\u001b[38;5;124m'\u001b[39m]\u001b[38;5;132;01m}\u001b[39;00m\u001b[38;5;124m slices\u001b[39m\u001b[38;5;124m\"\u001b[39m)\n",
      "File \u001b[1;32md:\\flagellar/code/core\\flg_yolo2.py:374\u001b[0m, in \u001b[0;36mYOLOModel.train.<locals>.prepare_yolo_dataset\u001b[1;34m(trust)\u001b[0m\n\u001b[0;32m    371\u001b[0m         \u001b[38;5;28;01mreturn\u001b[39;00m processed_slices, \u001b[38;5;28mlen\u001b[39m(motor_counts)\n\u001b[0;32m    373\u001b[0m \u001b[38;5;66;03m# Process training tomograms\u001b[39;00m\n\u001b[1;32m--> 374\u001b[0m train_slices, train_motors \u001b[38;5;241m=\u001b[39m \u001b[43mprocess_tomogram_set\u001b[49m\u001b[43m(\u001b[49m\u001b[43mtrain_data_filtered\u001b[49m\u001b[43m,\u001b[49m\u001b[43m \u001b[49m\u001b[43myolo_images_train\u001b[49m\u001b[43m,\u001b[49m\u001b[43m \u001b[49m\u001b[43myolo_labels_train\u001b[49m\u001b[43m,\u001b[49m\u001b[43m \u001b[49m\u001b[38;5;124;43m\"\u001b[39;49m\u001b[38;5;124;43mtraining\u001b[39;49m\u001b[38;5;124;43m\"\u001b[39;49m\u001b[43m)\u001b[49m\n\u001b[0;32m    375\u001b[0m \u001b[38;5;66;03m# Process validation tomograms\u001b[39;00m\n\u001b[0;32m    376\u001b[0m val_slices, val_motors \u001b[38;5;241m=\u001b[39m process_tomogram_set(validation_data_filtered, yolo_images_val, yolo_labels_val, \u001b[38;5;124m\"\u001b[39m\u001b[38;5;124mvalidation\u001b[39m\u001b[38;5;124m\"\u001b[39m)\n",
      "File \u001b[1;32md:\\flagellar/code/core\\flg_yolo2.py:276\u001b[0m, in \u001b[0;36mYOLOModel.train.<locals>.prepare_yolo_dataset.<locals>.process_tomogram_set\u001b[1;34m(data_list, images_dir, labels_dir, set_name)\u001b[0m\n\u001b[0;32m    274\u001b[0m     \u001b[38;5;28;01mcontinue\u001b[39;00m\n\u001b[0;32m    275\u001b[0m dd \u001b[38;5;241m=\u001b[39m copy\u001b[38;5;241m.\u001b[39mdeepcopy(data)\n\u001b[1;32m--> 276\u001b[0m \u001b[38;5;28;43mself\u001b[39;49m\u001b[38;5;241;43m.\u001b[39;49m\u001b[43mpreprocessor\u001b[49m\u001b[38;5;241;43m.\u001b[39;49m\u001b[43mload_and_preprocess\u001b[49m\u001b[43m(\u001b[49m\u001b[43mdd\u001b[49m\u001b[43m,\u001b[49m\u001b[43m \u001b[49m\u001b[43mdesired_original_slices\u001b[49m\u001b[43m \u001b[49m\u001b[38;5;241;43m=\u001b[39;49m\u001b[43m \u001b[49m\u001b[43mslices_to_do\u001b[49m\u001b[43m)\u001b[49m\n\u001b[0;32m    277\u001b[0m \u001b[38;5;28;01mfor\u001b[39;00m i_z,z \u001b[38;5;129;01min\u001b[39;00m \u001b[38;5;28menumerate\u001b[39m(dd\u001b[38;5;241m.\u001b[39mslices_present):\n\u001b[0;32m    278\u001b[0m     normalized_img \u001b[38;5;241m=\u001b[39m dd\u001b[38;5;241m.\u001b[39mdata[i_z,:,:]\n",
      "File \u001b[1;32md:\\flagellar/code/core\\flg_preprocess.py:266\u001b[0m, in \u001b[0;36mPreprocessor2.load_and_preprocess\u001b[1;34m(self, data, desired_original_slices, allow_missing)\u001b[0m\n\u001b[0;32m    264\u001b[0m     img[ii,:,:] \u001b[38;5;241m=\u001b[39m cupyx\u001b[38;5;241m.\u001b[39mscipy\u001b[38;5;241m.\u001b[39mndimage\u001b[38;5;241m.\u001b[39mgaussian_filter(img[ii,:,:], sigma \u001b[38;5;241m=\u001b[39m \u001b[38;5;28mself\u001b[39m\u001b[38;5;241m.\u001b[39mblur_xy\u001b[38;5;241m/\u001b[39m\u001b[38;5;28mself\u001b[39m\u001b[38;5;241m.\u001b[39mtarget_voxel_spacing)        \n\u001b[0;32m    265\u001b[0m \u001b[38;5;28;01mfor\u001b[39;00m ii \u001b[38;5;129;01min\u001b[39;00m \u001b[38;5;28mrange\u001b[39m(img\u001b[38;5;241m.\u001b[39mshape[\u001b[38;5;241m2\u001b[39m]):\n\u001b[1;32m--> 266\u001b[0m     img[:,:,ii] \u001b[38;5;241m=\u001b[39m \u001b[43mcupyx\u001b[49m\u001b[38;5;241;43m.\u001b[39;49m\u001b[43mscipy\u001b[49m\u001b[38;5;241;43m.\u001b[39;49m\u001b[43mndimage\u001b[49m\u001b[38;5;241;43m.\u001b[39;49m\u001b[43mgaussian_filter\u001b[49m\u001b[43m(\u001b[49m\u001b[43mimg\u001b[49m\u001b[43m[\u001b[49m\u001b[43m:\u001b[49m\u001b[43m,\u001b[49m\u001b[43m:\u001b[49m\u001b[43m,\u001b[49m\u001b[43mii\u001b[49m\u001b[43m]\u001b[49m\u001b[43m,\u001b[49m\u001b[43m \u001b[49m\u001b[43msigma\u001b[49m\u001b[43m \u001b[49m\u001b[38;5;241;43m=\u001b[39;49m\u001b[43m \u001b[49m\u001b[43m(\u001b[49m\u001b[38;5;28;43mself\u001b[39;49m\u001b[38;5;241;43m.\u001b[39;49m\u001b[43mblur_z\u001b[49m\u001b[38;5;241;43m/\u001b[39;49m\u001b[43mdata\u001b[49m\u001b[38;5;241;43m.\u001b[39;49m\u001b[43mvoxel_spacing\u001b[49m\u001b[43m,\u001b[49m\u001b[38;5;241;43m0\u001b[39;49m\u001b[43m)\u001b[49m\u001b[43m,\u001b[49m\u001b[43m \u001b[49m\u001b[43maxis\u001b[49m\u001b[38;5;241;43m=\u001b[39;49m\u001b[38;5;241;43m0\u001b[39;49m\u001b[43m)\u001b[49m\n\u001b[0;32m    268\u001b[0m \u001b[38;5;66;03m# Moving average scaling\u001b[39;00m\n\u001b[0;32m    269\u001b[0m \u001b[38;5;28;01mif\u001b[39;00m \u001b[38;5;28mself\u001b[39m\u001b[38;5;241m.\u001b[39mscale_moving_average:\n",
      "\u001b[1;31mTypeError\u001b[0m: gaussian_filter() got an unexpected keyword argument 'axis'"
     ]
    }
   ],
   "source": [
    "import importlib\n",
    "importlib.reload(flg_test)\n",
    "#flg_test.test_yolo(update_reference=True)\n",
    "flg_test.run_all_tests(update_reference=False)"
   ]
  },
  {
   "cell_type": "code",
   "execution_count": null,
   "id": "c2a2c3ba-6c07-4761-ad4f-c3078a3a57fe",
   "metadata": {},
   "outputs": [],
   "source": [
    "import flg_support as fls\n",
    "ref_name = fls.code_dir + 'ref_yolo.pickle';\n",
    "str(fls.dill_load(ref_name))"
   ]
  },
  {
   "cell_type": "code",
   "execution_count": null,
   "id": "b84b4516-35a7-4a48-a757-26033301e074",
   "metadata": {},
   "outputs": [],
   "source": []
  }
 ],
 "metadata": {
  "kernelspec": {
   "display_name": "Python 3 (ipykernel)",
   "language": "python",
   "name": "python3"
  },
  "language_info": {
   "codemirror_mode": {
    "name": "ipython",
    "version": 3
   },
   "file_extension": ".py",
   "mimetype": "text/x-python",
   "name": "python",
   "nbconvert_exporter": "python",
   "pygments_lexer": "ipython3",
   "version": "3.10.14"
  }
 },
 "nbformat": 4,
 "nbformat_minor": 5
}
