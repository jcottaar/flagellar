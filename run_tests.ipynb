{
 "cells": [
  {
   "cell_type": "code",
   "execution_count": 1,
   "id": "bcddf786-c0f5-4eb6-b5f2-97278c1def1d",
   "metadata": {},
   "outputs": [
    {
     "name": "stdout",
     "output_type": "stream",
     "text": [
      "MainProcess\n"
     ]
    }
   ],
   "source": [
    "import sys\n",
    "sys.path.append('d:/flagellar/code/core')\n",
    "sys.path.append('/flagellar/code/core')\n",
    "sys.path.append('/kaggle/input/my-flagellar-library/')\n",
    "import flg_test"
   ]
  },
  {
   "cell_type": "code",
   "execution_count": null,
   "id": "e9ebde1e-c9c7-4e65-8ae8-fefd2435c379",
   "metadata": {},
   "outputs": [],
   "source": []
  },
  {
   "cell_type": "code",
   "execution_count": 2,
   "id": "f665bda1-916a-495e-aa3b-0d73dd1d7ef1",
   "metadata": {},
   "outputs": [
    {
     "name": "stderr",
     "output_type": "stream",
     "text": [
      "\u001b[33mWARNING: Skipping albumentations as it is not installed.\u001b[0m\u001b[33m\n",
      "\u001b[0m\u001b[33mWARNING: Running pip as the 'root' user can result in broken permissions and conflicting behaviour with the system package manager, possibly rendering your system unusable.It is recommended to use a virtual environment instead: https://pip.pypa.io/warnings/venv. Use the --root-user-action option if you know what you are doing and want to suppress this warning.\u001b[0m\u001b[33m\n",
      "\u001b[0m"
     ]
    },
    {
     "name": "stdout",
     "output_type": "stream",
     "text": [
      "CompletedProcess(args=['pip', 'uninstall', '-y', 'albumentations'], returncode=0)\n"
     ]
    },
    {
     "data": {
      "application/vnd.jupyter.widget-view+json": {
       "model_id": "a50bbedcd65f406790e8e5dd554f66b6",
       "version_major": 2,
       "version_minor": 0
      },
      "text/plain": [
       "  0%|          | 0/149 [00:00<?, ?it/s]"
      ]
     },
     "metadata": {},
     "output_type": "display_data"
    },
    {
     "name": "stdout",
     "output_type": "stream",
     "text": [
      "Clearing pytorch\n"
     ]
    },
    {
     "name": "stderr",
     "output_type": "stream",
     "text": [
      "/opt/conda/lib/python3.11/site-packages/cupyx/jit/_interface.py:173: FutureWarning: cupyx.jit.rawkernel is experimental. The interface can change in the future.\n",
      "  cupy._util.experimental('cupyx.jit.rawkernel')\n"
     ]
    },
    {
     "data": {
      "application/vnd.jupyter.widget-view+json": {
       "model_id": "7d0442f45ffa41b68ac805a2b173674a",
       "version_major": 2,
       "version_minor": 0
      },
      "text/plain": [
       "  0%|          | 0/14 [00:00<?, ?it/s]"
      ]
     },
     "metadata": {},
     "output_type": "display_data"
    },
    {
     "name": "stdout",
     "output_type": "stream",
     "text": [
      "\n",
      "Preprocessing Complete:\n",
      "- Training data: 149 tomograms, 0 motors, 0 slices\n",
      "- Validation data: 14 tomograms, 0 motors, 0 slices\n",
      "- Dataset directory: /flagellar/temp//yolo_dataset/\n",
      "- YAML configuration: /flagellar/temp//yolo_dataset/dataset.yaml\n",
      "\n",
      "Ready for YOLO training!\n",
      "Starting YOLO training process...\n",
      "Created new YAML at /flagellar/temp/training.yaml\n",
      "Using YAML file: /flagellar/temp/training.yaml\n",
      "YAML contents:\n",
      "names:\n",
      "  0: motor\n",
      "path: /flagellar/temp//yolo_dataset/\n",
      "train: images/train\n",
      "val: images/val\n",
      "\n",
      "\n",
      "Starting YOLO training...\n",
      "WARNING ⚠️ 'crop_fraction' is deprecated and will be removed in in the future.\n",
      "Ultralytics 8.3.118 🚀 Python-3.11.10 torch-2.5.1+cu124 CUDA:0 (NVIDIA GeForce RTX 4090, 24210MiB)\n",
      "\u001b[34m\u001b[1mengine/trainer: \u001b[0mtask=detect, mode=train, model=yolov8m.pt, data=/flagellar/temp/training.yaml, epochs=3, time=None, patience=10, batch=12, imgsz=320, save=True, save_period=5, cache=False, device=None, workers=4, project=/flagellar/temp//yolo_weights/, name=motor_detector, exist_ok=True, pretrained=True, optimizer=AdamW, verbose=True, seed=0, deterministic=True, single_cls=False, rect=False, cos_lr=True, close_mosaic=10, resume=False, amp=True, fraction=1.0, profile=False, freeze=None, multi_scale=False, overlap_mask=True, mask_ratio=4, dropout=0.0, val=True, split=val, save_json=False, conf=None, iou=0.7, max_det=300, half=False, dnn=False, plots=True, source=None, vid_stride=1, stream_buffer=False, visualize=False, augment=True, agnostic_nms=False, classes=None, retina_masks=False, embed=None, show=False, save_frames=False, save_txt=False, save_conf=False, save_crop=False, show_labels=True, show_conf=True, show_boxes=True, line_width=None, format=torchscript, keras=False, optimize=False, int8=False, dynamic=False, simplify=True, opset=None, workspace=None, nms=False, lr0=0.001, lrf=0.01, momentum=0.937, weight_decay=0.0005, warmup_epochs=3.0, warmup_momentum=0.8, warmup_bias_lr=0.1, box=7.5, cls=0.5, dfl=1.5, pose=12.0, kobj=1.0, nbs=64, hsv_h=0.015, hsv_s=0.7, hsv_v=0.4, degrees=0.0, translate=0.1, scale=0.5, shear=0.0, perspective=0.0, flipud=0.0, fliplr=0.5, bgr=0.0, mosaic=1.0, mixup=0.2, copy_paste=0.0, copy_paste_mode=flip, auto_augment=None, erasing=0.4, cfg=None, tracker=botsort.yaml, save_dir=/flagellar/temp/yolo_weights/motor_detector\n",
      "Overriding model.yaml nc=80 with nc=1\n",
      "\n",
      "                   from  n    params  module                                       arguments                     \n",
      "  0                  -1  1      1392  ultralytics.nn.modules.conv.Conv             [3, 48, 3, 2]                 \n",
      "  1                  -1  1     41664  ultralytics.nn.modules.conv.Conv             [48, 96, 3, 2]                \n",
      "  2                  -1  2    111360  ultralytics.nn.modules.block.C2f             [96, 96, 2, True]             \n",
      "  3                  -1  1    166272  ultralytics.nn.modules.conv.Conv             [96, 192, 3, 2]               \n",
      "  4                  -1  4    813312  ultralytics.nn.modules.block.C2f             [192, 192, 4, True]           \n",
      "  5                  -1  1    664320  ultralytics.nn.modules.conv.Conv             [192, 384, 3, 2]              \n",
      "  6                  -1  4   3248640  ultralytics.nn.modules.block.C2f             [384, 384, 4, True]           \n",
      "  7                  -1  1   1991808  ultralytics.nn.modules.conv.Conv             [384, 576, 3, 2]              \n",
      "  8                  -1  2   3985920  ultralytics.nn.modules.block.C2f             [576, 576, 2, True]           \n",
      "  9                  -1  1    831168  ultralytics.nn.modules.block.SPPF            [576, 576, 5]                 \n",
      " 10                  -1  1         0  torch.nn.modules.upsampling.Upsample         [None, 2, 'nearest']          \n",
      " 11             [-1, 6]  1         0  ultralytics.nn.modules.conv.Concat           [1]                           \n",
      " 12                  -1  2   1993728  ultralytics.nn.modules.block.C2f             [960, 384, 2]                 \n",
      " 13                  -1  1         0  torch.nn.modules.upsampling.Upsample         [None, 2, 'nearest']          \n",
      " 14             [-1, 4]  1         0  ultralytics.nn.modules.conv.Concat           [1]                           \n",
      " 15                  -1  2    517632  ultralytics.nn.modules.block.C2f             [576, 192, 2]                 \n",
      " 16                  -1  1    332160  ultralytics.nn.modules.conv.Conv             [192, 192, 3, 2]              \n",
      " 17            [-1, 12]  1         0  ultralytics.nn.modules.conv.Concat           [1]                           \n",
      " 18                  -1  2   1846272  ultralytics.nn.modules.block.C2f             [576, 384, 2]                 \n",
      " 19                  -1  1   1327872  ultralytics.nn.modules.conv.Conv             [384, 384, 3, 2]              \n",
      " 20             [-1, 9]  1         0  ultralytics.nn.modules.conv.Concat           [1]                           \n",
      " 21                  -1  2   4207104  ultralytics.nn.modules.block.C2f             [960, 576, 2]                 \n",
      " 22        [15, 18, 21]  1   3776275  ultralytics.nn.modules.head.Detect           [1, [192, 384, 576]]          \n",
      "Model summary: 169 layers, 25,856,899 parameters, 25,856,883 gradients, 79.1 GFLOPs\n",
      "\n",
      "Transferred 469/475 items from pretrained weights\n",
      "Freezing layer 'model.22.dfl.conv.weight'\n",
      "\u001b[34m\u001b[1mAMP: \u001b[0mrunning Automatic Mixed Precision (AMP) checks...\n",
      "\u001b[34m\u001b[1mAMP: \u001b[0mchecks passed ✅\n",
      "\u001b[34m\u001b[1mtrain: \u001b[0mFast image access ✅ (ping: 0.0±0.0 ms, read: 6053.6±1555.7 MB/s, size: 367.7 KB)\n"
     ]
    },
    {
     "name": "stderr",
     "output_type": "stream",
     "text": [
      "\n",
      "[34m\u001b[1mtrain: \u001b[0mScanning /flagellar/temp/yolo_dataset/labels/train.cache... 722 images, 0 backgrounds, 0 corrupt: 100%|██████████| 722/722 [00:00<?, ?it/s]"
     ]
    },
    {
     "name": "stdout",
     "output_type": "stream",
     "text": [
      "\u001b[34m\u001b[1mval: \u001b[0mFast image access ✅ (ping: 0.0±0.0 ms, read: 3405.2±2092.7 MB/s, size: 374.5 KB)\n"
     ]
    },
    {
     "name": "stderr",
     "output_type": "stream",
     "text": [
      "\n",
      "[34m\u001b[1mval: \u001b[0mScanning /flagellar/temp/yolo_dataset/labels/val.cache... 88 images, 0 backgrounds, 0 corrupt: 100%|██████████| 88/88 [00:00<?, ?it/s]"
     ]
    },
    {
     "name": "stdout",
     "output_type": "stream",
     "text": [
      "Plotting labels to /flagellar/temp/yolo_weights/motor_detector/labels.jpg... \n",
      "\u001b[34m\u001b[1moptimizer:\u001b[0m AdamW(lr=0.001, momentum=0.937) with parameter groups 77 weight(decay=0.0), 84 weight(decay=0.00046875), 83 bias(decay=0.0)\n",
      "Image sizes 320 train, 320 val\n",
      "Using 4 dataloader workers\n",
      "Logging results to \u001b[1m/flagellar/temp/yolo_weights/motor_detector\u001b[0m\n",
      "Starting training for 3 epochs...\n",
      "\n",
      "      Epoch    GPU_mem   box_loss   cls_loss   dfl_loss  Instances       Size\n"
     ]
    },
    {
     "name": "stderr",
     "output_type": "stream",
     "text": [
      "\n",
      "\n",
      "                Class     Images  Instances      Box(P          R      mAP50  mAP50-95): 100%|██████████| 4/4 [00:00<00:00, 12.84it/s]"
     ]
    },
    {
     "name": "stdout",
     "output_type": "stream",
     "text": [
      "                   all         88         95    0.00297     0.0211    0.00269   0.000538\n",
      "\n",
      "      Epoch    GPU_mem   box_loss   cls_loss   dfl_loss  Instances       Size\n"
     ]
    },
    {
     "name": "stderr",
     "output_type": "stream",
     "text": [
      "\n",
      "                 Class     Images  Instances      Box(P          R      mAP50  mAP50-95): 100%|██████████| 4/4 [00:00<00:00, 16.97it/s]"
     ]
    },
    {
     "name": "stdout",
     "output_type": "stream",
     "text": [
      "                   all         88         95     0.0634     0.0421     0.0272    0.00426\n"
     ]
    },
    {
     "name": "stderr",
     "output_type": "stream",
     "text": [
      "\n"
     ]
    },
    {
     "name": "stdout",
     "output_type": "stream",
     "text": [
      "\n",
      "      Epoch    GPU_mem   box_loss   cls_loss   dfl_loss  Instances       Size\n"
     ]
    },
    {
     "name": "stderr",
     "output_type": "stream",
     "text": [
      "\n",
      "                 Class     Images  Instances      Box(P          R      mAP50  mAP50-95): 100%|██████████| 4/4 [00:00<00:00, 17.47it/s]"
     ]
    },
    {
     "name": "stdout",
     "output_type": "stream",
     "text": [
      "                   all         88         95    0.00569     0.0947    0.00541    0.00297\n"
     ]
    },
    {
     "name": "stderr",
     "output_type": "stream",
     "text": [
      "\n"
     ]
    },
    {
     "name": "stdout",
     "output_type": "stream",
     "text": [
      "\n",
      "3 epochs completed in 0.004 hours.\n",
      "Optimizer stripped from /flagellar/temp/yolo_weights/motor_detector/weights/last.pt, 52.0MB\n",
      "Optimizer stripped from /flagellar/temp/yolo_weights/motor_detector/weights/best.pt, 52.0MB\n",
      "\n",
      "Validating /flagellar/temp/yolo_weights/motor_detector/weights/best.pt...\n",
      "Ultralytics 8.3.118 🚀 Python-3.11.10 torch-2.5.1+cu124 CUDA:0 (NVIDIA GeForce RTX 4090, 24210MiB)\n",
      "Model summary (fused): 92 layers, 25,840,339 parameters, 0 gradients, 78.7 GFLOPs\n"
     ]
    },
    {
     "name": "stderr",
     "output_type": "stream",
     "text": [
      "\n",
      "                Class     Images  Instances      Box(P          R      mAP50  mAP50-95): 100%|██████████| 4/4 [00:00<00:00,  5.02it/s]"
     ]
    },
    {
     "name": "stdout",
     "output_type": "stream",
     "text": [
      "                   all         88         95      0.141      0.105      0.054     0.0111\n",
      "Speed: 0.1ms preprocess, 4.8ms inference, 0.0ms loss, 2.5ms postprocess per image\n",
      "Results saved to \u001b[1m/flagellar/temp/yolo_weights/motor_detector\u001b[0m\n",
      "WARNING ⚠️ 'crop_fraction' is deprecated and will be removed in in the future.\n",
      "Ultralytics 8.3.118 🚀 Python-3.11.10 torch-2.5.1+cu124 CUDA:0 (NVIDIA GeForce RTX 4090, 24210MiB)\n",
      "\u001b[34m\u001b[1mengine/trainer: \u001b[0mtask=detect, mode=train, model=yolov8m.pt, data=/flagellar/temp/training.yaml, epochs=3, time=None, patience=10, batch=12, imgsz=320, save=True, save_period=5, cache=False, device=None, workers=4, project=/flagellar/temp//yolo_weights/, name=motor_detector, exist_ok=True, pretrained=True, optimizer=AdamW, verbose=True, seed=100000, deterministic=True, single_cls=False, rect=False, cos_lr=True, close_mosaic=10, resume=False, amp=True, fraction=1.0, profile=False, freeze=None, multi_scale=False, overlap_mask=True, mask_ratio=4, dropout=0.0, val=True, split=val, save_json=False, conf=None, iou=0.7, max_det=300, half=False, dnn=False, plots=True, source=None, vid_stride=1, stream_buffer=False, visualize=False, augment=True, agnostic_nms=False, classes=None, retina_masks=False, embed=None, show=False, save_frames=False, save_txt=False, save_conf=False, save_crop=False, show_labels=True, show_conf=True, show_boxes=True, line_width=None, format=torchscript, keras=False, optimize=False, int8=False, dynamic=False, simplify=True, opset=None, workspace=None, nms=False, lr0=0.001, lrf=0.01, momentum=0.937, weight_decay=0.0005, warmup_epochs=3.0, warmup_momentum=0.8, warmup_bias_lr=0.1, box=7.5, cls=0.5, dfl=1.5, pose=12.0, kobj=1.0, nbs=64, hsv_h=0.015, hsv_s=0.7, hsv_v=0.4, degrees=0.0, translate=0.1, scale=0.5, shear=0.0, perspective=0.0, flipud=0.0, fliplr=0.5, bgr=0.0, mosaic=1.0, mixup=0.2, copy_paste=0.0, copy_paste_mode=flip, auto_augment=None, erasing=0.4, cfg=None, tracker=botsort.yaml, save_dir=/flagellar/temp/yolo_weights/motor_detector\n",
      "Overriding model.yaml nc=80 with nc=1\n",
      "\n",
      "                   from  n    params  module                                       arguments                     \n",
      "  0                  -1  1      1392  ultralytics.nn.modules.conv.Conv             [3, 48, 3, 2]                 \n",
      "  1                  -1  1     41664  ultralytics.nn.modules.conv.Conv             [48, 96, 3, 2]                \n",
      "  2                  -1  2    111360  ultralytics.nn.modules.block.C2f             [96, 96, 2, True]             \n",
      "  3                  -1  1    166272  ultralytics.nn.modules.conv.Conv             [96, 192, 3, 2]               \n",
      "  4                  -1  4    813312  ultralytics.nn.modules.block.C2f             [192, 192, 4, True]           \n",
      "  5                  -1  1    664320  ultralytics.nn.modules.conv.Conv             [192, 384, 3, 2]              \n",
      "  6                  -1  4   3248640  ultralytics.nn.modules.block.C2f             [384, 384, 4, True]           \n",
      "  7                  -1  1   1991808  ultralytics.nn.modules.conv.Conv             [384, 576, 3, 2]              \n",
      "  8                  -1  2   3985920  ultralytics.nn.modules.block.C2f             [576, 576, 2, True]           \n",
      "  9                  -1  1    831168  ultralytics.nn.modules.block.SPPF            [576, 576, 5]                 \n",
      " 10                  -1  1         0  torch.nn.modules.upsampling.Upsample         [None, 2, 'nearest']          \n",
      " 11             [-1, 6]  1         0  ultralytics.nn.modules.conv.Concat           [1]                           \n",
      " 12                  -1  2   1993728  ultralytics.nn.modules.block.C2f             [960, 384, 2]                 \n",
      " 13                  -1  1         0  torch.nn.modules.upsampling.Upsample         [None, 2, 'nearest']          \n",
      " 14             [-1, 4]  1         0  ultralytics.nn.modules.conv.Concat           [1]                           \n",
      " 15                  -1  2    517632  ultralytics.nn.modules.block.C2f             [576, 192, 2]                 \n",
      " 16                  -1  1    332160  ultralytics.nn.modules.conv.Conv             [192, 192, 3, 2]              \n",
      " 17            [-1, 12]  1         0  ultralytics.nn.modules.conv.Concat           [1]                           \n",
      " 18                  -1  2   1846272  ultralytics.nn.modules.block.C2f             [576, 384, 2]                 \n",
      " 19                  -1  1   1327872  ultralytics.nn.modules.conv.Conv             [384, 384, 3, 2]              \n",
      " 20             [-1, 9]  1         0  ultralytics.nn.modules.conv.Concat           [1]                           \n",
      " 21                  -1  2   4207104  ultralytics.nn.modules.block.C2f             [960, 576, 2]                 \n",
      " 22        [15, 18, 21]  1   3776275  ultralytics.nn.modules.head.Detect           [1, [192, 384, 576]]          \n",
      "Model summary: 169 layers, 25,856,899 parameters, 25,856,883 gradients, 79.1 GFLOPs\n",
      "\n",
      "Transferred 469/475 items from pretrained weights\n",
      "Freezing layer 'model.22.dfl.conv.weight'\n",
      "\u001b[34m\u001b[1mAMP: \u001b[0mrunning Automatic Mixed Precision (AMP) checks...\n",
      "\u001b[34m\u001b[1mAMP: \u001b[0mchecks passed ✅\n",
      "\u001b[34m\u001b[1mtrain: \u001b[0mFast image access ✅ (ping: 0.0±0.0 ms, read: 5218.7±1623.3 MB/s, size: 348.6 KB)\n"
     ]
    },
    {
     "name": "stderr",
     "output_type": "stream",
     "text": [
      "\n",
      "[34m\u001b[1mtrain: \u001b[0mScanning /flagellar/temp/yolo_dataset/labels/train.cache... 722 images, 0 backgrounds, 0 corrupt: 100%|██████████| 722/722 [00:00<?, ?it/s]"
     ]
    },
    {
     "name": "stdout",
     "output_type": "stream",
     "text": [
      "\u001b[34m\u001b[1mval: \u001b[0mFast image access ✅ (ping: 0.0±0.0 ms, read: 3564.0±2852.9 MB/s, size: 351.3 KB)\n"
     ]
    },
    {
     "name": "stderr",
     "output_type": "stream",
     "text": [
      "\n",
      "[34m\u001b[1mval: \u001b[0mScanning /flagellar/temp/yolo_dataset/labels/val.cache... 88 images, 0 backgrounds, 0 corrupt: 100%|██████████| 88/88 [00:00<?, ?it/s]"
     ]
    },
    {
     "name": "stdout",
     "output_type": "stream",
     "text": [
      "Plotting labels to /flagellar/temp/yolo_weights/motor_detector/labels.jpg... \n",
      "\u001b[34m\u001b[1moptimizer:\u001b[0m AdamW(lr=0.001, momentum=0.937) with parameter groups 77 weight(decay=0.0), 84 weight(decay=0.00046875), 83 bias(decay=0.0)\n",
      "Image sizes 320 train, 320 val\n",
      "Using 4 dataloader workers\n",
      "Logging results to \u001b[1m/flagellar/temp/yolo_weights/motor_detector\u001b[0m\n",
      "Starting training for 3 epochs...\n",
      "\n",
      "      Epoch    GPU_mem   box_loss   cls_loss   dfl_loss  Instances       Size\n"
     ]
    },
    {
     "name": "stderr",
     "output_type": "stream",
     "text": [
      "\n",
      "                 Class     Images  Instances      Box(P          R      mAP50  mAP50-95): 100%|██████████| 4/4 [00:00<00:00, 16.62it/s]"
     ]
    },
    {
     "name": "stdout",
     "output_type": "stream",
     "text": [
      "                   all         88         95    0.00167     0.0947    0.00116   0.000388\n"
     ]
    },
    {
     "name": "stderr",
     "output_type": "stream",
     "text": [
      "\n"
     ]
    },
    {
     "name": "stdout",
     "output_type": "stream",
     "text": [
      "\n",
      "      Epoch    GPU_mem   box_loss   cls_loss   dfl_loss  Instances       Size\n"
     ]
    },
    {
     "name": "stderr",
     "output_type": "stream",
     "text": [
      "\n",
      "                 Class     Images  Instances      Box(P          R      mAP50  mAP50-95): 100%|██████████| 4/4 [00:00<00:00, 17.51it/s]"
     ]
    },
    {
     "name": "stdout",
     "output_type": "stream",
     "text": [
      "                   all         88         95    0.00534     0.0316    0.00275    0.00119\n"
     ]
    },
    {
     "name": "stderr",
     "output_type": "stream",
     "text": [
      "\n"
     ]
    },
    {
     "name": "stdout",
     "output_type": "stream",
     "text": [
      "\n",
      "      Epoch    GPU_mem   box_loss   cls_loss   dfl_loss  Instances       Size\n"
     ]
    },
    {
     "name": "stderr",
     "output_type": "stream",
     "text": [
      "\n",
      "                 Class     Images  Instances      Box(P          R      mAP50  mAP50-95): 100%|██████████| 4/4 [00:00<00:00, 16.66it/s]"
     ]
    },
    {
     "name": "stdout",
     "output_type": "stream",
     "text": [
      "                   all         88         95       0.18      0.189     0.0621     0.0186\n"
     ]
    },
    {
     "name": "stderr",
     "output_type": "stream",
     "text": [
      "\n"
     ]
    },
    {
     "name": "stdout",
     "output_type": "stream",
     "text": [
      "\n",
      "3 epochs completed in 0.004 hours.\n",
      "Optimizer stripped from /flagellar/temp/yolo_weights/motor_detector/weights/last.pt, 52.0MB\n",
      "Optimizer stripped from /flagellar/temp/yolo_weights/motor_detector/weights/best.pt, 52.0MB\n",
      "\n",
      "Validating /flagellar/temp/yolo_weights/motor_detector/weights/best.pt...\n",
      "Ultralytics 8.3.118 🚀 Python-3.11.10 torch-2.5.1+cu124 CUDA:0 (NVIDIA GeForce RTX 4090, 24210MiB)\n",
      "Model summary (fused): 92 layers, 25,840,339 parameters, 0 gradients, 78.7 GFLOPs\n"
     ]
    },
    {
     "name": "stderr",
     "output_type": "stream",
     "text": [
      "\n",
      "                Class     Images  Instances      Box(P          R      mAP50  mAP50-95): 100%|██████████| 4/4 [00:00<00:00,  6.33it/s]"
     ]
    },
    {
     "name": "stdout",
     "output_type": "stream",
     "text": [
      "                   all         88         95      0.263      0.137     0.0917     0.0231\n",
      "Speed: 0.0ms preprocess, 2.6ms inference, 0.0ms loss, 2.9ms postprocess per image\n",
      "Results saved to \u001b[1m/flagellar/temp/yolo_weights/motor_detector\u001b[0m\n",
      "\n",
      "Training complete!\n",
      "Clearing cupy\n",
      "Model summary (fused): 92 layers, 25,840,339 parameters, 0 gradients, 78.7 GFLOPs\n",
      "Model summary (fused): 92 layers, 25,840,339 parameters, 0 gradients, 78.7 GFLOPs\n",
      "Processing tomogram tomo_081a2d (1/1)\n",
      "Processing 300 out of 300 slices (CONCENTRATION=1)\n",
      "Processing 300 out of 300 slices (CONCENTRATION=1)\n",
      "this\n",
      "     index    z    y    x  confidence  i_model\n",
      "0        0  164  319  651    0.631836        1\n",
      "1        1  170  321  649    0.571777        1\n",
      "2        2  166  319  648    0.556641        1\n",
      "3        3  163  317  649    0.554688        1\n",
      "4        4  165  319  650    0.554688        1\n",
      "..     ...  ...  ...  ...         ...      ...\n",
      "858    995   74  345  331    0.005600        0\n",
      "859    996  102  254  445    0.005600        1\n",
      "860    997  192  344  548    0.005600        1\n",
      "861    998   96  266  394    0.005577        1\n",
      "862    999  101  268  422    0.005577        1\n",
      "\n",
      "[863 rows x 6 columns]\n",
      "------\n",
      "this\n",
      "     index    z    y    x  confidence  i_model\n",
      "0      194  130  707  311    0.039337        0\n",
      "1      208  126  686  503    0.036896        1\n",
      "2      242  132  709  312    0.031860        0\n",
      "3      253  126  680  515    0.030334        1\n",
      "4      255  141  711  311    0.030212        0\n",
      "..     ...  ...  ...  ...         ...      ...\n",
      "112    973  122  684  264    0.005936        0\n",
      "113    980  129  702  479    0.005867        1\n",
      "114    981  185  679  518    0.005867        1\n",
      "115    984  192  677  524    0.005821        1\n",
      "116    992  173  736  359    0.005642        0\n",
      "\n",
      "[117 rows x 6 columns]\n",
      "------\n",
      "this\n",
      "   index    z    y    x  confidence  i_model\n",
      "0    201  274  609  549    0.037903        0\n",
      "1    831  274  591  551    0.007904        0\n",
      "------\n",
      "this\n",
      "   index   z    y   x  confidence  i_model\n",
      "0    247  27  895  25    0.031372        1\n",
      "1    279  72  875  20    0.027802        1\n",
      "2    327  27  895  38    0.023697        1\n",
      "3    456  27  880  25    0.017990        1\n",
      "------\n",
      "this\n",
      "   index    z    y    x  confidence  i_model\n",
      "0    415  271  440  764    0.019302        0\n",
      "1    698  258  442  763    0.010567        0\n",
      "2    763  270  440  763    0.009193        0\n",
      "3    900  259  442  761    0.006985        0\n",
      "4    951  263  439  760    0.006145        0\n",
      "------\n",
      "this\n",
      "   index    z    y   x  confidence  i_model\n",
      "0    550  194  877  20    0.014732        1\n",
      "1    573  194  896  20    0.013954        1\n",
      "2    972  285  899  21    0.005959        1\n",
      "------\n",
      "this\n",
      "   index    z   y    x  confidence  i_model\n",
      "0    657  221  58  882    0.011688        1\n",
      "1    663  222  61  884    0.011421        1\n",
      "------\n",
      "this\n",
      "   index    z    y    x  confidence  i_model\n",
      "0    706  270  923  428    0.010406        0\n",
      "1    936  268  923  429    0.006390        0\n",
      "------\n",
      "this\n",
      "   index  z    y    x  confidence  i_model\n",
      "0    910  0  896  884    0.006905        1\n",
      "------\n",
      "this\n",
      "   index   z    y    x  confidence  i_model\n",
      "0    988  48  899  236    0.005688        1\n",
      "------\n",
      "FINAL\n",
      "     z    y    x  confidence\n",
      "0  164  319  651    0.502441\n",
      "1  130  707  311    0.038116\n",
      "2  274  609  549    0.018951\n",
      "3   27  895   25    0.015686\n",
      "4  271  440  764    0.009651\n",
      "5  194  877   20    0.007366\n",
      "6  221   58  882    0.005844\n",
      "7  270  923  428    0.005203\n",
      "8    0  896  884    0.003452\n",
      "9   48  899  236    0.002844\n",
      "\n",
      "Clearing pytorch\n",
      "Clearing cupy\n",
      "Processing tomogram tomo_08446f (1/1)\n",
      "Processing 500 out of 500 slices (CONCENTRATION=1)\n",
      "Processing 500 out of 500 slices (CONCENTRATION=1)\n",
      "this\n",
      "     index    z    y    x  confidence  i_model\n",
      "0        0  183  259  633    0.083862        1\n",
      "1        5  206  233  584    0.031143        1\n",
      "2        6  212  233  606    0.026855        1\n",
      "3        7  198  235  606    0.026062        1\n",
      "4        8  206  207  298    0.025864        1\n",
      "..     ...  ...  ...  ...         ...      ...\n",
      "437    990  181  258  632    0.001846        1\n",
      "438    992   30  187  943    0.001839        1\n",
      "439    993   40  307  917    0.001839        1\n",
      "440    996  181  187  515    0.001831        0\n",
      "441    998  179  211  561    0.001831        1\n",
      "\n",
      "[442 rows x 6 columns]\n",
      "------\n",
      "this\n",
      "     index    z    y    x  confidence  i_model\n",
      "0        1  235  760  914    0.053009        1\n",
      "1        2  234  761  914    0.042725        1\n",
      "2        3  251  617  250    0.037598        0\n",
      "3        4  236  759  913    0.033325        1\n",
      "4        9  212  690  440    0.025467        1\n",
      "..     ...  ...  ...  ...         ...      ...\n",
      "457    991  229  690  444    0.001839        0\n",
      "458    994   57  775  597    0.001839        1\n",
      "459    995  136  722  647    0.001839        1\n",
      "460    997  106  834   10    0.001831        1\n",
      "461    999  253  733  490    0.001831        1\n",
      "\n",
      "[462 rows x 6 columns]\n",
      "------\n",
      "this\n",
      "    index    z    y    x  confidence  i_model\n",
      "0      21  165  331  513    0.018188        0\n",
      "1      40  249  401  322    0.014954        0\n",
      "2     114  234  332  515    0.008377        0\n",
      "3     199  216  308  467    0.005844        0\n",
      "4     205  165  353  513    0.005730        0\n",
      "5     225  248  379  322    0.005428        0\n",
      "6     236  257  306  468    0.005260        0\n",
      "7     261  249  381  322    0.004944        0\n",
      "8     275  286  380  512    0.004772        0\n",
      "9     305  260  403  467    0.004299        0\n",
      "10    355  237  378  322    0.004005        0\n",
      "11    377  195  356  323    0.003855        0\n",
      "12    385  250  354  467    0.003796        0\n",
      "13    394  163  353  514    0.003736        0\n",
      "14    416  179  307  465    0.003607        0\n",
      "15    442  234  353  514    0.003456        0\n",
      "16    456  179  308  444    0.003403        0\n",
      "17    495  308  233  510    0.003172        1\n",
      "18    513  184  332  347    0.003052        0\n",
      "19    526  169  330  491    0.003004        0\n",
      "20    527  174  377  537    0.003004        0\n",
      "21    552  217  379  323    0.002867        0\n",
      "22    573  261  452  491    0.002779        0\n",
      "23    582  236  355  323    0.002758        0\n",
      "24    585  168  330  491    0.002737        0\n",
      "25    646  219  308  467    0.002550        0\n",
      "26    661  217  401  322    0.002493        0\n",
      "27    747  232  307  420    0.002253        0\n",
      "28    756  164  330  513    0.002234        0\n",
      "29    777  236  378  322    0.002199        0\n",
      "30    831  169  330  514    0.002083        0\n",
      "31    839  241  378  323    0.002068        0\n",
      "32    863  172  353  537    0.002035        0\n",
      "33    889  239  378  323    0.001995        0\n",
      "34    904  224  330  466    0.001972        0\n",
      "35    951  182  354  323    0.001889        0\n",
      "36    960  202  355  323    0.001875        0\n",
      "------\n",
      "this\n",
      "    index    z    y    x  confidence  i_model\n",
      "0      29  119  258  752    0.016022        1\n",
      "1      84  120  258  752    0.009636        1\n",
      "2     120  127  256  776    0.008186        0\n",
      "3     201  111  259  756    0.005821        0\n",
      "4     248  104  256  752    0.005138        0\n",
      "5     270  112  257  752    0.004791        1\n",
      "6     350  103  257  753    0.004040        0\n",
      "7     386  119  254  772    0.003796        1\n",
      "8     393   87  258  752    0.003750        0\n",
      "9     439  120  255  772    0.003483        1\n",
      "10    466  106  238  754    0.003338        0\n",
      "11    490  112  258  756    0.003172        0\n",
      "12    515  135  257  775    0.003040        1\n",
      "13    594  118  258  752    0.002714        1\n",
      "14    640  121  257  753    0.002581        1\n",
      "15    674  134  255  774    0.002434        0\n",
      "16    688  118  256  774    0.002398        1\n",
      "17    716  123  257  752    0.002323        1\n",
      "18    728   87  235  751    0.002287        1\n",
      "19    849  106  257  754    0.002050        0\n",
      "20    888  111  255  772    0.001995        0\n",
      "21    903  135  244  786    0.001980        1\n",
      "22    959  119  257  774    0.001875        0\n",
      "------\n",
      "this\n",
      "   index    z    y    x  confidence  i_model\n",
      "0     60  212  189  869    0.011917        1\n",
      "1    108  209  187  869    0.008514        1\n",
      "2    172  213  191  869    0.006340        1\n",
      "3    273  213  207  871    0.004791        1\n",
      "4    375  213  190  851    0.003885        1\n",
      "5    846  219  283  896    0.002058        1\n",
      "6    859  227  203  882    0.002043        1\n",
      "------\n",
      "this\n",
      "   index  z    y   x  confidence  i_model\n",
      "0    159  6  403  60    0.006538        0\n",
      "1    482  5  403  61    0.003223        0\n",
      "------\n",
      "this\n",
      "   index    z    y    x  confidence  i_model\n",
      "0    244  348  165  252    0.005199        0\n",
      "------\n",
      "this\n",
      "   index    z    y    x  confidence  i_model\n",
      "0    281  252  449  897    0.004681        1\n",
      "1    649  252  429  899    0.002550        1\n",
      "------\n",
      "this\n",
      "   index    z    y   x  confidence  i_model\n",
      "0    287  320  616  34    0.004574        1\n",
      "------\n",
      "this\n",
      "   index    z    y    x  confidence  i_model\n",
      "0    300  431  474  728    0.004398        0\n",
      "1    666  489  498  704    0.002472        0\n",
      "------\n",
      "this\n",
      "   index    z    y    x  confidence  i_model\n",
      "0    330  450  690  681    0.004166        0\n",
      "------\n",
      "this\n",
      "   index    z    y   x  confidence  i_model\n",
      "0    469  337  307  34    0.003325        1\n",
      "------\n",
      "this\n",
      "   index    z    y    x  confidence  i_model\n",
      "0    523  394  163  513    0.003027        1\n",
      "------\n",
      "this\n",
      "   index    z    y    x  confidence  i_model\n",
      "0    571  388  163  703      0.0028        1\n",
      "------\n",
      "this\n",
      "   index    z    y    x  confidence  i_model\n",
      "0    587  382  474  943    0.002737        1\n",
      "1    940  395  427  943    0.001912        1\n",
      "------\n",
      "this\n",
      "   index    z    y    x  confidence  i_model\n",
      "0    630  386  403  300    0.002590        0\n",
      "1    891  386  401  320    0.001995        0\n",
      "------\n",
      "this\n",
      "   index  z    y    x  confidence  i_model\n",
      "0    718  0  856  801    0.002314        1\n",
      "1    956  0  856  823    0.001883        1\n",
      "------\n",
      "this\n",
      "   index    z   y    x  confidence  i_model\n",
      "0    743  447  91  608     0.00227        1\n",
      "------\n",
      "this\n",
      "   index  z    y    x  confidence  i_model\n",
      "0    765  3  665  514    0.002216        0\n",
      "------\n",
      "this\n",
      "   index    z    y    x  confidence  i_model\n",
      "0    773  121  498  753    0.002209        0\n",
      "------\n",
      "this\n",
      "   index    z    y    x  confidence  i_model\n",
      "0    789  294  883  610    0.002182        1\n",
      "------\n",
      "this\n",
      "   index    z   y    x  confidence  i_model\n",
      "0    790  427  19  512    0.002182        1\n",
      "------\n",
      "this\n",
      "   index   z    y    x  confidence  i_model\n",
      "0    811  50  760  705     0.00214        0\n",
      "------\n",
      "this\n",
      "   index    z    y    x  confidence  i_model\n",
      "0    872  458  822  598    0.002028        1\n",
      "------\n",
      "this\n",
      "   index    z   y    x  confidence  i_model\n",
      "0    908  496  42  728    0.001972        1\n",
      "------\n",
      "this\n",
      "   index    z    y    x  confidence  i_model\n",
      "0    911  111  856  826    0.001957        1\n",
      "------\n",
      "this\n",
      "   index   z    y    x  confidence  i_model\n",
      "0    924  23  354  490    0.001926        0\n",
      "------\n",
      "this\n",
      "   index    z    y   x  confidence  i_model\n",
      "0    966  492  618  35    0.001875        1\n",
      "------\n",
      "FINAL\n",
      "      z    y    x  confidence\n",
      "0   183  259  633    0.053734\n",
      "1   235  760  914    0.045303\n",
      "2   165  331  513    0.010680\n",
      "3   119  258  752    0.012104\n",
      "4   212  189  869    0.005959\n",
      "5     6  403   60    0.003269\n",
      "6   348  165  252    0.002600\n",
      "7   252  449  897    0.002340\n",
      "8   320  616   34    0.002287\n",
      "9   431  474  728    0.002199\n",
      "10  450  690  681    0.002083\n",
      "11  337  307   34    0.001662\n",
      "12  394  163  513    0.001513\n",
      "13  388  163  703    0.001400\n",
      "14  382  474  943    0.001369\n",
      "15  386  403  300    0.001295\n",
      "16    0  856  801    0.001157\n",
      "17  447   91  608    0.001135\n",
      "18    3  665  514    0.001108\n",
      "19  121  498  753    0.001104\n",
      "20  294  883  610    0.001091\n",
      "21  427   19  512    0.001091\n",
      "22   50  760  705    0.001070\n",
      "23  458  822  598    0.001014\n",
      "24  496   42  728    0.000986\n",
      "25  111  856  826    0.000978\n",
      "26   23  354  490    0.000963\n",
      "27  492  618   35    0.000937\n",
      "\n",
      "         z    y    x  confidence  i_model\n",
      "0        0  250  619    0.000098        0\n",
      "1        0  228  620    0.000064        0\n",
      "2        0  228  597    0.000060        0\n",
      "3        0  223  923    0.000051        0\n",
      "4        0  947  923    0.000049        0\n",
      "...    ...  ...  ...         ...      ...\n",
      "10332  299  827  924    0.000107        1\n",
      "10333  299  707  924    0.000106        1\n",
      "10334  299  902  907    0.000106        1\n",
      "10335  299  946   93    0.000104        1\n",
      "10336  299   11   63    0.000102        1\n",
      "\n",
      "[10337 rows x 5 columns]\n",
      "         z    y    x  confidence  i_model\n",
      "0        0  856  180    0.000432        0\n",
      "1        0  856  202    0.000263        0\n",
      "2        0   90  825    0.000261        0\n",
      "3        0  737  108    0.000144        0\n",
      "4        0  402   61    0.000141        0\n",
      "...    ...  ...  ...         ...      ...\n",
      "26228  499  821  931    0.000289        1\n",
      "26229  499  116  919    0.000272        1\n",
      "26230  499  102  872    0.000269        1\n",
      "26231  499  402  943    0.000263        1\n",
      "26232  499  866  930    0.000255        1\n",
      "\n",
      "[26233 rows x 5 columns]\n",
      "[   index    z    y    x  confidence     value\n",
      "0      0  164  319  651    0.502441  0.502441, Empty DataFrame\n",
      "Columns: [z, y, x, confidence]\n",
      "Index: []]\n",
      "Clearing pytorch\n",
      "42\n",
      "0 1 "
     ]
    },
    {
     "data": {
      "text/plain": [
       "<Figure size 640x480 with 1 Axes>"
      ]
     },
     "metadata": {},
     "output_type": "display_data"
    },
    {
     "name": "stdout",
     "output_type": "stream",
     "text": [
      "Clearing cupy\n"
     ]
    },
    {
     "data": {
      "text/plain": [
       "<Figure size 640x480 with 2 Axes>"
      ]
     },
     "metadata": {},
     "output_type": "display_data"
    },
    {
     "name": "stdout",
     "output_type": "stream",
     "text": [
      "Clearing pytorch\n"
     ]
    },
    {
     "name": "stderr",
     "output_type": "stream",
     "text": [
      "/opt/conda/lib/python3.11/site-packages/cupyx/jit/_interface.py:173: FutureWarning: cupyx.jit.rawkernel is experimental. The interface can change in the future.\n",
      "  cupy._util.experimental('cupyx.jit.rawkernel')\n"
     ]
    },
    {
     "name": "stdout",
     "output_type": "stream",
     "text": [
      "SpawnPoolWorker-1\n",
      "CUDA_VISIBLE_DEVICES= 0\n",
      "41\n",
      "Clearing cupy\n"
     ]
    },
    {
     "data": {
      "text/plain": [
       "<Figure size 640x480 with 2 Axes>"
      ]
     },
     "metadata": {},
     "output_type": "display_data"
    },
    {
     "name": "stdout",
     "output_type": "stream",
     "text": [
      "All tests passed\n"
     ]
    }
   ],
   "source": [
    "import importlib\n",
    "importlib.reload(flg_test)\n",
    "#flg_test.test_yolo_infer(update_reference=False)\n",
    "flg_test.run_all_tests(update_reference=False)"
   ]
  },
  {
   "cell_type": "code",
   "execution_count": 3,
   "id": "c2a2c3ba-6c07-4761-ad4f-c3078a3a57fe",
   "metadata": {},
   "outputs": [
    {
     "data": {
      "text/plain": [
       "'[   index    z    y    x  confidence     value\\n0      0  164  323  651    0.497192  0.497192, Empty DataFrame\\nColumns: [z, y, x, confidence]\\nIndex: []]'"
      ]
     },
     "execution_count": 3,
     "metadata": {},
     "output_type": "execute_result"
    }
   ],
   "source": [
    "import flg_support as fls\n",
    "ref_name = fls.code_dir + 'ref_yolo.pickle';\n",
    "str(fls.dill_load(ref_name))"
   ]
  },
  {
   "cell_type": "code",
   "execution_count": null,
   "id": "b84b4516-35a7-4a48-a757-26033301e074",
   "metadata": {},
   "outputs": [],
   "source": []
  }
 ],
 "metadata": {
  "kernelspec": {
   "display_name": "Python 3 (ipykernel)",
   "language": "python",
   "name": "python3"
  },
  "language_info": {
   "codemirror_mode": {
    "name": "ipython",
    "version": 3
   },
   "file_extension": ".py",
   "mimetype": "text/x-python",
   "name": "python",
   "nbconvert_exporter": "python",
   "pygments_lexer": "ipython3",
   "version": "3.10.14"
  }
 },
 "nbformat": 4,
 "nbformat_minor": 5
}
