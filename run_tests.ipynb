{
 "cells": [
  {
   "cell_type": "code",
   "execution_count": 1,
   "id": "bcddf786-c0f5-4eb6-b5f2-97278c1def1d",
   "metadata": {},
   "outputs": [
    {
     "name": "stdout",
     "output_type": "stream",
     "text": [
      "MainProcess\n"
     ]
    }
   ],
   "source": [
    "import sys\n",
    "sys.path.append('d:/flagellar/code/core')\n",
    "sys.path.append('/flagellar/code/core')\n",
    "sys.path.append('/kaggle/input/my-flagellar-library/')\n",
    "import flg_test"
   ]
  },
  {
   "cell_type": "code",
   "execution_count": null,
   "id": "f665bda1-916a-495e-aa3b-0d73dd1d7ef1",
   "metadata": {},
   "outputs": [
    {
     "name": "stdout",
     "output_type": "stream",
     "text": [
      "CompletedProcess(args=['pip', 'uninstall', '-y', 'albumentations'], returncode=0)\n",
      "Will process approximately 981 slices for training\n"
     ]
    },
    {
     "data": {
      "application/vnd.jupyter.widget-view+json": {
       "model_id": "e7095b12ea7d48f9a7e98948d7400329",
       "version_major": 2,
       "version_minor": 0
      },
      "text/plain": [
       "Processing training motors:   0%|          | 0/109 [00:00<?, ?it/s]"
      ]
     },
     "metadata": {},
     "output_type": "display_data"
    },
    {
     "name": "stdout",
     "output_type": "stream",
     "text": [
      "Clearing pytorch\n"
     ]
    },
    {
     "name": "stderr",
     "output_type": "stream",
     "text": [
      "C:\\Users\\jeroe\\anaconda3\\envs\\jupyterlab-debugger2\\lib\\site-packages\\cupyx\\jit\\_interface.py:173: FutureWarning: cupyx.jit.rawkernel is experimental. The interface can change in the future.\n",
      "  cupy._util.experimental('cupyx.jit.rawkernel')\n"
     ]
    },
    {
     "name": "stdout",
     "output_type": "stream",
     "text": [
      "Will process approximately 99 slices for validation\n"
     ]
    },
    {
     "data": {
      "application/vnd.jupyter.widget-view+json": {
       "model_id": "0beec6e464c34964b9d4254ccc6aad28",
       "version_major": 2,
       "version_minor": 0
      },
      "text/plain": [
       "Processing validation motors:   0%|          | 0/11 [00:00<?, ?it/s]"
      ]
     },
     "metadata": {},
     "output_type": "display_data"
    },
    {
     "name": "stdout",
     "output_type": "stream",
     "text": [
      "\n",
      "Preprocessing Complete:\n",
      "- Training data: 83 tomograms, 109 motors, 981 slices\n",
      "- Validation data: 10 tomograms, 11 motors, 99 slices\n",
      "- Dataset directory: d:/flagellar/temp//yolo_dataset/\n",
      "- YAML configuration: d:/flagellar/temp//yolo_dataset/dataset.yaml\n",
      "\n",
      "Ready for YOLO training!\n",
      "Starting YOLO training process...\n",
      "Created new YAML at d:/flagellar/temp/training.yaml\n",
      "Using YAML file: d:/flagellar/temp/training.yaml\n",
      "YAML contents:\n",
      "names:\n",
      "  0: motor\n",
      "path: d:/flagellar/temp//yolo_dataset/\n",
      "train: images/train\n",
      "val: images/val\n",
      "\n",
      "\n",
      "Starting YOLO training...\n",
      "New https://pypi.org/project/ultralytics/8.3.107 available  Update with 'pip install -U ultralytics'\n",
      "Ultralytics 8.3.98  Python-3.10.14 torch-2.5.1 CUDA:0 (NVIDIA GeForce RTX 4070 Ti, 12282MiB)\n",
      "\u001b[34m\u001b[1mengine\\trainer: \u001b[0mtask=detect, mode=train, model=yolov8m.pt, data=d:/flagellar/temp/training.yaml, epochs=5, time=None, patience=10, batch=0.8, imgsz=640, save=True, save_period=5, cache=False, device=None, workers=4, project=d:/flagellar/temp//yolo_weights/, name=motor_detector, exist_ok=True, pretrained=True, optimizer=AdamW, verbose=True, seed=0, deterministic=True, single_cls=False, rect=False, cos_lr=True, close_mosaic=10, resume=False, amp=True, fraction=1.0, profile=False, freeze=None, multi_scale=False, overlap_mask=True, mask_ratio=4, dropout=0.0, val=True, split=val, save_json=False, save_hybrid=False, conf=None, iou=0.7, max_det=300, half=False, dnn=False, plots=True, source=None, vid_stride=1, stream_buffer=False, visualize=False, augment=True, agnostic_nms=False, classes=None, retina_masks=False, embed=None, show=False, save_frames=False, save_txt=False, save_conf=False, save_crop=False, show_labels=True, show_conf=True, show_boxes=True, line_width=None, format=torchscript, keras=False, optimize=False, int8=False, dynamic=False, simplify=True, opset=None, workspace=None, nms=False, lr0=0.001, lrf=0.01, momentum=0.937, weight_decay=0.0005, warmup_epochs=3.0, warmup_momentum=0.8, warmup_bias_lr=0.1, box=7.5, cls=0.5, dfl=1.5, pose=12.0, kobj=1.0, nbs=64, hsv_h=0.015, hsv_s=0.7, hsv_v=0.4, degrees=0.0, translate=0.1, scale=0.5, shear=0.0, perspective=0.0, flipud=0.0, fliplr=0.5, bgr=0.0, mosaic=1.0, mixup=0.2, copy_paste=0.0, copy_paste_mode=flip, auto_augment=None, erasing=0.4, crop_fraction=1.0, cfg=None, tracker=botsort.yaml, save_dir=d:\\flagellar\\temp\\yolo_weights\\motor_detector\n",
      "Overriding model.yaml nc=80 with nc=1\n",
      "\n",
      "                   from  n    params  module                                       arguments                     \n",
      "  0                  -1  1      1392  ultralytics.nn.modules.conv.Conv             [3, 48, 3, 2]                 \n",
      "  1                  -1  1     41664  ultralytics.nn.modules.conv.Conv             [48, 96, 3, 2]                \n",
      "  2                  -1  2    111360  ultralytics.nn.modules.block.C2f             [96, 96, 2, True]             \n",
      "  3                  -1  1    166272  ultralytics.nn.modules.conv.Conv             [96, 192, 3, 2]               \n",
      "  4                  -1  4    813312  ultralytics.nn.modules.block.C2f             [192, 192, 4, True]           \n",
      "  5                  -1  1    664320  ultralytics.nn.modules.conv.Conv             [192, 384, 3, 2]              \n",
      "  6                  -1  4   3248640  ultralytics.nn.modules.block.C2f             [384, 384, 4, True]           \n",
      "  7                  -1  1   1991808  ultralytics.nn.modules.conv.Conv             [384, 576, 3, 2]              \n",
      "  8                  -1  2   3985920  ultralytics.nn.modules.block.C2f             [576, 576, 2, True]           \n",
      "  9                  -1  1    831168  ultralytics.nn.modules.block.SPPF            [576, 576, 5]                 \n",
      " 10                  -1  1         0  torch.nn.modules.upsampling.Upsample         [None, 2, 'nearest']          \n",
      " 11             [-1, 6]  1         0  ultralytics.nn.modules.conv.Concat           [1]                           \n",
      " 12                  -1  2   1993728  ultralytics.nn.modules.block.C2f             [960, 384, 2]                 \n",
      " 13                  -1  1         0  torch.nn.modules.upsampling.Upsample         [None, 2, 'nearest']          \n",
      " 14             [-1, 4]  1         0  ultralytics.nn.modules.conv.Concat           [1]                           \n",
      " 15                  -1  2    517632  ultralytics.nn.modules.block.C2f             [576, 192, 2]                 \n",
      " 16                  -1  1    332160  ultralytics.nn.modules.conv.Conv             [192, 192, 3, 2]              \n",
      " 17            [-1, 12]  1         0  ultralytics.nn.modules.conv.Concat           [1]                           \n",
      " 18                  -1  2   1846272  ultralytics.nn.modules.block.C2f             [576, 384, 2]                 \n",
      " 19                  -1  1   1327872  ultralytics.nn.modules.conv.Conv             [384, 384, 3, 2]              \n",
      " 20             [-1, 9]  1         0  ultralytics.nn.modules.conv.Concat           [1]                           \n",
      " 21                  -1  2   4207104  ultralytics.nn.modules.block.C2f             [960, 576, 2]                 \n",
      " 22        [15, 18, 21]  1   3776275  ultralytics.nn.modules.head.Detect           [1, [192, 384, 576]]          \n",
      "Model summary: 169 layers, 25,856,899 parameters, 25,856,883 gradients, 79.1 GFLOPs\n",
      "\n",
      "Transferred 469/475 items from pretrained weights\n",
      "Freezing layer 'model.22.dfl.conv.weight'\n",
      "\u001b[34m\u001b[1mAMP: \u001b[0mrunning Automatic Mixed Precision (AMP) checks...\n",
      "\u001b[34m\u001b[1mAMP: \u001b[0mchecks passed \n"
     ]
    },
    {
     "name": "stderr",
     "output_type": "stream",
     "text": [
      "\u001b[34m\u001b[1mtrain: \u001b[0mScanning D:\\flagellar\\temp\\yolo_dataset\\labels\\train.cache... 981 images, 0 backgrounds, 0 corrupt: 100%|███████\u001b[0m"
     ]
    },
    {
     "name": "stdout",
     "output_type": "stream",
     "text": [
      "\u001b[34m\u001b[1mAutoBatch: \u001b[0mComputing optimal batch size for imgsz=640 at 80.0% CUDA memory utilization.\n",
      "\u001b[34m\u001b[1mAutoBatch: \u001b[0mCUDA:0 (NVIDIA GeForce RTX 4070 Ti) 11.99G total, 0.24G reserved, 0.24G allocated, 11.51G free\n",
      "      Params      GFLOPs  GPU_mem (GB)  forward (ms) backward (ms)                   input                  output\n"
     ]
    },
    {
     "name": "stderr",
     "output_type": "stream",
     "text": [
      "\n"
     ]
    },
    {
     "name": "stdout",
     "output_type": "stream",
     "text": [
      "    25856899       79.07         1.518         29.51         140.8        (1, 3, 640, 640)                    list\n",
      "    25856899       158.1         2.089         28.52         78.85        (2, 3, 640, 640)                    list\n",
      "    25856899       316.3         3.114         31.81         64.29        (4, 3, 640, 640)                    list\n",
      "    25856899       632.5         4.930         55.77         86.54        (8, 3, 640, 640)                    list\n",
      "    25856899        1265         8.623         109.6         143.8       (16, 3, 640, 640)                    list\n",
      "\u001b[34m\u001b[1mAutoBatch: \u001b[0mUsing batch-size 20 for CUDA:0 9.63G/11.99G (80%) \n"
     ]
    },
    {
     "name": "stderr",
     "output_type": "stream",
     "text": [
      "\n",
      "\n",
      "[34m\u001b[1mval: \u001b[0mScanning D:\\flagellar\\temp\\yolo_dataset\\labels\\val.cache... 99 images, 0 backgrounds, 0 corrupt: 100%|██████████| \u001b[0m"
     ]
    },
    {
     "name": "stdout",
     "output_type": "stream",
     "text": [
      "Plotting labels to d:\\flagellar\\temp\\yolo_weights\\motor_detector\\labels.jpg... \n",
      "\u001b[34m\u001b[1moptimizer:\u001b[0m AdamW(lr=0.001, momentum=0.937) with parameter groups 77 weight(decay=0.0), 84 weight(decay=0.00046875), 83 bias(decay=0.0)\n",
      "Image sizes 640 train, 640 val\n",
      "Using 4 dataloader workers\n",
      "Logging results to \u001b[1md:\\flagellar\\temp\\yolo_weights\\motor_detector\u001b[0m\n",
      "Starting training for 5 epochs...\n",
      "\n",
      "      Epoch    GPU_mem   box_loss   cls_loss   dfl_loss  Instances       Size\n"
     ]
    },
    {
     "name": "stderr",
     "output_type": "stream",
     "text": [
      "\n",
      "                 Class     Images  Instances      Box(P          R      mAP50  mAP50-95): 100%|██████████| 3/3 [00:01<0"
     ]
    },
    {
     "name": "stdout",
     "output_type": "stream",
     "text": [
      "                   all         99         99          0          0          0          0\n"
     ]
    },
    {
     "name": "stderr",
     "output_type": "stream",
     "text": [
      "\n"
     ]
    },
    {
     "name": "stdout",
     "output_type": "stream",
     "text": [
      "\n",
      "      Epoch    GPU_mem   box_loss   cls_loss   dfl_loss  Instances       Size\n"
     ]
    },
    {
     "name": "stderr",
     "output_type": "stream",
     "text": [
      "\n",
      "                 Class     Images  Instances      Box(P          R      mAP50  mAP50-95): 100%|██████████| 3/3 [00:01<0"
     ]
    },
    {
     "name": "stdout",
     "output_type": "stream",
     "text": [
      "                   all         99         99      0.588      0.172      0.228     0.0472\n"
     ]
    },
    {
     "name": "stderr",
     "output_type": "stream",
     "text": [
      "\n"
     ]
    },
    {
     "name": "stdout",
     "output_type": "stream",
     "text": [
      "\n",
      "      Epoch    GPU_mem   box_loss   cls_loss   dfl_loss  Instances       Size\n"
     ]
    },
    {
     "name": "stderr",
     "output_type": "stream",
     "text": [
      "\n",
      "                 Class     Images  Instances      Box(P          R      mAP50  mAP50-95): 100%|██████████| 3/3 [00:01<0"
     ]
    },
    {
     "name": "stdout",
     "output_type": "stream",
     "text": [
      "                   all         99         99      0.186      0.152     0.0772     0.0207\n"
     ]
    },
    {
     "name": "stderr",
     "output_type": "stream",
     "text": [
      "\n"
     ]
    },
    {
     "name": "stdout",
     "output_type": "stream",
     "text": [
      "\n",
      "      Epoch    GPU_mem   box_loss   cls_loss   dfl_loss  Instances       Size\n"
     ]
    },
    {
     "name": "stderr",
     "output_type": "stream",
     "text": [
      "\n",
      "                 Class     Images  Instances      Box(P          R      mAP50  mAP50-95): 100%|██████████| 3/3 [00:01<0"
     ]
    },
    {
     "name": "stdout",
     "output_type": "stream",
     "text": [
      "                   all         99         99       0.38      0.364      0.308     0.0811\n"
     ]
    },
    {
     "name": "stderr",
     "output_type": "stream",
     "text": [
      "\n"
     ]
    },
    {
     "name": "stdout",
     "output_type": "stream",
     "text": [
      "\n",
      "      Epoch    GPU_mem   box_loss   cls_loss   dfl_loss  Instances       Size\n"
     ]
    },
    {
     "name": "stderr",
     "output_type": "stream",
     "text": [
      "\n",
      "                 Class     Images  Instances      Box(P          R      mAP50  mAP50-95): 100%|██████████| 3/3 [00:01<0"
     ]
    },
    {
     "name": "stdout",
     "output_type": "stream",
     "text": [
      "                   all         99         99      0.222      0.346      0.206     0.0475\n"
     ]
    },
    {
     "name": "stderr",
     "output_type": "stream",
     "text": [
      "\n"
     ]
    },
    {
     "name": "stdout",
     "output_type": "stream",
     "text": [
      "\n",
      "5 epochs completed in 0.030 hours.\n",
      "Optimizer stripped from d:\\flagellar\\temp\\yolo_weights\\motor_detector\\weights\\last.pt, 52.0MB\n",
      "Optimizer stripped from d:\\flagellar\\temp\\yolo_weights\\motor_detector\\weights\\best.pt, 52.0MB\n",
      "\n",
      "Validating d:\\flagellar\\temp\\yolo_weights\\motor_detector\\weights\\best.pt...\n",
      "Ultralytics 8.3.98  Python-3.10.14 torch-2.5.1 CUDA:0 (NVIDIA GeForce RTX 4070 Ti, 12282MiB)\n",
      "Model summary (fused): 92 layers, 25,840,339 parameters, 0 gradients, 78.7 GFLOPs\n"
     ]
    },
    {
     "name": "stderr",
     "output_type": "stream",
     "text": [
      "\n",
      "                Class     Images  Instances      Box(P          R      mAP50  mAP50-95): 100%|██████████| 3/3 [00:02<0"
     ]
    },
    {
     "name": "stdout",
     "output_type": "stream",
     "text": [
      "                   all         99         99      0.307      0.384       0.26     0.0876\n",
      "Speed: 0.4ms preprocess, 16.5ms inference, 0.0ms loss, 2.1ms postprocess per image\n",
      "Results saved to \u001b[1md:\\flagellar\\temp\\yolo_weights\\motor_detector\u001b[0m\n",
      "New https://pypi.org/project/ultralytics/8.3.107 available  Update with 'pip install -U ultralytics'\n",
      "Ultralytics 8.3.98  Python-3.10.14 torch-2.5.1 CUDA:0 (NVIDIA GeForce RTX 4070 Ti, 12282MiB)\n",
      "\u001b[34m\u001b[1mengine\\trainer: \u001b[0mtask=detect, mode=train, model=yolov8m.pt, data=d:/flagellar/temp/training.yaml, epochs=5, time=None, patience=10, batch=0.8, imgsz=640, save=True, save_period=5, cache=False, device=None, workers=4, project=d:/flagellar/temp//yolo_weights/, name=motor_detector, exist_ok=True, pretrained=True, optimizer=AdamW, verbose=True, seed=100000, deterministic=True, single_cls=False, rect=False, cos_lr=True, close_mosaic=10, resume=False, amp=True, fraction=1.0, profile=False, freeze=None, multi_scale=False, overlap_mask=True, mask_ratio=4, dropout=0.0, val=True, split=val, save_json=False, save_hybrid=False, conf=None, iou=0.7, max_det=300, half=False, dnn=False, plots=True, source=None, vid_stride=1, stream_buffer=False, visualize=False, augment=True, agnostic_nms=False, classes=None, retina_masks=False, embed=None, show=False, save_frames=False, save_txt=False, save_conf=False, save_crop=False, show_labels=True, show_conf=True, show_boxes=True, line_width=None, format=torchscript, keras=False, optimize=False, int8=False, dynamic=False, simplify=True, opset=None, workspace=None, nms=False, lr0=0.001, lrf=0.01, momentum=0.937, weight_decay=0.0005, warmup_epochs=3.0, warmup_momentum=0.8, warmup_bias_lr=0.1, box=7.5, cls=0.5, dfl=1.5, pose=12.0, kobj=1.0, nbs=64, hsv_h=0.015, hsv_s=0.7, hsv_v=0.4, degrees=0.0, translate=0.1, scale=0.5, shear=0.0, perspective=0.0, flipud=0.0, fliplr=0.5, bgr=0.0, mosaic=1.0, mixup=0.2, copy_paste=0.0, copy_paste_mode=flip, auto_augment=None, erasing=0.4, crop_fraction=1.0, cfg=None, tracker=botsort.yaml, save_dir=d:\\flagellar\\temp\\yolo_weights\\motor_detector\n",
      "Overriding model.yaml nc=80 with nc=1\n",
      "\n",
      "                   from  n    params  module                                       arguments                     \n",
      "  0                  -1  1      1392  ultralytics.nn.modules.conv.Conv             [3, 48, 3, 2]                 \n",
      "  1                  -1  1     41664  ultralytics.nn.modules.conv.Conv             [48, 96, 3, 2]                \n",
      "  2                  -1  2    111360  ultralytics.nn.modules.block.C2f             [96, 96, 2, True]             \n",
      "  3                  -1  1    166272  ultralytics.nn.modules.conv.Conv             [96, 192, 3, 2]               \n",
      "  4                  -1  4    813312  ultralytics.nn.modules.block.C2f             [192, 192, 4, True]           \n",
      "  5                  -1  1    664320  ultralytics.nn.modules.conv.Conv             [192, 384, 3, 2]              \n",
      "  6                  -1  4   3248640  ultralytics.nn.modules.block.C2f             [384, 384, 4, True]           \n",
      "  7                  -1  1   1991808  ultralytics.nn.modules.conv.Conv             [384, 576, 3, 2]              \n",
      "  8                  -1  2   3985920  ultralytics.nn.modules.block.C2f             [576, 576, 2, True]           \n",
      "  9                  -1  1    831168  ultralytics.nn.modules.block.SPPF            [576, 576, 5]                 \n",
      " 10                  -1  1         0  torch.nn.modules.upsampling.Upsample         [None, 2, 'nearest']          \n",
      " 11             [-1, 6]  1         0  ultralytics.nn.modules.conv.Concat           [1]                           \n",
      " 12                  -1  2   1993728  ultralytics.nn.modules.block.C2f             [960, 384, 2]                 \n",
      " 13                  -1  1         0  torch.nn.modules.upsampling.Upsample         [None, 2, 'nearest']          \n",
      " 14             [-1, 4]  1         0  ultralytics.nn.modules.conv.Concat           [1]                           \n",
      " 15                  -1  2    517632  ultralytics.nn.modules.block.C2f             [576, 192, 2]                 \n",
      " 16                  -1  1    332160  ultralytics.nn.modules.conv.Conv             [192, 192, 3, 2]              \n",
      " 17            [-1, 12]  1         0  ultralytics.nn.modules.conv.Concat           [1]                           \n",
      " 18                  -1  2   1846272  ultralytics.nn.modules.block.C2f             [576, 384, 2]                 \n",
      " 19                  -1  1   1327872  ultralytics.nn.modules.conv.Conv             [384, 384, 3, 2]              \n",
      " 20             [-1, 9]  1         0  ultralytics.nn.modules.conv.Concat           [1]                           \n",
      " 21                  -1  2   4207104  ultralytics.nn.modules.block.C2f             [960, 576, 2]                 \n",
      " 22        [15, 18, 21]  1   3776275  ultralytics.nn.modules.head.Detect           [1, [192, 384, 576]]          \n",
      "Model summary: 169 layers, 25,856,899 parameters, 25,856,883 gradients, 79.1 GFLOPs\n",
      "\n",
      "Transferred 469/475 items from pretrained weights\n",
      "Freezing layer 'model.22.dfl.conv.weight'\n",
      "\u001b[34m\u001b[1mAMP: \u001b[0mrunning Automatic Mixed Precision (AMP) checks...\n",
      "\u001b[34m\u001b[1mAMP: \u001b[0mchecks passed \n"
     ]
    },
    {
     "name": "stderr",
     "output_type": "stream",
     "text": [
      "\u001b[34m\u001b[1mtrain: \u001b[0mScanning D:\\flagellar\\temp\\yolo_dataset\\labels\\train.cache... 981 images, 0 backgrounds, 0 corrupt: 100%|███████\u001b[0m"
     ]
    },
    {
     "name": "stdout",
     "output_type": "stream",
     "text": [
      "\u001b[34m\u001b[1mAutoBatch: \u001b[0mComputing optimal batch size for imgsz=640 at 80.0% CUDA memory utilization.\n",
      "\u001b[34m\u001b[1mAutoBatch: \u001b[0mCUDA:0 (NVIDIA GeForce RTX 4070 Ti) 11.99G total, 0.68G reserved, 0.24G allocated, 11.08G free\n",
      "      Params      GFLOPs  GPU_mem (GB)  forward (ms) backward (ms)                   input                  output\n"
     ]
    },
    {
     "name": "stderr",
     "output_type": "stream",
     "text": [
      "\n"
     ]
    },
    {
     "name": "stdout",
     "output_type": "stream",
     "text": [
      "    25856899       79.07         1.510         26.14         33.55        (1, 3, 640, 640)                    list\n",
      "    25856899       158.1         2.116         24.23         36.66        (2, 3, 640, 640)                    list\n",
      "    25856899       316.3         3.116         36.56         32.61        (4, 3, 640, 640)                    list\n",
      "    25856899       632.5         4.870         66.46         79.63        (8, 3, 640, 640)                    list\n",
      "    25856899        1265         8.418         160.8         179.3       (16, 3, 640, 640)                    list\n",
      "\u001b[34m\u001b[1mAutoBatch: \u001b[0mUsing batch-size 20 for CUDA:0 9.89G/11.99G (82%) \n"
     ]
    },
    {
     "name": "stderr",
     "output_type": "stream",
     "text": [
      "\n",
      "\n",
      "[34m\u001b[1mval: \u001b[0mScanning D:\\flagellar\\temp\\yolo_dataset\\labels\\val.cache... 99 images, 0 backgrounds, 0 corrupt: 100%|██████████| \u001b[0m"
     ]
    },
    {
     "name": "stdout",
     "output_type": "stream",
     "text": [
      "Plotting labels to d:\\flagellar\\temp\\yolo_weights\\motor_detector\\labels.jpg... \n",
      "\u001b[34m\u001b[1moptimizer:\u001b[0m AdamW(lr=0.001, momentum=0.937) with parameter groups 77 weight(decay=0.0), 84 weight(decay=0.00046875), 83 bias(decay=0.0)\n",
      "Image sizes 640 train, 640 val\n",
      "Using 4 dataloader workers\n",
      "Logging results to \u001b[1md:\\flagellar\\temp\\yolo_weights\\motor_detector\u001b[0m\n",
      "Starting training for 5 epochs...\n",
      "\n",
      "      Epoch    GPU_mem   box_loss   cls_loss   dfl_loss  Instances       Size\n"
     ]
    },
    {
     "name": "stderr",
     "output_type": "stream",
     "text": [
      "\n",
      "                 Class     Images  Instances      Box(P          R      mAP50  mAP50-95): 100%|██████████| 3/3 [00:01<0"
     ]
    },
    {
     "name": "stdout",
     "output_type": "stream",
     "text": [
      "                   all         99         99   0.000262     0.0202   0.000134   1.34e-05\n"
     ]
    },
    {
     "name": "stderr",
     "output_type": "stream",
     "text": [
      "\n"
     ]
    },
    {
     "name": "stdout",
     "output_type": "stream",
     "text": [
      "\n",
      "      Epoch    GPU_mem   box_loss   cls_loss   dfl_loss  Instances       Size\n"
     ]
    },
    {
     "name": "stderr",
     "output_type": "stream",
     "text": [
      "\n",
      "                 Class     Images  Instances      Box(P          R      mAP50  mAP50-95): 100%|██████████| 3/3 [00:01<0"
     ]
    },
    {
     "name": "stdout",
     "output_type": "stream",
     "text": [
      "                   all         99         99      0.347      0.317      0.303     0.0927\n"
     ]
    },
    {
     "name": "stderr",
     "output_type": "stream",
     "text": [
      "\n"
     ]
    },
    {
     "name": "stdout",
     "output_type": "stream",
     "text": [
      "\n",
      "      Epoch    GPU_mem   box_loss   cls_loss   dfl_loss  Instances       Size\n"
     ]
    },
    {
     "name": "stderr",
     "output_type": "stream",
     "text": [
      "\n",
      "                 Class     Images  Instances      Box(P          R      mAP50  mAP50-95): 100%|██████████| 3/3 [00:01<0"
     ]
    },
    {
     "name": "stdout",
     "output_type": "stream",
     "text": [
      "                   all         99         99      0.102      0.212     0.0664     0.0156\n"
     ]
    },
    {
     "name": "stderr",
     "output_type": "stream",
     "text": [
      "\n"
     ]
    },
    {
     "name": "stdout",
     "output_type": "stream",
     "text": [
      "\n",
      "      Epoch    GPU_mem   box_loss   cls_loss   dfl_loss  Instances       Size\n"
     ]
    },
    {
     "name": "stderr",
     "output_type": "stream",
     "text": [
      "\n",
      "                 Class     Images  Instances      Box(P          R      mAP50  mAP50-95): 100%|██████████| 3/3 [00:01<0"
     ]
    },
    {
     "name": "stdout",
     "output_type": "stream",
     "text": [
      "                   all         99         99      0.288      0.364      0.269     0.0713\n"
     ]
    },
    {
     "name": "stderr",
     "output_type": "stream",
     "text": [
      "\n"
     ]
    },
    {
     "name": "stdout",
     "output_type": "stream",
     "text": [
      "\n",
      "      Epoch    GPU_mem   box_loss   cls_loss   dfl_loss  Instances       Size\n"
     ]
    },
    {
     "name": "stderr",
     "output_type": "stream",
     "text": [
      "\n",
      "                 Class     Images  Instances      Box(P          R      mAP50  mAP50-95): 100%|██████████| 3/3 [00:01<0"
     ]
    },
    {
     "name": "stdout",
     "output_type": "stream",
     "text": [
      "                   all         99         99      0.583      0.325      0.369     0.0677\n"
     ]
    },
    {
     "name": "stderr",
     "output_type": "stream",
     "text": [
      "\n"
     ]
    },
    {
     "name": "stdout",
     "output_type": "stream",
     "text": [
      "\n",
      "5 epochs completed in 0.031 hours.\n",
      "Optimizer stripped from d:\\flagellar\\temp\\yolo_weights\\motor_detector\\weights\\last.pt, 52.0MB\n",
      "Optimizer stripped from d:\\flagellar\\temp\\yolo_weights\\motor_detector\\weights\\best.pt, 52.0MB\n",
      "\n",
      "Validating d:\\flagellar\\temp\\yolo_weights\\motor_detector\\weights\\best.pt...\n",
      "Ultralytics 8.3.98  Python-3.10.14 torch-2.5.1 CUDA:0 (NVIDIA GeForce RTX 4070 Ti, 12282MiB)\n",
      "Model summary (fused): 92 layers, 25,840,339 parameters, 0 gradients, 78.7 GFLOPs\n"
     ]
    },
    {
     "name": "stderr",
     "output_type": "stream",
     "text": [
      "\n",
      "                Class     Images  Instances      Box(P          R      mAP50  mAP50-95): 100%|██████████| 3/3 [00:02<0"
     ]
    },
    {
     "name": "stdout",
     "output_type": "stream",
     "text": [
      "                   all         99         99      0.323      0.343      0.293     0.0799\n",
      "Speed: 0.7ms preprocess, 16.2ms inference, 0.0ms loss, 1.7ms postprocess per image\n",
      "Results saved to \u001b[1md:\\flagellar\\temp\\yolo_weights\\motor_detector\u001b[0m\n",
      "\n",
      "Training complete!\n",
      "Clearing cupy\n",
      "Model summary (fused): 92 layers, 25,840,339 parameters, 0 gradients, 78.7 GFLOPs\n",
      "Model summary (fused): 92 layers, 25,840,339 parameters, 0 gradients, 78.7 GFLOPs\n",
      "Processing tomogram tomo_081a2d (1/1)\n",
      "Processing 300 out of 300 slices (CONCENTRATION=1)\n",
      "Processing 300 out of 300 slices (CONCENTRATION=1)\n",
      "------------------\n",
      "    index    z    y    x  confidence  i_model\n",
      "7       7  154  319  648    0.528320        0\n",
      "9       9  155  317  650    0.433105        0\n",
      "10     10  153  318  648    0.409180        0\n",
      "11     11  152  318  648    0.403564        0\n",
      "12     13  151  316  650    0.397949        0\n",
      "13     14  157  316  650    0.394287        0\n",
      "16     17  156  316  650    0.373779        0\n",
      "17     18  150  315  649    0.369385        0\n",
      "18     19  159  315  651    0.360352        0\n",
      "20     21  160  316  652    0.333740        0\n",
      "25     26  164  309  658    0.313232        0\n",
      "28     29  159  309  658    0.301514        0\n",
      "29     30  165  309  660    0.298340        0\n",
      "30     32  149  314  650    0.283691        0\n",
      "31     33  155  309  659    0.280518        0\n",
      "32     34  158  315  651    0.275879        0\n",
      "33     35  160  310  658    0.271240        0\n",
      "34     36  157  310  658    0.261230        0\n",
      "35     37  161  310  658    0.260498        0\n",
      "36     38  148  316  650    0.255371        0\n",
      "41     43  161  315  653    0.248047        0\n",
      "42     44  158  309  659    0.247314        0\n",
      "43     45  162  310  659    0.246582        0\n",
      "45     47  156  309  659    0.238647        0\n",
      "46     48  159  311  656    0.230957        0\n",
      "48     50  163  309  659    0.228882        0\n",
      "53     56  164  315  652    0.204346        0\n",
      "54     57  162  316  653    0.199341        0\n",
      "55     58  154  322  645    0.198120        0\n",
      "56     59  157  312  656    0.195557        0\n",
      "57     60  150  311  654    0.194336        0\n",
      "60     65  149  310  655    0.179565        0\n",
      "61     66  151  309  658    0.179565        0\n",
      "62     67  156  312  656    0.171631        0\n",
      "63     68  152  321  645    0.171021        0\n",
      "64     69  155  312  656    0.170532        0\n",
      "67     72  163  316  652    0.165039        0\n",
      "68     73  160  312  656    0.162964        0\n",
      "69     74  158  311  656    0.161377        0\n",
      "71     76  166  308  659    0.158691        0\n",
      "73     78  151  312  655    0.156616        0\n",
      "76     81  167  309  655    0.151001        0\n",
      "79     85  153  309  659    0.141724        0\n",
      "80     86  153  321  645    0.141724        0\n",
      "82     89  161  312  656    0.137939        0\n",
      "------------------\n",
      "------------------\n",
      "    index    z    y    x  confidence  i_model\n",
      "0       0  157  320  650    0.689453        1\n",
      "1       1  158  319  650    0.672363        1\n",
      "2       2  159  319  650    0.629883        1\n",
      "3       3  155  320  650    0.596191        1\n",
      "4       4  156  322  650    0.588867        1\n",
      "5       5  154  321  650    0.548828        1\n",
      "6       6  150  322  650    0.529297        1\n",
      "8       8  149  319  650    0.474609        1\n",
      "14     15  157  323  645    0.385010        1\n",
      "15     16  152  321  650    0.381104        1\n",
      "19     20  158  321  645    0.347656        1\n",
      "21     22  153  321  650    0.327637        1\n",
      "22     23  151  323  650    0.320801        1\n",
      "23     24  157  317  656    0.318359        1\n",
      "24     25  145  323  650    0.315674        1\n",
      "26     27  159  316  656    0.309814        1\n",
      "27     28  158  317  656    0.303955        1\n",
      "37     39  156  318  655    0.253174        1\n",
      "38     40  155  317  654    0.252441        1\n",
      "39     41  163  316  661    0.251709        1\n",
      "40     42  159  322  646    0.250244        1\n",
      "44     46  156  324  645    0.240112        1\n",
      "47     49  150  322  645    0.229492        1\n",
      "49     51  155  323  645    0.222656        1\n",
      "50     52  161  315  660    0.222046        1\n",
      "51     53  154  324  645    0.217285        1\n",
      "52     54  160  315  660    0.215332        1\n",
      "58     61  160  320  652    0.189575        1\n",
      "59     63  161  320  653    0.182983        1\n",
      "65     70  152  316  657    0.167725        1\n",
      "66     71  154  318  654    0.166138        1\n",
      "70     75  148  323  652    0.160278        1\n",
      "72     77  145  322  645    0.158203        1\n",
      "74     79  152  324  645    0.155640        1\n",
      "75     80  149  319  646    0.155029        1\n",
      "77     82  163  314  665    0.146606        1\n",
      "78     83  164  315  660    0.145142        1\n",
      "81     87  163  324  653    0.139893        1\n",
      "------------------\n",
      "------------------\n",
      "   index    z    y    x  confidence  i_model\n",
      "2     55  156  699  508    0.207520        0\n",
      "3     62  132  735  432    0.183594        0\n",
      "4     64  157  698  509    0.180664        0\n",
      "5     88  160  700  509    0.138916        0\n",
      "------------------\n",
      "------------------\n",
      "   index    z    y    x  confidence  i_model\n",
      "0     12  165  702  506    0.402588        1\n",
      "1     31  201  724  469    0.297363        1\n",
      "------------------\n",
      "------------------\n",
      "   index    z    y    x  confidence  i_model\n",
      "0     84  298  221  817      0.1427        0\n",
      "------------------\n",
      "------------------\n",
      "Empty DataFrame\n",
      "Columns: [index, z, y, x, confidence, i_model]\n",
      "Index: []\n",
      "------------------\n",
      "FINAL\n",
      "     z    y    x  confidence\n",
      "0  157  320  650    0.608887\n",
      "1  165  702  506    0.305054\n",
      "2  298  221  817    0.076350\n",
      "\n",
      "Clearing pytorch\n",
      "Clearing cupy\n",
      "Processing tomogram tomo_08446f (1/1)\n",
      "Processing 500 out of 500 slices (CONCENTRATION=1)\n",
      "Processing 500 out of 500 slices (CONCENTRATION=1)\n",
      "------------------\n",
      "    index    z    y   x  confidence  i_model\n",
      "0       0  268  720  64    0.583008        0\n",
      "1       1  269  721  65    0.526367        0\n",
      "2       2  270  721  66    0.516602        0\n",
      "4       4  274  719  67    0.345215        0\n",
      "5       5  267  721  66    0.339844        0\n",
      "6       6  271  717  63    0.332764        0\n",
      "7       7  271  757  51    0.316650        0\n",
      "8       8  272  719  65    0.316650        0\n",
      "10     10  269  754  46    0.272705        0\n",
      "12     12  271  754  48    0.235840        0\n",
      "13     13  240  735  52    0.233765        0\n",
      "14     14  265  720  66    0.233032        0\n",
      "17     18  245  775  43    0.207520        0\n",
      "18     19  270  758  50    0.198730        0\n",
      "19     20  273  722  69    0.196167        0\n",
      "20     21  244  777  44    0.192505        0\n",
      "21     22  246  775  43    0.191895        0\n",
      "22     23  266  721  66    0.178345        0\n",
      "23     24  270  754  48    0.176636        0\n",
      "24     25  252  775  43    0.174927        0\n",
      "25     26  237  740  51    0.173340        0\n",
      "27     28  320  800  75    0.166626        0\n",
      "28     29  243  775  43    0.157715        0\n",
      "29     31  262  721  64    0.153564        0\n",
      "30     32  242  775  42    0.150024        0\n",
      "31     34  247  774  44    0.147095        0\n",
      "33     36  269  757  48    0.135254        0\n",
      "34     38  238  739  52    0.123779        0\n",
      "35     40  241  775  42    0.119995        0\n",
      "36     41  248  774  43    0.119202        0\n",
      "------------------\n",
      "------------------\n",
      "    index    z    y   x  confidence  i_model\n",
      "3       3  266  726  71    0.445557        1\n",
      "9       9  269  724  70    0.280518        1\n",
      "11     11  270  727  70    0.256836        1\n",
      "15     15  271  722  68    0.230957        1\n",
      "16     16  265  727  67    0.229492        1\n",
      "26     27  268  726  70    0.173340        1\n",
      "32     35  272  721  66    0.145142        1\n",
      "37     42  269  727  72    0.117981        1\n",
      "------------------\n",
      "------------------\n",
      "   index   z    y   x  confidence  i_model\n",
      "0     17  39  825  28    0.222656        0\n",
      "------------------\n",
      "------------------\n",
      "Empty DataFrame\n",
      "Columns: [index, z, y, x, confidence, i_model]\n",
      "Index: []\n",
      "------------------\n",
      "------------------\n",
      "   index   z    y    x  confidence  i_model\n",
      "0     30  96  131  427    0.154053        0\n",
      "------------------\n",
      "------------------\n",
      "Empty DataFrame\n",
      "Columns: [index, z, y, x, confidence, i_model]\n",
      "Index: []\n",
      "------------------\n",
      "------------------\n",
      "   index    z    y    x  confidence  i_model\n",
      "0     33  149  252  775    0.147095        0\n",
      "------------------\n",
      "------------------\n",
      "Empty DataFrame\n",
      "Columns: [index, z, y, x, confidence, i_model]\n",
      "Index: []\n",
      "------------------\n",
      "------------------\n",
      "   index    z    y    x  confidence  i_model\n",
      "0     37  418  409  211    0.126831        0\n",
      "------------------\n",
      "------------------\n",
      "Empty DataFrame\n",
      "Columns: [index, z, y, x, confidence, i_model]\n",
      "Index: []\n",
      "------------------\n",
      "------------------\n",
      "   index    z    y    x  confidence  i_model\n",
      "0     39  258  810  169    0.121277        0\n",
      "------------------\n",
      "------------------\n",
      "Empty DataFrame\n",
      "Columns: [index, z, y, x, confidence, i_model]\n",
      "Index: []\n",
      "------------------\n",
      "FINAL\n",
      "     z    y    x  confidence\n",
      "0  268  720   64    0.514282\n",
      "1   39  825   28    0.116328\n",
      "2   96  131  427    0.082026\n",
      "3  149  252  775    0.078547\n",
      "4  418  409  211    0.068416\n",
      "5  258  810  169    0.065638\n",
      "\n",
      "       z    y    x  confidence  i_model\n",
      "155  132  735  432    0.183594        0\n",
      "187  148  316  650    0.255371        0\n",
      "192  149  314  650    0.283691        0\n",
      "193  149  310  655    0.179565        0\n",
      "196  150  315  649    0.369385        0\n",
      "..   ...  ...  ...         ...      ...\n",
      "621  163  314  665    0.146606        1\n",
      "622  163  324  653    0.139893        1\n",
      "625  164  315  660    0.145142        1\n",
      "632  165  702  506    0.402588        1\n",
      "655  201  724  469    0.297363        1\n",
      "\n",
      "[90 rows x 5 columns]\n",
      "        z    y    x  confidence  i_model\n",
      "50     39  825   28    0.222656        0\n",
      "159    96  131  427    0.154053        0\n",
      "262   149  252  775    0.147095        0\n",
      "458   237  740   51    0.173340        0\n",
      "460   238  739   52    0.123779        0\n",
      "472   240  735   52    0.233765        0\n",
      "476   241  775   42    0.119995        0\n",
      "479   242  775   42    0.150024        0\n",
      "482   243  775   43    0.157715        0\n",
      "487   244  777   44    0.192505        0\n",
      "493   245  775   43    0.207520        0\n",
      "495   246  775   43    0.191895        0\n",
      "498   247  774   44    0.147095        0\n",
      "502   248  774   43    0.119202        0\n",
      "511   252  775   43    0.174927        0\n",
      "535   258  810  169    0.121277        0\n",
      "550   262  721   64    0.153564        0\n",
      "562   265  720   66    0.233032        0\n",
      "568   266  721   66    0.178345        0\n",
      "571   267  721   66    0.339844        0\n",
      "578   268  720   64    0.583008        0\n",
      "582   269  721   65    0.526367        0\n",
      "583   269  754   46    0.272705        0\n",
      "584   269  757   48    0.135254        0\n",
      "589   270  721   66    0.516602        0\n",
      "590   270  758   50    0.198730        0\n",
      "591   270  754   48    0.176636        0\n",
      "596   271  717   63    0.332764        0\n",
      "597   271  757   51    0.316650        0\n",
      "598   271  754   48    0.235840        0\n",
      "603   272  719   65    0.316650        0\n",
      "609   273  722   69    0.196167        0\n",
      "612   274  719   67    0.345215        0\n",
      "755   320  800   75    0.166626        0\n",
      "915   418  409  211    0.126831        0\n",
      "1115  265  727   67    0.229492        1\n",
      "1119  266  726   71    0.445557        1\n",
      "1123  268  726   70    0.173340        1\n",
      "1125  269  724   70    0.280518        1\n",
      "1126  269  727   72    0.117981        1\n",
      "1128  270  727   70    0.256836        1\n",
      "1130  271  722   68    0.230957        1\n",
      "1138  272  721   66    0.145142        1\n",
      "[     z    y    x  confidence\n",
      "0  157  320  650    0.608887,      z    y   x  confidence\n",
      "0  268  720  64    0.514282]\n",
      "Clearing pytorch\n",
      "42\n",
      "0 "
     ]
    }
   ],
   "source": [
    "import importlib\n",
    "importlib.reload(flg_test)\n",
    "#flg_test.test_yolo_infer(update_reference=False)\n",
    "flg_test.run_all_tests(update_reference=False)"
   ]
  },
  {
   "cell_type": "code",
   "execution_count": null,
   "id": "272fae9a-5bb0-45c0-b50f-5cfcfa205221",
   "metadata": {},
   "outputs": [],
   "source": [
    "%debug"
   ]
  },
  {
   "cell_type": "code",
   "execution_count": null,
   "id": "c2a2c3ba-6c07-4761-ad4f-c3078a3a57fe",
   "metadata": {},
   "outputs": [],
   "source": [
    "import flg_support as fls\n",
    "ref_name = fls.code_dir + 'ref_yolo.pickle';\n",
    "str(fls.dill_load(ref_name))"
   ]
  },
  {
   "cell_type": "code",
   "execution_count": null,
   "id": "b84b4516-35a7-4a48-a757-26033301e074",
   "metadata": {},
   "outputs": [],
   "source": []
  }
 ],
 "metadata": {
  "kernelspec": {
   "display_name": "Python 3 (ipykernel)",
   "language": "python",
   "name": "python3"
  },
  "language_info": {
   "codemirror_mode": {
    "name": "ipython",
    "version": 3
   },
   "file_extension": ".py",
   "mimetype": "text/x-python",
   "name": "python",
   "nbconvert_exporter": "python",
   "pygments_lexer": "ipython3",
   "version": "3.10.14"
  }
 },
 "nbformat": 4,
 "nbformat_minor": 5
}
