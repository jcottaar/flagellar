{
 "cells": [
  {
   "cell_type": "code",
   "execution_count": 4,
   "id": "bcddf786-c0f5-4eb6-b5f2-97278c1def1d",
   "metadata": {},
   "outputs": [
    {
     "name": "stdout",
     "output_type": "stream",
     "text": [
      "MainProcess\n"
     ]
    }
   ],
   "source": [
    "import sys\n",
    "sys.path.append('d:/flagellar/code/core')\n",
    "sys.path.append('/flagellar/code/core')\n",
    "sys.path.append('/kaggle/input/my-flagellar-library/')\n",
    "import flg_test"
   ]
  },
  {
   "cell_type": "code",
   "execution_count": null,
   "id": "88f341dd-ecc6-4479-b7c2-cf5af78d8e12",
   "metadata": {},
   "outputs": [
    {
     "name": "stdout",
     "output_type": "stream",
     "text": [
      "[{'z': 150, 'y': 320, 'x': 641, 'confidence': 0.45703125}, {'z': 150, 'y': 318, 'x': 644, 'confidence': 0.451416015625}, {'z': 151, 'y': 318, 'x': 644, 'confidence': 0.4931640625}, {'z': 151, 'y': 321, 'x': 641, 'confidence': 0.46484375}, {'z': 155, 'y': 319, 'x': 644, 'confidence': 0.6162109375}, {'z': 155, 'y': 322, 'x': 643, 'confidence': 0.4716796875}, {'z': 156, 'y': 323, 'x': 641, 'confidence': 0.4599609375}, {'z': 157, 'y': 317, 'x': 644, 'confidence': 0.57470703125}, {'z': 157, 'y': 323, 'x': 641, 'confidence': 0.5068359375}, {'z': 158, 'y': 316, 'x': 645, 'confidence': 0.5498046875}, {'z': 159, 'y': 315, 'x': 646, 'confidence': 0.56298828125}, {'z': 160, 'y': 316, 'x': 647, 'confidence': 0.583984375}, {'z': 161, 'y': 316, 'x': 647, 'confidence': 0.5517578125}, {'z': 162, 'y': 316, 'x': 645, 'confidence': 0.5166015625}, {'z': 163, 'y': 316, 'x': 645, 'confidence': 0.5107421875}, {'z': 164, 'y': 317, 'x': 647, 'confidence': 0.59375}]\n",
      "[     z    y    x\n",
      "0  155  319  644,      z    y   x\n",
      "0  269  721  66]\n",
      "CompletedProcess(args=['pip', 'uninstall', '-y', 'albumentations'], returncode=0)\n",
      "Will process approximately 981 slices for training\n"
     ]
    },
    {
     "data": {
      "application/vnd.jupyter.widget-view+json": {
       "model_id": "a15ececed71540849c474e5d8c5c1f5d",
       "version_major": 2,
       "version_minor": 0
      },
      "text/plain": [
       "Processing training motors:   0%|          | 0/109 [00:00<?, ?it/s]"
      ]
     },
     "metadata": {},
     "output_type": "display_data"
    },
    {
     "name": "stdout",
     "output_type": "stream",
     "text": [
      "Clearing pytorch\n"
     ]
    }
   ],
   "source": [
    "import importlib\n",
    "importlib.reload(flg_test)\n",
    "flg_test.test_yolo_infer(update_reference=True)\n",
    "flg_test.run_all_tests(update_reference=False)"
   ]
  },
  {
   "cell_type": "code",
   "execution_count": null,
   "id": "272fae9a-5bb0-45c0-b50f-5cfcfa205221",
   "metadata": {},
   "outputs": [],
   "source": [
    "%debug"
   ]
  },
  {
   "cell_type": "code",
   "execution_count": null,
   "id": "c2a2c3ba-6c07-4761-ad4f-c3078a3a57fe",
   "metadata": {},
   "outputs": [],
   "source": [
    "import flg_support as fls\n",
    "ref_name = fls.code_dir + 'ref_yolo.pickle';\n",
    "str(fls.dill_load(ref_name))"
   ]
  },
  {
   "cell_type": "code",
   "execution_count": null,
   "id": "b84b4516-35a7-4a48-a757-26033301e074",
   "metadata": {},
   "outputs": [],
   "source": []
  }
 ],
 "metadata": {
  "kernelspec": {
   "display_name": "Python 3 (ipykernel)",
   "language": "python",
   "name": "python3"
  },
  "language_info": {
   "codemirror_mode": {
    "name": "ipython",
    "version": 3
   },
   "file_extension": ".py",
   "mimetype": "text/x-python",
   "name": "python",
   "nbconvert_exporter": "python",
   "pygments_lexer": "ipython3",
   "version": "3.10.14"
  }
 },
 "nbformat": 4,
 "nbformat_minor": 5
}
