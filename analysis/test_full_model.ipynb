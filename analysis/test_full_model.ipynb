{
 "cells": [
  {
   "cell_type": "code",
   "execution_count": 1,
   "id": "17753788-20dc-4f50-8df6-9d9f8909ef7b",
   "metadata": {},
   "outputs": [],
   "source": [
    "import torch\n",
    "import torch.nn as nn\n",
    "import torch.optim as optim\n",
    "import torchvision\n",
    "import torchvision.transforms as transforms\n",
    "import sys\n",
    "sys.path.append('d:/flagellar/code/core')\n",
    "sys.path.append('/kaggle/code/core')\n",
    "sys.path.append('/kaggle/input/my-flg-library/')\n",
    "import flg_support as fls\n",
    "import flg_unet\n",
    "import flg_numerics\n",
    "import flg_model\n",
    "import importlib\n",
    "import numpy as np\n",
    "import matplotlib.pyplot as plt\n",
    "import time\n",
    "import copy"
   ]
  },
  {
   "cell_type": "code",
   "execution_count": 2,
   "id": "c65f3f72-d895-4775-a5a3-2c39c29231fc",
   "metadata": {},
   "outputs": [],
   "source": [
    "train_data = fls.load_all_train_data()\n",
    "np.random.default_rng(seed=0).shuffle(train_data)"
   ]
  },
  {
   "cell_type": "code",
   "execution_count": 24,
   "id": "046cc294-ec7f-4717-a445-6e9299238e90",
   "metadata": {},
   "outputs": [
    {
     "name": "stdout",
     "output_type": "stream",
     "text": [
      "      z    y    x    size  max_logit\n",
      "11  212  399  184  186068      62.25\n",
      "     z    y    x    size  max_logit\n",
      "2  193  159  320  151870    46.5625\n",
      "     z    y    x    size  max_logit\n",
      "0  105  665  556  101876   49.96875\n",
      "     z    y    x   size  max_logit\n",
      "2  203  794  171  85110   35.34375\n",
      "Empty DataFrame\n",
      "Columns: [z, y, x, size, max_logit]\n",
      "Index: []\n",
      "     z    y    x    size  max_logit\n",
      "0  100  408  762  128247      68.25\n",
      "Empty DataFrame\n",
      "Columns: [z, y, x, size, max_logit]\n",
      "Index: []\n",
      "     z    y    x   size  max_logit\n",
      "1  170  368  130  92323   33.09375\n",
      "     z    y    x    size  max_logit\n",
      "7  146  292  602  129795    56.9375\n",
      "     z    y    x   size  max_logit\n",
      "0  140  663  773  62968  22.984375\n",
      "tomo_d662b0      z    y    x\n",
      "0  222  894  385\n",
      "1  183  554  708\n",
      "2  204  565  711\n",
      "3  214  423  190\n",
      "4  206  394  173\n",
      "5  189  534  695\n",
      "tomo_46250a      z    y    x\n",
      "0  170  168  336\n",
      "tomo_fb08b5      z    y    x\n",
      "0  106  671  559\n",
      "tomo_656915      z    y    x\n",
      "0  202  794  167\n",
      "tomo_6607ec Empty DataFrame\n",
      "Columns: [z, y, x]\n",
      "Index: []\n",
      "tomo_317656     z    y    x\n",
      "0  97  409  758\n",
      "tomo_049310 Empty DataFrame\n",
      "Columns: [z, y, x]\n",
      "Index: []\n",
      "tomo_493bea      z    y    x\n",
      "0  170  380  136\n",
      "tomo_1446aa      z    y    x\n",
      "0  149  293  601\n",
      "tomo_372a5c      z    y    x\n",
      "0  179  730  406\n",
      "CPU times: total: 56.5 s\n",
      "Wall time: 1min 34s\n"
     ]
    }
   ],
   "source": [
    "%%time\n",
    "importlib.reload(flg_model)\n",
    "importlib.reload(flg_unet)\n",
    "model = flg_model.ThreeStepModel()\n",
    "model.step1Heatmap = fls.dill_load(fls.temp_dir + 'model_cv.pickle')\n",
    "model.train(train_data[:550])\n",
    "tt = train_data[550:560]\n",
    "model.infer(tt);\n",
    "for t in tt:\n",
    "    print(t.name, t.labels)\n",
    "#plt.figure()\n",
    "#plt.plot(model.step1Heatmap.train_loss_list1)\n",
    "#plt.plot(model.step1Heatmap.train_loss_list2)"
   ]
  },
  {
   "cell_type": "code",
   "execution_count": 18,
   "id": "e8d08ddd-5f47-4098-97d9-c6d28c812754",
   "metadata": {},
   "outputs": [
    {
     "name": "stdout",
     "output_type": "stream",
     "text": [
      "> \u001b[1;32md:\\flagellar\\code\\core\\flg_model.py\u001b[0m(63)\u001b[0;36mmake_labels\u001b[1;34m()\u001b[0m\n",
      "\u001b[1;32m     61 \u001b[1;33m            \u001b[0mcentroid\u001b[0m \u001b[1;33m=\u001b[0m \u001b[0mstats\u001b[0m\u001b[1;33m[\u001b[0m\u001b[1;34m'centroids'\u001b[0m\u001b[1;33m]\u001b[0m\u001b[1;33m[\u001b[0m\u001b[0mcluster_ind\u001b[0m\u001b[1;33m]\u001b[0m\u001b[1;33m\u001b[0m\u001b[1;33m\u001b[0m\u001b[0m\n",
      "\u001b[0m\u001b[1;32m     62 \u001b[1;33m            \u001b[0mto_add\u001b[0m \u001b[1;33m=\u001b[0m \u001b[0mdict\u001b[0m\u001b[1;33m(\u001b[0m\u001b[1;33m)\u001b[0m\u001b[1;33m\u001b[0m\u001b[1;33m\u001b[0m\u001b[0m\n",
      "\u001b[0m\u001b[1;32m---> 63 \u001b[1;33m            \u001b[0mto_add\u001b[0m\u001b[1;33m.\u001b[0m\u001b[0mz\u001b[0m \u001b[1;33m=\u001b[0m \u001b[0mnp\u001b[0m\u001b[1;33m.\u001b[0m\u001b[0mround\u001b[0m\u001b[1;33m(\u001b[0m\u001b[0mcentroid\u001b[0m\u001b[1;33m.\u001b[0m\u001b[0mz\u001b[0m\u001b[1;33m)\u001b[0m\u001b[1;33m.\u001b[0m\u001b[0mastype\u001b[0m\u001b[1;33m(\u001b[0m\u001b[0mint\u001b[0m\u001b[1;33m)\u001b[0m\u001b[1;33m\u001b[0m\u001b[1;33m\u001b[0m\u001b[0m\n",
      "\u001b[0m\u001b[1;32m     64 \u001b[1;33m            \u001b[0mto_add\u001b[0m\u001b[1;33m.\u001b[0m\u001b[0msize\u001b[0m \u001b[1;33m=\u001b[0m \u001b[0mstats\u001b[0m\u001b[1;33m[\u001b[0m\u001b[1;34m'voxel_count'\u001b[0m\u001b[1;33m]\u001b[0m\u001b[1;33m[\u001b[0m\u001b[0mcluster_ind\u001b[0m\u001b[1;33m]\u001b[0m\u001b[1;33m\u001b[0m\u001b[1;33m\u001b[0m\u001b[0m\n",
      "\u001b[0m\u001b[1;32m     65 \u001b[1;33m            \u001b[0mto_add\u001b[0m\u001b[1;33m.\u001b[0m\u001b[0mmax_logit\u001b[0m \u001b[1;33m=\u001b[0m \u001b[0mnp\u001b[0m\u001b[1;33m.\u001b[0m\u001b[0mmax\u001b[0m\u001b[1;33m(\u001b[0m\u001b[0mlocal_heatmap\u001b[0m\u001b[1;33m)\u001b[0m\u001b[1;33m\u001b[0m\u001b[1;33m\u001b[0m\u001b[0m\n",
      "\u001b[0m\n"
     ]
    },
    {
     "name": "stdin",
     "output_type": "stream",
     "text": [
      "ipdb>  centroid\n"
     ]
    },
    {
     "name": "stdout",
     "output_type": "stream",
     "text": [
      "array([ 90.42103613, 277.46476997, 116.11646681])\n"
     ]
    },
    {
     "name": "stdin",
     "output_type": "stream",
     "text": [
      "ipdb>  q\n"
     ]
    }
   ],
   "source": [
    "%debug"
   ]
  },
  {
   "cell_type": "code",
   "execution_count": 5,
   "id": "580d8bb4-d3e1-4216-a22c-64c1535e0f7b",
   "metadata": {},
   "outputs": [
    {
     "data": {
      "text/plain": [
       "Data(is_train=True, name='tomo_e2ccab', labels=     z    y   x\n",
       "0  119  353  80, loaded_state='unloaded', data=None, voxel_spacing=6.5, mean_per_slice=array([], dtype=float64), std_per_slice=array([], dtype=float64))"
      ]
     },
     "execution_count": 5,
     "metadata": {},
     "output_type": "execute_result"
    }
   ],
   "source": [
    "t"
   ]
  },
  {
   "cell_type": "code",
   "execution_count": null,
   "id": "34d1d1ad-d713-49ab-b1be-fa94068c37ee",
   "metadata": {},
   "outputs": [],
   "source": []
  }
 ],
 "metadata": {
  "kernelspec": {
   "display_name": "Python 3 (ipykernel)",
   "language": "python",
   "name": "python3"
  },
  "language_info": {
   "codemirror_mode": {
    "name": "ipython",
    "version": 3
   },
   "file_extension": ".py",
   "mimetype": "text/x-python",
   "name": "python",
   "nbconvert_exporter": "python",
   "pygments_lexer": "ipython3",
   "version": "3.10.14"
  }
 },
 "nbformat": 4,
 "nbformat_minor": 5
}
