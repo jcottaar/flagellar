{
 "cells": [
  {
   "cell_type": "code",
   "execution_count": 1,
   "id": "2a837d78-5dff-48d9-9753-37e382d9f7b6",
   "metadata": {},
   "outputs": [
    {
     "name": "stdout",
     "output_type": "stream",
     "text": [
      "MainProcess\n"
     ]
    }
   ],
   "source": [
    "import torch\n",
    "import torch.nn as nn\n",
    "import torch.optim as optim\n",
    "import torchvision\n",
    "import torchvision.transforms as transforms\n",
    "import sys\n",
    "sys.path.append('d:/flagellar/code/core')\n",
    "sys.path.append('/flagellar/code/core/')\n",
    "sys.path.append('/kaggle/input/my-flagellar-library/')\n",
    "import flg_support as fls\n",
    "import flg_unet\n",
    "import flg_numerics\n",
    "import flg_model\n",
    "import flg_yolo\n",
    "import flg_runner\n",
    "import importlib\n",
    "import numpy as np\n",
    "import matplotlib.pyplot as plt\n",
    "import time\n",
    "import copy\n",
    "import os"
   ]
  },
  {
   "cell_type": "code",
   "execution_count": 2,
   "id": "99b73df3-5b8c-4c70-aaf5-7be5298619d9",
   "metadata": {},
   "outputs": [
    {
     "name": "stdout",
     "output_type": "stream",
     "text": [
      "(400,) (327,)\n",
      "0 35 False\n",
      "(400,) (327,)\n",
      "1 24 True\n",
      "(400,) (327,)\n",
      "2 35 False\n",
      "(400,) (327,)\n",
      "3 34 False\n",
      "(400,) (327,)\n",
      "4 31 True\n"
     ]
    }
   ],
   "source": [
    "importlib.reload(flg_runner)\n",
    "for i in range(5):\n",
    "    r = flg_runner.baseline_runner()\n",
    "    r.seed = i\n",
    "    r.modifier_dict['box_size'] = flg_runner.pm(24, lambda r:r.integers(10,40), setattr)\n",
    "    r.modifier_dict['fix_norm_bug'] = flg_runner.pm(False, lambda r:r.uniform()>0.5, setattr)\n",
    "    r.run()"
   ]
  },
  {
   "cell_type": "code",
   "execution_count": 3,
   "id": "c08372e7-1f83-4b16-9885-547364d45e3a",
   "metadata": {},
   "outputs": [
    {
     "data": {
      "text/plain": [
       "ModelRunner(modifier_dict={'box_size': PropertyModifier(), 'fix_norm_bug': PropertyModifier()}, train_part=slice(None, None, None), test_part=slice(None, None, None), git_commit_id='df90a6ca8ef39fa96378fdc63c1dfe27f9723e14')"
      ]
     },
     "execution_count": 3,
     "metadata": {},
     "output_type": "execute_result"
    }
   ],
   "source": [
    "r"
   ]
  },
  {
   "cell_type": "code",
   "execution_count": null,
   "id": "6a575e22-60c5-4216-9046-dd4f64963930",
   "metadata": {},
   "outputs": [],
   "source": []
  }
 ],
 "metadata": {
  "kaggle": {
   "accelerator": "nvidiaTeslaT4",
   "dataSources": [
    {
     "databundleVersionId": 11294684,
     "isSourceIdPinned": false,
     "sourceId": 91249,
     "sourceType": "competition"
    },
    {
     "datasetId": 6925042,
     "sourceId": 11204341,
     "sourceType": "datasetVersion"
    },
    {
     "datasetId": 6949538,
     "sourceId": 11204343,
     "sourceType": "datasetVersion"
    },
    {
     "sourceId": 211097053,
     "sourceType": "kernelVersion"
    },
    {
     "sourceId": 229283084,
     "sourceType": "kernelVersion"
    }
   ],
   "dockerImageVersionId": 30919,
   "isGpuEnabled": true,
   "isInternetEnabled": false,
   "language": "python",
   "sourceType": "notebook"
  },
  "kernelspec": {
   "display_name": "Python 3 (ipykernel)",
   "language": "python",
   "name": "python3"
  },
  "language_info": {
   "codemirror_mode": {
    "name": "ipython",
    "version": 3
   },
   "file_extension": ".py",
   "mimetype": "text/x-python",
   "name": "python",
   "nbconvert_exporter": "python",
   "pygments_lexer": "ipython3",
   "version": "3.10.14"
  }
 },
 "nbformat": 4,
 "nbformat_minor": 5
}
