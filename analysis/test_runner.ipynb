{
 "cells": [
  {
   "cell_type": "code",
   "execution_count": 1,
   "id": "2a837d78-5dff-48d9-9753-37e382d9f7b6",
   "metadata": {},
   "outputs": [
    {
     "name": "stdout",
     "output_type": "stream",
     "text": [
      "MainProcess\n"
     ]
    }
   ],
   "source": [
    "import torch\n",
    "import torch.nn as nn\n",
    "import torch.optim as optim\n",
    "import torchvision\n",
    "import torchvision.transforms as transforms\n",
    "import sys\n",
    "sys.path.append('d:/flagellar/code/core')\n",
    "sys.path.append('/flagellar/code/core/')\n",
    "sys.path.append('/kaggle/input/my-flagellar-library/')\n",
    "import flg_support as fls\n",
    "import flg_unet\n",
    "import flg_numerics\n",
    "import flg_model\n",
    "import flg_yolo\n",
    "import flg_runner\n",
    "import importlib\n",
    "import numpy as np\n",
    "import matplotlib.pyplot as plt\n",
    "import time\n",
    "import copy\n",
    "import os"
   ]
  },
  {
   "cell_type": "code",
   "execution_count": null,
   "id": "99b73df3-5b8c-4c70-aaf5-7be5298619d9",
   "metadata": {},
   "outputs": [
    {
     "name": "stdout",
     "output_type": "stream",
     "text": [
      "(400,) (327,)\n",
      "{'seed': 0, 'scale_percentile_value': 3.5478467492858172, 'img_size': 512, 'model_name': 'yolov8m', 'box_size': 20, 'trust': 0, 'fix_norm_bug': False, 'weight_decay': 0.0008132702392002724, 'hsv_h': 0.015, 'hsv_s': 0.0, 'hsv_v': 0.0, 'translate': 0.1, 'scale': 0.6545506966514377, 'fliplr': 0.0, 'flipud': 0.5, 'degrees': 0, 'shear': 0.0, 'mosaic': 0.0, 'mixup': 0.2, 'erasing': 0.4, 'use_albumentations': False}\n",
      "(400,) (327,)\n",
      "{'seed': 1, 'scale_percentile_value': 3.047286498801027, 'img_size': 576, 'model_name': 'yolo11m', 'box_size': 16, 'trust': 0, 'fix_norm_bug': True, 'weight_decay': 0.00031183145201048545, 'hsv_h': 0.0, 'hsv_s': 0.7, 'hsv_v': 0.0, 'translate': 0.1, 'scale': 0.019291379270147856, 'fliplr': 0.5, 'flipud': 0.5, 'degrees': 0, 'shear': 0.0, 'mosaic': 0.0, 'mixup': 0.0, 'erasing': 0.0, 'use_albumentations': False}\n"
     ]
    }
   ],
   "source": [
    "importlib.reload(flg_runner)\n",
    "for i in range(50):\n",
    "    r = flg_runner.baseline_runner(fast_mode=True)\n",
    "    r.train_in_subprocess = True\n",
    "    r.seed = i\n",
    "    r.run()"
   ]
  },
  {
   "cell_type": "code",
   "execution_count": null,
   "id": "c08372e7-1f83-4b16-9885-547364d45e3a",
   "metadata": {},
   "outputs": [],
   "source": [
    "r.inferred_test_data"
   ]
  },
  {
   "cell_type": "code",
   "execution_count": null,
   "id": "6a575e22-60c5-4216-9046-dd4f64963930",
   "metadata": {},
   "outputs": [],
   "source": []
  }
 ],
 "metadata": {
  "kaggle": {
   "accelerator": "nvidiaTeslaT4",
   "dataSources": [
    {
     "databundleVersionId": 11294684,
     "isSourceIdPinned": false,
     "sourceId": 91249,
     "sourceType": "competition"
    },
    {
     "datasetId": 6925042,
     "sourceId": 11204341,
     "sourceType": "datasetVersion"
    },
    {
     "datasetId": 6949538,
     "sourceId": 11204343,
     "sourceType": "datasetVersion"
    },
    {
     "sourceId": 211097053,
     "sourceType": "kernelVersion"
    },
    {
     "sourceId": 229283084,
     "sourceType": "kernelVersion"
    }
   ],
   "dockerImageVersionId": 30919,
   "isGpuEnabled": true,
   "isInternetEnabled": false,
   "language": "python",
   "sourceType": "notebook"
  },
  "kernelspec": {
   "display_name": "Python 3 (ipykernel)",
   "language": "python",
   "name": "python3"
  },
  "language_info": {
   "codemirror_mode": {
    "name": "ipython",
    "version": 3
   },
   "file_extension": ".py",
   "mimetype": "text/x-python",
   "name": "python",
   "nbconvert_exporter": "python",
   "pygments_lexer": "ipython3",
   "version": "3.10.14"
  }
 },
 "nbformat": 4,
 "nbformat_minor": 5
}
