{
 "cells": [
  {
   "cell_type": "code",
   "execution_count": 64,
   "id": "e0b4b630-bd17-4d7f-97ef-001707dcf970",
   "metadata": {},
   "outputs": [
    {
     "name": "stdout",
     "output_type": "stream",
     "text": [
      "MainProcess\n"
     ]
    }
   ],
   "source": [
    "import sys\n",
    "sys.path.append('d:/flagellar/code/core')\n",
    "sys.path.append('/kaggle/code/core')\n",
    "sys.path.append('/kaggle/input/my-flg-library/')\n",
    "import flg_support as fls\n",
    "import importlib\n",
    "import numpy as np\n",
    "import flg_diagnostics\n",
    "import flg_numerics\n",
    "import flg_preprocess\n",
    "import matplotlib.pyplot as plt\n",
    "importlib.reload(fls);\n",
    "fls.profiling=False"
   ]
  },
  {
   "cell_type": "code",
   "execution_count": null,
   "id": "d39004c3-4910-4eb4-bc6a-e8374a009dfc",
   "metadata": {},
   "outputs": [],
   "source": [
    "importlib.reload(flg_diagnostics)\n",
    "importlib.reload(flg_numerics)\n",
    "importlib.reload(flg_preprocess)\n",
    "dat = fls.load_all_train_data()\n",
    "np.random.default_rng(seed=0).shuffle(dat)\n",
    "flg_diagnostics.animate_labels_full_slice(dat[:20], 5)"
   ]
  },
  {
   "cell_type": "code",
   "execution_count": null,
   "id": "4641a4ef-746c-4cb7-a3c2-52581a4976a4",
   "metadata": {},
   "outputs": [],
   "source": [
    "importlib.reload(flg_diagnostics)\n",
    "importlib.reload(flg_numerics)\n",
    "importlib.reload(flg_preprocess)\n",
    "dat = fls.load_all_train_data()\n",
    "np.random.default_rng(seed=0).shuffle(dat)\n",
    "flg_diagnostics.animate_labels_full_slice(dat[:20], 1)"
   ]
  },
  {
   "cell_type": "code",
   "execution_count": null,
   "id": "f88a9d93-b106-4457-8140-494ae3508479",
   "metadata": {},
   "outputs": [
    {
     "name": "stdout",
     "output_type": "stream",
     "text": [
      "z0 2x\n"
     ]
    },
    {
     "ename": "AssertionError",
     "evalue": "",
     "output_type": "error",
     "traceback": [
      "\u001b[1;31m---------------------------------------------------------------------------\u001b[0m",
      "\u001b[1;31mAssertionError\u001b[0m                            Traceback (most recent call last)",
      "Cell \u001b[1;32mIn[62], line 6\u001b[0m\n\u001b[0;32m      4\u001b[0m dat \u001b[38;5;241m=\u001b[39m fls\u001b[38;5;241m.\u001b[39mload_all_extra_data()\n\u001b[0;32m      5\u001b[0m np\u001b[38;5;241m.\u001b[39mrandom\u001b[38;5;241m.\u001b[39mdefault_rng(seed\u001b[38;5;241m=\u001b[39m\u001b[38;5;241m0\u001b[39m)\u001b[38;5;241m.\u001b[39mshuffle(dat)\n\u001b[1;32m----> 6\u001b[0m \u001b[43mflg_diagnostics\u001b[49m\u001b[38;5;241;43m.\u001b[39;49m\u001b[43manimate_labels_full_slice\u001b[49m\u001b[43m(\u001b[49m\u001b[43mdat\u001b[49m\u001b[43m[\u001b[49m\u001b[43m:\u001b[49m\u001b[38;5;241;43m20\u001b[39;49m\u001b[43m]\u001b[49m\u001b[43m,\u001b[49m\u001b[43m \u001b[49m\u001b[38;5;241;43m5\u001b[39;49m\u001b[43m)\u001b[49m\n",
      "File \u001b[1;32md:\\flagellar/code/core\\flg_diagnostics.py:90\u001b[0m, in \u001b[0;36manimate_labels_full_slice\u001b[1;34m(data_list, z_size)\u001b[0m\n\u001b[0;32m     88\u001b[0m prep\u001b[38;5;241m.\u001b[39mreturn_uint8 \u001b[38;5;241m=\u001b[39m \u001b[38;5;28;01mTrue\u001b[39;00m\n\u001b[0;32m     89\u001b[0m \u001b[38;5;66;03m#prep.moving_ratio = 0.3\u001b[39;00m\n\u001b[1;32m---> 90\u001b[0m \u001b[43mprep\u001b[49m\u001b[38;5;241;43m.\u001b[39;49m\u001b[43mload_and_preprocess\u001b[49m\u001b[43m(\u001b[49m\u001b[43mdat\u001b[49m\u001b[43m,\u001b[49m\u001b[43m \u001b[49m\u001b[43mdesired_original_slices\u001b[49m\u001b[43m \u001b[49m\u001b[38;5;241;43m=\u001b[39;49m\u001b[43m \u001b[49m\u001b[43mdesired_slices\u001b[49m\u001b[43m)\u001b[49m\n\u001b[0;32m     91\u001b[0m mat \u001b[38;5;241m=\u001b[39m np\u001b[38;5;241m.\u001b[39mpad(dat\u001b[38;5;241m.\u001b[39mdata, ((\u001b[38;5;241m0\u001b[39m,\u001b[38;5;241m0\u001b[39m), (\u001b[38;5;241m0\u001b[39m,\u001b[38;5;28mmax\u001b[39m(\u001b[38;5;241m0\u001b[39m,\u001b[38;5;241m320\u001b[39m\u001b[38;5;241m-\u001b[39mdat\u001b[38;5;241m.\u001b[39mdata\u001b[38;5;241m.\u001b[39mshape[\u001b[38;5;241m1\u001b[39m])), (\u001b[38;5;241m0\u001b[39m,\u001b[38;5;28mmax\u001b[39m(\u001b[38;5;241m0\u001b[39m,\u001b[38;5;241m320\u001b[39m\u001b[38;5;241m-\u001b[39mdat\u001b[38;5;241m.\u001b[39mdata\u001b[38;5;241m.\u001b[39mshape[\u001b[38;5;241m2\u001b[39m]))))\n\u001b[0;32m     93\u001b[0m dat \u001b[38;5;241m=\u001b[39m copy\u001b[38;5;241m.\u001b[39mdeepcopy(d)          \n",
      "File \u001b[1;32md:\\flagellar/code/core\\flg_preprocess.py:55\u001b[0m, in \u001b[0;36mPreprocessor.load_and_preprocess\u001b[1;34m(self, data, desired_original_slices)\u001b[0m\n\u001b[0;32m     53\u001b[0m \u001b[38;5;28;01mdef\u001b[39;00m \u001b[38;5;21mload_and_preprocess\u001b[39m(\u001b[38;5;28mself\u001b[39m, data, desired_original_slices \u001b[38;5;241m=\u001b[39m \u001b[38;5;28;01mNone\u001b[39;00m):\n\u001b[1;32m---> 55\u001b[0m     \u001b[43mdata\u001b[49m\u001b[38;5;241;43m.\u001b[39;49m\u001b[43mload_to_memory\u001b[49m\u001b[43m(\u001b[49m\u001b[43mdesired_slices\u001b[49m\u001b[43m \u001b[49m\u001b[38;5;241;43m=\u001b[39;49m\u001b[43m \u001b[49m\u001b[43mdesired_original_slices\u001b[49m\u001b[43m,\u001b[49m\u001b[43m \u001b[49m\u001b[43mpad_to_original_size\u001b[49m\u001b[43m \u001b[49m\u001b[38;5;241;43m=\u001b[39;49m\u001b[43m \u001b[49m\u001b[38;5;28;43mself\u001b[39;49m\u001b[38;5;241;43m.\u001b[39;49m\u001b[43mpad_to_original_size\u001b[49m\u001b[43m)\u001b[49m\n\u001b[0;32m     57\u001b[0m     fls\u001b[38;5;241m.\u001b[39mclaim_gpu(\u001b[38;5;124m'\u001b[39m\u001b[38;5;124mcupy\u001b[39m\u001b[38;5;124m'\u001b[39m)\n\u001b[0;32m     58\u001b[0m     \u001b[38;5;28;01mwhile\u001b[39;00m \u001b[38;5;28;01mTrue\u001b[39;00m:\n",
      "File \u001b[1;32md:\\flagellar/code/core\\flg_support.py:343\u001b[0m, in \u001b[0;36mDataExtra.load_to_memory\u001b[1;34m(self, desired_slices, pad_to_original_size)\u001b[0m\n\u001b[0;32m    340\u001b[0m             \u001b[38;5;28mself\u001b[39m\u001b[38;5;241m.\u001b[39mdata[ind_internal,:,:] \u001b[38;5;241m=\u001b[39m img\n\u001b[0;32m    341\u001b[0m             n_done \u001b[38;5;241m+\u001b[39m\u001b[38;5;241m=\u001b[39m \u001b[38;5;241m1\u001b[39m\n\u001b[1;32m--> 343\u001b[0m     \u001b[38;5;28;01massert\u001b[39;00m n_done \u001b[38;5;241m==\u001b[39m \u001b[38;5;28mlen\u001b[39m(desired_slices)\n\u001b[0;32m    344\u001b[0m     \u001b[38;5;28mself\u001b[39m\u001b[38;5;241m.\u001b[39mslices_present \u001b[38;5;241m=\u001b[39m desired_slices\n\u001b[0;32m    346\u001b[0m \u001b[38;5;28mself\u001b[39m\u001b[38;5;241m.\u001b[39mloaded_state \u001b[38;5;241m=\u001b[39m \u001b[38;5;124m'\u001b[39m\u001b[38;5;124mmemory\u001b[39m\u001b[38;5;124m'\u001b[39m\n",
      "\u001b[1;31mAssertionError\u001b[0m: "
     ]
    }
   ],
   "source": [
    "importlib.reload(flg_diagnostics)\n",
    "importlib.reload(flg_numerics)\n",
    "importlib.reload(flg_preprocess)\n",
    "dat = fls.load_all_extra_data()\n",
    "np.random.default_rng(seed=0).shuffle(dat)\n",
    "flg_diagnostics.animate_labels_full_slice(dat[:20], 5)"
   ]
  },
  {
   "cell_type": "code",
   "execution_count": null,
   "id": "65a992fc-d383-4477-b0bc-f4ea757ee815",
   "metadata": {},
   "outputs": [],
   "source": []
  }
 ],
 "metadata": {
  "kernelspec": {
   "display_name": "Python 3 (ipykernel)",
   "language": "python",
   "name": "python3"
  },
  "language_info": {
   "codemirror_mode": {
    "name": "ipython",
    "version": 3
   },
   "file_extension": ".py",
   "mimetype": "text/x-python",
   "name": "python",
   "nbconvert_exporter": "python",
   "pygments_lexer": "ipython3",
   "version": "3.10.14"
  }
 },
 "nbformat": 4,
 "nbformat_minor": 5
}
