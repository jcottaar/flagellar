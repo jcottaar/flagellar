{
 "cells": [
  {
   "cell_type": "code",
   "execution_count": 2,
   "id": "e0b4b630-bd17-4d7f-97ef-001707dcf970",
   "metadata": {},
   "outputs": [
    {
     "name": "stdout",
     "output_type": "stream",
     "text": [
      "arrayclass: N 24, k 10, strength 2, s {4,2,2,2,2,2,2,2,2,2}, order 0\n",
      "2\n",
      "3\n",
      "4\n",
      "5\n",
      "6\n",
      "7\n",
      "8\n",
      "extend_array: ERROR: running out of memory! extensions.size() 2796203, ad->N 24\n",
      "row symmetry group of array: \n",
      "symmetry group: 24 elements, 24 subgroups: 1 1 1 1 1 1 1 1 1 1 1 1 1 1 1 1 1 1 1 1 1 1 1 1 \n"
     ]
    },
    {
     "ename": "RuntimeError",
     "evalue": "number of extensions too large",
     "output_type": "error",
     "traceback": [
      "\u001b[1;31m---------------------------------------------------------------------------\u001b[0m",
      "\u001b[1;31mRuntimeError\u001b[0m                              Traceback (most recent call last)",
      "\u001b[1;32m~\\AppData\\Local\\Temp\\ipykernel_9984\\4154453538.py\u001b[0m in \u001b[0;36m?\u001b[1;34m()\u001b[0m\n\u001b[0;32m     23\u001b[0m \u001b[1;33m\u001b[0m\u001b[0m\n\u001b[0;32m     24\u001b[0m \u001b[1;31m# 4) Iteratively extend to all 10 columns\u001b[0m\u001b[1;33m\u001b[0m\u001b[1;33m\u001b[0m\u001b[0m\n\u001b[0;32m     25\u001b[0m \u001b[1;32mfor\u001b[0m \u001b[0mcol\u001b[0m \u001b[1;32min\u001b[0m \u001b[0mrange\u001b[0m\u001b[1;33m(\u001b[0m\u001b[1;36m2\u001b[0m\u001b[1;33m,\u001b[0m \u001b[0mnum_factors\u001b[0m\u001b[1;33m)\u001b[0m\u001b[1;33m:\u001b[0m\u001b[1;33m\u001b[0m\u001b[1;33m\u001b[0m\u001b[0m\n\u001b[0;32m     26\u001b[0m     \u001b[0mprint\u001b[0m\u001b[1;33m(\u001b[0m\u001b[0mcol\u001b[0m\u001b[1;33m)\u001b[0m\u001b[1;33m\u001b[0m\u001b[1;33m\u001b[0m\u001b[0m\n\u001b[1;32m---> 27\u001b[1;33m     \u001b[0marray_list\u001b[0m \u001b[1;33m=\u001b[0m \u001b[0moapackage\u001b[0m\u001b[1;33m.\u001b[0m\u001b[0mextend_arraylist\u001b[0m\u001b[1;33m(\u001b[0m\u001b[0marray_list\u001b[0m\u001b[1;33m,\u001b[0m \u001b[0marrayclass\u001b[0m\u001b[1;33m)\u001b[0m\u001b[1;33m\u001b[0m\u001b[1;33m\u001b[0m\u001b[0m\n\u001b[0m\u001b[0;32m     28\u001b[0m \u001b[1;33m\u001b[0m\u001b[0m\n\u001b[0;32m     29\u001b[0m \u001b[1;31m# 5) Display the first completed OA\u001b[0m\u001b[1;33m\u001b[0m\u001b[1;33m\u001b[0m\u001b[0m\n\u001b[0;32m     30\u001b[0m \u001b[0moa\u001b[0m \u001b[1;33m=\u001b[0m \u001b[0marray_list\u001b[0m\u001b[1;33m[\u001b[0m\u001b[1;36m0\u001b[0m\u001b[1;33m]\u001b[0m\u001b[1;33m\u001b[0m\u001b[1;33m\u001b[0m\u001b[0m\n",
      "\u001b[1;32m~\\anaconda3\\envs\\jupyterlab-debugger2\\lib\\site-packages\\oalib.py\u001b[0m in \u001b[0;36m?\u001b[1;34m(*args)\u001b[0m\n\u001b[0;32m   7137\u001b[0m     \u001b[1;33m-\u001b[0m\u001b[1;33m-\u001b[0m\u001b[1;33m-\u001b[0m\u001b[1;33m-\u001b[0m\u001b[1;33m-\u001b[0m\u001b[1;33m-\u001b[0m\u001b[1;33m-\u001b[0m\u001b[1;33m\u001b[0m\u001b[1;33m\u001b[0m\u001b[0m\n\u001b[0;32m   7138\u001b[0m     \u001b[0mNumber\u001b[0m \u001b[0mof\u001b[0m \u001b[0mcandidate\u001b[0m \u001b[0marrays\u001b[0m \u001b[0mgenerated\u001b[0m\u001b[1;33m\u001b[0m\u001b[1;33m\u001b[0m\u001b[0m\n\u001b[0;32m   7139\u001b[0m \u001b[1;33m\u001b[0m\u001b[0m\n\u001b[0;32m   7140\u001b[0m     \"\"\"\n\u001b[1;32m-> 7141\u001b[1;33m     \u001b[1;32mreturn\u001b[0m \u001b[0m_oalib\u001b[0m\u001b[1;33m.\u001b[0m\u001b[0mextend_arraylist\u001b[0m\u001b[1;33m(\u001b[0m\u001b[1;33m*\u001b[0m\u001b[0margs\u001b[0m\u001b[1;33m)\u001b[0m\u001b[1;33m\u001b[0m\u001b[1;33m\u001b[0m\u001b[0m\n\u001b[0m",
      "\u001b[1;31mRuntimeError\u001b[0m: number of extensions too large"
     ]
    }
   ],
   "source": [
    "# First, install OApackage if you haven't already:\n",
    "#    pip install OApackage\n",
    "\n",
    "import oapackage\n",
    "\n",
    "# 1) Define the array parameters\n",
    "run_size        = 24\n",
    "strength        = 2\n",
    "factor_levels   = [4] + [2]*9       # one 4-level factor, nine 2-level factors\n",
    "num_factors     = len(factor_levels)\n",
    "\n",
    "# 2) Create an OA “class” describing the design\n",
    "arrayclass = oapackage.arraydata_t(\n",
    "    factor_levels,    # levels-per-factor\n",
    "    run_size,         # number of runs\n",
    "    strength,         # strength (t)\n",
    "    num_factors       # total number of factors\n",
    ")\n",
    "print(arrayclass)    # prints: arrayclass: N 16, k 10, strength 2, s {4,2,2,2,2,2,2,2,2,2}:contentReference[oaicite:0]{index=0}\n",
    "\n",
    "# 3) Start from the “root” arrays (just the first column)\n",
    "array_list = [arrayclass.create_root()]\n",
    "\n",
    "# 4) Iteratively extend to all 10 columns\n",
    "for col in range(2, num_factors):\n",
    "    print(col)\n",
    "    array_list = oapackage.extend_arraylist(array_list, arrayclass)\n",
    "\n",
    "# 5) Display the first completed OA\n",
    "oa = array_list[0]\n",
    "print(\"Mixed-level OA (first solution):\")\n",
    "oa.showarraycompact()  # each row is one 16-run experiment:contentReference[oaicite:1]{index=1}"
   ]
  },
  {
   "cell_type": "code",
   "execution_count": null,
   "id": "fe51997b-88fa-425c-9205-fecdc4e035ed",
   "metadata": {},
   "outputs": [],
   "source": []
  }
 ],
 "metadata": {
  "kernelspec": {
   "display_name": "Python 3 (ipykernel)",
   "language": "python",
   "name": "python3"
  },
  "language_info": {
   "codemirror_mode": {
    "name": "ipython",
    "version": 3
   },
   "file_extension": ".py",
   "mimetype": "text/x-python",
   "name": "python",
   "nbconvert_exporter": "python",
   "pygments_lexer": "ipython3",
   "version": "3.10.14"
  }
 },
 "nbformat": 4,
 "nbformat_minor": 5
}
