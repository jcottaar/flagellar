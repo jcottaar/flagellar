{
 "cells": [
  {
   "cell_type": "code",
   "execution_count": 1,
   "id": "7671dcd6-8cb6-45d2-ac2c-2d0ca5fffbd7",
   "metadata": {},
   "outputs": [],
   "source": [
    "import torch\n",
    "import torch.nn as nn\n",
    "import torch.optim as optim\n",
    "import torchvision\n",
    "import torchvision.transforms as transforms\n",
    "import sys\n",
    "sys.path.append('d:/flagellar/code/core')\n",
    "sys.path.append('/flagellar/code/core/')\n",
    "sys.path.append('/kaggle/input/my-flg-library/')\n",
    "import flg_support as fls\n",
    "import flg_unet\n",
    "import flg_numerics\n",
    "import flg_model\n",
    "import importlib\n",
    "import numpy as np\n",
    "import matplotlib.pyplot as plt\n",
    "import time\n",
    "import copy\n",
    "\n",
    "fast_mode = False"
   ]
  },
  {
   "cell_type": "code",
   "execution_count": 2,
   "id": "62eebc02-57b9-4d36-8a14-37ce6cc12eae",
   "metadata": {},
   "outputs": [
    {
     "data": {
      "text/plain": [
       "(444, 200)"
      ]
     },
     "execution_count": 2,
     "metadata": {},
     "output_type": "execute_result"
    }
   ],
   "source": [
    "all_data = fls.load_all_train_data()\n",
    "np.random.default_rng(seed=0).shuffle(all_data)\n",
    "\n",
    "# Pick N tomograms with 1 motor and N tomograms with 0 motors as validation set\n",
    "N=100\n",
    "n_motors = np.array([len(d.labels) for d in all_data])\n",
    "inds_zero = np.argwhere(n_motors==0)[:N,0]\n",
    "inds_one = np.argwhere(n_motors==1)[:N,0]\n",
    "inds_test = np.concatenate((inds_zero,inds_one))\n",
    "inds_train = np.setdiff1d(np.arange(len(n_motors)), inds_test)\n",
    "inds_test.shape, inds_train.shape\n",
    "\n",
    "train_data = []\n",
    "for i in inds_train:\n",
    "    train_data.append(all_data[i])\n",
    "test_data = []\n",
    "for i in inds_test:\n",
    "    test_data.append(all_data[i])\n",
    "np.random.default_rng(seed=0).shuffle(test_data)\n",
    "test_data = test_data\n",
    "if fast_mode:\n",
    "    test_data = test_data[1:3]\n",
    "len(train_data), len(test_data)"
   ]
  },
  {
   "cell_type": "code",
   "execution_count": null,
   "id": "5282cd2c-916b-4b30-8f62-8fdf103cc8cf",
   "metadata": {},
   "outputs": [
    {
     "name": "stdout",
     "output_type": "stream",
     "text": [
      "ii 2\n",
      "0 1 2 3 4 5 6 7 8 9 10 11 12 13 14 "
     ]
    }
   ],
   "source": [
    "#importlib.reload(flg_unet)\n",
    "N=5\n",
    "if fast_mode: N=1\n",
    "for ii in [2,3,4]:\n",
    "    print('ii', ii)\n",
    "    model = flg_model.ThreeStepModel()\n",
    "    #model.step1Heatmap.plot_every = 50\n",
    "    if fast_mode: model.step1Heatmap.n_epochs = 3\n",
    "    model.step2Labels.threshold = -2.\n",
    "    model.train(train_data, test_data)\n",
    "    print(' ')\n",
    "    inferred_test_data = model.infer(test_data)\n",
    "    print(fls.score_competition_metric(inferred_test_data, test_data))\n",
    "    if not fast_mode:\n",
    "        fls.dill_save(fls.model_dir + 'model_voxelbug' + str(ii) + '.pickle', (model, fls.score_competition_metric(inferred_test_data, test_data)))\n",
    "    plt.title(str(ii))\n",
    "    plt.pause(0.1)"
   ]
  },
  {
   "cell_type": "code",
   "execution_count": null,
   "id": "e71a0b23-8ae9-4db2-a4ac-da26bd5654da",
   "metadata": {},
   "outputs": [],
   "source": [
    "model.infer(fls.load_all_test_data()[1:3])"
   ]
  },
  {
   "cell_type": "code",
   "execution_count": null,
   "id": "27f9ca41-0c8b-45ad-be66-aecf16ed1fa3",
   "metadata": {},
   "outputs": [],
   "source": []
  }
 ],
 "metadata": {
  "kernelspec": {
   "display_name": "Python 3 (ipykernel)",
   "language": "python",
   "name": "python3"
  },
  "language_info": {
   "codemirror_mode": {
    "name": "ipython",
    "version": 3
   },
   "file_extension": ".py",
   "mimetype": "text/x-python",
   "name": "python",
   "nbconvert_exporter": "python",
   "pygments_lexer": "ipython3",
   "version": "3.10.14"
  }
 },
 "nbformat": 4,
 "nbformat_minor": 5
}
