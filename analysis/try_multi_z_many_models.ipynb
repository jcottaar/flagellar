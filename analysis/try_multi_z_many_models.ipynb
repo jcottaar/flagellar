{
 "cells": [
  {
   "cell_type": "code",
   "execution_count": 1,
   "id": "317f7166-62e2-4974-9f8c-f210ce157203",
   "metadata": {},
   "outputs": [
    {
     "name": "stdout",
     "output_type": "stream",
     "text": [
      "MainProcess\n"
     ]
    },
    {
     "data": {
      "text/plain": [
       "<matplotlib.collections.PathCollection at 0x1592219fd00>"
      ]
     },
     "execution_count": 1,
     "metadata": {},
     "output_type": "execute_result"
    },
    {
     "data": {
      "image/png": "[encoded data removed]",
      "text/plain": [
       "<Figure size 640x480 with 1 Axes>"
      ]
     },
     "metadata": {},
     "output_type": "display_data"
    }
   ],
   "source": [
    "import sys\n",
    "sys.path.append('d:/flagellar/code/core')\n",
    "sys.path.append('/flagellar/code/core')\n",
    "sys.path.append('/kaggle/input/my-flg-library/')\n",
    "import flg_support as fls\n",
    "import importlib\n",
    "import numpy as np\n",
    "import flg_diagnostics\n",
    "import flg_numerics\n",
    "import matplotlib.pyplot as plt\n",
    "import glob\n",
    "import copy\n",
    "import flg_preprocess\n",
    "import os\n",
    "import flg_model\n",
    "fls.profiling=False\n",
    "plt.scatter([0,1],[1,2])\n",
    "#fls.download_kaggle_dataset('jeroencottaar/byu-many-models-2/', fls.result_dir + '/many_full_res/')"
   ]
  },
  {
   "cell_type": "code",
   "execution_count": 2,
   "id": "eae56bd8-caad-46b3-a6fd-584a9cfc8c5a",
   "metadata": {},
   "outputs": [],
   "source": [
    "# import shutil\n",
    "# res_dir = fls.result_dir + '/many_full_res/'\n",
    "# temp_dir = fls.temp_dir + '/temptemp/'\n",
    "# fls.remove_and_make_dir(res_dir)\n",
    "# fls.remove_and_make_dir(temp_dir)\n",
    "# fls.download_kaggle_dataset('jeroencottaar/byu-many-models/', temp_dir)\n",
    "# shutil.copytree(temp_dir, res_dir, dirs_exist_ok=True)\n",
    "# fls.download_kaggle_dataset('jeroencottaar/byu-many-models-2/', temp_dir)\n",
    "# shutil.copytree(temp_dir, res_dir, dirs_exist_ok=True)\n",
    "# fls.download_kaggle_dataset('jeroencottaar/byu-many-models-3/', temp_dir)\n",
    "# shutil.copytree(temp_dir, res_dir, dirs_exist_ok=True)"
   ]
  },
  {
   "cell_type": "code",
   "execution_count": 3,
   "id": "758650f7-df3d-4e50-857a-b8d2c213fafa",
   "metadata": {},
   "outputs": [
    {
     "name": "stdout",
     "output_type": "stream",
     "text": [
      "d:/flagellar/results/many_full_res\\Baseline_0_5c5f4bbd_901 _f.pickle 1 4\n",
      "0.96 (0.5072463768115942, 0.875, 0.7641921397379913)\n",
      "0.965 (0.5321637426900585, 0.91, 0.7968476357267951)\n",
      "0.965 (0.530791788856305, 0.905, 0.7931638913234005)\n",
      "0.965 (0.530791788856305, 0.905, 0.7931638913234005)\n",
      "0.965 (0.5294117647058824, 0.9, 0.7894736842105263)\n",
      "d:/flagellar/results/many_full_res\\Baseline_1000_5c5f4bbd_935 _f.pickle 2 4\n",
      "0.995 (0.5626822157434402, 0.965, 0.8442694663167104)\n",
      "0.98 (0.5588235294117647, 0.95, 0.8333333333333334)\n",
      "0.995 (0.5652173913043478, 0.975, 0.851528384279476)\n",
      "0.995 (0.563953488372093, 0.97, 0.8479020979020979)\n",
      "0.995 (0.563953488372093, 0.97, 0.8479020979020979)\n",
      "d:/flagellar/results/many_full_res\\Baseline_1001_5c5f4bbd_92 _f.pickle 1 4\n",
      "0.98 (0.5375722543352601, 0.93, 0.8115183246073299)\n",
      "0.97 (0.5362318840579711, 0.925, 0.8078602620087336)\n",
      "0.965 (0.5335276967930029, 0.915, 0.800524934383202)\n",
      "0.97 (0.5335276967930029, 0.915, 0.800524934383202)\n",
      "0.97 (0.5335276967930029, 0.915, 0.800524934383202)\n",
      "d:/flagellar/results/many_full_res\\Baseline_1002_5c5f4bbd_904 _f.pickle 1 1\n",
      "0.965 (0.5362318840579711, 0.925, 0.8078602620087336)\n",
      "0.965 (0.530791788856305, 0.905, 0.7931638913234005)\n",
      "0.97 (0.5362318840579711, 0.925, 0.8078602620087336)\n",
      "0.97 (0.5375722543352601, 0.93, 0.8115183246073299)\n",
      "0.97 (0.5375722543352601, 0.93, 0.8115183246073299)\n",
      "d:/flagellar/results/many_full_res\\Baseline_1_5c5f4bbd_930 _f.pickle 2 4\n",
      "0.99 (0.5601173020527859, 0.955, 0.8369851007887817)\n",
      "0.995 (0.563953488372093, 0.97, 0.8479020979020979)\n",
      "0.995 (0.5652173913043478, 0.975, 0.851528384279476)\n",
      "0.995 (0.5664739884393064, 0.98, 0.8551483420593369)\n",
      "0.995 (0.5664739884393064, 0.98, 0.8551483420593369)\n",
      "d:/flagellar/results/many_full_res\\Baseline_2000_5c5f4bbd_93 _f.pickle 2 4\n",
      "0.995 (0.5402298850574713, 0.94, 0.818815331010453)\n",
      "0.995 (0.5614035087719298, 0.96, 0.840630472854641)\n",
      "0.995 (0.5614035087719298, 0.96, 0.840630472854641)\n",
      "0.995 (0.5614035087719298, 0.96, 0.840630472854641)\n",
      "0.995 (0.5614035087719298, 0.96, 0.840630472854641)\n",
      "d:/flagellar/results/many_full_res\\Baseline_2001_5c5f4bbd_912 _f.pickle 1 1\n",
      "0.985 (0.5375722543352601, 0.93, 0.8115183246073299)\n",
      "0.985 (0.5402298850574713, 0.94, 0.818815331010453)\n",
      "0.99 (0.5415472779369628, 0.945, 0.8224543080939948)\n",
      "0.99 (0.5588235294117647, 0.95, 0.8333333333333334)\n",
      "0.99 (0.5588235294117647, 0.95, 0.8333333333333334)\n",
      "d:/flagellar/results/many_full_res\\Baseline_2002_5c5f4bbd_917 _f.pickle 2 4\n",
      "0.975 (0.5601173020527859, 0.955, 0.8369851007887817)\n",
      "0.98 (0.5614035087719298, 0.96, 0.840630472854641)\n",
      "0.98 (0.5626822157434402, 0.965, 0.8442694663167104)\n",
      "0.98 (0.563953488372093, 0.97, 0.8479020979020979)\n",
      "0.985 (0.5652173913043478, 0.975, 0.851528384279476)\n",
      "d:/flagellar/results/many_full_res\\Baseline_2003_5c5f4bbd_925 _f.pickle 2 1\n",
      "0.99 (0.5389048991354467, 0.935, 0.8151700087183958)\n",
      "0.965 (0.5348837209302325, 0.92, 0.8041958041958042)\n",
      "0.985 (0.5402298850574713, 0.94, 0.818815331010453)\n",
      "0.985 (0.5575221238938053, 0.945, 0.8296751536435469)\n",
      "0.995 (0.5601173020527859, 0.955, 0.8369851007887817)\n",
      "d:/flagellar/results/many_full_res\\Baseline_2_5c5f4bbd_899 _f.pickle 1 1\n",
      "0.96 (0.5321637426900585, 0.91, 0.7968476357267951)\n",
      "0.98 (0.5402298850574713, 0.94, 0.818815331010453)\n",
      "0.975 (0.5415472779369628, 0.945, 0.8224543080939948)\n",
      "0.975 (0.5415472779369628, 0.945, 0.8224543080939948)\n",
      "0.975 (0.5415472779369628, 0.945, 0.8224543080939948)\n",
      "d:/flagellar/results/many_full_res\\Baseline_3_5c5f4bbd_881 _f.pickle 1 1\n",
      "0.965 (0.5, 0.85, 0.7456140350877193)\n",
      "0.955 (0.5029239766081871, 0.86, 0.7530647985989493)\n",
      "0.965 (0.5072463768115942, 0.875, 0.7641921397379913)\n",
      "0.965 (0.5086705202312138, 0.88, 0.7678883071553229)\n",
      "0.96 (0.5072463768115942, 0.875, 0.7641921397379913)\n"
     ]
    }
   ],
   "source": [
    "files = glob.glob(fls.result_dir + 'many_full_res/*.pickle')\n",
    "all_scores = []\n",
    "for f in files:\n",
    "    loaded_data = fls.dill_load(f)\n",
    "    test_data = loaded_data.test_data\n",
    "    #print(loaded_data.modifier_values)\n",
    "    base_model = copy.deepcopy(loaded_data.trained_model)\n",
    "    print(f, loaded_data.trained_model.step1Labels.concentration, loaded_data.trained_model.step1Labels.n_ensemble)\n",
    "    highest_false_score = []\n",
    "    real_score = []\n",
    "    data_list = []\n",
    "    for i_type in range(5):\n",
    "        base_model = copy.deepcopy(loaded_data.trained_model)\n",
    "        base_model.data_after_step2 = copy.deepcopy(loaded_data.inferred_test_data)\n",
    "        base_model.run_in_parallel=False\n",
    "        model = base_model\n",
    "        #model.step1Labels.n_epochs = 2\n",
    "        #m.step2Motors.distance_threshold = 10.\n",
    "        # if i_type == 0:\n",
    "        #     # baseline\n",
    "        #     pass     \n",
    "        # elif i_type==1:\n",
    "        #     # other seed\n",
    "        #     model.step1Labels.trained_model = loaded_data.trained_model.step1Labels.trained_model[1:2]\n",
    "        # elif i_type==2:\n",
    "        #     model.step1Labels.preprocessor.voxel_scale = 0.9\n",
    "        # elif i_type==3:\n",
    "        #     model.step1Labels.preprocessor.voxel_scale = 0.8\n",
    "        # elif i_type==4:\n",
    "        #     model.step1Labels.preprocessor.blur_xy *= 0.8\n",
    "        # elif i_type==5:\n",
    "        #     model.step1Labels.preprocessor.blur_xy *= 1.2   \n",
    "        # elif i_type==6:\n",
    "        #     model.step1Labels.preprocessor.clip_value = 2.5\n",
    "        # elif i_type==7:\n",
    "        #     model.step1Labels.preprocessor.clip_value = 3.5\n",
    "        # elif i_type==8:\n",
    "        #     model.step1Labels.preprocessor.apply_transpose = True\n",
    "        # elif i_type==9:\n",
    "        #     model.step1Labels.preprocessor.apply_flipud = True\n",
    "        if i_type == 0:\n",
    "            # conc1\n",
    "            pass\n",
    "        else:\n",
    "            model.step2Motors = flg_model.FindClustersMultiZ()\n",
    "            model.step2Motors.z_range = 2*i_type\n",
    "            #model.step2Motors.gamma= 0.5+0.1*(i_type-1)    \n",
    "        import io\n",
    "        import contextlib\n",
    "\n",
    "        with contextlib.redirect_stdout(io.StringIO()) as f:\n",
    "            inferred_data = model.infer(test_data)\n",
    "        #for d in inferred_data:\n",
    "        #    d.labels_unfiltered = d.labels_unfiltered2 \n",
    "        fls.mark_tf_pn(inferred_data, test_data)          \n",
    "        data_list.append(inferred_data)\n",
    "        this_highest_false_score = []\n",
    "        this_real_score = []\n",
    "        for i,r in zip(inferred_data, test_data):\n",
    "            false_positives = i.labels_unfiltered[i.labels_unfiltered['tf_pn']==1.]\n",
    "            if len(false_positives)>0:\n",
    "                this_highest_false_score.append(np.max(false_positives['confidence']))\n",
    "            else:\n",
    "                this_highest_false_score.append(0)\n",
    "            if len(r.labels)>0:\n",
    "                true_positives = i.labels_unfiltered[i.labels_unfiltered['tf_pn']==0.]\n",
    "                #print(true_positives)\n",
    "                if len(true_positives)>0:\n",
    "                    this_real_score.append(np.max(true_positives['confidence']))\n",
    "                else:\n",
    "                    this_real_score.append(0)\n",
    "        highest_false_score.append(this_highest_false_score)\n",
    "        real_score.append(this_real_score)\n",
    "    this_scores = []\n",
    "    for d in data_list:\n",
    "        n_corr=0\n",
    "        n_total=0\n",
    "        for i,r in zip(d,test_data):\n",
    "            if len(r.labels)>0:# and 'tom' in r.name:\n",
    "                n_total+=1\n",
    "                ind = np.argmax(i.labels_unfiltered['confidence'])\n",
    "                if (i.labels_unfiltered['tf_pn'].tolist()[ind])==0.:\n",
    "                    n_corr += 1\n",
    "        a,b = flg_diagnostics.expand_and_reinfer(d,test_data,model.step3Output.select_motors,0.7)\n",
    "        score = fls.score_competition_metric(a,b)\n",
    "        print(n_corr/n_total, score)\n",
    "        this_scores.append(score[2])\n",
    "    all_scores.append(this_scores)\n",
    "            #print(i.labels_unfiltered)\n",
    "        # i_baseline = 0\n",
    "        # for i_new in np.arange(1,len(highest_false_score)):\n",
    "        #     _,ax=plt.subplots(1,2,figsize=(10,5))\n",
    "        #     plt.sca(ax[0])\n",
    "        #     plt.scatter(highest_false_score[i_baseline], highest_false_score[i_new])\n",
    "        #     plt.xlabel('Highest false score baseline')\n",
    "        #     plt.ylabel('Highest false score new')\n",
    "        #     plt.grid(True)\n",
    "        #     plt.axline((0,0),slope=1)\n",
    "        #     plt.sca(ax[1])\n",
    "        #     plt.scatter(real_score[i_baseline], real_score[i_new])\n",
    "        #     plt.xlabel('True score baseline')\n",
    "        #     plt.ylabel('True score new')\n",
    "        #     plt.grid(True)\n",
    "        #     plt.axline((0,0),slope=1)\n",
    "        #     plt.suptitle(str(i_new))\n",
    "        "
   ]
  },
  {
   "cell_type": "code",
   "execution_count": 4,
   "id": "7455a3fd-7bf8-4df1-ae46-c7884e82d41f",
   "metadata": {},
   "outputs": [
    {
     "data": {
      "text/plain": [
       "<matplotlib.lines.AxLine at 0x159222b3040>"
      ]
     },
     "execution_count": 4,
     "metadata": {},
     "output_type": "execute_result"
    },
    {
     "data": {
      "image/png": "[encoded data removed]",
      "text/plain": [
       "<Figure size 640x480 with 1 Axes>"
      ]
     },
     "metadata": {},
     "output_type": "display_data"
    }
   ],
   "source": [
    "plt.scatter(np.array(all_scores)[:,0], np.array(all_scores)[:,3])\n",
    "plt.grid(True)\n",
    "plt.axline((1,1),slope=1,color='black')"
   ]
  },
  {
   "cell_type": "code",
   "execution_count": 5,
   "id": "90814707-dae5-4ebc-86f5-3051679dd7e8",
   "metadata": {},
   "outputs": [
    {
     "data": {
      "text/plain": [
       "(0.005953063765480013,\n",
       " 0.011604195725731964,\n",
       " 0.014578684896298393,\n",
       " 0.014901399350153584)"
      ]
     },
     "execution_count": 5,
     "metadata": {},
     "output_type": "execute_result"
    }
   ],
   "source": [
    "ass = np.array(all_scores)\n",
    "np.mean(ass[:,1] - ass[:,0]), np.mean(ass[:,2] - ass[:,0]), np.mean(ass[:,3] - ass[:,0]), np.mean(ass[:,4] - ass[:,0])"
   ]
  },
  {
   "cell_type": "code",
   "execution_count": null,
   "id": "a563a710-cd86-4c22-8a33-19f5ca02e61f",
   "metadata": {},
   "outputs": [],
   "source": []
  }
 ],
 "metadata": {
  "kernelspec": {
   "display_name": "Python 3 (ipykernel)",
   "language": "python",
   "name": "python3"
  },
  "language_info": {
   "codemirror_mode": {
    "name": "ipython",
    "version": 3
   },
   "file_extension": ".py",
   "mimetype": "text/x-python",
   "name": "python",
   "nbconvert_exporter": "python",
   "pygments_lexer": "ipython3",
   "version": "3.10.14"
  }
 },
 "nbformat": 4,
 "nbformat_minor": 5
}
