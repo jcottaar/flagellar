{
 "cells": [
  {
   "cell_type": "code",
   "execution_count": 1,
   "id": "88c803d3-dbf9-4f6b-ab20-346b717c312e",
   "metadata": {},
   "outputs": [],
   "source": [
    "import numpy as np\n",
    "def score(recall):\n",
    "    ratio_is_motor = 100/(900*0.3)\n",
    "    precision = recall*ratio_is_motor\n",
    "    return 5*precision*recall/(4*precision+recall)\n",
    "    print(precision)"
   ]
  },
  {
   "cell_type": "code",
   "execution_count": 2,
   "id": "3ce48046-e1a7-4333-900b-65365b163d4f",
   "metadata": {},
   "outputs": [],
   "source": [
    "r_vals = np.linspace(0,1,1000)\n",
    "r_vals[0] = 1e-10\n",
    "s_vals = [score(r) for r in r_vals]"
   ]
  },
  {
   "cell_type": "code",
   "execution_count": null,
   "id": "67e3038f-116c-4e5a-8b0e-3c048021a673",
   "metadata": {},
   "outputs": [],
   "source": [
    "import matplotlib.pyplot as plt\n",
    "plt.plot(s_vals, r_vals)\n",
    "plt.xlabel('Score')\n",
    "plt.ylabel('Recall')\n",
    "plt.grid(True)"
   ]
  },
  {
   "cell_type": "code",
   "execution_count": null,
   "id": "d2c4d6c3-1dae-4178-9c9e-d345c6e84e01",
   "metadata": {},
   "outputs": [],
   "source": []
  }
 ],
 "metadata": {
  "kernelspec": {
   "display_name": "Python 3 (ipykernel)",
   "language": "python",
   "name": "python3"
  },
  "language_info": {
   "codemirror_mode": {
    "name": "ipython",
    "version": 3
   },
   "file_extension": ".py",
   "mimetype": "text/x-python",
   "name": "python",
   "nbconvert_exporter": "python",
   "pygments_lexer": "ipython3",
   "version": "3.10.14"
  }
 },
 "nbformat": 4,
 "nbformat_minor": 5
}
