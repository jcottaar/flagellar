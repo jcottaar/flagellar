{
 "cells": [
  {
   "cell_type": "code",
   "execution_count": null,
   "id": "17753788-20dc-4f50-8df6-9d9f8909ef7b",
   "metadata": {},
   "outputs": [],
   "source": [
    "import torch\n",
    "import torch.nn as nn\n",
    "import torch.optim as optim\n",
    "import torchvision\n",
    "import torchvision.transforms as transforms\n",
    "import sys\n",
    "sys.path.append('d:/flagellar/code/core')\n",
    "sys.path.append('/kaggle/code/core')\n",
    "sys.path.append('/kaggle/input/my-flg-library/')\n",
    "import flg_support as fls\n",
    "import flg_unet\n",
    "import flg_numerics\n",
    "import importlib\n",
    "import numpy as np\n",
    "import matplotlib.pyplot as plt\n",
    "import time\n",
    "import copy"
   ]
  },
  {
   "cell_type": "code",
   "execution_count": null,
   "id": "c65f3f72-d895-4775-a5a3-2c39c29231fc",
   "metadata": {},
   "outputs": [],
   "source": [
    "importlib.reload(flg_unet)\n",
    "importlib.reload(fls)\n",
    "train_data = fls.load_all_train_data()"
   ]
  },
  {
   "cell_type": "code",
   "execution_count": null,
   "id": "3806da80-20d3-4f52-b29e-5d53ada08f57",
   "metadata": {},
   "outputs": [],
   "source": [
    "import time\n",
    "importlib.reload(flg_unet)\n",
    "importlib.reload(flg_numerics)\n",
    "for j in range(1):\n",
    "    dataset = flg_unet.DatasetTrain()\n",
    "    dataset.data_list = copy.deepcopy(train_data)\n",
    "    dataset.size =(128,256,256)\n",
    "    dataset.normalize=True\n",
    "    #dataset.n_positive = 0\n",
    "    train_loader = torch.utils.data.DataLoader(\n",
    "        dataset,\n",
    "        batch_size=1,\n",
    "        num_workers=0,\n",
    "        pin_memory=True,\n",
    "        persistent_workers=False\n",
    "    )\n",
    "    train_loader_iter = iter(train_loader)  \n",
    "    for i in range(20):\n",
    "        image,target = next(train_loader_iter)\n",
    "        #image = xx[0]\n",
    "        #target = xx[1]\n",
    "        #time.sleep(0.2)\n",
    "        if np.sum(target.numpy()[0,64,:,:])>0:\n",
    "            plt.figure()\n",
    "            plt.imshow(image.numpy()[0,64,:,:], cmap='bone')\n",
    "            plt.colorbar()\n",
    "    \n",
    "            # Get the \"Reds\" colormap.\n",
    "            cmap = plt.get_cmap('Reds')\n",
    "            \n",
    "            # Map B_norm through the colormap to get an RGBA image.\n",
    "            B = target.numpy()[0,64,:,:]/2\n",
    "            rgba_B = cmap(B)\n",
    "            \n",
    "            # Replace the alpha channel with B_norm values.\n",
    "            rgba_B[..., -1] = B  # This sets opacity proportional to the value in B.\n",
    "            \n",
    "            # Overlay the RGBA image on top of matrix A.\n",
    "            plt.imshow(rgba_B)            \n",
    "            plt.title(str(i))\n",
    "    #print(time.time()-t)\n",
    "        "
   ]
  },
  {
   "cell_type": "code",
   "execution_count": null,
   "id": "8e911cb4-ee3e-49b3-8694-68b89f052003",
   "metadata": {},
   "outputs": [],
   "source": []
  }
 ],
 "metadata": {
  "kernelspec": {
   "display_name": "Python 3 (ipykernel)",
   "language": "python",
   "name": "python3"
  },
  "language_info": {
   "codemirror_mode": {
    "name": "ipython",
    "version": 3
   },
   "file_extension": ".py",
   "mimetype": "text/x-python",
   "name": "python",
   "nbconvert_exporter": "python",
   "pygments_lexer": "ipython3",
   "version": "3.10.14"
  }
 },
 "nbformat": 4,
 "nbformat_minor": 5
}
