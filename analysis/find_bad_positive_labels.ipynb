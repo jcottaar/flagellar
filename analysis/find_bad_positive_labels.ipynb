{
 "cells": [
  {
   "cell_type": "code",
   "execution_count": 2,
   "id": "e0b4b630-bd17-4d7f-97ef-001707dcf970",
   "metadata": {},
   "outputs": [
    {
     "name": "stdout",
     "output_type": "stream",
     "text": [
      "MainProcess\n"
     ]
    }
   ],
   "source": [
    "import sys\n",
    "sys.path.append('d:/flagellar/code/core')\n",
    "sys.path.append('/flagellar/code/core')\n",
    "sys.path.append('/flagellar/input/my-flg-library/')\n",
    "import flg_support as fls\n",
    "import importlib\n",
    "import numpy as np\n",
    "import flg_diagnostics\n",
    "import flg_numerics\n",
    "import matplotlib.pyplot as plt\n",
    "import glob\n",
    "import copy\n",
    "import flg_preprocess\n",
    "import os\n",
    "importlib.reload(fls);"
   ]
  },
  {
   "cell_type": "code",
   "execution_count": 3,
   "id": "13e04f78-ffa1-4d41-a7af-128eaecf85e3",
   "metadata": {},
   "outputs": [],
   "source": [
    "data = fls.load_all_train_data() + fls.load_all_extra_data()"
   ]
  },
  {
   "cell_type": "code",
   "execution_count": null,
   "id": "66a8f849-caa6-4953-899f-82a13ec5829e",
   "metadata": {},
   "outputs": [],
   "source": []
  },
  {
   "cell_type": "code",
   "execution_count": 15,
   "id": "ef237c5d-92da-4398-b57c-b5faeec09519",
   "metadata": {},
   "outputs": [
    {
     "data": {
      "image/png": "[encoded data removed]",
      "text/plain": [
       "<Figure size 600x600 with 1 Axes>"
      ]
     },
     "metadata": {},
     "output_type": "display_data"
    },
    {
     "data": {
      "image/png": "[encoded data removed]",
      "text/plain": [
       "<Figure size 600x600 with 1 Axes>"
      ]
     },
     "metadata": {},
     "output_type": "display_data"
    }
   ],
   "source": [
    "import pandas as pd\n",
    "merged = fls.dill_load(fls.code_dir + '/bad_pos_labels.pickle')\n",
    "#merged = pd.DataFrame(columns=['name', 'z', 'y', 'x', 'suspect'])\n",
    "import copy\n",
    "import numpy as np\n",
    "import matplotlib.pyplot as plt\n",
    "import matplotlib.patches as patches\n",
    "from IPython.display import clear_output, display\n",
    "\n",
    "\n",
    "sizes        = [5]\n",
    "preprocessor = flg_preprocess.Preprocessor2()\n",
    "\n",
    "# Create one figure & axes up front\n",
    "fig, ax = plt.subplots(figsize=(6,6))\n",
    "\n",
    "decisions = []\n",
    "\n",
    "for d in data[:30]: \n",
    "    if d.name in merged['name'].values:\n",
    "        continue\n",
    "    for i_row in range(len(d.labels)):\n",
    "        dd = copy.deepcopy(d)\n",
    "        coords = np.array((np.round(d.labels['z'][i_row]).astype(int), np.round(d.labels['y'][i_row]).astype(int), np.round(d.labels['x'][i_row]).astype(int)))\n",
    "        desired_slices = np.arange(coords[0]-sizes[0], coords[0]+sizes[0]+1)\n",
    "        #desired_slices = desired_slices[desired_slices>=0]\n",
    "        #desired_slices = desired_slices[desired_slices<dd.data_shape[0]]\n",
    "        preprocessor.load_and_preprocess(dd, desired_original_slices=list(desired_slices))\n",
    "        coords[0] = len(dd.slices_present)//2\n",
    "        coords[1] = np.round(coords[1]*dd.resize_factor).astype(int)\n",
    "        coords[2] = np.round(coords[2]*dd.resize_factor).astype(int)\n",
    "    \n",
    "        # Clear previous output & axes\n",
    "        clear_output(wait=True)\n",
    "        ax.clear()\n",
    "    \n",
    "        # Draw image + rectangle\n",
    "        img = np.mean(dd.data, axis=0)\n",
    "        ax.imshow(img, cmap='bone')\n",
    "        x1, x2 = coords[2] - 50, coords[2] + 50\n",
    "        y1, y2 = coords[1] - 50, coords[1] + 50\n",
    "        rect = patches.Rectangle((x1, y1), x2-x1, y2-y1,\n",
    "                                  alpha=0.2, facecolor='blue')\n",
    "        ax.add_patch(rect)\n",
    "        ax.set_title(f\"Row {i_row}\")\n",
    "        ax.axis('off')\n",
    "    \n",
    "        # Display the figure in the cell\n",
    "        display(fig)\n",
    "        plt.pause(0.001)   # let the frontend catch up\n",
    "    \n",
    "        # Now get your user input\n",
    "        \n",
    "        decision = input(f\"{d.name}: is this suspect? (y/n) \")\n",
    "        i_row_merged=len(merged)\n",
    "        merged.loc[i_row_merged,'name'] = d.name\n",
    "        merged.loc[i_row_merged,'z'] = d.labels['z'][i_row]\n",
    "        merged.loc[i_row_merged,'y'] = d.labels['y'][i_row]\n",
    "        merged.loc[i_row_merged,'x'] = d.labels['x'][i_row]\n",
    "        merged.loc[i_row_merged, 'suspect'] = 1.*(decision.strip().lower()=='y')\n",
    "\n",
    "        fls.dill_save(fls.code_dir + '/bad_pos_labels.pickle', merged)\n",
    "\n",
    "# (Optional) after loop you can keep the last figure up:\n",
    "clear_output(wait=True)\n",
    "display(fig)\n"
   ]
  },
  {
   "cell_type": "code",
   "execution_count": 14,
   "id": "c5bbb082-4e20-4858-b084-e969d402fba4",
   "metadata": {},
   "outputs": [
    {
     "data": {
      "text/plain": [
       "False"
      ]
     },
     "execution_count": 14,
     "metadata": {},
     "output_type": "execute_result"
    }
   ],
   "source": [
    "d.name in merged['name']"
   ]
  },
  {
   "cell_type": "code",
   "execution_count": 13,
   "id": "2cdb2426-ec7d-4eb8-a832-f3cae9fb3d08",
   "metadata": {},
   "outputs": [
    {
     "data": {
      "text/plain": [
       "'tomo_00e047'"
      ]
     },
     "execution_count": 13,
     "metadata": {},
     "output_type": "execute_result"
    }
   ],
   "source": [
    "d.name"
   ]
  },
  {
   "cell_type": "code",
   "execution_count": null,
   "id": "9aacff60-d1cd-4e64-a7de-c9aee236538e",
   "metadata": {},
   "outputs": [],
   "source": []
  }
 ],
 "metadata": {
  "kernelspec": {
   "display_name": "Python 3 (ipykernel)",
   "language": "python",
   "name": "python3"
  },
  "language_info": {
   "codemirror_mode": {
    "name": "ipython",
    "version": 3
   },
   "file_extension": ".py",
   "mimetype": "text/x-python",
   "name": "python",
   "nbconvert_exporter": "python",
   "pygments_lexer": "ipython3",
   "version": "3.10.14"
  }
 },
 "nbformat": 4,
 "nbformat_minor": 5
}
