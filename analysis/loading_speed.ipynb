{
 "cells": [
  {
   "cell_type": "code",
   "execution_count": 1,
   "id": "e0b4b630-bd17-4d7f-97ef-001707dcf970",
   "metadata": {
    "scrolled": true
   },
   "outputs": [
    {
     "name": "stdout",
     "output_type": "stream",
     "text": [
      "1\n"
     ]
    }
   ],
   "source": [
    "import sys\n",
    "sys.path.append('d:/flagellar/code/core')\n",
    "sys.path.append('/kaggle/code/core')\n",
    "sys.path.append('/kaggle/input/my-flg-library/')\n",
    "import flg_support as fls\n",
    "import importlib\n",
    "importlib.reload(fls)\n",
    "print(fls.recommend_n_workers())\n",
    "N=200"
   ]
  },
  {
   "cell_type": "code",
   "execution_count": 2,
   "id": "4022297e-2d82-4855-b22a-19244595086b",
   "metadata": {},
   "outputs": [],
   "source": [
    "import cv2\n",
    "import glob\n",
    "import numpy as np\n",
    "from concurrent.futures import ThreadPoolExecutor\n",
    "import time\n",
    "import h5py\n",
    "executor = ThreadPoolExecutor(max_workers=64)\n",
    "\n",
    "gg = glob.glob(fls.data_dir + '/train/tomo*')\n",
    "\n",
    "for i,g in enumerate(gg[:N]):\n",
    "    t=time.time()\n",
    "\n",
    "    # Get list of image files\n",
    "    files = glob.glob(g + '/*.jpg')\n",
    "    \n",
    "    def load_image(f):\n",
    "        # Read image directly in grayscale\n",
    "        return cv2.imread(f, cv2.IMREAD_GRAYSCALE)\n",
    "    \n",
    "    # Use a thread pool to load images concurrently\n",
    "    imgs = list(executor.map(load_image, files))\n",
    "    \n",
    "    # Stack images into a 3D numpy array\n",
    "    img_3d = np.stack(imgs)\n",
    "    #print(img_3d[:2,:2,:2])\n",
    "\n",
    "    #print(time.time()-t)\n",
    "\n",
    "    f=h5py.File(str(i)+'t.h5', 'w')\n",
    "    dset=f.create_dataset('matrix', shape = img_3d.shape, dtype='uint8')\n",
    "    dset[...] = img_3d\n",
    "    f.close()\n",
    "executor.shutdown()"
   ]
  },
  {
   "cell_type": "code",
   "execution_count": 3,
   "id": "36cb0313-3936-4a17-9bba-10453a6edee4",
   "metadata": {},
   "outputs": [
    {
     "name": "stdout",
     "output_type": "stream",
     "text": [
      "CPU times: total: 7min 48s\n",
      "Wall time: 1min 5s\n"
     ]
    }
   ],
   "source": [
    "%%time\n",
    "import cv2\n",
    "import glob\n",
    "import numpy as np\n",
    "from concurrent.futures import ThreadPoolExecutor\n",
    "import time\n",
    "import h5py\n",
    "executor = ThreadPoolExecutor(max_workers=64)\n",
    "\n",
    "gg = glob.glob(fls.data_dir + '/train/tomo*')\n",
    "\n",
    "for i,g in enumerate(gg[:N]):\n",
    "    t=time.time()\n",
    "\n",
    "    # Get list of image files\n",
    "    files = glob.glob(g + '/*.jpg')\n",
    "    \n",
    "    def load_image(f):\n",
    "        # Read image directly in grayscale\n",
    "        return cv2.imread(f, cv2.IMREAD_GRAYSCALE)\n",
    "    \n",
    "    # Use a thread pool to load images concurrently\n",
    "    imgs = list(executor.map(load_image, files))\n",
    "    \n",
    "    # Stack images into a 3D numpy array\n",
    "    img_3d = np.stack(imgs)\n",
    "    #print(img_3d[:2,:2,:2])\n",
    "\n",
    "    #print(time.time()-t)\n",
    "\n",
    "    # f=h5py.File(str(i)+'t.h5', 'w')\n",
    "    # dset=f.create_dataset('matrix', shape = img_3d.shape, dtype='uint8')\n",
    "    # dset[...] = img_3d\n",
    "    # f.close()\n",
    "executor.shutdown()"
   ]
  },
  {
   "cell_type": "code",
   "execution_count": 4,
   "id": "41c99661-5052-42e6-acc3-53285372a0a6",
   "metadata": {},
   "outputs": [
    {
     "name": "stdout",
     "output_type": "stream",
     "text": [
      "CPU times: total: 39.1 s\n",
      "Wall time: 50 s\n"
     ]
    }
   ],
   "source": [
    "%%time\n",
    "for i,g in enumerate(gg[:N]):\n",
    "    f=h5py.File(str(i)+'t.h5', 'r')\n",
    "    x=f['matrix'][:,:,:]\n",
    "    #print(x[:2,:2,:2])\n",
    "    f.close()"
   ]
  },
  {
   "cell_type": "code",
   "execution_count": 11,
   "id": "6c84e4e8-f8c9-43c0-bdc4-8ea0c8199d44",
   "metadata": {},
   "outputs": [
    {
     "name": "stdout",
     "output_type": "stream",
     "text": [
      "using cache\n",
      "d:/flagellar/cache/tomo_00e047.h5\n",
      "test\n"
     ]
    },
    {
     "data": {
      "text/plain": [
       "array([[[89]]], dtype=uint8)"
      ]
     },
     "execution_count": 11,
     "metadata": {},
     "output_type": "execute_result"
    }
   ],
   "source": [
    "importlib.reload(fls)\n",
    "data = fls.Data()\n",
    "data.name = 'tomo_00e047'\n",
    "data.is_train = True\n",
    "data.load_to_memory()\n",
    "data.data[2:3,2:3,2:3]"
   ]
  },
  {
   "cell_type": "code",
   "execution_count": 9,
   "id": "3526c18e-004f-44e9-ae39-6069c7d04c74",
   "metadata": {},
   "outputs": [
    {
     "data": {
      "text/plain": [
       "numpy.ndarray"
      ]
     },
     "execution_count": 9,
     "metadata": {},
     "output_type": "execute_result"
    }
   ],
   "source": [
    "type(data.data)"
   ]
  },
  {
   "cell_type": "markdown",
   "id": "cfb80620-3b1d-46fd-8411-fc06bd676810",
   "metadata": {},
   "source": [
    "### data.data[2:3,2:3,2:3]"
   ]
  },
  {
   "cell_type": "code",
   "execution_count": 2,
   "id": "1cd8680e-ec31-48c2-80f9-12ff5545bcff",
   "metadata": {},
   "outputs": [
    {
     "name": "stdout",
     "output_type": "stream",
     "text": [
      "Skipped tomo_2b3cdf\n",
      "Skipped tomo_62eea8\n",
      "Skipped tomo_c84b8e\n",
      "Skipped tomo_e6f7f7\n"
     ]
    }
   ],
   "source": [
    "importlib.reload(fls)\n",
    "train_data = fls.load_all_train_data()\n",
    "for t in train_data:\n",
    "    t.load_to_h5py()"
   ]
  },
  {
   "cell_type": "code",
   "execution_count": 9,
   "id": "0c1f320b-ab84-4125-aa97-c1646fee6ea8",
   "metadata": {},
   "outputs": [
    {
     "name": "stdout",
     "output_type": "stream",
     "text": [
      "CPU times: total: 0 ns\n",
      "Wall time: 0 ns\n"
     ]
    },
    {
     "data": {
      "text/plain": [
       "array([[[105, 101,  97, ..., 103, 111, 124],\n",
       "        [101,  96,  91, ...,  98, 108, 124],\n",
       "        [ 96,  92,  86, ..., 101, 108, 123],\n",
       "        ...,\n",
       "        [116, 114, 136, ..., 136, 135, 133],\n",
       "        [110, 105, 125, ..., 146, 144, 136],\n",
       "        [114, 107, 126, ..., 147, 138, 125]],\n",
       "\n",
       "       [[ 99, 104, 110, ..., 122, 131, 111],\n",
       "        [ 94,  97, 100, ..., 113, 130, 119],\n",
       "        [105, 103,  99, ..., 107, 126, 122],\n",
       "        ...,\n",
       "        [109, 119, 111, ..., 132, 127, 131],\n",
       "        [116, 119, 106, ..., 156, 153, 124],\n",
       "        [118, 118, 105, ..., 120, 124, 143]],\n",
       "\n",
       "       [[ 88,  93, 116, ..., 142, 126, 126],\n",
       "        [103, 100, 115, ..., 139, 128, 135],\n",
       "        [111, 101, 108, ..., 128, 120, 135],\n",
       "        ...,\n",
       "        [106, 108, 133, ..., 145, 141, 135],\n",
       "        [120, 116, 133, ..., 154, 138, 119],\n",
       "        [100, 102, 128, ..., 139, 150, 149]],\n",
       "\n",
       "       ...,\n",
       "\n",
       "       [[ 91,  87,  90, ..., 113, 108, 103],\n",
       "        [105,  96,  93, ..., 113, 107, 102],\n",
       "        [ 96,  86,  83, ..., 112, 107, 102],\n",
       "        ...,\n",
       "        [109, 109, 104, ..., 147, 146, 151],\n",
       "        [109, 109, 104, ..., 131, 135, 159],\n",
       "        [109, 109, 104, ..., 124, 123, 154]],\n",
       "\n",
       "       [[ 84,  89,  93, ..., 114, 110, 106],\n",
       "        [ 97,  97,  96, ..., 113, 110, 106],\n",
       "        [ 89,  86,  85, ..., 113, 109, 105],\n",
       "        ...,\n",
       "        [111, 107, 103, ..., 112, 161, 135],\n",
       "        [110, 106, 103, ..., 118, 123, 153],\n",
       "        [110, 106, 102, ..., 126, 139, 135]],\n",
       "\n",
       "       [[ 93, 105,  93, ..., 115, 112, 109],\n",
       "        [ 84,  96,  87, ..., 115, 112, 108],\n",
       "        [ 88,  98,  91, ..., 114, 110, 107],\n",
       "        ...,\n",
       "        [107, 105, 103, ..., 110, 121, 137],\n",
       "        [107, 104, 102, ..., 117, 121, 133],\n",
       "        [106, 104, 102, ..., 130, 128, 138]]], dtype=uint8)"
      ]
     },
     "execution_count": 9,
     "metadata": {},
     "output_type": "execute_result"
    }
   ],
   "source": [
    "%%time\n",
    "train_data[5].data[...]"
   ]
  },
  {
   "cell_type": "code",
   "execution_count": 8,
   "id": "3821bd98-70b3-4ca3-99d1-3a86ec7fe2ae",
   "metadata": {},
   "outputs": [],
   "source": [
    "train_data[5].load_to_memory()"
   ]
  },
  {
   "cell_type": "code",
   "execution_count": 19,
   "id": "052529f6-906c-493d-8861-2b65c1a49816",
   "metadata": {},
   "outputs": [
    {
     "data": {
      "text/plain": [
       "23"
      ]
     },
     "execution_count": 19,
     "metadata": {},
     "output_type": "execute_result"
    }
   ],
   "source": [
    "max(directories[0].find('\\\\'), directories[0].find('/'))"
   ]
  },
  {
   "cell_type": "code",
   "execution_count": null,
   "id": "efbb3892-fede-41e4-b8ac-957d64535b34",
   "metadata": {},
   "outputs": [],
   "source": []
  }
 ],
 "metadata": {
  "kernelspec": {
   "display_name": "Python 3 (ipykernel)",
   "language": "python",
   "name": "python3"
  },
  "language_info": {
   "codemirror_mode": {
    "name": "ipython",
    "version": 3
   },
   "file_extension": ".py",
   "mimetype": "text/x-python",
   "name": "python",
   "nbconvert_exporter": "python",
   "pygments_lexer": "ipython3",
   "version": "3.10.14"
  }
 },
 "nbformat": 4,
 "nbformat_minor": 5
}
