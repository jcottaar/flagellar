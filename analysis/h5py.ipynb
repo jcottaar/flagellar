{
 "cells": [
  {
   "cell_type": "code",
   "execution_count": 1,
   "id": "0e962cae-b73b-4c18-b958-d3f945fb19aa",
   "metadata": {},
   "outputs": [],
   "source": [
    "import h5py\n",
    "import numpy as np\n",
    "\n",
    "# Create a large 3D dataset with chunking enabled\n",
    "with h5py.File('data.h5', 'w') as f:\n",
    "    dset = f.create_dataset('matrix', shape=(1000, 1000, 1000), dtype='float64', chunks=(10,10,10))\n",
    "    # Populate your dataset (example with random data)\n",
    "    dset[...] = np.random.random((1000, 1000, 1000))"
   ]
  },
  {
   "cell_type": "code",
   "execution_count": 2,
   "id": "8c7793f4-2c42-4315-974c-4efb4772d290",
   "metadata": {},
   "outputs": [
    {
     "name": "stdout",
     "output_type": "stream",
     "text": [
      "()\n",
      "CPU times: total: 46.9 ms\n",
      "Wall time: 34 ms\n"
     ]
    },
    {
     "data": {
      "text/plain": [
       "499969.98580879066"
      ]
     },
     "execution_count": 2,
     "metadata": {},
     "output_type": "execute_result"
    }
   ],
   "source": [
    "%%time\n",
    "# Later, to load an arbitrary block from the dataset:\n",
    "f=h5py.File('data.h5', 'r')\n",
    "r=f['matrix']\n",
    "block = np.sum(f['matrix'][:100,:100,:100])\n",
    "print(block.shape)\n",
    "np.sum(f['matrix'][:100,:100,:100])"
   ]
  },
  {
   "cell_type": "code",
   "execution_count": 3,
   "id": "d238bad5-01aa-4866-997d-6088df5a7152",
   "metadata": {},
   "outputs": [],
   "source": [
    "del f"
   ]
  },
  {
   "cell_type": "code",
   "execution_count": 4,
   "id": "e8bdca99-2049-4633-9ffb-8dc169bf81a6",
   "metadata": {},
   "outputs": [
    {
     "data": {
      "text/plain": [
       "array([[[0.53320198]]])"
      ]
     },
     "execution_count": 4,
     "metadata": {},
     "output_type": "execute_result"
    }
   ],
   "source": [
    "r[2:3,2:3,2:3]"
   ]
  },
  {
   "cell_type": "code",
   "execution_count": 5,
   "id": "1a37eca8-c270-43d4-9e1f-e017a763f0c8",
   "metadata": {},
   "outputs": [
    {
     "data": {
      "text/plain": [
       "h5py._hl.dataset.Dataset"
      ]
     },
     "execution_count": 5,
     "metadata": {},
     "output_type": "execute_result"
    }
   ],
   "source": [
    "type(r)"
   ]
  },
  {
   "cell_type": "code",
   "execution_count": 6,
   "id": "d309b5e6-3058-4734-9cbe-4a9d9f599d97",
   "metadata": {},
   "outputs": [
    {
     "data": {
      "text/plain": [
       "(1000, 1000, 1000)"
      ]
     },
     "execution_count": 6,
     "metadata": {},
     "output_type": "execute_result"
    }
   ],
   "source": [
    "r.shape"
   ]
  },
  {
   "cell_type": "code",
   "execution_count": null,
   "id": "d63fbcdb-9784-4355-a850-03aea25c7b08",
   "metadata": {},
   "outputs": [],
   "source": []
  }
 ],
 "metadata": {
  "kernelspec": {
   "display_name": "Python 3 (ipykernel)",
   "language": "python",
   "name": "python3"
  },
  "language_info": {
   "codemirror_mode": {
    "name": "ipython",
    "version": 3
   },
   "file_extension": ".py",
   "mimetype": "text/x-python",
   "name": "python",
   "nbconvert_exporter": "python",
   "pygments_lexer": "ipython3",
   "version": "3.10.14"
  }
 },
 "nbformat": 4,
 "nbformat_minor": 5
}
