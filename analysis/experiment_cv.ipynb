{
 "cells": [
  {
   "cell_type": "code",
   "execution_count": 1,
   "id": "17753788-20dc-4f50-8df6-9d9f8909ef7b",
   "metadata": {},
   "outputs": [],
   "source": [
    "import torch\n",
    "import torch.nn as nn\n",
    "import torch.optim as optim\n",
    "import torchvision\n",
    "import torchvision.transforms as transforms\n",
    "import sys\n",
    "sys.path.append('d:/flagellar/code/core')\n",
    "sys.path.append('/flagellar/code/core/')\n",
    "sys.path.append('/kaggle/input/my-flg-library/')\n",
    "import flg_support as fls\n",
    "import flg_unet\n",
    "import flg_numerics\n",
    "import flg_model\n",
    "import importlib\n",
    "import numpy as np\n",
    "import matplotlib.pyplot as plt\n",
    "import time\n",
    "import copy"
   ]
  },
  {
   "cell_type": "code",
   "execution_count": 2,
   "id": "c65f3f72-d895-4775-a5a3-2c39c29231fc",
   "metadata": {},
   "outputs": [
    {
     "data": {
      "text/plain": [
       "(624, 20)"
      ]
     },
     "execution_count": 2,
     "metadata": {},
     "output_type": "execute_result"
    }
   ],
   "source": [
    "all_data = fls.load_all_train_data()\n",
    "np.random.default_rng(seed=0).shuffle(all_data)\n",
    "\n",
    "# Pick N tomograms with 1 motor and N tomograms with 0 motors as validation set\n",
    "N=10\n",
    "n_motors = np.array([len(d.labels) for d in all_data])\n",
    "inds_zero = np.argwhere(n_motors==0)[:N,0]\n",
    "inds_one = np.argwhere(n_motors==1)[:N,0]\n",
    "inds_test = np.concatenate((inds_zero,inds_one))\n",
    "inds_train = np.setdiff1d(np.arange(len(n_motors)), inds_test)\n",
    "inds_test.shape, inds_train.shape\n",
    "\n",
    "train_data = []\n",
    "for i in inds_train:\n",
    "    train_data.append(all_data[i])\n",
    "test_data = []\n",
    "for i in inds_test:\n",
    "    test_data.append(all_data[i])\n",
    "np.random.default_rng(seed=0).shuffle(test_data)\n",
    "len(train_data), len(test_data)"
   ]
  },
  {
   "cell_type": "code",
   "execution_count": 3,
   "id": "4bc29811-094a-468c-b353-adf5ac8cb4c7",
   "metadata": {},
   "outputs": [
    {
     "name": "stdout",
     "output_type": "stream",
     "text": [
      "0 1 2 3 4 5 6 7 8 9 CPU times: user 6.95 s, sys: 5.3 s, total: 12.3 s\n",
      "Wall time: 30.7 s\n"
     ]
    },
    {
     "data": {
      "image/png": "[encoded data removed]",
      "text/plain": [
       "<Figure size 640x480 with 1 Axes>"
      ]
     },
     "metadata": {},
     "output_type": "display_data"
    }
   ],
   "source": [
    "%%time\n",
    "model = flg_model.ThreeStepModel()\n",
    "model.step1Heatmap.n_epochs = 10\n",
    "model.train(train_data)\n",
    "plt.figure()\n",
    "plt.plot(model.step1Heatmap.train_loss_list1)\n",
    "plt.plot(model.step1Heatmap.train_loss_list2)\n",
    "fls.dill_save(fls.temp_dir + 'model_temp.pickle', model)"
   ]
  },
  {
   "cell_type": "code",
   "execution_count": null,
   "id": "7bc25844-3144-47e4-9b1b-4d389106d9f1",
   "metadata": {},
   "outputs": [],
   "source": [
    "%%time\n",
    "model = fls.dill_load(fls.temp_dir + 'model_temp.pickle')\n",
    "inferred_test_data = model.infer(test_data);\n",
    "#inferred_train_data = model.infer(train_data);\n",
    "# for inf,test in zip(inferred_test_data, this_test_data):\n",
    "#     print('')\n",
    "#     print('')\n",
    "#     print(test.name)\n",
    "#     print(test.labels)\n",
    "#     print(inf.labels)"
   ]
  },
  {
   "cell_type": "code",
   "execution_count": null,
   "id": "3b3aa219-8d61-4bec-8c21-ac2f6bae5dd4",
   "metadata": {},
   "outputs": [],
   "source": [
    "fls.dill_save(fls.temp_dir + 'res.pickle', (inferred_test_data, test_data))"
   ]
  },
  {
   "cell_type": "code",
   "execution_count": null,
   "id": "781ca598-c83d-4acc-8005-b469928bc2aa",
   "metadata": {},
   "outputs": [],
   "source": [
    "importlib.reload(fls)\n",
    "inferred_test_data, test_data, inferred_train_data, train_data = fls.dill_load(fls.temp_dir + 'res.pickle')"
   ]
  },
  {
   "cell_type": "code",
   "execution_count": null,
   "id": "2340ef11-4280-4820-8f54-da99df08c6cd",
   "metadata": {},
   "outputs": [],
   "source": [
    "import sklearn\n",
    "import pandas as pd\n",
    "\n",
    "def distance_metric(\n",
    "    solution: pd.DataFrame,\n",
    "    submission: pd.DataFrame,\n",
    "    thresh_ratio: float,\n",
    "    min_radius: float,\n",
    "):\n",
    "    coordinate_cols = ['Motor axis 0', 'Motor axis 1', 'Motor axis 2']\n",
    "    label_tensor = solution[coordinate_cols].values.reshape(len(solution), -1, len(coordinate_cols))\n",
    "    predicted_tensor = submission[coordinate_cols].values.reshape(len(submission), -1, len(coordinate_cols))\n",
    "    # Find the minimum euclidean distances between the true and predicted points\n",
    "    solution['distance'] = np.linalg.norm(label_tensor - predicted_tensor, axis=2).min(axis=1)\n",
    "    # Convert thresholds from angstroms to voxels\n",
    "    solution['thresholds'] = solution['Voxel spacing'].apply(lambda x: (min_radius * thresh_ratio) / x)\n",
    "    solution['predictions'] = submission['Has motor'].values\n",
    "    solution.loc[(solution['distance'] > solution['thresholds']) & (solution['Has motor'] == 1) & (submission['Has motor'] == 1), 'predictions'] = 0\n",
    "    return solution['predictions'].values\n",
    "    \n",
    "def score(solution: pd.DataFrame, submission: pd.DataFrame, min_radius: float, beta: float) -> float:\n",
    "    \"\"\"\n",
    "    Parameters:\n",
    "    solution (pd.DataFrame): DataFrame containing ground truth motor positions.\n",
    "    submission (pd.DataFrame): DataFrame containing predicted motor positions.\n",
    "\n",
    "    Returns:\n",
    "    float: FBeta score.\n",
    "\n",
    "    Example\n",
    "    --------\n",
    "    >>> solution = pd.DataFrame({\n",
    "    ...     'tomo_id': [0, 1, 2, 3],\n",
    "    ...     'Motor axis 0': [-1, 250, 100, 200],\n",
    "    ...     'Motor axis 1': [-1, 250, 100, 200],\n",
    "    ...     'Motor axis 2': [-1, 250, 100, 200],\n",
    "    ...     'Voxel spacing': [10, 10, 10, 10],\n",
    "    ...     'Has motor': [0, 1, 1, 1]\n",
    "    ... })\n",
    "    >>> submission = pd.DataFrame({\n",
    "    ...     'tomo_id': [0, 1, 2, 3],\n",
    "    ...     'Motor axis 0': [100, 251, 600, -1],\n",
    "    ...     'Motor axis 1': [100, 251, 600, -1],\n",
    "    ...     'Motor axis 2': [100, 251, 600, -1]\n",
    "    ... })\n",
    "    >>> score(solution, submission, 1000, 2)\n",
    "    0.3571428571428571\n",
    "    \"\"\"\n",
    "\n",
    "    solution = solution.sort_values('tomo_id').reset_index(drop=True)\n",
    "    submission = submission.sort_values('tomo_id').reset_index(drop=True)\n",
    "\n",
    "    filename_equiv_array = solution['tomo_id'].eq(submission['tomo_id'], fill_value=0).values\n",
    "\n",
    "    if np.sum(filename_equiv_array) != len(solution['tomo_id']):\n",
    "        raise ValueError('Submitted tomo_id values do not match the sample_submission file')\n",
    "\n",
    "    submission['Has motor'] = 1\n",
    "    # If any columns are missing an axis, it's marked with no motor\n",
    "    select = (submission[['Motor axis 0', 'Motor axis 1', 'Motor axis 2']] == -1).any(axis='columns')\n",
    "    submission.loc[select, 'Has motor'] = 0\n",
    "\n",
    "    cols = ['Has motor', 'Motor axis 0', 'Motor axis 1', 'Motor axis 2']\n",
    "    assert all(col in submission.columns for col in cols)\n",
    "\n",
    "    # Calculate a label of 0 or 1 using the 'has motor', and 'motor axis' values\n",
    "    predictions = distance_metric(\n",
    "        solution,\n",
    "        submission,\n",
    "        thresh_ratio=1.0,\n",
    "        min_radius=min_radius,\n",
    "    )\n",
    "\n",
    "    return sklearn.metrics.fbeta_score(solution['Has motor'].values, predictions, beta=beta)"
   ]
  },
  {
   "cell_type": "code",
   "execution_count": null,
   "id": "ac7a7f62-2600-469d-8c8d-f66bdd6bf63d",
   "metadata": {},
   "outputs": [],
   "source": [
    "row_df_sub = fls.create_submission_dataframe(inferred_test_data, reference_data = test_data)\n",
    "row_df_ref = fls.create_submission_dataframe(test_data, reference_data = test_data, include_voxel_spacing=True)\n",
    "print(score(row_df_ref, row_df_sub, 1000, 2))"
   ]
  },
  {
   "cell_type": "code",
   "execution_count": null,
   "id": "5583903d-6fc5-4939-9149-52e2ef36043f",
   "metadata": {},
   "outputs": [],
   "source": [
    "# train_data_1_motor = []\n",
    "# inferred_train_data_1_motor = []\n",
    "# for i,t in zip(inferred_train_data, train_data):\n",
    "#     if len(t.labels)<=1:\n",
    "#         train_data_1_motor.append(t)\n",
    "#         inferred_train_data_1_motor.append(i)\n",
    "    \n",
    "# row_df_sub = fls.create_submission_dataframe(inferred_train_data_1_motor, reference_data = train_data_1_motor)\n",
    "# row_df_ref = fls.create_submission_dataframe(train_data_1_motor, reference_data = train_data_1_motor, include_voxel_spacing=True)\n",
    "# print(score(row_df_ref, row_df_sub, 1000, 2))"
   ]
  }
 ],
 "metadata": {
  "kernelspec": {
   "display_name": "Python 3 (ipykernel)",
   "language": "python",
   "name": "python3"
  },
  "language_info": {
   "codemirror_mode": {
    "name": "ipython",
    "version": 3
   },
   "file_extension": ".py",
   "mimetype": "text/x-python",
   "name": "python",
   "nbconvert_exporter": "python",
   "pygments_lexer": "ipython3",
   "version": "3.11.10"
  }
 },
 "nbformat": 4,
 "nbformat_minor": 5
}
