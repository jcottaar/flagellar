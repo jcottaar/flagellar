{
 "cells": [
  {
   "cell_type": "code",
   "execution_count": 1,
   "id": "e0b4b630-bd17-4d7f-97ef-001707dcf970",
   "metadata": {},
   "outputs": [
    {
     "name": "stdout",
     "output_type": "stream",
     "text": [
      "1\n"
     ]
    }
   ],
   "source": [
    "import sys\n",
    "sys.path.append('d:/flagellar/code/core')\n",
    "sys.path.append('/kaggle/code/core')\n",
    "sys.path.append('/kaggle/input/my-flg-library/')\n",
    "import flg_support as fls\n",
    "import importlib\n",
    "importlib.reload(fls)\n",
    "print(fls.recommend_n_workers())\n",
    "N=200"
   ]
  },
  {
   "cell_type": "code",
   "execution_count": 2,
   "id": "4022297e-2d82-4855-b22a-19244595086b",
   "metadata": {},
   "outputs": [],
   "source": [
    "import cv2\n",
    "import glob\n",
    "import numpy as np\n",
    "from concurrent.futures import ThreadPoolExecutor\n",
    "import time\n",
    "import h5py\n",
    "executor = ThreadPoolExecutor(max_workers=64)\n",
    "\n",
    "gg = glob.glob(fls.data_dir + '/train/tomo*')\n",
    "\n",
    "for i,g in enumerate(gg[:N]):\n",
    "    t=time.time()\n",
    "\n",
    "    # Get list of image files\n",
    "    files = glob.glob(g + '/*.jpg')\n",
    "    \n",
    "    def load_image(f):\n",
    "        # Read image directly in grayscale\n",
    "        return cv2.imread(f, cv2.IMREAD_GRAYSCALE)\n",
    "    \n",
    "    # Use a thread pool to load images concurrently\n",
    "    imgs = list(executor.map(load_image, files))\n",
    "    \n",
    "    # Stack images into a 3D numpy array\n",
    "    img_3d = np.stack(imgs)\n",
    "    #print(img_3d[:2,:2,:2])\n",
    "\n",
    "    #print(time.time()-t)\n",
    "\n",
    "    f=h5py.File(str(i)+'t.h5', 'w')\n",
    "    dset=f.create_dataset('matrix', shape = img_3d.shape, dtype='uint8')\n",
    "    dset[...] = img_3d\n",
    "    f.close()\n",
    "executor.shutdown()"
   ]
  },
  {
   "cell_type": "code",
   "execution_count": 3,
   "id": "36cb0313-3936-4a17-9bba-10453a6edee4",
   "metadata": {},
   "outputs": [
    {
     "name": "stdout",
     "output_type": "stream",
     "text": [
      "CPU times: total: 7min 48s\n",
      "Wall time: 1min 5s\n"
     ]
    }
   ],
   "source": [
    "%%time\n",
    "import cv2\n",
    "import glob\n",
    "import numpy as np\n",
    "from concurrent.futures import ThreadPoolExecutor\n",
    "import time\n",
    "import h5py\n",
    "executor = ThreadPoolExecutor(max_workers=64)\n",
    "\n",
    "gg = glob.glob(fls.data_dir + '/train/tomo*')\n",
    "\n",
    "for i,g in enumerate(gg[:N]):\n",
    "    t=time.time()\n",
    "\n",
    "    # Get list of image files\n",
    "    files = glob.glob(g + '/*.jpg')\n",
    "    \n",
    "    def load_image(f):\n",
    "        # Read image directly in grayscale\n",
    "        return cv2.imread(f, cv2.IMREAD_GRAYSCALE)\n",
    "    \n",
    "    # Use a thread pool to load images concurrently\n",
    "    imgs = list(executor.map(load_image, files))\n",
    "    \n",
    "    # Stack images into a 3D numpy array\n",
    "    img_3d = np.stack(imgs)\n",
    "    #print(img_3d[:2,:2,:2])\n",
    "\n",
    "    #print(time.time()-t)\n",
    "\n",
    "    # f=h5py.File(str(i)+'t.h5', 'w')\n",
    "    # dset=f.create_dataset('matrix', shape = img_3d.shape, dtype='uint8')\n",
    "    # dset[...] = img_3d\n",
    "    # f.close()\n",
    "executor.shutdown()"
   ]
  },
  {
   "cell_type": "code",
   "execution_count": 4,
   "id": "41c99661-5052-42e6-acc3-53285372a0a6",
   "metadata": {},
   "outputs": [
    {
     "name": "stdout",
     "output_type": "stream",
     "text": [
      "CPU times: total: 39.1 s\n",
      "Wall time: 50 s\n"
     ]
    }
   ],
   "source": [
    "%%time\n",
    "for i,g in enumerate(gg[:N]):\n",
    "    f=h5py.File(str(i)+'t.h5', 'r')\n",
    "    x=f['matrix'][:,:,:]\n",
    "    #print(x[:2,:2,:2])\n",
    "    f.close()"
   ]
  },
  {
   "cell_type": "code",
   "execution_count": null,
   "id": "6c84e4e8-f8c9-43c0-bdc4-8ea0c8199d44",
   "metadata": {},
   "outputs": [],
   "source": []
  }
 ],
 "metadata": {
  "kernelspec": {
   "display_name": "Python 3 (ipykernel)",
   "language": "python",
   "name": "python3"
  },
  "language_info": {
   "codemirror_mode": {
    "name": "ipython",
    "version": 3
   },
   "file_extension": ".py",
   "mimetype": "text/x-python",
   "name": "python",
   "nbconvert_exporter": "python",
   "pygments_lexer": "ipython3",
   "version": "3.10.14"
  }
 },
 "nbformat": 4,
 "nbformat_minor": 5
}
