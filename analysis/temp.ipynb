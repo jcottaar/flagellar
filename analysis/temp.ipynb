{
 "cells": [
  {
   "cell_type": "code",
   "execution_count": null,
   "id": "4fc71c1a-7561-4006-830b-c10f660a6c7d",
   "metadata": {},
   "outputs": [],
   "source": [
    "import sys\n",
    "sys.path.append('d:/flagellar/code/core')\n",
    "sys.path.append('/kaggle/code/core')\n",
    "sys.path.append('/kaggle/input/my-flg-library/')\n",
    "import flg_support as fls\n",
    "import importlib\n",
    "import numpy as np\n",
    "import flg_diagnostics\n",
    "import flg_numerics\n",
    "import matplotlib.pyplot as plt\n",
    "import flg_yolo\n",
    "import flg_yolo2\n",
    "import flg_model"
   ]
  },
  {
   "cell_type": "code",
   "execution_count": 1,
   "id": "94fe95c8-53b9-4e4d-96ee-14d458ac91e2",
   "metadata": {},
   "outputs": [
    {
     "name": "stdout",
     "output_type": "stream",
     "text": [
      "C:\\Users\\jeroe\\anaconda3\\envs\\jupyterlab-debugger2\\lib\\site-packages\\ultralytics\n"
     ]
    }
   ],
   "source": [
    "import ultralytics\n",
    "import os\n",
    "\n",
    "# This prints the directory where the ultralytics package is installed.\n",
    "package_path = os.path.dirname(ultralytics.__file__)\n",
    "print(package_path)"
   ]
  },
  {
   "cell_type": "code",
   "execution_count": 3,
   "id": "50663e60-0ffe-4325-adf6-65265eea4e83",
   "metadata": {},
   "outputs": [],
   "source": [
    "# train_data = fls.load_all_train_data()\n",
    "# model = fls.dill_load(fls.temp_dir + 'yolo_test.pickle')\n",
    "# model.confidence_threshold = 0.1\n",
    "# rr = model.infer(train_data[19:21])\n",
    "# res = [r.labels for r in rr]\n",
    "\n",
    "# print(rr[0].labels_unfiltered)\n",
    "# print(rr[1].labels_unfiltered)\n",
    "# print(res)\n",
    "d = fls.dill_load(fls.result_dir + '/many_abbr/Test ensemble_0_47062ed4_567 _a.pickle')"
   ]
  },
  {
   "cell_type": "code",
   "execution_count": 5,
   "id": "174f2ea4-3332-407d-8619-a83c30839d4b",
   "metadata": {},
   "outputs": [
    {
     "data": {
      "text/plain": [
       "0.5671213208901651"
      ]
     },
     "execution_count": 5,
     "metadata": {},
     "output_type": "execute_result"
    }
   ],
   "source": [
    "d.cv_score"
   ]
  },
  {
   "cell_type": "code",
   "execution_count": null,
   "id": "9b1bd87f-583d-4bbb-b649-ef065caa8a2d",
   "metadata": {},
   "outputs": [
    {
     "data": {
      "text/plain": [
       "array([0, 1, 1], dtype=int64)"
      ]
     },
     "execution_count": 4,
     "metadata": {},
     "output_type": "execute_result"
    }
   ],
   "source": [
    "zyx=[[1,2,3], [4,5,6],[4,5,7]]\n",
    "zyx = np.array(zyx)\n",
    "import sklearn.cluster\n",
    "clustering = sklearn.cluster.DBSCAN(eps=1, min_samples=1).fit(zyx)\n",
    "clustering.labels_\n",
    "\n",
    "# for lab in np.unique(clustering.labels_):\n",
    "#     print(lab)"
   ]
  },
  {
   "cell_type": "code",
   "execution_count": 8,
   "id": "8225c3ae-262c-4288-8241-495b67d729b6",
   "metadata": {},
   "outputs": [],
   "source": [
    "importlib.reload(flg_yolo2)\n",
    "importlib.reload(flg_model)\n",
    "train_data = fls.load_all_train_data()\n",
    "model_orig = fls.dill_load(fls.temp_dir + 'yolo_test.pickle')\n",
    "model_orig.step1Labels.confidence_threshold = 0.1\n",
    "\n",
    "train_data = fls.load_all_train_data()\n",
    "model = flg_model.TwoStepModel()\n",
    "model.run_in_parallel = False\n",
    "model.step1Labels.trained_model = model_orig.step1Labels.trained_model\n",
    "model.step1Labels.confidence_threshold = 0.2\n",
    "model.calibrate_step_2 = True\n",
    "#model.step1Labels.infer(train_data[1])\n",
    "model.train(train_data[1:150], train_data[216:230])\n",
    "\n",
    "# train_data = fls.load_all_train_data()\n",
    "# model = fls.dill_load(fls.temp_dir + 'yolo_test.pickle')"
   ]
  },
  {
   "cell_type": "code",
   "execution_count": 9,
   "id": "13688a46-1cc3-4301-9791-143cfbf97974",
   "metadata": {},
   "outputs": [
    {
     "name": "stdout",
     "output_type": "stream",
     "text": [
      "Clearing pytorch\n",
      "Clearing cupy\n",
      "Model summary (fused): 92 layers, 25,840,339 parameters, 0 gradients, 78.7 GFLOPs\n",
      "Model summary (fused): 92 layers, 25,840,339 parameters, 0 gradients, 78.7 GFLOPs\n",
      "Processing tomogram tomo_081a2d (1/1)\n",
      "Processing 300 out of 300 slices (CONCENTRATION=1)\n",
      "Processing 300 out of 300 slices (CONCENTRATION=1)\n",
      "[{'z': 149, 'y': 317, 'x': 646, 'confidence': 0.438720703125, 'i_model': 0}, {'z': 149, 'y': 319, 'x': 641, 'confidence': 0.391357421875, 'i_model': 0}, {'z': 150, 'y': 320, 'x': 641, 'confidence': 0.45703125, 'i_model': 0}, {'z': 150, 'y': 318, 'x': 644, 'confidence': 0.451416015625, 'i_model': 0}, {'z': 151, 'y': 318, 'x': 644, 'confidence': 0.4931640625, 'i_model': 0}, {'z': 151, 'y': 321, 'x': 641, 'confidence': 0.46484375, 'i_model': 0}, {'z': 152, 'y': 321, 'x': 641, 'confidence': 0.356689453125, 'i_model': 0}, {'z': 152, 'y': 317, 'x': 644, 'confidence': 0.312255859375, 'i_model': 0}, {'z': 153, 'y': 315, 'x': 645, 'confidence': 0.306640625, 'i_model': 0}, {'z': 153, 'y': 320, 'x': 642, 'confidence': 0.25390625, 'i_model': 0}, {'z': 154, 'y': 318, 'x': 644, 'confidence': 0.412109375, 'i_model': 0}, {'z': 154, 'y': 321, 'x': 641, 'confidence': 0.384033203125, 'i_model': 0}, {'z': 155, 'y': 319, 'x': 644, 'confidence': 0.6162109375, 'i_model': 0}, {'z': 155, 'y': 322, 'x': 643, 'confidence': 0.4716796875, 'i_model': 0}, {'z': 156, 'y': 323, 'x': 641, 'confidence': 0.4599609375, 'i_model': 0}, {'z': 156, 'y': 319, 'x': 644, 'confidence': 0.440673828125, 'i_model': 0}, {'z': 157, 'y': 317, 'x': 644, 'confidence': 0.57470703125, 'i_model': 0}, {'z': 157, 'y': 323, 'x': 641, 'confidence': 0.5068359375, 'i_model': 0}, {'z': 158, 'y': 316, 'x': 645, 'confidence': 0.5498046875, 'i_model': 0}, {'z': 158, 'y': 322, 'x': 641, 'confidence': 0.437744140625, 'i_model': 0}, {'z': 159, 'y': 315, 'x': 646, 'confidence': 0.56298828125, 'i_model': 0}, {'z': 159, 'y': 322, 'x': 644, 'confidence': 0.33447265625, 'i_model': 0}, {'z': 159, 'y': 314, 'x': 652, 'confidence': 0.287841796875, 'i_model': 0}, {'z': 160, 'y': 316, 'x': 647, 'confidence': 0.583984375, 'i_model': 0}, {'z': 160, 'y': 322, 'x': 644, 'confidence': 0.291015625, 'i_model': 0}, {'z': 161, 'y': 316, 'x': 647, 'confidence': 0.5517578125, 'i_model': 0}, {'z': 161, 'y': 320, 'x': 644, 'confidence': 0.310791015625, 'i_model': 0}, {'z': 162, 'y': 316, 'x': 645, 'confidence': 0.5166015625, 'i_model': 0}, {'z': 162, 'y': 321, 'x': 642, 'confidence': 0.43212890625, 'i_model': 0}, {'z': 163, 'y': 316, 'x': 645, 'confidence': 0.5107421875, 'i_model': 0}, {'z': 163, 'y': 322, 'x': 643, 'confidence': 0.38671875, 'i_model': 0}, {'z': 164, 'y': 317, 'x': 647, 'confidence': 0.59375, 'i_model': 0}, {'z': 164, 'y': 322, 'x': 644, 'confidence': 0.3583984375, 'i_model': 0}, {'z': 165, 'y': 322, 'x': 642, 'confidence': 0.333740234375, 'i_model': 0}, {'z': 165, 'y': 318, 'x': 645, 'confidence': 0.31396484375, 'i_model': 0}, {'z': 199, 'y': 307, 'x': 628, 'confidence': 0.25390625, 'i_model': 0}, {'z': 202, 'y': 308, 'x': 629, 'confidence': 0.299072265625, 'i_model': 0}, {'z': 144, 'y': 315, 'x': 652, 'confidence': 0.3056640625, 'i_model': 1}, {'z': 145, 'y': 316, 'x': 652, 'confidence': 0.32080078125, 'i_model': 1}, {'z': 146, 'y': 314, 'x': 653, 'confidence': 0.28369140625, 'i_model': 1}, {'z': 147, 'y': 311, 'x': 655, 'confidence': 0.277587890625, 'i_model': 1}, {'z': 147, 'y': 313, 'x': 655, 'confidence': 0.257568359375, 'i_model': 1}, {'z': 148, 'y': 315, 'x': 651, 'confidence': 0.41015625, 'i_model': 1}, {'z': 148, 'y': 312, 'x': 653, 'confidence': 0.269775390625, 'i_model': 1}, {'z': 149, 'y': 315, 'x': 650, 'confidence': 0.43310546875, 'i_model': 1}, {'z': 149, 'y': 312, 'x': 653, 'confidence': 0.282958984375, 'i_model': 1}, {'z': 150, 'y': 315, 'x': 650, 'confidence': 0.36572265625, 'i_model': 1}, {'z': 151, 'y': 316, 'x': 650, 'confidence': 0.418701171875, 'i_model': 1}, {'z': 152, 'y': 315, 'x': 649, 'confidence': 0.342529296875, 'i_model': 1}, {'z': 153, 'y': 314, 'x': 650, 'confidence': 0.352294921875, 'i_model': 1}, {'z': 154, 'y': 315, 'x': 650, 'confidence': 0.3896484375, 'i_model': 1}, {'z': 155, 'y': 315, 'x': 652, 'confidence': 0.400634765625, 'i_model': 1}, {'z': 156, 'y': 315, 'x': 652, 'confidence': 0.333740234375, 'i_model': 1}, {'z': 157, 'y': 314, 'x': 652, 'confidence': 0.369384765625, 'i_model': 1}, {'z': 157, 'y': 311, 'x': 658, 'confidence': 0.294921875, 'i_model': 1}, {'z': 158, 'y': 313, 'x': 653, 'confidence': 0.38671875, 'i_model': 1}, {'z': 158, 'y': 310, 'x': 657, 'confidence': 0.33544921875, 'i_model': 1}, {'z': 159, 'y': 313, 'x': 653, 'confidence': 0.3310546875, 'i_model': 1}, {'z': 159, 'y': 310, 'x': 658, 'confidence': 0.309814453125, 'i_model': 1}, {'z': 159, 'y': 311, 'x': 655, 'confidence': 0.256103515625, 'i_model': 1}, {'z': 160, 'y': 702, 'x': 505, 'confidence': 0.39892578125, 'i_model': 1}, {'z': 160, 'y': 314, 'x': 652, 'confidence': 0.3310546875, 'i_model': 1}, {'z': 160, 'y': 310, 'x': 659, 'confidence': 0.277587890625, 'i_model': 1}, {'z': 161, 'y': 315, 'x': 651, 'confidence': 0.294921875, 'i_model': 1}, {'z': 162, 'y': 310, 'x': 659, 'confidence': 0.32421875, 'i_model': 1}, {'z': 162, 'y': 314, 'x': 653, 'confidence': 0.257568359375, 'i_model': 1}, {'z': 163, 'y': 310, 'x': 660, 'confidence': 0.350341796875, 'i_model': 1}, {'z': 164, 'y': 310, 'x': 660, 'confidence': 0.3857421875, 'i_model': 1}, {'z': 165, 'y': 310, 'x': 660, 'confidence': 0.406494140625, 'i_model': 1}, {'z': 166, 'y': 309, 'x': 659, 'confidence': 0.42822265625, 'i_model': 1}, {'z': 167, 'y': 308, 'x': 658, 'confidence': 0.34521484375, 'i_model': 1}]\n",
      "XXXXXXX\n",
      "------------------\n",
      "    index    z    y    x  confidence  i_model\n",
      "0       0  155  319  644    0.616211        0\n",
      "1       1  164  317  647    0.593750        0\n",
      "2       2  160  316  647    0.583984        0\n",
      "3       3  157  317  644    0.574707        0\n",
      "4       4  159  315  646    0.562988        0\n",
      "5       5  161  316  647    0.551758        0\n",
      "6       6  158  316  645    0.549805        0\n",
      "7       7  162  316  645    0.516602        0\n",
      "8       8  163  316  645    0.510742        0\n",
      "9       9  157  323  641    0.506836        0\n",
      "10     10  151  318  644    0.493164        0\n",
      "11     11  155  322  643    0.471680        0\n",
      "12     12  151  321  641    0.464844        0\n",
      "13     13  156  323  641    0.459961        0\n",
      "14     14  150  320  641    0.457031        0\n",
      "15     15  150  318  644    0.451416        0\n",
      "16     16  156  319  644    0.440674        0\n",
      "17     17  149  317  646    0.438721        0\n",
      "18     18  158  322  641    0.437744        0\n",
      "20     20  162  321  642    0.432129        0\n",
      "23     23  154  318  644    0.412109        0\n",
      "27     28  149  319  641    0.391357        0\n",
      "29     30  163  322  643    0.386719        0\n",
      "32     33  154  321  641    0.384033        0\n",
      "35     36  164  322  644    0.358398        0\n",
      "36     37  152  321  641    0.356689        0\n",
      "42     43  159  322  644    0.334473        0\n",
      "43     44  165  322  642    0.333740        0\n",
      "49     50  165  318  645    0.313965        0\n",
      "50     51  152  317  644    0.312256        0\n",
      "51     52  161  320  644    0.310791        0\n",
      "53     54  153  315  645    0.306641        0\n",
      "55     56  202  308  629    0.299072        0\n",
      "58     59  160  322  644    0.291016        0\n",
      "59     60  159  314  652    0.287842        0\n",
      "68     69  153  320  642    0.253906        0\n",
      "69     70  199  307  628    0.253906        0\n",
      "------------------\n",
      "------------------\n",
      "    index    z    y    x  confidence  i_model\n",
      "19     19  149  315  650    0.433105        1\n",
      "21     21  166  309  659    0.428223        1\n",
      "22     22  151  316  650    0.418701        1\n",
      "24     24  148  315  651    0.410156        1\n",
      "25     25  165  310  660    0.406494        1\n",
      "26     26  155  315  652    0.400635        1\n",
      "28     29  154  315  650    0.389648        1\n",
      "30     31  158  313  653    0.386719        1\n",
      "31     32  164  310  660    0.385742        1\n",
      "33     34  157  314  652    0.369385        1\n",
      "34     35  150  315  650    0.365723        1\n",
      "37     38  153  314  650    0.352295        1\n",
      "38     39  163  310  660    0.350342        1\n",
      "39     40  167  308  658    0.345215        1\n",
      "40     41  152  315  649    0.342529        1\n",
      "41     42  158  310  657    0.335449        1\n",
      "44     45  156  315  652    0.333740        1\n",
      "45     46  159  313  653    0.331055        1\n",
      "46     47  160  314  652    0.331055        1\n",
      "47     48  162  310  659    0.324219        1\n",
      "48     49  145  316  652    0.320801        1\n",
      "52     53  159  310  658    0.309814        1\n",
      "54     55  144  315  652    0.305664        1\n",
      "56     57  157  311  658    0.294922        1\n",
      "57     58  161  315  651    0.294922        1\n",
      "60     61  146  314  653    0.283691        1\n",
      "61     62  149  312  653    0.282959        1\n",
      "62     63  147  311  655    0.277588        1\n",
      "63     64  160  310  659    0.277588        1\n",
      "64     65  148  312  653    0.269775        1\n",
      "65     66  147  313  655    0.257568        1\n",
      "66     67  162  314  653    0.257568        1\n",
      "67     68  159  311  655    0.256104        1\n",
      "------------------\n",
      "FINAL\n",
      "[{'z': 155, 'y': 319, 'x': 644, 'confidence': 0.524658203125}]\n",
      "------------------\n",
      "Empty DataFrame\n",
      "Columns: [index, z, y, x, confidence, i_model]\n",
      "Index: []\n",
      "------------------\n",
      "------------------\n",
      "   index    z    y    x  confidence  i_model\n",
      "0     27  160  702  505    0.398926        1\n",
      "------------------\n",
      "FINAL\n",
      "[{'z': 155, 'y': 319, 'x': 644, 'confidence': 0.524658203125}, {'z': 160, 'y': 702, 'x': 505, 'confidence': 0.299462890625}]\n",
      "[{'z': 155, 'y': 319, 'x': 644, 'confidence': 0.524658203125}, {'z': 160, 'y': 702, 'x': 505, 'confidence': 0.299462890625}]\n",
      "Clearing pytorch\n",
      "Clearing cupy\n",
      "Processing tomogram tomo_08446f (1/1)\n",
      "Processing 500 out of 500 slices (CONCENTRATION=1)\n",
      "Processing 500 out of 500 slices (CONCENTRATION=1)\n",
      "[{'z': 145, 'y': 252, 'x': 816, 'confidence': 0.3056640625, 'i_model': 0}, {'z': 146, 'y': 251, 'x': 816, 'confidence': 0.349609375, 'i_model': 0}, {'z': 262, 'y': 721, 'x': 64, 'confidence': 0.362060546875, 'i_model': 0}, {'z': 263, 'y': 721, 'x': 64, 'confidence': 0.286865234375, 'i_model': 0}, {'z': 265, 'y': 721, 'x': 65, 'confidence': 0.32763671875, 'i_model': 0}, {'z': 266, 'y': 721, 'x': 66, 'confidence': 0.273681640625, 'i_model': 0}, {'z': 268, 'y': 721, 'x': 65, 'confidence': 0.470703125, 'i_model': 0}, {'z': 269, 'y': 721, 'x': 66, 'confidence': 0.529296875, 'i_model': 0}, {'z': 270, 'y': 720, 'x': 65, 'confidence': 0.509765625, 'i_model': 0}, {'z': 271, 'y': 720, 'x': 63, 'confidence': 0.420654296875, 'i_model': 0}, {'z': 271, 'y': 754, 'x': 43, 'confidence': 0.2744140625, 'i_model': 0}, {'z': 272, 'y': 722, 'x': 64, 'confidence': 0.304931640625, 'i_model': 0}, {'z': 231, 'y': 742, 'x': 52, 'confidence': 0.359375, 'i_model': 1}, {'z': 244, 'y': 777, 'x': 42, 'confidence': 0.332763671875, 'i_model': 1}, {'z': 269, 'y': 754, 'x': 45, 'confidence': 0.3310546875, 'i_model': 1}, {'z': 272, 'y': 754, 'x': 43, 'confidence': 0.26220703125, 'i_model': 1}]\n",
      "XXXXXXX\n",
      "------------------\n",
      "    index    z    y   x  confidence  i_model\n",
      "0       0  269  721  66    0.529297        0\n",
      "1       1  270  720  65    0.509766        0\n",
      "2       2  268  721  65    0.470703        0\n",
      "3       3  271  720  63    0.420654        0\n",
      "4       4  262  721  64    0.362061        0\n",
      "8       9  265  721  65    0.327637        0\n",
      "9      11  272  722  64    0.304932        0\n",
      "10     12  263  721  64    0.286865        0\n",
      "11     13  271  754  43    0.274414        0\n",
      "12     14  266  721  66    0.273682        0\n",
      "------------------\n",
      "------------------\n",
      "    index    z    y   x  confidence  i_model\n",
      "5       5  231  742  52    0.359375        1\n",
      "6       7  244  777  42    0.332764        1\n",
      "7       8  269  754  45    0.331055        1\n",
      "13     15  272  754  43    0.262207        1\n",
      "------------------\n",
      "FINAL\n",
      "[{'z': 269, 'y': 721, 'x': 66, 'confidence': 0.4443359375}]\n",
      "------------------\n",
      "   index    z    y    x  confidence  i_model\n",
      "0      6  146  251  816    0.349609        0\n",
      "1     10  145  252  816    0.305664        0\n",
      "------------------\n",
      "------------------\n",
      "Empty DataFrame\n",
      "Columns: [index, z, y, x, confidence, i_model]\n",
      "Index: []\n",
      "------------------\n",
      "FINAL\n",
      "[{'z': 269, 'y': 721, 'x': 66, 'confidence': 0.4443359375}, {'z': 146, 'y': 251, 'x': 816, 'confidence': 0.2748046875}]\n",
      "[{'z': 269, 'y': 721, 'x': 66, 'confidence': 0.4443359375}, {'z': 146, 'y': 251, 'x': 816, 'confidence': 0.2748046875}]\n",
      "Clearing pytorch\n",
      "Clearing cupy\n",
      "Processing tomogram tomo_087d64 (1/1)\n",
      "Processing 800 out of 800 slices (CONCENTRATION=1)\n",
      "Processing 800 out of 800 slices (CONCENTRATION=1)\n",
      "[]\n",
      "Clearing pytorch\n",
      "Clearing cupy\n",
      "Processing tomogram tomo_08a6d6 (1/1)\n",
      "Processing 800 out of 800 slices (CONCENTRATION=1)\n",
      "Processing 800 out of 800 slices (CONCENTRATION=1)\n",
      "[{'z': 232, 'y': 613, 'x': 537, 'confidence': 0.296630859375, 'i_model': 0}, {'z': 282, 'y': 289, 'x': 788, 'confidence': 0.384033203125, 'i_model': 0}, {'z': 283, 'y': 290, 'x': 788, 'confidence': 0.403564453125, 'i_model': 0}, {'z': 284, 'y': 289, 'x': 789, 'confidence': 0.390380859375, 'i_model': 0}, {'z': 285, 'y': 290, 'x': 788, 'confidence': 0.4697265625, 'i_model': 0}, {'z': 286, 'y': 288, 'x': 787, 'confidence': 0.34521484375, 'i_model': 0}, {'z': 287, 'y': 288, 'x': 788, 'confidence': 0.36474609375, 'i_model': 0}, {'z': 288, 'y': 288, 'x': 787, 'confidence': 0.251708984375, 'i_model': 0}, {'z': 285, 'y': 286, 'x': 787, 'confidence': 0.313232421875, 'i_model': 1}, {'z': 288, 'y': 285, 'x': 785, 'confidence': 0.345947265625, 'i_model': 1}, {'z': 289, 'y': 285, 'x': 785, 'confidence': 0.291015625, 'i_model': 1}]\n",
      "XXXXXXX\n",
      "------------------\n",
      "   index    z    y    x  confidence  i_model\n",
      "0      0  285  290  788    0.469727        0\n",
      "1      1  283  290  788    0.403564        0\n",
      "2      2  284  289  789    0.390381        0\n",
      "3      3  282  289  788    0.384033        0\n",
      "4      4  287  288  788    0.364746        0\n",
      "6      6  286  288  787    0.345215        0\n",
      "9     10  288  288  787    0.251709        0\n",
      "------------------\n",
      "------------------\n",
      "   index    z    y    x  confidence  i_model\n",
      "5      5  288  285  785    0.345947        1\n",
      "7      7  285  286  787    0.313232        1\n",
      "8      9  289  285  785    0.291016        1\n",
      "------------------\n",
      "FINAL\n",
      "[{'z': 285, 'y': 290, 'x': 788, 'confidence': 0.4078369140625}]\n",
      "------------------\n",
      "   index    z    y    x  confidence  i_model\n",
      "0      8  232  613  537    0.296631        0\n",
      "------------------\n",
      "------------------\n",
      "Empty DataFrame\n",
      "Columns: [index, z, y, x, confidence, i_model]\n",
      "Index: []\n",
      "------------------\n",
      "FINAL\n",
      "[{'z': 285, 'y': 290, 'x': 788, 'confidence': 0.4078369140625}, {'z': 232, 'y': 613, 'x': 537, 'confidence': 0.2483154296875}]\n",
      "[{'z': 285, 'y': 290, 'x': 788, 'confidence': 0.4078369140625}, {'z': 232, 'y': 613, 'x': 537, 'confidence': 0.2483154296875}]\n",
      "Clearing pytorch\n",
      "Clearing cupy\n",
      "Processing tomogram tomo_08bf73 (1/1)\n",
      "Processing 800 out of 800 slices (CONCENTRATION=1)\n",
      "Processing 800 out of 800 slices (CONCENTRATION=1)\n",
      "[]\n",
      "Clearing pytorch\n",
      "Clearing cupy\n",
      "Processing tomogram tomo_098751 (1/1)\n",
      "Processing 500 out of 500 slices (CONCENTRATION=1)\n",
      "Processing 500 out of 500 slices (CONCENTRATION=1)\n",
      "[{'z': 253, 'y': 290, 'x': 312, 'confidence': 0.257568359375, 'i_model': 0}]\n",
      "XXXXXXX\n",
      "------------------\n",
      "   index    z    y    x  confidence  i_model\n",
      "0      0  253  290  312    0.257568        0\n",
      "------------------\n",
      "------------------\n",
      "Empty DataFrame\n",
      "Columns: [index, z, y, x, confidence, i_model]\n",
      "Index: []\n",
      "------------------\n",
      "FINAL\n",
      "[{'z': 253, 'y': 290, 'x': 312, 'confidence': 0.2287841796875}]\n",
      "[{'z': 253, 'y': 290, 'x': 312, 'confidence': 0.2287841796875}]\n",
      "     z    y    x  confidence\n",
      "0  155  319  644    0.524658\n",
      "1  160  702  505    0.299463\n",
      "     z    y    x  confidence\n",
      "0  269  721   66    0.444336\n",
      "1  146  251  816    0.274805\n",
      "[     z    y    x  confidence\n",
      "0  155  319  644    0.524658,      z    y   x  confidence\n",
      "0  269  721  66    0.444336, Empty DataFrame\n",
      "Columns: [z, y, x, confidence]\n",
      "Index: [],      z    y    x  confidence\n",
      "0  285  290  788    0.407837, Empty DataFrame\n",
      "Columns: [z, y, x, confidence]\n",
      "Index: [],      z    y    x  confidence\n",
      "0  253  290  312    0.228784]\n"
     ]
    }
   ],
   "source": [
    "model.step2Output.threshold = 0.1\n",
    "rr = model.infer(train_data[19:25])\n",
    "res = [r.labels for r in rr]\n",
    "\n",
    "print(rr[0].labels_unfiltered)\n",
    "print(rr[1].labels_unfiltered)\n",
    "print(res)"
   ]
  },
  {
   "cell_type": "code",
   "execution_count": 7,
   "id": "75e7e7bf-6789-464f-8a3a-01008ce9bef0",
   "metadata": {},
   "outputs": [
    {
     "name": "stdout",
     "output_type": "stream",
     "text": [
      "> \u001b[1;32mc:\\users\\jeroe\\anaconda3\\envs\\jupyterlab-debugger2\\lib\\site-packages\\pandas\\core\\indexes\\base.py\u001b[0m(3812)\u001b[0;36mget_loc\u001b[1;34m()\u001b[0m\n",
      "\u001b[1;32m   3810 \u001b[1;33m            ):\n",
      "\u001b[0m\u001b[1;32m   3811 \u001b[1;33m                \u001b[1;32mraise\u001b[0m \u001b[0mInvalidIndexError\u001b[0m\u001b[1;33m(\u001b[0m\u001b[0mkey\u001b[0m\u001b[1;33m)\u001b[0m\u001b[1;33m\u001b[0m\u001b[1;33m\u001b[0m\u001b[0m\n",
      "\u001b[0m\u001b[1;32m-> 3812 \u001b[1;33m            \u001b[1;32mraise\u001b[0m \u001b[0mKeyError\u001b[0m\u001b[1;33m(\u001b[0m\u001b[0mkey\u001b[0m\u001b[1;33m)\u001b[0m \u001b[1;32mfrom\u001b[0m \u001b[0merr\u001b[0m\u001b[1;33m\u001b[0m\u001b[1;33m\u001b[0m\u001b[0m\n",
      "\u001b[0m\u001b[1;32m   3813 \u001b[1;33m        \u001b[1;32mexcept\u001b[0m \u001b[0mTypeError\u001b[0m\u001b[1;33m:\u001b[0m\u001b[1;33m\u001b[0m\u001b[1;33m\u001b[0m\u001b[0m\n",
      "\u001b[0m\u001b[1;32m   3814 \u001b[1;33m            \u001b[1;31m# If we have a listlike key, _check_indexing_error will raise\u001b[0m\u001b[1;33m\u001b[0m\u001b[1;33m\u001b[0m\u001b[0m\n",
      "\u001b[0m\n"
     ]
    },
    {
     "name": "stdin",
     "output_type": "stream",
     "text": [
      "ipdb>  u\n"
     ]
    },
    {
     "name": "stdout",
     "output_type": "stream",
     "text": [
      "> \u001b[1;32mc:\\users\\jeroe\\anaconda3\\envs\\jupyterlab-debugger2\\lib\\site-packages\\pandas\\core\\series.py\u001b[0m(1237)\u001b[0;36m_get_value\u001b[1;34m()\u001b[0m\n",
      "\u001b[1;32m   1235 \u001b[1;33m\u001b[1;33m\u001b[0m\u001b[0m\n",
      "\u001b[0m\u001b[1;32m   1236 \u001b[1;33m        \u001b[1;31m# Similar to Index.get_value, but we do not fall back to positional\u001b[0m\u001b[1;33m\u001b[0m\u001b[1;33m\u001b[0m\u001b[0m\n",
      "\u001b[0m\u001b[1;32m-> 1237 \u001b[1;33m        \u001b[0mloc\u001b[0m \u001b[1;33m=\u001b[0m \u001b[0mself\u001b[0m\u001b[1;33m.\u001b[0m\u001b[0mindex\u001b[0m\u001b[1;33m.\u001b[0m\u001b[0mget_loc\u001b[0m\u001b[1;33m(\u001b[0m\u001b[0mlabel\u001b[0m\u001b[1;33m)\u001b[0m\u001b[1;33m\u001b[0m\u001b[1;33m\u001b[0m\u001b[0m\n",
      "\u001b[0m\u001b[1;32m   1238 \u001b[1;33m\u001b[1;33m\u001b[0m\u001b[0m\n",
      "\u001b[0m\u001b[1;32m   1239 \u001b[1;33m        \u001b[1;32mif\u001b[0m \u001b[0mis_integer\u001b[0m\u001b[1;33m(\u001b[0m\u001b[0mloc\u001b[0m\u001b[1;33m)\u001b[0m\u001b[1;33m:\u001b[0m\u001b[1;33m\u001b[0m\u001b[1;33m\u001b[0m\u001b[0m\n",
      "\u001b[0m\n"
     ]
    },
    {
     "name": "stdin",
     "output_type": "stream",
     "text": [
      "ipdb>  u\n"
     ]
    },
    {
     "name": "stdout",
     "output_type": "stream",
     "text": [
      "> \u001b[1;32mc:\\users\\jeroe\\anaconda3\\envs\\jupyterlab-debugger2\\lib\\site-packages\\pandas\\core\\series.py\u001b[0m(1121)\u001b[0;36m__getitem__\u001b[1;34m()\u001b[0m\n",
      "\u001b[1;32m   1119 \u001b[1;33m\u001b[1;33m\u001b[0m\u001b[0m\n",
      "\u001b[0m\u001b[1;32m   1120 \u001b[1;33m        \u001b[1;32melif\u001b[0m \u001b[0mkey_is_scalar\u001b[0m\u001b[1;33m:\u001b[0m\u001b[1;33m\u001b[0m\u001b[1;33m\u001b[0m\u001b[0m\n",
      "\u001b[0m\u001b[1;32m-> 1121 \u001b[1;33m            \u001b[1;32mreturn\u001b[0m \u001b[0mself\u001b[0m\u001b[1;33m.\u001b[0m\u001b[0m_get_value\u001b[0m\u001b[1;33m(\u001b[0m\u001b[0mkey\u001b[0m\u001b[1;33m)\u001b[0m\u001b[1;33m\u001b[0m\u001b[1;33m\u001b[0m\u001b[0m\n",
      "\u001b[0m\u001b[1;32m   1122 \u001b[1;33m\u001b[1;33m\u001b[0m\u001b[0m\n",
      "\u001b[0m\u001b[1;32m   1123 \u001b[1;33m        \u001b[1;31m# Convert generator to list before going through hashable part\u001b[0m\u001b[1;33m\u001b[0m\u001b[1;33m\u001b[0m\u001b[0m\n",
      "\u001b[0m\n"
     ]
    },
    {
     "name": "stdin",
     "output_type": "stream",
     "text": [
      "ipdb>  u\n"
     ]
    },
    {
     "name": "stdout",
     "output_type": "stream",
     "text": [
      "> \u001b[1;32md:\\flagellar\\code\\core\\flg_yolo2.py\u001b[0m(462)\u001b[0;36mperform_3d_nms\u001b[1;34m()\u001b[0m\n",
      "\u001b[1;32m    460 \u001b[1;33m                        \u001b[0mconf_per_model\u001b[0m\u001b[1;33m.\u001b[0m\u001b[0mappend\u001b[0m\u001b[1;33m(\u001b[0m\u001b[0mnp\u001b[0m\u001b[1;33m.\u001b[0m\u001b[0mmax\u001b[0m\u001b[1;33m(\u001b[0m\u001b[0mthis_detections_this_model\u001b[0m\u001b[1;33m[\u001b[0m\u001b[1;34m'confidence'\u001b[0m\u001b[1;33m]\u001b[0m\u001b[1;33m)\u001b[0m\u001b[1;33m)\u001b[0m\u001b[1;33m\u001b[0m\u001b[1;33m\u001b[0m\u001b[0m\n",
      "\u001b[0m\u001b[1;32m    461 \u001b[1;33m                \u001b[0mconf\u001b[0m \u001b[1;33m=\u001b[0m \u001b[0mnp\u001b[0m\u001b[1;33m.\u001b[0m\u001b[0mmean\u001b[0m\u001b[1;33m(\u001b[0m\u001b[0mconf_per_model\u001b[0m\u001b[1;33m)\u001b[0m\u001b[1;33m\u001b[0m\u001b[1;33m\u001b[0m\u001b[0m\n",
      "\u001b[0m\u001b[1;32m--> 462 \u001b[1;33m                \u001b[0mfinal_detections\u001b[0m\u001b[1;33m.\u001b[0m\u001b[0mappend\u001b[0m\u001b[1;33m(\u001b[0m\u001b[1;33m{\u001b[0m\u001b[1;34m'z'\u001b[0m\u001b[1;33m:\u001b[0m\u001b[0mthis_detections\u001b[0m\u001b[1;33m[\u001b[0m\u001b[1;34m'z'\u001b[0m\u001b[1;33m]\u001b[0m\u001b[1;33m[\u001b[0m\u001b[1;36m0\u001b[0m\u001b[1;33m]\u001b[0m\u001b[1;33m,\u001b[0m \u001b[1;34m'y'\u001b[0m\u001b[1;33m:\u001b[0m\u001b[0mthis_detections\u001b[0m\u001b[1;33m[\u001b[0m\u001b[1;34m'y'\u001b[0m\u001b[1;33m]\u001b[0m\u001b[1;33m[\u001b[0m\u001b[1;36m0\u001b[0m\u001b[1;33m]\u001b[0m\u001b[1;33m,\u001b[0m \u001b[1;34m'x'\u001b[0m\u001b[1;33m:\u001b[0m\u001b[0mthis_detections\u001b[0m\u001b[1;33m[\u001b[0m\u001b[1;34m'x'\u001b[0m\u001b[1;33m]\u001b[0m\u001b[1;33m[\u001b[0m\u001b[1;36m0\u001b[0m\u001b[1;33m]\u001b[0m\u001b[1;33m,\u001b[0m \u001b[1;34m'confidence'\u001b[0m\u001b[1;33m:\u001b[0m\u001b[0mconf\u001b[0m\u001b[1;33m}\u001b[0m\u001b[1;33m)\u001b[0m\u001b[1;33m\u001b[0m\u001b[1;33m\u001b[0m\u001b[0m\n",
      "\u001b[0m\u001b[1;32m    463 \u001b[1;33m                \u001b[0mprint\u001b[0m\u001b[1;33m(\u001b[0m\u001b[1;34m'FINAL'\u001b[0m\u001b[1;33m)\u001b[0m\u001b[1;33m\u001b[0m\u001b[1;33m\u001b[0m\u001b[0m\n",
      "\u001b[0m\u001b[1;32m    464 \u001b[1;33m                \u001b[0mprint\u001b[0m\u001b[1;33m(\u001b[0m\u001b[0mfinal_detections\u001b[0m\u001b[1;33m)\u001b[0m\u001b[1;33m\u001b[0m\u001b[1;33m\u001b[0m\u001b[0m\n",
      "\u001b[0m\n"
     ]
    },
    {
     "name": "stdin",
     "output_type": "stream",
     "text": [
      "ipdb>  u\n"
     ]
    },
    {
     "name": "stdout",
     "output_type": "stream",
     "text": [
      "> \u001b[1;32md:\\flagellar\\code\\core\\flg_yolo2.py\u001b[0m(534)\u001b[0;36mprocess_tomogram\u001b[1;34m()\u001b[0m\n",
      "\u001b[1;32m    532 \u001b[1;33m\u001b[1;33m\u001b[0m\u001b[0m\n",
      "\u001b[0m\u001b[1;32m    533 \u001b[1;33m            \u001b[0mdata\u001b[0m\u001b[1;33m.\u001b[0m\u001b[0mlabels_unfiltered2\u001b[0m \u001b[1;33m=\u001b[0m \u001b[0mall_detections\u001b[0m\u001b[1;33m\u001b[0m\u001b[1;33m\u001b[0m\u001b[0m\n",
      "\u001b[0m\u001b[1;32m--> 534 \u001b[1;33m            \u001b[0mfinal_detections\u001b[0m \u001b[1;33m=\u001b[0m \u001b[0mperform_3d_nms\u001b[0m\u001b[1;33m(\u001b[0m\u001b[0mall_detections\u001b[0m\u001b[1;33m)\u001b[0m\u001b[1;33m\u001b[0m\u001b[1;33m\u001b[0m\u001b[0m\n",
      "\u001b[0m\u001b[1;32m    535 \u001b[1;33m            \u001b[0mfinal_detections\u001b[0m\u001b[1;33m.\u001b[0m\u001b[0msort\u001b[0m\u001b[1;33m(\u001b[0m\u001b[0mkey\u001b[0m\u001b[1;33m=\u001b[0m\u001b[1;32mlambda\u001b[0m \u001b[0mx\u001b[0m\u001b[1;33m:\u001b[0m \u001b[0mx\u001b[0m\u001b[1;33m[\u001b[0m\u001b[1;34m'confidence'\u001b[0m\u001b[1;33m]\u001b[0m\u001b[1;33m,\u001b[0m \u001b[0mreverse\u001b[0m\u001b[1;33m=\u001b[0m\u001b[1;32mTrue\u001b[0m\u001b[1;33m)\u001b[0m\u001b[1;33m\u001b[0m\u001b[1;33m\u001b[0m\u001b[0m\n",
      "\u001b[0m\u001b[1;32m    536 \u001b[1;33m\u001b[1;33m\u001b[0m\u001b[0m\n",
      "\u001b[0m\n"
     ]
    },
    {
     "name": "stdin",
     "output_type": "stream",
     "text": [
      "ipdb>  d\n"
     ]
    },
    {
     "name": "stdout",
     "output_type": "stream",
     "text": [
      "> \u001b[1;32md:\\flagellar\\code\\core\\flg_yolo2.py\u001b[0m(462)\u001b[0;36mperform_3d_nms\u001b[1;34m()\u001b[0m\n",
      "\u001b[1;32m    460 \u001b[1;33m                        \u001b[0mconf_per_model\u001b[0m\u001b[1;33m.\u001b[0m\u001b[0mappend\u001b[0m\u001b[1;33m(\u001b[0m\u001b[0mnp\u001b[0m\u001b[1;33m.\u001b[0m\u001b[0mmax\u001b[0m\u001b[1;33m(\u001b[0m\u001b[0mthis_detections_this_model\u001b[0m\u001b[1;33m[\u001b[0m\u001b[1;34m'confidence'\u001b[0m\u001b[1;33m]\u001b[0m\u001b[1;33m)\u001b[0m\u001b[1;33m)\u001b[0m\u001b[1;33m\u001b[0m\u001b[1;33m\u001b[0m\u001b[0m\n",
      "\u001b[0m\u001b[1;32m    461 \u001b[1;33m                \u001b[0mconf\u001b[0m \u001b[1;33m=\u001b[0m \u001b[0mnp\u001b[0m\u001b[1;33m.\u001b[0m\u001b[0mmean\u001b[0m\u001b[1;33m(\u001b[0m\u001b[0mconf_per_model\u001b[0m\u001b[1;33m)\u001b[0m\u001b[1;33m\u001b[0m\u001b[1;33m\u001b[0m\u001b[0m\n",
      "\u001b[0m\u001b[1;32m--> 462 \u001b[1;33m                \u001b[0mfinal_detections\u001b[0m\u001b[1;33m.\u001b[0m\u001b[0mappend\u001b[0m\u001b[1;33m(\u001b[0m\u001b[1;33m{\u001b[0m\u001b[1;34m'z'\u001b[0m\u001b[1;33m:\u001b[0m\u001b[0mthis_detections\u001b[0m\u001b[1;33m[\u001b[0m\u001b[1;34m'z'\u001b[0m\u001b[1;33m]\u001b[0m\u001b[1;33m[\u001b[0m\u001b[1;36m0\u001b[0m\u001b[1;33m]\u001b[0m\u001b[1;33m,\u001b[0m \u001b[1;34m'y'\u001b[0m\u001b[1;33m:\u001b[0m\u001b[0mthis_detections\u001b[0m\u001b[1;33m[\u001b[0m\u001b[1;34m'y'\u001b[0m\u001b[1;33m]\u001b[0m\u001b[1;33m[\u001b[0m\u001b[1;36m0\u001b[0m\u001b[1;33m]\u001b[0m\u001b[1;33m,\u001b[0m \u001b[1;34m'x'\u001b[0m\u001b[1;33m:\u001b[0m\u001b[0mthis_detections\u001b[0m\u001b[1;33m[\u001b[0m\u001b[1;34m'x'\u001b[0m\u001b[1;33m]\u001b[0m\u001b[1;33m[\u001b[0m\u001b[1;36m0\u001b[0m\u001b[1;33m]\u001b[0m\u001b[1;33m,\u001b[0m \u001b[1;34m'confidence'\u001b[0m\u001b[1;33m:\u001b[0m\u001b[0mconf\u001b[0m\u001b[1;33m}\u001b[0m\u001b[1;33m)\u001b[0m\u001b[1;33m\u001b[0m\u001b[1;33m\u001b[0m\u001b[0m\n",
      "\u001b[0m\u001b[1;32m    463 \u001b[1;33m                \u001b[0mprint\u001b[0m\u001b[1;33m(\u001b[0m\u001b[1;34m'FINAL'\u001b[0m\u001b[1;33m)\u001b[0m\u001b[1;33m\u001b[0m\u001b[1;33m\u001b[0m\u001b[0m\n",
      "\u001b[0m\u001b[1;32m    464 \u001b[1;33m                \u001b[0mprint\u001b[0m\u001b[1;33m(\u001b[0m\u001b[0mfinal_detections\u001b[0m\u001b[1;33m)\u001b[0m\u001b[1;33m\u001b[0m\u001b[1;33m\u001b[0m\u001b[0m\n",
      "\u001b[0m\n"
     ]
    },
    {
     "name": "stdin",
     "output_type": "stream",
     "text": [
      "ipdb>  this_detections\n"
     ]
    },
    {
     "name": "stdout",
     "output_type": "stream",
     "text": [
      "      z    y    x  confidence  i_model\n",
      "27  160  702  505    0.398926        1\n"
     ]
    },
    {
     "name": "stdin",
     "output_type": "stream",
     "text": [
      "ipdb>  conf\n"
     ]
    },
    {
     "name": "stdout",
     "output_type": "stream",
     "text": [
      "0.299462890625\n"
     ]
    },
    {
     "name": "stdin",
     "output_type": "stream",
     "text": [
      "ipdb>  this_detections['z'][0]\n"
     ]
    },
    {
     "name": "stdout",
     "output_type": "stream",
     "text": [
      "*** KeyError: 0\n"
     ]
    },
    {
     "name": "stdin",
     "output_type": "stream",
     "text": [
      "ipdb>  q\n"
     ]
    }
   ],
   "source": [
    "%debug"
   ]
  },
  {
   "cell_type": "code",
   "execution_count": null,
   "id": "66fd7faf-91df-448c-9cfa-9aaf21a6d35d",
   "metadata": {},
   "outputs": [
    {
     "ename": "AssertionError",
     "evalue": "",
     "output_type": "error",
     "traceback": [
      "\u001b[1;31m---------------------------------------------------------------------------\u001b[0m",
      "\u001b[1;31mAssertionError\u001b[0m                            Traceback (most recent call last)",
      "Cell \u001b[1;32mIn[6], line 3\u001b[0m\n\u001b[0;32m      1\u001b[0m \u001b[38;5;28;01mif\u001b[39;00m fls\u001b[38;5;241m.\u001b[39menv\u001b[38;5;241m==\u001b[39m\u001b[38;5;124m'\u001b[39m\u001b[38;5;124mlocal\u001b[39m\u001b[38;5;124m'\u001b[39m:\n\u001b[0;32m      2\u001b[0m     ref_name \u001b[38;5;241m=\u001b[39m fls\u001b[38;5;241m.\u001b[39mcode_dir \u001b[38;5;241m+\u001b[39m \u001b[38;5;124m'\u001b[39m\u001b[38;5;124mref_yolo.pickle\u001b[39m\u001b[38;5;124m'\u001b[39m;\n\u001b[1;32m----> 3\u001b[0m     \u001b[38;5;28;01massert\u001b[39;00m \u001b[38;5;28mstr\u001b[39m(res) \u001b[38;5;241m==\u001b[39m \u001b[38;5;28mstr\u001b[39m(fls\u001b[38;5;241m.\u001b[39mdill_load(ref_name))\n",
      "\u001b[1;31mAssertionError\u001b[0m: "
     ]
    }
   ],
   "source": [
    "if fls.env=='local':\n",
    "    ref_name = fls.code_dir + 'ref_yolo.pickle';\n",
    "    assert str(res) == str(fls.dill_load(ref_name))"
   ]
  },
  {
   "cell_type": "code",
   "execution_count": 9,
   "id": "b5d22747-f2a3-4f83-b812-59b0b67f8dfb",
   "metadata": {},
   "outputs": [],
   "source": [
    "fls.dill_save(ref_name, str(res))"
   ]
  },
  {
   "cell_type": "code",
   "execution_count": 8,
   "id": "d137f760-e649-417b-90c5-4ccd8219ad22",
   "metadata": {},
   "outputs": [
    {
     "data": {
      "text/plain": [
       "[     z    y    x\n",
       " 0  155  319  644,\n",
       "      z    y   x\n",
       " 0  269  721  66]"
      ]
     },
     "execution_count": 8,
     "metadata": {},
     "output_type": "execute_result"
    }
   ],
   "source": [
    "fls.dill_load(ref_name)"
   ]
  },
  {
   "cell_type": "code",
   "execution_count": 18,
   "id": "d5de54ea-a390-410a-98ed-2df90a167f47",
   "metadata": {},
   "outputs": [
    {
     "data": {
      "text/plain": [
       "False"
      ]
     },
     "execution_count": 18,
     "metadata": {},
     "output_type": "execute_result"
    }
   ],
   "source": [
    "model.preprocessor.return_uint8"
   ]
  },
  {
   "cell_type": "code",
   "execution_count": 8,
   "id": "19d86cc7-75a0-4e35-b101-704c4944a0aa",
   "metadata": {},
   "outputs": [
    {
     "data": {
      "text/plain": [
       "SelectSingleMotors(threshold=0.31931931931931934, vals=array([          0,    0.001001,    0.002002,    0.003003,    0.004004,    0.005005,    0.006006,    0.007007,    0.008008,    0.009009,     0.01001,    0.011011,    0.012012,    0.013013,    0.014014,    0.015015,    0.016016,    0.017017,    0.018018,    0.019019,     0.02002,    0.021021,    0.022022,    0.023023,\n",
       "          0.024024,    0.025025,    0.026026,    0.027027,    0.028028,    0.029029,     0.03003,    0.031031,    0.032032,    0.033033,    0.034034,    0.035035,    0.036036,    0.037037,    0.038038,    0.039039,     0.04004,    0.041041,    0.042042,    0.043043,    0.044044,    0.045045,    0.046046,    0.047047,\n",
       "          0.048048,    0.049049,     0.05005,    0.051051,    0.052052,    0.053053,    0.054054,    0.055055,    0.056056,    0.057057,    0.058058,    0.059059,     0.06006,    0.061061,    0.062062,    0.063063,    0.064064,    0.065065,    0.066066,    0.067067,    0.068068,    0.069069,     0.07007,    0.071071,\n",
       "          0.072072,    0.073073,    0.074074,    0.075075,    0.076076,    0.077077,    0.078078,    0.079079,     0.08008,    0.081081,    0.082082,    0.083083,    0.084084,    0.085085,    0.086086,    0.087087,    0.088088,    0.089089,     0.09009,    0.091091,    0.092092,    0.093093,    0.094094,    0.095095,\n",
       "          0.096096,    0.097097,    0.098098,    0.099099,      0.1001,      0.1011,      0.1021,      0.1031,      0.1041,     0.10511,     0.10611,     0.10711,     0.10811,     0.10911,     0.11011,     0.11111,     0.11211,     0.11311,     0.11411,     0.11512,     0.11612,     0.11712,     0.11812,     0.11912,\n",
       "           0.12012,     0.12112,     0.12212,     0.12312,     0.12412,     0.12513,     0.12613,     0.12713,     0.12813,     0.12913,     0.13013,     0.13113,     0.13213,     0.13313,     0.13413,     0.13514,     0.13614,     0.13714,     0.13814,     0.13914,     0.14014,     0.14114,     0.14214,     0.14314,\n",
       "           0.14414,     0.14515,     0.14615,     0.14715,     0.14815,     0.14915,     0.15015,     0.15115,     0.15215,     0.15315,     0.15415,     0.15516,     0.15616,     0.15716,     0.15816,     0.15916,     0.16016,     0.16116,     0.16216,     0.16316,     0.16416,     0.16517,     0.16617,     0.16717,\n",
       "           0.16817,     0.16917,     0.17017,     0.17117,     0.17217,     0.17317,     0.17417,     0.17518,     0.17618,     0.17718,     0.17818,     0.17918,     0.18018,     0.18118,     0.18218,     0.18318,     0.18418,     0.18519,     0.18619,     0.18719,     0.18819,     0.18919,     0.19019,     0.19119,\n",
       "           0.19219,     0.19319,     0.19419,      0.1952,      0.1962,      0.1972,      0.1982,      0.1992,      0.2002,      0.2012,      0.2022,      0.2032,      0.2042,     0.20521,     0.20621,     0.20721,     0.20821,     0.20921,     0.21021,     0.21121,     0.21221,     0.21321,     0.21421,     0.21522,\n",
       "           0.21622,     0.21722,     0.21822,     0.21922,     0.22022,     0.22122,     0.22222,     0.22322,     0.22422,     0.22523,     0.22623,     0.22723,     0.22823,     0.22923,     0.23023,     0.23123,     0.23223,     0.23323,     0.23423,     0.23524,     0.23624,     0.23724,     0.23824,     0.23924,\n",
       "           0.24024,     0.24124,     0.24224,     0.24324,     0.24424,     0.24525,     0.24625,     0.24725,     0.24825,     0.24925,     0.25025,     0.25125,     0.25225,     0.25325,     0.25425,     0.25526,     0.25626,     0.25726,     0.25826,     0.25926,     0.26026,     0.26126,     0.26226,     0.26326,\n",
       "           0.26426,     0.26527,     0.26627,     0.26727,     0.26827,     0.26927,     0.27027,     0.27127,     0.27227,     0.27327,     0.27427,     0.27528,     0.27628,     0.27728,     0.27828,     0.27928,     0.28028,     0.28128,     0.28228,     0.28328,     0.28428,     0.28529,     0.28629,     0.28729,\n",
       "           0.28829,     0.28929,     0.29029,     0.29129,     0.29229,     0.29329,     0.29429,      0.2953,      0.2963,      0.2973,      0.2983,      0.2993,      0.3003,      0.3013,      0.3023,      0.3033,      0.3043,     0.30531,     0.30631,     0.30731,     0.30831,     0.30931,     0.31031,     0.31131,\n",
       "           0.31231,     0.31331,     0.31431,     0.31532,     0.31632,     0.31732,     0.31832,     0.31932,     0.32032,     0.32132,     0.32232,     0.32332,     0.32432,     0.32533,     0.32633,     0.32733,     0.32833,     0.32933,     0.33033,     0.33133,     0.33233,     0.33333,     0.33433,     0.33534,\n",
       "           0.33634,     0.33734,     0.33834,     0.33934,     0.34034,     0.34134,     0.34234,     0.34334,     0.34434,     0.34535,     0.34635,     0.34735,     0.34835,     0.34935,     0.35035,     0.35135,     0.35235,     0.35335,     0.35435,     0.35536,     0.35636,     0.35736,     0.35836,     0.35936,\n",
       "           0.36036,     0.36136,     0.36236,     0.36336,     0.36436,     0.36537,     0.36637,     0.36737,     0.36837,     0.36937,     0.37037,     0.37137,     0.37237,     0.37337,     0.37437,     0.37538,     0.37638,     0.37738,     0.37838,     0.37938,     0.38038,     0.38138,     0.38238,     0.38338,\n",
       "           0.38438,     0.38539,     0.38639,     0.38739,     0.38839,     0.38939,     0.39039,     0.39139,     0.39239,     0.39339,     0.39439,      0.3954,      0.3964,      0.3974,      0.3984,      0.3994,      0.4004,      0.4014,      0.4024,      0.4034,      0.4044,     0.40541,     0.40641,     0.40741,\n",
       "           0.40841,     0.40941,     0.41041,     0.41141,     0.41241,     0.41341,     0.41441,     0.41542,     0.41642,     0.41742,     0.41842,     0.41942,     0.42042,     0.42142,     0.42242,     0.42342,     0.42442,     0.42543,     0.42643,     0.42743,     0.42843,     0.42943,     0.43043,     0.43143,\n",
       "           0.43243,     0.43343,     0.43443,     0.43544,     0.43644,     0.43744,     0.43844,     0.43944,     0.44044,     0.44144,     0.44244,     0.44344,     0.44444,     0.44545,     0.44645,     0.44745,     0.44845,     0.44945,     0.45045,     0.45145,     0.45245,     0.45345,     0.45445,     0.45546,\n",
       "           0.45646,     0.45746,     0.45846,     0.45946,     0.46046,     0.46146,     0.46246,     0.46346,     0.46446,     0.46547,     0.46647,     0.46747,     0.46847,     0.46947,     0.47047,     0.47147,     0.47247,     0.47347,     0.47447,     0.47548,     0.47648,     0.47748,     0.47848,     0.47948,\n",
       "           0.48048,     0.48148,     0.48248,     0.48348,     0.48448,     0.48549,     0.48649,     0.48749,     0.48849,     0.48949,     0.49049,     0.49149,     0.49249,     0.49349,     0.49449,      0.4955,      0.4965,      0.4975,      0.4985,      0.4995,      0.5005,      0.5015,      0.5025,      0.5035,\n",
       "            0.5045,     0.50551,     0.50651,     0.50751,     0.50851,     0.50951,     0.51051,     0.51151,     0.51251,     0.51351,     0.51451,     0.51552,     0.51652,     0.51752,     0.51852,     0.51952,     0.52052,     0.52152,     0.52252,     0.52352,     0.52452,     0.52553,     0.52653,     0.52753,\n",
       "           0.52853,     0.52953,     0.53053,     0.53153,     0.53253,     0.53353,     0.53453,     0.53554,     0.53654,     0.53754,     0.53854,     0.53954,     0.54054,     0.54154,     0.54254,     0.54354,     0.54454,     0.54555,     0.54655,     0.54755,     0.54855,     0.54955,     0.55055,     0.55155,\n",
       "           0.55255,     0.55355,     0.55455,     0.55556,     0.55656,     0.55756,     0.55856,     0.55956,     0.56056,     0.56156,     0.56256,     0.56356,     0.56456,     0.56557,     0.56657,     0.56757,     0.56857,     0.56957,     0.57057,     0.57157,     0.57257,     0.57357,     0.57457,     0.57558,\n",
       "           0.57658,     0.57758,     0.57858,     0.57958,     0.58058,     0.58158,     0.58258,     0.58358,     0.58458,     0.58559,     0.58659,     0.58759,     0.58859,     0.58959,     0.59059,     0.59159,     0.59259,     0.59359,     0.59459,      0.5956,      0.5966,      0.5976,      0.5986,      0.5996,\n",
       "            0.6006,      0.6016,      0.6026,      0.6036,      0.6046,     0.60561,     0.60661,     0.60761,     0.60861,     0.60961,     0.61061,     0.61161,     0.61261,     0.61361,     0.61461,     0.61562,     0.61662,     0.61762,     0.61862,     0.61962,     0.62062,     0.62162,     0.62262,     0.62362,\n",
       "           0.62462,     0.62563,     0.62663,     0.62763,     0.62863,     0.62963,     0.63063,     0.63163,     0.63263,     0.63363,     0.63463,     0.63564,     0.63664,     0.63764,     0.63864,     0.63964,     0.64064,     0.64164,     0.64264,     0.64364,     0.64464,     0.64565,     0.64665,     0.64765,\n",
       "           0.64865,     0.64965,     0.65065,     0.65165,     0.65265,     0.65365,     0.65465,     0.65566,     0.65666,     0.65766,     0.65866,     0.65966,     0.66066,     0.66166,     0.66266,     0.66366,     0.66466,     0.66567,     0.66667,     0.66767,     0.66867,     0.66967,     0.67067,     0.67167,\n",
       "           0.67267,     0.67367,     0.67467,     0.67568,     0.67668,     0.67768,     0.67868,     0.67968,     0.68068,     0.68168,     0.68268,     0.68368,     0.68468,     0.68569,     0.68669,     0.68769,     0.68869,     0.68969,     0.69069,     0.69169,     0.69269,     0.69369,     0.69469,      0.6957,\n",
       "            0.6967,      0.6977,      0.6987,      0.6997,      0.7007,      0.7017,      0.7027,      0.7037,      0.7047,     0.70571,     0.70671,     0.70771,     0.70871,     0.70971,     0.71071,     0.71171,     0.71271,     0.71371,     0.71471,     0.71572,     0.71672,     0.71772,     0.71872,     0.71972,\n",
       "           0.72072,     0.72172,     0.72272,     0.72372,     0.72472,     0.72573,     0.72673,     0.72773,     0.72873,     0.72973,     0.73073,     0.73173,     0.73273,     0.73373,     0.73473,     0.73574,     0.73674,     0.73774,     0.73874,     0.73974,     0.74074,     0.74174,     0.74274,     0.74374,\n",
       "           0.74474,     0.74575,     0.74675,     0.74775,     0.74875,     0.74975,     0.75075,     0.75175,     0.75275,     0.75375,     0.75475,     0.75576,     0.75676,     0.75776,     0.75876,     0.75976,     0.76076,     0.76176,     0.76276,     0.76376,     0.76476,     0.76577,     0.76677,     0.76777,\n",
       "           0.76877,     0.76977,     0.77077,     0.77177,     0.77277,     0.77377,     0.77477,     0.77578,     0.77678,     0.77778,     0.77878,     0.77978,     0.78078,     0.78178,     0.78278,     0.78378,     0.78478,     0.78579,     0.78679,     0.78779,     0.78879,     0.78979,     0.79079,     0.79179,\n",
       "           0.79279,     0.79379,     0.79479,      0.7958,      0.7968,      0.7978,      0.7988,      0.7998,      0.8008,      0.8018,      0.8028,      0.8038,      0.8048,     0.80581,     0.80681,     0.80781,     0.80881,     0.80981,     0.81081,     0.81181,     0.81281,     0.81381,     0.81481,     0.81582,\n",
       "           0.81682,     0.81782,     0.81882,     0.81982,     0.82082,     0.82182,     0.82282,     0.82382,     0.82482,     0.82583,     0.82683,     0.82783,     0.82883,     0.82983,     0.83083,     0.83183,     0.83283,     0.83383,     0.83483,     0.83584,     0.83684,     0.83784,     0.83884,     0.83984,\n",
       "           0.84084,     0.84184,     0.84284,     0.84384,     0.84484,     0.84585,     0.84685,     0.84785,     0.84885,     0.84985,     0.85085,     0.85185,     0.85285,     0.85385,     0.85485,     0.85586,     0.85686,     0.85786,     0.85886,     0.85986,     0.86086,     0.86186,     0.86286,     0.86386,\n",
       "           0.86486,     0.86587,     0.86687,     0.86787,     0.86887,     0.86987,     0.87087,     0.87187,     0.87287,     0.87387,     0.87487,     0.87588,     0.87688,     0.87788,     0.87888,     0.87988,     0.88088,     0.88188,     0.88288,     0.88388,     0.88488,     0.88589,     0.88689,     0.88789,\n",
       "           0.88889,     0.88989,     0.89089,     0.89189,     0.89289,     0.89389,     0.89489,      0.8959,      0.8969,      0.8979,      0.8989,      0.8999,      0.9009,      0.9019,      0.9029,      0.9039,      0.9049,     0.90591,     0.90691,     0.90791,     0.90891,     0.90991,     0.91091,     0.91191,\n",
       "           0.91291,     0.91391,     0.91491,     0.91592,     0.91692,     0.91792,     0.91892,     0.91992,     0.92092,     0.92192,     0.92292,     0.92392,     0.92492,     0.92593,     0.92693,     0.92793,     0.92893,     0.92993,     0.93093,     0.93193,     0.93293,     0.93393,     0.93493,     0.93594,\n",
       "           0.93694,     0.93794,     0.93894,     0.93994,     0.94094,     0.94194,     0.94294,     0.94394,     0.94494,     0.94595,     0.94695,     0.94795,     0.94895,     0.94995,     0.95095,     0.95195,     0.95295,     0.95395,     0.95495,     0.95596,     0.95696,     0.95796,     0.95896,     0.95996,\n",
       "           0.96096,     0.96196,     0.96296,     0.96396,     0.96496,     0.96597,     0.96697,     0.96797,     0.96897,     0.96997,     0.97097,     0.97197,     0.97297,     0.97397,     0.97497,     0.97598,     0.97698,     0.97798,     0.97898,     0.97998,     0.98098,     0.98198,     0.98298,     0.98398,\n",
       "           0.98498,     0.98599,     0.98699,     0.98799,     0.98899,     0.98999,     0.99099,     0.99199,     0.99299,     0.99399,     0.99499,       0.996,       0.997,       0.998,       0.999,           1]))"
      ]
     },
     "execution_count": 8,
     "metadata": {},
     "output_type": "execute_result"
    }
   ],
   "source": [
    "model.step2Output"
   ]
  },
  {
   "cell_type": "code",
   "execution_count": null,
   "id": "f028b043-bb79-4462-8330-76af3d2f70a4",
   "metadata": {},
   "outputs": [],
   "source": []
  }
 ],
 "metadata": {
  "kernelspec": {
   "display_name": "Python 3 (ipykernel)",
   "language": "python",
   "name": "python3"
  },
  "language_info": {
   "codemirror_mode": {
    "name": "ipython",
    "version": 3
   },
   "file_extension": ".py",
   "mimetype": "text/x-python",
   "name": "python",
   "nbconvert_exporter": "python",
   "pygments_lexer": "ipython3",
   "version": "3.10.14"
  }
 },
 "nbformat": 4,
 "nbformat_minor": 5
}
