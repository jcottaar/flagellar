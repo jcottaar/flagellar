{
 "cells": [
  {
   "cell_type": "code",
   "execution_count": 1,
   "id": "2a837d78-5dff-48d9-9753-37e382d9f7b6",
   "metadata": {},
   "outputs": [
    {
     "name": "stdout",
     "output_type": "stream",
     "text": [
      "MainProcess\n"
     ]
    }
   ],
   "source": [
    "import sys\n",
    "sys.path.append('d:/flagellar/code/core')\n",
    "sys.path.append('/flagellar/code/core/')\n",
    "sys.path.append('/kaggle/input/my-flagellar-library/')\n",
    "import flg_support as fls\n",
    "import flg_unet\n",
    "import flg_numerics\n",
    "import flg_model\n",
    "import flg_preprocess\n",
    "import importlib\n",
    "import numpy as np\n",
    "import matplotlib.pyplot as plt\n",
    "import time\n",
    "import copy\n",
    "import flg_yolo\n",
    "\n",
    "fast_mode = False\n",
    "if fls.is_submission:\n",
    "    fast_mode = False\n",
    "fls.profiling = True"
   ]
  },
  {
   "cell_type": "code",
   "execution_count": 2,
   "id": "91d1e6fc-cec1-42de-b9cd-3fa7e82cce07",
   "metadata": {},
   "outputs": [
    {
     "name": "stderr",
     "output_type": "stream",
     "text": [
      "C:\\Users\\jeroe\\anaconda3\\envs\\jupyterlab-debugger2\\lib\\site-packages\\cupyx\\jit\\_interface.py:173: FutureWarning: cupyx.jit.rawkernel is experimental. The interface can change in the future.\n",
      "  cupy._util.experimental('cupyx.jit.rawkernel')\n"
     ]
    },
    {
     "name": "stdout",
     "output_type": "stream",
     "text": [
      "Timer unit: 1e-07 s\n",
      "\n",
      "Total time: 8.23428 s\n",
      "File: d:\\flagellar/code/core\\flg_preprocess.py\n",
      "Function: load_and_preprocess at line 52\n",
      "\n",
      "Line #      Hits         Time  Per Hit   % Time  Line Contents\n",
      "==============================================================\n",
      "    52                                               @fls.profile_each_line\n",
      "    53                                               def load_and_preprocess(self, data, desired_original_slices = None):\n",
      "    54                                           \n",
      "    55         1   16643877.0    2e+07     20.2          data.load_to_memory(desired_slices = desired_original_slices, pad_to_original_size = self.pad_to_original_size)\n",
      "    56                                           \n",
      "    57         1        108.0    108.0      0.0          fls.claim_gpu('cupy')\n",
      "    58         1          5.0      5.0      0.0          while True:\n",
      "    59         1          6.0      6.0      0.0              try:\n",
      "    60         1    6780038.0    7e+06      8.2                  img = cp.array(data.data).astype(cp.float32)\n",
      "    61         1          7.0      7.0      0.0                  break\n",
      "    62                                                       except:\n",
      "    63                                                           fls.claim_gpu('')\n",
      "    64                                                           time.sleep(1)\n",
      "    65                                                           fls.claim_gpu('cupy')\n",
      "    66                                                           print('failed cupy')\n",
      "    67                                                           pass\n",
      "    68                                           \n",
      "    69                                                   # Scale percentile\n",
      "    70         1         22.0     22.0      0.0          if self.scale_percentile:\n",
      "    71                                                       for ii in range(img.shape[0]):\n",
      "    72                                                           perc_low = cp.percentile(img[ii,:,:], self.scale_percentile_value)\n",
      "    73                                                           perc_high = cp.percentile(img[ii,:,:], 100-self.scale_percentile_value)\n",
      "    74                                                           img[ii,:,:] = (img[ii,:,:]-perc_low)/(perc_high-perc_low)\n",
      "    75                                                       if self.scale_percentile_clip:\n",
      "    76                                                           img = cp.clip(img, 0., 1.)\n",
      "    77                                           \n",
      "    78         1     211893.0 211893.0      0.3          blur_matrix = cp.ones((self.blur_z,1), dtype=cp.float16)/self.blur_z\n",
      "    79         1    1132446.0    1e+06      1.4          import cupyx.scipy.signal\n",
      "    80      1848       8715.0      4.7      0.0          for ii in range(img.shape[2]):\n",
      "    81      1847    7809044.0   4228.0      9.5              img[:,:,ii] = cupyx.scipy.signal.fftconvolve(img[:,:,ii], blur_matrix, mode='same')\n",
      "    82                                           \n",
      "    83                                           \n",
      "    84                                                   # Moving average/STD scaling\n",
      "    85         1         12.0     12.0      0.0          if self.scale_moving_average:\n",
      "    86         1        781.0    781.0      0.0              moving_size = np.round(np.sqrt(img.shape[1]*img.shape[2])*self.moving_ratio).astype(int)\n",
      "    87         1         47.0     47.0      0.0              pad_size = moving_size//2\n",
      "    88                                                       #print(moving_size)\n",
      "    89         1    2837335.0    3e+06      3.4              conv_matrix = cp.ones((moving_size,moving_size), dtype=cp.float32)\n",
      "    90         1     184637.0 184637.0      0.2              conv_matrix = conv_matrix/np.sum(conv_matrix)\n",
      "    91       501       2687.0      5.4      0.0              for ii in range(img.shape[0]):\n",
      "    92       500      46566.0     93.1      0.1                  arr = img[ii,...]\n",
      "    93       500    5130981.0  10262.0      6.2                  moving_mean = cupyx.scipy.signal.fftconvolve(arr, conv_matrix, mode='same')  \n",
      "    94       500    1507218.0   3014.4      1.8                  assert cp.max(moving_mean)>0\n",
      "    95       500      55343.0    110.7      0.1                  moving_mean = moving_mean[pad_size:-pad_size,pad_size:-pad_size]\n",
      "    96       500    2115255.0   4230.5      2.6                  moving_mean = cp.pad(moving_mean, ((pad_size,pad_size),(pad_size,pad_size)), mode='edge')\n",
      "    97       500       3789.0      7.6      0.0                  if not self.scale_also_moving_std:\n",
      "    98                                                               img[ii,...] = (arr - moving_mean)\n",
      "    99                                                           else:\n",
      "   100       500    5548384.0  11096.8      6.7                      moving_mean_of_squared = cupyx.scipy.signal.fftconvolve(arr**2, conv_matrix, mode='same')            \n",
      "   101       500    1536873.0   3073.7      1.9                      assert cp.max(moving_mean_of_squared)>0\n",
      "   102       500      53752.0    107.5      0.1                      moving_mean_of_squared = moving_mean_of_squared[pad_size:-pad_size,pad_size:-pad_size]\n",
      "   103       500    2079304.0   4158.6      2.5                      moving_mean_of_squared = cp.pad(moving_mean_of_squared, ((pad_size,pad_size),(pad_size,pad_size)), mode='edge')\n",
      "   104       500     520400.0   1040.8      0.6                      moving_std = moving_mean_of_squared - moving_mean**2\n",
      "   105       500     576258.0   1152.5      0.7                      img[ii,...] = ((arr - moving_mean)/moving_std)\n",
      "   106                                                               \n",
      "   107                                                               \n",
      "   108                                           \n",
      "   109                                                   # Scale STD\n",
      "   110         1         15.0     15.0      0.0          if self.scale_std:\n",
      "   111         1       2585.0   2585.0      0.0              mean_per_slice = cp.mean(img,axis=(1,2))\n",
      "   112         1    1422021.0    1e+06      1.7              std_per_slice = cp.std(img,axis=(1,2)).astype(cp.float16)\n",
      "   113       501       2367.0      4.7      0.0              for ii in range(img.shape[0]):\n",
      "   114       500    3722942.0   7445.9      4.5                  img[ii,...] = (img[ii,...] - mean_per_slice[ii,None,None]) / std_per_slice[ii,None,None]\n",
      "   115       500      24422.0     48.8      0.0                  if not np.isnan(self.scale_std_clip_value):\n",
      "   116       500    3420625.0   6841.2      4.2                      img[ii,...] = (img[ii,...]+self.scale_std_clip_value)/(2*self.scale_std_clip_value)\n",
      "   117       500    2861980.0   5724.0      3.5                      img[ii,...] = cp.clip(img[ii,...], 0., 1.)     \n",
      "   118                                                       #for ii in range(img.shape[0]):\n",
      "   119                                                       #    img[ii,:,:,] = (img[ii,:,:,]-mean_list[ii])/std_list[ii]\n",
      "   120                                                           \n",
      "   121                                                   # Resize\n",
      "   122         1         15.0     15.0      0.0          if self.resize:\n",
      "   123                                                       import cupyx.scipy.ndimage\n",
      "   124                                                       #print(img.shape)\n",
      "   125                                                       data.resize_factor = min(self.resize_target/img.shape[1], self.resize_target/img.shape[2])\n",
      "   126                                                       #test_data = cupyx.scipy.ndimage.zoom(img[0,:,:], data.resize_factor)\n",
      "   127                                                       # data_new = cp.zeros((img.shape[0], test_data.shape[0], test_data.shape[1]), dtype=img.dtype)\n",
      "   128                                                       # for ii in range(img.shape[0]):\n",
      "   129                                                       #     data_new[ii,:,:] = cupyx.scipy.ndimage.zoom(img[ii,:,:], data.resize_factor)\n",
      "   130                                                       # img = data_new\n",
      "   131                                                       # test_data = cupyx.scipy.ndimage.zoom(img[:,0,0], data.resize_factor)\n",
      "   132                                                       # data_new = cp.zeros((test_data.shape[0], img.shape[1], img.shape[2]), dtype=img.dtype)\n",
      "   133                                                       # for ii in range(img.shape[1]):\n",
      "   134                                                       #     data_new[:,ii,:] = cupyx.scipy.ndimage.zoom(img[:,ii,:], (data.resize_factor,1.))\n",
      "   135                                                       img = cupyx.scipy.ndimage.zoom(img, (data.resize_factor,data.resize_factor,data.resize_factor))\n",
      "   136                                                       #print(img.shape)\n",
      "   137                                           \n",
      "   138                                                       data.data_shape = img.shape\n",
      "   139                                                       data.voxel_spacing = data.voxel_spacing/data.resize_factor\n",
      "   140                                                   else:\n",
      "   141         1        108.0    108.0      0.0              data.resize_factor = 1.\n",
      "   142                                                   \n",
      "   143                                                   # Cast to uint8\n",
      "   144         1          8.0      8.0      0.0          if self.return_uint8:\n",
      "   145                                                       if self.scale_percentile:\n",
      "   146                                                           img = (255*img).astype(cp.uint8)\n",
      "   147                                                       else:\n",
      "   148                                                           img = (img).astype(cp.uint8)\n",
      "   149                                           \n",
      "   150         1          6.0      6.0      0.0          if self.invert_sign:\n",
      "   151                                                       img = cp.max(img)-img\n",
      "   152                                           \n",
      "   153         1   16099953.0    2e+07     19.6          data.data = cp.asnumpy(img)\n",
      "\n"
     ]
    }
   ],
   "source": [
    "data = fls.load_all_test_data()\n",
    "prep = flg_preprocess.Preprocessor()\n",
    "prep.scale_moving_average = True\n",
    "prep.load_and_preprocess(data[0])"
   ]
  },
  {
   "cell_type": "code",
   "execution_count": 3,
   "id": "bbbd4214-37dc-48f7-ab7e-3a7dfdc1bc11",
   "metadata": {},
   "outputs": [
    {
     "name": "stderr",
     "output_type": "stream",
     "text": [
      "ERROR:root:No traceback has been produced, nothing to debug.\n"
     ]
    }
   ],
   "source": [
    "%debug"
   ]
  },
  {
   "cell_type": "code",
   "execution_count": null,
   "id": "db1ac07b-1ce8-4854-8730-455abd1b375a",
   "metadata": {},
   "outputs": [],
   "source": []
  }
 ],
 "metadata": {
  "kaggle": {
   "accelerator": "nvidiaTeslaT4",
   "dataSources": [
    {
     "databundleVersionId": 11294684,
     "isSourceIdPinned": false,
     "sourceId": 91249,
     "sourceType": "competition"
    },
    {
     "datasetId": 6925042,
     "sourceId": 11204341,
     "sourceType": "datasetVersion"
    },
    {
     "datasetId": 6949538,
     "sourceId": 11204343,
     "sourceType": "datasetVersion"
    },
    {
     "sourceId": 211097053,
     "sourceType": "kernelVersion"
    },
    {
     "sourceId": 229283084,
     "sourceType": "kernelVersion"
    }
   ],
   "dockerImageVersionId": 30919,
   "isGpuEnabled": true,
   "isInternetEnabled": false,
   "language": "python",
   "sourceType": "notebook"
  },
  "kernelspec": {
   "display_name": "Python 3 (ipykernel)",
   "language": "python",
   "name": "python3"
  },
  "language_info": {
   "codemirror_mode": {
    "name": "ipython",
    "version": 3
   },
   "file_extension": ".py",
   "mimetype": "text/x-python",
   "name": "python",
   "nbconvert_exporter": "python",
   "pygments_lexer": "ipython3",
   "version": "3.10.14"
  }
 },
 "nbformat": 4,
 "nbformat_minor": 5
}
