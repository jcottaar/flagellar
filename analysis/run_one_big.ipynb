{
 "cells": [
  {
   "cell_type": "code",
   "execution_count": 1,
   "id": "e0b4b630-bd17-4d7f-97ef-001707dcf970",
   "metadata": {
    "scrolled": true
   },
   "outputs": [
    {
     "name": "stdout",
     "output_type": "stream",
     "text": [
      "MainProcess\n"
     ]
    }
   ],
   "source": [
    "import sys\n",
    "sys.path.append('d:/flagellar/code/core')\n",
    "sys.path.append('/flagellar/code/core')\n",
    "sys.path.append('/kaggle/input/my-flg-library/')\n",
    "import flg_support as fls\n",
    "import importlib\n",
    "import numpy as np\n",
    "import flg_diagnostics\n",
    "import flg_numerics\n",
    "import matplotlib.pyplot as plt"
   ]
  },
  {
   "cell_type": "code",
   "execution_count": 4,
   "id": "a6fc8b6c-768d-4cc0-9654-0ba225c812cf",
   "metadata": {},
   "outputs": [
    {
     "name": "stdout",
     "output_type": "stream",
     "text": [
      "Clearing pytorch\n",
      "Clearing cupy\n",
      "YOLOv8m summary (fused): 92 layers, 25,840,339 parameters, 0 gradients, 78.7 GFLOPs\n",
      "Processing tomogram tomo_003acc (1/1)\n",
      "Processing 500 out of 500 slices (CONCENTRATION=1)\n",
      "Motor found in tomo_003acc at position: z=-1, y=-1, x=-1\n",
      "tomo_003acc total infer time: 17.461995363235474\n",
      "Clearing pytorch\n",
      "Clearing cupy\n",
      "Processing tomogram tomo_00e047 (1/1)\n",
      "Processing 300 out of 300 slices (CONCENTRATION=1)\n",
      "[{'z': 169, 'y': 546, 'x': 605, 'confidence': 0.62451171875}, {'z': 164, 'y': 545, 'x': 604, 'confidence': 0.525390625}, {'z': 175, 'y': 543, 'x': 605, 'confidence': 0.494140625}, {'z': 182, 'y': 545, 'x': 606, 'confidence': 0.382080078125}]\n",
      "Motor found in tomo_00e047 at position: z=169, y=546, x=605\n",
      "tomo_00e047 total infer time: 4.7970130443573\n",
      "Clearing pytorch\n",
      "Clearing cupy\n",
      "Processing tomogram tomo_01a877 (1/1)\n",
      "Processing 300 out of 300 slices (CONCENTRATION=1)\n",
      "[{'z': 144, 'y': 636, 'x': 288, 'confidence': 0.546875}, {'z': 153, 'y': 637, 'x': 283, 'confidence': 0.5390625}, {'z': 158, 'y': 637, 'x': 280, 'confidence': 0.4716796875}, {'z': 139, 'y': 637, 'x': 289, 'confidence': 0.4599609375}, {'z': 148, 'y': 637, 'x': 284, 'confidence': 0.452392578125}]\n",
      "Motor found in tomo_01a877 at position: z=144, y=636, x=288\n",
      "tomo_01a877 total infer time: 4.266194820404053\n"
     ]
    },
    {
     "data": {
      "text/html": [
       "<div>\n",
       "<style scoped>\n",
       "    .dataframe tbody tr th:only-of-type {\n",
       "        vertical-align: middle;\n",
       "    }\n",
       "\n",
       "    .dataframe tbody tr th {\n",
       "        vertical-align: top;\n",
       "    }\n",
       "\n",
       "    .dataframe thead th {\n",
       "        text-align: right;\n",
       "    }\n",
       "</style>\n",
       "<table border=\"1\" class=\"dataframe\">\n",
       "  <thead>\n",
       "    <tr style=\"text-align: right;\">\n",
       "      <th></th>\n",
       "      <th>tomo_id</th>\n",
       "      <th>Motor axis 0</th>\n",
       "      <th>Motor axis 1</th>\n",
       "      <th>Motor axis 2</th>\n",
       "    </tr>\n",
       "  </thead>\n",
       "  <tbody>\n",
       "    <tr>\n",
       "      <th>0</th>\n",
       "      <td>tomo_003acc</td>\n",
       "      <td>-1</td>\n",
       "      <td>-1</td>\n",
       "      <td>-1</td>\n",
       "    </tr>\n",
       "    <tr>\n",
       "      <th>1</th>\n",
       "      <td>tomo_00e047</td>\n",
       "      <td>169</td>\n",
       "      <td>546</td>\n",
       "      <td>605</td>\n",
       "    </tr>\n",
       "    <tr>\n",
       "      <th>2</th>\n",
       "      <td>tomo_01a877</td>\n",
       "      <td>144</td>\n",
       "      <td>636</td>\n",
       "      <td>288</td>\n",
       "    </tr>\n",
       "  </tbody>\n",
       "</table>\n",
       "</div>"
      ],
      "text/plain": [
       "       tomo_id  Motor axis 0  Motor axis 1  Motor axis 2\n",
       "0  tomo_003acc            -1            -1            -1\n",
       "1  tomo_00e047           169           546           605\n",
       "2  tomo_01a877           144           636           288"
      ]
     },
     "execution_count": 4,
     "metadata": {},
     "output_type": "execute_result"
    }
   ],
   "source": [
    "model = fls.dill_load(fls.result_dir + 'many_full/Baseline_0_a103863a_651 _f.pickle').trained_model\n",
    "fls.profiling=True\n",
    "model.run_in_parallel = False\n",
    "inferred_test_data = model.infer(fls.load_all_test_data())\n",
    "fls.create_submission_dataframe(inferred_test_data)"
   ]
  },
  {
   "cell_type": "code",
   "execution_count": null,
   "id": "8a55f2f6-454c-4392-b4e4-e861ae81d953",
   "metadata": {},
   "outputs": [],
   "source": []
  }
 ],
 "metadata": {
  "kernelspec": {
   "display_name": "Python 3 (ipykernel)",
   "language": "python",
   "name": "python3"
  },
  "language_info": {
   "codemirror_mode": {
    "name": "ipython",
    "version": 3
   },
   "file_extension": ".py",
   "mimetype": "text/x-python",
   "name": "python",
   "nbconvert_exporter": "python",
   "pygments_lexer": "ipython3",
   "version": "3.11.10"
  }
 },
 "nbformat": 4,
 "nbformat_minor": 5
}
