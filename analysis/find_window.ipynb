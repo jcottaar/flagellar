{
 "cells": [
  {
   "cell_type": "code",
   "execution_count": 1,
   "id": "c8a21d99-c88f-46af-ad14-961933652f65",
   "metadata": {
    "editable": true,
    "slideshow": {
     "slide_type": ""
    },
    "tags": []
   },
   "outputs": [
    {
     "name": "stdout",
     "output_type": "stream",
     "text": [
      "MainProcess\n"
     ]
    },
    {
     "ename": "FileNotFoundError",
     "evalue": "[Errno 2] No such file or directory: 'd:/flagellar/temp//model.pickle'",
     "output_type": "error",
     "traceback": [
      "\u001b[1;31m---------------------------------------------------------------------------\u001b[0m",
      "\u001b[1;31mFileNotFoundError\u001b[0m                         Traceback (most recent call last)",
      "Cell \u001b[1;32mIn[1], line 19\u001b[0m\n\u001b[0;32m     17\u001b[0m \u001b[38;5;28;01mimport\u001b[39;00m \u001b[38;5;21;01mcopy\u001b[39;00m\n\u001b[0;32m     18\u001b[0m train_data \u001b[38;5;241m=\u001b[39m fls\u001b[38;5;241m.\u001b[39mload_all_train_data()\n\u001b[1;32m---> 19\u001b[0m model_loaded \u001b[38;5;241m=\u001b[39m \u001b[43mfls\u001b[49m\u001b[38;5;241;43m.\u001b[39;49m\u001b[43mdill_load\u001b[49m\u001b[43m(\u001b[49m\u001b[43mfls\u001b[49m\u001b[38;5;241;43m.\u001b[39;49m\u001b[43mtemp_dir\u001b[49m\u001b[43m \u001b[49m\u001b[38;5;241;43m+\u001b[39;49m\u001b[43m \u001b[49m\u001b[38;5;124;43m'\u001b[39;49m\u001b[38;5;124;43m/model.pickle\u001b[39;49m\u001b[38;5;124;43m'\u001b[39;49m\u001b[43m)\u001b[49m\n\u001b[0;32m     20\u001b[0m training_data_loaded \u001b[38;5;241m=\u001b[39m copy\u001b[38;5;241m.\u001b[39mdeepcopy(train_data)\n\u001b[0;32m     21\u001b[0m \u001b[38;5;28;01mfor\u001b[39;00m t \u001b[38;5;129;01min\u001b[39;00m training_data_loaded: t\u001b[38;5;241m.\u001b[39mload_to_h5py()\n",
      "File \u001b[1;32md:\\flagellar/code/core\\flg_support.py:157\u001b[0m, in \u001b[0;36mdill_load\u001b[1;34m(filename)\u001b[0m\n\u001b[0;32m    156\u001b[0m \u001b[38;5;28;01mdef\u001b[39;00m \u001b[38;5;21mdill_load\u001b[39m(filename):\n\u001b[1;32m--> 157\u001b[0m     filehandler \u001b[38;5;241m=\u001b[39m \u001b[38;5;28;43mopen\u001b[39;49m\u001b[43m(\u001b[49m\u001b[43mfilename\u001b[49m\u001b[43m,\u001b[49m\u001b[43m \u001b[49m\u001b[38;5;124;43m'\u001b[39;49m\u001b[38;5;124;43mrb\u001b[39;49m\u001b[38;5;124;43m'\u001b[39;49m\u001b[43m)\u001b[49m;\n\u001b[0;32m    158\u001b[0m     data \u001b[38;5;241m=\u001b[39m dill\u001b[38;5;241m.\u001b[39mload(filehandler)\n\u001b[0;32m    159\u001b[0m     filehandler\u001b[38;5;241m.\u001b[39mclose()\n",
      "\u001b[1;31mFileNotFoundError\u001b[0m: [Errno 2] No such file or directory: 'd:/flagellar/temp//model.pickle'"
     ]
    }
   ],
   "source": [
    "import torch\n",
    "import torch.nn as nn\n",
    "import torch.optim as optim\n",
    "import torchvision\n",
    "import torchvision.transforms as transforms\n",
    "import sys\n",
    "sys.path.append('d:/flagellar/code/core')\n",
    "sys.path.append('/kaggle/code/core')\n",
    "sys.path.append('/kaggle/input/my-flg-library/')\n",
    "import flg_support as fls\n",
    "import flg_unet\n",
    "import flg_numerics\n",
    "import importlib\n",
    "import numpy as np\n",
    "import matplotlib.pyplot as plt\n",
    "import time\n",
    "import copy\n",
    "train_data = fls.load_all_train_data()\n",
    "model_loaded = fls.dill_load(fls.temp_dir + '/model.pickle')\n",
    "training_data_loaded = copy.deepcopy(train_data)\n",
    "for t in training_data_loaded: t.load_to_h5py()"
   ]
  },
  {
   "cell_type": "code",
   "execution_count": null,
   "id": "3d076469-df09-42da-9b2d-a142a2e90875",
   "metadata": {},
   "outputs": [],
   "source": [
    "cpu,device = fls.prep_pytorch(42, True, False)\n",
    "nn_model = model_loaded.model.to(device)\n",
    "nn_model.eval()\n",
    "ind = [100,100,350]\n",
    "ran = [96,96,96]\n",
    "import torch\n",
    "import torch.nn as nn\n",
    "import torch.nn.functional as F\n",
    "res_list = []\n",
    "offset_list = np.arange(-120,121,10)\n",
    "x=np.zeros((500,500,500))\n",
    "x[ind[0],ind[1],ind[2]]=1\n",
    "data = x[np.newaxis, np.newaxis, ind[0]-ran[0]:ind[0]+ran[0], ind[1]-ran[1]:ind[1]+ran[1], ind[2]-ran[2]:ind[2]+ran[2]]\n",
    "#print(data.shape)\n",
    "d = torch.tensor(data.astype(np.float32)).to(device)\n",
    "R=nn_model(d).detach().cpu().numpy()\n",
    "R0 = nn_model(0*d).detach().cpu().numpy()\n",
    "R_plot = R-R0\n",
    "plt.figure(figsize=(15,15))\n",
    "plt.imshow(np.log(np.abs(np.sum(R_plot[0,0,:,:,:],axis=0))), cmap='gray')\n",
    "plt.colorbar()"
   ]
  },
  {
   "cell_type": "code",
   "execution_count": null,
   "id": "eff823aa-6207-4604-bf97-f0b753421e04",
   "metadata": {},
   "outputs": [],
   "source": [
    "import torch\n",
    "np.max(R)"
   ]
  },
  {
   "cell_type": "code",
   "execution_count": null,
   "id": "a1d9c747-a1f4-4ca8-b81f-bb0289487dec",
   "metadata": {},
   "outputs": [],
   "source": [
    "isinstance(model.nn_model,pytorch3dunet.unet3d.model.UNet3D)"
   ]
  },
  {
   "cell_type": "code",
   "execution_count": 2,
   "id": "95976a9d-1dc0-4eed-9627-b5492e971ff5",
   "metadata": {},
   "outputs": [
    {
     "data": {
      "text/plain": [
       "<Figure size 640x480 with 0 Axes>"
      ]
     },
     "execution_count": 2,
     "metadata": {},
     "output_type": "execute_result"
    },
    {
     "data": {
      "text/plain": [
       "<Figure size 640x480 with 0 Axes>"
      ]
     },
     "metadata": {},
     "output_type": "display_data"
    }
   ],
   "source": [
    "plt.figure()"
   ]
  },
  {
   "cell_type": "code",
   "execution_count": null,
   "id": "7a7defa2-f1db-4f9d-8428-522b6a7394d5",
   "metadata": {},
   "outputs": [],
   "source": []
  },
  {
   "cell_type": "code",
   "execution_count": 3,
   "id": "9599255d-5e79-46c1-930e-d256b58b9a30",
   "metadata": {},
   "outputs": [],
   "source": [
    "import numpy as np\n",
    "def score(recall):\n",
    "    ratio_is_motor = 100/(900*0.3)\n",
    "    precision = recall*ratio_is_motor\n",
    "    return 5*precision*recall/(4*precision+recall)\n",
    "    print(precision)\n",
    "r_vals = np.linspace(0,1,10)\n",
    "r_vals[0] = 1e-10\n",
    "s_vals = [score(r) for r in r_vals]\n",
    "import matplotlib.pyplot as plt"
   ]
  },
  {
   "cell_type": "code",
   "execution_count": 5,
   "id": "2dddd744-ccc6-4c19-b658-0cc8eacd61d4",
   "metadata": {},
   "outputs": [
    {
     "data": {
      "image/png": "[encoded data removed]",
      "text/plain": [
       "<Figure size 640x480 with 1 Axes>"
      ]
     },
     "metadata": {},
     "output_type": "display_data"
    }
   ],
   "source": [
    "plt.figure()\n",
    "plt.plot(s_vals, r_vals)\n",
    "plt.xlabel('Score')\n",
    "plt.ylabel('Recall')\n",
    "plt.grid(True)"
   ]
  },
  {
   "cell_type": "code",
   "execution_count": null,
   "id": "c5b6b36e-9ab0-43f0-92c0-38aa213595ee",
   "metadata": {},
   "outputs": [],
   "source": []
  }
 ],
 "metadata": {
  "kernelspec": {
   "display_name": "Python 3 (ipykernel)",
   "language": "python",
   "name": "python3"
  },
  "language_info": {
   "codemirror_mode": {
    "name": "ipython",
    "version": 3
   },
   "file_extension": ".py",
   "mimetype": "text/x-python",
   "name": "python",
   "nbconvert_exporter": "python",
   "pygments_lexer": "ipython3",
   "version": "3.10.14"
  }
 },
 "nbformat": 4,
 "nbformat_minor": 5
}
