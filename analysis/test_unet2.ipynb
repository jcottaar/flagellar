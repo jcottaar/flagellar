{
 "cells": [
  {
   "cell_type": "code",
   "execution_count": 1,
   "id": "328447bf-3047-4562-bdf6-60dfc83bae4a",
   "metadata": {},
   "outputs": [],
   "source": [
    "import os\n",
    "#if not os.getenv('KAGGLE_IS_COMPETITION_RERUN'):\n",
    "#    raise 'stop'\n",
    "if not os.path.isdir('d:/flagellar/'):\n",
    "    deps_path = '/kaggle/usr/lib/flg-packages/'\n",
    "    !pip install --no-index --find-links {deps_path} --requirement {deps_path}/requirements.txt\n",
    "    !tar xfvz /kaggle/input/ultralytics-for-offline-install/archive.tar.gz\n",
    "    !pip install --no-index --find-links=./packages ultralytics\n",
    "    !rm -rf ./packages"
   ]
  },
  {
   "cell_type": "code",
   "execution_count": null,
   "id": "2a837d78-5dff-48d9-9753-37e382d9f7b6",
   "metadata": {},
   "outputs": [],
   "source": [
    "import torch\n",
    "import torch.nn as nn\n",
    "import torch.optim as optim\n",
    "import torchvision\n",
    "import torchvision.transforms as transforms\n",
    "import sys\n",
    "sys.path.append('d:/flagellar/code/core')\n",
    "sys.path.append('/flagellar/code/core/')\n",
    "sys.path.append('/kaggle/input/my-flagellar-library/')\n",
    "import flg_support as fls\n",
    "import flg_unet\n",
    "import flg_numerics\n",
    "import flg_model\n",
    "import importlib\n",
    "import numpy as np\n",
    "import matplotlib.pyplot as plt\n",
    "import time\n",
    "import copy\n",
    "\n",
    "fast_mode = False\n",
    "if fls.is_submission:\n",
    "    fast_mode = False"
   ]
  },
  {
   "cell_type": "code",
   "execution_count": null,
   "id": "63da65e4-7132-4f3f-985e-7bb83c3946e5",
   "metadata": {},
   "outputs": [],
   "source": [
    "all_data = fls.load_all_train_data()"
   ]
  },
  {
   "cell_type": "code",
   "execution_count": null,
   "id": "99b73df3-5b8c-4c70-aaf5-7be5298619d9",
   "metadata": {},
   "outputs": [],
   "source": [
    "np.random.default_rng(seed=0).shuffle(all_data)\n",
    "\n",
    "# Pick N tomograms with 1 motor and N tomograms with 0 motors as validation set\n",
    "N=100\n",
    "n_motors = np.array([len(d.labels) for d in all_data])\n",
    "inds_zero = np.argwhere(n_motors==0)[:N,0]\n",
    "inds_one = np.argwhere(n_motors==1)[:N,0]\n",
    "inds_test = np.concatenate((inds_zero,inds_one))\n",
    "inds_train = np.setdiff1d(np.arange(len(n_motors)), inds_test)\n",
    "inds_test.shape, inds_train.shape\n",
    "\n",
    "train_data = []\n",
    "for i in inds_train:\n",
    "    train_data.append(all_data[i])\n",
    "test_data = []\n",
    "for i in inds_test:\n",
    "    test_data.append(all_data[i])\n",
    "np.random.default_rng(seed=0).shuffle(test_data)\n",
    "test_data = test_data\n",
    "if fast_mode:\n",
    "    train_data = train_data[1:5]\n",
    "    test_data = test_data[2:4]\n",
    "len(train_data), len(test_data)"
   ]
  },
  {
   "cell_type": "code",
   "execution_count": null,
   "id": "c805e897-9b02-4264-bcbf-4478b57ca9ee",
   "metadata": {},
   "outputs": [],
   "source": [
    "model_name = \"unet_percnorm.pickle\"\n",
    "model = flg_model.ThreeStepModel()\n",
    "if fast_mode: model.step1Heatmap.n_epochs = 3\n",
    "model.step2Labels.threshold = -2.\n",
    "model.step1Heatmap.dataset.noramalize = 2\n",
    "model.run_in_parallel = True\n",
    "model.step1Heatmap.plot_every = 100\n",
    "model.train(train_data, test_data)\n",
    "if not fls.env=='kaggle' and not fast_mode:\n",
    "    fls.dill_save(fls.model_dir+ model_name, model)"
   ]
  },
  {
   "cell_type": "code",
   "execution_count": null,
   "id": "325679ee-dd1b-4fdf-8414-d2520638f193",
   "metadata": {},
   "outputs": [],
   "source": [
    "if not fls.is_submission:\n",
    "    inferred_test_data = model.infer(test_data[:10])\n",
    "    print(fls.score_competition_metric(inferred_test_data, test_data[:10]))\n",
    "    print(fls.create_submission_dataframe(inferred_test_data, test_data[:10]))"
   ]
  },
  {
   "cell_type": "code",
   "execution_count": null,
   "id": "49b1cac7-f4ce-45fc-9669-8997b6865bb8",
   "metadata": {},
   "outputs": [],
   "source": [
    "importlib.reload(flg_unet)\n",
    "if not fls.env=='kaggle' and not fast_mode:\n",
    "    model = fls.dill_load(fls.model_dir+model_name)\n",
    "model.run_in_parallel = fls.env=='kaggle'\n",
    "test_data2 = fls.load_all_test_data()\n",
    "inferred_test_data2 = model.infer(test_data2)\n",
    "fls.write_submission_file(inferred_test_data2)"
   ]
  },
  {
   "cell_type": "code",
   "execution_count": null,
   "id": "59a5ee85-7069-4a09-a08c-2492e410632b",
   "metadata": {},
   "outputs": [],
   "source": [
    "inferred_test_data2"
   ]
  },
  {
   "cell_type": "code",
   "execution_count": null,
   "id": "2ffed65d-c2b2-4ad7-8d33-d63ad4820003",
   "metadata": {},
   "outputs": [],
   "source": [
    "inferred_test_data2 = model.infer(test_data2)"
   ]
  }
 ],
 "metadata": {
  "kaggle": {
   "accelerator": "nvidiaTeslaT4",
   "dataSources": [
    {
     "databundleVersionId": 11294684,
     "isSourceIdPinned": false,
     "sourceId": 91249,
     "sourceType": "competition"
    },
    {
     "datasetId": 6925042,
     "sourceId": 11204341,
     "sourceType": "datasetVersion"
    },
    {
     "datasetId": 6949538,
     "sourceId": 11204343,
     "sourceType": "datasetVersion"
    },
    {
     "sourceId": 211097053,
     "sourceType": "kernelVersion"
    },
    {
     "sourceId": 229283084,
     "sourceType": "kernelVersion"
    }
   ],
   "dockerImageVersionId": 30919,
   "isGpuEnabled": true,
   "isInternetEnabled": false,
   "language": "python",
   "sourceType": "notebook"
  },
  "kernelspec": {
   "display_name": "Python 3 (ipykernel)",
   "language": "python",
   "name": "python3"
  },
  "language_info": {
   "codemirror_mode": {
    "name": "ipython",
    "version": 3
   },
   "file_extension": ".py",
   "mimetype": "text/x-python",
   "name": "python",
   "nbconvert_exporter": "python",
   "pygments_lexer": "ipython3",
   "version": "3.10.14"
  }
 },
 "nbformat": 4,
 "nbformat_minor": 5
}
