{
 "cells": [
  {
   "cell_type": "code",
   "execution_count": 1,
   "id": "328447bf-3047-4562-bdf6-60dfc83bae4a",
   "metadata": {},
   "outputs": [],
   "source": [
    "import os\n",
    "#if not os.getenv('KAGGLE_IS_COMPETITION_RERUN'):\n",
    "#    raise 'stop'\n",
    "if not os.path.isdir('d:/flagellar/'):\n",
    "    deps_path = '/kaggle/usr/lib/flg-packages/'\n",
    "    !pip install --no-index --find-links {deps_path} --requirement {deps_path}/requirements.txt\n",
    "    !tar xfvz /kaggle/input/ultralytics-for-offline-install/archive.tar.gz\n",
    "    !pip install --no-index --find-links=./packages ultralytics\n",
    "    !rm -rf ./packages"
   ]
  },
  {
   "cell_type": "code",
   "execution_count": 2,
   "id": "2a837d78-5dff-48d9-9753-37e382d9f7b6",
   "metadata": {},
   "outputs": [],
   "source": [
    "import torch\n",
    "import torch.nn as nn\n",
    "import torch.optim as optim\n",
    "import torchvision\n",
    "import torchvision.transforms as transforms\n",
    "import sys\n",
    "sys.path.append('d:/flagellar/code/core')\n",
    "sys.path.append('/flagellar/code/core/')\n",
    "sys.path.append('/kaggle/input/my-flagellar-library/')\n",
    "import flg_support as fls\n",
    "import flg_unet\n",
    "import flg_numerics\n",
    "import flg_model\n",
    "import importlib\n",
    "import numpy as np\n",
    "import matplotlib.pyplot as plt\n",
    "import time\n",
    "import copy\n",
    "import flg_yolo\n",
    "\n",
    "fast_mode = False\n",
    "if fls.is_submission:\n",
    "    fast_mode = False"
   ]
  },
  {
   "cell_type": "code",
   "execution_count": 3,
   "id": "26398b77-77a4-4d7c-804c-79950c1aae1a",
   "metadata": {},
   "outputs": [
    {
     "data": {
      "text/plain": [
       "(444, 200)"
      ]
     },
     "execution_count": 3,
     "metadata": {},
     "output_type": "execute_result"
    }
   ],
   "source": [
    "all_data = fls.load_all_train_data()\n",
    "np.random.default_rng(seed=0).shuffle(all_data)\n",
    "\n",
    "# Pick N tomograms with 1 motor and N tomograms with 0 motors as validation set\n",
    "N=100\n",
    "n_motors = np.array([len(d.labels) for d in all_data])\n",
    "inds_zero = np.argwhere(n_motors==0)[:N,0]\n",
    "inds_one = np.argwhere(n_motors==1)[:N,0]\n",
    "inds_test = np.concatenate((inds_zero,inds_one))\n",
    "inds_train = np.setdiff1d(np.arange(len(n_motors)), inds_test)\n",
    "inds_test.shape, inds_train.shape\n",
    "\n",
    "train_data = []\n",
    "for i in inds_train:\n",
    "    train_data.append(all_data[i])\n",
    "test_data = []\n",
    "for i in inds_test:\n",
    "    test_data.append(all_data[i])\n",
    "np.random.default_rng(seed=0).shuffle(test_data)\n",
    "test_data = test_data\n",
    "if fast_mode:\n",
    "    train_data = train_data[1:30]\n",
    "    test_data = test_data[2:4]\n",
    "len(train_data), len(test_data)"
   ]
  },
  {
   "cell_type": "code",
   "execution_count": 6,
   "id": "e4659104-661c-4a20-80ad-cdb4e6693bba",
   "metadata": {},
   "outputs": [
    {
     "data": {
      "text/plain": [
       "['aba2013-04-06-10',\n",
       " 'aba2013-04-06-12',\n",
       " 'aba2013-04-06-13',\n",
       " 'aba2013-04-06-14',\n",
       " 'aba2013-04-06-16',\n",
       " 'aba2013-04-06-17',\n",
       " 'aba2013-04-06-18',\n",
       " 'aba2013-04-06-19',\n",
       " 'aba2013-04-06-20',\n",
       " 'aba2013-04-06-21',\n",
       " 'aba2013-04-06-22',\n",
       " 'aba2013-04-06-7',\n",
       " 'aba2013-04-06-8',\n",
       " 'aba2013-04-06-9',\n",
       " 'aba2013-12-24-1',\n",
       " 'aba2013-12-24-21',\n",
       " 'aba2013-12-24-7',\n",
       " 'aba2013-12-25-14',\n",
       " 'aba2013-12-25-17',\n",
       " 'aba2013-12-25-18',\n",
       " 'aba2013-12-25-6',\n",
       " 'aba2014-02-21-11',\n",
       " 'aba2014-02-21-12',\n",
       " 'aba2014-02-21-13',\n",
       " 'aba2014-02-21-14',\n",
       " 'aba2014-02-21-15',\n",
       " 'aba2014-02-21-16',\n",
       " 'aba2014-02-21-17',\n",
       " 'aba2014-02-21-18',\n",
       " 'aba2014-02-21-19',\n",
       " 'aba2014-02-21-2',\n",
       " 'aba2014-02-21-24',\n",
       " 'aba2014-02-21-26',\n",
       " 'aba2014-02-21-27',\n",
       " 'aba2014-02-21-3',\n",
       " 'aba2014-02-21-5',\n",
       " 'aba2014-02-21-6',\n",
       " 'aba2014-02-21-8',\n",
       " 'aba2014-02-21-9',\n",
       " 'aba2014-03-04-1',\n",
       " 'aba2014-03-04-10',\n",
       " 'aba2014-03-04-11',\n",
       " 'aba2014-03-04-12',\n",
       " 'aba2014-03-04-13',\n",
       " 'aba2014-03-04-17',\n",
       " 'aba2014-03-04-18',\n",
       " 'aba2014-03-04-19',\n",
       " 'aba2014-03-04-2',\n",
       " 'aba2014-03-04-20',\n",
       " 'aba2014-03-04-22',\n",
       " 'aba2014-03-04-23',\n",
       " 'aba2014-03-04-25',\n",
       " 'aba2014-03-04-27',\n",
       " 'aba2014-03-04-29',\n",
       " 'aba2014-03-04-3',\n",
       " 'aba2014-03-04-30',\n",
       " 'aba2014-03-04-4',\n",
       " 'aba2014-03-04-5',\n",
       " 'aba2014-03-04-6',\n",
       " 'aba2014-03-04-7',\n",
       " 'aba2014-10-15-1',\n",
       " 'aba2014-10-15-10',\n",
       " 'aba2014-10-15-13',\n",
       " 'aba2014-10-15-14',\n",
       " 'aba2014-10-15-15',\n",
       " 'aba2014-10-15-16',\n",
       " 'aba2014-10-15-17',\n",
       " 'aba2014-10-15-18',\n",
       " 'aba2014-10-15-19',\n",
       " 'aba2014-10-15-2',\n",
       " 'aba2014-10-15-20',\n",
       " 'aba2014-10-15-21',\n",
       " 'aba2014-10-15-22',\n",
       " 'aba2014-10-15-3',\n",
       " 'aba2014-10-15-5',\n",
       " 'aba2014-10-15-7',\n",
       " 'aba2014-10-15-8',\n",
       " 'aba2014-10-15-9',\n",
       " 'aba2014-10-29-1',\n",
       " 'aba2014-10-29-10',\n",
       " 'aba2014-10-29-13',\n",
       " 'aba2014-10-29-16',\n",
       " 'aba2014-10-29-18',\n",
       " 'aba2014-10-29-19',\n",
       " 'aba2014-10-29-2',\n",
       " 'aba2014-10-29-20',\n",
       " 'aba2014-10-29-21',\n",
       " 'aba2014-10-29-22',\n",
       " 'aba2014-10-29-23',\n",
       " 'aba2014-10-29-25',\n",
       " 'aba2014-10-29-3',\n",
       " 'aba2014-10-29-30',\n",
       " 'aba2014-10-29-31',\n",
       " 'aba2014-10-29-32',\n",
       " 'aba2014-10-29-33',\n",
       " 'aba2014-10-29-34',\n",
       " 'aba2014-10-29-35',\n",
       " 'aba2014-10-29-6',\n",
       " 'aba2014-10-29-8',\n",
       " 'aba2014-10-29-9',\n",
       " 'aba2015-02-12-13',\n",
       " 'aba2015-02-12-15',\n",
       " 'aba2015-02-12-25',\n",
       " 'aba2015-02-12-29',\n",
       " 'aba2015-02-12-5',\n",
       " 'aba2015-02-12-8',\n",
       " 'aba2015-02-12-9',\n",
       " 'aba2015-02-23-1',\n",
       " 'aba2015-02-23-18',\n",
       " 'aba2015-02-23-2',\n",
       " 'aba2015-02-23-20',\n",
       " 'aba2015-02-23-3',\n",
       " 'aba2015-02-23-33',\n",
       " 'aba2015-02-23-34',\n",
       " 'aba2015-02-23-39',\n",
       " 'aba2015-02-23-4',\n",
       " 'aba2015-02-23-48',\n",
       " 'aba2015-02-23-5',\n",
       " 'aba2015-02-23-59',\n",
       " 'aba2015-02-23-6',\n",
       " 'aba2015-02-23-61',\n",
       " 'aba2015-02-23-65',\n",
       " 'aba2015-02-23-7',\n",
       " 'aba2015-05-28-3',\n",
       " 'aba2015-05-28-4',\n",
       " 'aba2015-05-29-1',\n",
       " 'aba2015-05-29-10',\n",
       " 'aba2015-05-29-12',\n",
       " 'aba2015-05-29-13',\n",
       " 'aba2015-05-29-14',\n",
       " 'aba2015-05-29-15',\n",
       " 'aba2015-05-29-16',\n",
       " 'aba2015-05-29-18',\n",
       " 'aba2015-05-29-19',\n",
       " 'aba2015-05-29-22',\n",
       " 'aba2015-05-29-23',\n",
       " 'aba2015-05-29-27',\n",
       " 'aba2015-05-29-29',\n",
       " 'aba2015-05-29-3',\n",
       " 'aba2015-05-29-34',\n",
       " 'aba2015-05-29-35',\n",
       " 'aba2015-05-29-39',\n",
       " 'aba2015-05-29-4',\n",
       " 'aba2015-05-29-41',\n",
       " 'aba2015-05-29-43',\n",
       " 'aba2015-05-29-44',\n",
       " 'aba2015-05-29-45',\n",
       " 'aba2015-05-29-46',\n",
       " 'aba2015-05-29-5',\n",
       " 'aba2015-05-29-50',\n",
       " 'aba2015-05-29-51',\n",
       " 'aba2015-05-29-55',\n",
       " 'aba2015-05-29-58',\n",
       " 'aba2015-05-29-59',\n",
       " 'aba2015-05-29-6',\n",
       " 'aba2015-05-29-60',\n",
       " 'aba2015-05-29-7',\n",
       " 'aba2015-05-29-8',\n",
       " 'aba2015-07-07-12',\n",
       " 'aba2015-07-07-13',\n",
       " 'aba2015-07-07-14',\n",
       " 'aba2015-07-07-15',\n",
       " 'aba2015-07-07-17',\n",
       " 'aba2015-07-07-19',\n",
       " 'aba2015-07-07-22',\n",
       " 'aba2015-07-07-5',\n",
       " 'aba2015-07-07-9',\n",
       " 'aba2015-07-15-1',\n",
       " 'aba2015-07-15-10',\n",
       " 'aba2015-07-15-15',\n",
       " 'aba2015-07-15-16',\n",
       " 'aba2015-07-15-17',\n",
       " 'aba2015-07-15-18',\n",
       " 'aba2015-07-15-23',\n",
       " 'aba2015-07-15-26',\n",
       " 'aba2015-07-15-27',\n",
       " 'aba2015-07-15-29',\n",
       " 'aba2015-07-15-3',\n",
       " 'aba2015-07-15-30',\n",
       " 'aba2015-07-15-32',\n",
       " 'aba2015-07-15-33',\n",
       " 'aba2015-07-15-34',\n",
       " 'aba2015-07-15-35',\n",
       " 'aba2015-07-15-4',\n",
       " 'aba2015-07-15-5',\n",
       " 'aba2015-07-15-6',\n",
       " 'aba2015-07-15-7',\n",
       " 'aba2015-07-15-8',\n",
       " 'aba2015-07-28-14',\n",
       " 'aba2015-07-28-15',\n",
       " 'aba2015-07-28-25',\n",
       " 'aba2015-07-28-26',\n",
       " 'aba2015-07-28-27',\n",
       " 'aba2015-07-28-3',\n",
       " 'aba2015-07-28-30',\n",
       " 'aba2015-07-28-31',\n",
       " 'aba2015-07-28-4',\n",
       " 'aba2015-07-28-7',\n",
       " 'aba2015-07-28-8',\n",
       " 'aba2015-07-28-9',\n",
       " 'aba2015-07-29-10',\n",
       " 'aba2015-07-29-14',\n",
       " 'mba2011-02-16-104',\n",
       " 'mba2011-02-16-105',\n",
       " 'mba2011-02-16-106',\n",
       " 'mba2011-02-16-107',\n",
       " 'mba2011-02-16-121',\n",
       " 'mba2011-02-16-122',\n",
       " 'mba2011-02-16-123',\n",
       " 'mba2011-02-16-124',\n",
       " 'mba2011-02-16-127',\n",
       " 'mba2011-02-16-129',\n",
       " 'mba2011-02-16-13',\n",
       " 'mba2011-02-16-131',\n",
       " 'mba2011-02-16-132',\n",
       " 'mba2011-02-16-133',\n",
       " 'mba2011-02-16-134',\n",
       " 'mba2011-02-16-139',\n",
       " 'mba2011-02-16-14',\n",
       " 'mba2011-02-16-140',\n",
       " 'mba2011-02-16-141',\n",
       " 'mba2011-02-16-142',\n",
       " 'mba2011-02-16-143',\n",
       " 'mba2011-02-16-144',\n",
       " 'mba2011-02-16-146',\n",
       " 'mba2011-02-16-147',\n",
       " 'mba2011-02-16-148',\n",
       " 'mba2011-02-16-149',\n",
       " 'mba2011-02-16-150',\n",
       " 'mba2011-02-16-151',\n",
       " 'mba2011-02-16-152',\n",
       " 'mba2011-02-16-154',\n",
       " 'mba2011-02-16-155',\n",
       " 'mba2011-02-16-156',\n",
       " 'mba2011-02-16-162',\n",
       " 'mba2011-02-16-164',\n",
       " 'mba2011-02-16-166',\n",
       " 'mba2011-02-16-167',\n",
       " 'mba2011-02-16-17',\n",
       " 'mba2011-02-16-173',\n",
       " 'mba2011-02-16-175',\n",
       " 'mba2011-02-16-176',\n",
       " 'mba2011-02-16-177',\n",
       " 'mba2011-02-16-178',\n",
       " 'mba2011-02-16-179',\n",
       " 'mba2011-02-16-18',\n",
       " 'mba2011-02-16-19',\n",
       " 'mba2011-02-16-20',\n",
       " 'mba2011-02-16-21',\n",
       " 'mba2011-02-16-23',\n",
       " 'mba2011-02-16-26',\n",
       " 'mba2011-02-16-27',\n",
       " 'mba2011-02-16-29',\n",
       " 'mba2011-02-16-3',\n",
       " 'mba2011-02-16-30',\n",
       " 'mba2011-02-16-31',\n",
       " 'mba2011-02-16-32',\n",
       " 'mba2011-02-16-33',\n",
       " 'mba2011-02-16-34',\n",
       " 'mba2011-02-16-37',\n",
       " 'mba2011-02-16-38',\n",
       " 'mba2011-02-16-4',\n",
       " 'mba2011-02-16-41',\n",
       " 'mba2011-02-16-43',\n",
       " 'mba2011-02-16-44',\n",
       " 'mba2011-02-16-45',\n",
       " 'mba2011-02-16-46',\n",
       " 'mba2011-02-16-47',\n",
       " 'mba2011-02-16-48',\n",
       " 'mba2011-02-16-50',\n",
       " 'mba2011-02-16-52',\n",
       " 'mba2011-02-16-53',\n",
       " 'mba2011-02-16-54',\n",
       " 'mba2011-02-16-55',\n",
       " 'mba2011-02-16-56',\n",
       " 'mba2011-02-16-57',\n",
       " 'mba2011-02-16-58',\n",
       " 'mba2011-02-16-6',\n",
       " 'mba2011-02-16-60',\n",
       " 'mba2011-02-16-61',\n",
       " 'mba2011-02-16-62',\n",
       " 'mba2011-02-16-63',\n",
       " 'mba2011-02-16-64',\n",
       " 'mba2011-02-16-65',\n",
       " 'mba2011-02-16-66',\n",
       " 'mba2011-02-16-67',\n",
       " 'mba2011-02-16-68',\n",
       " 'mba2011-02-16-69',\n",
       " 'mba2011-02-16-7',\n",
       " 'mba2011-02-16-71',\n",
       " 'mba2011-02-16-72',\n",
       " 'mba2011-02-16-74',\n",
       " 'mba2011-02-16-75',\n",
       " 'mba2011-02-16-77',\n",
       " 'mba2011-02-16-89',\n",
       " 'mba2011-02-16-9',\n",
       " 'mba2011-02-16-90',\n",
       " 'mba2011-02-16-91',\n",
       " 'mba2011-02-16-94',\n",
       " 'mba2011-02-16-95',\n",
       " 'mba2011-02-16-96',\n",
       " 'mba2011-02-16-99',\n",
       " 'ycw2012-09-23-53',\n",
       " 'ycw2012-09-23-54',\n",
       " 'ycw2012-09-23-60',\n",
       " 'ycw2012-09-23-70',\n",
       " 'ycw2012-11-14-16',\n",
       " 'ycw2012-11-14-17',\n",
       " 'ycw2012-11-14-18',\n",
       " 'ycw2012-11-14-19',\n",
       " 'ycw2012-11-14-20',\n",
       " 'ycw2012-11-14-21',\n",
       " 'ycw2012-11-14-23',\n",
       " 'ycw2012-11-14-25',\n",
       " 'ycw2012-11-14-27',\n",
       " 'ycw2012-11-14-28',\n",
       " 'ycw2012-11-14-30',\n",
       " 'ycw2012-11-14-31',\n",
       " 'ycw2012-11-14-32',\n",
       " 'ycw2012-11-14-33',\n",
       " 'ycw2012-11-14-37',\n",
       " 'ycw2012-11-14-38',\n",
       " 'ycw2012-11-14-40',\n",
       " 'ycw2012-11-14-47',\n",
       " 'ycw2012-11-14-49',\n",
       " 'ycw2012-11-14-50',\n",
       " 'ycw2012-11-14-52',\n",
       " 'ycw2012-11-14-53',\n",
       " 'ycw2012-11-14-56',\n",
       " 'ycw2012-11-14-60',\n",
       " 'ycw2012-11-14-62',\n",
       " 'ycw2012-11-14-63',\n",
       " 'ycw2012-11-14-64',\n",
       " 'ycw2012-11-14-65',\n",
       " 'ycw2012-11-14-66',\n",
       " 'ycw2012-12-05-28',\n",
       " 'ycw2013-01-03-11',\n",
       " 'ycw2013-01-03-12',\n",
       " 'ycw2013-01-03-14',\n",
       " 'ycw2013-01-03-16',\n",
       " 'ycw2013-01-03-19',\n",
       " 'ycw2013-01-03-27',\n",
       " 'ycw2013-05-01-10',\n",
       " 'ycw2013-05-01-11',\n",
       " 'ycw2013-05-01-14',\n",
       " 'ycw2013-05-01-15',\n",
       " 'ycw2013-05-01-22',\n",
       " 'ycw2013-05-01-23',\n",
       " 'ycw2013-05-01-25',\n",
       " 'ycw2013-05-01-26',\n",
       " 'ycw2013-05-01-34',\n",
       " 'ycw2013-05-01-39',\n",
       " 'ycw2013-05-01-4',\n",
       " 'ycw2013-05-01-40',\n",
       " 'ycw2013-05-01-41',\n",
       " 'ycw2013-05-01-51',\n",
       " 'ycw2013-05-01-52',\n",
       " 'ycw2013-05-01-53',\n",
       " 'ycw2013-06-04-10',\n",
       " 'ycw2013-06-04-12',\n",
       " 'ycw2013-08-20-11',\n",
       " 'ycw2013-08-20-12',\n",
       " 'ycw2013-08-20-13',\n",
       " 'ycw2013-08-20-15',\n",
       " 'ycw2013-08-20-16',\n",
       " 'ycw2013-08-20-18',\n",
       " 'ycw2013-08-20-19',\n",
       " 'ycw2013-08-20-20',\n",
       " 'ycw2013-08-20-21',\n",
       " 'ycw2013-08-20-23',\n",
       " 'ycw2013-08-20-24',\n",
       " 'ycw2013-08-20-25',\n",
       " 'ycw2013-08-20-26',\n",
       " 'ycw2013-08-20-27',\n",
       " 'ycw2013-08-20-28',\n",
       " 'ycw2013-08-20-29',\n",
       " 'ycw2013-08-20-31',\n",
       " 'ycw2013-08-20-37',\n",
       " 'ycw2013-08-20-40',\n",
       " 'ycw2013-08-20-41',\n",
       " 'ycw2013-08-20-42',\n",
       " 'ycw2013-08-20-43',\n",
       " 'ycw2013-08-20-44',\n",
       " 'ycw2013-08-20-48',\n",
       " 'ycw2013-08-20-50',\n",
       " 'ycw2013-08-20-51',\n",
       " 'ycw2013-08-20-52',\n",
       " 'ycw2013-08-20-53',\n",
       " 'ycw2013-08-20-54',\n",
       " 'ycw2013-09-10-1',\n",
       " 'ycw2013-09-10-13',\n",
       " 'ycw2013-09-10-14',\n",
       " 'ycw2013-09-10-15',\n",
       " 'ycw2013-09-10-16',\n",
       " 'ycw2013-09-10-19',\n",
       " 'ycw2013-09-10-21',\n",
       " 'ycw2013-09-10-27',\n",
       " 'ycw2013-09-10-28',\n",
       " 'ycw2013-09-10-36',\n",
       " 'ycw2013-09-10-37',\n",
       " 'ycw2013-09-10-39',\n",
       " 'ycw2013-09-10-42',\n",
       " 'ycw2013-09-10-44',\n",
       " 'ycw2013-09-10-46',\n",
       " 'ycw2013-09-10-8',\n",
       " 'ycw2013-09-10-9',\n",
       " 'ycw2013-11-06-26',\n",
       " 'ycw2013-11-24-1',\n",
       " 'ycw2013-11-24-19',\n",
       " 'ycw2013-11-24-2']"
      ]
     },
     "execution_count": 6,
     "metadata": {},
     "output_type": "execute_result"
    }
   ],
   "source": [
    "[d.name for d in fls.load_all_extra_data()]"
   ]
  },
  {
   "cell_type": "code",
   "execution_count": null,
   "id": "ce3c67d7-0e35-4d06-b8b7-af62aa9ad09d",
   "metadata": {},
   "outputs": [
    {
     "name": "stdout",
     "output_type": "stream",
     "text": [
      "42\n",
      "['tomo_507b7a', 'tomo_b33d4e', 'tomo_b7d014', 'tomo_b0ded6', 'tomo_37dd38']\n",
      "['tomo_7550f4', 'tomo_0fe63f', 'tomo_08446f', 'tomo_e5ac94', 'tomo_6f0ee4']\n",
      "Will process approximately 3123 slices for training\n"
     ]
    },
    {
     "data": {
      "application/vnd.jupyter.widget-view+json": {
       "model_id": "f03bebdeda4443139bd009d7a83ef543",
       "version_major": 2,
       "version_minor": 0
      },
      "text/plain": [
       "Processing training motors:   0%|          | 0/347 [00:00<?, ?it/s]"
      ]
     },
     "metadata": {},
     "output_type": "display_data"
    },
    {
     "name": "stdout",
     "output_type": "stream",
     "text": [
      "Will process approximately 900 slices for validation\n"
     ]
    },
    {
     "data": {
      "application/vnd.jupyter.widget-view+json": {
       "model_id": "d3fce15b203b46869bfeb800cc708bf3",
       "version_major": 2,
       "version_minor": 0
      },
      "text/plain": [
       "Processing validation motors:   0%|          | 0/100 [00:00<?, ?it/s]"
      ]
     },
     "metadata": {},
     "output_type": "display_data"
    },
    {
     "name": "stdout",
     "output_type": "stream",
     "text": [
      "\n",
      "Processing Summary:\n",
      "- Train set: 258 tomograms, 347 motors, 3118 slices\n",
      "- Validation set: 100 tomograms, 100 motors, 900 slices\n",
      "- Total: 358 tomograms, 447 motors, 4018 slices\n",
      "\n",
      "Preprocessing Complete:\n",
      "- Training data: 258 tomograms, 347 motors, 3118 slices\n",
      "- Validation data: 100 tomograms, 100 motors, 900 slices\n",
      "- Dataset directory: d:/flagellar/temp//yolo_dataset/\n",
      "- YAML configuration: d:/flagellar/temp//yolo_dataset/dataset.yaml\n",
      "\n",
      "Ready for YOLO training!\n",
      "Starting YOLO training process...\n",
      "Directory status:\n",
      "- Train images exists: True\n",
      "- Val images exists: True\n",
      "- Train labels exists: True\n",
      "- Val labels exists: True\n",
      "Found original dataset.yaml at d:/flagellar/temp//yolo_dataset/dataset.yaml\n",
      "Fixing YAML paths in d:/flagellar/temp//yolo_dataset/dataset.yaml\n",
      "Created fixed YAML at d:/flagellar/temp/fixed_dataset.yaml with path: d:/flagellar/temp//yolo_dataset/\n",
      "Using YAML file: d:/flagellar/temp/fixed_dataset.yaml\n",
      "YAML contents:\n",
      "names:\n",
      "  0: motor\n",
      "path: d:/flagellar/temp//yolo_dataset/\n",
      "train: images/train\n",
      "val: images/val\n",
      "\n",
      "\n",
      "Starting YOLO training...\n",
      "New https://pypi.org/project/ultralytics/8.3.100 available  Update with 'pip install -U ultralytics'\n",
      "Ultralytics 8.3.98  Python-3.10.14 torch-2.5.1 CUDA:0 (NVIDIA GeForce RTX 4070 Ti, 12282MiB)\n",
      "\u001b[34m\u001b[1mengine\\trainer: \u001b[0mtask=detect, mode=train, model=yolov8m.yaml, data=d:/flagellar/temp/fixed_dataset.yaml, epochs=30, time=None, patience=10, batch=16, imgsz=640, save=True, save_period=5, cache=False, device=None, workers=4, project=d:/flagellar/temp//yolo_weights/, name=motor_detector, exist_ok=True, pretrained=True, optimizer=AdamW, verbose=True, seed=42, deterministic=True, single_cls=False, rect=False, cos_lr=True, close_mosaic=10, resume=False, amp=True, fraction=1.0, profile=False, freeze=None, multi_scale=False, overlap_mask=True, mask_ratio=4, dropout=0.0, val=True, split=val, save_json=False, save_hybrid=False, conf=None, iou=0.7, max_det=300, half=False, dnn=False, plots=True, source=None, vid_stride=1, stream_buffer=False, visualize=False, augment=True, agnostic_nms=False, classes=None, retina_masks=False, embed=None, show=False, save_frames=False, save_txt=False, save_conf=False, save_crop=False, show_labels=True, show_conf=True, show_boxes=True, line_width=None, format=torchscript, keras=False, optimize=False, int8=False, dynamic=False, simplify=True, opset=None, workspace=None, nms=False, lr0=0.001, lrf=0.01, momentum=0.937, weight_decay=0.0005, warmup_epochs=3.0, warmup_momentum=0.8, warmup_bias_lr=0.1, box=7.5, cls=0.5, dfl=1.5, pose=12.0, kobj=1.0, nbs=64, hsv_h=0.015, hsv_s=0.7, hsv_v=0.4, degrees=0.0, translate=0.1, scale=0.5, shear=0.0, perspective=0.0, flipud=0.0, fliplr=0.5, bgr=0.0, mosaic=1.0, mixup=0.2, copy_paste=0.0, copy_paste_mode=flip, auto_augment=randaugment, erasing=0.4, crop_fraction=1.0, cfg=None, tracker=botsort.yaml, save_dir=d:\\flagellar\\temp\\yolo_weights\\motor_detector\n",
      "Overriding model.yaml nc=80 with nc=1\n",
      "\n",
      "                   from  n    params  module                                       arguments                     \n",
      "  0                  -1  1      1392  ultralytics.nn.modules.conv.Conv             [3, 48, 3, 2]                 \n",
      "  1                  -1  1     41664  ultralytics.nn.modules.conv.Conv             [48, 96, 3, 2]                \n",
      "  2                  -1  2    111360  ultralytics.nn.modules.block.C2f             [96, 96, 2, True]             \n",
      "  3                  -1  1    166272  ultralytics.nn.modules.conv.Conv             [96, 192, 3, 2]               \n",
      "  4                  -1  4    813312  ultralytics.nn.modules.block.C2f             [192, 192, 4, True]           \n",
      "  5                  -1  1    664320  ultralytics.nn.modules.conv.Conv             [192, 384, 3, 2]              \n",
      "  6                  -1  4   3248640  ultralytics.nn.modules.block.C2f             [384, 384, 4, True]           \n",
      "  7                  -1  1   1991808  ultralytics.nn.modules.conv.Conv             [384, 576, 3, 2]              \n",
      "  8                  -1  2   3985920  ultralytics.nn.modules.block.C2f             [576, 576, 2, True]           \n",
      "  9                  -1  1    831168  ultralytics.nn.modules.block.SPPF            [576, 576, 5]                 \n",
      " 10                  -1  1         0  torch.nn.modules.upsampling.Upsample         [None, 2, 'nearest']          \n",
      " 11             [-1, 6]  1         0  ultralytics.nn.modules.conv.Concat           [1]                           \n",
      " 12                  -1  2   1993728  ultralytics.nn.modules.block.C2f             [960, 384, 2]                 \n",
      " 13                  -1  1         0  torch.nn.modules.upsampling.Upsample         [None, 2, 'nearest']          \n",
      " 14             [-1, 4]  1         0  ultralytics.nn.modules.conv.Concat           [1]                           \n",
      " 15                  -1  2    517632  ultralytics.nn.modules.block.C2f             [576, 192, 2]                 \n",
      " 16                  -1  1    332160  ultralytics.nn.modules.conv.Conv             [192, 192, 3, 2]              \n",
      " 17            [-1, 12]  1         0  ultralytics.nn.modules.conv.Concat           [1]                           \n",
      " 18                  -1  2   1846272  ultralytics.nn.modules.block.C2f             [576, 384, 2]                 \n",
      " 19                  -1  1   1327872  ultralytics.nn.modules.conv.Conv             [384, 384, 3, 2]              \n",
      " 20             [-1, 9]  1         0  ultralytics.nn.modules.conv.Concat           [1]                           \n",
      " 21                  -1  2   4207104  ultralytics.nn.modules.block.C2f             [960, 576, 2]                 \n",
      " 22        [15, 18, 21]  1   3776275  ultralytics.nn.modules.head.Detect           [1, [192, 384, 576]]          \n",
      "YOLOv8m summary: 169 layers, 25,856,899 parameters, 25,856,883 gradients, 79.1 GFLOPs\n",
      "\n",
      "Freezing layer 'model.22.dfl.conv.weight'\n",
      "\u001b[34m\u001b[1mAMP: \u001b[0mrunning Automatic Mixed Precision (AMP) checks...\n",
      "\u001b[34m\u001b[1mAMP: \u001b[0mchecks passed \n"
     ]
    },
    {
     "name": "stderr",
     "output_type": "stream",
     "text": [
      "\n",
      "[34m\u001b[1mtrain: \u001b[0mScanning D:\\flagellar\\temp\\yolo_dataset\\labels\\train... 3118 images, 0 backgrounds, 0 corrupt: 100%|██████████| \u001b[0m"
     ]
    },
    {
     "name": "stdout",
     "output_type": "stream",
     "text": [
      "\u001b[34m\u001b[1mtrain: \u001b[0mNew cache created: D:\\flagellar\\temp\\yolo_dataset\\labels\\train.cache\n"
     ]
    },
    {
     "name": "stderr",
     "output_type": "stream",
     "text": [
      "\n",
      "[34m\u001b[1mval: \u001b[0mScanning D:\\flagellar\\temp\\yolo_dataset\\labels\\val... 900 images, 0 backgrounds, 0 corrupt: 100%|██████████| 900/9\u001b[0m"
     ]
    },
    {
     "name": "stdout",
     "output_type": "stream",
     "text": [
      "\u001b[34m\u001b[1mval: \u001b[0mNew cache created: D:\\flagellar\\temp\\yolo_dataset\\labels\\val.cache\n",
      "Plotting labels to d:\\flagellar\\temp\\yolo_weights\\motor_detector\\labels.jpg... \n",
      "\u001b[34m\u001b[1moptimizer:\u001b[0m AdamW(lr=0.001, momentum=0.937) with parameter groups 77 weight(decay=0.0), 84 weight(decay=0.0005), 83 bias(decay=0.0)\n",
      "Image sizes 640 train, 640 val\n",
      "Using 4 dataloader workers\n",
      "Logging results to \u001b[1md:\\flagellar\\temp\\yolo_weights\\motor_detector\u001b[0m\n",
      "Starting training for 30 epochs...\n",
      "\n",
      "      Epoch    GPU_mem   box_loss   cls_loss   dfl_loss  Instances       Size\n"
     ]
    },
    {
     "name": "stderr",
     "output_type": "stream",
     "text": [
      "\n",
      "\n",
      "                Class     Images  Instances      Box(P          R      mAP50  mAP50-95): 100%|██████████| 29/29 [00:07"
     ]
    },
    {
     "name": "stdout",
     "output_type": "stream",
     "text": [
      "                   all        900        900     0.0011       0.28   0.000848   0.000209\n",
      "\n",
      "      Epoch    GPU_mem   box_loss   cls_loss   dfl_loss  Instances       Size\n"
     ]
    },
    {
     "name": "stderr",
     "output_type": "stream",
     "text": [
      "\n",
      "                 Class     Images  Instances      Box(P          R      mAP50  mAP50-95): 100%|██████████| 29/29 [00:06"
     ]
    },
    {
     "name": "stdout",
     "output_type": "stream",
     "text": [
      "                   all        900        900    0.00709     0.0422    0.00487   0.000834\n"
     ]
    },
    {
     "name": "stderr",
     "output_type": "stream",
     "text": [
      "\n"
     ]
    },
    {
     "name": "stdout",
     "output_type": "stream",
     "text": [
      "\n",
      "      Epoch    GPU_mem   box_loss   cls_loss   dfl_loss  Instances       Size\n"
     ]
    },
    {
     "name": "stderr",
     "output_type": "stream",
     "text": [
      "\n",
      "                 Class     Images  Instances      Box(P          R      mAP50  mAP50-95): 100%|██████████| 29/29 [00:07"
     ]
    },
    {
     "name": "stdout",
     "output_type": "stream",
     "text": [
      "                   all        900        900      0.365      0.222      0.218       0.06\n"
     ]
    },
    {
     "name": "stderr",
     "output_type": "stream",
     "text": [
      "\n"
     ]
    },
    {
     "name": "stdout",
     "output_type": "stream",
     "text": [
      "\n",
      "      Epoch    GPU_mem   box_loss   cls_loss   dfl_loss  Instances       Size\n"
     ]
    },
    {
     "name": "stderr",
     "output_type": "stream",
     "text": [
      "\n",
      "                 Class     Images  Instances      Box(P          R      mAP50  mAP50-95): 100%|██████████| 29/29 [00:07"
     ]
    },
    {
     "name": "stdout",
     "output_type": "stream",
     "text": [
      "                   all        900        900      0.352      0.434      0.314     0.0943\n"
     ]
    },
    {
     "name": "stderr",
     "output_type": "stream",
     "text": [
      "\n"
     ]
    },
    {
     "name": "stdout",
     "output_type": "stream",
     "text": [
      "\n",
      "      Epoch    GPU_mem   box_loss   cls_loss   dfl_loss  Instances       Size\n"
     ]
    },
    {
     "name": "stderr",
     "output_type": "stream",
     "text": [
      "\n",
      "                 Class     Images  Instances      Box(P          R      mAP50  mAP50-95): 100%|██████████| 29/29 [00:07"
     ]
    },
    {
     "name": "stdout",
     "output_type": "stream",
     "text": [
      "                   all        900        900      0.206        0.3      0.126     0.0202\n"
     ]
    },
    {
     "name": "stderr",
     "output_type": "stream",
     "text": [
      "\n"
     ]
    },
    {
     "name": "stdout",
     "output_type": "stream",
     "text": [
      "\n",
      "      Epoch    GPU_mem   box_loss   cls_loss   dfl_loss  Instances       Size\n"
     ]
    },
    {
     "name": "stderr",
     "output_type": "stream",
     "text": [
      "\n",
      "                 Class     Images  Instances      Box(P          R      mAP50  mAP50-95): 100%|██████████| 29/29 [00:07"
     ]
    },
    {
     "name": "stdout",
     "output_type": "stream",
     "text": [
      "                   all        900        900      0.325      0.391      0.243     0.0515\n"
     ]
    },
    {
     "name": "stderr",
     "output_type": "stream",
     "text": [
      "\n"
     ]
    },
    {
     "name": "stdout",
     "output_type": "stream",
     "text": [
      "\n",
      "      Epoch    GPU_mem   box_loss   cls_loss   dfl_loss  Instances       Size\n"
     ]
    },
    {
     "name": "stderr",
     "output_type": "stream",
     "text": [
      "\n",
      "                 Class     Images  Instances      Box(P          R      mAP50  mAP50-95): 100%|██████████| 29/29 [00:07"
     ]
    },
    {
     "name": "stdout",
     "output_type": "stream",
     "text": [
      "                   all        900        900      0.555      0.527      0.469      0.129\n"
     ]
    },
    {
     "name": "stderr",
     "output_type": "stream",
     "text": [
      "\n"
     ]
    },
    {
     "name": "stdout",
     "output_type": "stream",
     "text": [
      "\n",
      "      Epoch    GPU_mem   box_loss   cls_loss   dfl_loss  Instances       Size\n"
     ]
    },
    {
     "name": "stderr",
     "output_type": "stream",
     "text": [
      "\n",
      "                 Class     Images  Instances      Box(P          R      mAP50  mAP50-95): 100%|██████████| 29/29 [00:07"
     ]
    },
    {
     "name": "stdout",
     "output_type": "stream",
     "text": [
      "                   all        900        900      0.549      0.593      0.498      0.164\n"
     ]
    },
    {
     "name": "stderr",
     "output_type": "stream",
     "text": [
      "\n"
     ]
    },
    {
     "name": "stdout",
     "output_type": "stream",
     "text": [
      "\n",
      "      Epoch    GPU_mem   box_loss   cls_loss   dfl_loss  Instances       Size\n"
     ]
    },
    {
     "name": "stderr",
     "output_type": "stream",
     "text": [
      "\n",
      "                 Class     Images  Instances      Box(P          R      mAP50  mAP50-95): 100%|██████████| 29/29 [00:07"
     ]
    },
    {
     "name": "stdout",
     "output_type": "stream",
     "text": [
      "                   all        900        900      0.712       0.64      0.706      0.244\n"
     ]
    },
    {
     "name": "stderr",
     "output_type": "stream",
     "text": [
      "\n"
     ]
    },
    {
     "name": "stdout",
     "output_type": "stream",
     "text": [
      "\n",
      "      Epoch    GPU_mem   box_loss   cls_loss   dfl_loss  Instances       Size\n"
     ]
    },
    {
     "name": "stderr",
     "output_type": "stream",
     "text": [
      "\n",
      "                 Class     Images  Instances      Box(P          R      mAP50  mAP50-95): 100%|██████████| 29/29 [00:07"
     ]
    },
    {
     "name": "stdout",
     "output_type": "stream",
     "text": [
      "                   all        900        900      0.582      0.581      0.535      0.149\n"
     ]
    },
    {
     "name": "stderr",
     "output_type": "stream",
     "text": [
      "\n"
     ]
    },
    {
     "name": "stdout",
     "output_type": "stream",
     "text": [
      "\n",
      "      Epoch    GPU_mem   box_loss   cls_loss   dfl_loss  Instances       Size\n"
     ]
    },
    {
     "name": "stderr",
     "output_type": "stream",
     "text": [
      "\n",
      "                 Class     Images  Instances      Box(P          R      mAP50  mAP50-95): 100%|██████████| 29/29 [00:07"
     ]
    },
    {
     "name": "stdout",
     "output_type": "stream",
     "text": [
      "                   all        900        900      0.788      0.723      0.744      0.258\n"
     ]
    },
    {
     "name": "stderr",
     "output_type": "stream",
     "text": [
      "\n"
     ]
    },
    {
     "name": "stdout",
     "output_type": "stream",
     "text": [
      "\n",
      "      Epoch    GPU_mem   box_loss   cls_loss   dfl_loss  Instances       Size\n"
     ]
    },
    {
     "name": "stderr",
     "output_type": "stream",
     "text": [
      "\n",
      "                 Class     Images  Instances      Box(P          R      mAP50  mAP50-95): 100%|██████████| 29/29 [00:07"
     ]
    },
    {
     "name": "stdout",
     "output_type": "stream",
     "text": [
      "                   all        900        900      0.601      0.538       0.47      0.128\n"
     ]
    },
    {
     "name": "stderr",
     "output_type": "stream",
     "text": [
      "\n"
     ]
    },
    {
     "name": "stdout",
     "output_type": "stream",
     "text": [
      "\n",
      "      Epoch    GPU_mem   box_loss   cls_loss   dfl_loss  Instances       Size\n"
     ]
    },
    {
     "name": "stderr",
     "output_type": "stream",
     "text": [
      "\n",
      "                 Class     Images  Instances      Box(P          R      mAP50  mAP50-95): 100%|██████████| 29/29 [00:07"
     ]
    },
    {
     "name": "stdout",
     "output_type": "stream",
     "text": [
      "                   all        900        900      0.778      0.695      0.727      0.209\n"
     ]
    },
    {
     "name": "stderr",
     "output_type": "stream",
     "text": [
      "\n"
     ]
    },
    {
     "name": "stdout",
     "output_type": "stream",
     "text": [
      "\n",
      "      Epoch    GPU_mem   box_loss   cls_loss   dfl_loss  Instances       Size\n"
     ]
    },
    {
     "name": "stderr",
     "output_type": "stream",
     "text": [
      "\n",
      "                 Class     Images  Instances      Box(P          R      mAP50  mAP50-95): 100%|██████████| 29/29 [00:07"
     ]
    },
    {
     "name": "stdout",
     "output_type": "stream",
     "text": [
      "                   all        900        900      0.803      0.739      0.787      0.233\n"
     ]
    },
    {
     "name": "stderr",
     "output_type": "stream",
     "text": [
      "\n"
     ]
    },
    {
     "name": "stdout",
     "output_type": "stream",
     "text": [
      "\n",
      "      Epoch    GPU_mem   box_loss   cls_loss   dfl_loss  Instances       Size\n"
     ]
    },
    {
     "name": "stderr",
     "output_type": "stream",
     "text": [
      "\n",
      "                 Class     Images  Instances      Box(P          R      mAP50  mAP50-95): 100%|██████████| 29/29 [00:07"
     ]
    },
    {
     "name": "stdout",
     "output_type": "stream",
     "text": [
      "                   all        900        900      0.864      0.768      0.835      0.309\n"
     ]
    },
    {
     "name": "stderr",
     "output_type": "stream",
     "text": [
      "\n"
     ]
    },
    {
     "name": "stdout",
     "output_type": "stream",
     "text": [
      "\n",
      "      Epoch    GPU_mem   box_loss   cls_loss   dfl_loss  Instances       Size\n"
     ]
    },
    {
     "name": "stderr",
     "output_type": "stream",
     "text": [
      "\n",
      "                 Class     Images  Instances      Box(P          R      mAP50  mAP50-95): 100%|██████████| 29/29 [00:07"
     ]
    },
    {
     "name": "stdout",
     "output_type": "stream",
     "text": [
      "                   all        900        900      0.813      0.728      0.743       0.24\n"
     ]
    },
    {
     "name": "stderr",
     "output_type": "stream",
     "text": [
      "\n"
     ]
    },
    {
     "name": "stdout",
     "output_type": "stream",
     "text": [
      "\n",
      "      Epoch    GPU_mem   box_loss   cls_loss   dfl_loss  Instances       Size\n"
     ]
    },
    {
     "name": "stderr",
     "output_type": "stream",
     "text": [
      "\n",
      "                 Class     Images  Instances      Box(P          R      mAP50  mAP50-95): 100%|██████████| 29/29 [00:07"
     ]
    },
    {
     "name": "stdout",
     "output_type": "stream",
     "text": [
      "                   all        900        900      0.906      0.777      0.852      0.317\n"
     ]
    },
    {
     "name": "stderr",
     "output_type": "stream",
     "text": [
      "\n"
     ]
    },
    {
     "name": "stdout",
     "output_type": "stream",
     "text": [
      "\n",
      "      Epoch    GPU_mem   box_loss   cls_loss   dfl_loss  Instances       Size\n"
     ]
    },
    {
     "name": "stderr",
     "output_type": "stream",
     "text": [
      "\n",
      "                 Class     Images  Instances      Box(P          R      mAP50  mAP50-95): 100%|██████████| 29/29 [00:07"
     ]
    },
    {
     "name": "stdout",
     "output_type": "stream",
     "text": [
      "                   all        900        900      0.936      0.781      0.869       0.32\n"
     ]
    },
    {
     "name": "stderr",
     "output_type": "stream",
     "text": [
      "\n"
     ]
    },
    {
     "name": "stdout",
     "output_type": "stream",
     "text": [
      "\n",
      "      Epoch    GPU_mem   box_loss   cls_loss   dfl_loss  Instances       Size\n"
     ]
    },
    {
     "name": "stderr",
     "output_type": "stream",
     "text": [
      "\n",
      "                 Class     Images  Instances      Box(P          R      mAP50  mAP50-95): 100%|██████████| 29/29 [00:07"
     ]
    },
    {
     "name": "stdout",
     "output_type": "stream",
     "text": [
      "                   all        900        900       0.89      0.739      0.825       0.31\n"
     ]
    },
    {
     "name": "stderr",
     "output_type": "stream",
     "text": [
      "\n"
     ]
    },
    {
     "name": "stdout",
     "output_type": "stream",
     "text": [
      "\n",
      "      Epoch    GPU_mem   box_loss   cls_loss   dfl_loss  Instances       Size\n"
     ]
    },
    {
     "name": "stderr",
     "output_type": "stream",
     "text": [
      "\n",
      "                 Class     Images  Instances      Box(P          R      mAP50  mAP50-95): 100%|██████████| 29/29 [00:07"
     ]
    },
    {
     "name": "stdout",
     "output_type": "stream",
     "text": [
      "                   all        900        900      0.901      0.823        0.9      0.346\n"
     ]
    },
    {
     "name": "stderr",
     "output_type": "stream",
     "text": [
      "\n"
     ]
    },
    {
     "name": "stdout",
     "output_type": "stream",
     "text": [
      "Closing dataloader mosaic\n",
      "\n",
      "      Epoch    GPU_mem   box_loss   cls_loss   dfl_loss  Instances       Size\n"
     ]
    },
    {
     "name": "stderr",
     "output_type": "stream",
     "text": [
      "\n",
      "                 Class     Images  Instances      Box(P          R      mAP50  mAP50-95): 100%|██████████| 29/29 [00:07"
     ]
    },
    {
     "name": "stdout",
     "output_type": "stream",
     "text": [
      "                   all        900        900      0.902      0.797      0.873      0.321\n"
     ]
    },
    {
     "name": "stderr",
     "output_type": "stream",
     "text": [
      "\n"
     ]
    },
    {
     "name": "stdout",
     "output_type": "stream",
     "text": [
      "\n",
      "      Epoch    GPU_mem   box_loss   cls_loss   dfl_loss  Instances       Size\n"
     ]
    },
    {
     "name": "stderr",
     "output_type": "stream",
     "text": [
      "\n",
      "                 Class     Images  Instances      Box(P          R      mAP50  mAP50-95): 100%|██████████| 29/29 [00:07"
     ]
    },
    {
     "name": "stdout",
     "output_type": "stream",
     "text": [
      "                   all        900        900      0.915      0.793      0.874       0.33\n"
     ]
    },
    {
     "name": "stderr",
     "output_type": "stream",
     "text": [
      "\n"
     ]
    },
    {
     "name": "stdout",
     "output_type": "stream",
     "text": [
      "\n",
      "      Epoch    GPU_mem   box_loss   cls_loss   dfl_loss  Instances       Size\n"
     ]
    },
    {
     "name": "stderr",
     "output_type": "stream",
     "text": [
      "\n",
      "                 Class     Images  Instances      Box(P          R      mAP50  mAP50-95): 100%|██████████| 29/29 [00:07"
     ]
    },
    {
     "name": "stdout",
     "output_type": "stream",
     "text": [
      "                   all        900        900      0.915      0.812      0.886      0.335\n"
     ]
    },
    {
     "name": "stderr",
     "output_type": "stream",
     "text": [
      "\n"
     ]
    },
    {
     "name": "stdout",
     "output_type": "stream",
     "text": [
      "\n",
      "      Epoch    GPU_mem   box_loss   cls_loss   dfl_loss  Instances       Size\n"
     ]
    },
    {
     "name": "stderr",
     "output_type": "stream",
     "text": [
      "\n",
      "                 Class     Images  Instances      Box(P          R      mAP50  mAP50-95): 100%|██████████| 29/29 [00:07"
     ]
    },
    {
     "name": "stdout",
     "output_type": "stream",
     "text": [
      "                   all        900        900      0.933       0.83      0.901      0.338\n"
     ]
    },
    {
     "name": "stderr",
     "output_type": "stream",
     "text": [
      "\n"
     ]
    },
    {
     "name": "stdout",
     "output_type": "stream",
     "text": [
      "\n",
      "      Epoch    GPU_mem   box_loss   cls_loss   dfl_loss  Instances       Size\n"
     ]
    },
    {
     "name": "stderr",
     "output_type": "stream",
     "text": [
      "\n",
      "                 Class     Images  Instances      Box(P          R      mAP50  mAP50-95): 100%|██████████| 29/29 [00:07"
     ]
    },
    {
     "name": "stdout",
     "output_type": "stream",
     "text": [
      "                   all        900        900      0.916      0.791      0.859      0.302\n"
     ]
    },
    {
     "name": "stderr",
     "output_type": "stream",
     "text": [
      "\n"
     ]
    },
    {
     "name": "stdout",
     "output_type": "stream",
     "text": [
      "\n",
      "      Epoch    GPU_mem   box_loss   cls_loss   dfl_loss  Instances       Size\n"
     ]
    },
    {
     "name": "stderr",
     "output_type": "stream",
     "text": [
      "\n",
      "                 Class     Images  Instances      Box(P          R      mAP50  mAP50-95): 100%|██████████| 29/29 [00:07"
     ]
    },
    {
     "name": "stdout",
     "output_type": "stream",
     "text": [
      "                   all        900        900      0.915      0.818      0.877      0.333\n"
     ]
    },
    {
     "name": "stderr",
     "output_type": "stream",
     "text": [
      "\n"
     ]
    },
    {
     "name": "stdout",
     "output_type": "stream",
     "text": [
      "\n",
      "      Epoch    GPU_mem   box_loss   cls_loss   dfl_loss  Instances       Size\n"
     ]
    },
    {
     "name": "stderr",
     "output_type": "stream",
     "text": [
      "\n",
      "                 Class     Images  Instances      Box(P          R      mAP50  mAP50-95): 100%|██████████| 29/29 [00:07"
     ]
    },
    {
     "name": "stdout",
     "output_type": "stream",
     "text": [
      "                   all        900        900      0.932      0.817      0.888      0.342\n"
     ]
    },
    {
     "name": "stderr",
     "output_type": "stream",
     "text": [
      "\n"
     ]
    },
    {
     "name": "stdout",
     "output_type": "stream",
     "text": [
      "\n",
      "      Epoch    GPU_mem   box_loss   cls_loss   dfl_loss  Instances       Size\n"
     ]
    },
    {
     "name": "stderr",
     "output_type": "stream",
     "text": [
      "\n",
      "                 Class     Images  Instances      Box(P          R      mAP50  mAP50-95): 100%|██████████| 29/29 [00:07"
     ]
    },
    {
     "name": "stdout",
     "output_type": "stream",
     "text": [
      "                   all        900        900      0.948      0.818      0.892       0.34\n"
     ]
    },
    {
     "name": "stderr",
     "output_type": "stream",
     "text": [
      "\n"
     ]
    },
    {
     "name": "stdout",
     "output_type": "stream",
     "text": [
      "\n",
      "      Epoch    GPU_mem   box_loss   cls_loss   dfl_loss  Instances       Size\n"
     ]
    },
    {
     "name": "stderr",
     "output_type": "stream",
     "text": [
      "\n",
      "                 Class     Images  Instances      Box(P          R      mAP50  mAP50-95): 100%|██████████| 29/29 [00:07"
     ]
    },
    {
     "name": "stdout",
     "output_type": "stream",
     "text": [
      "                   all        900        900      0.927      0.814      0.877      0.333\n"
     ]
    },
    {
     "name": "stderr",
     "output_type": "stream",
     "text": [
      "\n"
     ]
    },
    {
     "name": "stdout",
     "output_type": "stream",
     "text": [
      "\n",
      "      Epoch    GPU_mem   box_loss   cls_loss   dfl_loss  Instances       Size\n"
     ]
    },
    {
     "name": "stderr",
     "output_type": "stream",
     "text": [
      "\n",
      "                 Class     Images  Instances      Box(P          R      mAP50  mAP50-95): 100%|██████████| 29/29 [00:07"
     ]
    },
    {
     "name": "stdout",
     "output_type": "stream",
     "text": [
      "                   all        900        900      0.919      0.829      0.887      0.332\n",
      "\u001b[34m\u001b[1mEarlyStopping: \u001b[0mTraining stopped early as no improvement observed in last 10 epochs. Best results observed at epoch 20, best model saved as best.pt.\n",
      "To update EarlyStopping(patience=10) pass a new patience value, i.e. `patience=300` or use `patience=0` to disable EarlyStopping.\n"
     ]
    },
    {
     "name": "stderr",
     "output_type": "stream",
     "text": [
      "\n"
     ]
    },
    {
     "name": "stdout",
     "output_type": "stream",
     "text": [
      "\n",
      "30 epochs completed in 0.435 hours.\n",
      "Optimizer stripped from d:\\flagellar\\temp\\yolo_weights\\motor_detector\\weights\\last.pt, 52.0MB\n",
      "Optimizer stripped from d:\\flagellar\\temp\\yolo_weights\\motor_detector\\weights\\best.pt, 52.0MB\n",
      "\n",
      "Validating d:\\flagellar\\temp\\yolo_weights\\motor_detector\\weights\\best.pt...\n",
      "Ultralytics 8.3.98  Python-3.10.14 torch-2.5.1 CUDA:0 (NVIDIA GeForce RTX 4070 Ti, 12282MiB)\n",
      "YOLOv8m summary (fused): 92 layers, 25,840,339 parameters, 0 gradients, 78.7 GFLOPs\n"
     ]
    },
    {
     "name": "stderr",
     "output_type": "stream",
     "text": [
      "\n",
      "                Class     Images  Instances      Box(P          R      mAP50  mAP50-95): 100%|██████████| 29/29 [00:12"
     ]
    },
    {
     "name": "stdout",
     "output_type": "stream",
     "text": [
      "                   all        900        900      0.771      0.779      0.835      0.366\n",
      "Speed: 0.2ms preprocess, 8.0ms inference, 0.0ms loss, 1.2ms postprocess per image\n",
      "Results saved to \u001b[1md:\\flagellar\\temp\\yolo_weights\\motor_detector\u001b[0m\n",
      "\n",
      "Training complete!\n"
     ]
    }
   ],
   "source": [
    "importlib.reload(flg_yolo)\n",
    "model = flg_yolo.YOLOModel()\n",
    "model.seed = 42\n",
    "model.use_pretrained_weights = False\n",
    "model.n_epochs = 30\n",
    "model.run_in_parallel = True\n",
    "if fast_mode: model.n_epochs = 1\n",
    "model.train(train_data, test_data)\n",
    "if not fls.env=='kaggle':\n",
    "    fls.dill_save(fls.model_dir+ \"yolo.pickle\", model)"
   ]
  },
  {
   "cell_type": "code",
   "execution_count": 5,
   "id": "325679ee-dd1b-4fdf-8414-d2520638f193",
   "metadata": {},
   "outputs": [
    {
     "name": "stdout",
     "output_type": "stream",
     "text": [
      "0.9016393442622951\n"
     ]
    }
   ],
   "source": [
    "if not fls.is_submission:\n",
    "    importlib.reload(flg_yolo)    \n",
    "    inferred_test_data = model.infer(test_data[:20])\n",
    "    print(fls.score_competition_metric(inferred_test_data, test_data[:20]))"
   ]
  },
  {
   "cell_type": "code",
   "execution_count": 6,
   "id": "49b1cac7-f4ce-45fc-9669-8997b6865bb8",
   "metadata": {},
   "outputs": [
    {
     "name": "stdout",
     "output_type": "stream",
     "text": [
      "       tomo_id  Motor axis 0  Motor axis 1  Motor axis 2\n",
      "0  tomo_003acc            -1            -1            -1\n",
      "1  tomo_00e047           166           546           603\n",
      "2  tomo_01a877           148           639           282\n"
     ]
    }
   ],
   "source": [
    "inferred_test_data2 = model.infer(fls.load_all_test_data())\n",
    "fls.write_submission_file(inferred_test_data2)"
   ]
  },
  {
   "cell_type": "code",
   "execution_count": 7,
   "id": "59a5ee85-7069-4a09-a08c-2492e410632b",
   "metadata": {},
   "outputs": [
    {
     "data": {
      "text/plain": [
       "[DataKaggle(is_train=False, name='tomo_003acc', labels=Empty DataFrame\n",
       " Columns: []\n",
       " Index: [], labels_unfiltered=Empty DataFrame\n",
       " Columns: []\n",
       " Index: [], loaded_state='unloaded', data=None, data_shape=(500, 1912, 1847), voxel_spacing=nan, mean_per_slice=array([], dtype=float64), std_per_slice=array([], dtype=float64), percentiles_per_slice=array([], shape=(8, 0), dtype=float64), resize_factor=1.0, target_size=None),\n",
       " DataKaggle(is_train=False, name='tomo_00e047', labels=     z    y    x\n",
       " 0  166  546  603, labels_unfiltered=Empty DataFrame\n",
       " Columns: []\n",
       " Index: [], loaded_state='unloaded', data=None, data_shape=(300, 959, 928), voxel_spacing=nan, mean_per_slice=array([], dtype=float64), std_per_slice=array([], dtype=float64), percentiles_per_slice=array([], shape=(8, 0), dtype=float64), resize_factor=1.0, target_size=None),\n",
       " DataKaggle(is_train=False, name='tomo_01a877', labels=     z    y    x\n",
       " 0  148  639  282, labels_unfiltered=Empty DataFrame\n",
       " Columns: []\n",
       " Index: [], loaded_state='unloaded', data=None, data_shape=(300, 960, 928), voxel_spacing=nan, mean_per_slice=array([], dtype=float64), std_per_slice=array([], dtype=float64), percentiles_per_slice=array([], shape=(8, 0), dtype=float64), resize_factor=1.0, target_size=None)]"
      ]
     },
     "execution_count": 7,
     "metadata": {},
     "output_type": "execute_result"
    }
   ],
   "source": [
    "inferred_test_data2"
   ]
  },
  {
   "cell_type": "code",
   "execution_count": null,
   "id": "2ffed65d-c2b2-4ad7-8d33-d63ad4820003",
   "metadata": {},
   "outputs": [],
   "source": []
  }
 ],
 "metadata": {
  "kaggle": {
   "accelerator": "nvidiaTeslaT4",
   "dataSources": [
    {
     "databundleVersionId": 11294684,
     "isSourceIdPinned": false,
     "sourceId": 91249,
     "sourceType": "competition"
    },
    {
     "datasetId": 6925042,
     "sourceId": 11204341,
     "sourceType": "datasetVersion"
    },
    {
     "datasetId": 6949538,
     "sourceId": 11204343,
     "sourceType": "datasetVersion"
    },
    {
     "sourceId": 211097053,
     "sourceType": "kernelVersion"
    },
    {
     "sourceId": 229283084,
     "sourceType": "kernelVersion"
    }
   ],
   "dockerImageVersionId": 30919,
   "isGpuEnabled": true,
   "isInternetEnabled": false,
   "language": "python",
   "sourceType": "notebook"
  },
  "kernelspec": {
   "display_name": "Python 3 (ipykernel)",
   "language": "python",
   "name": "python3"
  },
  "language_info": {
   "codemirror_mode": {
    "name": "ipython",
    "version": 3
   },
   "file_extension": ".py",
   "mimetype": "text/x-python",
   "name": "python",
   "nbconvert_exporter": "python",
   "pygments_lexer": "ipython3",
   "version": "3.10.14"
  }
 },
 "nbformat": 4,
 "nbformat_minor": 5
}
