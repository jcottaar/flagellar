{
 "cells": [
  {
   "cell_type": "code",
   "execution_count": 1,
   "id": "e0b4b630-bd17-4d7f-97ef-001707dcf970",
   "metadata": {},
   "outputs": [
    {
     "name": "stdout",
     "output_type": "stream",
     "text": [
      "MainProcess\n",
      "MainProcess\n"
     ]
    },
    {
     "data": {
      "text/plain": [
       "<matplotlib.collections.PathCollection at 0x7a6352b31650>"
      ]
     },
     "execution_count": 1,
     "metadata": {},
     "output_type": "execute_result"
    },
    {
     "data": {
      "image/png": "[encoded data removed]",
      "text/plain": [
       "<Figure size 640x480 with 1 Axes>"
      ]
     },
     "metadata": {},
     "output_type": "display_data"
    }
   ],
   "source": [
    "import sys\n",
    "sys.path.append('d:/flagellar/code/core')\n",
    "sys.path.append('/flagellar/code/core')\n",
    "sys.path.append('/flagellar/input/my-flg-library/')\n",
    "import flg_support as fls\n",
    "import importlib\n",
    "import numpy as np\n",
    "import flg_diagnostics\n",
    "import flg_numerics\n",
    "import matplotlib.pyplot as plt\n",
    "import glob\n",
    "import copy\n",
    "import flg_preprocess\n",
    "importlib.reload(fls);\n",
    "fls.profiling=False\n",
    "plt.scatter([0,1],[1,2])"
   ]
  },
  {
   "cell_type": "code",
   "execution_count": 2,
   "id": "758650f7-df3d-4e50-857a-b8d2c213fafa",
   "metadata": {},
   "outputs": [],
   "source": [
    "files = glob.glob(fls.result_dir + '/many_abbr_full/Baseline_*0M*')\n",
    "models = [fls.dill_load(f) for f in files]\n",
    "models = sorted(models, key=lambda d:d.trained_model.seed)"
   ]
  },
  {
   "cell_type": "code",
   "execution_count": 3,
   "id": "8215a379-7b4b-4784-8624-20fb136995e8",
   "metadata": {},
   "outputs": [],
   "source": [
    "todo = slice(None)\n",
    "data = copy.deepcopy(models[0].inferred_test_data[todo])"
   ]
  },
  {
   "cell_type": "code",
   "execution_count": 4,
   "id": "01866c8d-120a-4a62-b9aa-b3c1d0ee2fa7",
   "metadata": {},
   "outputs": [],
   "source": [
    "# for m in models[0:1]:\n",
    "#     m.trained_model.step1Labels.relative_confidence_threshold = 0.001\n",
    "#     m.inferred_test_data = m.trained_model.infer(m.test_data)"
   ]
  },
  {
   "cell_type": "code",
   "execution_count": 5,
   "id": "c4be95a9-3dda-4329-808f-2af9e030e6ff",
   "metadata": {},
   "outputs": [
    {
     "data": {
      "text/plain": [
       "0"
      ]
     },
     "execution_count": 5,
     "metadata": {},
     "output_type": "execute_result"
    }
   ],
   "source": [
    "models[0].trained_model.step1Labels.seed"
   ]
  },
  {
   "cell_type": "code",
   "execution_count": 6,
   "id": "a9e6427a-95b0-4b6a-8b6c-0e69abae7be2",
   "metadata": {},
   "outputs": [
    {
     "name": "stdout",
     "output_type": "stream",
     "text": [
      "!!!\n"
     ]
    },
    {
     "name": "stderr",
     "output_type": "stream",
     "text": [
      "/opt/conda/lib/python3.11/site-packages/cupyx/jit/_interface.py:173: FutureWarning: cupyx.jit.rawkernel is experimental. The interface can change in the future.\n",
      "  cupy._util.experimental('cupyx.jit.rawkernel')\n"
     ]
    },
    {
     "name": "stdout",
     "output_type": "stream",
     "text": [
      "(942, 942) (200, 200)\n",
      "(942, 942)\n",
      "100\n",
      "(742, 742)\n",
      "(942, 942) (200, 200)\n",
      "(942, 942)\n",
      "100\n",
      "(742, 742)\n",
      "(942, 942) (200, 200)\n",
      "(942, 942)\n",
      "100\n",
      "(742, 742)\n",
      "(942, 942) (200, 200)\n",
      "(942, 942)\n",
      "100\n",
      "(742, 742)\n",
      "(942, 942) (200, 200)\n",
      "(942, 942)\n",
      "100\n",
      "(742, 742)\n",
      "(942, 942) (200, 200)\n",
      "(942, 942)\n",
      "100\n",
      "(742, 742)\n",
      "(942, 942) (200, 200)\n",
      "(942, 942)\n",
      "100\n",
      "(742, 742)\n",
      "(942, 942) (200, 200)\n",
      "(942, 942)\n",
      "100\n",
      "(742, 742)\n",
      "(942, 942) (200, 200)\n",
      "(942, 942)\n",
      "100\n",
      "(742, 742)\n",
      "(942, 942) (200, 200)\n",
      "(942, 942)\n",
      "100\n",
      "(742, 742)\n",
      "(942, 942) (200, 200)\n",
      "(942, 942)\n",
      "100\n",
      "(742, 742)\n",
      "(942, 942) (200, 200)\n",
      "(942, 942)\n",
      "100\n",
      "(742, 742)\n",
      "(942, 942) (200, 200)\n",
      "(942, 942)\n",
      "100\n",
      "(742, 742)\n",
      "(942, 942) (200, 200)\n",
      "(942, 942)\n",
      "100\n",
      "(742, 742)\n",
      "(942, 942) (200, 200)\n",
      "(942, 942)\n",
      "100\n",
      "(742, 742)\n",
      "(942, 942) (200, 200)\n",
      "(942, 942)\n",
      "100\n",
      "(742, 742)\n",
      "(942, 942) (200, 200)\n",
      "(942, 942)\n",
      "100\n",
      "(742, 742)\n",
      "Clearing cupy\n",
      "YOLOv9s summary (fused): 197 layers, 7,167,475 parameters, 0 gradients, 26.7 GFLOPs\n",
      "Processing tomogram aba2014-04-03-1 (1/1)\n",
      "Processing 17 out of 17 slices (CONCENTRATION=1)\n",
      "FINAL\n",
      "     z    y    x  confidence\n",
      "0  376  643  465    0.286865\n",
      "1  368    6  416    0.006191\n",
      "2  360  221  765    0.001734\n",
      "3  370    6   16    0.000448\n",
      "\n",
      "Clearing pytorch\n",
      "(108, 116) (104, 104)\n",
      "(108, 116)\n",
      "52\n",
      "(4, 12)\n",
      "(108, 116) (104, 104)\n",
      "(108, 116)\n",
      "52\n",
      "(4, 12)\n",
      "(108, 116) (104, 104)\n",
      "(108, 116)\n",
      "52\n",
      "(4, 12)\n",
      "(108, 116) (104, 104)\n",
      "(108, 116)\n",
      "52\n",
      "(4, 12)\n",
      "(108, 116) (104, 104)\n",
      "(108, 116)\n",
      "52\n",
      "(4, 12)\n",
      "(108, 116) (104, 104)\n",
      "(108, 116)\n",
      "52\n",
      "(4, 12)\n",
      "(108, 116) (104, 104)\n",
      "(108, 116)\n",
      "52\n",
      "(4, 12)\n",
      "(108, 116) (104, 104)\n",
      "(108, 116)\n",
      "52\n",
      "(4, 12)\n",
      "(108, 116) (104, 104)\n",
      "(108, 116)\n",
      "52\n",
      "(4, 12)\n",
      "(108, 116) (104, 104)\n",
      "(108, 116)\n",
      "52\n",
      "(4, 12)\n",
      "(108, 116) (104, 104)\n",
      "(108, 116)\n",
      "52\n",
      "(4, 12)\n",
      "(108, 116) (104, 104)\n",
      "(108, 116)\n",
      "52\n",
      "(4, 12)\n",
      "(108, 116) (104, 104)\n",
      "(108, 116)\n",
      "52\n",
      "(4, 12)\n",
      "(108, 116) (104, 104)\n",
      "(108, 116)\n",
      "52\n",
      "(4, 12)\n",
      "(108, 116) (104, 104)\n",
      "(108, 116)\n",
      "52\n",
      "(4, 12)\n",
      "(108, 116) (104, 104)\n",
      "(108, 116)\n",
      "52\n",
      "(4, 12)\n",
      "(108, 116) (104, 104)\n",
      "(108, 116)\n",
      "52\n",
      "(4, 12)\n",
      "Clearing cupy\n",
      "Processing tomogram mba2011-12-30-1 (1/1)\n",
      "Processing 17 out of 17 slices (CONCENTRATION=1)\n",
      "FINAL\n",
      "    z    y    x  confidence\n",
      "0  92  205  219    0.000014\n",
      "\n"
     ]
    },
    {
     "ename": "AssertionError",
     "evalue": "",
     "output_type": "error",
     "traceback": [
      "\u001b[0;31m---------------------------------------------------------------------------\u001b[0m",
      "\u001b[0;31mAssertionError\u001b[0m                            Traceback (most recent call last)",
      "Cell \u001b[0;32mIn[6], line 22\u001b[0m\n\u001b[1;32m     20\u001b[0m \u001b[38;5;28;01mfor\u001b[39;00m d \u001b[38;5;129;01min\u001b[39;00m inferred_data:\n\u001b[1;32m     21\u001b[0m     d\u001b[38;5;241m.\u001b[39mlabels_unfiltered \u001b[38;5;241m=\u001b[39m d\u001b[38;5;241m.\u001b[39mlabels_unfiltered2\n\u001b[0;32m---> 22\u001b[0m \u001b[43mfls\u001b[49m\u001b[38;5;241;43m.\u001b[39;49m\u001b[43mmark_tf_pn\u001b[49m\u001b[43m(\u001b[49m\u001b[43minferred_data\u001b[49m\u001b[43m,\u001b[49m\u001b[43m \u001b[49m\u001b[43mmodels\u001b[49m\u001b[43m[\u001b[49m\u001b[38;5;241;43m0\u001b[39;49m\u001b[43m]\u001b[49m\u001b[38;5;241;43m.\u001b[39;49m\u001b[43mtest_data\u001b[49m\u001b[43m[\u001b[49m\u001b[43mtodo\u001b[49m\u001b[43m]\u001b[49m\u001b[43m)\u001b[49m\n\u001b[1;32m     23\u001b[0m this_highest_false_score \u001b[38;5;241m=\u001b[39m []\n\u001b[1;32m     24\u001b[0m this_real_score \u001b[38;5;241m=\u001b[39m []\n",
      "File \u001b[0;32m/flagellar/code/core/flg_support.py:559\u001b[0m, in \u001b[0;36mmark_tf_pn\u001b[0;34m(data, reference_data, mark_false_negative)\u001b[0m\n\u001b[1;32m    557\u001b[0m \u001b[38;5;28;01massert\u001b[39;00m \u001b[38;5;129;01mnot\u001b[39;00m mark_false_negative \u001b[38;5;66;03m# todo\u001b[39;00m\n\u001b[1;32m    558\u001b[0m \u001b[38;5;28;01mfor\u001b[39;00m d,r \u001b[38;5;129;01min\u001b[39;00m \u001b[38;5;28mzip\u001b[39m(data,reference_data):\n\u001b[0;32m--> 559\u001b[0m     \u001b[38;5;28;01massert\u001b[39;00m d\u001b[38;5;241m.\u001b[39mname\u001b[38;5;241m==\u001b[39mr\u001b[38;5;241m.\u001b[39mname\n\u001b[1;32m    560\u001b[0m     \u001b[38;5;66;03m#d.labels_unfiltered['tf_pn'] = np.nan\u001b[39;00m\n\u001b[1;32m    561\u001b[0m     \u001b[38;5;28;01mfor\u001b[39;00m row_d \u001b[38;5;129;01min\u001b[39;00m \u001b[38;5;28mrange\u001b[39m(\u001b[38;5;28mlen\u001b[39m(d\u001b[38;5;241m.\u001b[39mlabels_unfiltered)):\u001b[38;5;66;03m#d.labels_unfiltered.iterrows():\u001b[39;00m\n\u001b[1;32m    562\u001b[0m         \u001b[38;5;66;03m#print('row_d: ', row_d)\u001b[39;00m\n",
      "\u001b[0;31mAssertionError\u001b[0m: "
     ]
    }
   ],
   "source": [
    "#highest_false_score = []\n",
    "#real_score = []\n",
    "for i_type in [1]:#range(2):\n",
    "    model = copy.deepcopy(models[0].untrained_model)\n",
    "    model.step1Labels.relative_confidence_threshold = 0.001\n",
    "    #model.step1Labels.n_epochs = 2\n",
    "    #m.step2Motors.distance_threshold = 10.\n",
    "    if i_type == 0:\n",
    "        # baseline\n",
    "        pass\n",
    "    elif i_type==1:\n",
    "        # blur\n",
    "        model.step1Labels.preprocessor = flg_preprocess.Preprocessor2()\n",
    "    model.run_in_parallel = False\n",
    "    model.train(models[0].train_data, models[0].test_data)\n",
    "    fls.dill_save(fls.temp_dir + 'model_' + str(i_type) + '.pickle', model)\n",
    "    #model = fls.dill_load(fls.temp_dir + 'model_' + str(i_type) + '.pickle')\n",
    "    inferred_data = model.infer(models[0].test_data[todo])\n",
    "    for d in inferred_data:\n",
    "        d.labels_unfiltered = d.labels_unfiltered2\n",
    "    fls.mark_tf_pn(inferred_data, models[0].test_data[todo])\n",
    "    this_highest_false_score = []\n",
    "    this_real_score = []\n",
    "    for i,r in zip(inferred_data, models[0].test_data[todo]):\n",
    "        false_positives = i.labels_unfiltered[i.labels_unfiltered['tf_pn']==1.]\n",
    "        if len(false_positives)>0:\n",
    "            this_highest_false_score.append(np.max(false_positives['confidence']))\n",
    "        else:\n",
    "            this_highest_false_score.append(0)\n",
    "        if len(r.labels)>0:\n",
    "            true_positives = i.labels_unfiltered[i.labels_unfiltered['tf_pn']==0.]\n",
    "            if len(true_positives)>0:\n",
    "                this_real_score.append(np.max(true_positives['confidence']))\n",
    "            else:\n",
    "                this_real_score.append(0)\n",
    "    highest_false_score.append(this_highest_false_score)\n",
    "    real_score.append(this_real_score)\n"
   ]
  },
  {
   "cell_type": "code",
   "execution_count": null,
   "id": "4507d4a2-e0d0-4d8e-8980-5485177dbeeb",
   "metadata": {},
   "outputs": [],
   "source": [
    "%debug"
   ]
  },
  {
   "cell_type": "code",
   "execution_count": null,
   "id": "92ae73dd-cd11-481f-94fa-4accc3e8c289",
   "metadata": {},
   "outputs": [],
   "source": [
    "def f(v0,v1):\n",
    "    return v1\n",
    "    return np.max(np.stack((np.array(v0), np.array(v1))),axis=0)\n",
    "f([1,2,3], [2,30,1])"
   ]
  },
  {
   "cell_type": "code",
   "execution_count": null,
   "id": "e586a6b9-0f48-42c1-91a0-f3bbdb3b745e",
   "metadata": {},
   "outputs": [],
   "source": [
    "plt.scatter(highest_false_score[0], f(highest_false_score[0], highest_false_score[1]))\n",
    "plt.xlabel('Highest false score baseline')\n",
    "plt.ylabel('Highest false score new')\n",
    "plt.grid(True)\n",
    "plt.axline((0,0),slope=1)"
   ]
  },
  {
   "cell_type": "code",
   "execution_count": null,
   "id": "41f443a8-8e9a-46a9-a02e-489c4723f867",
   "metadata": {},
   "outputs": [],
   "source": [
    "plt.scatter(real_score[0], f(real_score[0], real_score[1]))\n",
    "plt.xlabel('True score baseline')\n",
    "plt.ylabel('True score new')\n",
    "plt.grid(True)\n",
    "plt.axline((0,0),slope=1)"
   ]
  },
  {
   "cell_type": "code",
   "execution_count": null,
   "id": "dad4403f-94e4-4756-aecc-d50d9e7ae68f",
   "metadata": {},
   "outputs": [],
   "source": [
    "# xx=np.argwhere(np.logical_and(np.array(highest_false_score[2])>0.6, np.array(highest_false_score[0])<0.01))\n",
    "# xx"
   ]
  },
  {
   "cell_type": "code",
   "execution_count": null,
   "id": "287d867d-d02c-453d-a7da-1dbb95971635",
   "metadata": {},
   "outputs": [],
   "source": [
    "# cur_id = 87\n",
    "# for ii in range(len(models[0].test_data[todo])):\n",
    "#     if len(models[0].test_data[todo][ii].labels)>0:        \n",
    "#         if cur_id in xx:\n",
    "#             print(models[0].test_data[todo][ii].name,ii,real_score[0][cur_id],real_score[2][cur_id])\n",
    "#         cur_id+=1"
   ]
  },
  {
   "cell_type": "code",
   "execution_count": null,
   "id": "e485affd-23ba-48f5-9f15-60523b8f0754",
   "metadata": {},
   "outputs": [],
   "source": [
    "import numpy as np\n",
    "import matplotlib.pyplot as plt\n",
    "\n",
    "# flatten the two arrays into one to get global bin edges\n",
    "all_scores = np.concatenate([highest_false_score[0], highest_false_score[1]])\n",
    "# choose number of bins (e.g. 30) or compute automatically\n",
    "bins = np.histogram_bin_edges(all_scores, bins=30)\n",
    "\n",
    "plt.figure(figsize=(8, 5))\n",
    "plt.hist(highest_false_score[0], bins=bins, cumulative=True, alpha=0.5, label='Original')\n",
    "plt.hist(highest_false_score[1], bins=bins, cumulative=True, alpha=0.5, label='New')\n",
    "plt.xlabel('Score')\n",
    "plt.ylabel('Frequency')\n",
    "plt.title('Overlayed Histograms of Highest False Scores - lower is better')\n",
    "plt.legend()\n",
    "plt.tight_layout()\n",
    "plt.show()"
   ]
  },
  {
   "cell_type": "code",
   "execution_count": null,
   "id": "2f3f197e-1e29-4fcc-acd7-51519c970130",
   "metadata": {},
   "outputs": [],
   "source": [
    "import numpy as np\n",
    "import matplotlib.pyplot as plt\n",
    "\n",
    "# flatten the two arrays into one to get global bin edges\n",
    "all_scores = np.concatenate([real_score[0], real_score[1]])\n",
    "# choose number of bins (e.g. 30) or compute automatically\n",
    "bins = np.histogram_bin_edges(all_scores, bins=30)\n",
    "\n",
    "plt.figure(figsize=(8, 5))\n",
    "plt.hist(real_score[0], bins=bins, cumulative=True, alpha=0.5, label='Original')\n",
    "plt.hist(real_score[1], bins=bins, cumulative=True, alpha=0.5, label='New')\n",
    "plt.xlabel('Score')\n",
    "plt.ylabel('Frequency')\n",
    "plt.title('Overlayed Histograms of True Scores - higher is better')\n",
    "plt.legend()\n",
    "plt.tight_layout()\n",
    "plt.show()"
   ]
  },
  {
   "cell_type": "code",
   "execution_count": null,
   "id": "3f46917a-1b76-4815-bb1f-54901e1aaec3",
   "metadata": {},
   "outputs": [],
   "source": []
  },
  {
   "cell_type": "code",
   "execution_count": null,
   "id": "18a4abd2-2f3a-4bc6-adb0-b83e6b360aee",
   "metadata": {},
   "outputs": [],
   "source": []
  }
 ],
 "metadata": {
  "kernelspec": {
   "display_name": "Python 3 (ipykernel)",
   "language": "python",
   "name": "python3"
  },
  "language_info": {
   "codemirror_mode": {
    "name": "ipython",
    "version": 3
   },
   "file_extension": ".py",
   "mimetype": "text/x-python",
   "name": "python",
   "nbconvert_exporter": "python",
   "pygments_lexer": "ipython3",
   "version": "3.11.10"
  }
 },
 "nbformat": 4,
 "nbformat_minor": 5
}
