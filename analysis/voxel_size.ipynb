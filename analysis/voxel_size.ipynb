{
 "cells": [
  {
   "cell_type": "code",
   "execution_count": 1,
   "id": "e0b4b630-bd17-4d7f-97ef-001707dcf970",
   "metadata": {},
   "outputs": [
    {
     "name": "stdout",
     "output_type": "stream",
     "text": [
      "MainProcess\n",
      "MainProcess\n"
     ]
    },
    {
     "data": {
      "text/plain": [
       "<matplotlib.collections.PathCollection at 0x7e89c74db750>"
      ]
     },
     "execution_count": 1,
     "metadata": {},
     "output_type": "execute_result"
    },
    {
     "data": {
      "image/png": "[encoded data removed]",
      "text/plain": [
       "<Figure size 640x480 with 1 Axes>"
      ]
     },
     "metadata": {},
     "output_type": "display_data"
    }
   ],
   "source": [
    "import sys\n",
    "sys.path.append('d:/flagellar/code/core')\n",
    "sys.path.append('/flagellar/code/core')\n",
    "sys.path.append('/flagellar/input/my-flg-library/')\n",
    "import flg_support as fls\n",
    "import importlib\n",
    "import numpy as np\n",
    "import flg_diagnostics\n",
    "import flg_numerics\n",
    "import matplotlib.pyplot as plt\n",
    "import glob\n",
    "import copy\n",
    "import flg_preprocess\n",
    "import os\n",
    "importlib.reload(fls);\n",
    "fls.profiling=False\n",
    "plt.scatter([0,1],[1,2])"
   ]
  },
  {
   "cell_type": "code",
   "execution_count": 2,
   "id": "758650f7-df3d-4e50-857a-b8d2c213fafa",
   "metadata": {},
   "outputs": [],
   "source": [
    "data = fls.load_all_train_data()"
   ]
  },
  {
   "cell_type": "code",
   "execution_count": 16,
   "id": "3f46917a-1b76-4815-bb1f-54901e1aaec3",
   "metadata": {},
   "outputs": [
    {
     "name": "stderr",
     "output_type": "stream",
     "text": [
      "/tmp/ipykernel_643/3653738770.py:7: FutureWarning: `rcond` parameter will change to the default of machine precision times ``max(M, N)`` where M and N are the input matrix dimensions.\n",
      "To use the future default and silence this warning we advise to pass `rcond=None`, to keep using the old, explicitly pass `rcond=-1`.\n",
      "  coeffs = np.linalg.lstsq(X.T,y)[0]\n"
     ]
    },
    {
     "data": {
      "text/plain": [
       "<matplotlib.collections.PathCollection at 0x7e89b76f3950>"
      ]
     },
     "execution_count": 16,
     "metadata": {},
     "output_type": "execute_result"
    },
    {
     "data": {
      "image/png": "[encoded data removed]",
      "text/plain": [
       "<Figure size 640x480 with 1 Axes>"
      ]
     },
     "metadata": {},
     "output_type": "display_data"
    }
   ],
   "source": [
    "voxel_spacing = [d.voxel_spacing for d in data]\n",
    "xy_size = [np.sqrt(d.data_shape[1] * d.data_shape[2]) for d in data]\n",
    "plt.scatter(xy_size, voxel_spacing)\n",
    "\n",
    "X = np.stack((xy_size,np.ones(len(xy_size))))\n",
    "y = np.array(voxel_spacing)\n",
    "coeffs = np.linalg.lstsq(X.T,y)[0]\n",
    "y_pred = coeffs@X\n",
    "\n",
    "plt.scatter(xy_size, y_pred)"
   ]
  },
  {
   "cell_type": "code",
   "execution_count": 17,
   "id": "18a4abd2-2f3a-4bc6-adb0-b83e6b360aee",
   "metadata": {},
   "outputs": [
    {
     "data": {
      "text/plain": [
       "nan"
      ]
     },
     "execution_count": 17,
     "metadata": {},
     "output_type": "execute_result"
    }
   ],
   "source": [
    "data2 = fls.load_all_test_data()\n",
    "data2[0].voxel_spacing"
   ]
  },
  {
   "cell_type": "code",
   "execution_count": 18,
   "id": "a5cd2cf1-ed21-44e0-a4b1-a577e2198107",
   "metadata": {},
   "outputs": [
    {
     "data": {
      "text/plain": [
       "array([-8.71223429e-03,  2.33859781e+01])"
      ]
     },
     "execution_count": 18,
     "metadata": {},
     "output_type": "execute_result"
    }
   ],
   "source": [
    "coeffs"
   ]
  },
  {
   "cell_type": "code",
   "execution_count": 19,
   "id": "1cf0c79f-2a41-497a-87a2-92f30db137e3",
   "metadata": {},
   "outputs": [
    {
     "data": {
      "text/plain": [
       "19.453125"
      ]
     },
     "execution_count": 19,
     "metadata": {},
     "output_type": "execute_result"
    }
   ],
   "source": [
    "830/640*15"
   ]
  },
  {
   "cell_type": "code",
   "execution_count": null,
   "id": "54c9b082-1368-4999-a199-7cef7bb6072d",
   "metadata": {},
   "outputs": [],
   "source": []
  }
 ],
 "metadata": {
  "kernelspec": {
   "display_name": "Python 3 (ipykernel)",
   "language": "python",
   "name": "python3"
  },
  "language_info": {
   "codemirror_mode": {
    "name": "ipython",
    "version": 3
   },
   "file_extension": ".py",
   "mimetype": "text/x-python",
   "name": "python",
   "nbconvert_exporter": "python",
   "pygments_lexer": "ipython3",
   "version": "3.11.10"
  }
 },
 "nbformat": 4,
 "nbformat_minor": 5
}
