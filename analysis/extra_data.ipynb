{
 "cells": [
  {
   "cell_type": "code",
   "execution_count": 1,
   "id": "8b5ab46b-52ad-4f3e-a9a0-2c4230753b13",
   "metadata": {},
   "outputs": [
    {
     "name": "stdout",
     "output_type": "stream",
     "text": [
      "MainProcess\n"
     ]
    }
   ],
   "source": [
    "import sys\n",
    "sys.path.append('d:/flagellar/code/core')\n",
    "sys.path.append('/flagellar/code/core/')\n",
    "sys.path.append('/kaggle/input/my-flagellar-library/')\n",
    "from typing import Tuple\n",
    "import os\n",
    "import glob\n",
    "import shutil\n",
    "import scipy\n",
    "\n",
    "import zarr\n",
    "from cryoet_data_portal import Client, Dataset\n",
    "import numpy as np\n",
    "import pandas as pd\n",
    "\n",
    "import sys\n",
    "sys.path.append('d:/flagellar/code/core')\n",
    "sys.path.append('/kaggle/code/core')\n",
    "sys.path.append('/kaggle/input/my-flagellar-library/')\n",
    "import flg_support as fls\n",
    "import copy\n",
    "import matplotlib.pyplot as plt\n",
    "import h5py\n",
    "import cv2\n",
    "import flg_numerics"
   ]
  },
  {
   "cell_type": "code",
   "execution_count": 2,
   "id": "db4b967b-864e-411b-9f69-72943c5947ef",
   "metadata": {},
   "outputs": [
    {
     "name": "stdout",
     "output_type": "stream",
     "text": [
      "Overwriting irregular_labels.csv\n"
     ]
    }
   ],
   "source": [
    "%%writefile irregular_labels.csv\n",
    "\n",
    "tomo_id,z\n",
    "aba2014-02-21-14,18.0\n",
    "mba2011-02-16-103,62.0\n",
    "mba2011-02-16-106,66.0\n",
    "mba2011-02-16-108,42.0\n",
    "mba2011-02-16-111,56.0\n",
    "mba2011-02-16-115,70.0\n",
    "mba2011-02-16-116,68.0\n",
    "mba2011-02-16-11,66.0\n",
    "mba2011-02-16-122,42.0\n",
    "mba2011-02-16-123,62.0\n",
    "mba2011-02-16-129,64.0\n",
    "mba2011-02-16-12,60.0\n",
    "mba2011-02-16-133,59.0\n",
    "mba2011-02-16-139,60.0\n",
    "mba2011-02-16-141,66.0\n",
    "mba2011-02-16-143,57.0\n",
    "mba2011-02-16-145,48.0\n",
    "mba2011-02-16-145,51.0\n",
    "mba2011-02-16-147,51.0\n",
    "mba2011-02-16-150,62.0\n",
    "mba2011-02-16-153,55.0\n",
    "mba2011-02-16-153,63.0\n",
    "mba2011-02-16-155,33.0\n",
    "mba2011-02-16-157,60.0\n",
    "mba2011-02-16-15,56.0\n",
    "mba2011-02-16-15,50.0\n",
    "mba2011-02-16-160,60.0\n",
    "mba2011-02-16-160,51.0\n",
    "mba2011-02-16-162,62.0\n",
    "mba2011-02-16-170,62.0\n",
    "mba2011-02-16-173,52.0\n",
    "mba2011-02-16-176,59.0\n",
    "mba2011-02-16-17,68.0\n",
    "mba2011-02-16-19,70.0\n",
    "mba2011-02-16-1,66.0\n",
    "mba2011-02-16-1,46.0\n",
    "mba2011-02-16-20,65.0\n",
    "mba2011-02-16-23,59.0\n",
    "mba2011-02-16-26,59.0\n",
    "mba2011-02-16-27,63.0\n",
    "mba2011-02-16-28,59.0\n",
    "mba2011-02-16-28,68.0\n",
    "mba2011-02-16-29,65.0\n",
    "mba2011-02-16-30,66.0\n",
    "mba2011-02-16-32,75.0\n",
    "mba2011-02-16-33,56.0\n",
    "mba2011-02-16-34,54.0\n",
    "mba2011-02-16-35,57.0\n",
    "mba2011-02-16-37,70.0\n",
    "mba2011-02-16-3,63.0\n",
    "mba2011-02-16-40,59.0\n",
    "mba2011-02-16-40,55.0\n",
    "mba2011-02-16-42,44.0\n",
    "mba2011-02-16-42,26.0\n",
    "mba2011-02-16-46,64.0\n",
    "mba2011-02-16-48,63.0\n",
    "mba2011-02-16-52,59.0\n",
    "mba2011-02-16-53,54.0\n",
    "mba2011-02-16-55,46.0\n",
    "mba2011-02-16-60,54.0\n",
    "mba2011-02-16-64,56.0\n",
    "mba2011-02-16-65,66.0\n",
    "mba2011-02-16-67,60.0\n",
    "mba2011-02-16-68,60.0\n",
    "mba2011-02-16-71,59.0\n",
    "mba2011-02-16-75,47.0\n",
    "mba2011-02-16-79,43.0\n",
    "mba2011-02-16-79,44.0\n",
    "mba2011-02-16-88,69.0\n",
    "mba2011-02-16-90,60.0\n",
    "mba2011-02-16-95,63.0"
   ]
  },
  {
   "cell_type": "code",
   "execution_count": 3,
   "id": "8c7b9d3d-0b6d-4d8c-9e44-5a62162b7053",
   "metadata": {},
   "outputs": [],
   "source": [
    "import polars as pl\n",
    "irregular_df = pl.read_csv(\"irregular_labels.csv\")\n",
    "irregular_tomo_ids = irregular_df[\"tomo_id\"].unique(maintain_order=True).to_list()"
   ]
  },
  {
   "cell_type": "code",
   "execution_count": 4,
   "id": "64329fc4-3a97-473d-8170-184751bf7eac",
   "metadata": {},
   "outputs": [],
   "source": [
    "# fls.remove_and_make_dir(fls.temp_dir + '/extra_data/')\n",
    "# !kaggle datasets metadata -p /flagellar/temp/extra_data/ jeroencottaar/flagellar-motors-extra-data-preprocessed-2"
   ]
  },
  {
   "cell_type": "code",
   "execution_count": 5,
   "id": "0f0bf1a0-cf48-471b-a590-e5065c463074",
   "metadata": {},
   "outputs": [],
   "source": [
    "client = Client()\n",
    "extra_labels = pd.read_csv('/flagellar/data/labels.csv').rename(columns={\"Motor axis 0\": \"z\", \"Motor axis 1\": \"y\", \"Motor axis 2\": \"x\"})\n",
    "ds_all = Dataset.find(client, [Dataset.authors.name == \"Yi-Wei Chang\"])+Dataset.find(client, [Dataset.authors.name == \"Ariane Briegel\"])+Dataset.find(client, [Dataset.authors.name == \"Morgan Beeby\"])"
   ]
  },
  {
   "cell_type": "code",
   "execution_count": null,
   "id": "5d894499-922f-4898-8e91-79507821f6ff",
   "metadata": {},
   "outputs": [],
   "source": [
    "import cupyx.scipy.signal\n",
    "import cupyx.scipy.ndimage\n",
    "import cupy as cp\n",
    "target_voxel_spacing = 15.\n",
    "#name_list = extra_labels['tomo_id']\n",
    "c=0\n",
    "nnn=[]\n",
    "#os.makedirs('/kaggle/working/', exist_ok=True)\n",
    "n_done = 0\n",
    "range_slices = 8\n",
    "for (i,d) in enumerate(ds_all):\n",
    "    print(i, len(ds_all),c)\n",
    "    for r in d.runs:\n",
    "        labels = copy.deepcopy(extra_labels[extra_labels['tomo_id']==r.name]).reset_index()        \n",
    "        if len(labels)==0:\n",
    "            continue   \n",
    "        if os.path.isfile(fls.temp_dir + '/extra_data/' + r.name + '/info.pickle'):\n",
    "            continue\n",
    "        fls.remove_and_make_dir(fls.temp_dir + '/extra_data/' + r.name)\n",
    "        print(r.name)\n",
    "        c+=1\n",
    "        tt = r.tomograms[0]\n",
    "        zar = zarr.open(tt.https_omezarr_dir, mode='r')[0]\n",
    "\n",
    "        res = dict()      \n",
    "\n",
    "        img = zar[...]\n",
    "        if r.name in irregular_tomo_ids:\n",
    "            print('irregular')\n",
    "            img = img.astype(np.uint8).astype(np.float32)\n",
    "        else:\n",
    "            img  = img.astype(np.float32)\n",
    "        img = cp.array(img)\n",
    " \n",
    "        res['original_voxel_spacing'] = r.tomograms[0].tomogram_voxel_spacing.voxel_spacing\n",
    "        resize_factor = res['original_voxel_spacing']/target_voxel_spacing\n",
    "\n",
    "        new_shape = tuple(np.round(np.array(img.shape)*resize_factor).astype(int))\n",
    "        \n",
    "        for ii in range(img.shape[0]):\n",
    "            img[ii,:,:] = flg_numerics.fourier_resample_nd(img[ii,:,:], (new_shape[1],new_shape[2]))\n",
    "\n",
    "        for ii in range(img.shape[1]):\n",
    "            for jj in range(img.shape[2]):\n",
    "                \n",
    "        \n",
    "        os.makedirs('/kaggle/temp/volumes/' + r.name, exist_ok=True)\n",
    "        for ii in range(img.shape[0]):\n",
    "            this_img = img[ii,:,:]\n",
    "            min_val = cp.percentile(this_img, 0.1)\n",
    "            max_val = cp.percentile(this_img, 99.9)\n",
    "            this_img = (this_img-min_val)/(max_val-min_val)\n",
    "            this_img = cp.clip(this_img, 0, 1)\n",
    "            this_img = (255*this_img).astype(cp.uint8)  \n",
    "            cv2.imwrite(fls.temp_dir + '/extra_data/' + r.name + f'/slice_{ii:04d}.jpg', cp.asnumpy(this_img))\n",
    "\n",
    "        labels['z'] = labels['z']/128*zar.shape[0]*resize_factor\n",
    "        labels['y'] = labels['y']/512*zar.shape[1]*resize_factor\n",
    "        labels['x'] = labels['x']/512*zar.shape[2]*resize_factor\n",
    "        res['voxel_spacing'] = r.tomograms[0].tomogram_voxel_spacing.voxel_spacing/resize_factor\n",
    "        res['labels'] = labels\n",
    "        res['orig_size'] = zar.shape\n",
    "        res['new_size'] = img.shape\n",
    "\n",
    "        plt.figure()\n",
    "        z = np.round(labels['z']).astype(int).item()\n",
    "        plt.imshow(cv2.imread(fls.temp_dir + '/extra_data/' + r.name + f'/slice_{(z):04d}.jpg'))\n",
    "        plt.scatter(labels['x'], labels['y'])\n",
    "        plt.title(str(resize_factor))\n",
    "\n",
    "        fls.dill_save(fls.temp_dir + '/extra_data/' + r.name + '/info.pickle', res)\n",
    "\n",
    "        n_done += 1\n",
    "        #if n_done%200==0:\n",
    "        #    !kaggle datasets version -p  /kaggle/temp/volumes/ --dir-mode zip -m 'Update'\n",
    "\n",
    "        print(c,n_done) "
   ]
  },
  {
   "cell_type": "code",
   "execution_count": null,
   "id": "63b9d437-ebbc-4de5-abb9-63c0acad01dd",
   "metadata": {},
   "outputs": [],
   "source": [
    "for ii in range(img.shape[0]):\n",
    "    img[ii,:,:] = flg_numerics.fourier_resample_nd(img[ii,:,:], (new_shape[1],new_shape[2]))"
   ]
  },
  {
   "cell_type": "code",
   "execution_count": null,
   "id": "9306e96c-43d2-4069-9c9e-cf66206d31d7",
   "metadata": {},
   "outputs": [],
   "source": []
  }
 ],
 "metadata": {
  "kaggle": {
   "accelerator": "nvidiaTeslaT4",
   "dataSources": [
    {
     "databundleVersionId": 11294684,
     "isSourceIdPinned": false,
     "sourceId": 91249,
     "sourceType": "competition"
    },
    {
     "datasetId": 6925042,
     "sourceId": 11204341,
     "sourceType": "datasetVersion"
    },
    {
     "datasetId": 6949538,
     "sourceId": 11204343,
     "sourceType": "datasetVersion"
    },
    {
     "sourceId": 211097053,
     "sourceType": "kernelVersion"
    },
    {
     "sourceId": 229283084,
     "sourceType": "kernelVersion"
    }
   ],
   "dockerImageVersionId": 30919,
   "isGpuEnabled": true,
   "isInternetEnabled": false,
   "language": "python",
   "sourceType": "notebook"
  },
  "kernelspec": {
   "display_name": "Python 3 (ipykernel)",
   "language": "python",
   "name": "python3"
  },
  "language_info": {
   "codemirror_mode": {
    "name": "ipython",
    "version": 3
   },
   "file_extension": ".py",
   "mimetype": "text/x-python",
   "name": "python",
   "nbconvert_exporter": "python",
   "pygments_lexer": "ipython3",
   "version": "3.10.14"
  }
 },
 "nbformat": 4,
 "nbformat_minor": 5
}
