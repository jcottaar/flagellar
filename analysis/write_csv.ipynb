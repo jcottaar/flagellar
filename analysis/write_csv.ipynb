{
 "cells": [
  {
   "cell_type": "code",
   "execution_count": 1,
   "metadata": {},
   "outputs": [
    {
     "name": "stdout",
     "output_type": "stream",
     "text": [
      "MainProcess\n"
     ]
    }
   ],
   "source": [
    "import torch\n",
    "import torch.nn as nn\n",
    "import torch.optim as optim\n",
    "import torchvision\n",
    "import torchvision.transforms as transforms\n",
    "import sys\n",
    "sys.path.append('d:/flagellar/code/core')\n",
    "sys.path.append('/flagellar/code/core/')\n",
    "sys.path.append('/kaggle/input/my-flagellar-library/')\n",
    "import flg_support as fls\n",
    "import flg_unet\n",
    "import flg_numerics\n",
    "import flg_model\n",
    "import importlib\n",
    "import numpy as np\n",
    "import matplotlib.pyplot as plt\n",
    "import time\n",
    "import copy\n",
    "import flg_yolo\n",
    "\n",
    "fast_mode = False\n",
    "if fls.is_submission:\n",
    "    fast_mode = False"
   ]
  },
  {
   "cell_type": "code",
   "execution_count": 2,
   "metadata": {},
   "outputs": [
    {
     "data": {
      "text/plain": [
       "(444, 200)"
      ]
     },
     "execution_count": 2,
     "metadata": {},
     "output_type": "execute_result"
    }
   ],
   "source": [
    "all_data = fls.load_all_train_data()\n",
    "np.random.default_rng(seed=0).shuffle(all_data)\n",
    "\n",
    "# Pick N tomograms with 1 motor and N tomograms with 0 motors as validation set\n",
    "N=100\n",
    "n_motors = np.array([len(d.labels) for d in all_data])\n",
    "inds_zero = np.argwhere(n_motors==0)[:N,0]\n",
    "inds_one = np.argwhere(n_motors==1)[:N,0]\n",
    "inds_test = np.concatenate((inds_zero,inds_one))\n",
    "inds_train = np.setdiff1d(np.arange(len(n_motors)), inds_test)\n",
    "inds_test.shape, inds_train.shape\n",
    "\n",
    "train_data = []\n",
    "for i in inds_train:\n",
    "    train_data.append(all_data[i])\n",
    "test_data = []\n",
    "for i in inds_test:\n",
    "    test_data.append(all_data[i])\n",
    "np.random.default_rng(seed=0).shuffle(test_data)\n",
    "test_data = test_data\n",
    "if fast_mode:\n",
    "    train_data = train_data[1:30]\n",
    "    test_data = test_data[2:4]\n",
    "len(train_data), len(test_data)"
   ]
  },
  {
   "cell_type": "code",
   "execution_count": 16,
   "metadata": {},
   "outputs": [],
   "source": [
    "import pandas as pd\n",
    "def get_model_for_seed(overall_seed):\n",
    "    model = flg_yolo.YOLOModel()\n",
    "    model.seed = overall_seed\n",
    "    model.use_augs = True\n",
    "    model.auto_augment = None\n",
    "    rng = np.random.default_rng(seed=overall_seed)\n",
    "    if rng.uniform()<0.5: model.hsv_h = 0.\n",
    "    if rng.uniform()<0.5: model.hsv_s = 0.\n",
    "    if rng.uniform()<0.5: model.hsv_v = 0.\n",
    "    if rng.uniform()<0.5: model.translate = 0.\n",
    "    if rng.uniform()<0.5: model.scale = 0.\n",
    "    if rng.uniform()<0.5: model.fliplr = 0.\n",
    "    if rng.uniform()<0.5: model.mosaic = 0.\n",
    "    if rng.uniform()<0.5: model.mixup = 0.\n",
    "    if rng.uniform()<0.5: model.erasing = 0.\n",
    "    return model\n",
    "\n",
    "res = list()\n",
    "name_list = ['hsv_h', 'hsv_s', 'hsv_v', 'translate', 'scale', 'fliplr', 'mosaic', 'mixup', 'erasing']\n",
    "for seed in range(20):\n",
    "    m = get_model_for_seed(seed)\n",
    "    d = dict()\n",
    "    d['seed'] = seed\n",
    "    for n in name_list:\n",
    "        d[n] = 1 if getattr(m, n)>0 else 0\n",
    "    res.append(d)\n",
    "p=pd.DataFrame(res)\n",
    "p.to_csv(fls.model_dir + 'seeds.csv')"
   ]
  },
  {
   "cell_type": "code",
   "execution_count": 5,
   "metadata": {},
   "outputs": [
    {
     "name": "stdout",
     "output_type": "stream",
     "text": [
      "0 0.8716475095785441 0.47852298417483047\n",
      "1 0.8460076045627376 0.38461538461538464\n",
      "2 0.8845437616387337 0.5089820359281437\n",
      "3 0.8661417322834646 0.29411764705882354\n",
      "4 0.8639705882352942 0.29411764705882354\n",
      "5 0.6182212581344902 0.04541701073492981\n",
      "6 0.8285714285714286 0.3014878621769773\n",
      "7 0.7117437722419929 0.45454545454545453\n",
      "8 0.7741347905282332 0.4058192955589586\n",
      "9 0.8574181117533719 0.37393986121819583\n"
     ]
    },
    {
     "ename": "FileNotFoundError",
     "evalue": "[Errno 2] No such file or directory: 'd:/flagellar/models//res_10.pickle'",
     "output_type": "error",
     "traceback": [
      "\u001b[1;31m---------------------------------------------------------------------------\u001b[0m",
      "\u001b[1;31mFileNotFoundError\u001b[0m                         Traceback (most recent call last)",
      "Cell \u001b[1;32mIn[5], line 2\u001b[0m\n\u001b[0;32m      1\u001b[0m \u001b[38;5;28;01mfor\u001b[39;00m i \u001b[38;5;129;01min\u001b[39;00m \u001b[38;5;28mrange\u001b[39m(\u001b[38;5;241m100\u001b[39m):\n\u001b[1;32m----> 2\u001b[0m     d \u001b[38;5;241m=\u001b[39m \u001b[43mfls\u001b[49m\u001b[38;5;241;43m.\u001b[39;49m\u001b[43mdill_load\u001b[49m\u001b[43m(\u001b[49m\u001b[43mfls\u001b[49m\u001b[38;5;241;43m.\u001b[39;49m\u001b[43mmodel_dir\u001b[49m\u001b[43m \u001b[49m\u001b[38;5;241;43m+\u001b[39;49m\u001b[43m \u001b[49m\u001b[38;5;124;43m'\u001b[39;49m\u001b[38;5;124;43m/res_\u001b[39;49m\u001b[38;5;124;43m'\u001b[39;49m\u001b[38;5;241;43m+\u001b[39;49m\u001b[43m \u001b[49m\u001b[38;5;28;43mstr\u001b[39;49m\u001b[43m(\u001b[49m\u001b[43mi\u001b[49m\u001b[43m)\u001b[49m\u001b[43m \u001b[49m\u001b[38;5;241;43m+\u001b[39;49m\u001b[43m \u001b[49m\u001b[38;5;124;43m'\u001b[39;49m\u001b[38;5;124;43m.pickle\u001b[39;49m\u001b[38;5;124;43m'\u001b[39;49m\u001b[43m)\u001b[49m\n\u001b[0;32m      3\u001b[0m     \u001b[38;5;28mprint\u001b[39m(i,d[\u001b[38;5;241m0\u001b[39m], d[\u001b[38;5;241m1\u001b[39m])\n",
      "File \u001b[1;32md:\\flagellar/code/core\\flg_support.py:144\u001b[0m, in \u001b[0;36mdill_load\u001b[1;34m(filename)\u001b[0m\n\u001b[0;32m    143\u001b[0m \u001b[38;5;28;01mdef\u001b[39;00m \u001b[38;5;21mdill_load\u001b[39m(filename):\n\u001b[1;32m--> 144\u001b[0m     filehandler \u001b[38;5;241m=\u001b[39m \u001b[38;5;28;43mopen\u001b[39;49m\u001b[43m(\u001b[49m\u001b[43mfilename\u001b[49m\u001b[43m,\u001b[49m\u001b[43m \u001b[49m\u001b[38;5;124;43m'\u001b[39;49m\u001b[38;5;124;43mrb\u001b[39;49m\u001b[38;5;124;43m'\u001b[39;49m\u001b[43m)\u001b[49m;\n\u001b[0;32m    145\u001b[0m     data \u001b[38;5;241m=\u001b[39m dill\u001b[38;5;241m.\u001b[39mload(filehandler)\n\u001b[0;32m    146\u001b[0m     filehandler\u001b[38;5;241m.\u001b[39mclose()\n",
      "\u001b[1;31mFileNotFoundError\u001b[0m: [Errno 2] No such file or directory: 'd:/flagellar/models//res_10.pickle'"
     ]
    }
   ],
   "source": [
    "for i in range(100):\n",
    "    d = fls.dill_load(fls.model_dir + '/res_'+ str(i) + '.pickle')\n",
    "    print(i,d[0], d[1])"
   ]
  },
  {
   "cell_type": "code",
   "execution_count": null,
   "metadata": {},
   "outputs": [],
   "source": []
  }
 ],
 "metadata": {
  "kaggle": {
   "accelerator": "nvidiaTeslaT4",
   "dataSources": [
    {
     "databundleVersionId": 11294684,
     "sourceId": 91249,
     "sourceType": "competition"
    },
    {
     "datasetId": 6925042,
     "sourceId": 11235412,
     "sourceType": "datasetVersion"
    },
    {
     "datasetId": 6949538,
     "sourceId": 11235417,
     "sourceType": "datasetVersion"
    },
    {
     "sourceId": 224916709,
     "sourceType": "kernelVersion"
    },
    {
     "sourceId": 229283084,
     "sourceType": "kernelVersion"
    }
   ],
   "dockerImageVersionId": 30919,
   "isGpuEnabled": true,
   "isInternetEnabled": false,
   "language": "python",
   "sourceType": "notebook"
  },
  "kernelspec": {
   "display_name": "Python 3 (ipykernel)",
   "language": "python",
   "name": "python3"
  },
  "language_info": {
   "codemirror_mode": {
    "name": "ipython",
    "version": 3
   },
   "file_extension": ".py",
   "mimetype": "text/x-python",
   "name": "python",
   "nbconvert_exporter": "python",
   "pygments_lexer": "ipython3",
   "version": "3.10.14"
  }
 },
 "nbformat": 4,
 "nbformat_minor": 4
}
