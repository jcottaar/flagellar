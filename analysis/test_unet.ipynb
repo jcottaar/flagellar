{
 "cells": [
  {
   "cell_type": "code",
   "execution_count": null,
   "id": "17753788-20dc-4f50-8df6-9d9f8909ef7b",
   "metadata": {},
   "outputs": [],
   "source": [
    "import torch\n",
    "import torch.nn as nn\n",
    "import torch.optim as optim\n",
    "import torchvision\n",
    "import torchvision.transforms as transforms\n",
    "import sys\n",
    "sys.path.append('d:/flagellar/code/core')\n",
    "sys.path.append('/kaggle/code/core')\n",
    "sys.path.append('/kaggle/input/my-flg-library/')\n",
    "import flg_support as fls\n",
    "import flg_unet\n",
    "import flg_numerics\n",
    "import importlib\n",
    "import numpy as np\n",
    "import matplotlib.pyplot as plt\n",
    "import time\n",
    "import copy"
   ]
  },
  {
   "cell_type": "code",
   "execution_count": null,
   "id": "c65f3f72-d895-4775-a5a3-2c39c29231fc",
   "metadata": {},
   "outputs": [],
   "source": [
    "train_data = fls.load_all_train_data()"
   ]
  },
  {
   "cell_type": "code",
   "execution_count": null,
   "id": "3806da80-20d3-4f52-b29e-5d53ada08f57",
   "metadata": {},
   "outputs": [],
   "source": [
    "%%time\n",
    "importlib.reload(flg_unet)\n",
    "#importlib.reload(fls)\n",
    "model = flg_unet.UNetModel()\n",
    "model.n_epochs = 1000\n",
    "model.n_images_per_update = 20\n",
    "model.train(train_data)\n",
    "model.train_loss_list1\n",
    "plt.figure()\n",
    "plt.plot(model.train_loss_list1)\n",
    "plt.plot(model.train_loss_list2)\n",
    "fls.dill_save(fls.temp_dir + 'model.pickle', model)"
   ]
  },
  {
   "cell_type": "code",
   "execution_count": null,
   "id": "e2690bac-5f3a-4edc-97e0-f5af557e748c",
   "metadata": {},
   "outputs": [],
   "source": [
    "model_loaded = fls.dill_load(fls.temp_dir + '/model.pickle')\n",
    "training_data_loaded = copy.deepcopy(train_data)\n",
    "for t in training_data_loaded: t.load_to_h5py()\n",
    "cpu,device = fls.prep_pytorch(0,False,False)\n",
    "#model_loaded.model.eval()\n",
    "#model_loaded.model.to(device);"
   ]
  },
  {
   "cell_type": "code",
   "execution_count": null,
   "id": "40e194fa-6b1c-46f1-9fa8-5539220976b6",
   "metadata": {},
   "outputs": [],
   "source": [
    "import monai\n",
    "self = model_loaded\n",
    "cpu,device = fls.prep_pytorch(self.seed, self.deterministic_train, True)  \n",
    "\n",
    "criterion1 = nn.BCEWithLogitsLoss()\n",
    "criterion2 = monai.losses.TverskyLoss(smooth_nr=1e-05, smooth_dr=1e-05, batch=False, to_onehot_y=False, sigmoid=True, \\\n",
    "                                         alpha=self.tversky_alpha, beta=self.tversky_beta)\n",
    "\n",
    "model = copy.deepcopy(self.model)\n",
    "model.eval()\n",
    "model = model.to(device)\n",
    "\n",
    "self.dataset.data_list = copy.deepcopy(train_data)\n",
    "self.n_images_per_update = 10\n",
    "data_loader = iter(torch.utils.data.DataLoader(self.dataset,batch_size=self.n_images_per_update,num_workers=0,pin_memory=True,persistent_workers=False))\n",
    "\n",
    "for i_epoch in range(1):\n",
    "    print(i_epoch)\n",
    "    running_loss1 = 0.0\n",
    "    running_loss2 = 0.0\n",
    "    images, targets = next(data_loader)\n",
    "    for i_image in range(images.shape[0]):\n",
    "        with torch.amp.autocast('cuda'):\n",
    "            with torch.no_grad():\n",
    "                image_device = images[i_image:i_image+1,np.newaxis,:,:,:].to(device, dtype=torch.float32, non_blocking=True)\n",
    "                target_device = targets[i_image:i_image+1,np.newaxis,:,:,:].to(device, dtype=torch.float32, non_blocking=True)\n",
    "                output = model(image_device)                                    \n",
    "                loss1 = criterion1(output, target_device)\n",
    "                loss2 = criterion2(output, target_device)                                                \n",
    "                running_loss1 += loss1\n",
    "                running_loss2 += loss2\n",
    "        _,ax = plt.subplots(1,3,figsize=(18,6))\n",
    "        plt.sca(ax[0])\n",
    "        plt.imshow(np.mean(image_device.detach().cpu().numpy()[0,0,:,:,:],axis=0), cmap='bone')\n",
    "        plt.colorbar()\n",
    "        plt.sca(ax[1])\n",
    "        plt.imshow(np.mean(target_device.detach().cpu().numpy()[0,0,:,:,:],axis=0), cmap='bone')\n",
    "        plt.colorbar()\n",
    "        plt.sca(ax[2])\n",
    "        plt.imshow(np.mean(torch.sigmoid(output).detach().cpu().numpy()[0,0,:,:,:],axis=0), cmap='bone')\n",
    "        plt.colorbar()\n",
    "        plt.suptitle(str(loss2.item()))\n",
    "\n",
    "    epoch_loss1 = running_loss1 / images.shape[0]\n",
    "    epoch_loss2 = running_loss2 / images.shape[0]\n",
    "    loss = epoch_loss1 + epoch_loss2"
   ]
  },
  {
   "cell_type": "code",
   "execution_count": null,
   "id": "2cf2e5cf-33a7-47f5-86c7-bcf582b5110a",
   "metadata": {},
   "outputs": [],
   "source": [
    "eafew"
   ]
  },
  {
   "cell_type": "code",
   "execution_count": null,
   "id": "4ee59506-96dc-495c-bb95-4b7835b79839",
   "metadata": {},
   "outputs": [],
   "source": []
  }
 ],
 "metadata": {
  "kernelspec": {
   "display_name": "Python 3 (ipykernel)",
   "language": "python",
   "name": "python3"
  },
  "language_info": {
   "codemirror_mode": {
    "name": "ipython",
    "version": 3
   },
   "file_extension": ".py",
   "mimetype": "text/x-python",
   "name": "python",
   "nbconvert_exporter": "python",
   "pygments_lexer": "ipython3",
   "version": "3.10.14"
  }
 },
 "nbformat": 4,
 "nbformat_minor": 5
}
