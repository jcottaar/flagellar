{
 "cells": [
  {
   "cell_type": "code",
   "execution_count": 1,
   "id": "e0b4b630-bd17-4d7f-97ef-001707dcf970",
   "metadata": {
    "scrolled": true
   },
   "outputs": [
    {
     "name": "stdout",
     "output_type": "stream",
     "text": [
      "1\n"
     ]
    }
   ],
   "source": [
    "import sys\n",
    "sys.path.append('d:/flagellar/code/core')\n",
    "sys.path.append('/kaggle/code/core')\n",
    "sys.path.append('/kaggle/input/my-flg-library/')\n",
    "import flg_support as fls\n",
    "import importlib\n",
    "importlib.reload(fls)\n",
    "print(fls.recommend_n_workers())\n",
    "N=200"
   ]
  },
  {
   "cell_type": "code",
   "execution_count": 4,
   "id": "3c9bdad1-2e7b-4155-bf65-7b9866bf1524",
   "metadata": {},
   "outputs": [
    {
     "name": "stdout",
     "output_type": "stream",
     "text": [
      "Skipped tomo_2b3cdf\n",
      "Skipped tomo_62eea8\n",
      "Skipped tomo_c84b8e\n",
      "Skipped tomo_e6f7f7\n"
     ]
    }
   ],
   "source": [
    "train_data = fls.load_all_train_data()\n",
    "for t in train_data:\n",
    "    t.load_to_h5py()"
   ]
  },
  {
   "cell_type": "code",
   "execution_count": 6,
   "id": "5317d6a9-5ac0-468c-aade-12f8ab599db4",
   "metadata": {},
   "outputs": [
    {
     "name": "stderr",
     "output_type": "stream",
     "text": [
      "C:\\Users\\jeroe\\anaconda3\\envs\\jupyterlab-debugger2\\lib\\site-packages\\numpy\\core\\numeric.py:330: RuntimeWarning: invalid value encountered in cast\n",
      "  multiarray.copyto(a, fill_value, casting='unsafe')\n"
     ]
    },
    {
     "name": "stdout",
     "output_type": "stream",
     "text": [
      "(738, 1005, 1005)\n"
     ]
    }
   ],
   "source": [
    "import flg_diagnostics\n",
    "import flg_numerics\n",
    "importlib.reload(flg_diagnostics)\n",
    "importlib.reload(flg_numerics)\n",
    "flg_diagnostics.animate_labels(train_data, (20,100,100), tile_num=5)"
   ]
  }
 ],
 "metadata": {
  "kernelspec": {
   "display_name": "Python 3 (ipykernel)",
   "language": "python",
   "name": "python3"
  },
  "language_info": {
   "codemirror_mode": {
    "name": "ipython",
    "version": 3
   },
   "file_extension": ".py",
   "mimetype": "text/x-python",
   "name": "python",
   "nbconvert_exporter": "python",
   "pygments_lexer": "ipython3",
   "version": "3.10.14"
  }
 },
 "nbformat": 4,
 "nbformat_minor": 5
}
