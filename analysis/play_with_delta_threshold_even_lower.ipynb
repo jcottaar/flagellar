{
 "cells": [
  {
   "cell_type": "code",
   "execution_count": 1,
   "id": "2a837d78-5dff-48d9-9753-37e382d9f7b6",
   "metadata": {},
   "outputs": [
    {
     "name": "stdout",
     "output_type": "stream",
     "text": [
      "MainProcess\n",
      "MainProcess\n"
     ]
    },
    {
     "data": {
      "text/plain": [
       "<module 'flg_support' from 'd:\\\\flagellar/code/core\\\\flg_support.py'>"
      ]
     },
     "execution_count": 1,
     "metadata": {},
     "output_type": "execute_result"
    }
   ],
   "source": [
    "import sys\n",
    "sys.path.append('d:/flagellar/code/core')\n",
    "sys.path.append('/flagellar/code/core/')\n",
    "sys.path.append('/kaggle/input/my-flagellar-library/')\n",
    "import flg_support as fls\n",
    "import flg_unet\n",
    "import flg_numerics\n",
    "import flg_model\n",
    "import importlib\n",
    "import numpy as np\n",
    "import matplotlib.pyplot as plt\n",
    "import time\n",
    "import copy\n",
    "import flg_yolo2\n",
    "\n",
    "fast_mode = False\n",
    "if fls.is_submission:\n",
    "    fast_mode = False\n",
    "importlib.reload(flg_model)\n",
    "importlib.reload(flg_yolo2)\n",
    "importlib.reload(fls)"
   ]
  },
  {
   "cell_type": "code",
   "execution_count": 7,
   "id": "07bc5f69-bf6e-47a4-ae84-232433a06e09",
   "metadata": {},
   "outputs": [],
   "source": [
    "data = fls.dill_load(fls.result_dir + '/many_full_res/Baseline_0M_c36e9856_524 _f.pickle')\n",
    "data.trained_model.step3Output.threshold=0.\n",
    "ref_data = [d for d in data.test_data if not d.name.startswith('tom')]"
   ]
  },
  {
   "cell_type": "code",
   "execution_count": 8,
   "id": "9f509611-e878-4a60-b0b6-fbf4ad0f1533",
   "metadata": {},
   "outputs": [],
   "source": [
    "def show_cv(data, ref_data):\n",
    "    main_cv = fls.score_competition_metric(data,ref_data)\n",
    "    alt_cv = []\n",
    "    # for partial in fls.DataSelector().datasets:\n",
    "    #     data_selector = fls.DataSelector()\n",
    "    #     data_selector.datasets = [partial]\n",
    "    #     alt_cv.append(fls.score_competition_metric(data_selector.select(data), data_selector.select(ref_data)))\n",
    "    for ii in range(3):\n",
    "        print(f'{main_cv[ii]:1.3}')# {alt_cv[0][ii]:1.3} {alt_cv[1][ii]:1.3} {alt_cv[2][ii]:1.3} {alt_cv[3][ii]:1.3}')"
   ]
  },
  {
   "cell_type": "code",
   "execution_count": 9,
   "id": "1d0ee68d-f245-4eb7-81e0-e02eea8d8012",
   "metadata": {},
   "outputs": [
    {
     "name": "stdout",
     "output_type": "stream",
     "text": [
      "1.0\n",
      "0.641\n",
      "0.691\n"
     ]
    }
   ],
   "source": [
    "model = copy.deepcopy(data.trained_model)\n",
    "model.data_after_step2 = data.inferred_test_data\n",
    "data_reinferred = model.infer(ref_data)\n",
    "show_cv(data_reinferred, ref_data)"
   ]
  },
  {
   "cell_type": "code",
   "execution_count": 10,
   "id": "ed6c827d-f40b-4337-9ee7-6146dc246789",
   "metadata": {},
   "outputs": [],
   "source": [
    "# model = copy.deepcopy(data.trained_model)\n",
    "# data_reinferred = model.infer(ref_data)\n",
    "# show_cv(data_reinferred, ref_data)"
   ]
  },
  {
   "cell_type": "code",
   "execution_count": 11,
   "id": "4dbf1a2b-f841-439c-a301-db2ce296ccb8",
   "metadata": {},
   "outputs": [
    {
     "name": "stdout",
     "output_type": "stream",
     "text": [
      "1.0\n",
      "0.624\n",
      "0.675\n",
      "CPU times: total: 2.16 s\n",
      "Wall time: 8min 26s\n"
     ]
    }
   ],
   "source": [
    "%%time\n",
    "model = copy.deepcopy(data.trained_model)\n",
    "model.step1Labels.confidence_threshold = 0.\n",
    "data_reinferred = model.infer(ref_data)\n",
    "show_cv(data_reinferred, ref_data)"
   ]
  },
  {
   "cell_type": "code",
   "execution_count": 7,
   "id": "075b8ab6-00cb-4e5a-8150-941d96480814",
   "metadata": {},
   "outputs": [
    {
     "name": "stdout",
     "output_type": "stream",
     "text": [
      "0.0\n",
      "0.0\n",
      "0.0\n",
      "CPU times: total: 1.91 s\n",
      "Wall time: 3min 23s\n"
     ]
    },
    {
     "name": "stderr",
     "output_type": "stream",
     "text": [
      "C:\\Users\\jeroe\\anaconda3\\envs\\jupyterlab-debugger2\\lib\\site-packages\\sklearn\\metrics\\_classification.py:1531: UndefinedMetricWarning: Recall is ill-defined and being set to 0.0 due to no true samples. Use `zero_division` parameter to control this behavior.\n",
      "  _warn_prf(average, modifier, f\"{metric.capitalize()} is\", len(result))\n"
     ]
    }
   ],
   "source": [
    "%%time\n",
    "model = copy.deepcopy(data.trained_model)\n",
    "model.step1Labels.confidence_threshold = 0.25\n",
    "data_reinferred = model.infer(ref_data)\n",
    "show_cv(data_reinferred, ref_data)"
   ]
  },
  {
   "cell_type": "code",
   "execution_count": null,
   "id": "6d1e003f-a2b1-4ccb-b5cb-09c6837abbb9",
   "metadata": {},
   "outputs": [],
   "source": [
    "%%time\n",
    "model = copy.deepcopy(data.trained_model)\n",
    "model.step1Labels.confidence_threshold = 0.01\n",
    "data_reinferred = model.infer(ref_data)\n",
    "show_cv(data_reinferred, ref_data)"
   ]
  },
  {
   "cell_type": "code",
   "execution_count": null,
   "id": "58287e09-e405-40d4-b4f4-2616b08522ac",
   "metadata": {},
   "outputs": [],
   "source": []
  }
 ],
 "metadata": {
  "kaggle": {
   "accelerator": "nvidiaTeslaT4",
   "dataSources": [
    {
     "databundleVersionId": 11294684,
     "isSourceIdPinned": false,
     "sourceId": 91249,
     "sourceType": "competition"
    },
    {
     "datasetId": 6925042,
     "sourceId": 11204341,
     "sourceType": "datasetVersion"
    },
    {
     "datasetId": 6949538,
     "sourceId": 11204343,
     "sourceType": "datasetVersion"
    },
    {
     "sourceId": 211097053,
     "sourceType": "kernelVersion"
    },
    {
     "sourceId": 229283084,
     "sourceType": "kernelVersion"
    }
   ],
   "dockerImageVersionId": 30919,
   "isGpuEnabled": true,
   "isInternetEnabled": false,
   "language": "python",
   "sourceType": "notebook"
  },
  "kernelspec": {
   "display_name": "Python 3 (ipykernel)",
   "language": "python",
   "name": "python3"
  },
  "language_info": {
   "codemirror_mode": {
    "name": "ipython",
    "version": 3
   },
   "file_extension": ".py",
   "mimetype": "text/x-python",
   "name": "python",
   "nbconvert_exporter": "python",
   "pygments_lexer": "ipython3",
   "version": "3.10.14"
  }
 },
 "nbformat": 4,
 "nbformat_minor": 5
}
