{
 "cells": [
  {
   "cell_type": "code",
   "execution_count": null,
   "id": "678610de-f917-4276-86b8-9b468fc9adcb",
   "metadata": {},
   "outputs": [],
   "source": [
    "import os\n",
    "#if not os.getenv('KAGGLE_IS_COMPETITION_RERUN'):\n",
    "#    raise 'stop'\n",
    "if not os.path.isdir('d:/flagellar/'):\n",
    "    deps_path = '/kaggle/usr/lib/flg_packages/'\n",
    "    !pip install --no-index --find-links {deps_path} --requirement {deps_path}/requirements.txt"
   ]
  },
  {
   "cell_type": "code",
   "execution_count": null,
   "id": "9293528b-c494-4367-a5fe-13823c45c38e",
   "metadata": {},
   "outputs": [],
   "source": [
    "import sys\n",
    "sys.path.append('d:/flagellar/code/core')\n",
    "sys.path.append('/kaggle/code/core')\n",
    "sys.path.append('/kaggle/input/my-flagellar-library/')\n",
    "import flg_support as fls\n",
    "import flg_model"
   ]
  },
  {
   "cell_type": "code",
   "execution_count": null,
   "id": "b89a01db-05de-429b-85df-4fbc9e640029",
   "metadata": {},
   "outputs": [],
   "source": [
    "model = flg_model.ThreeStepModel()\n",
    "model.step1Heatmap = fls.dill_load(fls.model_dir + 'model_cv.pickle')\n",
    "model.run_in_parallel = True\n",
    "model.train(fls.load_all_train_data()) # dummy"
   ]
  },
  {
   "cell_type": "code",
   "execution_count": null,
   "id": "a0d209f5-db85-4cc2-9da6-bdd3bc62ac9f",
   "metadata": {
    "scrolled": true
   },
   "outputs": [],
   "source": [
    "test_data = fls.load_all_test_data()\n",
    "if len(test_data)>3:\n",
    "    test_data = test_data\n",
    "else:\n",
    "    test_data = test_data"
   ]
  },
  {
   "cell_type": "code",
   "execution_count": null,
   "id": "9a8bfaf7-dfb5-4555-83ae-c8f2365f4cf2",
   "metadata": {},
   "outputs": [],
   "source": [
    "%%time\n",
    "inferred_data = model.infer(test_data)"
   ]
  },
  {
   "cell_type": "code",
   "execution_count": null,
   "id": "ae048a08-eea9-4481-8140-7dd9ed1298be",
   "metadata": {},
   "outputs": [],
   "source": [
    "fls.write_submission_file(inferred_data)"
   ]
  }
 ],
 "metadata": {
  "kernelspec": {
   "display_name": "Python 3 (ipykernel)",
   "language": "python",
   "name": "python3"
  },
  "language_info": {
   "codemirror_mode": {
    "name": "ipython",
    "version": 3
   },
   "file_extension": ".py",
   "mimetype": "text/x-python",
   "name": "python",
   "nbconvert_exporter": "python",
   "pygments_lexer": "ipython3",
   "version": "3.10.14"
  }
 },
 "nbformat": 4,
 "nbformat_minor": 5
}
