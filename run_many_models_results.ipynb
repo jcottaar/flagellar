{
 "cells": [
  {
   "cell_type": "code",
   "execution_count": 1,
   "id": "2a837d78-5dff-48d9-9753-37e382d9f7b6",
   "metadata": {},
   "outputs": [
    {
     "name": "stdout",
     "output_type": "stream",
     "text": [
      "MainProcess\n"
     ]
    }
   ],
   "source": [
    "import sys\n",
    "sys.path.append('d:/flagellar/code/core')\n",
    "sys.path.append('/flagellar/code/core/')\n",
    "sys.path.append('/kaggle/input/my-flagellar-library/')\n",
    "import flg_support as fls\n",
    "import flg_runner\n",
    "import importlib\n",
    "import numpy as np\n",
    "import matplotlib.pyplot as plt\n",
    "import time\n",
    "import copy\n",
    "import os\n",
    "import itertools\n",
    "import glob\n",
    "import dataclasses\n",
    "import pandas as pd"
   ]
  },
  {
   "cell_type": "code",
   "execution_count": 4,
   "id": "31e78e80-b19e-4851-8c03-78e42d5f091d",
   "metadata": {},
   "outputs": [],
   "source": [
    "# Prepare datasets\n",
    "fls.download_kaggle_dataset('jeroencottaar/byu-many-models-abbreviated/', fls.result_dir + '/many_abbr_res/')"
   ]
  },
  {
   "cell_type": "code",
   "execution_count": 5,
   "id": "e9c70ac9-1bc6-4ffe-a3aa-cf2d6cbeba1c",
   "metadata": {},
   "outputs": [],
   "source": [
    "files = glob.glob(fls.result_dir + '/many_abbr_res/' + '*.pickle')\n",
    "dicts = []\n",
    "for f in files:    \n",
    "    data = fls.dill_load(f)    \n",
    "    d = data.modifier_values\n",
    "    d['git_commit_id'] = data.git_commit_id\n",
    "    d['cv_score'] = fls.score_competition_metric(data.inferred_test_data, data.test_data)\n",
    "    dicts.append(d)\n",
    "p = pd.DataFrame(dicts)"
   ]
  },
  {
   "cell_type": "code",
   "execution_count": 6,
   "id": "3d1564af-5249-4b79-8279-6e5ec608c0eb",
   "metadata": {},
   "outputs": [
    {
     "data": {
      "text/html": [
       "<div>\n",
       "<style scoped>\n",
       "    .dataframe tbody tr th:only-of-type {\n",
       "        vertical-align: middle;\n",
       "    }\n",
       "\n",
       "    .dataframe tbody tr th {\n",
       "        vertical-align: top;\n",
       "    }\n",
       "\n",
       "    .dataframe thead th {\n",
       "        text-align: right;\n",
       "    }\n",
       "</style>\n",
       "<table border=\"1\" class=\"dataframe\">\n",
       "  <thead>\n",
       "    <tr style=\"text-align: right;\">\n",
       "      <th></th>\n",
       "      <th>seed</th>\n",
       "      <th>scale_percentile_value</th>\n",
       "      <th>img_size</th>\n",
       "      <th>n_epochs</th>\n",
       "      <th>model_name</th>\n",
       "      <th>use_pretrained_weights</th>\n",
       "      <th>box_size</th>\n",
       "      <th>trust</th>\n",
       "      <th>fix_norm_bug</th>\n",
       "      <th>weight_decay</th>\n",
       "      <th>...</th>\n",
       "      <th>erasing</th>\n",
       "      <th>use_albumentations</th>\n",
       "      <th>confidence_threshold</th>\n",
       "      <th>include_multi_motor</th>\n",
       "      <th>tom</th>\n",
       "      <th>mba</th>\n",
       "      <th>aba</th>\n",
       "      <th>ycw</th>\n",
       "      <th>git_commit_id</th>\n",
       "      <th>cv_score</th>\n",
       "    </tr>\n",
       "  </thead>\n",
       "  <tbody>\n",
       "    <tr>\n",
       "      <th>0</th>\n",
       "      <td>0</td>\n",
       "      <td>3.547847</td>\n",
       "      <td>512</td>\n",
       "      <td>41</td>\n",
       "      <td>yolov8m</td>\n",
       "      <td>False</td>\n",
       "      <td>16</td>\n",
       "      <td>1</td>\n",
       "      <td>True</td>\n",
       "      <td>0.000607</td>\n",
       "      <td>...</td>\n",
       "      <td>0.0</td>\n",
       "      <td>False</td>\n",
       "      <td>0.374857</td>\n",
       "      <td>True</td>\n",
       "      <td>True</td>\n",
       "      <td>True</td>\n",
       "      <td>False</td>\n",
       "      <td>True</td>\n",
       "      <td>d5e54e13d0cf00db4e540dd297d987fb8e14499d</td>\n",
       "      <td>0.654975</td>\n",
       "    </tr>\n",
       "    <tr>\n",
       "      <th>1</th>\n",
       "      <td>1</td>\n",
       "      <td>3.047286</td>\n",
       "      <td>576</td>\n",
       "      <td>96</td>\n",
       "      <td>yolov8m</td>\n",
       "      <td>True</td>\n",
       "      <td>18</td>\n",
       "      <td>1</td>\n",
       "      <td>False</td>\n",
       "      <td>0.000828</td>\n",
       "      <td>...</td>\n",
       "      <td>0.0</td>\n",
       "      <td>True</td>\n",
       "      <td>0.406082</td>\n",
       "      <td>False</td>\n",
       "      <td>True</td>\n",
       "      <td>True</td>\n",
       "      <td>True</td>\n",
       "      <td>True</td>\n",
       "      <td>d5e54e13d0cf00db4e540dd297d987fb8e14499d</td>\n",
       "      <td>0.357417</td>\n",
       "    </tr>\n",
       "    <tr>\n",
       "      <th>2</th>\n",
       "      <td>2</td>\n",
       "      <td>2.046449</td>\n",
       "      <td>320</td>\n",
       "      <td>43</td>\n",
       "      <td>yolov8l</td>\n",
       "      <td>False</td>\n",
       "      <td>29</td>\n",
       "      <td>2</td>\n",
       "      <td>True</td>\n",
       "      <td>0.000188</td>\n",
       "      <td>...</td>\n",
       "      <td>0.0</td>\n",
       "      <td>False</td>\n",
       "      <td>0.452213</td>\n",
       "      <td>True</td>\n",
       "      <td>True</td>\n",
       "      <td>False</td>\n",
       "      <td>True</td>\n",
       "      <td>False</td>\n",
       "      <td>d5e54e13d0cf00db4e540dd297d987fb8e14499d</td>\n",
       "      <td>0.000000</td>\n",
       "    </tr>\n",
       "  </tbody>\n",
       "</table>\n",
       "<p>3 rows × 31 columns</p>\n",
       "</div>"
      ],
      "text/plain": [
       "   seed  scale_percentile_value  img_size  n_epochs model_name  \\\n",
       "0     0                3.547847       512        41    yolov8m   \n",
       "1     1                3.047286       576        96    yolov8m   \n",
       "2     2                2.046449       320        43    yolov8l   \n",
       "\n",
       "   use_pretrained_weights  box_size  trust  fix_norm_bug  weight_decay  ...  \\\n",
       "0                   False        16      1          True      0.000607  ...   \n",
       "1                    True        18      1         False      0.000828  ...   \n",
       "2                   False        29      2          True      0.000188  ...   \n",
       "\n",
       "   erasing  use_albumentations  confidence_threshold  include_multi_motor  \\\n",
       "0      0.0               False              0.374857                 True   \n",
       "1      0.0                True              0.406082                False   \n",
       "2      0.0               False              0.452213                 True   \n",
       "\n",
       "    tom    mba    aba    ycw                             git_commit_id  \\\n",
       "0  True   True  False   True  d5e54e13d0cf00db4e540dd297d987fb8e14499d   \n",
       "1  True   True   True   True  d5e54e13d0cf00db4e540dd297d987fb8e14499d   \n",
       "2  True  False   True  False  d5e54e13d0cf00db4e540dd297d987fb8e14499d   \n",
       "\n",
       "   cv_score  \n",
       "0  0.654975  \n",
       "1  0.357417  \n",
       "2  0.000000  \n",
       "\n",
       "[3 rows x 31 columns]"
      ]
     },
     "execution_count": 6,
     "metadata": {},
     "output_type": "execute_result"
    }
   ],
   "source": [
    "p"
   ]
  },
  {
   "cell_type": "code",
   "execution_count": null,
   "id": "54869efe-18b7-48ee-945f-5f4a549ad958",
   "metadata": {},
   "outputs": [],
   "source": []
  }
 ],
 "metadata": {
  "kaggle": {
   "accelerator": "nvidiaTeslaT4",
   "dataSources": [
    {
     "databundleVersionId": 11294684,
     "isSourceIdPinned": false,
     "sourceId": 91249,
     "sourceType": "competition"
    },
    {
     "datasetId": 6925042,
     "sourceId": 11204341,
     "sourceType": "datasetVersion"
    },
    {
     "datasetId": 6949538,
     "sourceId": 11204343,
     "sourceType": "datasetVersion"
    },
    {
     "sourceId": 211097053,
     "sourceType": "kernelVersion"
    },
    {
     "sourceId": 229283084,
     "sourceType": "kernelVersion"
    }
   ],
   "dockerImageVersionId": 30919,
   "isGpuEnabled": true,
   "isInternetEnabled": false,
   "language": "python",
   "sourceType": "notebook"
  },
  "kernelspec": {
   "display_name": "Python 3 (ipykernel)",
   "language": "python",
   "name": "python3"
  },
  "language_info": {
   "codemirror_mode": {
    "name": "ipython",
    "version": 3
   },
   "file_extension": ".py",
   "mimetype": "text/x-python",
   "name": "python",
   "nbconvert_exporter": "python",
   "pygments_lexer": "ipython3",
   "version": "3.10.14"
  }
 },
 "nbformat": 4,
 "nbformat_minor": 5
}
