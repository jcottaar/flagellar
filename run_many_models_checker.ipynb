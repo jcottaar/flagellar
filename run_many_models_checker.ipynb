{
 "cells": [
  {
   "cell_type": "code",
   "execution_count": 3,
   "id": "2a837d78-5dff-48d9-9753-37e382d9f7b6",
   "metadata": {},
   "outputs": [],
   "source": [
    "import sys\n",
    "sys.path.append('d:/flagellar/code/core')\n",
    "sys.path.append('/flagellar/code/core/')\n",
    "sys.path.append('/kaggle/input/my-flagellar-library/')\n",
    "import flg_support as fls\n",
    "from flg_runner import *\n",
    "import flg_runner\n",
    "import importlib\n",
    "import flg_model\n",
    "import numpy as np\n",
    "import matplotlib.pyplot as plt\n",
    "import time\n",
    "import copy\n",
    "import os\n",
    "import itertools\n",
    "import glob\n",
    "\n",
    "fast_mode = (fls.env=='local')"
   ]
  },
  {
   "cell_type": "code",
   "execution_count": null,
   "id": "8e81947e-e1cc-441f-b2a8-1559d632d8d5",
   "metadata": {},
   "outputs": [
    {
     "name": "stdout",
     "output_type": "stream",
     "text": [
      "Starting seed  2\n",
      "1919 13\n",
      "30 13\n",
      "{'seed': 42, 'model_name': 'rtdetr-l'}\n",
      "scores:  [0.0]\n",
      "Starting seed  3\n",
      "1919 13\n",
      "30 13\n",
      "{'seed': 42, 'model_name': 'rtdetr-l', 'use_pretrained_weights': False}\n"
     ]
    }
   ],
   "source": [
    "#fls.profiling=True\n",
    "scores = []\n",
    "for i in itertools.count(start=0):\n",
    "    print('Starting seed ', i)\n",
    "    r = flg_runner.baseline_runner(fast_mode=fast_mode)\n",
    "    if not fast_mode:\n",
    "        r.N_test_positive = 100\n",
    "        r.N_test_negative = 5\n",
    "        r.train_part = slice(0,250)\n",
    "        r.test_part = slice(0,50)\n",
    "    r.base_model.train_data_selector.datasets = ['tom']\n",
    "    r.base_model.step1Labels.n_ensemble = 1\n",
    "    r.label = 'Checker'\n",
    "    r.modifier_dict = dict()    \n",
    "    match i:\n",
    "        case 1:\n",
    "            r.modifier_dict['model_name'] = flg_runner.pm('yolov8m', lambda r:'yolov8l', flg_runner.yolo)\n",
    "        case 2:\n",
    "            r.modifier_dict['model_name'] = pm('yolov8m', lambda r:'rtdetr-l', yolo)\n",
    "        case 3:\n",
    "            r.modifier_dict['model_name'] = flg_runner.pm('yolov8m', lambda r:'rtdetr-l', flg_runner.yolo)\n",
    "            r.modifier_dict['use_pretrained_weights'] = pm(True, lambda r:False, yolo)\n",
    "        case 4:\n",
    "            r.modifier_dict['lr0'] = flg_runner.pm(0.001, lambda r:(r.uniform(0.0005,0.0005)).item(), flg_runner.yolo)  \n",
    "        case 5:\n",
    "            r.modifier_dict['alternative_slice_selection'] = pm(False, lambda r:r.uniform()>0., yolo)\n",
    "        case 6:\n",
    "            r.include_test_data_in_train = False\n",
    "    r.env = fls.env\n",
    "    r.seed = 42\n",
    "    #r.base_model.train_data_selector.datasets = 'tom'\n",
    "    #r.base_model.run_in_parallel = False    \n",
    "    r.run()\n",
    "\n",
    "    scores.append(r.cv_score[2])\n",
    "    print('scores: ', scores)"
   ]
  },
  {
   "cell_type": "code",
   "execution_count": null,
   "id": "d2c7d854-27fa-4d34-b062-a57522bb9ec6",
   "metadata": {},
   "outputs": [],
   "source": [
    "%debug"
   ]
  },
  {
   "cell_type": "code",
   "execution_count": null,
   "id": "5cb8b86c-b166-4170-bc87-a6d7a73f47ce",
   "metadata": {},
   "outputs": [],
   "source": []
  }
 ],
 "metadata": {
  "kaggle": {
   "accelerator": "nvidiaTeslaT4",
   "dataSources": [
    {
     "databundleVersionId": 11294684,
     "isSourceIdPinned": false,
     "sourceId": 91249,
     "sourceType": "competition"
    },
    {
     "datasetId": 6925042,
     "sourceId": 11204341,
     "sourceType": "datasetVersion"
    },
    {
     "datasetId": 6949538,
     "sourceId": 11204343,
     "sourceType": "datasetVersion"
    },
    {
     "sourceId": 211097053,
     "sourceType": "kernelVersion"
    },
    {
     "sourceId": 229283084,
     "sourceType": "kernelVersion"
    }
   ],
   "dockerImageVersionId": 30919,
   "isGpuEnabled": true,
   "isInternetEnabled": false,
   "language": "python",
   "sourceType": "notebook"
  },
  "kernelspec": {
   "display_name": "Python 3 (ipykernel)",
   "language": "python",
   "name": "python3"
  },
  "language_info": {
   "codemirror_mode": {
    "name": "ipython",
    "version": 3
   },
   "file_extension": ".py",
   "mimetype": "text/x-python",
   "name": "python",
   "nbconvert_exporter": "python",
   "pygments_lexer": "ipython3",
   "version": "3.10.14"
  }
 },
 "nbformat": 4,
 "nbformat_minor": 5
}
