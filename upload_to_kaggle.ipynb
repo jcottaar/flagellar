{
 "cells": [
  {
   "cell_type": "code",
   "execution_count": 1,
   "id": "865d54d7-b239-49eb-be92-484d63c870d5",
   "metadata": {},
   "outputs": [],
   "source": [
    "import sys\n",
    "import subprocess\n",
    "sys.path.append('d:/flagellar/code/core')\n",
    "sys.path.append('/flagellar/code/core')\n",
    "sys.path.append('/flagellar/input/my-flg-library/')\n",
    "import flg_support as fls"
   ]
  },
  {
   "cell_type": "code",
   "execution_count": 2,
   "id": "5a2448f1-fd23-4cda-9193-430df96f08b4",
   "metadata": {},
   "outputs": [],
   "source": [
    "# !mkdir /root/.config/kaggle/\n",
    "# !cp /kaggle/kaggle.json /root/.config/kaggle/\n",
    "# !chmod 600 /root/.config/kaggle/kaggle.json"
   ]
  },
  {
   "cell_type": "code",
   "execution_count": 3,
   "id": "6dfdc927-8258-45b7-aed2-9a3fc3348bbd",
   "metadata": {},
   "outputs": [],
   "source": [
    "def do_upload(library_name, local_dir):\n",
    "    if fls.env=='vast':\n",
    "        raise 'test'\n",
    "        subprocess.run('rm -rf /kaggle_temp', shell=True)\n",
    "        subprocess.run('mkdir /kaggle_temp/', shell=True)\n",
    "        subprocess.run('kaggle datasets metadata -p /kaggle_temp/ ' + library_name, shell=True)\n",
    "        subprocess.run('cp '+local_dir+' /kaggle_temp/', shell=True)\n",
    "        !kaggle datasets version -p /kaggle_temp/ -m 'Update'\n",
    "    else:\n",
    "        subprocess.run('cd d:/ && rd /s /q kaggle_temp', shell=True)\n",
    "        subprocess.run('cd d:/ && d: && mkdir kaggle_temp', shell=True)\n",
    "        subprocess.run('kaggle datasets metadata -p d:/kaggle_temp/ ' + library_name, shell=True)\n",
    "        subprocess.run('cd d:/kaggle_temp/ && d: && copy '+local_dir+' d:', shell=True)\n",
    "        !kaggle datasets version -p d:\\kaggle_temp\\ -m 'Update'"
   ]
  },
  {
   "cell_type": "code",
   "execution_count": 4,
   "id": "10bcf65e-a373-42cc-ba2f-3d0197112ec4",
   "metadata": {},
   "outputs": [
    {
     "name": "stdout",
     "output_type": "stream",
     "text": [
      "Starting upload for file flg_diagnostics.py\n",
      "Warning: Looks like you're using an outdated API Version, please consider updating (server 1.7.4.2 / client 1.6.17)\n",
      "Upload successful: flg_diagnostics.py (2KB)\n",
      "Starting upload for file flg_model.py\n",
      "Upload successful: flg_model.py (6KB)\n",
      "Starting upload for file flg_numerics.py\n",
      "Upload successful: flg_numerics.py (5KB)\n",
      "Starting upload for file flg_support.py\n",
      "Upload successful: flg_support.py (44KB)\n",
      "Starting upload for file flg_unet.py\n",
      "Upload successful: flg_unet.py (16KB)\n",
      "Starting upload for file flg_unet_resnet18_3layer.py\n",
      "Upload successful: flg_unet_resnet18_3layer.py (5KB)\n",
      "Starting upload for file flg_unet_resnet34_3layer.py\n",
      "Upload successful: flg_unet_resnet34_3layer.py (5KB)\n",
      "Starting upload for file flg_yolo.py\n",
      "Upload successful: flg_yolo.py (30KB)\n",
      "Dataset version is being created. Please check progress at https://www.kaggle.com/jeroencottaar/my-flagellar-library\n"
     ]
    },
    {
     "name": "stderr",
     "output_type": "stream",
     "text": [
      "\n",
      "  0%|          | 0.00/2.38k [00:00<?, ?B/s]\n",
      "100%|##########| 2.38k/2.38k [00:00<00:00, 5.89kB/s]\n",
      "\n",
      "  0%|          | 0.00/6.40k [00:00<?, ?B/s]\n",
      "100%|##########| 6.40k/6.40k [00:00<00:00, 16.1kB/s]\n",
      "\n",
      "  0%|          | 0.00/4.55k [00:00<?, ?B/s]\n",
      "100%|##########| 4.55k/4.55k [00:00<00:00, 12.2kB/s]\n",
      "\n",
      "  0%|          | 0.00/44.0k [00:00<?, ?B/s]\n",
      "100%|##########| 44.0k/44.0k [00:00<00:00, 95.1kB/s]\n",
      "\n",
      "  0%|          | 0.00/15.8k [00:00<?, ?B/s]\n",
      "100%|##########| 15.8k/15.8k [00:00<00:00, 39.6kB/s]\n",
      "\n",
      "  0%|          | 0.00/4.96k [00:00<?, ?B/s]\n",
      "100%|##########| 4.96k/4.96k [00:00<00:00, 13.5kB/s]\n",
      "\n",
      "  0%|          | 0.00/5.04k [00:00<?, ?B/s]\n",
      "100%|##########| 5.04k/5.04k [00:00<00:00, 12.8kB/s]\n",
      "\n",
      "  0%|          | 0.00/29.9k [00:00<?, ?B/s]\n",
      "100%|##########| 29.9k/29.9k [00:00<00:00, 68.1kB/s]\n"
     ]
    }
   ],
   "source": [
    "if fls.env=='vast':\n",
    "    do_upload('jeroencottaar/my-flagellar-library', '/flagellar/code/core/*.*')\n",
    "else:\n",
    "    do_upload('jeroencottaar/my-flagellar-library', 'd:\\\\flagellar\\\\code\\\\core\\\\*.*')"
   ]
  },
  {
   "cell_type": "code",
   "execution_count": 5,
   "id": "9a8bfaf7-dfb5-4555-83ae-c8f2365f4cf2",
   "metadata": {},
   "outputs": [
    {
     "name": "stdout",
     "output_type": "stream",
     "text": [
      "Starting upload for file model0.pickle\n",
      "Upload successful: model0.pickle (4MB)\n",
      "Starting upload for file model1.pickle\n",
      "Upload successful: model1.pickle (4MB)\n",
      "Starting upload for file model_cv.pickle\n",
      "Upload successful: model_cv.pickle (4MB)\n",
      "Starting upload for file model_voxelbug0.pickle\n",
      "Already uploaded 3932159 bytes. Will resume upload at 3932160.\n",
      "Upload successful: model_voxelbug0.pickle (4MB)\n",
      "Starting upload for file model_voxelbug1.pickle\n",
      "Warning: Looks like you're using an outdated API Version, please consider updating (server 1.7.4.2 / client 1.6.17)\n",
      "Upload successful: model_voxelbug1.pickle (4MB)\n",
      "Starting upload for file yolov8m.pt\n",
      "Upload successful: yolov8m.pt (50MB)\n",
      "Dataset version is being created. Please check progress at https://www.kaggle.com/jeroencottaar/my-flg-models\n"
     ]
    },
    {
     "name": "stderr",
     "output_type": "stream",
     "text": [
      "\n",
      "  0%|          | 0.00/484k [00:00<?, ?B/s]\n",
      " 40%|###9      | 192k/484k [00:00<00:00, 1.88MB/s]\n",
      "100%|##########| 484k/484k [00:00<00:00, 541kB/s] \n",
      "\n",
      "  0%|          | 0.00/4.22M [00:00<?, ?B/s]\n",
      "  4%|4         | 192k/4.22M [00:00<00:02, 1.95MB/s]\n",
      " 13%|#2        | 544k/4.22M [00:00<00:01, 2.06MB/s]\n",
      " 39%|###8      | 1.62M/4.22M [00:00<00:00, 4.84MB/s]\n",
      " 67%|######6   | 2.81M/4.22M [00:00<00:00, 7.24MB/s]\n",
      " 85%|########4 | 3.56M/4.22M [00:00<00:00, 6.71MB/s]\n",
      "100%|##########| 4.22M/4.22M [00:01<00:00, 3.37MB/s]\n",
      "\n",
      "  0%|          | 0.00/49.7M [00:00<?, ?B/s]\n",
      "  0%|          | 192k/49.7M [00:00<00:26, 1.96MB/s]\n",
      "  1%|1         | 544k/49.7M [00:00<00:24, 2.06MB/s]\n",
      "  4%|3         | 1.77M/49.7M [00:00<00:09, 5.47MB/s]\n",
      "  5%|5         | 2.72M/49.7M [00:00<00:07, 6.87MB/s]\n",
      "  7%|7         | 3.66M/49.7M [00:00<00:06, 7.80MB/s]\n",
      "  9%|8         | 4.44M/49.7M [00:00<00:07, 6.40MB/s]\n",
      " 10%|#         | 5.11M/49.7M [00:00<00:07, 6.41MB/s]\n",
      " 12%|#1        | 5.77M/49.7M [00:01<00:07, 5.98MB/s]\n",
      " 13%|#3        | 6.52M/49.7M [00:01<00:07, 6.42MB/s]\n",
      " 15%|#4        | 7.23M/49.7M [00:01<00:06, 6.71MB/s]\n",
      " 16%|#6        | 7.97M/49.7M [00:01<00:06, 6.95MB/s]\n",
      " 18%|#7        | 8.70M/49.7M [00:01<00:06, 7.16MB/s]\n",
      " 19%|#8        | 9.41M/49.7M [00:01<00:05, 7.12MB/s]\n",
      " 20%|##        | 10.1M/49.7M [00:01<00:06, 6.83MB/s]\n",
      " 22%|##1       | 10.8M/49.7M [00:01<00:06, 6.67MB/s]\n",
      " 23%|##3       | 11.5M/49.7M [00:01<00:05, 6.99MB/s]\n",
      " 25%|##4       | 12.2M/49.7M [00:01<00:05, 7.14MB/s]\n",
      " 26%|##6       | 13.0M/49.7M [00:02<00:05, 7.26MB/s]\n",
      " 28%|##7       | 13.7M/49.7M [00:02<00:05, 7.41MB/s]\n",
      " 29%|##9       | 14.5M/49.7M [00:02<00:04, 7.54MB/s]\n",
      " 31%|###       | 15.2M/49.7M [00:02<00:04, 7.61MB/s]\n",
      " 32%|###2      | 16.0M/49.7M [00:02<00:04, 7.59MB/s]\n",
      " 34%|###3      | 16.7M/49.7M [00:02<00:04, 7.65MB/s]\n",
      " 35%|###5      | 17.5M/49.7M [00:02<00:04, 7.61MB/s]\n",
      " 37%|###6      | 18.2M/49.7M [00:02<00:04, 7.53MB/s]\n",
      " 38%|###8      | 19.0M/49.7M [00:02<00:04, 7.67MB/s]\n",
      " 40%|###9      | 19.7M/49.7M [00:02<00:04, 7.66MB/s]\n",
      " 41%|####1     | 20.5M/49.7M [00:03<00:04, 7.53MB/s]\n",
      " 43%|####2     | 21.2M/49.7M [00:03<00:03, 7.70MB/s]\n",
      " 44%|####4     | 22.0M/49.7M [00:03<00:03, 7.70MB/s]\n",
      " 46%|####5     | 22.7M/49.7M [00:03<00:03, 7.61MB/s]\n",
      " 47%|####7     | 23.5M/49.7M [00:03<00:03, 7.71MB/s]\n",
      " 49%|####8     | 24.2M/49.7M [00:03<00:03, 7.60MB/s]\n",
      " 50%|#####     | 25.0M/49.7M [00:03<00:03, 7.29MB/s]\n",
      " 52%|#####1    | 25.7M/49.7M [00:03<00:03, 7.39MB/s]\n",
      " 53%|#####3    | 26.5M/49.7M [00:03<00:03, 7.30MB/s]\n",
      " 55%|#####4    | 27.2M/49.7M [00:04<00:03, 7.27MB/s]\n",
      " 56%|#####6    | 27.9M/49.7M [00:04<00:03, 7.50MB/s]\n",
      " 58%|#####7    | 28.7M/49.7M [00:04<00:02, 7.53MB/s]\n",
      " 59%|#####9    | 29.4M/49.7M [00:04<00:02, 7.56MB/s]\n",
      " 61%|######    | 30.2M/49.7M [00:04<00:02, 7.67MB/s]\n",
      " 62%|######2   | 30.9M/49.7M [00:04<00:02, 7.52MB/s]\n",
      " 64%|######3   | 31.7M/49.7M [00:04<00:02, 7.66MB/s]\n",
      " 65%|######5   | 32.4M/49.7M [00:04<00:02, 7.69MB/s]\n",
      " 67%|######6   | 33.2M/49.7M [00:04<00:02, 7.66MB/s]\n",
      " 68%|######8   | 33.9M/49.7M [00:04<00:02, 7.63MB/s]\n",
      " 70%|######9   | 34.6M/49.7M [00:05<00:02, 7.54MB/s]\n",
      " 71%|#######1  | 35.4M/49.7M [00:05<00:01, 7.68MB/s]\n",
      " 73%|#######2  | 36.2M/49.7M [00:05<00:01, 7.71MB/s]\n",
      " 74%|#######4  | 36.9M/49.7M [00:05<00:01, 7.70MB/s]\n",
      " 76%|#######5  | 37.7M/49.7M [00:05<00:01, 7.55MB/s]\n",
      " 77%|#######7  | 38.4M/49.7M [00:05<00:01, 7.64MB/s]\n",
      " 79%|#######8  | 39.1M/49.7M [00:05<00:01, 7.61MB/s]\n",
      " 80%|########  | 39.9M/49.7M [00:05<00:01, 7.39MB/s]\n",
      " 82%|########1 | 40.6M/49.7M [00:05<00:01, 7.45MB/s]\n",
      " 83%|########3 | 41.4M/49.7M [00:05<00:01, 7.54MB/s]\n",
      " 85%|########4 | 42.1M/49.7M [00:06<00:01, 7.45MB/s]\n",
      " 86%|########6 | 42.9M/49.7M [00:06<00:00, 7.64MB/s]\n",
      " 88%|########7 | 43.6M/49.7M [00:06<00:00, 7.52MB/s]\n",
      " 89%|########9 | 44.3M/49.7M [00:06<00:00, 7.48MB/s]\n",
      " 91%|######### | 45.1M/49.7M [00:06<00:00, 7.60MB/s]\n",
      " 92%|#########2| 45.8M/49.7M [00:06<00:00, 7.52MB/s]\n",
      " 94%|#########3| 46.6M/49.7M [00:06<00:00, 7.61MB/s]\n",
      " 95%|#########5| 47.3M/49.7M [00:06<00:00, 7.60MB/s]\n",
      " 97%|#########6| 48.0M/49.7M [00:06<00:00, 7.62MB/s]\n",
      " 98%|#########8| 48.8M/49.7M [00:07<00:00, 7.52MB/s]\n",
      "100%|#########9| 49.5M/49.7M [00:07<00:00, 7.51MB/s]\n",
      "100%|##########| 49.7M/49.7M [00:07<00:00, 6.95MB/s]\n"
     ]
    }
   ],
   "source": [
    "if fls.env=='vast':\n",
    "    do_upload('jeroencottaar/my-flg-models', '/flagellar/models/*.*')\n",
    "else:\n",
    "    do_upload('jeroencottaar/my-flg-models', 'd:\\\\flagellar\\\\models\\\\*.*')"
   ]
  },
  {
   "cell_type": "code",
   "execution_count": null,
   "id": "82340bc6-813a-4557-9cd2-f14170f3afde",
   "metadata": {},
   "outputs": [],
   "source": []
  }
 ],
 "metadata": {
  "kernelspec": {
   "display_name": "Python 3 (ipykernel)",
   "language": "python",
   "name": "python3"
  },
  "language_info": {
   "codemirror_mode": {
    "name": "ipython",
    "version": 3
   },
   "file_extension": ".py",
   "mimetype": "text/x-python",
   "name": "python",
   "nbconvert_exporter": "python",
   "pygments_lexer": "ipython3",
   "version": "3.10.14"
  }
 },
 "nbformat": 4,
 "nbformat_minor": 5
}
