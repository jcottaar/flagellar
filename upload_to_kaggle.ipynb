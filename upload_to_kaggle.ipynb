{
 "cells": [
  {
   "cell_type": "code",
   "execution_count": 1,
   "id": "865d54d7-b239-49eb-be92-484d63c870d5",
   "metadata": {},
   "outputs": [
    {
     "name": "stdout",
     "output_type": "stream",
     "text": [
      "MainProcess\n"
     ]
    }
   ],
   "source": [
    "import sys\n",
    "import subprocess\n",
    "sys.path.append('d:/flagellar/code/core')\n",
    "sys.path.append('/flagellar/code/core')\n",
    "sys.path.append('/flagellar/input/my-flg-library/')\n",
    "import flg_support as fls\n",
    "import git \n",
    "repo = git.Repo(search_parent_directories=True)\n",
    "git_commit_id = repo.head.object.hexsha"
   ]
  },
  {
   "cell_type": "code",
   "execution_count": 2,
   "id": "5a2448f1-fd23-4cda-9193-430df96f08b4",
   "metadata": {},
   "outputs": [],
   "source": [
    "# !mkdir /root/.config/kaggle/\n",
    "# !cp /kaggle/kaggle.json /root/.config/kaggle/\n",
    "# !chmod 600 /root/.config/kaggle/kaggle.json"
   ]
  },
  {
   "cell_type": "code",
   "execution_count": 3,
   "id": "6dfdc927-8258-45b7-aed2-9a3fc3348bbd",
   "metadata": {},
   "outputs": [],
   "source": [
    "def do_upload(library_name, local_dir):\n",
    "    if fls.env=='vast':\n",
    "        subprocess.run('rm -rf /kaggle_temp', shell=True)\n",
    "        subprocess.run('mkdir /kaggle_temp/', shell=True)\n",
    "        subprocess.run('kaggle datasets metadata -p /kaggle_temp/ ' + library_name, shell=True)\n",
    "        subprocess.run('cp '+local_dir+' /kaggle_temp/', shell=True)\n",
    "        subprocess.run('kaggle datasets version -p /kaggle_temp/ -m '+git_commit_id, shell=True)\n",
    "    else:\n",
    "        subprocess.run('cd d:/ && rd /s /q kaggle_temp', shell=True)\n",
    "        subprocess.run('cd d:/ && d: && mkdir kaggle_temp', shell=True)\n",
    "        subprocess.run('kaggle datasets metadata -p d:/kaggle_temp/ ' + library_name, shell=True)\n",
    "        subprocess.run('cd d:/kaggle_temp/ && d: && copy '+local_dir+' d:', shell=True)\n",
    "        subprocess.run('kaggle datasets version -p d:\\\\kaggle_temp\\\\ -m '+git_commit_id, shell=True)"
   ]
  },
  {
   "cell_type": "code",
   "execution_count": 4,
   "id": "10bcf65e-a373-42cc-ba2f-3d0197112ec4",
   "metadata": {},
   "outputs": [
    {
     "name": "stdout",
     "output_type": "stream",
     "text": [
      "Warning: Looks like you're using an outdated API Version, please consider updating (server 1.7.4.2 / client 1.6.17)\n",
      "Downloaded metadata to /kaggle_temp/dataset-metadata.json\n",
      "Starting upload for file flg_diagnostics.py\n",
      "Warning: Looks like you're using an outdated API Version, please consider updating (server 1.7.4.2 / client 1.6.17)\n"
     ]
    },
    {
     "name": "stderr",
     "output_type": "stream",
     "text": [
      "100%|██████████| 9.52k/9.52k [00:00<00:00, 28.1kB/s]\n",
      "  0%|          | 0.00/13.7k [00:00<?, ?B/s]"
     ]
    },
    {
     "name": "stdout",
     "output_type": "stream",
     "text": [
      "Upload successful: flg_diagnostics.py (10KB)\n",
      "Starting upload for file flg_model.py\n"
     ]
    },
    {
     "name": "stderr",
     "output_type": "stream",
     "text": [
      "100%|██████████| 13.7k/13.7k [00:00<00:00, 40.8kB/s]\n",
      "  0%|          | 0.00/7.25k [00:00<?, ?B/s]"
     ]
    },
    {
     "name": "stdout",
     "output_type": "stream",
     "text": [
      "Upload successful: flg_model.py (14KB)\n",
      "Starting upload for file flg_numerics.py\n"
     ]
    },
    {
     "name": "stderr",
     "output_type": "stream",
     "text": [
      "100%|██████████| 7.25k/7.25k [00:00<00:00, 20.9kB/s]\n",
      "  0%|          | 0.00/13.1k [00:00<?, ?B/s]"
     ]
    },
    {
     "name": "stdout",
     "output_type": "stream",
     "text": [
      "Upload successful: flg_numerics.py (7KB)\n",
      "Starting upload for file flg_preprocess.py\n"
     ]
    },
    {
     "name": "stderr",
     "output_type": "stream",
     "text": [
      "100%|██████████| 13.1k/13.1k [00:00<00:00, 37.6kB/s]\n",
      "  0%|          | 0.00/10.1k [00:00<?, ?B/s]"
     ]
    },
    {
     "name": "stdout",
     "output_type": "stream",
     "text": [
      "Upload successful: flg_preprocess.py (13KB)\n",
      "Starting upload for file flg_runner.py\n"
     ]
    },
    {
     "name": "stderr",
     "output_type": "stream",
     "text": [
      "100%|██████████| 10.1k/10.1k [00:00<00:00, 28.9kB/s]\n",
      "  0%|          | 0.00/47.2k [00:00<?, ?B/s]"
     ]
    },
    {
     "name": "stdout",
     "output_type": "stream",
     "text": [
      "Upload successful: flg_runner.py (10KB)\n",
      "Starting upload for file flg_support.py\n"
     ]
    },
    {
     "name": "stderr",
     "output_type": "stream",
     "text": [
      "100%|██████████| 47.2k/47.2k [00:00<00:00, 131kB/s]\n",
      "  0%|          | 0.00/3.97k [00:00<?, ?B/s]"
     ]
    },
    {
     "name": "stdout",
     "output_type": "stream",
     "text": [
      "Upload successful: flg_support.py (47KB)\n",
      "Starting upload for file flg_test.py\n"
     ]
    },
    {
     "name": "stderr",
     "output_type": "stream",
     "text": [
      "100%|██████████| 3.97k/3.97k [00:00<00:00, 12.2kB/s]\n",
      "  0%|          | 0.00/17.5k [00:00<?, ?B/s]"
     ]
    },
    {
     "name": "stdout",
     "output_type": "stream",
     "text": [
      "Upload successful: flg_test.py (4KB)\n",
      "Starting upload for file flg_unet.py\n"
     ]
    },
    {
     "name": "stderr",
     "output_type": "stream",
     "text": [
      "100%|██████████| 17.5k/17.5k [00:00<00:00, 54.9kB/s]\n",
      "  0%|          | 0.00/4.96k [00:00<?, ?B/s]"
     ]
    },
    {
     "name": "stdout",
     "output_type": "stream",
     "text": [
      "Upload successful: flg_unet.py (18KB)\n",
      "Starting upload for file flg_unet_resnet18_3layer.py\n"
     ]
    },
    {
     "name": "stderr",
     "output_type": "stream",
     "text": [
      "100%|██████████| 4.96k/4.96k [00:00<00:00, 13.9kB/s]\n",
      "  0%|          | 0.00/5.04k [00:00<?, ?B/s]"
     ]
    },
    {
     "name": "stdout",
     "output_type": "stream",
     "text": [
      "Upload successful: flg_unet_resnet18_3layer.py (5KB)\n",
      "Starting upload for file flg_unet_resnet34_3layer.py\n"
     ]
    },
    {
     "name": "stderr",
     "output_type": "stream",
     "text": [
      "100%|██████████| 5.04k/5.04k [00:00<00:00, 15.3kB/s]\n",
      "  0%|          | 0.00/22.9k [00:00<?, ?B/s]"
     ]
    },
    {
     "name": "stdout",
     "output_type": "stream",
     "text": [
      "Upload successful: flg_unet_resnet34_3layer.py (5KB)\n",
      "Starting upload for file flg_yolo.py\n"
     ]
    },
    {
     "name": "stderr",
     "output_type": "stream",
     "text": [
      "100%|██████████| 22.9k/22.9k [00:00<00:00, 69.6kB/s]\n",
      "  0%|          | 0.00/34.2k [00:00<?, ?B/s]"
     ]
    },
    {
     "name": "stdout",
     "output_type": "stream",
     "text": [
      "Upload successful: flg_yolo.py (23KB)\n",
      "Starting upload for file flg_yolo2.py\n"
     ]
    },
    {
     "name": "stderr",
     "output_type": "stream",
     "text": [
      "100%|██████████| 34.2k/34.2k [00:00<00:00, 90.0kB/s]\n",
      "  0%|          | 0.00/112 [00:00<?, ?B/s]"
     ]
    },
    {
     "name": "stdout",
     "output_type": "stream",
     "text": [
      "Upload successful: flg_yolo2.py (34KB)\n",
      "Starting upload for file ref_unet.pickle\n"
     ]
    },
    {
     "name": "stderr",
     "output_type": "stream",
     "text": [
      "100%|██████████| 112/112 [00:00<00:00, 343B/s]\n",
      "  0%|          | 0.00/112 [00:00<?, ?B/s]"
     ]
    },
    {
     "name": "stdout",
     "output_type": "stream",
     "text": [
      "Upload successful: ref_unet.pickle (112B)\n",
      "Starting upload for file ref_unet_alt.pickle\n"
     ]
    },
    {
     "name": "stderr",
     "output_type": "stream",
     "text": [
      "100%|██████████| 112/112 [00:00<00:00, 325B/s]\n",
      "  0%|          | 0.00/1.24k [00:00<?, ?B/s]"
     ]
    },
    {
     "name": "stdout",
     "output_type": "stream",
     "text": [
      "Upload successful: ref_unet_alt.pickle (112B)\n",
      "Starting upload for file ref_yolo.pickle\n"
     ]
    },
    {
     "name": "stderr",
     "output_type": "stream",
     "text": [
      "100%|██████████| 1.24k/1.24k [00:00<00:00, 3.52kB/s]\n"
     ]
    },
    {
     "name": "stdout",
     "output_type": "stream",
     "text": [
      "Upload successful: ref_yolo.pickle (1KB)\n",
      "Dataset version is being created. Please check progress at https://www.kaggle.com/jeroencottaar/my-flagellar-library\n"
     ]
    }
   ],
   "source": [
    "if fls.env=='vast':\n",
    "    do_upload('jeroencottaar/my-flagellar-library', '/flagellar/code/core/*.*')\n",
    "else:\n",
    "    do_upload('jeroencottaar/my-flagellar-library', 'd:\\\\flagellar\\\\code\\\\core\\\\*.*')"
   ]
  },
  {
   "cell_type": "code",
   "execution_count": 5,
   "id": "9a8bfaf7-dfb5-4555-83ae-c8f2365f4cf2",
   "metadata": {},
   "outputs": [
    {
     "name": "stdout",
     "output_type": "stream",
     "text": [
      "Warning: Looks like you're using an outdated API Version, please consider updating (server 1.7.4.2 / client 1.6.17)\n",
      "Downloaded metadata to /kaggle_temp/dataset-metadata.json\n"
     ]
    },
    {
     "name": "stderr",
     "output_type": "stream",
     "text": [
      "cp: cannot stat '/flagellar/models/unet*.*': No such file or directory\n"
     ]
    },
    {
     "name": "stdout",
     "output_type": "stream",
     "text": [
      "400 - Bad Request - Please upload at least one file\n"
     ]
    }
   ],
   "source": [
    "if fls.env=='vast':\n",
    "    do_upload('jeroencottaar/my-flg-models', '/flagellar/models/unet*.*')\n",
    "else:\n",
    "    do_upload('jeroencottaar/my-flg-models', 'd:\\\\flagellar\\\\models\\\\unet*.*')"
   ]
  },
  {
   "cell_type": "code",
   "execution_count": null,
   "id": "82340bc6-813a-4557-9cd2-f14170f3afde",
   "metadata": {},
   "outputs": [],
   "source": []
  },
  {
   "cell_type": "code",
   "execution_count": null,
   "id": "0b22877d-187c-4675-af9c-f19ba65cffa3",
   "metadata": {},
   "outputs": [],
   "source": []
  }
 ],
 "metadata": {
  "kernelspec": {
   "display_name": "Python 3 (ipykernel)",
   "language": "python",
   "name": "python3"
  },
  "language_info": {
   "codemirror_mode": {
    "name": "ipython",
    "version": 3
   },
   "file_extension": ".py",
   "mimetype": "text/x-python",
   "name": "python",
   "nbconvert_exporter": "python",
   "pygments_lexer": "ipython3",
   "version": "3.11.10"
  }
 },
 "nbformat": 4,
 "nbformat_minor": 5
}
