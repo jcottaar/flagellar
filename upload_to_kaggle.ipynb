{
 "cells": [
  {
   "cell_type": "code",
   "execution_count": 5,
   "id": "865d54d7-b239-49eb-be92-484d63c870d5",
   "metadata": {},
   "outputs": [],
   "source": [
    "import sys\n",
    "import subprocess\n",
    "sys.path.append('d:/flagellar/code/core')\n",
    "sys.path.append('/flagellar/code/core')\n",
    "sys.path.append('/flagellar/input/my-flg-library/')\n",
    "import flg_support as fls"
   ]
  },
  {
   "cell_type": "code",
   "execution_count": 6,
   "id": "5a2448f1-fd23-4cda-9193-430df96f08b4",
   "metadata": {},
   "outputs": [],
   "source": [
    "# !mkdir /root/.config/kaggle/\n",
    "# !cp /kaggle/kaggle.json /root/.config/kaggle/\n",
    "# !chmod 600 /root/.config/kaggle/kaggle.json"
   ]
  },
  {
   "cell_type": "code",
   "execution_count": 74,
   "id": "6dfdc927-8258-45b7-aed2-9a3fc3348bbd",
   "metadata": {},
   "outputs": [],
   "source": [
    "def do_upload(library_name, local_dir):\n",
    "    if fls.env=='vast':\n",
    "        raise 'test'\n",
    "        subprocess.run('rm -rf /kaggle_temp', shell=True)\n",
    "        subprocess.run('mkdir /kaggle_temp/', shell=True)\n",
    "        subprocess.run('kaggle datasets metadata -p /kaggle_temp/ ' + library_name, shell=True)\n",
    "        subprocess.run('cp '+local_dir+' /kaggle_temp/', shell=True)\n",
    "        !kaggle datasets version -p /kaggle_temp/ -m 'Update'\n",
    "    else:\n",
    "        subprocess.run('cd d:/ && rd /s /q kaggle_temp', shell=True)\n",
    "        subprocess.run('cd d:/ && d: && mkdir kaggle_temp', shell=True)\n",
    "        subprocess.run('kaggle datasets metadata -p d:/kaggle_temp/ ' + library_name, shell=True)\n",
    "        subprocess.run('cd d:/kaggle_temp/ && d: && copy '+local_dir+' d:', shell=True)\n",
    "        !kaggle datasets version -p d:\\kaggle_temp\\ -m 'Update'"
   ]
  },
  {
   "cell_type": "code",
   "execution_count": 75,
   "id": "10bcf65e-a373-42cc-ba2f-3d0197112ec4",
   "metadata": {},
   "outputs": [
    {
     "name": "stdout",
     "output_type": "stream",
     "text": [
      "Starting upload for file flg_diagnostics.py\n",
      "Warning: Looks like you're using an outdated API Version, please consider updating (server 1.7.4.2 / client 1.6.17)\n",
      "Upload successful: flg_diagnostics.py (2KB)\n",
      "Starting upload for file flg_model.py\n",
      "Upload successful: flg_model.py (6KB)\n",
      "Starting upload for file flg_numerics.py\n",
      "Upload successful: flg_numerics.py (5KB)\n",
      "Starting upload for file flg_support.py\n",
      "Upload successful: flg_support.py (43KB)\n",
      "Starting upload for file flg_unet.py\n",
      "Upload successful: flg_unet.py (15KB)\n",
      "Starting upload for file flg_unet_resnet18_3layer.py\n",
      "Upload successful: flg_unet_resnet18_3layer.py (5KB)\n",
      "Starting upload for file flg_unet_resnet34_3layer.py\n",
      "Upload successful: flg_unet_resnet34_3layer.py (5KB)\n",
      "Dataset version is being created. Please check progress at https://www.kaggle.com/jeroencottaar/my-flagellar-library\n"
     ]
    },
    {
     "name": "stderr",
     "output_type": "stream",
     "text": [
      "\n",
      "  0%|          | 0.00/2.38k [00:00<?, ?B/s]\n",
      "100%|##########| 2.38k/2.38k [00:00<00:00, 4.69kB/s]\n",
      "\n",
      "  0%|          | 0.00/6.40k [00:00<?, ?B/s]\n",
      "100%|##########| 6.40k/6.40k [00:00<00:00, 16.3kB/s]\n",
      "\n",
      "  0%|          | 0.00/4.55k [00:00<?, ?B/s]\n",
      "100%|##########| 4.55k/4.55k [00:00<00:00, 11.0kB/s]\n",
      "\n",
      "  0%|          | 0.00/43.1k [00:00<?, ?B/s]\n",
      "100%|##########| 43.1k/43.1k [00:00<00:00, 106kB/s]\n",
      "\n",
      "  0%|          | 0.00/15.3k [00:00<?, ?B/s]\n",
      "100%|##########| 15.3k/15.3k [00:00<00:00, 39.6kB/s]\n",
      "\n",
      "  0%|          | 0.00/4.96k [00:00<?, ?B/s]\n",
      "100%|##########| 4.96k/4.96k [00:00<00:00, 11.9kB/s]\n",
      "\n",
      "  0%|          | 0.00/5.04k [00:00<?, ?B/s]\n",
      "100%|##########| 5.04k/5.04k [00:00<00:00, 12.5kB/s]\n"
     ]
    }
   ],
   "source": [
    "if fls.env=='vast':\n",
    "    do_upload('jeroencottaar/my-flagellar-library', '/flagellar/code/core/*.py')\n",
    "else:\n",
    "    do_upload('jeroencottaar/my-flagellar-library', 'd:\\\\flagellar\\\\code\\\\core\\\\*.py')"
   ]
  },
  {
   "cell_type": "code",
   "execution_count": 77,
   "id": "9a8bfaf7-dfb5-4555-83ae-c8f2365f4cf2",
   "metadata": {},
   "outputs": [
    {
     "name": "stdout",
     "output_type": "stream",
     "text": [
      "Starting upload for file model0.pickle\n",
      "Warning: Looks like you're using an outdated API Version, please consider updating (server 1.7.4.2 / client 1.6.17)\n",
      "Upload successful: model0.pickle (4MB)\n",
      "Starting upload for file model1.pickle\n",
      "Upload successful: model1.pickle (4MB)\n",
      "Starting upload for file model_cv.pickle\n",
      "Upload successful: model_cv.pickle (4MB)\n",
      "Starting upload for file model_voxelbug0.pickle\n",
      "Upload successful: model_voxelbug0.pickle (4MB)\n",
      "Starting upload for file model_voxelbug1.pickle\n",
      "Upload successful: model_voxelbug1.pickle (4MB)\n",
      "Dataset version is being created. Please check progress at https://www.kaggle.com/jeroencottaar/my-flg-models\n"
     ]
    },
    {
     "name": "stderr",
     "output_type": "stream",
     "text": [
      "\n",
      "  0%|          | 0.00/4.24M [00:00<?, ?B/s]\n",
      "  4%|4         | 192k/4.24M [00:00<00:02, 1.60MB/s]\n",
      " 13%|#2        | 544k/4.24M [00:00<00:01, 2.02MB/s]\n",
      " 41%|####      | 1.72M/4.24M [00:00<00:00, 5.76MB/s]\n",
      " 61%|######1   | 2.59M/4.24M [00:00<00:00, 6.73MB/s]\n",
      " 79%|#######8  | 3.34M/4.24M [00:00<00:00, 6.60MB/s]\n",
      "100%|#########9| 4.23M/4.24M [00:00<00:00, 7.31MB/s]\n",
      "100%|##########| 4.24M/4.24M [00:01<00:00, 3.32MB/s]\n",
      "\n",
      "  0%|          | 0.00/4.21M [00:00<?, ?B/s]\n",
      "  4%|4         | 192k/4.21M [00:00<00:02, 1.80MB/s]\n",
      " 15%|#5        | 656k/4.21M [00:00<00:01, 3.43MB/s]\n",
      " 42%|####1     | 1.77M/4.21M [00:00<00:00, 6.49MB/s]\n",
      " 66%|######6   | 2.78M/4.21M [00:00<00:00, 7.81MB/s]\n",
      " 84%|########3 | 3.53M/4.21M [00:00<00:00, 6.17MB/s]\n",
      " 99%|#########8| 4.16M/4.21M [00:00<00:00, 5.04MB/s]\n",
      "100%|##########| 4.21M/4.21M [00:01<00:00, 3.51MB/s]\n",
      "\n",
      "  0%|          | 0.00/4.08M [00:00<?, ?B/s]\n",
      "  5%|4         | 192k/4.08M [00:00<00:02, 1.84MB/s]\n",
      " 13%|#3        | 544k/4.08M [00:00<00:01, 1.87MB/s]\n",
      " 44%|####4     | 1.80M/4.08M [00:00<00:00, 5.61MB/s]\n",
      " 66%|######5   | 2.69M/4.08M [00:00<00:00, 6.67MB/s]\n",
      " 83%|########3 | 3.39M/4.08M [00:00<00:00, 6.69MB/s]\n",
      "100%|#########9| 4.08M/4.08M [00:00<00:00, 5.91MB/s]\n",
      "100%|##########| 4.08M/4.08M [00:01<00:00, 3.25MB/s]\n",
      "\n",
      "  0%|          | 0.00/4.22M [00:00<?, ?B/s]\n",
      "  5%|5         | 224k/4.22M [00:00<00:01, 2.25MB/s]\n",
      " 13%|#2        | 544k/4.22M [00:00<00:02, 1.79MB/s]\n",
      " 36%|###5      | 1.50M/4.22M [00:00<00:00, 4.65MB/s]\n",
      " 54%|#####3    | 2.27M/4.22M [00:00<00:00, 5.74MB/s]\n",
      " 68%|######8   | 2.89M/4.22M [00:00<00:00, 3.92MB/s]\n",
      " 85%|########5 | 3.61M/4.22M [00:00<00:00, 4.75MB/s]\n",
      " 99%|#########9| 4.19M/4.22M [00:00<00:00, 5.05MB/s]\n",
      "100%|##########| 4.22M/4.22M [00:01<00:00, 3.17MB/s]\n",
      "\n",
      "  0%|          | 0.00/4.22M [00:00<?, ?B/s]\n",
      "  9%|8         | 368k/4.22M [00:00<00:01, 3.72MB/s]\n",
      " 17%|#7        | 736k/4.22M [00:00<00:01, 2.75MB/s]\n",
      " 42%|####2     | 1.78M/4.22M [00:00<00:00, 5.91MB/s]\n",
      " 63%|######3   | 2.66M/4.22M [00:00<00:00, 6.32MB/s]\n",
      " 87%|########7 | 3.69M/4.22M [00:00<00:00, 7.68MB/s]\n",
      "100%|##########| 4.22M/4.22M [00:01<00:00, 3.38MB/s]\n"
     ]
    }
   ],
   "source": [
    "if fls.env=='vast':\n",
    "    do_upload('jeroencottaar/my-flg-models', '/flagellar/models/*.pickle')\n",
    "else:\n",
    "    do_upload('jeroencottaar/my-flg-models', 'd:\\\\flagellar\\\\models\\\\*.pickle')"
   ]
  },
  {
   "cell_type": "code",
   "execution_count": null,
   "id": "82340bc6-813a-4557-9cd2-f14170f3afde",
   "metadata": {},
   "outputs": [],
   "source": []
  }
 ],
 "metadata": {
  "kernelspec": {
   "display_name": "Python 3 (ipykernel)",
   "language": "python",
   "name": "python3"
  },
  "language_info": {
   "codemirror_mode": {
    "name": "ipython",
    "version": 3
   },
   "file_extension": ".py",
   "mimetype": "text/x-python",
   "name": "python",
   "nbconvert_exporter": "python",
   "pygments_lexer": "ipython3",
   "version": "3.10.14"
  }
 },
 "nbformat": 4,
 "nbformat_minor": 5
}
