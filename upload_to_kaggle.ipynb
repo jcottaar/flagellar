{
 "cells": [
  {
   "cell_type": "code",
   "execution_count": 1,
   "id": "865d54d7-b239-49eb-be92-484d63c870d5",
   "metadata": {},
   "outputs": [],
   "source": [
    "import sys\n",
    "sys.path.append('d:/flagellar/code/core')\n",
    "sys.path.append('/kaggle/code/core')\n",
    "sys.path.append('/kaggle/input/my-flg-library/')\n",
    "import flg_support as fls"
   ]
  },
  {
   "cell_type": "code",
   "execution_count": null,
   "id": "b89a01db-05de-429b-85df-4fbc9e640029",
   "metadata": {},
   "outputs": [
    {
     "name": "stdout",
     "output_type": "stream",
     "text": [
      "mkdir: cannot create directory ‘/root/.config/kaggle/’: File exists\n"
     ]
    }
   ],
   "source": [
    "# !mkdir /root/.config/kaggle/\n",
    "# !cp /kaggle/kaggle.json /root/.config/kaggle/\n",
    "# !chmod 600 /root/.config/kaggle/kaggle.json"
   ]
  },
  {
   "cell_type": "code",
   "execution_count": 28,
   "id": "a0d209f5-db85-4cc2-9da6-bdd3bc62ac9f",
   "metadata": {
    "scrolled": true
   },
   "outputs": [
    {
     "name": "stdout",
     "output_type": "stream",
     "text": [
      "Downloaded metadata to d:/flagellar/temp/dataset-metadata.json\n",
      " Volume in drive D is New Volume\n",
      " Volume Serial Number is 2672-2B1A\n",
      "\n",
      " Directory of d:\\flagellar\\temp\n",
      "\n",
      "2025-03-20  19:32    <DIR>          .\n",
      "2025-03-20  19:32    <DIR>          ..\n",
      "2025-03-20  19:32               317 dataset-metadata.json\n",
      "               1 File(s)            317 bytes\n",
      "               2 Dir(s)  121,049,915,392 bytes free\n",
      "d:\\\\flagellar\\\\code\\\\core\\\\flg_diagnostics.py\n",
      "d:\\\\flagellar\\\\code\\\\core\\\\flg_numerics.py\n",
      "d:\\\\flagellar\\\\code\\\\core\\\\flg_support.py\n",
      "d:\\\\flagellar\\\\code\\\\core\\\\flg_unet.py\n",
      "        4 file(s) copied.\n",
      "ID or slug must be specified in the metadata\n"
     ]
    }
   ],
   "source": [
    "assert fls.env == 'local'\n",
    "!rd /s /q \"d:/flagellar/temp/\"\n",
    "!mkdir \"d:/flagellar/temp/\"\n",
    "!kaggle datasets metadata -p d:/flagellar/temp/ jeroencottaar/my-flagellar-library\n",
    "!d: && cd \"d:/flagellar/temp/\" && dir && copy \"d:\\\\flagellar\\\\code\\\\core\\\\*.py\" \"d:\\\\flagellar\\\\temp\"\n",
    "!kaggle datasets version -p d:/flagellar/temp/ -m 'Update'"
   ]
  },
  {
   "cell_type": "code",
   "execution_count": null,
   "id": "9a8bfaf7-dfb5-4555-83ae-c8f2365f4cf2",
   "metadata": {},
   "outputs": [],
   "source": []
  }
 ],
 "metadata": {
  "kernelspec": {
   "display_name": "Python 3 (ipykernel)",
   "language": "python",
   "name": "python3"
  },
  "language_info": {
   "codemirror_mode": {
    "name": "ipython",
    "version": 3
   },
   "file_extension": ".py",
   "mimetype": "text/x-python",
   "name": "python",
   "nbconvert_exporter": "python",
   "pygments_lexer": "ipython3",
   "version": "3.10.14"
  }
 },
 "nbformat": 4,
 "nbformat_minor": 5
}
