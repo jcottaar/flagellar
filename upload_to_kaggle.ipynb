{
 "cells": [
  {
   "cell_type": "code",
   "execution_count": 2,
   "id": "865d54d7-b239-49eb-be92-484d63c870d5",
   "metadata": {},
   "outputs": [],
   "source": [
    "import sys\n",
    "# sys.path.append('d:/flagellar/code/core')\n",
    "# sys.path.append('/flagellar/code/core')\n",
    "# sys.path.append('/flagellar/input/my-flg-library/')\n",
    "# import flg_support as fls"
   ]
  },
  {
   "cell_type": "code",
   "execution_count": 3,
   "id": "b89a01db-05de-429b-85df-4fbc9e640029",
   "metadata": {},
   "outputs": [],
   "source": [
    "# !mkdir /root/.config/kaggle/\n",
    "# !cp /kaggle/kaggle.json /root/.config/kaggle/\n",
    "# !chmod 600 /root/.config/kaggle/kaggle.json"
   ]
  },
  {
   "cell_type": "code",
   "execution_count": 10,
   "id": "10bcf65e-a373-42cc-ba2f-3d0197112ec4",
   "metadata": {
    "scrolled": true
   },
   "outputs": [
    {
     "name": "stdout",
     "output_type": "stream",
     "text": [
      "Downloaded metadata to /kaggle_temp/dataset-metadata.json\n"
     ]
    }
   ],
   "source": [
    "#assert fls.env == 'vast'\n",
    "!rm -rf /kaggle_temp/\n",
    "!mkdir /kaggle_temp/\n",
    "!kaggle datasets metadata -p /kaggle_temp/ jeroencottaar/my-math-library\n",
    "#!cp /flagellar/code/core/*.py /kaggle_temp/"
   ]
  },
  {
   "cell_type": "code",
   "execution_count": 11,
   "id": "90e819a4-cbb7-4e54-b616-51a9ed0cdd0f",
   "metadata": {
    "scrolled": true
   },
   "outputs": [
    {
     "name": "stdout",
     "output_type": "stream",
     "text": [
      "ID or slug must be specified in the metadata\n"
     ]
    }
   ],
   "source": [
    "!kaggle datasets version -p /kaggle_temp/ -m 'Update'"
   ]
  },
  {
   "cell_type": "code",
   "execution_count": null,
   "id": "9a8bfaf7-dfb5-4555-83ae-c8f2365f4cf2",
   "metadata": {},
   "outputs": [],
   "source": []
  }
 ],
 "metadata": {
  "kernelspec": {
   "display_name": "Python 3 (ipykernel)",
   "language": "python",
   "name": "python3"
  },
  "language_info": {
   "codemirror_mode": {
    "name": "ipython",
    "version": 3
   },
   "file_extension": ".py",
   "mimetype": "text/x-python",
   "name": "python",
   "nbconvert_exporter": "python",
   "pygments_lexer": "ipython3",
   "version": "3.11.10"
  }
 },
 "nbformat": 4,
 "nbformat_minor": 5
}
