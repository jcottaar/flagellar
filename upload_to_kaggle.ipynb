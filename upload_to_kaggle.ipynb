{
 "cells": [
  {
   "cell_type": "code",
   "execution_count": 7,
   "id": "865d54d7-b239-49eb-be92-484d63c870d5",
   "metadata": {},
   "outputs": [],
   "source": [
    "import sys\n",
    "import subprocess\n",
    "sys.path.append('d:/flagellar/code/core')\n",
    "sys.path.append('/flagellar/code/core')\n",
    "sys.path.append('/flagellar/input/my-flg-library/')\n",
    "import flg_support as fls"
   ]
  },
  {
   "cell_type": "code",
   "execution_count": 8,
   "id": "5a2448f1-fd23-4cda-9193-430df96f08b4",
   "metadata": {},
   "outputs": [],
   "source": [
    "# !mkdir /root/.config/kaggle/\n",
    "# !cp /kaggle/kaggle.json /root/.config/kaggle/\n",
    "# !chmod 600 /root/.config/kaggle/kaggle.json"
   ]
  },
  {
   "cell_type": "code",
   "execution_count": 9,
   "id": "6dfdc927-8258-45b7-aed2-9a3fc3348bbd",
   "metadata": {},
   "outputs": [],
   "source": [
    "def do_upload(library_name, local_dir):\n",
    "    if fls.env=='vast':\n",
    "        raise 'test'\n",
    "        subprocess.run('rm -rf /kaggle_temp', shell=True)\n",
    "        subprocess.run('mkdir /kaggle_temp/', shell=True)\n",
    "        subprocess.run('kaggle datasets metadata -p /kaggle_temp/ ' + library_name, shell=True)\n",
    "        subprocess.run('cp '+local_dir+' /kaggle_temp/', shell=True)\n",
    "        !kaggle datasets version -p /kaggle_temp/ -m 'Update'\n",
    "    else:\n",
    "        subprocess.run('cd d:/ && rd /s /q kaggle_temp', shell=True)\n",
    "        subprocess.run('cd d:/ && d: && mkdir kaggle_temp', shell=True)\n",
    "        subprocess.run('kaggle datasets metadata -p d:/kaggle_temp/ ' + library_name, shell=True)\n",
    "        subprocess.run('cd d:/kaggle_temp/ && d: && copy '+local_dir+' d:', shell=True)\n",
    "        !kaggle datasets version -p d:\\kaggle_temp\\ -m 'Update'"
   ]
  },
  {
   "cell_type": "code",
   "execution_count": 10,
   "id": "10bcf65e-a373-42cc-ba2f-3d0197112ec4",
   "metadata": {},
   "outputs": [
    {
     "name": "stdout",
     "output_type": "stream",
     "text": [
      "Starting upload for file flg_diagnostics.py\n",
      "Warning: Looks like you're using an outdated API Version, please consider updating (server 1.7.4.2 / client 1.6.17)\n",
      "Upload successful: flg_diagnostics.py (2KB)\n",
      "Starting upload for file flg_model.py\n",
      "Upload successful: flg_model.py (7KB)\n",
      "Starting upload for file flg_numerics.py\n",
      "Upload successful: flg_numerics.py (5KB)\n",
      "Starting upload for file flg_preprocess.py\n",
      "Upload successful: flg_preprocess.py (3KB)\n",
      "Starting upload for file flg_support.py\n",
      "Upload successful: flg_support.py (43KB)\n",
      "Starting upload for file flg_support_old.py\n",
      "Upload successful: flg_support_old.py (53KB)\n",
      "Starting upload for file flg_test.py\n",
      "Upload successful: flg_test.py (3KB)\n",
      "Starting upload for file flg_unet.py\n",
      "Upload successful: flg_unet.py (18KB)\n",
      "Starting upload for file flg_unet_old.py\n",
      "Upload successful: flg_unet_old.py (17KB)\n",
      "Starting upload for file flg_unet_resnet18_3layer.py\n",
      "Upload successful: flg_unet_resnet18_3layer.py (5KB)\n",
      "Starting upload for file flg_unet_resnet34_3layer.py\n",
      "Upload successful: flg_unet_resnet34_3layer.py (5KB)\n",
      "Starting upload for file flg_yolo.py\n",
      "Upload successful: flg_yolo.py (22KB)\n",
      "Starting upload for file ref_unet.pickle\n",
      "Upload successful: ref_unet.pickle (112B)\n",
      "Starting upload for file ref_unet_alt.pickle\n",
      "Upload successful: ref_unet_alt.pickle (112B)\n",
      "Starting upload for file ref_yolo.pickle\n",
      "Upload successful: ref_yolo.pickle (948B)\n",
      "Dataset version is being created. Please check progress at https://www.kaggle.com/jeroencottaar/my-flagellar-library\n"
     ]
    },
    {
     "name": "stderr",
     "output_type": "stream",
     "text": [
      "\n",
      "  0%|          | 0.00/2.48k [00:00<?, ?B/s]\n",
      "100%|##########| 2.48k/2.48k [00:00<00:00, 5.82kB/s]\n",
      "\n",
      "  0%|          | 0.00/6.55k [00:00<?, ?B/s]\n",
      "100%|##########| 6.55k/6.55k [00:00<00:00, 16.4kB/s]\n",
      "\n",
      "  0%|          | 0.00/4.65k [00:00<?, ?B/s]\n",
      "100%|##########| 4.65k/4.65k [00:00<00:00, 10.9kB/s]\n",
      "\n",
      "  0%|          | 0.00/3.38k [00:00<?, ?B/s]\n",
      "100%|##########| 3.38k/3.38k [00:00<00:00, 7.42kB/s]\n",
      "\n",
      "  0%|          | 0.00/42.9k [00:00<?, ?B/s]\n",
      "100%|##########| 42.9k/42.9k [00:00<00:00, 88.0kB/s]\n",
      "\n",
      "  0%|          | 0.00/52.5k [00:00<?, ?B/s]\n",
      "100%|##########| 52.5k/52.5k [00:00<00:00, 106kB/s]\n",
      "\n",
      "  0%|          | 0.00/3.23k [00:00<?, ?B/s]\n",
      "100%|##########| 3.23k/3.23k [00:00<00:00, 8.56kB/s]\n",
      "\n",
      "  0%|          | 0.00/17.5k [00:00<?, ?B/s]\n",
      "100%|##########| 17.5k/17.5k [00:00<00:00, 41.3kB/s]\n",
      "\n",
      "  0%|          | 0.00/17.2k [00:00<?, ?B/s]\n",
      "100%|##########| 17.2k/17.2k [00:00<00:00, 42.8kB/s]\n",
      "\n",
      "  0%|          | 0.00/4.96k [00:00<?, ?B/s]\n",
      "100%|##########| 4.96k/4.96k [00:00<00:00, 11.6kB/s]\n",
      "\n",
      "  0%|          | 0.00/5.04k [00:00<?, ?B/s]\n",
      "100%|##########| 5.04k/5.04k [00:00<00:00, 12.7kB/s]\n",
      "\n",
      "  0%|          | 0.00/22.3k [00:00<?, ?B/s]\n",
      "100%|##########| 22.3k/22.3k [00:00<00:00, 51.7kB/s]\n",
      "\n",
      "  0%|          | 0.00/112 [00:00<?, ?B/s]\n",
      "100%|##########| 112/112 [00:00<00:00, 281B/s]\n",
      "\n",
      "  0%|          | 0.00/112 [00:00<?, ?B/s]\n",
      "100%|##########| 112/112 [00:00<00:00, 173B/s]\n",
      "\n",
      "  0%|          | 0.00/948 [00:00<?, ?B/s]\n",
      "100%|##########| 948/948 [00:00<00:00, 2.33kB/s]\n"
     ]
    }
   ],
   "source": [
    "if fls.env=='vast':\n",
    "    do_upload('jeroencottaar/my-flagellar-library', '/flagellar/code/core/*.*')\n",
    "else:\n",
    "    do_upload('jeroencottaar/my-flagellar-library', 'd:\\\\flagellar\\\\code\\\\core\\\\*.*')"
   ]
  },
  {
   "cell_type": "code",
   "execution_count": 5,
   "id": "9a8bfaf7-dfb5-4555-83ae-c8f2365f4cf2",
   "metadata": {},
   "outputs": [
    {
     "name": "stdout",
     "output_type": "stream",
     "text": [
      "Starting upload for file unet_extradata.pickle\n",
      "Warning: Looks like you're using an outdated API Version, please consider updating (server 1.7.4.2 / client 1.6.17)\n",
      "Upload successful: unet_extradata.pickle (5MB)\n",
      "Starting upload for file unet_normbugfixed.pickle\n",
      "Upload successful: unet_normbugfixed.pickle (9MB)\n",
      "Starting upload for file unet_percnorm.pickle\n",
      "Upload successful: unet_percnorm.pickle (9MB)\n",
      "Starting upload for file unet_resized.pickle\n",
      "Upload successful: unet_resized.pickle (8MB)\n",
      "Dataset version is being created. Please check progress at https://www.kaggle.com/jeroencottaar/my-flg-models\n"
     ]
    },
    {
     "name": "stderr",
     "output_type": "stream",
     "text": [
      "\n",
      "  0%|          | 0.00/4.85M [00:00<?, ?B/s]\n",
      "  2%|2         | 112k/4.85M [00:00<00:04, 1.09MB/s]\n",
      " 11%|#         | 544k/4.85M [00:00<00:01, 2.55MB/s]\n",
      " 35%|###5      | 1.70M/4.85M [00:00<00:00, 5.92MB/s]\n",
      " 55%|#####5    | 2.67M/4.85M [00:00<00:00, 7.38MB/s]\n",
      " 74%|#######4  | 3.61M/4.85M [00:00<00:00, 8.18MB/s]\n",
      " 91%|######### | 4.41M/4.85M [00:00<00:00, 6.02MB/s]\n",
      "100%|##########| 4.85M/4.85M [00:01<00:00, 3.85MB/s]\n",
      "\n",
      "  0%|          | 0.00/9.24M [00:00<?, ?B/s]\n",
      "  2%|2         | 208k/9.24M [00:00<00:04, 2.08MB/s]\n",
      "  6%|5         | 544k/9.24M [00:00<00:03, 2.85MB/s]\n",
      " 16%|#6        | 1.50M/9.24M [00:00<00:01, 6.11MB/s]\n",
      " 24%|##4       | 2.25M/9.24M [00:00<00:01, 6.65MB/s]\n",
      " 32%|###2      | 2.97M/9.24M [00:00<00:00, 6.93MB/s]\n",
      " 40%|###9      | 3.66M/9.24M [00:00<00:00, 7.02MB/s]\n",
      " 47%|####6     | 4.33M/9.24M [00:00<00:00, 6.09MB/s]\n",
      " 54%|#####4    | 5.00M/9.24M [00:00<00:00, 6.36MB/s]\n",
      " 61%|######1   | 5.64M/9.24M [00:00<00:00, 6.45MB/s]\n",
      " 69%|######9   | 6.38M/9.24M [00:01<00:00, 6.79MB/s]\n",
      " 77%|#######6  | 7.08M/9.24M [00:01<00:00, 6.96MB/s]\n",
      " 85%|########4 | 7.83M/9.24M [00:01<00:00, 7.14MB/s]\n",
      " 93%|#########3| 8.59M/9.24M [00:01<00:00, 7.33MB/s]\n",
      "100%|##########| 9.24M/9.24M [00:01<00:00, 5.39MB/s]\n",
      "\n",
      "  0%|          | 0.00/9.27M [00:00<?, ?B/s]\n",
      "  2%|2         | 208k/9.27M [00:00<00:04, 2.11MB/s]\n",
      "  6%|5         | 544k/9.27M [00:00<00:04, 2.03MB/s]\n",
      " 20%|#9        | 1.84M/9.27M [00:00<00:01, 6.21MB/s]\n",
      " 30%|##9       | 2.77M/9.27M [00:00<00:00, 6.97MB/s]\n",
      " 40%|####      | 3.75M/9.27M [00:00<00:00, 7.99MB/s]\n",
      " 49%|####9     | 4.56M/9.27M [00:00<00:00, 5.97MB/s]\n",
      " 57%|#####6    | 5.25M/9.27M [00:00<00:00, 6.25MB/s]\n",
      " 64%|######4   | 5.95M/9.27M [00:01<00:00, 6.49MB/s]\n",
      " 71%|#######1  | 6.62M/9.27M [00:01<00:00, 6.63MB/s]\n",
      " 79%|#######8  | 7.30M/9.27M [00:01<00:00, 6.61MB/s]\n",
      " 86%|########5 | 7.95M/9.27M [00:01<00:00, 6.31MB/s]\n",
      " 93%|#########2| 8.58M/9.27M [00:01<00:00, 6.35MB/s]\n",
      "100%|##########| 9.27M/9.27M [00:01<00:00, 5.21MB/s]\n",
      "\n",
      "  0%|          | 0.00/7.57M [00:00<?, ?B/s]\n",
      "  2%|2         | 192k/7.57M [00:00<00:04, 1.85MB/s]\n",
      "  7%|7         | 544k/7.57M [00:00<00:02, 2.50MB/s]\n",
      " 22%|##2       | 1.69M/7.57M [00:00<00:01, 5.75MB/s]\n",
      " 38%|###7      | 2.86M/7.57M [00:00<00:00, 7.58MB/s]\n",
      " 50%|####9     | 3.78M/7.57M [00:00<00:00, 8.02MB/s]\n",
      " 60%|######    | 4.55M/7.57M [00:00<00:00, 6.30MB/s]\n",
      " 69%|######8   | 5.20M/7.57M [00:00<00:00, 5.64MB/s]\n",
      " 78%|#######8  | 5.94M/7.57M [00:01<00:00, 6.13MB/s]\n",
      " 87%|########6 | 6.56M/7.57M [00:01<00:00, 6.16MB/s]\n",
      " 96%|#########6| 7.28M/7.57M [00:01<00:00, 6.52MB/s]\n",
      "100%|##########| 7.57M/7.57M [00:01<00:00, 4.90MB/s]\n"
     ]
    }
   ],
   "source": [
    "if fls.env=='vast':\n",
    "    do_upload('jeroencottaar/my-flg-models', '/flagellar/models/unet*.pickle')\n",
    "else:\n",
    "    do_upload('jeroencottaar/my-flg-models', 'd:\\\\flagellar\\\\models\\\\unet*.pickle')"
   ]
  },
  {
   "cell_type": "code",
   "execution_count": null,
   "id": "82340bc6-813a-4557-9cd2-f14170f3afde",
   "metadata": {},
   "outputs": [],
   "source": []
  },
  {
   "cell_type": "code",
   "execution_count": null,
   "id": "0b22877d-187c-4675-af9c-f19ba65cffa3",
   "metadata": {},
   "outputs": [],
   "source": []
  }
 ],
 "metadata": {
  "kernelspec": {
   "display_name": "Python 3 (ipykernel)",
   "language": "python",
   "name": "python3"
  },
  "language_info": {
   "codemirror_mode": {
    "name": "ipython",
    "version": 3
   },
   "file_extension": ".py",
   "mimetype": "text/x-python",
   "name": "python",
   "nbconvert_exporter": "python",
   "pygments_lexer": "ipython3",
   "version": "3.10.14"
  }
 },
 "nbformat": 4,
 "nbformat_minor": 5
}
