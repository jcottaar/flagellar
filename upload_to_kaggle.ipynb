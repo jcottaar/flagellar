{
 "cells": [
  {
   "cell_type": "code",
   "execution_count": 1,
   "id": "865d54d7-b239-49eb-be92-484d63c870d5",
   "metadata": {},
   "outputs": [],
   "source": [
    "import sys\n",
    "# sys.path.append('d:/flagellar/code/core')\n",
    "# sys.path.append('/flagellar/code/core')\n",
    "# sys.path.append('/flagellar/input/my-flg-library/')\n",
    "# import flg_support as fls"
   ]
  },
  {
   "cell_type": "code",
   "execution_count": 2,
   "id": "b89a01db-05de-429b-85df-4fbc9e640029",
   "metadata": {},
   "outputs": [],
   "source": [
    "# !mkdir /root/.config/kaggle/\n",
    "# !cp /kaggle/kaggle.json /root/.config/kaggle/\n",
    "# !chmod 600 /root/.config/kaggle/kaggle.json"
   ]
  },
  {
   "cell_type": "code",
   "execution_count": 8,
   "id": "10bcf65e-a373-42cc-ba2f-3d0197112ec4",
   "metadata": {},
   "outputs": [
    {
     "name": "stdout",
     "output_type": "stream",
     "text": [
      "Warning: Looks like you're using an outdated API Version, please consider updating (server 1.7.4.2 / client 1.6.17)\n",
      "Downloaded metadata to /kaggle_temp/dataset-metadata.json\n",
      "Starting upload for file flg_diagnostics.py\n",
      "Warning: Looks like you're using an outdated API Version, please consider updating (server 1.7.4.2 / client 1.6.17)\n",
      "100%|██████████████████████████████████████| 2.38k/2.38k [00:00<00:00, 3.11kB/s]\n",
      "Upload successful: flg_diagnostics.py (2KB)\n",
      "Starting upload for file flg_model.py\n",
      "100%|██████████████████████████████████████| 3.69k/3.69k [00:00<00:00, 4.27kB/s]\n",
      "Upload successful: flg_model.py (4KB)\n",
      "Starting upload for file flg_numerics.py\n",
      "100%|██████████████████████████████████████| 4.38k/4.38k [00:00<00:00, 5.27kB/s]\n",
      "Upload successful: flg_numerics.py (4KB)\n",
      "Starting upload for file flg_support.py\n",
      "100%|██████████████████████████████████████| 37.3k/37.3k [00:00<00:00, 41.9kB/s]\n",
      "Upload successful: flg_support.py (37KB)\n",
      "Starting upload for file flg_unet.py\n",
      "100%|██████████████████████████████████████| 12.7k/12.7k [00:00<00:00, 14.4kB/s]\n",
      "Upload successful: flg_unet.py (13KB)\n",
      "Starting upload for file flg_unet_resnet18_3layer.py\n",
      "100%|██████████████████████████████████████| 4.81k/4.81k [00:00<00:00, 5.34kB/s]\n",
      "Upload successful: flg_unet_resnet18_3layer.py (5KB)\n",
      "Starting upload for file flg_unet_resnet34_3layer.py\n",
      "100%|██████████████████████████████████████| 4.89k/4.89k [00:00<00:00, 6.11kB/s]\n",
      "Upload successful: flg_unet_resnet34_3layer.py (5KB)\n",
      "Dataset version is being created. Please check progress at https://www.kaggle.com/jeroencottaar/my-flagellar-library\n"
     ]
    }
   ],
   "source": [
    "#assert fls.env == 'vast'\n",
    "!rm -rf /kaggle_temp/\n",
    "!mkdir /kaggle_temp/\n",
    "!kaggle datasets metadata -p /kaggle_temp/ jeroencottaar/my-flagellar-library\n",
    "!cp /flagellar/code/core/*.py /kaggle_temp/\n",
    "!kaggle datasets version -p /kaggle_temp/ -m 'Update'"
   ]
  },
  {
   "cell_type": "code",
   "execution_count": null,
   "id": "9a8bfaf7-dfb5-4555-83ae-c8f2365f4cf2",
   "metadata": {},
   "outputs": [],
   "source": []
  }
 ],
 "metadata": {
  "kernelspec": {
   "display_name": "Python 3 (ipykernel)",
   "language": "python",
   "name": "python3"
  },
  "language_info": {
   "codemirror_mode": {
    "name": "ipython",
    "version": 3
   },
   "file_extension": ".py",
   "mimetype": "text/x-python",
   "name": "python",
   "nbconvert_exporter": "python",
   "pygments_lexer": "ipython3",
   "version": "3.11.10"
  }
 },
 "nbformat": 4,
 "nbformat_minor": 5
}
