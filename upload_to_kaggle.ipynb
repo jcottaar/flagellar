{
 "cells": [
  {
   "cell_type": "code",
   "execution_count": 1,
   "id": "865d54d7-b239-49eb-be92-484d63c870d5",
   "metadata": {},
   "outputs": [
    {
     "name": "stdout",
     "output_type": "stream",
     "text": [
      "MainProcess\n"
     ]
    }
   ],
   "source": [
    "import sys\n",
    "import subprocess\n",
    "sys.path.append('d:/flagellar/code/core')\n",
    "sys.path.append('/flagellar/code/core')\n",
    "sys.path.append('/flagellar/input/my-flg-library/')\n",
    "import flg_support as fls\n",
    "import git \n",
    "repo = git.Repo(search_parent_directories=True)\n",
    "git_commit_id = repo.head.object.hexsha"
   ]
  },
  {
   "cell_type": "code",
   "execution_count": 2,
   "id": "5a2448f1-fd23-4cda-9193-430df96f08b4",
   "metadata": {},
   "outputs": [],
   "source": [
    "# !mkdir /root/.config/kaggle/\n",
    "# !cp /kaggle/kaggle.json /root/.config/kaggle/\n",
    "# !chmod 600 /root/.config/kaggle/kaggle.json"
   ]
  },
  {
   "cell_type": "code",
   "execution_count": 3,
   "id": "6dfdc927-8258-45b7-aed2-9a3fc3348bbd",
   "metadata": {},
   "outputs": [],
   "source": [
    "def do_upload(library_name, local_dir):\n",
    "    if fls.env=='vast':\n",
    "        subprocess.run('rm -rf /kaggle_temp', shell=True)\n",
    "        subprocess.run('mkdir /kaggle_temp/', shell=True)\n",
    "        subprocess.run('kaggle datasets metadata -p /kaggle_temp/ ' + library_name, shell=True)\n",
    "        subprocess.run('cp '+local_dir+' /kaggle_temp/', shell=True)\n",
    "        subprocess.run('kaggle datasets version -p /kaggle_temp/ -m '+git_commit_id, shell=True)\n",
    "    else:\n",
    "        subprocess.run('cd d:/ && rd /s /q kaggle_temp', shell=True)\n",
    "        subprocess.run('cd d:/ && d: && mkdir kaggle_temp', shell=True)\n",
    "        subprocess.run('kaggle datasets metadata -p d:/kaggle_temp/ ' + library_name, shell=True)\n",
    "        subprocess.run('cd d:/kaggle_temp/ && d: && copy '+local_dir+' d:', shell=True)\n",
    "        subprocess.run('kaggle datasets version -p d:\\\\kaggle_temp\\\\ -m '+git_commit_id, shell=True)"
   ]
  },
  {
   "cell_type": "code",
   "execution_count": 4,
   "id": "10bcf65e-a373-42cc-ba2f-3d0197112ec4",
   "metadata": {},
   "outputs": [],
   "source": [
    "if fls.env=='vast':\n",
    "    do_upload('jeroencottaar/my-flagellar-library', '/flagellar/code/core/*.*')\n",
    "else:\n",
    "    do_upload('jeroencottaar/my-flagellar-library', 'd:\\\\flagellar\\\\code\\\\core\\\\*.*')"
   ]
  },
  {
   "cell_type": "code",
   "execution_count": 5,
   "id": "9a8bfaf7-dfb5-4555-83ae-c8f2365f4cf2",
   "metadata": {},
   "outputs": [],
   "source": [
    "# if fls.env=='vast':\n",
    "#     do_upload('jeroencottaar/my-flg-models', '/flagellar/models/*.*')\n",
    "# else:\n",
    "#     do_upload('jeroencottaar/my-flg-models', 'd:\\\\flagellar\\\\models\\\\*.*')"
   ]
  },
  {
   "cell_type": "code",
   "execution_count": null,
   "id": "82340bc6-813a-4557-9cd2-f14170f3afde",
   "metadata": {},
   "outputs": [],
   "source": []
  },
  {
   "cell_type": "code",
   "execution_count": null,
   "id": "0b22877d-187c-4675-af9c-f19ba65cffa3",
   "metadata": {},
   "outputs": [],
   "source": []
  }
 ],
 "metadata": {
  "kernelspec": {
   "display_name": "Python 3 (ipykernel)",
   "language": "python",
   "name": "python3"
  },
  "language_info": {
   "codemirror_mode": {
    "name": "ipython",
    "version": 3
   },
   "file_extension": ".py",
   "mimetype": "text/x-python",
   "name": "python",
   "nbconvert_exporter": "python",
   "pygments_lexer": "ipython3",
   "version": "3.10.14"
  }
 },
 "nbformat": 4,
 "nbformat_minor": 5
}
